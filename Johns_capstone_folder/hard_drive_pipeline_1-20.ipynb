{
 "cells": [
  {
   "cell_type": "markdown",
   "metadata": {},
   "source": [
    "# Which hard drives are the most reliable? "
   ]
  },
  {
   "cell_type": "markdown",
   "metadata": {},
   "source": [
    "## Project Plan"
   ]
  },
  {
   "cell_type": "markdown",
   "metadata": {},
   "source": [
    "Goal\n",
    "- Determine which hard drives are the most reliable by classifing and predicting early hard drive failures. \n",
    "\n",
    "Hypotheses (MVP)\n",
    "- The 5 SMART (Self-Monitoring, Analysis and Reporting Technology) stats identified by Backblaze will indicate device hard drive failure\n",
    "- Hard drive fail rates will vary by model \n",
    "- Hard drives fail rates will vary by manufacturer \n",
    "\n",
    "Hypotheses (Futher Iterations)\n",
    "- Industry and consumer units will perform about the same\n",
    "- Helium or non-helium would not have significantly different failure rates \n",
    "- Helium or non-helium will not affect lifespan of drives "
   ]
  },
  {
   "cell_type": "code",
   "execution_count": 1,
   "metadata": {},
   "outputs": [],
   "source": [
    "# data wrangling\n",
    "import pandas as pd\n",
    "import numpy as np\n",
    "\n",
    "# visualizations\n",
    "import matplotlib.pyplot as plt\n",
    "import seaborn as sns\n",
    "\n",
    "# py files\n",
    "import acquire\n",
    "import prepare\n",
    "import explore\n",
    "import model"
   ]
  },
  {
   "cell_type": "markdown",
   "metadata": {},
   "source": [
    "## Acquire"
   ]
  },
  {
   "cell_type": "markdown",
   "metadata": {},
   "source": [
    "The raw data is available on Backblaze.com. For this analysis, the hard drive data from 2016, 2017, 2108, and 2019 was utilized. The files were downloaded to a local computer and the files were unzipped. The files were renamed to the format, \"data_Qx_201x\", and placed in a folder titled \"data\". \n",
    "\n",
    "The `acquire.acquire_agg_data` function reads in the data, aggregates it, and returns the dataframe in pandas. \n",
    "- Using Spark, a dataframe was created from each directory of csv files. The dataframes are concated together with their common columns. This gave a dataframe with 95 columns and 121,390,247 rows. \n",
    "- Backblaze identified 5 SMART stats that predict hard drive failure (SMART 5, 187, 188, 197, 198). The max value of each of these stats were extracted and the dataframe was aggregated by serial number. This reduced the dataframe to 9 columns and 169,073 rows. \n",
    "- The spark dataframe is converted to pandas \n",
    "- The pandas dataframe is saved as \"hard_drives_smart_5.csv\" for future use\n",
    "\n",
    "This csv is linked in the README and can be downloaded. If \"hard_drives_smart_5.csv\" is in the working directory, `acquire.acquire_agg_data` will read from the csv instead recreating the dataframe.  "
   ]
  },
  {
   "cell_type": "code",
   "execution_count": 2,
   "metadata": {},
   "outputs": [],
   "source": [
    "df = acquire.acquire_agg_data()"
   ]
  },
  {
   "cell_type": "code",
   "execution_count": 3,
   "metadata": {},
   "outputs": [
    {
     "name": "stdout",
     "output_type": "stream",
     "text": [
      "<class 'pandas.core.frame.DataFrame'>\n",
      "RangeIndex: 169073 entries, 0 to 169072\n",
      "Data columns (total 10 columns):\n",
      "serial_number         169072 non-null object\n",
      "model                 169073 non-null object\n",
      "capacity_bytes        169073 non-null int64\n",
      "max(failure)          169073 non-null int64\n",
      "max(smart_9_raw)      161975 non-null float64\n",
      "max(smart_5_raw)      161851 non-null float64\n",
      "max(smart_187_raw)    104189 non-null float64\n",
      "max(smart_188_raw)    104179 non-null float64\n",
      "max(smart_197_raw)    161841 non-null float64\n",
      "max(smart_198_raw)    161841 non-null float64\n",
      "dtypes: float64(6), int64(2), object(2)\n",
      "memory usage: 12.9+ MB\n"
     ]
    }
   ],
   "source": [
    "df.info()"
   ]
  },
  {
   "cell_type": "code",
   "execution_count": 4,
   "metadata": {},
   "outputs": [
    {
     "data": {
      "text/html": [
       "<div>\n",
       "<style scoped>\n",
       "    .dataframe tbody tr th:only-of-type {\n",
       "        vertical-align: middle;\n",
       "    }\n",
       "\n",
       "    .dataframe tbody tr th {\n",
       "        vertical-align: top;\n",
       "    }\n",
       "\n",
       "    .dataframe thead th {\n",
       "        text-align: right;\n",
       "    }\n",
       "</style>\n",
       "<table border=\"1\" class=\"dataframe\">\n",
       "  <thead>\n",
       "    <tr style=\"text-align: right;\">\n",
       "      <th></th>\n",
       "      <th>serial_number</th>\n",
       "      <th>model</th>\n",
       "      <th>capacity_bytes</th>\n",
       "      <th>max(failure)</th>\n",
       "      <th>max(smart_9_raw)</th>\n",
       "      <th>max(smart_5_raw)</th>\n",
       "      <th>max(smart_187_raw)</th>\n",
       "      <th>max(smart_188_raw)</th>\n",
       "      <th>max(smart_197_raw)</th>\n",
       "      <th>max(smart_198_raw)</th>\n",
       "    </tr>\n",
       "  </thead>\n",
       "  <tbody>\n",
       "    <tr>\n",
       "      <td>0</td>\n",
       "      <td>PL1311LAG1SJAA</td>\n",
       "      <td>Hitachi HDS5C4040ALE630</td>\n",
       "      <td>4000787030016</td>\n",
       "      <td>0</td>\n",
       "      <td>43819.0</td>\n",
       "      <td>0.0</td>\n",
       "      <td>NaN</td>\n",
       "      <td>NaN</td>\n",
       "      <td>0.0</td>\n",
       "      <td>0.0</td>\n",
       "    </tr>\n",
       "    <tr>\n",
       "      <td>1</td>\n",
       "      <td>Z305KB36</td>\n",
       "      <td>ST4000DM000</td>\n",
       "      <td>4000787030016</td>\n",
       "      <td>0</td>\n",
       "      <td>31045.0</td>\n",
       "      <td>0.0</td>\n",
       "      <td>0.0</td>\n",
       "      <td>0.0</td>\n",
       "      <td>0.0</td>\n",
       "      <td>0.0</td>\n",
       "    </tr>\n",
       "    <tr>\n",
       "      <td>2</td>\n",
       "      <td>MJ0351YNG9MZXA</td>\n",
       "      <td>Hitachi HDS5C3030ALA630</td>\n",
       "      <td>3000592982016</td>\n",
       "      <td>0</td>\n",
       "      <td>41668.0</td>\n",
       "      <td>0.0</td>\n",
       "      <td>NaN</td>\n",
       "      <td>NaN</td>\n",
       "      <td>0.0</td>\n",
       "      <td>0.0</td>\n",
       "    </tr>\n",
       "    <tr>\n",
       "      <td>3</td>\n",
       "      <td>ZA11NHSN</td>\n",
       "      <td>ST8000DM002</td>\n",
       "      <td>8001563222016</td>\n",
       "      <td>0</td>\n",
       "      <td>26284.0</td>\n",
       "      <td>0.0</td>\n",
       "      <td>0.0</td>\n",
       "      <td>0.0</td>\n",
       "      <td>0.0</td>\n",
       "      <td>0.0</td>\n",
       "    </tr>\n",
       "    <tr>\n",
       "      <td>4</td>\n",
       "      <td>MJ1311YNG2ZSEA</td>\n",
       "      <td>Hitachi HDS5C3030ALA630</td>\n",
       "      <td>3000592982016</td>\n",
       "      <td>0</td>\n",
       "      <td>47994.0</td>\n",
       "      <td>0.0</td>\n",
       "      <td>NaN</td>\n",
       "      <td>NaN</td>\n",
       "      <td>0.0</td>\n",
       "      <td>0.0</td>\n",
       "    </tr>\n",
       "  </tbody>\n",
       "</table>\n",
       "</div>"
      ],
      "text/plain": [
       "    serial_number                    model  capacity_bytes  max(failure)  \\\n",
       "0  PL1311LAG1SJAA  Hitachi HDS5C4040ALE630   4000787030016             0   \n",
       "1        Z305KB36              ST4000DM000   4000787030016             0   \n",
       "2  MJ0351YNG9MZXA  Hitachi HDS5C3030ALA630   3000592982016             0   \n",
       "3        ZA11NHSN              ST8000DM002   8001563222016             0   \n",
       "4  MJ1311YNG2ZSEA  Hitachi HDS5C3030ALA630   3000592982016             0   \n",
       "\n",
       "   max(smart_9_raw)  max(smart_5_raw)  max(smart_187_raw)  max(smart_188_raw)  \\\n",
       "0           43819.0               0.0                 NaN                 NaN   \n",
       "1           31045.0               0.0                 0.0                 0.0   \n",
       "2           41668.0               0.0                 NaN                 NaN   \n",
       "3           26284.0               0.0                 0.0                 0.0   \n",
       "4           47994.0               0.0                 NaN                 NaN   \n",
       "\n",
       "   max(smart_197_raw)  max(smart_198_raw)  \n",
       "0                 0.0                 0.0  \n",
       "1                 0.0                 0.0  \n",
       "2                 0.0                 0.0  \n",
       "3                 0.0                 0.0  \n",
       "4                 0.0                 0.0  "
      ]
     },
     "execution_count": 4,
     "metadata": {},
     "output_type": "execute_result"
    }
   ],
   "source": [
    "df.head()"
   ]
  },
  {
   "cell_type": "code",
   "execution_count": 5,
   "metadata": {},
   "outputs": [
    {
     "data": {
      "text/html": [
       "<div>\n",
       "<style scoped>\n",
       "    .dataframe tbody tr th:only-of-type {\n",
       "        vertical-align: middle;\n",
       "    }\n",
       "\n",
       "    .dataframe tbody tr th {\n",
       "        vertical-align: top;\n",
       "    }\n",
       "\n",
       "    .dataframe thead th {\n",
       "        text-align: right;\n",
       "    }\n",
       "</style>\n",
       "<table border=\"1\" class=\"dataframe\">\n",
       "  <thead>\n",
       "    <tr style=\"text-align: right;\">\n",
       "      <th></th>\n",
       "      <th>capacity_bytes</th>\n",
       "      <th>max(failure)</th>\n",
       "      <th>max(smart_9_raw)</th>\n",
       "      <th>max(smart_5_raw)</th>\n",
       "      <th>max(smart_187_raw)</th>\n",
       "      <th>max(smart_188_raw)</th>\n",
       "      <th>max(smart_197_raw)</th>\n",
       "      <th>max(smart_198_raw)</th>\n",
       "    </tr>\n",
       "  </thead>\n",
       "  <tbody>\n",
       "    <tr>\n",
       "      <td>count</td>\n",
       "      <td>1.690730e+05</td>\n",
       "      <td>169073.000000</td>\n",
       "      <td>161975.000000</td>\n",
       "      <td>161851.000000</td>\n",
       "      <td>104189.000000</td>\n",
       "      <td>1.041790e+05</td>\n",
       "      <td>161841.000000</td>\n",
       "      <td>161841.000000</td>\n",
       "    </tr>\n",
       "    <tr>\n",
       "      <td>mean</td>\n",
       "      <td>6.829480e+12</td>\n",
       "      <td>0.035085</td>\n",
       "      <td>23858.714839</td>\n",
       "      <td>69.851802</td>\n",
       "      <td>5.996190</td>\n",
       "      <td>3.264823e+08</td>\n",
       "      <td>6.265940</td>\n",
       "      <td>5.913261</td>\n",
       "    </tr>\n",
       "    <tr>\n",
       "      <td>std</td>\n",
       "      <td>3.981103e+12</td>\n",
       "      <td>0.183996</td>\n",
       "      <td>13357.230448</td>\n",
       "      <td>1393.236993</td>\n",
       "      <td>541.364663</td>\n",
       "      <td>3.014661e+10</td>\n",
       "      <td>452.148242</td>\n",
       "      <td>447.550251</td>\n",
       "    </tr>\n",
       "    <tr>\n",
       "      <td>min</td>\n",
       "      <td>-1.000000e+00</td>\n",
       "      <td>0.000000</td>\n",
       "      <td>0.000000</td>\n",
       "      <td>0.000000</td>\n",
       "      <td>0.000000</td>\n",
       "      <td>0.000000e+00</td>\n",
       "      <td>0.000000</td>\n",
       "      <td>0.000000</td>\n",
       "    </tr>\n",
       "    <tr>\n",
       "      <td>25%</td>\n",
       "      <td>4.000787e+12</td>\n",
       "      <td>0.000000</td>\n",
       "      <td>13727.000000</td>\n",
       "      <td>0.000000</td>\n",
       "      <td>0.000000</td>\n",
       "      <td>0.000000e+00</td>\n",
       "      <td>0.000000</td>\n",
       "      <td>0.000000</td>\n",
       "    </tr>\n",
       "    <tr>\n",
       "      <td>50%</td>\n",
       "      <td>4.000787e+12</td>\n",
       "      <td>0.000000</td>\n",
       "      <td>22932.000000</td>\n",
       "      <td>0.000000</td>\n",
       "      <td>0.000000</td>\n",
       "      <td>0.000000e+00</td>\n",
       "      <td>0.000000</td>\n",
       "      <td>0.000000</td>\n",
       "    </tr>\n",
       "    <tr>\n",
       "      <td>75%</td>\n",
       "      <td>1.200014e+13</td>\n",
       "      <td>0.000000</td>\n",
       "      <td>34866.000000</td>\n",
       "      <td>0.000000</td>\n",
       "      <td>0.000000</td>\n",
       "      <td>0.000000e+00</td>\n",
       "      <td>0.000000</td>\n",
       "      <td>0.000000</td>\n",
       "    </tr>\n",
       "    <tr>\n",
       "      <td>max</td>\n",
       "      <td>1.400052e+13</td>\n",
       "      <td>1.000000</td>\n",
       "      <td>90477.000000</td>\n",
       "      <td>65392.000000</td>\n",
       "      <td>65535.000000</td>\n",
       "      <td>8.933668e+12</td>\n",
       "      <td>142616.000000</td>\n",
       "      <td>142616.000000</td>\n",
       "    </tr>\n",
       "  </tbody>\n",
       "</table>\n",
       "</div>"
      ],
      "text/plain": [
       "       capacity_bytes   max(failure)  max(smart_9_raw)  max(smart_5_raw)  \\\n",
       "count    1.690730e+05  169073.000000     161975.000000     161851.000000   \n",
       "mean     6.829480e+12       0.035085      23858.714839         69.851802   \n",
       "std      3.981103e+12       0.183996      13357.230448       1393.236993   \n",
       "min     -1.000000e+00       0.000000          0.000000          0.000000   \n",
       "25%      4.000787e+12       0.000000      13727.000000          0.000000   \n",
       "50%      4.000787e+12       0.000000      22932.000000          0.000000   \n",
       "75%      1.200014e+13       0.000000      34866.000000          0.000000   \n",
       "max      1.400052e+13       1.000000      90477.000000      65392.000000   \n",
       "\n",
       "       max(smart_187_raw)  max(smart_188_raw)  max(smart_197_raw)  \\\n",
       "count       104189.000000        1.041790e+05       161841.000000   \n",
       "mean             5.996190        3.264823e+08            6.265940   \n",
       "std            541.364663        3.014661e+10          452.148242   \n",
       "min              0.000000        0.000000e+00            0.000000   \n",
       "25%              0.000000        0.000000e+00            0.000000   \n",
       "50%              0.000000        0.000000e+00            0.000000   \n",
       "75%              0.000000        0.000000e+00            0.000000   \n",
       "max          65535.000000        8.933668e+12       142616.000000   \n",
       "\n",
       "       max(smart_198_raw)  \n",
       "count       161841.000000  \n",
       "mean             5.913261  \n",
       "std            447.550251  \n",
       "min              0.000000  \n",
       "25%              0.000000  \n",
       "50%              0.000000  \n",
       "75%              0.000000  \n",
       "max         142616.000000  "
      ]
     },
     "execution_count": 5,
     "metadata": {},
     "output_type": "execute_result"
    }
   ],
   "source": [
    "df.describe()"
   ]
  },
  {
   "cell_type": "markdown",
   "metadata": {},
   "source": [
    "## Prepare"
   ]
  },
  {
   "cell_type": "markdown",
   "metadata": {},
   "source": [
    "The `prepare.prepare` function reads in the dataframe and applies the following changes:\n",
    "- Converts capacity column from bytes to gigabytes.\n",
    "- Converts max(smart_9_raw) from hours to years.\n",
    "- Creates a new column for manfacturer.\n",
    "- Renames all columns appropriately.\n",
    "- Reorders columns for understandability. "
   ]
  },
  {
   "cell_type": "code",
   "execution_count": 6,
   "metadata": {},
   "outputs": [],
   "source": [
    "df = prepare.prepare(df)"
   ]
  },
  {
   "cell_type": "markdown",
   "metadata": {},
   "source": [
    "The `prepare.unique` function reads in the dataframe and removes duplicated serial numbers that were created during aggregation."
   ]
  },
  {
   "cell_type": "code",
   "execution_count": 7,
   "metadata": {},
   "outputs": [
    {
     "data": {
      "text/plain": [
       " 4.0     64886\n",
       " 12.0    50729\n",
       " 8.0     26108\n",
       "-0.0      7031\n",
       " 3.0      6789\n",
       " 2.0      4678\n",
       " 0.5      2607\n",
       " 6.0      2411\n",
       " 14.0     1302\n",
       " 10.0     1255\n",
       " 1.0       388\n",
       " 0.3       327\n",
       " 1.5       267\n",
       " 0.2       210\n",
       " 5.0        46\n",
       " 0.1        39\n",
       "Name: capacity_terabytes, dtype: int64"
      ]
     },
     "execution_count": 7,
     "metadata": {},
     "output_type": "execute_result"
    }
   ],
   "source": [
    "df.capacity_terabytes.value_counts()"
   ]
  },
  {
   "cell_type": "code",
   "execution_count": 8,
   "metadata": {},
   "outputs": [],
   "source": [
    "df = prepare.unique(df)"
   ]
  },
  {
   "cell_type": "code",
   "execution_count": 9,
   "metadata": {},
   "outputs": [
    {
     "data": {
      "text/plain": [
       "4.0     64878\n",
       "12.0    50729\n",
       "8.0     26106\n",
       "3.0      6789\n",
       "2.0      4678\n",
       "0.5      2607\n",
       "6.0      2411\n",
       "14.0     1302\n",
       "10.0     1255\n",
       "1.0       388\n",
       "0.3       327\n",
       "1.5       267\n",
       "0.2       210\n",
       "5.0        46\n",
       "0.1        32\n",
       "Name: capacity_terabytes, dtype: int64"
      ]
     },
     "execution_count": 9,
     "metadata": {},
     "output_type": "execute_result"
    }
   ],
   "source": [
    "df.capacity_terabytes.value_counts()"
   ]
  },
  {
   "cell_type": "code",
   "execution_count": 10,
   "metadata": {},
   "outputs": [
    {
     "name": "stdout",
     "output_type": "stream",
     "text": [
      "<class 'pandas.core.frame.DataFrame'>\n",
      "Int64Index: 162025 entries, 0 to 169067\n",
      "Data columns (total 11 columns):\n",
      "serial_number                    162024 non-null object\n",
      "manufacturer                     162025 non-null object\n",
      "model                            162025 non-null object\n",
      "capacity_terabytes               162025 non-null float64\n",
      "failure                          162025 non-null int64\n",
      "drive_age_in_years               161965 non-null float64\n",
      "reallocated_sectors_count        161841 non-null float64\n",
      "reported_uncorrectable_errors    104186 non-null float64\n",
      "command_timeout                  104176 non-null float64\n",
      "current_pending_sector_count     161831 non-null float64\n",
      "uncorrectable_sector_count       161831 non-null float64\n",
      "dtypes: float64(7), int64(1), object(3)\n",
      "memory usage: 14.8+ MB\n"
     ]
    }
   ],
   "source": [
    "df.info()"
   ]
  },
  {
   "cell_type": "code",
   "execution_count": 11,
   "metadata": {},
   "outputs": [
    {
     "data": {
      "text/plain": [
       "serial_number                        1\n",
       "manufacturer                         0\n",
       "model                                0\n",
       "capacity_terabytes                   0\n",
       "failure                              0\n",
       "drive_age_in_years                  60\n",
       "reallocated_sectors_count          184\n",
       "reported_uncorrectable_errors    57839\n",
       "command_timeout                  57849\n",
       "current_pending_sector_count       194\n",
       "uncorrectable_sector_count         194\n",
       "dtype: int64"
      ]
     },
     "execution_count": 11,
     "metadata": {},
     "output_type": "execute_result"
    }
   ],
   "source": [
    "df.isnull().sum()"
   ]
  },
  {
   "cell_type": "markdown",
   "metadata": {},
   "source": [
    "## Explore"
   ]
  },
  {
   "cell_type": "markdown",
   "metadata": {},
   "source": [
    "Questions to answer:\n",
    "- Does the data we obtained make sense? \n",
    "- Determine how to treat null values.\n",
    "- What does our data look like?\n",
    "    - How many different models?\n",
    "    - How many different manufacturers?\n",
    "    - How many different gigabytes sizes?\n",
    "    - How many models are there for each manufacturer?\n",
    "    - Are model numbers unique to capacity?\n",
    "    - Are there any observations that need to be dropped (why, how many)?\n",
    "- How do the lifespans of hard drives that have failed compared to hard drives that have not failed?\n",
    "- How do non-zero SMART stat values compare to among fail and non-fail?\n",
    "- Does the average age of drive vary by manufacturer? model number?\n",
    "- Do failure rates vary by model number?\n",
    "- Determine early failure cutoff by analyzing data.\n",
    "- Which SMART attributes correlate most strongly with early failure? \n",
    "- Which features or combination of features correlate with early failure?"
   ]
  },
  {
   "cell_type": "markdown",
   "metadata": {},
   "source": [
    "#### Treat null values"
   ]
  },
  {
   "cell_type": "code",
   "execution_count": 12,
   "metadata": {},
   "outputs": [
    {
     "data": {
      "text/plain": [
       "serial_number                        1\n",
       "manufacturer                         0\n",
       "model                                0\n",
       "capacity_terabytes                   0\n",
       "failure                              0\n",
       "drive_age_in_years                  60\n",
       "reallocated_sectors_count          184\n",
       "reported_uncorrectable_errors    57839\n",
       "command_timeout                  57849\n",
       "current_pending_sector_count       194\n",
       "uncorrectable_sector_count         194\n",
       "dtype: int64"
      ]
     },
     "execution_count": 12,
     "metadata": {},
     "output_type": "execute_result"
    }
   ],
   "source": [
    "df.isnull().sum()"
   ]
  },
  {
   "cell_type": "code",
   "execution_count": 13,
   "metadata": {},
   "outputs": [
    {
     "data": {
      "text/plain": [
       "Index(['serial_number', 'manufacturer', 'model', 'capacity_terabytes',\n",
       "       'failure', 'drive_age_in_years', 'reallocated_sectors_count',\n",
       "       'reported_uncorrectable_errors', 'command_timeout',\n",
       "       'current_pending_sector_count', 'uncorrectable_sector_count'],\n",
       "      dtype='object')"
      ]
     },
     "execution_count": 13,
     "metadata": {},
     "output_type": "execute_result"
    }
   ],
   "source": [
    "df.columns"
   ]
  },
  {
   "cell_type": "code",
   "execution_count": 14,
   "metadata": {},
   "outputs": [
    {
     "data": {
      "image/png": "[encoded data removed]",
      "text/plain": [
       "<Figure size 432x288 with 1 Axes>"
      ]
     },
     "metadata": {
      "needs_background": "light"
     },
     "output_type": "display_data"
    },
    {
     "data": {
      "image/png": "[encoded data removed]",
      "text/plain": [
       "<Figure size 432x288 with 1 Axes>"
      ]
     },
     "metadata": {
      "needs_background": "light"
     },
     "output_type": "display_data"
    },
    {
     "data": {
      "image/png": "[encoded data removed]",
      "text/plain": [
       "<Figure size 432x288 with 1 Axes>"
      ]
     },
     "metadata": {
      "needs_background": "light"
     },
     "output_type": "display_data"
    },
    {
     "data": {
      "image/png": "[encoded data removed]",
      "text/plain": [
       "<Figure size 432x288 with 1 Axes>"
      ]
     },
     "metadata": {
      "needs_background": "light"
     },
     "output_type": "display_data"
    },
    {
     "data": {
      "image/png": "[encoded data removed]",
      "text/plain": [
       "<Figure size 432x288 with 1 Axes>"
      ]
     },
     "metadata": {
      "needs_background": "light"
     },
     "output_type": "display_data"
    }
   ],
   "source": [
    "for col in df.columns[6:]:\n",
    "    sns.scatterplot(data=df, y=df[col], x=df.drive_age_in_years, alpha=.3)\n",
    "    plt.title(col)\n",
    "    plt.show()"
   ]
  },
  {
   "cell_type": "markdown",
   "metadata": {},
   "source": [
    "> It is seen for both \"reported_uncorrectable_errors\" and \"command_timeout\" that the vast majority of values are zero. therefore, the nulls in those columns are replaced with zeros. For the remaining nulls in \"reallocated_sectors_count\", \"current_pending_sector_count\" and \"uncorrecteable_sector_count\", there are less than 200 for each respective column. Therefore, those rows containing nulls are removed. This is performed in the `prepare.treat_nulls` function."
   ]
  },
  {
   "cell_type": "code",
   "execution_count": 15,
   "metadata": {},
   "outputs": [],
   "source": [
    "df = prepare.treat_nulls(df)"
   ]
  },
  {
   "cell_type": "code",
   "execution_count": 16,
   "metadata": {},
   "outputs": [
    {
     "data": {
      "text/plain": [
       "serial_number                    0\n",
       "manufacturer                     0\n",
       "model                            0\n",
       "capacity_terabytes               0\n",
       "failure                          0\n",
       "drive_age_in_years               0\n",
       "reallocated_sectors_count        0\n",
       "reported_uncorrectable_errors    0\n",
       "command_timeout                  0\n",
       "current_pending_sector_count     0\n",
       "uncorrectable_sector_count       0\n",
       "dtype: int64"
      ]
     },
     "execution_count": 16,
     "metadata": {},
     "output_type": "execute_result"
    }
   ],
   "source": [
    "df.isnull().sum()"
   ]
  },
  {
   "cell_type": "code",
   "execution_count": 17,
   "metadata": {},
   "outputs": [
    {
     "name": "stdout",
     "output_type": "stream",
     "text": [
      "<class 'pandas.core.frame.DataFrame'>\n",
      "Int64Index: 161830 entries, 0 to 169067\n",
      "Data columns (total 11 columns):\n",
      "serial_number                    161830 non-null object\n",
      "manufacturer                     161830 non-null object\n",
      "model                            161830 non-null object\n",
      "capacity_terabytes               161830 non-null float64\n",
      "failure                          161830 non-null int64\n",
      "drive_age_in_years               161830 non-null float64\n",
      "reallocated_sectors_count        161830 non-null float64\n",
      "reported_uncorrectable_errors    161830 non-null float64\n",
      "command_timeout                  161830 non-null float64\n",
      "current_pending_sector_count     161830 non-null float64\n",
      "uncorrectable_sector_count       161830 non-null float64\n",
      "dtypes: float64(7), int64(1), object(3)\n",
      "memory usage: 14.8+ MB\n"
     ]
    }
   ],
   "source": [
    "df.info()"
   ]
  },
  {
   "cell_type": "markdown",
   "metadata": {},
   "source": [
    "> After treating all nulls, the dataframe has 11 columns and 161,830 rows. The data is ready to be further explored. "
   ]
  },
  {
   "cell_type": "markdown",
   "metadata": {},
   "source": [
    "#### How many different models? Which are top 5?"
   ]
  },
  {
   "cell_type": "code",
   "execution_count": 18,
   "metadata": {},
   "outputs": [
    {
     "data": {
      "text/plain": [
       "97"
      ]
     },
     "execution_count": 18,
     "metadata": {},
     "output_type": "execute_result"
    }
   ],
   "source": [
    "df.model.nunique()"
   ]
  },
  {
   "cell_type": "code",
   "execution_count": 19,
   "metadata": {},
   "outputs": [
    {
     "data": {
      "text/plain": [
       "ST12000NM0007           38271\n",
       "ST4000DM000             36156\n",
       "HGST HMS5C4040BLE640    16314\n",
       "ST8000NM0055            14810\n",
       "HGST HUH721212ALN604    10875\n",
       "Name: model, dtype: int64"
      ]
     },
     "execution_count": 19,
     "metadata": {},
     "output_type": "execute_result"
    }
   ],
   "source": [
    "df['model'].value_counts().head()"
   ]
  },
  {
   "cell_type": "markdown",
   "metadata": {},
   "source": [
    "#### How many different manufacturers?"
   ]
  },
  {
   "cell_type": "code",
   "execution_count": 20,
   "metadata": {},
   "outputs": [
    {
     "data": {
      "text/plain": [
       "6"
      ]
     },
     "execution_count": 20,
     "metadata": {},
     "output_type": "execute_result"
    }
   ],
   "source": [
    "df.manufacturer.nunique()"
   ]
  },
  {
   "cell_type": "code",
   "execution_count": 21,
   "metadata": {},
   "outputs": [
    {
     "data": {
      "text/plain": [
       "array(['Hitachi', 'Seagate', 'Western Digital', 'Toshiba', 'Unknown',\n",
       "       'Samsung'], dtype=object)"
      ]
     },
     "execution_count": 21,
     "metadata": {},
     "output_type": "execute_result"
    }
   ],
   "source": [
    "df.manufacturer.unique()"
   ]
  },
  {
   "cell_type": "markdown",
   "metadata": {},
   "source": [
    "#### How many different gigabytes sizes?"
   ]
  },
  {
   "cell_type": "code",
   "execution_count": 22,
   "metadata": {},
   "outputs": [
    {
     "data": {
      "text/plain": [
       "15"
      ]
     },
     "execution_count": 22,
     "metadata": {},
     "output_type": "execute_result"
    }
   ],
   "source": [
    "df.capacity_terabytes.nunique()"
   ]
  },
  {
   "cell_type": "code",
   "execution_count": 23,
   "metadata": {},
   "outputs": [
    {
     "data": {
      "text/plain": [
       "array([ 4. ,  3. ,  8. ,  0.5,  6. ,  2. ,  1. ,  0.1, 12. , 10. , 14. ,\n",
       "        1.5,  0.2,  0.3,  5. ])"
      ]
     },
     "execution_count": 23,
     "metadata": {},
     "output_type": "execute_result"
    }
   ],
   "source": [
    "df.capacity_terabytes.unique()"
   ]
  },
  {
   "cell_type": "markdown",
   "metadata": {},
   "source": [
    "#### How many models are there for each manufacturer?"
   ]
  },
  {
   "cell_type": "code",
   "execution_count": 24,
   "metadata": {},
   "outputs": [],
   "source": [
    "# create new df to group unique models with their manufacturer\n",
    "unique_manufacturers = df[['model', 'manufacturer']]"
   ]
  },
  {
   "cell_type": "code",
   "execution_count": 25,
   "metadata": {},
   "outputs": [
    {
     "data": {
      "text/html": [
       "<div>\n",
       "<style scoped>\n",
       "    .dataframe tbody tr th:only-of-type {\n",
       "        vertical-align: middle;\n",
       "    }\n",
       "\n",
       "    .dataframe tbody tr th {\n",
       "        vertical-align: top;\n",
       "    }\n",
       "\n",
       "    .dataframe thead th {\n",
       "        text-align: right;\n",
       "    }\n",
       "</style>\n",
       "<table border=\"1\" class=\"dataframe\">\n",
       "  <thead>\n",
       "    <tr style=\"text-align: right;\">\n",
       "      <th></th>\n",
       "      <th>model</th>\n",
       "    </tr>\n",
       "    <tr>\n",
       "      <th>manufacturer</th>\n",
       "      <th></th>\n",
       "    </tr>\n",
       "  </thead>\n",
       "  <tbody>\n",
       "    <tr>\n",
       "      <td>Hitachi</td>\n",
       "      <td>51417</td>\n",
       "    </tr>\n",
       "    <tr>\n",
       "      <td>Samsung</td>\n",
       "      <td>1</td>\n",
       "    </tr>\n",
       "    <tr>\n",
       "      <td>Seagate</td>\n",
       "      <td>105012</td>\n",
       "    </tr>\n",
       "    <tr>\n",
       "      <td>Toshiba</td>\n",
       "      <td>2573</td>\n",
       "    </tr>\n",
       "    <tr>\n",
       "      <td>Unknown</td>\n",
       "      <td>1</td>\n",
       "    </tr>\n",
       "    <tr>\n",
       "      <td>Western Digital</td>\n",
       "      <td>2826</td>\n",
       "    </tr>\n",
       "  </tbody>\n",
       "</table>\n",
       "</div>"
      ],
      "text/plain": [
       "                  model\n",
       "manufacturer           \n",
       "Hitachi           51417\n",
       "Samsung               1\n",
       "Seagate          105012\n",
       "Toshiba            2573\n",
       "Unknown               1\n",
       "Western Digital    2826"
      ]
     },
     "execution_count": 25,
     "metadata": {},
     "output_type": "execute_result"
    }
   ],
   "source": [
    "unique_manufacturers.groupby('manufacturer').count()"
   ]
  },
  {
   "cell_type": "markdown",
   "metadata": {},
   "source": [
    "The `explore.remove_manufacturer` function reads in the dataframe and removes the two manufacturers with low value count."
   ]
  },
  {
   "cell_type": "code",
   "execution_count": 26,
   "metadata": {},
   "outputs": [],
   "source": [
    "df = explore.remove_manufacturers(df)"
   ]
  },
  {
   "cell_type": "markdown",
   "metadata": {},
   "source": [
    "#### Are model numbers unique to capacity?"
   ]
  },
  {
   "cell_type": "code",
   "execution_count": 27,
   "metadata": {},
   "outputs": [],
   "source": [
    "# create new df to group models with their capacity gigabytes\n",
    "model_terabytes = df[['model', 'capacity_terabytes']]"
   ]
  },
  {
   "cell_type": "code",
   "execution_count": 28,
   "metadata": {},
   "outputs": [
    {
     "data": {
      "text/plain": [
       "95"
      ]
     },
     "execution_count": 28,
     "metadata": {},
     "output_type": "execute_result"
    }
   ],
   "source": [
    "# count unique models\n",
    "model_terabytes.model.nunique()"
   ]
  },
  {
   "cell_type": "code",
   "execution_count": 29,
   "metadata": {},
   "outputs": [],
   "source": [
    "# group unique model and unique terabytes combinations\n",
    "unique_model_terabytes = len(model_terabytes.groupby(['model', 'capacity_terabytes']).count())"
   ]
  },
  {
   "cell_type": "code",
   "execution_count": 30,
   "metadata": {},
   "outputs": [
    {
     "data": {
      "text/plain": [
       "True"
      ]
     },
     "execution_count": 30,
     "metadata": {},
     "output_type": "execute_result"
    }
   ],
   "source": [
    "# compare the length of unique model and gigabytes combinations to the count of unique models, must equal a match.\n",
    "unique_model_terabytes == model_terabytes.model.nunique()"
   ]
  },
  {
   "cell_type": "code",
   "execution_count": 31,
   "metadata": {},
   "outputs": [
    {
     "data": {
      "image/png": "[encoded data removed]",
      "text/plain": [
       "<Figure size 720x432 with 1 Axes>"
      ]
     },
     "metadata": {
      "needs_background": "light"
     },
     "output_type": "display_data"
    }
   ],
   "source": [
    "plt.figure(figsize=(10,6))\n",
    "plt.hist(df.capacity_terabytes, stacked=True,\n",
    "         edgecolor='slategrey', color='salmon')\n",
    "# plt.legend([\"drives that have failed\",\"drives that haven't failed\"])\n",
    "# plt.title(\"Distribution of the life of a hard drive\")\n",
    "# plt.xlabel(\"lifespan in years\")\n",
    "# plt.yticks([])\n",
    "plt.show()"
   ]
  },
  {
   "cell_type": "code",
   "execution_count": 32,
   "metadata": {},
   "outputs": [
    {
     "data": {
      "image/png": "[encoded data removed]",
      "text/plain": [
       "<Figure size 720x432 with 1 Axes>"
      ]
     },
     "metadata": {
      "needs_background": "light"
     },
     "output_type": "display_data"
    }
   ],
   "source": [
    "plt.figure(figsize=(10,6))\n",
    "plt.hist(df.manufacturer, stacked=True,\n",
    "         edgecolor='slategrey', color='salmon')\n",
    "# plt.legend([\"drives that have failed\",\"drives that haven't failed\"])\n",
    "# plt.title(\"Distribution of the life of a hard drive\")\n",
    "# plt.xlabel(\"lifespan in years\")\n",
    "# plt.yticks([])\n",
    "plt.show()"
   ]
  },
  {
   "cell_type": "markdown",
   "metadata": {},
   "source": [
    "> The same model number does not have any occurances in the dataframe of having different gigabytes assignments."
   ]
  },
  {
   "cell_type": "markdown",
   "metadata": {},
   "source": [
    "#### How do the lifespans of hard drives that have failed compared to hard drives that have not failed?"
   ]
  },
  {
   "cell_type": "code",
   "execution_count": 33,
   "metadata": {},
   "outputs": [],
   "source": [
    "# create new dfs with hard drives that have failed, and hard drives that have not failed \n",
    "df_fails = df [df.failure == 1]\n",
    "df_lives = df [df.failure == 0]"
   ]
  },
  {
   "cell_type": "code",
   "execution_count": 34,
   "metadata": {},
   "outputs": [
    {
     "data": {
      "image/png": "[encoded data removed]",
      "text/plain": [
       "<Figure size 720x432 with 1 Axes>"
      ]
     },
     "metadata": {
      "needs_background": "light"
     },
     "output_type": "display_data"
    }
   ],
   "source": [
    "plt.figure(figsize=(10,6))\n",
    "plt.hist([df_fails.drive_age_in_years, df_lives.drive_age_in_years], stacked=True, bins=20,\n",
    "         edgecolor='slategrey', color=['salmon', 'mistyrose'])\n",
    "plt.legend([\"drives that have failed\",\"drives that haven't failed\"])\n",
    "plt.title(\"Distribution of the life of a hard drive\")\n",
    "plt.xlabel(\"lifespan in years\")\n",
    "plt.yticks([])\n",
    "plt.show()"
   ]
  },
  {
   "cell_type": "markdown",
   "metadata": {},
   "source": [
    "#### How do non-zero SMART stat values compare in failed hard drives and non-failed hard drives"
   ]
  },
  {
   "cell_type": "code",
   "execution_count": 35,
   "metadata": {},
   "outputs": [],
   "source": [
    "# misty"
   ]
  },
  {
   "cell_type": "markdown",
   "metadata": {},
   "source": [
    "#### Does the average age of drive vary by manufacturer? model number?"
   ]
  },
  {
   "cell_type": "code",
   "execution_count": 36,
   "metadata": {},
   "outputs": [
    {
     "data": {
      "text/html": [
       "<div>\n",
       "<style scoped>\n",
       "    .dataframe tbody tr th:only-of-type {\n",
       "        vertical-align: middle;\n",
       "    }\n",
       "\n",
       "    .dataframe tbody tr th {\n",
       "        vertical-align: top;\n",
       "    }\n",
       "\n",
       "    .dataframe thead th {\n",
       "        text-align: right;\n",
       "    }\n",
       "</style>\n",
       "<table border=\"1\" class=\"dataframe\">\n",
       "  <thead>\n",
       "    <tr style=\"text-align: right;\">\n",
       "      <th></th>\n",
       "      <th>drive_age_in_years</th>\n",
       "    </tr>\n",
       "    <tr>\n",
       "      <th>manufacturer</th>\n",
       "      <th></th>\n",
       "    </tr>\n",
       "  </thead>\n",
       "  <tbody>\n",
       "    <tr>\n",
       "      <td>Hitachi</td>\n",
       "      <td>3.057432</td>\n",
       "    </tr>\n",
       "    <tr>\n",
       "      <td>Seagate</td>\n",
       "      <td>2.557938</td>\n",
       "    </tr>\n",
       "    <tr>\n",
       "      <td>Toshiba</td>\n",
       "      <td>1.611698</td>\n",
       "    </tr>\n",
       "    <tr>\n",
       "      <td>Western Digital</td>\n",
       "      <td>3.765322</td>\n",
       "    </tr>\n",
       "  </tbody>\n",
       "</table>\n",
       "</div>"
      ],
      "text/plain": [
       "                 drive_age_in_years\n",
       "manufacturer                       \n",
       "Hitachi                    3.057432\n",
       "Seagate                    2.557938\n",
       "Toshiba                    1.611698\n",
       "Western Digital            3.765322"
      ]
     },
     "execution_count": 36,
     "metadata": {},
     "output_type": "execute_result"
    }
   ],
   "source": [
    "# Average drive age by manufacturer\n",
    "manufacturer_avg_age = df[['manufacturer', 'drive_age_in_years']]\n",
    "man = manufacturer_avg_age.groupby('manufacturer',sort=True).mean()\n",
    "man"
   ]
  },
  {
   "cell_type": "code",
   "execution_count": 37,
   "metadata": {},
   "outputs": [
    {
     "data": {
      "text/plain": [
       "Text(0.5, 1.0, 'Manufacturers by Average Drive Age')"
      ]
     },
     "execution_count": 37,
     "metadata": {},
     "output_type": "execute_result"
    },
    {
     "data": {
      "image/png": "[encoded data removed]",
      "text/plain": [
       "<Figure size 432x288 with 1 Axes>"
      ]
     },
     "metadata": {
      "needs_background": "light"
     },
     "output_type": "display_data"
    }
   ],
   "source": [
    "# Plot of Manufacturers by Average Drive Age\n",
    "ax1 = plt.bar(x= man.index ,height=man.drive_age_in_years)\n",
    "plt.xlabel('Manufacturers')\n",
    "plt.ylabel('Average Drive Age (Years)')\n",
    "plt.title('Manufacturers by Average Drive Age')"
   ]
  },
  {
   "cell_type": "code",
   "execution_count": 38,
   "metadata": {},
   "outputs": [
    {
     "data": {
      "text/html": [
       "<div>\n",
       "<style scoped>\n",
       "    .dataframe tbody tr th:only-of-type {\n",
       "        vertical-align: middle;\n",
       "    }\n",
       "\n",
       "    .dataframe tbody tr th {\n",
       "        vertical-align: top;\n",
       "    }\n",
       "\n",
       "    .dataframe thead th {\n",
       "        text-align: right;\n",
       "    }\n",
       "</style>\n",
       "<table border=\"1\" class=\"dataframe\">\n",
       "  <thead>\n",
       "    <tr style=\"text-align: right;\">\n",
       "      <th></th>\n",
       "      <th>drive_age_in_years</th>\n",
       "    </tr>\n",
       "  </thead>\n",
       "  <tbody>\n",
       "    <tr>\n",
       "      <td>count</td>\n",
       "      <td>95.000000</td>\n",
       "    </tr>\n",
       "    <tr>\n",
       "      <td>mean</td>\n",
       "      <td>3.510453</td>\n",
       "    </tr>\n",
       "    <tr>\n",
       "      <td>std</td>\n",
       "      <td>1.973535</td>\n",
       "    </tr>\n",
       "    <tr>\n",
       "      <td>min</td>\n",
       "      <td>0.026316</td>\n",
       "    </tr>\n",
       "    <tr>\n",
       "      <td>25%</td>\n",
       "      <td>1.969744</td>\n",
       "    </tr>\n",
       "    <tr>\n",
       "      <td>50%</td>\n",
       "      <td>3.600000</td>\n",
       "    </tr>\n",
       "    <tr>\n",
       "      <td>75%</td>\n",
       "      <td>4.656250</td>\n",
       "    </tr>\n",
       "    <tr>\n",
       "      <td>max</td>\n",
       "      <td>10.300000</td>\n",
       "    </tr>\n",
       "  </tbody>\n",
       "</table>\n",
       "</div>"
      ],
      "text/plain": [
       "       drive_age_in_years\n",
       "count           95.000000\n",
       "mean             3.510453\n",
       "std              1.973535\n",
       "min              0.026316\n",
       "25%              1.969744\n",
       "50%              3.600000\n",
       "75%              4.656250\n",
       "max             10.300000"
      ]
     },
     "execution_count": 38,
     "metadata": {},
     "output_type": "execute_result"
    }
   ],
   "source": [
    "# Average drive age by model\n",
    "model_avg_age = df[['model', 'drive_age_in_years']]\n",
    "model_avg_age.groupby('model',sort=True).mean().describe()"
   ]
  },
  {
   "cell_type": "code",
   "execution_count": 39,
   "metadata": {},
   "outputs": [
    {
     "data": {
      "text/plain": [
       "Text(0.5, 1.0, 'Models by Average Drive Age')"
      ]
     },
     "execution_count": 39,
     "metadata": {},
     "output_type": "execute_result"
    },
    {
     "data": {
      "image/png": "[encoded data removed]",
      "text/plain": [
       "<Figure size 432x288 with 1 Axes>"
      ]
     },
     "metadata": {
      "needs_background": "light"
     },
     "output_type": "display_data"
    }
   ],
   "source": [
    "# Plot of Models by Average Drive Age\n",
    "mod = model_avg_age.groupby('model',sort=True).mean()\n",
    "# ax2 = plt.scatter(x= mod.index ,y=mod.drive_age_in_years)\n",
    "ax2 = plt.bar(x= mod.index ,height=mod.drive_age_in_years)\n",
    "# ax2.axes.get_xaxis().set_ticks([])\n",
    "plt.xticks('')\n",
    "plt.xlabel('Individual Model')\n",
    "plt.ylabel('Average Drive Age (Years)')\n",
    "plt.title('Models by Average Drive Age')"
   ]
  },
  {
   "cell_type": "markdown",
   "metadata": {},
   "source": [
    "> Variance in drive age is seen in both the manufacturers and model numbers. "
   ]
  },
  {
   "cell_type": "markdown",
   "metadata": {},
   "source": [
    "#### Do failure rates vary by model number?"
   ]
  },
  {
   "cell_type": "code",
   "execution_count": 40,
   "metadata": {},
   "outputs": [
    {
     "data": {
      "text/html": [
       "<div>\n",
       "<style scoped>\n",
       "    .dataframe tbody tr th:only-of-type {\n",
       "        vertical-align: middle;\n",
       "    }\n",
       "\n",
       "    .dataframe tbody tr th {\n",
       "        vertical-align: top;\n",
       "    }\n",
       "\n",
       "    .dataframe thead th {\n",
       "        text-align: right;\n",
       "    }\n",
       "</style>\n",
       "<table border=\"1\" class=\"dataframe\">\n",
       "  <thead>\n",
       "    <tr style=\"text-align: right;\">\n",
       "      <th></th>\n",
       "      <th>failures</th>\n",
       "      <th>total_count</th>\n",
       "      <th>drive_age_in_years</th>\n",
       "      <th>failure_rate_percent</th>\n",
       "    </tr>\n",
       "    <tr>\n",
       "      <th>model</th>\n",
       "      <th></th>\n",
       "      <th></th>\n",
       "      <th></th>\n",
       "      <th></th>\n",
       "    </tr>\n",
       "  </thead>\n",
       "  <tbody>\n",
       "    <tr>\n",
       "      <td>ST4000DM000</td>\n",
       "      <td>2858</td>\n",
       "      <td>36156</td>\n",
       "      <td>3.874463</td>\n",
       "      <td>7.904635</td>\n",
       "    </tr>\n",
       "    <tr>\n",
       "      <td>ST12000NM0007</td>\n",
       "      <td>1104</td>\n",
       "      <td>38271</td>\n",
       "      <td>1.269486</td>\n",
       "      <td>2.884691</td>\n",
       "    </tr>\n",
       "    <tr>\n",
       "      <td>ST8000NM0055</td>\n",
       "      <td>383</td>\n",
       "      <td>14810</td>\n",
       "      <td>2.198433</td>\n",
       "      <td>2.586090</td>\n",
       "    </tr>\n",
       "    <tr>\n",
       "      <td>ST8000DM002</td>\n",
       "      <td>321</td>\n",
       "      <td>10160</td>\n",
       "      <td>2.982657</td>\n",
       "      <td>3.159449</td>\n",
       "    </tr>\n",
       "    <tr>\n",
       "      <td>HGST HMS5C4040BLE640</td>\n",
       "      <td>222</td>\n",
       "      <td>16314</td>\n",
       "      <td>3.121123</td>\n",
       "      <td>1.360794</td>\n",
       "    </tr>\n",
       "    <tr>\n",
       "      <td>...</td>\n",
       "      <td>...</td>\n",
       "      <td>...</td>\n",
       "      <td>...</td>\n",
       "      <td>...</td>\n",
       "    </tr>\n",
       "    <tr>\n",
       "      <td>ST500LM021</td>\n",
       "      <td>0</td>\n",
       "      <td>33</td>\n",
       "      <td>0.442424</td>\n",
       "      <td>0.000000</td>\n",
       "    </tr>\n",
       "    <tr>\n",
       "      <td>WDC WD2500AAJB</td>\n",
       "      <td>0</td>\n",
       "      <td>1</td>\n",
       "      <td>3.600000</td>\n",
       "      <td>0.000000</td>\n",
       "    </tr>\n",
       "    <tr>\n",
       "      <td>WDC WD2500AAJS</td>\n",
       "      <td>0</td>\n",
       "      <td>3</td>\n",
       "      <td>4.700000</td>\n",
       "      <td>0.000000</td>\n",
       "    </tr>\n",
       "    <tr>\n",
       "      <td>WDC WD2500BPVT</td>\n",
       "      <td>0</td>\n",
       "      <td>8</td>\n",
       "      <td>4.612500</td>\n",
       "      <td>0.000000</td>\n",
       "    </tr>\n",
       "    <tr>\n",
       "      <td>WDC WD2500BEVT</td>\n",
       "      <td>0</td>\n",
       "      <td>1</td>\n",
       "      <td>3.400000</td>\n",
       "      <td>0.000000</td>\n",
       "    </tr>\n",
       "  </tbody>\n",
       "</table>\n",
       "<p>95 rows × 4 columns</p>\n",
       "</div>"
      ],
      "text/plain": [
       "                      failures  total_count  drive_age_in_years  \\\n",
       "model                                                             \n",
       "ST4000DM000               2858        36156            3.874463   \n",
       "ST12000NM0007             1104        38271            1.269486   \n",
       "ST8000NM0055               383        14810            2.198433   \n",
       "ST8000DM002                321        10160            2.982657   \n",
       "HGST HMS5C4040BLE640       222        16314            3.121123   \n",
       "...                        ...          ...                 ...   \n",
       "ST500LM021                   0           33            0.442424   \n",
       "WDC WD2500AAJB               0            1            3.600000   \n",
       "WDC WD2500AAJS               0            3            4.700000   \n",
       "WDC WD2500BPVT               0            8            4.612500   \n",
       "WDC WD2500BEVT               0            1            3.400000   \n",
       "\n",
       "                      failure_rate_percent  \n",
       "model                                       \n",
       "ST4000DM000                       7.904635  \n",
       "ST12000NM0007                     2.884691  \n",
       "ST8000NM0055                      2.586090  \n",
       "ST8000DM002                       3.159449  \n",
       "HGST HMS5C4040BLE640              1.360794  \n",
       "...                                    ...  \n",
       "ST500LM021                        0.000000  \n",
       "WDC WD2500AAJB                    0.000000  \n",
       "WDC WD2500AAJS                    0.000000  \n",
       "WDC WD2500BPVT                    0.000000  \n",
       "WDC WD2500BEVT                    0.000000  \n",
       "\n",
       "[95 rows x 4 columns]"
      ]
     },
     "execution_count": 40,
     "metadata": {},
     "output_type": "execute_result"
    }
   ],
   "source": [
    "# aggegrate by failure, drive age, and add a total count\n",
    "agg_model = df.groupby(['model']).agg({'failure' : 'sum', 'model' : 'count', 'drive_age_in_years':'mean'})\n",
    "agg_model.rename(columns={'failure':'failures', 'model':'total_count'}, inplace=True)\n",
    "\n",
    "# add a failure rate column\n",
    "agg_model['failure_rate_percent'] = agg_model['failures'] / agg_model['total_count'] * 100\n",
    "agg_model.sort_values(by=['failures'], ascending = False)"
   ]
  },
  {
   "cell_type": "markdown",
   "metadata": {},
   "source": [
    "#### Determine early failure cutoff "
   ]
  },
  {
   "cell_type": "markdown",
   "metadata": {},
   "source": [
    "The goal of the project is to determine which hard drives are more prone to early failures. Looking at the lifespan of all hard drives, a hard drive that fails within the first quartile of all life spans, is labeled as an early failure."
   ]
  },
  {
   "cell_type": "code",
   "execution_count": 41,
   "metadata": {},
   "outputs": [
    {
     "data": {
      "text/html": [
       "<div>\n",
       "<style scoped>\n",
       "    .dataframe tbody tr th:only-of-type {\n",
       "        vertical-align: middle;\n",
       "    }\n",
       "\n",
       "    .dataframe tbody tr th {\n",
       "        vertical-align: top;\n",
       "    }\n",
       "\n",
       "    .dataframe thead th {\n",
       "        text-align: right;\n",
       "    }\n",
       "</style>\n",
       "<table border=\"1\" class=\"dataframe\">\n",
       "  <thead>\n",
       "    <tr style=\"text-align: right;\">\n",
       "      <th></th>\n",
       "      <th>drive_age_in_years</th>\n",
       "    </tr>\n",
       "  </thead>\n",
       "  <tbody>\n",
       "    <tr>\n",
       "      <td>count</td>\n",
       "      <td>161828.000000</td>\n",
       "    </tr>\n",
       "    <tr>\n",
       "      <td>mean</td>\n",
       "      <td>2.722680</td>\n",
       "    </tr>\n",
       "    <tr>\n",
       "      <td>std</td>\n",
       "      <td>1.524778</td>\n",
       "    </tr>\n",
       "    <tr>\n",
       "      <td>min</td>\n",
       "      <td>0.000000</td>\n",
       "    </tr>\n",
       "    <tr>\n",
       "      <td>25%</td>\n",
       "      <td>1.600000</td>\n",
       "    </tr>\n",
       "    <tr>\n",
       "      <td>50%</td>\n",
       "      <td>2.600000</td>\n",
       "    </tr>\n",
       "    <tr>\n",
       "      <td>75%</td>\n",
       "      <td>4.000000</td>\n",
       "    </tr>\n",
       "    <tr>\n",
       "      <td>max</td>\n",
       "      <td>10.300000</td>\n",
       "    </tr>\n",
       "  </tbody>\n",
       "</table>\n",
       "</div>"
      ],
      "text/plain": [
       "       drive_age_in_years\n",
       "count       161828.000000\n",
       "mean             2.722680\n",
       "std              1.524778\n",
       "min              0.000000\n",
       "25%              1.600000\n",
       "50%              2.600000\n",
       "75%              4.000000\n",
       "max             10.300000"
      ]
     },
     "execution_count": 41,
     "metadata": {},
     "output_type": "execute_result"
    }
   ],
   "source": [
    "df[['drive_age_in_years']].describe()"
   ]
  },
  {
   "cell_type": "markdown",
   "metadata": {},
   "source": [
    "> A cut-off of 1.6 years is utilized."
   ]
  },
  {
   "cell_type": "markdown",
   "metadata": {},
   "source": [
    "The `explore.early_failure` function creates a column in the dataframe that identifies drives that are early failures."
   ]
  },
  {
   "cell_type": "code",
   "execution_count": 42,
   "metadata": {},
   "outputs": [],
   "source": [
    "df = explore.early_failure(df,1.6)"
   ]
  },
  {
   "cell_type": "markdown",
   "metadata": {},
   "source": [
    "It was deteremined that drives that are currently working and have not reached the established cut-off time will be removed from this analysis, as they are too young to give significant stats of a reliable drive. Therefore, the `explore.old_or_fail` function drops rows containing drives that have not failed and are not older than the cut off."
   ]
  },
  {
   "cell_type": "code",
   "execution_count": 43,
   "metadata": {},
   "outputs": [],
   "source": [
    "df = explore.old_or_fail(df,1.6)"
   ]
  },
  {
   "cell_type": "code",
   "execution_count": 44,
   "metadata": {},
   "outputs": [
    {
     "data": {
      "text/html": [
       "<div>\n",
       "<style scoped>\n",
       "    .dataframe tbody tr th:only-of-type {\n",
       "        vertical-align: middle;\n",
       "    }\n",
       "\n",
       "    .dataframe tbody tr th {\n",
       "        vertical-align: top;\n",
       "    }\n",
       "\n",
       "    .dataframe thead th {\n",
       "        text-align: right;\n",
       "    }\n",
       "</style>\n",
       "<table border=\"1\" class=\"dataframe\">\n",
       "  <thead>\n",
       "    <tr style=\"text-align: right;\">\n",
       "      <th></th>\n",
       "      <th>serial_number</th>\n",
       "      <th>manufacturer</th>\n",
       "      <th>model</th>\n",
       "      <th>capacity_terabytes</th>\n",
       "      <th>failure</th>\n",
       "      <th>drive_age_in_years</th>\n",
       "      <th>reallocated_sectors_count</th>\n",
       "      <th>reported_uncorrectable_errors</th>\n",
       "      <th>command_timeout</th>\n",
       "      <th>current_pending_sector_count</th>\n",
       "      <th>uncorrectable_sector_count</th>\n",
       "      <th>early_failure</th>\n",
       "    </tr>\n",
       "  </thead>\n",
       "  <tbody>\n",
       "    <tr>\n",
       "      <td>0</td>\n",
       "      <td>PL1311LAG1SJAA</td>\n",
       "      <td>Hitachi</td>\n",
       "      <td>Hitachi HDS5C4040ALE630</td>\n",
       "      <td>4.0</td>\n",
       "      <td>0</td>\n",
       "      <td>5.0</td>\n",
       "      <td>0.0</td>\n",
       "      <td>0.0</td>\n",
       "      <td>0.0</td>\n",
       "      <td>0.0</td>\n",
       "      <td>0.0</td>\n",
       "      <td>0</td>\n",
       "    </tr>\n",
       "    <tr>\n",
       "      <td>1</td>\n",
       "      <td>Z305KB36</td>\n",
       "      <td>Seagate</td>\n",
       "      <td>ST4000DM000</td>\n",
       "      <td>4.0</td>\n",
       "      <td>0</td>\n",
       "      <td>3.5</td>\n",
       "      <td>0.0</td>\n",
       "      <td>0.0</td>\n",
       "      <td>0.0</td>\n",
       "      <td>0.0</td>\n",
       "      <td>0.0</td>\n",
       "      <td>0</td>\n",
       "    </tr>\n",
       "    <tr>\n",
       "      <td>2</td>\n",
       "      <td>MJ0351YNG9MZXA</td>\n",
       "      <td>Hitachi</td>\n",
       "      <td>Hitachi HDS5C3030ALA630</td>\n",
       "      <td>3.0</td>\n",
       "      <td>0</td>\n",
       "      <td>4.8</td>\n",
       "      <td>0.0</td>\n",
       "      <td>0.0</td>\n",
       "      <td>0.0</td>\n",
       "      <td>0.0</td>\n",
       "      <td>0.0</td>\n",
       "      <td>0</td>\n",
       "    </tr>\n",
       "    <tr>\n",
       "      <td>3</td>\n",
       "      <td>ZA11NHSN</td>\n",
       "      <td>Seagate</td>\n",
       "      <td>ST8000DM002</td>\n",
       "      <td>8.0</td>\n",
       "      <td>0</td>\n",
       "      <td>3.0</td>\n",
       "      <td>0.0</td>\n",
       "      <td>0.0</td>\n",
       "      <td>0.0</td>\n",
       "      <td>0.0</td>\n",
       "      <td>0.0</td>\n",
       "      <td>0</td>\n",
       "    </tr>\n",
       "    <tr>\n",
       "      <td>4</td>\n",
       "      <td>MJ1311YNG2ZSEA</td>\n",
       "      <td>Hitachi</td>\n",
       "      <td>Hitachi HDS5C3030ALA630</td>\n",
       "      <td>3.0</td>\n",
       "      <td>0</td>\n",
       "      <td>5.5</td>\n",
       "      <td>0.0</td>\n",
       "      <td>0.0</td>\n",
       "      <td>0.0</td>\n",
       "      <td>0.0</td>\n",
       "      <td>0.0</td>\n",
       "      <td>0</td>\n",
       "    </tr>\n",
       "  </tbody>\n",
       "</table>\n",
       "</div>"
      ],
      "text/plain": [
       "    serial_number manufacturer                    model  capacity_terabytes  \\\n",
       "0  PL1311LAG1SJAA      Hitachi  Hitachi HDS5C4040ALE630                 4.0   \n",
       "1        Z305KB36      Seagate              ST4000DM000                 4.0   \n",
       "2  MJ0351YNG9MZXA      Hitachi  Hitachi HDS5C3030ALA630                 3.0   \n",
       "3        ZA11NHSN      Seagate              ST8000DM002                 8.0   \n",
       "4  MJ1311YNG2ZSEA      Hitachi  Hitachi HDS5C3030ALA630                 3.0   \n",
       "\n",
       "   failure  drive_age_in_years  reallocated_sectors_count  \\\n",
       "0        0                 5.0                        0.0   \n",
       "1        0                 3.5                        0.0   \n",
       "2        0                 4.8                        0.0   \n",
       "3        0                 3.0                        0.0   \n",
       "4        0                 5.5                        0.0   \n",
       "\n",
       "   reported_uncorrectable_errors  command_timeout  \\\n",
       "0                            0.0              0.0   \n",
       "1                            0.0              0.0   \n",
       "2                            0.0              0.0   \n",
       "3                            0.0              0.0   \n",
       "4                            0.0              0.0   \n",
       "\n",
       "   current_pending_sector_count  uncorrectable_sector_count  early_failure  \n",
       "0                           0.0                         0.0              0  \n",
       "1                           0.0                         0.0              0  \n",
       "2                           0.0                         0.0              0  \n",
       "3                           0.0                         0.0              0  \n",
       "4                           0.0                         0.0              0  "
      ]
     },
     "execution_count": 44,
     "metadata": {},
     "output_type": "execute_result"
    }
   ],
   "source": [
    "df.head()"
   ]
  },
  {
   "cell_type": "markdown",
   "metadata": {},
   "source": [
    "#### Which SMART attributes correlate most strongly with early failure?"
   ]
  },
  {
   "cell_type": "markdown",
   "metadata": {},
   "source": [
    "The five SMART stats being presented count the occurrence of different types of errors that can occur in hard drives. For each type a count of above zero indicates that a hard drive should be replaced quickly due to a risk of failure."
   ]
  },
  {
   "cell_type": "code",
   "execution_count": 45,
   "metadata": {},
   "outputs": [
    {
     "data": {
      "text/plain": [
       "Index(['reallocated_sectors_count', 'reported_uncorrectable_errors',\n",
       "       'command_timeout', 'current_pending_sector_count',\n",
       "       'uncorrectable_sector_count'],\n",
       "      dtype='object')"
      ]
     },
     "execution_count": 45,
     "metadata": {},
     "output_type": "execute_result"
    }
   ],
   "source": [
    "smart_stats_5 = df.columns[6:11]\n",
    "smart_stats_5"
   ]
  },
  {
   "cell_type": "code",
   "execution_count": 46,
   "metadata": {},
   "outputs": [
    {
     "data": {
      "image/png": "[encoded data removed]",
      "text/plain": [
       "<Figure size 432x288 with 1 Axes>"
      ]
     },
     "metadata": {
      "needs_background": "light"
     },
     "output_type": "display_data"
    },
    {
     "data": {
      "image/png": "[encoded data removed]",
      "text/plain": [
       "<Figure size 432x288 with 1 Axes>"
      ]
     },
     "metadata": {
      "needs_background": "light"
     },
     "output_type": "display_data"
    },
    {
     "data": {
      "image/png": "[encoded data removed]",
      "text/plain": [
       "<Figure size 432x288 with 1 Axes>"
      ]
     },
     "metadata": {
      "needs_background": "light"
     },
     "output_type": "display_data"
    },
    {
     "data": {
      "image/png": "[encoded data removed]",
      "text/plain": [
       "<Figure size 432x288 with 1 Axes>"
      ]
     },
     "metadata": {
      "needs_background": "light"
     },
     "output_type": "display_data"
    },
    {
     "data": {
      "image/png": "[encoded data removed]",
      "text/plain": [
       "<Figure size 432x288 with 1 Axes>"
      ]
     },
     "metadata": {
      "needs_background": "light"
     },
     "output_type": "display_data"
    }
   ],
   "source": [
    "for stat in smart_stats_5:\n",
    "    sns.barplot(df.early_failure,df[stat])\n",
    "    plt.title(\"Is {} \\n related to when a hard drive fails early?\".format(stat))\n",
    "    plt.xticks([0,1],[\"no\",\"yes\"])\n",
    "    plt.show()"
   ]
  },
  {
   "cell_type": "markdown",
   "metadata": {},
   "source": [
    "> Because these errors occur far more frequently in early failures than in non-early failures, all of these SMART seem to be a good indicator for early failures. "
   ]
  },
  {
   "cell_type": "code",
   "execution_count": 61,
   "metadata": {},
   "outputs": [
    {
     "data": {
      "text/plain": [
       "(121900, 12)"
      ]
     },
     "execution_count": 61,
     "metadata": {},
     "output_type": "execute_result"
    }
   ],
   "source": [
    "df.shape"
   ]
  },
  {
   "cell_type": "code",
   "execution_count": 59,
   "metadata": {},
   "outputs": [
    {
     "data": {
      "text/html": [
       "<div>\n",
       "<style scoped>\n",
       "    .dataframe tbody tr th:only-of-type {\n",
       "        vertical-align: middle;\n",
       "    }\n",
       "\n",
       "    .dataframe tbody tr th {\n",
       "        vertical-align: top;\n",
       "    }\n",
       "\n",
       "    .dataframe thead th {\n",
       "        text-align: right;\n",
       "    }\n",
       "</style>\n",
       "<table border=\"1\" class=\"dataframe\">\n",
       "  <thead>\n",
       "    <tr style=\"text-align: right;\">\n",
       "      <th></th>\n",
       "      <th>serial_number</th>\n",
       "      <th>manufacturer</th>\n",
       "      <th>model</th>\n",
       "      <th>capacity_terabytes</th>\n",
       "      <th>failure</th>\n",
       "      <th>drive_age_in_years</th>\n",
       "      <th>reallocated_sectors_count</th>\n",
       "      <th>reported_uncorrectable_errors</th>\n",
       "      <th>command_timeout</th>\n",
       "      <th>current_pending_sector_count</th>\n",
       "      <th>uncorrectable_sector_count</th>\n",
       "      <th>early_failure</th>\n",
       "    </tr>\n",
       "  </thead>\n",
       "  <tbody>\n",
       "    <tr>\n",
       "      <td>45</td>\n",
       "      <td>Z300GPBH</td>\n",
       "      <td>Seagate</td>\n",
       "      <td>ST4000DM000</td>\n",
       "      <td>4.0</td>\n",
       "      <td>0</td>\n",
       "      <td>4.8</td>\n",
       "      <td>0.0</td>\n",
       "      <td>0.0</td>\n",
       "      <td>4.295033e+09</td>\n",
       "      <td>0.0</td>\n",
       "      <td>0.0</td>\n",
       "      <td>0</td>\n",
       "    </tr>\n",
       "    <tr>\n",
       "      <td>74</td>\n",
       "      <td>Z300GPWF</td>\n",
       "      <td>Seagate</td>\n",
       "      <td>ST4000DM000</td>\n",
       "      <td>4.0</td>\n",
       "      <td>0</td>\n",
       "      <td>4.7</td>\n",
       "      <td>0.0</td>\n",
       "      <td>0.0</td>\n",
       "      <td>3.000000e+00</td>\n",
       "      <td>0.0</td>\n",
       "      <td>0.0</td>\n",
       "      <td>0</td>\n",
       "    </tr>\n",
       "    <tr>\n",
       "      <td>114</td>\n",
       "      <td>Z3015BRR</td>\n",
       "      <td>Seagate</td>\n",
       "      <td>ST4000DM000</td>\n",
       "      <td>4.0</td>\n",
       "      <td>0</td>\n",
       "      <td>4.8</td>\n",
       "      <td>0.0</td>\n",
       "      <td>0.0</td>\n",
       "      <td>2.000000e+00</td>\n",
       "      <td>0.0</td>\n",
       "      <td>0.0</td>\n",
       "      <td>0</td>\n",
       "    </tr>\n",
       "    <tr>\n",
       "      <td>169</td>\n",
       "      <td>Z3015BZM</td>\n",
       "      <td>Seagate</td>\n",
       "      <td>ST4000DM000</td>\n",
       "      <td>4.0</td>\n",
       "      <td>0</td>\n",
       "      <td>4.7</td>\n",
       "      <td>0.0</td>\n",
       "      <td>0.0</td>\n",
       "      <td>1.000000e+00</td>\n",
       "      <td>0.0</td>\n",
       "      <td>0.0</td>\n",
       "      <td>0</td>\n",
       "    </tr>\n",
       "    <tr>\n",
       "      <td>172</td>\n",
       "      <td>Z305D56H</td>\n",
       "      <td>Seagate</td>\n",
       "      <td>ST4000DM000</td>\n",
       "      <td>4.0</td>\n",
       "      <td>0</td>\n",
       "      <td>3.6</td>\n",
       "      <td>0.0</td>\n",
       "      <td>0.0</td>\n",
       "      <td>1.000000e+00</td>\n",
       "      <td>0.0</td>\n",
       "      <td>0.0</td>\n",
       "      <td>0</td>\n",
       "    </tr>\n",
       "    <tr>\n",
       "      <td>...</td>\n",
       "      <td>...</td>\n",
       "      <td>...</td>\n",
       "      <td>...</td>\n",
       "      <td>...</td>\n",
       "      <td>...</td>\n",
       "      <td>...</td>\n",
       "      <td>...</td>\n",
       "      <td>...</td>\n",
       "      <td>...</td>\n",
       "      <td>...</td>\n",
       "      <td>...</td>\n",
       "      <td>...</td>\n",
       "    </tr>\n",
       "    <tr>\n",
       "      <td>168753</td>\n",
       "      <td>ZA13EWE5</td>\n",
       "      <td>Seagate</td>\n",
       "      <td>ST8000NM0055</td>\n",
       "      <td>8.0</td>\n",
       "      <td>0</td>\n",
       "      <td>2.3</td>\n",
       "      <td>0.0</td>\n",
       "      <td>0.0</td>\n",
       "      <td>4.000000e+00</td>\n",
       "      <td>0.0</td>\n",
       "      <td>0.0</td>\n",
       "      <td>0</td>\n",
       "    </tr>\n",
       "    <tr>\n",
       "      <td>168771</td>\n",
       "      <td>ZA16Y6VW</td>\n",
       "      <td>Seagate</td>\n",
       "      <td>ST8000NM0055</td>\n",
       "      <td>8.0</td>\n",
       "      <td>0</td>\n",
       "      <td>2.2</td>\n",
       "      <td>0.0</td>\n",
       "      <td>0.0</td>\n",
       "      <td>4.295033e+09</td>\n",
       "      <td>0.0</td>\n",
       "      <td>0.0</td>\n",
       "      <td>0</td>\n",
       "    </tr>\n",
       "    <tr>\n",
       "      <td>168786</td>\n",
       "      <td>ZCH08A3T</td>\n",
       "      <td>Seagate</td>\n",
       "      <td>ST12000NM0007</td>\n",
       "      <td>12.0</td>\n",
       "      <td>1</td>\n",
       "      <td>1.4</td>\n",
       "      <td>32.0</td>\n",
       "      <td>4.0</td>\n",
       "      <td>1.718013e+10</td>\n",
       "      <td>24.0</td>\n",
       "      <td>24.0</td>\n",
       "      <td>1</td>\n",
       "    </tr>\n",
       "    <tr>\n",
       "      <td>168940</td>\n",
       "      <td>ZJV1K5HB</td>\n",
       "      <td>Seagate</td>\n",
       "      <td>ST12000NM0007</td>\n",
       "      <td>12.0</td>\n",
       "      <td>1</td>\n",
       "      <td>0.8</td>\n",
       "      <td>18288.0</td>\n",
       "      <td>65.0</td>\n",
       "      <td>1.310740e+05</td>\n",
       "      <td>0.0</td>\n",
       "      <td>0.0</td>\n",
       "      <td>1</td>\n",
       "    </tr>\n",
       "    <tr>\n",
       "      <td>168952</td>\n",
       "      <td>ZCH065XF</td>\n",
       "      <td>Seagate</td>\n",
       "      <td>ST12000NM0007</td>\n",
       "      <td>12.0</td>\n",
       "      <td>1</td>\n",
       "      <td>0.6</td>\n",
       "      <td>1.0</td>\n",
       "      <td>0.0</td>\n",
       "      <td>4.295033e+09</td>\n",
       "      <td>0.0</td>\n",
       "      <td>0.0</td>\n",
       "      <td>1</td>\n",
       "    </tr>\n",
       "  </tbody>\n",
       "</table>\n",
       "<p>3867 rows × 12 columns</p>\n",
       "</div>"
      ],
      "text/plain": [
       "       serial_number manufacturer          model  capacity_terabytes  failure  \\\n",
       "45          Z300GPBH      Seagate    ST4000DM000                 4.0        0   \n",
       "74          Z300GPWF      Seagate    ST4000DM000                 4.0        0   \n",
       "114         Z3015BRR      Seagate    ST4000DM000                 4.0        0   \n",
       "169         Z3015BZM      Seagate    ST4000DM000                 4.0        0   \n",
       "172         Z305D56H      Seagate    ST4000DM000                 4.0        0   \n",
       "...              ...          ...            ...                 ...      ...   \n",
       "168753      ZA13EWE5      Seagate   ST8000NM0055                 8.0        0   \n",
       "168771      ZA16Y6VW      Seagate   ST8000NM0055                 8.0        0   \n",
       "168786      ZCH08A3T      Seagate  ST12000NM0007                12.0        1   \n",
       "168940      ZJV1K5HB      Seagate  ST12000NM0007                12.0        1   \n",
       "168952      ZCH065XF      Seagate  ST12000NM0007                12.0        1   \n",
       "\n",
       "        drive_age_in_years  reallocated_sectors_count  \\\n",
       "45                     4.8                        0.0   \n",
       "74                     4.7                        0.0   \n",
       "114                    4.8                        0.0   \n",
       "169                    4.7                        0.0   \n",
       "172                    3.6                        0.0   \n",
       "...                    ...                        ...   \n",
       "168753                 2.3                        0.0   \n",
       "168771                 2.2                        0.0   \n",
       "168786                 1.4                       32.0   \n",
       "168940                 0.8                    18288.0   \n",
       "168952                 0.6                        1.0   \n",
       "\n",
       "        reported_uncorrectable_errors  command_timeout  \\\n",
       "45                                0.0     4.295033e+09   \n",
       "74                                0.0     3.000000e+00   \n",
       "114                               0.0     2.000000e+00   \n",
       "169                               0.0     1.000000e+00   \n",
       "172                               0.0     1.000000e+00   \n",
       "...                               ...              ...   \n",
       "168753                            0.0     4.000000e+00   \n",
       "168771                            0.0     4.295033e+09   \n",
       "168786                            4.0     1.718013e+10   \n",
       "168940                           65.0     1.310740e+05   \n",
       "168952                            0.0     4.295033e+09   \n",
       "\n",
       "        current_pending_sector_count  uncorrectable_sector_count  \\\n",
       "45                               0.0                         0.0   \n",
       "74                               0.0                         0.0   \n",
       "114                              0.0                         0.0   \n",
       "169                              0.0                         0.0   \n",
       "172                              0.0                         0.0   \n",
       "...                              ...                         ...   \n",
       "168753                           0.0                         0.0   \n",
       "168771                           0.0                         0.0   \n",
       "168786                          24.0                        24.0   \n",
       "168940                           0.0                         0.0   \n",
       "168952                           0.0                         0.0   \n",
       "\n",
       "        early_failure  \n",
       "45                  0  \n",
       "74                  0  \n",
       "114                 0  \n",
       "169                 0  \n",
       "172                 0  \n",
       "...               ...  \n",
       "168753              0  \n",
       "168771              0  \n",
       "168786              1  \n",
       "168940              1  \n",
       "168952              1  \n",
       "\n",
       "[3867 rows x 12 columns]"
      ]
     },
     "execution_count": 59,
     "metadata": {},
     "output_type": "execute_result"
    }
   ],
   "source": [
    "df[df.command_timeout>0]"
   ]
  },
  {
   "cell_type": "markdown",
   "metadata": {},
   "source": [
    "#### Which features or combination of features correlate with early failure?"
   ]
  },
  {
   "cell_type": "code",
   "execution_count": 47,
   "metadata": {},
   "outputs": [
    {
     "data": {
      "image/png": "[encoded data removed]",
      "text/plain": [
       "<Figure size 432x288 with 1 Axes>"
      ]
     },
     "metadata": {
      "needs_background": "light"
     },
     "output_type": "display_data"
    }
   ],
   "source": [
    "sns.barplot(df.manufacturer,df.early_failure)\n",
    "plt.show()"
   ]
  },
  {
   "cell_type": "markdown",
   "metadata": {},
   "source": [
    "> Of the four manufacturers being analyzed, Toshiba produces significantly more early failures."
   ]
  },
  {
   "cell_type": "code",
   "execution_count": 48,
   "metadata": {},
   "outputs": [
    {
     "data": {
      "image/png": "[encoded data removed]",
      "text/plain": [
       "<Figure size 720x432 with 1 Axes>"
      ]
     },
     "metadata": {
      "needs_background": "light"
     },
     "output_type": "display_data"
    }
   ],
   "source": [
    "# sns.set(rc={'figure.figsize':(10,6)})\n",
    "plt.figure(figsize=(10,6))\n",
    "sns.barplot(df.capacity_terabytes,df.early_failure)\n",
    "plt.show()"
   ]
  },
  {
   "cell_type": "markdown",
   "metadata": {},
   "source": [
    "> Failure rate dramatically increases in drives that have a 14 terabyte capacity."
   ]
  },
  {
   "cell_type": "markdown",
   "metadata": {},
   "source": [
    "## Split"
   ]
  },
  {
   "cell_type": "code",
   "execution_count": 49,
   "metadata": {},
   "outputs": [],
   "source": [
    "X_train, X_test, y_train, y_test = model.split_my_data(df)"
   ]
  },
  {
   "cell_type": "code",
   "execution_count": 50,
   "metadata": {},
   "outputs": [
    {
     "data": {
      "text/plain": [
       "(97520, 8)"
      ]
     },
     "execution_count": 50,
     "metadata": {},
     "output_type": "execute_result"
    }
   ],
   "source": [
    "X_train.shape"
   ]
  },
  {
   "cell_type": "code",
   "execution_count": 51,
   "metadata": {},
   "outputs": [
    {
     "data": {
      "text/plain": [
       "(24380, 8)"
      ]
     },
     "execution_count": 51,
     "metadata": {},
     "output_type": "execute_result"
    }
   ],
   "source": [
    "X_test.shape"
   ]
  },
  {
   "cell_type": "code",
   "execution_count": 52,
   "metadata": {},
   "outputs": [
    {
     "data": {
      "text/plain": [
       "(97520, 1)"
      ]
     },
     "execution_count": 52,
     "metadata": {},
     "output_type": "execute_result"
    }
   ],
   "source": [
    "y_train.shape"
   ]
  },
  {
   "cell_type": "code",
   "execution_count": 53,
   "metadata": {},
   "outputs": [
    {
     "data": {
      "text/plain": [
       "(24380, 1)"
      ]
     },
     "execution_count": 53,
     "metadata": {},
     "output_type": "execute_result"
    }
   ],
   "source": [
    "y_test.shape"
   ]
  },
  {
   "cell_type": "code",
   "execution_count": 54,
   "metadata": {},
   "outputs": [
    {
     "data": {
      "text/html": [
       "<div>\n",
       "<style scoped>\n",
       "    .dataframe tbody tr th:only-of-type {\n",
       "        vertical-align: middle;\n",
       "    }\n",
       "\n",
       "    .dataframe tbody tr th {\n",
       "        vertical-align: top;\n",
       "    }\n",
       "\n",
       "    .dataframe thead th {\n",
       "        text-align: right;\n",
       "    }\n",
       "</style>\n",
       "<table border=\"1\" class=\"dataframe\">\n",
       "  <thead>\n",
       "    <tr style=\"text-align: right;\">\n",
       "      <th></th>\n",
       "      <th>manufacturer</th>\n",
       "      <th>model</th>\n",
       "      <th>capacity_terabytes</th>\n",
       "      <th>reallocated_sectors_count</th>\n",
       "      <th>reported_uncorrectable_errors</th>\n",
       "      <th>command_timeout</th>\n",
       "      <th>current_pending_sector_count</th>\n",
       "      <th>uncorrectable_sector_count</th>\n",
       "    </tr>\n",
       "  </thead>\n",
       "  <tbody>\n",
       "    <tr>\n",
       "      <td>116194</td>\n",
       "      <td>Seagate</td>\n",
       "      <td>ST8000NM0055</td>\n",
       "      <td>8.0</td>\n",
       "      <td>0.0</td>\n",
       "      <td>0.0</td>\n",
       "      <td>0.0</td>\n",
       "      <td>0.0</td>\n",
       "      <td>0.0</td>\n",
       "    </tr>\n",
       "    <tr>\n",
       "      <td>142942</td>\n",
       "      <td>Seagate</td>\n",
       "      <td>ST4000DM000</td>\n",
       "      <td>4.0</td>\n",
       "      <td>0.0</td>\n",
       "      <td>0.0</td>\n",
       "      <td>0.0</td>\n",
       "      <td>0.0</td>\n",
       "      <td>0.0</td>\n",
       "    </tr>\n",
       "    <tr>\n",
       "      <td>97790</td>\n",
       "      <td>Seagate</td>\n",
       "      <td>ST12000NM0007</td>\n",
       "      <td>12.0</td>\n",
       "      <td>0.0</td>\n",
       "      <td>0.0</td>\n",
       "      <td>0.0</td>\n",
       "      <td>0.0</td>\n",
       "      <td>0.0</td>\n",
       "    </tr>\n",
       "    <tr>\n",
       "      <td>125503</td>\n",
       "      <td>Seagate</td>\n",
       "      <td>ST12000NM0007</td>\n",
       "      <td>12.0</td>\n",
       "      <td>0.0</td>\n",
       "      <td>0.0</td>\n",
       "      <td>0.0</td>\n",
       "      <td>0.0</td>\n",
       "      <td>0.0</td>\n",
       "    </tr>\n",
       "    <tr>\n",
       "      <td>162599</td>\n",
       "      <td>Seagate</td>\n",
       "      <td>ST6000DX000</td>\n",
       "      <td>6.0</td>\n",
       "      <td>0.0</td>\n",
       "      <td>0.0</td>\n",
       "      <td>0.0</td>\n",
       "      <td>0.0</td>\n",
       "      <td>0.0</td>\n",
       "    </tr>\n",
       "  </tbody>\n",
       "</table>\n",
       "</div>"
      ],
      "text/plain": [
       "       manufacturer          model  capacity_terabytes  \\\n",
       "116194      Seagate   ST8000NM0055                 8.0   \n",
       "142942      Seagate    ST4000DM000                 4.0   \n",
       "97790       Seagate  ST12000NM0007                12.0   \n",
       "125503      Seagate  ST12000NM0007                12.0   \n",
       "162599      Seagate    ST6000DX000                 6.0   \n",
       "\n",
       "        reallocated_sectors_count  reported_uncorrectable_errors  \\\n",
       "116194                        0.0                            0.0   \n",
       "142942                        0.0                            0.0   \n",
       "97790                         0.0                            0.0   \n",
       "125503                        0.0                            0.0   \n",
       "162599                        0.0                            0.0   \n",
       "\n",
       "        command_timeout  current_pending_sector_count  \\\n",
       "116194              0.0                           0.0   \n",
       "142942              0.0                           0.0   \n",
       "97790               0.0                           0.0   \n",
       "125503              0.0                           0.0   \n",
       "162599              0.0                           0.0   \n",
       "\n",
       "        uncorrectable_sector_count  \n",
       "116194                         0.0  \n",
       "142942                         0.0  \n",
       "97790                          0.0  \n",
       "125503                         0.0  \n",
       "162599                         0.0  "
      ]
     },
     "execution_count": 54,
     "metadata": {},
     "output_type": "execute_result"
    }
   ],
   "source": [
    "X_train.head()"
   ]
  },
  {
   "cell_type": "markdown",
   "metadata": {},
   "source": [
    "## Model"
   ]
  },
  {
   "cell_type": "code",
   "execution_count": 55,
   "metadata": {},
   "outputs": [
    {
     "name": "stderr",
     "output_type": "stream",
     "text": [
      "/Users/johnsalas/Desktop/hard-drive-project/Johns_capstone_folder/model.py:24: UserWarning: Pandas doesn't allow columns to be created via a new attribute name - see https://pandas.pydata.org/pandas-docs/stable/indexing.html#attribute-access\n",
      "  train.encoded = int_encoder.fit_transform(train[col_name])\n",
      "/Users/johnsalas/Desktop/hard-drive-project/Johns_capstone_folder/model.py:25: UserWarning: Pandas doesn't allow columns to be created via a new attribute name - see https://pandas.pydata.org/pandas-docs/stable/indexing.html#attribute-access\n",
      "  test.encoded = int_encoder.transform(test[col_name])\n"
     ]
    }
   ],
   "source": [
    "X_train, X_test = model.encode_hot(X_train, X_test, 'manufacturer')"
   ]
  },
  {
   "cell_type": "code",
   "execution_count": 56,
   "metadata": {},
   "outputs": [
    {
     "data": {
      "image/png": "[encoded data removed]",
      "text/plain": [
       "<Figure size 432x288 with 1 Axes>"
      ]
     },
     "metadata": {
      "needs_background": "light"
     },
     "output_type": "display_data"
    },
    {
     "data": {
      "image/png": "[encoded data removed]",
      "text/plain": [
       "<Figure size 432x288 with 1 Axes>"
      ]
     },
     "metadata": {
      "needs_background": "light"
     },
     "output_type": "display_data"
    },
    {
     "data": {
      "image/png": "[encoded data removed]",
      "text/plain": [
       "<Figure size 432x288 with 1 Axes>"
      ]
     },
     "metadata": {
      "needs_background": "light"
     },
     "output_type": "display_data"
    },
    {
     "data": {
      "image/png": "[encoded data removed]",
      "text/plain": [
       "<Figure size 432x288 with 1 Axes>"
      ]
     },
     "metadata": {
      "needs_background": "light"
     },
     "output_type": "display_data"
    },
    {
     "data": {
      "image/png": "[encoded data removed]",
      "text/plain": [
       "<Figure size 432x288 with 1 Axes>"
      ]
     },
     "metadata": {
      "needs_background": "light"
     },
     "output_type": "display_data"
    }
   ],
   "source": [
    "for stat in smart_stats_5:\n",
    "    sns.barplot(df.early_failure,df[stat])\n",
    "    plt.title(\"Is {} \\n related to when a hard drive fails early?\".format(stat))\n",
    "    plt.xticks([0,1],[\"no\",\"yes\"])\n",
    "    plt.show()"
   ]
  },
  {
   "cell_type": "code",
   "execution_count": 62,
   "metadata": {},
   "outputs": [
    {
     "name": "stderr",
     "output_type": "stream",
     "text": [
      "/Users/johnsalas/Desktop/hard-drive-project/Johns_capstone_folder/model.py:54: UserWarning: Pandas doesn't allow columns to be created via a new attribute name - see https://pandas.pydata.org/pandas-docs/stable/indexing.html#attribute-access\n",
      "  train.encoded = int_encoder.fit_transform(train[col_name])\n"
     ]
    },
    {
     "ename": "ValueError",
     "evalue": "columns overlap but no suffix specified: Index(['HGST HDS5C4040ALE630', 'HGST HDS724040ALE640', 'HGST HMS5C4040ALE640',\n       'HGST HMS5C4040BLE640', 'HGST HUH721212ALE600', 'HGST HUH721212ALN604',\n       'HGST HUH728080ALE600', 'HGST HUS726040ALE610',\n       'Hitachi HDS5C3030ALA630', 'Hitachi HDS5C3030BLE630',\n       'Hitachi HDS5C4040ALE630', 'Hitachi HDS722020ALA330',\n       'Hitachi HDS723020BLA642', 'Hitachi HDS723030ALA640',\n       'Hitachi HDS723030BLE640', 'Hitachi HDS724040ALE640',\n       'Hitachi HDT725025VLA380', 'ST10000NM0086', 'ST1000LM024 HN',\n       'ST12000NM0007', 'ST12000NM0117', 'ST250LM004 HN', 'ST250LT007',\n       'ST31500341AS', 'ST31500541AS', 'ST3160316AS', 'ST3160318AS',\n       'ST320LT007', 'ST33000651AS', 'ST3500320AS', 'ST4000DM000',\n       'ST4000DM001', 'ST4000DM005', 'ST4000DX000', 'ST4000DX002',\n       'ST500LM012 HN', 'ST500LM030', 'ST6000DM001', 'ST6000DX000',\n       'ST8000DM002', 'ST8000DM004', 'ST8000DM005', 'ST8000NM0055',\n       'ST9250315AS', 'ST9320325AS', 'TOSHIBA DT01ACA300',\n       'TOSHIBA MD04ABA400V', 'TOSHIBA MD04ABA500V', 'TOSHIBA MG07ACA14TA',\n       'TOSHIBA MQ01ABF050', 'TOSHIBA MQ01ABF050M', 'WDC WD1000FYPS',\n       'WDC WD1001FALS', 'WDC WD10EACS', 'WDC WD10EADS', 'WDC WD10EADX',\n       'WDC WD10EALS', 'WDC WD10EARS', 'WDC WD10EARX', 'WDC WD15EARS',\n       'WDC WD1600AAJB', 'WDC WD1600AAJS', 'WDC WD1600BPVT', 'WDC WD20EFRX',\n       'WDC WD2500AAJB', 'WDC WD2500AAJS', 'WDC WD2500BEVT', 'WDC WD2500BPVT',\n       'WDC WD30EFRX', 'WDC WD3200AAJB', 'WDC WD3200AAJS', 'WDC WD3200AAKS',\n       'WDC WD3200BEKT', 'WDC WD3200BEKX', 'WDC WD3200LPVX', 'WDC WD40EFRX',\n       'WDC WD5000BPKT', 'WDC WD5000LPCX', 'WDC WD5000LPVX', 'WDC WD5002ABYS',\n       'WDC WD5003ABYX', 'WDC WD60EFRX', 'WDC WD800AAJB', 'WDC WD800AAJS',\n       'WDC WD800BB', 'WDC WD800JB', 'WDC WD800LB'],\n      dtype='object')",
     "output_type": "error",
     "traceback": [
      "\u001b[0;31m---------------------------------------------------------------------------\u001b[0m",
      "\u001b[0;31mValueError\u001b[0m                                Traceback (most recent call last)",
      "\u001b[0;32m<ipython-input-62-b891fe2107b5>\u001b[0m in \u001b[0;36m<module>\u001b[0;34m\u001b[0m\n\u001b[0;32m----> 1\u001b[0;31m \u001b[0mX_train\u001b[0m \u001b[0;34m=\u001b[0m \u001b[0mmodel\u001b[0m\u001b[0;34m.\u001b[0m\u001b[0mencode_hot_X\u001b[0m\u001b[0;34m(\u001b[0m\u001b[0mX_train\u001b[0m\u001b[0;34m,\u001b[0m \u001b[0;34m'model'\u001b[0m\u001b[0;34m)\u001b[0m\u001b[0;34m\u001b[0m\u001b[0;34m\u001b[0m\u001b[0m\n\u001b[0m\u001b[1;32m      2\u001b[0m \u001b[0mX_test\u001b[0m \u001b[0;34m=\u001b[0m \u001b[0mmodel\u001b[0m\u001b[0;34m.\u001b[0m\u001b[0mencode_hot_X\u001b[0m\u001b[0;34m(\u001b[0m\u001b[0mX_test\u001b[0m\u001b[0;34m,\u001b[0m \u001b[0;34m'model'\u001b[0m\u001b[0;34m)\u001b[0m\u001b[0;34m\u001b[0m\u001b[0;34m\u001b[0m\u001b[0m\n",
      "\u001b[0;32m~/Desktop/hard-drive-project/Johns_capstone_folder/model.py\u001b[0m in \u001b[0;36mencode_hot_X\u001b[0;34m(train, col_name)\u001b[0m\n\u001b[1;32m     65\u001b[0m     \u001b[0;31m# then merge the new dataframe with the existing train/test dataframe\u001b[0m\u001b[0;34m\u001b[0m\u001b[0;34m\u001b[0m\u001b[0;34m\u001b[0m\u001b[0m\n\u001b[1;32m     66\u001b[0m     \u001b[0mtrain_encoded\u001b[0m \u001b[0;34m=\u001b[0m \u001b[0mpd\u001b[0m\u001b[0;34m.\u001b[0m\u001b[0mDataFrame\u001b[0m\u001b[0;34m(\u001b[0m\u001b[0mdata\u001b[0m\u001b[0;34m=\u001b[0m\u001b[0mtrain_ohe\u001b[0m\u001b[0;34m,\u001b[0m \u001b[0mcolumns\u001b[0m\u001b[0;34m=\u001b[0m\u001b[0mencoded_values\u001b[0m\u001b[0;34m,\u001b[0m \u001b[0mindex\u001b[0m\u001b[0;34m=\u001b[0m\u001b[0mtrain\u001b[0m\u001b[0;34m.\u001b[0m\u001b[0mindex\u001b[0m\u001b[0;34m)\u001b[0m\u001b[0;34m\u001b[0m\u001b[0;34m\u001b[0m\u001b[0m\n\u001b[0;32m---> 67\u001b[0;31m     \u001b[0mtrain\u001b[0m \u001b[0;34m=\u001b[0m \u001b[0mtrain\u001b[0m\u001b[0;34m.\u001b[0m\u001b[0mjoin\u001b[0m\u001b[0;34m(\u001b[0m\u001b[0mtrain_encoded\u001b[0m\u001b[0;34m)\u001b[0m\u001b[0;34m\u001b[0m\u001b[0;34m\u001b[0m\u001b[0m\n\u001b[0m\u001b[1;32m     68\u001b[0m \u001b[0;31m#     test_encoded = pd.DataFrame(data=test_ohe, columns=encoded_values, index=test.index)\u001b[0m\u001b[0;34m\u001b[0m\u001b[0;34m\u001b[0m\u001b[0;34m\u001b[0m\u001b[0m\n\u001b[1;32m     69\u001b[0m \u001b[0;31m#     test = test.join(test_encoded)\u001b[0m\u001b[0;34m\u001b[0m\u001b[0;34m\u001b[0m\u001b[0;34m\u001b[0m\u001b[0m\n",
      "\u001b[0;32m/usr/local/anaconda3/lib/python3.7/site-packages/pandas/core/frame.py\u001b[0m in \u001b[0;36mjoin\u001b[0;34m(self, other, on, how, lsuffix, rsuffix, sort)\u001b[0m\n\u001b[1;32m   7244\u001b[0m         \u001b[0;31m# For SparseDataFrame's benefit\u001b[0m\u001b[0;34m\u001b[0m\u001b[0;34m\u001b[0m\u001b[0;34m\u001b[0m\u001b[0m\n\u001b[1;32m   7245\u001b[0m         return self._join_compat(\n\u001b[0;32m-> 7246\u001b[0;31m             \u001b[0mother\u001b[0m\u001b[0;34m,\u001b[0m \u001b[0mon\u001b[0m\u001b[0;34m=\u001b[0m\u001b[0mon\u001b[0m\u001b[0;34m,\u001b[0m \u001b[0mhow\u001b[0m\u001b[0;34m=\u001b[0m\u001b[0mhow\u001b[0m\u001b[0;34m,\u001b[0m \u001b[0mlsuffix\u001b[0m\u001b[0;34m=\u001b[0m\u001b[0mlsuffix\u001b[0m\u001b[0;34m,\u001b[0m \u001b[0mrsuffix\u001b[0m\u001b[0;34m=\u001b[0m\u001b[0mrsuffix\u001b[0m\u001b[0;34m,\u001b[0m \u001b[0msort\u001b[0m\u001b[0;34m=\u001b[0m\u001b[0msort\u001b[0m\u001b[0;34m\u001b[0m\u001b[0;34m\u001b[0m\u001b[0m\n\u001b[0m\u001b[1;32m   7247\u001b[0m         )\n\u001b[1;32m   7248\u001b[0m \u001b[0;34m\u001b[0m\u001b[0m\n",
      "\u001b[0;32m/usr/local/anaconda3/lib/python3.7/site-packages/pandas/core/frame.py\u001b[0m in \u001b[0;36m_join_compat\u001b[0;34m(self, other, on, how, lsuffix, rsuffix, sort)\u001b[0m\n\u001b[1;32m   7267\u001b[0m                 \u001b[0mright_index\u001b[0m\u001b[0;34m=\u001b[0m\u001b[0;32mTrue\u001b[0m\u001b[0;34m,\u001b[0m\u001b[0;34m\u001b[0m\u001b[0;34m\u001b[0m\u001b[0m\n\u001b[1;32m   7268\u001b[0m                 \u001b[0msuffixes\u001b[0m\u001b[0;34m=\u001b[0m\u001b[0;34m(\u001b[0m\u001b[0mlsuffix\u001b[0m\u001b[0;34m,\u001b[0m \u001b[0mrsuffix\u001b[0m\u001b[0;34m)\u001b[0m\u001b[0;34m,\u001b[0m\u001b[0;34m\u001b[0m\u001b[0;34m\u001b[0m\u001b[0m\n\u001b[0;32m-> 7269\u001b[0;31m                 \u001b[0msort\u001b[0m\u001b[0;34m=\u001b[0m\u001b[0msort\u001b[0m\u001b[0;34m,\u001b[0m\u001b[0;34m\u001b[0m\u001b[0;34m\u001b[0m\u001b[0m\n\u001b[0m\u001b[1;32m   7270\u001b[0m             )\n\u001b[1;32m   7271\u001b[0m         \u001b[0;32melse\u001b[0m\u001b[0;34m:\u001b[0m\u001b[0;34m\u001b[0m\u001b[0;34m\u001b[0m\u001b[0m\n",
      "\u001b[0;32m/usr/local/anaconda3/lib/python3.7/site-packages/pandas/core/reshape/merge.py\u001b[0m in \u001b[0;36mmerge\u001b[0;34m(left, right, how, on, left_on, right_on, left_index, right_index, sort, suffixes, copy, indicator, validate)\u001b[0m\n\u001b[1;32m     81\u001b[0m         \u001b[0mvalidate\u001b[0m\u001b[0;34m=\u001b[0m\u001b[0mvalidate\u001b[0m\u001b[0;34m,\u001b[0m\u001b[0;34m\u001b[0m\u001b[0;34m\u001b[0m\u001b[0m\n\u001b[1;32m     82\u001b[0m     )\n\u001b[0;32m---> 83\u001b[0;31m     \u001b[0;32mreturn\u001b[0m \u001b[0mop\u001b[0m\u001b[0;34m.\u001b[0m\u001b[0mget_result\u001b[0m\u001b[0;34m(\u001b[0m\u001b[0;34m)\u001b[0m\u001b[0;34m\u001b[0m\u001b[0;34m\u001b[0m\u001b[0m\n\u001b[0m\u001b[1;32m     84\u001b[0m \u001b[0;34m\u001b[0m\u001b[0m\n\u001b[1;32m     85\u001b[0m \u001b[0;34m\u001b[0m\u001b[0m\n",
      "\u001b[0;32m/usr/local/anaconda3/lib/python3.7/site-packages/pandas/core/reshape/merge.py\u001b[0m in \u001b[0;36mget_result\u001b[0;34m(self)\u001b[0m\n\u001b[1;32m    646\u001b[0m \u001b[0;34m\u001b[0m\u001b[0m\n\u001b[1;32m    647\u001b[0m         llabels, rlabels = _items_overlap_with_suffix(\n\u001b[0;32m--> 648\u001b[0;31m             \u001b[0mldata\u001b[0m\u001b[0;34m.\u001b[0m\u001b[0mitems\u001b[0m\u001b[0;34m,\u001b[0m \u001b[0mlsuf\u001b[0m\u001b[0;34m,\u001b[0m \u001b[0mrdata\u001b[0m\u001b[0;34m.\u001b[0m\u001b[0mitems\u001b[0m\u001b[0;34m,\u001b[0m \u001b[0mrsuf\u001b[0m\u001b[0;34m\u001b[0m\u001b[0;34m\u001b[0m\u001b[0m\n\u001b[0m\u001b[1;32m    649\u001b[0m         )\n\u001b[1;32m    650\u001b[0m \u001b[0;34m\u001b[0m\u001b[0m\n",
      "\u001b[0;32m/usr/local/anaconda3/lib/python3.7/site-packages/pandas/core/reshape/merge.py\u001b[0m in \u001b[0;36m_items_overlap_with_suffix\u001b[0;34m(left, lsuffix, right, rsuffix)\u001b[0m\n\u001b[1;32m   2009\u001b[0m         raise ValueError(\n\u001b[1;32m   2010\u001b[0m             \u001b[0;34m\"columns overlap but no suffix specified: \"\u001b[0m\u001b[0;34m\u001b[0m\u001b[0;34m\u001b[0m\u001b[0m\n\u001b[0;32m-> 2011\u001b[0;31m             \u001b[0;34m\"{rename}\"\u001b[0m\u001b[0;34m.\u001b[0m\u001b[0mformat\u001b[0m\u001b[0;34m(\u001b[0m\u001b[0mrename\u001b[0m\u001b[0;34m=\u001b[0m\u001b[0mto_rename\u001b[0m\u001b[0;34m)\u001b[0m\u001b[0;34m\u001b[0m\u001b[0;34m\u001b[0m\u001b[0m\n\u001b[0m\u001b[1;32m   2012\u001b[0m         )\n\u001b[1;32m   2013\u001b[0m \u001b[0;34m\u001b[0m\u001b[0m\n",
      "\u001b[0;31mValueError\u001b[0m: columns overlap but no suffix specified: Index(['HGST HDS5C4040ALE630', 'HGST HDS724040ALE640', 'HGST HMS5C4040ALE640',\n       'HGST HMS5C4040BLE640', 'HGST HUH721212ALE600', 'HGST HUH721212ALN604',\n       'HGST HUH728080ALE600', 'HGST HUS726040ALE610',\n       'Hitachi HDS5C3030ALA630', 'Hitachi HDS5C3030BLE630',\n       'Hitachi HDS5C4040ALE630', 'Hitachi HDS722020ALA330',\n       'Hitachi HDS723020BLA642', 'Hitachi HDS723030ALA640',\n       'Hitachi HDS723030BLE640', 'Hitachi HDS724040ALE640',\n       'Hitachi HDT725025VLA380', 'ST10000NM0086', 'ST1000LM024 HN',\n       'ST12000NM0007', 'ST12000NM0117', 'ST250LM004 HN', 'ST250LT007',\n       'ST31500341AS', 'ST31500541AS', 'ST3160316AS', 'ST3160318AS',\n       'ST320LT007', 'ST33000651AS', 'ST3500320AS', 'ST4000DM000',\n       'ST4000DM001', 'ST4000DM005', 'ST4000DX000', 'ST4000DX002',\n       'ST500LM012 HN', 'ST500LM030', 'ST6000DM001', 'ST6000DX000',\n       'ST8000DM002', 'ST8000DM004', 'ST8000DM005', 'ST8000NM0055',\n       'ST9250315AS', 'ST9320325AS', 'TOSHIBA DT01ACA300',\n       'TOSHIBA MD04ABA400V', 'TOSHIBA MD04ABA500V', 'TOSHIBA MG07ACA14TA',\n       'TOSHIBA MQ01ABF050', 'TOSHIBA MQ01ABF050M', 'WDC WD1000FYPS',\n       'WDC WD1001FALS', 'WDC WD10EACS', 'WDC WD10EADS', 'WDC WD10EADX',\n       'WDC WD10EALS', 'WDC WD10EARS', 'WDC WD10EARX', 'WDC WD15EARS',\n       'WDC WD1600AAJB', 'WDC WD1600AAJS', 'WDC WD1600BPVT', 'WDC WD20EFRX',\n       'WDC WD2500AAJB', 'WDC WD2500AAJS', 'WDC WD2500BEVT', 'WDC WD2500BPVT',\n       'WDC WD30EFRX', 'WDC WD3200AAJB', 'WDC WD3200AAJS', 'WDC WD3200AAKS',\n       'WDC WD3200BEKT', 'WDC WD3200BEKX', 'WDC WD3200LPVX', 'WDC WD40EFRX',\n       'WDC WD5000BPKT', 'WDC WD5000LPCX', 'WDC WD5000LPVX', 'WDC WD5002ABYS',\n       'WDC WD5003ABYX', 'WDC WD60EFRX', 'WDC WD800AAJB', 'WDC WD800AAJS',\n       'WDC WD800BB', 'WDC WD800JB', 'WDC WD800LB'],\n      dtype='object')"
     ]
    }
   ],
   "source": [
    "X_train = model.encode_hot_X(X_train, 'model')\n",
    "X_test = model.encode_hot_X(X_test, 'model')"
   ]
  },
  {
   "cell_type": "code",
   "execution_count": 58,
   "metadata": {},
   "outputs": [
    {
     "name": "stdout",
     "output_type": "stream",
     "text": [
      "\n",
      "\n",
      "1\n",
      "\n"
     ]
    },
    {
     "ename": "ValueError",
     "evalue": "could not convert string to float: 'ST8000NM0055'",
     "output_type": "error",
     "traceback": [
      "\u001b[0;31m---------------------------------------------------------------------------\u001b[0m",
      "\u001b[0;31mValueError\u001b[0m                                Traceback (most recent call last)",
      "\u001b[0;32m<ipython-input-58-d91a63e27cad>\u001b[0m in \u001b[0;36m<module>\u001b[0;34m\u001b[0m\n\u001b[1;32m     16\u001b[0m     \u001b[0mclf\u001b[0m \u001b[0;34m=\u001b[0m \u001b[0mDecisionTreeClassifier\u001b[0m\u001b[0;34m(\u001b[0m\u001b[0mcriterion\u001b[0m\u001b[0;34m=\u001b[0m\u001b[0;34m'entropy'\u001b[0m\u001b[0;34m,\u001b[0m \u001b[0mmax_depth\u001b[0m\u001b[0;34m=\u001b[0m\u001b[0mnumber\u001b[0m\u001b[0;34m,\u001b[0m \u001b[0mrandom_state\u001b[0m\u001b[0;34m=\u001b[0m\u001b[0;36m123\u001b[0m\u001b[0;34m)\u001b[0m\u001b[0;34m\u001b[0m\u001b[0;34m\u001b[0m\u001b[0m\n\u001b[1;32m     17\u001b[0m \u001b[0;34m\u001b[0m\u001b[0m\n\u001b[0;32m---> 18\u001b[0;31m     \u001b[0mclf\u001b[0m \u001b[0;34m=\u001b[0m \u001b[0mclf\u001b[0m\u001b[0;34m.\u001b[0m\u001b[0mfit\u001b[0m\u001b[0;34m(\u001b[0m\u001b[0mX_train\u001b[0m\u001b[0;34m,\u001b[0m \u001b[0my_train\u001b[0m\u001b[0;34m)\u001b[0m\u001b[0;34m\u001b[0m\u001b[0;34m\u001b[0m\u001b[0m\n\u001b[0m\u001b[1;32m     19\u001b[0m \u001b[0;34m\u001b[0m\u001b[0m\n\u001b[1;32m     20\u001b[0m     DecisionTreeClassifier(class_weight=None, criterion='gini', max_depth=number,\n",
      "\u001b[0;32m/usr/local/anaconda3/lib/python3.7/site-packages/sklearn/tree/tree.py\u001b[0m in \u001b[0;36mfit\u001b[0;34m(self, X, y, sample_weight, check_input, X_idx_sorted)\u001b[0m\n\u001b[1;32m    814\u001b[0m             \u001b[0msample_weight\u001b[0m\u001b[0;34m=\u001b[0m\u001b[0msample_weight\u001b[0m\u001b[0;34m,\u001b[0m\u001b[0;34m\u001b[0m\u001b[0;34m\u001b[0m\u001b[0m\n\u001b[1;32m    815\u001b[0m             \u001b[0mcheck_input\u001b[0m\u001b[0;34m=\u001b[0m\u001b[0mcheck_input\u001b[0m\u001b[0;34m,\u001b[0m\u001b[0;34m\u001b[0m\u001b[0;34m\u001b[0m\u001b[0m\n\u001b[0;32m--> 816\u001b[0;31m             X_idx_sorted=X_idx_sorted)\n\u001b[0m\u001b[1;32m    817\u001b[0m         \u001b[0;32mreturn\u001b[0m \u001b[0mself\u001b[0m\u001b[0;34m\u001b[0m\u001b[0;34m\u001b[0m\u001b[0m\n\u001b[1;32m    818\u001b[0m \u001b[0;34m\u001b[0m\u001b[0m\n",
      "\u001b[0;32m/usr/local/anaconda3/lib/python3.7/site-packages/sklearn/tree/tree.py\u001b[0m in \u001b[0;36mfit\u001b[0;34m(self, X, y, sample_weight, check_input, X_idx_sorted)\u001b[0m\n\u001b[1;32m    128\u001b[0m         \u001b[0mrandom_state\u001b[0m \u001b[0;34m=\u001b[0m \u001b[0mcheck_random_state\u001b[0m\u001b[0;34m(\u001b[0m\u001b[0mself\u001b[0m\u001b[0;34m.\u001b[0m\u001b[0mrandom_state\u001b[0m\u001b[0;34m)\u001b[0m\u001b[0;34m\u001b[0m\u001b[0;34m\u001b[0m\u001b[0m\n\u001b[1;32m    129\u001b[0m         \u001b[0;32mif\u001b[0m \u001b[0mcheck_input\u001b[0m\u001b[0;34m:\u001b[0m\u001b[0;34m\u001b[0m\u001b[0;34m\u001b[0m\u001b[0m\n\u001b[0;32m--> 130\u001b[0;31m             \u001b[0mX\u001b[0m \u001b[0;34m=\u001b[0m \u001b[0mcheck_array\u001b[0m\u001b[0;34m(\u001b[0m\u001b[0mX\u001b[0m\u001b[0;34m,\u001b[0m \u001b[0mdtype\u001b[0m\u001b[0;34m=\u001b[0m\u001b[0mDTYPE\u001b[0m\u001b[0;34m,\u001b[0m \u001b[0maccept_sparse\u001b[0m\u001b[0;34m=\u001b[0m\u001b[0;34m\"csc\"\u001b[0m\u001b[0;34m)\u001b[0m\u001b[0;34m\u001b[0m\u001b[0;34m\u001b[0m\u001b[0m\n\u001b[0m\u001b[1;32m    131\u001b[0m             \u001b[0my\u001b[0m \u001b[0;34m=\u001b[0m \u001b[0mcheck_array\u001b[0m\u001b[0;34m(\u001b[0m\u001b[0my\u001b[0m\u001b[0;34m,\u001b[0m \u001b[0mensure_2d\u001b[0m\u001b[0;34m=\u001b[0m\u001b[0;32mFalse\u001b[0m\u001b[0;34m,\u001b[0m \u001b[0mdtype\u001b[0m\u001b[0;34m=\u001b[0m\u001b[0;32mNone\u001b[0m\u001b[0;34m)\u001b[0m\u001b[0;34m\u001b[0m\u001b[0;34m\u001b[0m\u001b[0m\n\u001b[1;32m    132\u001b[0m             \u001b[0;32mif\u001b[0m \u001b[0missparse\u001b[0m\u001b[0;34m(\u001b[0m\u001b[0mX\u001b[0m\u001b[0;34m)\u001b[0m\u001b[0;34m:\u001b[0m\u001b[0;34m\u001b[0m\u001b[0;34m\u001b[0m\u001b[0m\n",
      "\u001b[0;32m/usr/local/anaconda3/lib/python3.7/site-packages/sklearn/utils/validation.py\u001b[0m in \u001b[0;36mcheck_array\u001b[0;34m(array, accept_sparse, accept_large_sparse, dtype, order, copy, force_all_finite, ensure_2d, allow_nd, ensure_min_samples, ensure_min_features, warn_on_dtype, estimator)\u001b[0m\n\u001b[1;32m    494\u001b[0m             \u001b[0;32mtry\u001b[0m\u001b[0;34m:\u001b[0m\u001b[0;34m\u001b[0m\u001b[0;34m\u001b[0m\u001b[0m\n\u001b[1;32m    495\u001b[0m                 \u001b[0mwarnings\u001b[0m\u001b[0;34m.\u001b[0m\u001b[0msimplefilter\u001b[0m\u001b[0;34m(\u001b[0m\u001b[0;34m'error'\u001b[0m\u001b[0;34m,\u001b[0m \u001b[0mComplexWarning\u001b[0m\u001b[0;34m)\u001b[0m\u001b[0;34m\u001b[0m\u001b[0;34m\u001b[0m\u001b[0m\n\u001b[0;32m--> 496\u001b[0;31m                 \u001b[0marray\u001b[0m \u001b[0;34m=\u001b[0m \u001b[0mnp\u001b[0m\u001b[0;34m.\u001b[0m\u001b[0masarray\u001b[0m\u001b[0;34m(\u001b[0m\u001b[0marray\u001b[0m\u001b[0;34m,\u001b[0m \u001b[0mdtype\u001b[0m\u001b[0;34m=\u001b[0m\u001b[0mdtype\u001b[0m\u001b[0;34m,\u001b[0m \u001b[0morder\u001b[0m\u001b[0;34m=\u001b[0m\u001b[0morder\u001b[0m\u001b[0;34m)\u001b[0m\u001b[0;34m\u001b[0m\u001b[0;34m\u001b[0m\u001b[0m\n\u001b[0m\u001b[1;32m    497\u001b[0m             \u001b[0;32mexcept\u001b[0m \u001b[0mComplexWarning\u001b[0m\u001b[0;34m:\u001b[0m\u001b[0;34m\u001b[0m\u001b[0;34m\u001b[0m\u001b[0m\n\u001b[1;32m    498\u001b[0m                 raise ValueError(\"Complex data not supported\\n\"\n",
      "\u001b[0;32m/usr/local/anaconda3/lib/python3.7/site-packages/numpy/core/_asarray.py\u001b[0m in \u001b[0;36masarray\u001b[0;34m(a, dtype, order)\u001b[0m\n\u001b[1;32m     83\u001b[0m \u001b[0;34m\u001b[0m\u001b[0m\n\u001b[1;32m     84\u001b[0m     \"\"\"\n\u001b[0;32m---> 85\u001b[0;31m     \u001b[0;32mreturn\u001b[0m \u001b[0marray\u001b[0m\u001b[0;34m(\u001b[0m\u001b[0ma\u001b[0m\u001b[0;34m,\u001b[0m \u001b[0mdtype\u001b[0m\u001b[0;34m,\u001b[0m \u001b[0mcopy\u001b[0m\u001b[0;34m=\u001b[0m\u001b[0;32mFalse\u001b[0m\u001b[0;34m,\u001b[0m \u001b[0morder\u001b[0m\u001b[0;34m=\u001b[0m\u001b[0morder\u001b[0m\u001b[0;34m)\u001b[0m\u001b[0;34m\u001b[0m\u001b[0;34m\u001b[0m\u001b[0m\n\u001b[0m\u001b[1;32m     86\u001b[0m \u001b[0;34m\u001b[0m\u001b[0m\n\u001b[1;32m     87\u001b[0m \u001b[0;34m\u001b[0m\u001b[0m\n",
      "\u001b[0;31mValueError\u001b[0m: could not convert string to float: 'ST8000NM0055'"
     ]
    }
   ],
   "source": [
    "from sklearn.tree import DecisionTreeClassifier, export_graphviz\n",
    "from sklearn import tree\n",
    "from sklearn.datasets import load_wine\n",
    "from IPython.display import SVG\n",
    "from graphviz import Source\n",
    "from IPython.display import display\n",
    "from sklearn.metrics import confusion_matrix\n",
    "from sklearn.metrics import classification_report\n",
    "\n",
    "for number in range (1,11):\n",
    "    \n",
    "    print('')\n",
    "    print('')\n",
    "    print(number)\n",
    "    print('')\n",
    "    clf = DecisionTreeClassifier(criterion='entropy', max_depth=number, random_state=123)\n",
    "\n",
    "    clf = clf.fit(X_train, y_train)\n",
    "\n",
    "    DecisionTreeClassifier(class_weight=None, criterion='gini', max_depth=number,\n",
    "            max_features=None, max_leaf_nodes=None,\n",
    "            min_impurity_decrease=0.0, min_impurity_split=None,\n",
    "            min_samples_leaf=1, min_samples_split=2,\n",
    "            min_weight_fraction_leaf=0.0, presort=False, random_state=123,\n",
    "            splitter='best')\n",
    "\n",
    "    y_pred = clf.predict(X_train)\n",
    "    #y_pred = clf.predict(X_test)\n",
    "\n",
    "    y_pred_proba = clf.predict_proba(X_train)\n",
    "  \n",
    "    \n",
    "    #print(y_pred_proba)\n",
    "\n",
    "    #print('')\n",
    "\n",
    "    print(confusion_matrix(y_train, y_pred))\n",
    "\n",
    "    #print('')\n",
    "\n",
    "    print('Accuracy of Decision Tree classifier on training set: {:.2f}'\n",
    "     .format(clf.score(X_train, y_train)))\n",
    "    \n",
    "    #print('Accuracy of Decision Tree classifier on test set: {:.2f}'\n",
    "    # .format(clf.score(X_test, y_test)))\n",
    "\n",
    "    labels = sorted(y_train.early_failure.unique())\n",
    "\n",
    "    print('')\n",
    "\n",
    "    #print(pd.DataFrame(confusion_matrix(y_train, y_pred), index=labels, columns=labels))\n",
    "    \n",
    "    print(classification_report(y_train, y_pred))\n",
    "    #print(classification_report(y_test, y_pred))"
   ]
  },
  {
   "cell_type": "code",
   "execution_count": null,
   "metadata": {},
   "outputs": [],
   "source": []
  }
 ],
 "metadata": {
  "kernelspec": {
   "display_name": "Python 3",
   "language": "python",
   "name": "python3"
  },
  "language_info": {
   "codemirror_mode": {
    "name": "ipython",
    "version": 3
   },
   "file_extension": ".py",
   "mimetype": "text/x-python",
   "name": "python",
   "nbconvert_exporter": "python",
   "pygments_lexer": "ipython3",
   "version": "3.7.4"
  },
  "toc": {
   "base_numbering": 1,
   "nav_menu": {},
   "number_sections": false,
   "sideBar": true,
   "skip_h1_title": true,
   "title_cell": "Table of Contents",
   "title_sidebar": "Contents",
   "toc_cell": false,
   "toc_position": {},
   "toc_section_display": true,
   "toc_window_display": false
  }
 },
 "nbformat": 4,
 "nbformat_minor": 2
}
