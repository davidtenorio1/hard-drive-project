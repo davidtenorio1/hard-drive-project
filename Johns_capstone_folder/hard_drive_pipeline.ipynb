{
 "cells": [
  {
   "cell_type": "markdown",
   "metadata": {},
   "source": [
    "# Which Hard Drives are Most Reliable? "
   ]
  },
  {
   "cell_type": "markdown",
   "metadata": {},
   "source": [
    "## Plan"
   ]
  },
  {
   "cell_type": "markdown",
   "metadata": {},
   "source": [
    "\n",
    "The goal of our project is to determine which hard drives are most reliable by classifying and predicting early hard drive failures. \n",
    "\n",
    "Hypotheses:\n",
    "- The 5 SMART (Self-Monitoring, Analysis and Reporting Technology) stats identified by Backblaze will indicate device hard drive failure\n",
    "- Hard drive early fail rates will vary by model \n",
    "- Hard drive early fail rates will vary by manufacturer \n",
    "- Hard drive early fail rates will vary by  "
   ]
  },
  {
   "cell_type": "code",
   "execution_count": 1,
   "metadata": {},
   "outputs": [],
   "source": [
    "# data wrangling\n",
    "import pandas as pd\n",
    "import numpy as np\n",
    "\n",
    "# visualizations\n",
    "import matplotlib.pyplot as plt\n",
    "import seaborn as sns\n",
    "\n",
    "# py files\n",
    "import acquire\n",
    "import prepare\n",
    "import explore\n",
    "import model\n",
    "\n",
    "# ignore warnings\n",
    "import warnings\n",
    "warnings.filterwarnings(\"ignore\")"
   ]
  },
  {
   "cell_type": "markdown",
   "metadata": {},
   "source": [
    "## Acquire"
   ]
  },
  {
   "cell_type": "markdown",
   "metadata": {},
   "source": [
    "The raw data is available on Backblaze.com. For this analysis, the hard drive data from 2016 - 2019 is utilized. The files are downloaded to a local computer and then unzipped. The files are renamed to the format, \"data_Qx_201x\", and placed in a folder titled \"data\". \n",
    "\n",
    "The `acquire.acquire_agg_data` function reads in the data, aggregates it, and returns a Pandas dataframe. \n",
    "- Using Spark, a dataframe is created from each directory of csv files. The dataframes are concated together with their common columns. This gives a dataframe with 95 columns and 121,390,247 rows. \n",
    "- Backblaze identifies 5 SMART stats that predict hard drive failure (SMART 5, 187, 188, 197, 198). The max value of each of these stats are extracted and the dataframe is aggregated by serial number. This reduces the dataframe to 9 columns and 169,073 rows. \n",
    "- The spark dataframe is converted to a Pandas dataframe \n",
    "- The Pandas dataframe is saved as \"hard_drives_smart_5.csv\" for future use\n",
    "\n",
    "This csv is linked in the README and can be downloaded. If \"hard_drives_smart_5.csv\" is in the working directory, `acquire.acquire_agg_data` will read from the csv instead recreating the dataframe.  "
   ]
  },
  {
   "cell_type": "code",
   "execution_count": 2,
   "metadata": {},
   "outputs": [],
   "source": [
    "df = acquire.acquire_agg_data()"
   ]
  },
  {
   "cell_type": "code",
   "execution_count": 3,
   "metadata": {},
   "outputs": [
    {
     "name": "stdout",
     "output_type": "stream",
     "text": [
      "<class 'pandas.core.frame.DataFrame'>\n",
      "RangeIndex: 169073 entries, 0 to 169072\n",
      "Data columns (total 10 columns):\n",
      "serial_number         169072 non-null object\n",
      "model                 169073 non-null object\n",
      "capacity_bytes        169073 non-null int64\n",
      "max(failure)          169073 non-null int64\n",
      "max(smart_9_raw)      161975 non-null float64\n",
      "max(smart_5_raw)      161851 non-null float64\n",
      "max(smart_187_raw)    104189 non-null float64\n",
      "max(smart_188_raw)    104179 non-null float64\n",
      "max(smart_197_raw)    161841 non-null float64\n",
      "max(smart_198_raw)    161841 non-null float64\n",
      "dtypes: float64(6), int64(2), object(2)\n",
      "memory usage: 12.9+ MB\n"
     ]
    }
   ],
   "source": [
    "df.info()"
   ]
  },
  {
   "cell_type": "code",
   "execution_count": 4,
   "metadata": {},
   "outputs": [
    {
     "data": {
      "text/html": [
       "<div>\n",
       "<style scoped>\n",
       "    .dataframe tbody tr th:only-of-type {\n",
       "        vertical-align: middle;\n",
       "    }\n",
       "\n",
       "    .dataframe tbody tr th {\n",
       "        vertical-align: top;\n",
       "    }\n",
       "\n",
       "    .dataframe thead th {\n",
       "        text-align: right;\n",
       "    }\n",
       "</style>\n",
       "<table border=\"1\" class=\"dataframe\">\n",
       "  <thead>\n",
       "    <tr style=\"text-align: right;\">\n",
       "      <th></th>\n",
       "      <th>serial_number</th>\n",
       "      <th>model</th>\n",
       "      <th>capacity_bytes</th>\n",
       "      <th>max(failure)</th>\n",
       "      <th>max(smart_9_raw)</th>\n",
       "      <th>max(smart_5_raw)</th>\n",
       "      <th>max(smart_187_raw)</th>\n",
       "      <th>max(smart_188_raw)</th>\n",
       "      <th>max(smart_197_raw)</th>\n",
       "      <th>max(smart_198_raw)</th>\n",
       "    </tr>\n",
       "  </thead>\n",
       "  <tbody>\n",
       "    <tr>\n",
       "      <td>0</td>\n",
       "      <td>PL1311LAG1SJAA</td>\n",
       "      <td>Hitachi HDS5C4040ALE630</td>\n",
       "      <td>4000787030016</td>\n",
       "      <td>0</td>\n",
       "      <td>43819.0</td>\n",
       "      <td>0.0</td>\n",
       "      <td>NaN</td>\n",
       "      <td>NaN</td>\n",
       "      <td>0.0</td>\n",
       "      <td>0.0</td>\n",
       "    </tr>\n",
       "    <tr>\n",
       "      <td>1</td>\n",
       "      <td>Z305KB36</td>\n",
       "      <td>ST4000DM000</td>\n",
       "      <td>4000787030016</td>\n",
       "      <td>0</td>\n",
       "      <td>31045.0</td>\n",
       "      <td>0.0</td>\n",
       "      <td>0.0</td>\n",
       "      <td>0.0</td>\n",
       "      <td>0.0</td>\n",
       "      <td>0.0</td>\n",
       "    </tr>\n",
       "    <tr>\n",
       "      <td>2</td>\n",
       "      <td>MJ0351YNG9MZXA</td>\n",
       "      <td>Hitachi HDS5C3030ALA630</td>\n",
       "      <td>3000592982016</td>\n",
       "      <td>0</td>\n",
       "      <td>41668.0</td>\n",
       "      <td>0.0</td>\n",
       "      <td>NaN</td>\n",
       "      <td>NaN</td>\n",
       "      <td>0.0</td>\n",
       "      <td>0.0</td>\n",
       "    </tr>\n",
       "    <tr>\n",
       "      <td>3</td>\n",
       "      <td>ZA11NHSN</td>\n",
       "      <td>ST8000DM002</td>\n",
       "      <td>8001563222016</td>\n",
       "      <td>0</td>\n",
       "      <td>26284.0</td>\n",
       "      <td>0.0</td>\n",
       "      <td>0.0</td>\n",
       "      <td>0.0</td>\n",
       "      <td>0.0</td>\n",
       "      <td>0.0</td>\n",
       "    </tr>\n",
       "    <tr>\n",
       "      <td>4</td>\n",
       "      <td>MJ1311YNG2ZSEA</td>\n",
       "      <td>Hitachi HDS5C3030ALA630</td>\n",
       "      <td>3000592982016</td>\n",
       "      <td>0</td>\n",
       "      <td>47994.0</td>\n",
       "      <td>0.0</td>\n",
       "      <td>NaN</td>\n",
       "      <td>NaN</td>\n",
       "      <td>0.0</td>\n",
       "      <td>0.0</td>\n",
       "    </tr>\n",
       "  </tbody>\n",
       "</table>\n",
       "</div>"
      ],
      "text/plain": [
       "    serial_number                    model  capacity_bytes  max(failure)  \\\n",
       "0  PL1311LAG1SJAA  Hitachi HDS5C4040ALE630   4000787030016             0   \n",
       "1        Z305KB36              ST4000DM000   4000787030016             0   \n",
       "2  MJ0351YNG9MZXA  Hitachi HDS5C3030ALA630   3000592982016             0   \n",
       "3        ZA11NHSN              ST8000DM002   8001563222016             0   \n",
       "4  MJ1311YNG2ZSEA  Hitachi HDS5C3030ALA630   3000592982016             0   \n",
       "\n",
       "   max(smart_9_raw)  max(smart_5_raw)  max(smart_187_raw)  max(smart_188_raw)  \\\n",
       "0           43819.0               0.0                 NaN                 NaN   \n",
       "1           31045.0               0.0                 0.0                 0.0   \n",
       "2           41668.0               0.0                 NaN                 NaN   \n",
       "3           26284.0               0.0                 0.0                 0.0   \n",
       "4           47994.0               0.0                 NaN                 NaN   \n",
       "\n",
       "   max(smart_197_raw)  max(smart_198_raw)  \n",
       "0                 0.0                 0.0  \n",
       "1                 0.0                 0.0  \n",
       "2                 0.0                 0.0  \n",
       "3                 0.0                 0.0  \n",
       "4                 0.0                 0.0  "
      ]
     },
     "execution_count": 4,
     "metadata": {},
     "output_type": "execute_result"
    }
   ],
   "source": [
    "df.head()"
   ]
  },
  {
   "cell_type": "code",
   "execution_count": 5,
   "metadata": {},
   "outputs": [
    {
     "data": {
      "text/html": [
       "<div>\n",
       "<style scoped>\n",
       "    .dataframe tbody tr th:only-of-type {\n",
       "        vertical-align: middle;\n",
       "    }\n",
       "\n",
       "    .dataframe tbody tr th {\n",
       "        vertical-align: top;\n",
       "    }\n",
       "\n",
       "    .dataframe thead th {\n",
       "        text-align: right;\n",
       "    }\n",
       "</style>\n",
       "<table border=\"1\" class=\"dataframe\">\n",
       "  <thead>\n",
       "    <tr style=\"text-align: right;\">\n",
       "      <th></th>\n",
       "      <th>capacity_bytes</th>\n",
       "      <th>max(failure)</th>\n",
       "      <th>max(smart_9_raw)</th>\n",
       "      <th>max(smart_5_raw)</th>\n",
       "      <th>max(smart_187_raw)</th>\n",
       "      <th>max(smart_188_raw)</th>\n",
       "      <th>max(smart_197_raw)</th>\n",
       "      <th>max(smart_198_raw)</th>\n",
       "    </tr>\n",
       "  </thead>\n",
       "  <tbody>\n",
       "    <tr>\n",
       "      <td>count</td>\n",
       "      <td>1.690730e+05</td>\n",
       "      <td>169073.000000</td>\n",
       "      <td>161975.000000</td>\n",
       "      <td>161851.000000</td>\n",
       "      <td>104189.000000</td>\n",
       "      <td>1.041790e+05</td>\n",
       "      <td>161841.000000</td>\n",
       "      <td>161841.000000</td>\n",
       "    </tr>\n",
       "    <tr>\n",
       "      <td>mean</td>\n",
       "      <td>6.829480e+12</td>\n",
       "      <td>0.035085</td>\n",
       "      <td>23858.714839</td>\n",
       "      <td>69.851802</td>\n",
       "      <td>5.996190</td>\n",
       "      <td>3.264823e+08</td>\n",
       "      <td>6.265940</td>\n",
       "      <td>5.913261</td>\n",
       "    </tr>\n",
       "    <tr>\n",
       "      <td>std</td>\n",
       "      <td>3.981103e+12</td>\n",
       "      <td>0.183996</td>\n",
       "      <td>13357.230448</td>\n",
       "      <td>1393.236993</td>\n",
       "      <td>541.364663</td>\n",
       "      <td>3.014661e+10</td>\n",
       "      <td>452.148242</td>\n",
       "      <td>447.550251</td>\n",
       "    </tr>\n",
       "    <tr>\n",
       "      <td>min</td>\n",
       "      <td>-1.000000e+00</td>\n",
       "      <td>0.000000</td>\n",
       "      <td>0.000000</td>\n",
       "      <td>0.000000</td>\n",
       "      <td>0.000000</td>\n",
       "      <td>0.000000e+00</td>\n",
       "      <td>0.000000</td>\n",
       "      <td>0.000000</td>\n",
       "    </tr>\n",
       "    <tr>\n",
       "      <td>25%</td>\n",
       "      <td>4.000787e+12</td>\n",
       "      <td>0.000000</td>\n",
       "      <td>13727.000000</td>\n",
       "      <td>0.000000</td>\n",
       "      <td>0.000000</td>\n",
       "      <td>0.000000e+00</td>\n",
       "      <td>0.000000</td>\n",
       "      <td>0.000000</td>\n",
       "    </tr>\n",
       "    <tr>\n",
       "      <td>50%</td>\n",
       "      <td>4.000787e+12</td>\n",
       "      <td>0.000000</td>\n",
       "      <td>22932.000000</td>\n",
       "      <td>0.000000</td>\n",
       "      <td>0.000000</td>\n",
       "      <td>0.000000e+00</td>\n",
       "      <td>0.000000</td>\n",
       "      <td>0.000000</td>\n",
       "    </tr>\n",
       "    <tr>\n",
       "      <td>75%</td>\n",
       "      <td>1.200014e+13</td>\n",
       "      <td>0.000000</td>\n",
       "      <td>34866.000000</td>\n",
       "      <td>0.000000</td>\n",
       "      <td>0.000000</td>\n",
       "      <td>0.000000e+00</td>\n",
       "      <td>0.000000</td>\n",
       "      <td>0.000000</td>\n",
       "    </tr>\n",
       "    <tr>\n",
       "      <td>max</td>\n",
       "      <td>1.400052e+13</td>\n",
       "      <td>1.000000</td>\n",
       "      <td>90477.000000</td>\n",
       "      <td>65392.000000</td>\n",
       "      <td>65535.000000</td>\n",
       "      <td>8.933668e+12</td>\n",
       "      <td>142616.000000</td>\n",
       "      <td>142616.000000</td>\n",
       "    </tr>\n",
       "  </tbody>\n",
       "</table>\n",
       "</div>"
      ],
      "text/plain": [
       "       capacity_bytes   max(failure)  max(smart_9_raw)  max(smart_5_raw)  \\\n",
       "count    1.690730e+05  169073.000000     161975.000000     161851.000000   \n",
       "mean     6.829480e+12       0.035085      23858.714839         69.851802   \n",
       "std      3.981103e+12       0.183996      13357.230448       1393.236993   \n",
       "min     -1.000000e+00       0.000000          0.000000          0.000000   \n",
       "25%      4.000787e+12       0.000000      13727.000000          0.000000   \n",
       "50%      4.000787e+12       0.000000      22932.000000          0.000000   \n",
       "75%      1.200014e+13       0.000000      34866.000000          0.000000   \n",
       "max      1.400052e+13       1.000000      90477.000000      65392.000000   \n",
       "\n",
       "       max(smart_187_raw)  max(smart_188_raw)  max(smart_197_raw)  \\\n",
       "count       104189.000000        1.041790e+05       161841.000000   \n",
       "mean             5.996190        3.264823e+08            6.265940   \n",
       "std            541.364663        3.014661e+10          452.148242   \n",
       "min              0.000000        0.000000e+00            0.000000   \n",
       "25%              0.000000        0.000000e+00            0.000000   \n",
       "50%              0.000000        0.000000e+00            0.000000   \n",
       "75%              0.000000        0.000000e+00            0.000000   \n",
       "max          65535.000000        8.933668e+12       142616.000000   \n",
       "\n",
       "       max(smart_198_raw)  \n",
       "count       161841.000000  \n",
       "mean             5.913261  \n",
       "std            447.550251  \n",
       "min              0.000000  \n",
       "25%              0.000000  \n",
       "50%              0.000000  \n",
       "75%              0.000000  \n",
       "max         142616.000000  "
      ]
     },
     "execution_count": 5,
     "metadata": {},
     "output_type": "execute_result"
    }
   ],
   "source": [
    "df.describe()"
   ]
  },
  {
   "cell_type": "markdown",
   "metadata": {},
   "source": [
    "## Prepare"
   ]
  },
  {
   "cell_type": "markdown",
   "metadata": {},
   "source": [
    "The `prepare.prepare` function reads in the dataframe and applies the following changes:\n",
    "- Converts capacity column from bytes to terabytes.\n",
    "- Converts max(smart_9_raw) from hours to years.\n",
    "- Creates a new column for manufacturer name.\n",
    "- Renames all columns appropriately.\n",
    "- Reorders columns for understandability. "
   ]
  },
  {
   "cell_type": "code",
   "execution_count": 6,
   "metadata": {},
   "outputs": [],
   "source": [
    "df = prepare.prepare(df)"
   ]
  },
  {
   "cell_type": "code",
   "execution_count": 7,
   "metadata": {},
   "outputs": [
    {
     "data": {
      "text/html": [
       "<div>\n",
       "<style scoped>\n",
       "    .dataframe tbody tr th:only-of-type {\n",
       "        vertical-align: middle;\n",
       "    }\n",
       "\n",
       "    .dataframe tbody tr th {\n",
       "        vertical-align: top;\n",
       "    }\n",
       "\n",
       "    .dataframe thead th {\n",
       "        text-align: right;\n",
       "    }\n",
       "</style>\n",
       "<table border=\"1\" class=\"dataframe\">\n",
       "  <thead>\n",
       "    <tr style=\"text-align: right;\">\n",
       "      <th></th>\n",
       "      <th>serial_number</th>\n",
       "      <th>manufacturer</th>\n",
       "      <th>model</th>\n",
       "      <th>capacity_terabytes</th>\n",
       "      <th>failure</th>\n",
       "      <th>drive_age_in_years</th>\n",
       "      <th>reallocated_sectors_count</th>\n",
       "      <th>reported_uncorrectable_errors</th>\n",
       "      <th>command_timeout</th>\n",
       "      <th>current_pending_sector_count</th>\n",
       "      <th>uncorrectable_sector_count</th>\n",
       "    </tr>\n",
       "  </thead>\n",
       "  <tbody>\n",
       "    <tr>\n",
       "      <td>0</td>\n",
       "      <td>PL1311LAG1SJAA</td>\n",
       "      <td>Hitachi</td>\n",
       "      <td>Hitachi HDS5C4040ALE630</td>\n",
       "      <td>4.0</td>\n",
       "      <td>0</td>\n",
       "      <td>5.0</td>\n",
       "      <td>0.0</td>\n",
       "      <td>NaN</td>\n",
       "      <td>NaN</td>\n",
       "      <td>0.0</td>\n",
       "      <td>0.0</td>\n",
       "    </tr>\n",
       "    <tr>\n",
       "      <td>1</td>\n",
       "      <td>Z305KB36</td>\n",
       "      <td>Seagate</td>\n",
       "      <td>ST4000DM000</td>\n",
       "      <td>4.0</td>\n",
       "      <td>0</td>\n",
       "      <td>3.5</td>\n",
       "      <td>0.0</td>\n",
       "      <td>0.0</td>\n",
       "      <td>0.0</td>\n",
       "      <td>0.0</td>\n",
       "      <td>0.0</td>\n",
       "    </tr>\n",
       "    <tr>\n",
       "      <td>2</td>\n",
       "      <td>MJ0351YNG9MZXA</td>\n",
       "      <td>Hitachi</td>\n",
       "      <td>Hitachi HDS5C3030ALA630</td>\n",
       "      <td>3.0</td>\n",
       "      <td>0</td>\n",
       "      <td>4.8</td>\n",
       "      <td>0.0</td>\n",
       "      <td>NaN</td>\n",
       "      <td>NaN</td>\n",
       "      <td>0.0</td>\n",
       "      <td>0.0</td>\n",
       "    </tr>\n",
       "    <tr>\n",
       "      <td>3</td>\n",
       "      <td>ZA11NHSN</td>\n",
       "      <td>Seagate</td>\n",
       "      <td>ST8000DM002</td>\n",
       "      <td>8.0</td>\n",
       "      <td>0</td>\n",
       "      <td>3.0</td>\n",
       "      <td>0.0</td>\n",
       "      <td>0.0</td>\n",
       "      <td>0.0</td>\n",
       "      <td>0.0</td>\n",
       "      <td>0.0</td>\n",
       "    </tr>\n",
       "    <tr>\n",
       "      <td>4</td>\n",
       "      <td>MJ1311YNG2ZSEA</td>\n",
       "      <td>Hitachi</td>\n",
       "      <td>Hitachi HDS5C3030ALA630</td>\n",
       "      <td>3.0</td>\n",
       "      <td>0</td>\n",
       "      <td>5.5</td>\n",
       "      <td>0.0</td>\n",
       "      <td>NaN</td>\n",
       "      <td>NaN</td>\n",
       "      <td>0.0</td>\n",
       "      <td>0.0</td>\n",
       "    </tr>\n",
       "  </tbody>\n",
       "</table>\n",
       "</div>"
      ],
      "text/plain": [
       "    serial_number manufacturer                    model  capacity_terabytes  \\\n",
       "0  PL1311LAG1SJAA      Hitachi  Hitachi HDS5C4040ALE630                 4.0   \n",
       "1        Z305KB36      Seagate              ST4000DM000                 4.0   \n",
       "2  MJ0351YNG9MZXA      Hitachi  Hitachi HDS5C3030ALA630                 3.0   \n",
       "3        ZA11NHSN      Seagate              ST8000DM002                 8.0   \n",
       "4  MJ1311YNG2ZSEA      Hitachi  Hitachi HDS5C3030ALA630                 3.0   \n",
       "\n",
       "   failure  drive_age_in_years  reallocated_sectors_count  \\\n",
       "0        0                 5.0                        0.0   \n",
       "1        0                 3.5                        0.0   \n",
       "2        0                 4.8                        0.0   \n",
       "3        0                 3.0                        0.0   \n",
       "4        0                 5.5                        0.0   \n",
       "\n",
       "   reported_uncorrectable_errors  command_timeout  \\\n",
       "0                            NaN              NaN   \n",
       "1                            0.0              0.0   \n",
       "2                            NaN              NaN   \n",
       "3                            0.0              0.0   \n",
       "4                            NaN              NaN   \n",
       "\n",
       "   current_pending_sector_count  uncorrectable_sector_count  \n",
       "0                           0.0                         0.0  \n",
       "1                           0.0                         0.0  \n",
       "2                           0.0                         0.0  \n",
       "3                           0.0                         0.0  \n",
       "4                           0.0                         0.0  "
      ]
     },
     "execution_count": 7,
     "metadata": {},
     "output_type": "execute_result"
    }
   ],
   "source": [
    "df.head()"
   ]
  },
  {
   "cell_type": "code",
   "execution_count": 8,
   "metadata": {},
   "outputs": [
    {
     "data": {
      "text/plain": [
       " 4.0     64886\n",
       " 12.0    50729\n",
       " 8.0     26108\n",
       "-0.0      7031\n",
       " 3.0      6789\n",
       " 2.0      4678\n",
       " 0.5      2607\n",
       " 6.0      2411\n",
       " 14.0     1302\n",
       " 10.0     1255\n",
       " 1.0       388\n",
       " 0.3       327\n",
       " 1.5       267\n",
       " 0.2       210\n",
       " 5.0        46\n",
       " 0.1        39\n",
       "Name: capacity_terabytes, dtype: int64"
      ]
     },
     "execution_count": 8,
     "metadata": {},
     "output_type": "execute_result"
    }
   ],
   "source": [
    "df.capacity_terabytes.value_counts()"
   ]
  },
  {
   "cell_type": "markdown",
   "metadata": {},
   "source": [
    "> Due to aggregation, we have 7,031 duplicate hard drives listed with zero capacity bytes. "
   ]
  },
  {
   "cell_type": "markdown",
   "metadata": {},
   "source": [
    "The `prepare.unique` function reads in the dataframe and removes duplicated serial numbers that were created during aggregation."
   ]
  },
  {
   "cell_type": "code",
   "execution_count": 9,
   "metadata": {},
   "outputs": [],
   "source": [
    "df = prepare.unique(df)"
   ]
  },
  {
   "cell_type": "code",
   "execution_count": 10,
   "metadata": {},
   "outputs": [
    {
     "data": {
      "text/plain": [
       "4.0     64878\n",
       "12.0    50729\n",
       "8.0     26106\n",
       "3.0      6789\n",
       "2.0      4678\n",
       "0.5      2607\n",
       "6.0      2411\n",
       "14.0     1302\n",
       "10.0     1255\n",
       "1.0       388\n",
       "0.3       327\n",
       "1.5       267\n",
       "0.2       210\n",
       "5.0        46\n",
       "0.1        32\n",
       "Name: capacity_terabytes, dtype: int64"
      ]
     },
     "execution_count": 10,
     "metadata": {},
     "output_type": "execute_result"
    }
   ],
   "source": [
    "# Confirm duplicate hard drives with zero capacity have been removed\n",
    "df.capacity_terabytes.value_counts()"
   ]
  },
  {
   "cell_type": "markdown",
   "metadata": {},
   "source": [
    "## Explore"
   ]
  },
  {
   "cell_type": "markdown",
   "metadata": {},
   "source": [
    "Questions to answer:\n",
    "- How do we treat null values?\n",
    "- What does our data look like?\n",
    "    - How many different models?\n",
    "    - How many different capacity sizes?\n",
    "    - How many different manufacturers?\n",
    "    - How many models are there for each manufacturer?\n",
    "    - Are model numbers unique to capacity?\n",
    "- What is a failure?\n",
    "    - What do failures look like?\n",
    "    - How do lifespans of hard drives compare to failure rates?\n",
    "    - How is this misleading?\n",
    "- How do we define an early failure?\n",
    "- How do SMART stats values compare to among fail and non-fail?\n",
    "- Does the average age of drive vary by manufacturer? model number?\n",
    "- Does capacity size correlate with early failure?\n",
    "- Do early failure rates vary by model number?\n",
    "- Which SMART attributes correlate most strongly with early failure? \n",
    "- Does the hard drive model affect early failure rate? "
   ]
  },
  {
   "cell_type": "markdown",
   "metadata": {},
   "source": [
    "### How do we treat null values?"
   ]
  },
  {
   "cell_type": "code",
   "execution_count": 11,
   "metadata": {},
   "outputs": [
    {
     "data": {
      "text/plain": [
       "serial_number                        1\n",
       "manufacturer                         0\n",
       "model                                0\n",
       "capacity_terabytes                   0\n",
       "failure                              0\n",
       "drive_age_in_years                  60\n",
       "reallocated_sectors_count          184\n",
       "reported_uncorrectable_errors    57839\n",
       "command_timeout                  57849\n",
       "current_pending_sector_count       194\n",
       "uncorrectable_sector_count         194\n",
       "dtype: int64"
      ]
     },
     "execution_count": 11,
     "metadata": {},
     "output_type": "execute_result"
    }
   ],
   "source": [
    "# Check for null values\n",
    "df.isnull().sum()"
   ]
  },
  {
   "cell_type": "code",
   "execution_count": 12,
   "metadata": {},
   "outputs": [
    {
     "data": {
      "text/plain": [
       "Index(['serial_number', 'manufacturer', 'model', 'capacity_terabytes',\n",
       "       'failure', 'drive_age_in_years', 'reallocated_sectors_count',\n",
       "       'reported_uncorrectable_errors', 'command_timeout',\n",
       "       'current_pending_sector_count', 'uncorrectable_sector_count'],\n",
       "      dtype='object')"
      ]
     },
     "execution_count": 12,
     "metadata": {},
     "output_type": "execute_result"
    }
   ],
   "source": [
    "df.columns"
   ]
  },
  {
   "cell_type": "code",
   "execution_count": 13,
   "metadata": {},
   "outputs": [
    {
     "data": {
      "image/png": "[encoded data removed]",
      "text/plain": [
       "<Figure size 432x288 with 1 Axes>"
      ]
     },
     "metadata": {
      "needs_background": "light"
     },
     "output_type": "display_data"
    },
    {
     "data": {
      "image/png": "[encoded data removed]",
      "text/plain": [
       "<Figure size 432x288 with 1 Axes>"
      ]
     },
     "metadata": {
      "needs_background": "light"
     },
     "output_type": "display_data"
    },
    {
     "data": {
      "image/png": "[encoded data removed]",
      "text/plain": [
       "<Figure size 432x288 with 1 Axes>"
      ]
     },
     "metadata": {
      "needs_background": "light"
     },
     "output_type": "display_data"
    },
    {
     "data": {
      "image/png": "[encoded data removed]",
      "text/plain": [
       "<Figure size 432x288 with 1 Axes>"
      ]
     },
     "metadata": {
      "needs_background": "light"
     },
     "output_type": "display_data"
    },
    {
     "data": {
      "image/png": "[encoded data removed]",
      "text/plain": [
       "<Figure size 432x288 with 1 Axes>"
      ]
     },
     "metadata": {
      "needs_background": "light"
     },
     "output_type": "display_data"
    }
   ],
   "source": [
    "# Create scatterplot for SMART attributes\n",
    "for col in df.columns[6:]:\n",
    "    sns.scatterplot(data=df, y=df[col], x=df.drive_age_in_years, alpha=.3)\n",
    "    plt.title(col)\n",
    "    plt.show()"
   ]
  },
  {
   "cell_type": "markdown",
   "metadata": {},
   "source": [
    "> For both \"reported_uncorrectable_errors\" and \"command_timeout\" the vast majority of values are zero. Therefore, the nulls in these columns are replaced with zeros. For the remaining nulls in \"reallocated_sectors_count\", \"current_pending_sector_count\" and \"uncorrecteable_sector_count\", there are less than 200 for each respective column. Therefore, those rows containing nulls are removed. This is performed in the `prepare.treat_nulls` function."
   ]
  },
  {
   "cell_type": "code",
   "execution_count": 14,
   "metadata": {},
   "outputs": [],
   "source": [
    "df = prepare.treat_nulls(df)"
   ]
  },
  {
   "cell_type": "code",
   "execution_count": 15,
   "metadata": {},
   "outputs": [
    {
     "data": {
      "text/plain": [
       "serial_number                    0\n",
       "manufacturer                     0\n",
       "model                            0\n",
       "capacity_terabytes               0\n",
       "failure                          0\n",
       "drive_age_in_years               0\n",
       "reallocated_sectors_count        0\n",
       "reported_uncorrectable_errors    0\n",
       "command_timeout                  0\n",
       "current_pending_sector_count     0\n",
       "uncorrectable_sector_count       0\n",
       "dtype: int64"
      ]
     },
     "execution_count": 15,
     "metadata": {},
     "output_type": "execute_result"
    }
   ],
   "source": [
    "# Confirm all nulls have been removed \n",
    "df.isnull().sum()"
   ]
  },
  {
   "cell_type": "code",
   "execution_count": 16,
   "metadata": {},
   "outputs": [
    {
     "data": {
      "text/plain": [
       "(161830, 11)"
      ]
     },
     "execution_count": 16,
     "metadata": {},
     "output_type": "execute_result"
    }
   ],
   "source": [
    "df.shape"
   ]
  },
  {
   "cell_type": "markdown",
   "metadata": {},
   "source": [
    "> After treating all nulls, the dataframe has 11 columns and 161,830 rows. The data can be further explored. "
   ]
  },
  {
   "cell_type": "markdown",
   "metadata": {},
   "source": [
    "### What does our data look like?"
   ]
  },
  {
   "cell_type": "code",
   "execution_count": 17,
   "metadata": {},
   "outputs": [
    {
     "name": "stdout",
     "output_type": "stream",
     "text": [
      "<class 'pandas.core.frame.DataFrame'>\n",
      "Int64Index: 161830 entries, 0 to 169067\n",
      "Data columns (total 11 columns):\n",
      "serial_number                    161830 non-null object\n",
      "manufacturer                     161830 non-null object\n",
      "model                            161830 non-null object\n",
      "capacity_terabytes               161830 non-null float64\n",
      "failure                          161830 non-null int64\n",
      "drive_age_in_years               161830 non-null float64\n",
      "reallocated_sectors_count        161830 non-null float64\n",
      "reported_uncorrectable_errors    161830 non-null float64\n",
      "command_timeout                  161830 non-null float64\n",
      "current_pending_sector_count     161830 non-null float64\n",
      "uncorrectable_sector_count       161830 non-null float64\n",
      "dtypes: float64(7), int64(1), object(3)\n",
      "memory usage: 14.8+ MB\n"
     ]
    }
   ],
   "source": [
    "df.info()"
   ]
  },
  {
   "cell_type": "markdown",
   "metadata": {},
   "source": [
    "#### How many different hard drive models in our dataset? Which are the 5 most popular?"
   ]
  },
  {
   "cell_type": "code",
   "execution_count": 18,
   "metadata": {},
   "outputs": [
    {
     "data": {
      "text/plain": [
       "97"
      ]
     },
     "execution_count": 18,
     "metadata": {},
     "output_type": "execute_result"
    }
   ],
   "source": [
    "df.model.nunique()"
   ]
  },
  {
   "cell_type": "code",
   "execution_count": 19,
   "metadata": {},
   "outputs": [
    {
     "data": {
      "text/plain": [
       "ST12000NM0007           38271\n",
       "ST4000DM000             36156\n",
       "HGST HMS5C4040BLE640    16314\n",
       "ST8000NM0055            14810\n",
       "HGST HUH721212ALN604    10875\n",
       "Name: model, dtype: int64"
      ]
     },
     "execution_count": 19,
     "metadata": {},
     "output_type": "execute_result"
    }
   ],
   "source": [
    "df['model'].value_counts().head()"
   ]
  },
  {
   "cell_type": "markdown",
   "metadata": {},
   "source": [
    "> 97 unique hard drive models. Top 5 hard drive models include 3 Seagate and 2 Hitachi."
   ]
  },
  {
   "cell_type": "markdown",
   "metadata": {},
   "source": [
    "#### How many different capacity sizes exist for the hard drives in our dataset?"
   ]
  },
  {
   "cell_type": "code",
   "execution_count": 20,
   "metadata": {},
   "outputs": [
    {
     "data": {
      "text/plain": [
       "15"
      ]
     },
     "execution_count": 20,
     "metadata": {},
     "output_type": "execute_result"
    }
   ],
   "source": [
    "df.capacity_terabytes.nunique()"
   ]
  },
  {
   "cell_type": "markdown",
   "metadata": {},
   "source": [
    "> 15 unique hard drive capacity sizes after rounding to the nearest tenth of a terabyte."
   ]
  },
  {
   "cell_type": "code",
   "execution_count": 21,
   "metadata": {},
   "outputs": [
    {
     "data": {
      "text/plain": [
       "array([ 4. ,  3. ,  8. ,  0.5,  6. ,  2. ,  1. ,  0.1, 12. , 10. , 14. ,\n",
       "        1.5,  0.2,  0.3,  5. ])"
      ]
     },
     "execution_count": 21,
     "metadata": {},
     "output_type": "execute_result"
    }
   ],
   "source": [
    "df.capacity_terabytes.unique()"
   ]
  },
  {
   "cell_type": "code",
   "execution_count": 22,
   "metadata": {},
   "outputs": [
    {
     "data": {
      "text/plain": [
       "4.0     64877\n",
       "12.0    50729\n",
       "8.0     26106\n",
       "3.0      6789\n",
       "2.0      4675\n",
       "0.5      2529\n",
       "6.0      2411\n",
       "14.0     1302\n",
       "10.0     1255\n",
       "1.0       378\n",
       "1.5       267\n",
       "0.3       224\n",
       "0.2       210\n",
       "5.0        46\n",
       "0.1        32\n",
       "Name: capacity_terabytes, dtype: int64"
      ]
     },
     "execution_count": 22,
     "metadata": {},
     "output_type": "execute_result"
    }
   ],
   "source": [
    "df.capacity_terabytes.value_counts()"
   ]
  },
  {
   "cell_type": "code",
   "execution_count": 23,
   "metadata": {},
   "outputs": [
    {
     "data": {
      "image/png": "[encoded data removed]",
      "text/plain": [
       "<Figure size 432x288 with 1 Axes>"
      ]
     },
     "metadata": {
      "needs_background": "light"
     },
     "output_type": "display_data"
    }
   ],
   "source": [
    "df.capacity_terabytes.value_counts().sort_index().plot.bar()\n",
    "plt.show()"
   ]
  },
  {
   "cell_type": "markdown",
   "metadata": {},
   "source": [
    "#### How many different manufacturers are included in our data set?"
   ]
  },
  {
   "cell_type": "code",
   "execution_count": 24,
   "metadata": {},
   "outputs": [
    {
     "data": {
      "text/plain": [
       "6"
      ]
     },
     "execution_count": 24,
     "metadata": {},
     "output_type": "execute_result"
    }
   ],
   "source": [
    "df.manufacturer.nunique()"
   ]
  },
  {
   "cell_type": "code",
   "execution_count": 25,
   "metadata": {},
   "outputs": [
    {
     "data": {
      "text/plain": [
       "array(['Hitachi', 'Seagate', 'Western Digital', 'Toshiba', 'Unknown',\n",
       "       'Samsung'], dtype=object)"
      ]
     },
     "execution_count": 25,
     "metadata": {},
     "output_type": "execute_result"
    }
   ],
   "source": [
    "df.manufacturer.unique()"
   ]
  },
  {
   "cell_type": "markdown",
   "metadata": {},
   "source": [
    "> 6 unique manufacturers exist: Hitachi, Seagate, Western Digital, Toshiba, Unknown, and Samsung."
   ]
  },
  {
   "cell_type": "markdown",
   "metadata": {},
   "source": [
    "#### How many hard drives exist for each manufacturer?"
   ]
  },
  {
   "cell_type": "code",
   "execution_count": 26,
   "metadata": {},
   "outputs": [
    {
     "data": {
      "text/html": [
       "<div>\n",
       "<style scoped>\n",
       "    .dataframe tbody tr th:only-of-type {\n",
       "        vertical-align: middle;\n",
       "    }\n",
       "\n",
       "    .dataframe tbody tr th {\n",
       "        vertical-align: top;\n",
       "    }\n",
       "\n",
       "    .dataframe thead th {\n",
       "        text-align: right;\n",
       "    }\n",
       "</style>\n",
       "<table border=\"1\" class=\"dataframe\">\n",
       "  <thead>\n",
       "    <tr style=\"text-align: right;\">\n",
       "      <th></th>\n",
       "      <th>model</th>\n",
       "    </tr>\n",
       "    <tr>\n",
       "      <th>manufacturer</th>\n",
       "      <th></th>\n",
       "    </tr>\n",
       "  </thead>\n",
       "  <tbody>\n",
       "    <tr>\n",
       "      <td>Hitachi</td>\n",
       "      <td>51417</td>\n",
       "    </tr>\n",
       "    <tr>\n",
       "      <td>Samsung</td>\n",
       "      <td>1</td>\n",
       "    </tr>\n",
       "    <tr>\n",
       "      <td>Seagate</td>\n",
       "      <td>105012</td>\n",
       "    </tr>\n",
       "    <tr>\n",
       "      <td>Toshiba</td>\n",
       "      <td>2573</td>\n",
       "    </tr>\n",
       "    <tr>\n",
       "      <td>Unknown</td>\n",
       "      <td>1</td>\n",
       "    </tr>\n",
       "    <tr>\n",
       "      <td>Western Digital</td>\n",
       "      <td>2826</td>\n",
       "    </tr>\n",
       "  </tbody>\n",
       "</table>\n",
       "</div>"
      ],
      "text/plain": [
       "                  model\n",
       "manufacturer           \n",
       "Hitachi           51417\n",
       "Samsung               1\n",
       "Seagate          105012\n",
       "Toshiba            2573\n",
       "Unknown               1\n",
       "Western Digital    2826"
      ]
     },
     "execution_count": 26,
     "metadata": {},
     "output_type": "execute_result"
    }
   ],
   "source": [
    "df[['model', 'manufacturer']].groupby('manufacturer').count()"
   ]
  },
  {
   "cell_type": "markdown",
   "metadata": {},
   "source": [
    "> Seagate and Hitachi are the most popular manufacturers. Samsung and Unknown only have 1 hard drive each. These hard drives should be dropped from our dataset. "
   ]
  },
  {
   "cell_type": "markdown",
   "metadata": {},
   "source": [
    "The `explore.remove_manufacturer` function reads in the dataframe and removes the two manufacturers with low value counts."
   ]
  },
  {
   "cell_type": "code",
   "execution_count": 27,
   "metadata": {},
   "outputs": [],
   "source": [
    "df = explore.remove_manufacturers(df)"
   ]
  },
  {
   "cell_type": "code",
   "execution_count": 28,
   "metadata": {},
   "outputs": [
    {
     "data": {
      "text/html": [
       "<div>\n",
       "<style scoped>\n",
       "    .dataframe tbody tr th:only-of-type {\n",
       "        vertical-align: middle;\n",
       "    }\n",
       "\n",
       "    .dataframe tbody tr th {\n",
       "        vertical-align: top;\n",
       "    }\n",
       "\n",
       "    .dataframe thead th {\n",
       "        text-align: right;\n",
       "    }\n",
       "</style>\n",
       "<table border=\"1\" class=\"dataframe\">\n",
       "  <thead>\n",
       "    <tr style=\"text-align: right;\">\n",
       "      <th></th>\n",
       "      <th>model</th>\n",
       "    </tr>\n",
       "    <tr>\n",
       "      <th>manufacturer</th>\n",
       "      <th></th>\n",
       "    </tr>\n",
       "  </thead>\n",
       "  <tbody>\n",
       "    <tr>\n",
       "      <td>Hitachi</td>\n",
       "      <td>51417</td>\n",
       "    </tr>\n",
       "    <tr>\n",
       "      <td>Seagate</td>\n",
       "      <td>105012</td>\n",
       "    </tr>\n",
       "    <tr>\n",
       "      <td>Toshiba</td>\n",
       "      <td>2573</td>\n",
       "    </tr>\n",
       "    <tr>\n",
       "      <td>Western Digital</td>\n",
       "      <td>2826</td>\n",
       "    </tr>\n",
       "  </tbody>\n",
       "</table>\n",
       "</div>"
      ],
      "text/plain": [
       "                  model\n",
       "manufacturer           \n",
       "Hitachi           51417\n",
       "Seagate          105012\n",
       "Toshiba            2573\n",
       "Western Digital    2826"
      ]
     },
     "execution_count": 28,
     "metadata": {},
     "output_type": "execute_result"
    }
   ],
   "source": [
    "# Confirm low count manufacturers have been removed\n",
    "df[['model', 'manufacturer']].groupby('manufacturer').count()"
   ]
  },
  {
   "cell_type": "markdown",
   "metadata": {},
   "source": [
    "#### Are model numbers unique to capacity?"
   ]
  },
  {
   "cell_type": "code",
   "execution_count": 29,
   "metadata": {},
   "outputs": [],
   "source": [
    "# create new df to group models with their capacity terabytes\n",
    "model_terabytes = df[['model', 'capacity_terabytes']]"
   ]
  },
  {
   "cell_type": "code",
   "execution_count": 30,
   "metadata": {},
   "outputs": [
    {
     "data": {
      "text/plain": [
       "95"
      ]
     },
     "execution_count": 30,
     "metadata": {},
     "output_type": "execute_result"
    }
   ],
   "source": [
    "# count unique models\n",
    "model_terabytes.model.nunique()"
   ]
  },
  {
   "cell_type": "code",
   "execution_count": 31,
   "metadata": {},
   "outputs": [],
   "source": [
    "# group unique model and unique terabytes combinations\n",
    "unique_model_terabytes = len(model_terabytes.groupby(['model', 'capacity_terabytes']).count())"
   ]
  },
  {
   "cell_type": "code",
   "execution_count": 32,
   "metadata": {},
   "outputs": [
    {
     "data": {
      "text/plain": [
       "True"
      ]
     },
     "execution_count": 32,
     "metadata": {},
     "output_type": "execute_result"
    }
   ],
   "source": [
    "# compare the length of unique model and gigabytes combinations to the count of unique models, must equal a match.\n",
    "unique_model_terabytes == model_terabytes.model.nunique()"
   ]
  },
  {
   "cell_type": "markdown",
   "metadata": {},
   "source": [
    "> Yes, model numbers are unique to capacity. We ask this question to ensure there are not any hard drive models that have different capacities. "
   ]
  },
  {
   "cell_type": "markdown",
   "metadata": {},
   "source": [
    "#### Does the average hard drive age vary by manufacturer? By model?"
   ]
  },
  {
   "cell_type": "code",
   "execution_count": 33,
   "metadata": {},
   "outputs": [
    {
     "data": {
      "text/html": [
       "<div>\n",
       "<style scoped>\n",
       "    .dataframe tbody tr th:only-of-type {\n",
       "        vertical-align: middle;\n",
       "    }\n",
       "\n",
       "    .dataframe tbody tr th {\n",
       "        vertical-align: top;\n",
       "    }\n",
       "\n",
       "    .dataframe thead th {\n",
       "        text-align: right;\n",
       "    }\n",
       "</style>\n",
       "<table border=\"1\" class=\"dataframe\">\n",
       "  <thead>\n",
       "    <tr style=\"text-align: right;\">\n",
       "      <th></th>\n",
       "      <th>drive_age_in_years</th>\n",
       "    </tr>\n",
       "    <tr>\n",
       "      <th>manufacturer</th>\n",
       "      <th></th>\n",
       "    </tr>\n",
       "  </thead>\n",
       "  <tbody>\n",
       "    <tr>\n",
       "      <td>Hitachi</td>\n",
       "      <td>3.057432</td>\n",
       "    </tr>\n",
       "    <tr>\n",
       "      <td>Seagate</td>\n",
       "      <td>2.557938</td>\n",
       "    </tr>\n",
       "    <tr>\n",
       "      <td>Toshiba</td>\n",
       "      <td>1.611698</td>\n",
       "    </tr>\n",
       "    <tr>\n",
       "      <td>Western Digital</td>\n",
       "      <td>3.765322</td>\n",
       "    </tr>\n",
       "  </tbody>\n",
       "</table>\n",
       "</div>"
      ],
      "text/plain": [
       "                 drive_age_in_years\n",
       "manufacturer                       \n",
       "Hitachi                    3.057432\n",
       "Seagate                    2.557938\n",
       "Toshiba                    1.611698\n",
       "Western Digital            3.765322"
      ]
     },
     "execution_count": 33,
     "metadata": {},
     "output_type": "execute_result"
    }
   ],
   "source": [
    "# Average drive age by manufacturer\n",
    "manufacturers = df[['manufacturer', 'drive_age_in_years']].groupby('manufacturer',sort=True).mean()\n",
    "manufacturers"
   ]
  },
  {
   "cell_type": "code",
   "execution_count": 34,
   "metadata": {},
   "outputs": [
    {
     "data": {
      "image/png": "[encoded data removed]",
      "text/plain": [
       "<Figure size 432x288 with 1 Axes>"
      ]
     },
     "metadata": {
      "needs_background": "light"
     },
     "output_type": "display_data"
    }
   ],
   "source": [
    "# Plot of Manufacturers by Average Drive Age\n",
    "ax1 = plt.bar(x= manufacturers.index ,height=manufacturers.drive_age_in_years)\n",
    "plt.xlabel('Manufacturers')\n",
    "plt.ylabel('Average Hard Drive Age (Years)')\n",
    "plt.title('Manufacturers by Average Drive Age')\n",
    "plt.show()"
   ]
  },
  {
   "cell_type": "code",
   "execution_count": 35,
   "metadata": {},
   "outputs": [
    {
     "data": {
      "text/html": [
       "<div>\n",
       "<style scoped>\n",
       "    .dataframe tbody tr th:only-of-type {\n",
       "        vertical-align: middle;\n",
       "    }\n",
       "\n",
       "    .dataframe tbody tr th {\n",
       "        vertical-align: top;\n",
       "    }\n",
       "\n",
       "    .dataframe thead th {\n",
       "        text-align: right;\n",
       "    }\n",
       "</style>\n",
       "<table border=\"1\" class=\"dataframe\">\n",
       "  <thead>\n",
       "    <tr style=\"text-align: right;\">\n",
       "      <th></th>\n",
       "      <th>drive_age_in_years</th>\n",
       "    </tr>\n",
       "    <tr>\n",
       "      <th>model</th>\n",
       "      <th></th>\n",
       "    </tr>\n",
       "  </thead>\n",
       "  <tbody>\n",
       "    <tr>\n",
       "      <td>WDC WD800LB</td>\n",
       "      <td>10.300000</td>\n",
       "    </tr>\n",
       "    <tr>\n",
       "      <td>WDC WD800BB</td>\n",
       "      <td>9.240000</td>\n",
       "    </tr>\n",
       "    <tr>\n",
       "      <td>Hitachi HDT725025VLA380</td>\n",
       "      <td>7.800000</td>\n",
       "    </tr>\n",
       "    <tr>\n",
       "      <td>WDC WD3200AAKS</td>\n",
       "      <td>6.800000</td>\n",
       "    </tr>\n",
       "    <tr>\n",
       "      <td>WDC WD10EACS</td>\n",
       "      <td>6.586667</td>\n",
       "    </tr>\n",
       "  </tbody>\n",
       "</table>\n",
       "</div>"
      ],
      "text/plain": [
       "                         drive_age_in_years\n",
       "model                                      \n",
       "WDC WD800LB                       10.300000\n",
       "WDC WD800BB                        9.240000\n",
       "Hitachi HDT725025VLA380            7.800000\n",
       "WDC WD3200AAKS                     6.800000\n",
       "WDC WD10EACS                       6.586667"
      ]
     },
     "execution_count": 35,
     "metadata": {},
     "output_type": "execute_result"
    }
   ],
   "source": [
    "# Drive age aggregated by model number and sorted. Top 10 models returned\n",
    "model_avg_age = df[['model', 'drive_age_in_years']].groupby('model',sort=True).mean().sort_values('drive_age_in_years', ascending = False)\n",
    "model_avg_age.head()"
   ]
  },
  {
   "cell_type": "code",
   "execution_count": 36,
   "metadata": {},
   "outputs": [
    {
     "data": {
      "text/plain": [
       "Text(0.5, 1.0, 'Models by Average Drive Age')"
      ]
     },
     "execution_count": 36,
     "metadata": {},
     "output_type": "execute_result"
    },
    {
     "data": {
      "image/png": "[encoded data removed]",
      "text/plain": [
       "<Figure size 432x288 with 1 Axes>"
      ]
     },
     "metadata": {
      "needs_background": "light"
     },
     "output_type": "display_data"
    }
   ],
   "source": [
    "# Plot of Models by Average Drive Age\n",
    "mod = model_avg_age.groupby('model').mean()\n",
    "ax2 = plt.bar(x= mod.index ,height=mod.drive_age_in_years)\n",
    "plt.xticks('')\n",
    "plt.xlabel('Individual Model')\n",
    "plt.ylabel('Average Drive Age (Years)')\n",
    "plt.title('Models by Average Drive Age')"
   ]
  },
  {
   "cell_type": "markdown",
   "metadata": {},
   "source": [
    "> Variance in drive age is seen in both the manufacturers and model numbers. The variance is more apparent amoung hard drive models."
   ]
  },
  {
   "cell_type": "markdown",
   "metadata": {},
   "source": [
    "### What is a hard drive failure?\n",
    "\n",
    "According to Backblaze, a hard drive failure occurs when a drive stops spinning, won’t stay as a member of a RAID array, or demonstrates continuous degradation over time as informed by SMART stats and other system checks.\n",
    "\n",
    "The failure column was aggegrated by the max value, therefore, a \"0\" signifies a hard drive that has yet to fail, and a \"1\" signifies a hard drive that has failed. "
   ]
  },
  {
   "cell_type": "markdown",
   "metadata": {},
   "source": [
    "#### What do failures look like? "
   ]
  },
  {
   "cell_type": "code",
   "execution_count": 37,
   "metadata": {},
   "outputs": [
    {
     "data": {
      "text/plain": [
       "0    155917\n",
       "1      5911\n",
       "Name: failure, dtype: int64"
      ]
     },
     "execution_count": 37,
     "metadata": {},
     "output_type": "execute_result"
    }
   ],
   "source": [
    "df.failure.value_counts()"
   ]
  },
  {
   "cell_type": "code",
   "execution_count": 38,
   "metadata": {},
   "outputs": [
    {
     "data": {
      "text/plain": [
       "0.03652643547470154"
      ]
     },
     "execution_count": 38,
     "metadata": {},
     "output_type": "execute_result"
    }
   ],
   "source": [
    "(df.failure == 1).sum() / len(df)"
   ]
  },
  {
   "cell_type": "markdown",
   "metadata": {},
   "source": [
    "> Only 3.7% of all hard drives have been recorded as \"failed\""
   ]
  },
  {
   "cell_type": "markdown",
   "metadata": {},
   "source": [
    "#### How do the lifespans of hard drives that have failed compared to hard drives that have not failed?"
   ]
  },
  {
   "cell_type": "code",
   "execution_count": 39,
   "metadata": {},
   "outputs": [],
   "source": [
    "# create new dfs with hard drives that have failed, and hard drives that have not failed \n",
    "df_fails = df [df.failure == 1]\n",
    "df_lives = df [df.failure == 0]"
   ]
  },
  {
   "cell_type": "code",
   "execution_count": 40,
   "metadata": {},
   "outputs": [
    {
     "data": {
      "image/png": "[encoded data removed]",
      "text/plain": [
       "<Figure size 720x432 with 1 Axes>"
      ]
     },
     "metadata": {
      "needs_background": "light"
     },
     "output_type": "display_data"
    }
   ],
   "source": [
    "plt.figure(figsize=(10,6))\n",
    "plt.hist([df_fails.drive_age_in_years, df_lives.drive_age_in_years], stacked=True, bins=20,\n",
    "         edgecolor='slategrey', color=['salmon', 'mistyrose'])\n",
    "plt.legend([\"Failed Drives\",\"Not Failed Drives\"])\n",
    "plt.title(\"Distribution of the Life of a Hard Drive\")\n",
    "plt.xlabel(\"Lifespan (years)\")\n",
    "plt.ylabel(\"Frequency\")\n",
    "ax = plt.gca()\n",
    "ax.get_yaxis().set_major_formatter(plt.FuncFormatter(lambda x, loc: \"{:,}\".format(int(x))))             \n",
    "ax.get_xaxis().set_major_formatter(plt.FuncFormatter(lambda x, loc: \"{:,}\".format(int(x))))\n",
    "plt.show()"
   ]
  },
  {
   "cell_type": "markdown",
   "metadata": {},
   "source": [
    "#### How is this misleading?\n",
    "- Failures include not only drives that have failed, but also drives that have yet to fail but show signs of failing soon. Our goal is to determine the reliability of hard drives. Therefore, it is acceptable to classify imminently failing drives as failures. \n",
    "- Failures do not take into account the lifespan of the hard drive. It is important to realize that all hard drives, given enough time, will eventually fail. For example, a typical lifespan of a hard drive is 5 years. If a hard drive fails after 10 years of continual operation, then it should have a reliable rating, as it lasted well past it's typical lifespan. Therefore, the focus will be on drives that fail before reaching their average lifespan. "
   ]
  },
  {
   "cell_type": "markdown",
   "metadata": {},
   "source": [
    "> We will identify hard drives that are more prone to early failures.  "
   ]
  },
  {
   "cell_type": "markdown",
   "metadata": {},
   "source": [
    "### How do we define an early failure? "
   ]
  },
  {
   "cell_type": "markdown",
   "metadata": {},
   "source": [
    "The goal of the project is to determine which hard drives are more prone to early failures. Looking at the lifespan of all hard drives, a hard drive that fails within the first half of all life spans, is labeled as an early failure."
   ]
  },
  {
   "cell_type": "code",
   "execution_count": 41,
   "metadata": {},
   "outputs": [
    {
     "data": {
      "text/html": [
       "<div>\n",
       "<style scoped>\n",
       "    .dataframe tbody tr th:only-of-type {\n",
       "        vertical-align: middle;\n",
       "    }\n",
       "\n",
       "    .dataframe tbody tr th {\n",
       "        vertical-align: top;\n",
       "    }\n",
       "\n",
       "    .dataframe thead th {\n",
       "        text-align: right;\n",
       "    }\n",
       "</style>\n",
       "<table border=\"1\" class=\"dataframe\">\n",
       "  <thead>\n",
       "    <tr style=\"text-align: right;\">\n",
       "      <th></th>\n",
       "      <th>drive_age_in_years</th>\n",
       "    </tr>\n",
       "  </thead>\n",
       "  <tbody>\n",
       "    <tr>\n",
       "      <td>count</td>\n",
       "      <td>161828.000000</td>\n",
       "    </tr>\n",
       "    <tr>\n",
       "      <td>mean</td>\n",
       "      <td>2.722680</td>\n",
       "    </tr>\n",
       "    <tr>\n",
       "      <td>std</td>\n",
       "      <td>1.524778</td>\n",
       "    </tr>\n",
       "    <tr>\n",
       "      <td>min</td>\n",
       "      <td>0.000000</td>\n",
       "    </tr>\n",
       "    <tr>\n",
       "      <td>25%</td>\n",
       "      <td>1.600000</td>\n",
       "    </tr>\n",
       "    <tr>\n",
       "      <td>50%</td>\n",
       "      <td>2.600000</td>\n",
       "    </tr>\n",
       "    <tr>\n",
       "      <td>75%</td>\n",
       "      <td>4.000000</td>\n",
       "    </tr>\n",
       "    <tr>\n",
       "      <td>max</td>\n",
       "      <td>10.300000</td>\n",
       "    </tr>\n",
       "  </tbody>\n",
       "</table>\n",
       "</div>"
      ],
      "text/plain": [
       "       drive_age_in_years\n",
       "count       161828.000000\n",
       "mean             2.722680\n",
       "std              1.524778\n",
       "min              0.000000\n",
       "25%              1.600000\n",
       "50%              2.600000\n",
       "75%              4.000000\n",
       "max             10.300000"
      ]
     },
     "execution_count": 41,
     "metadata": {},
     "output_type": "execute_result"
    }
   ],
   "source": [
    "df[['drive_age_in_years']].describe()"
   ]
  },
  {
   "cell_type": "markdown",
   "metadata": {},
   "source": [
    "> A cut-off age of 2.6 years is utilized for early failure."
   ]
  },
  {
   "cell_type": "markdown",
   "metadata": {},
   "source": [
    "The `explore.early_failure` function creates a column in the dataframe that identifies drives that are early failures."
   ]
  },
  {
   "cell_type": "code",
   "execution_count": 42,
   "metadata": {},
   "outputs": [],
   "source": [
    "df = explore.early_failure(df)"
   ]
  },
  {
   "cell_type": "markdown",
   "metadata": {},
   "source": [
    "### How do the SMART stats compare failed and non-failed drives? "
   ]
  },
  {
   "cell_type": "code",
   "execution_count": 43,
   "metadata": {},
   "outputs": [
    {
     "data": {
      "image/png": "[encoded data removed]",
      "text/plain": [
       "<Figure size 864x648 with 2 Axes>"
      ]
     },
     "metadata": {
      "needs_background": "light"
     },
     "output_type": "display_data"
    }
   ],
   "source": [
    "fig = plt.figure(figsize=(12,9))\n",
    "\n",
    "#create subplot one\n",
    "ax1 = plt.subplot(211)\n",
    "#plot smart stats vs their lifespan\n",
    "for col in df.columns[6:-1]:\n",
    "    plt.scatter(y=df_fails[col], x=df_fails.drive_age_in_years, label=col, alpha = .55)\n",
    "plt.legend(title = 'SMART Features')\n",
    "plt.vlines(2.6, 0, 70_000, linestyles= \"dashed\", colors = 'red')\n",
    "plt.ylim((0, 70_000))\n",
    "plt.ylabel(\"Frequency\")\n",
    "plt.title('Drives that have failed')\n",
    "#format yticks with commas\n",
    "ax1.get_yaxis().set_major_formatter(plt.FuncFormatter(lambda x, loc: \"{:,}\".format(int(x))))             \n",
    "\n",
    "#place arrow \n",
    "plt.annotate(\n",
    "    f'Mean Age: 2.6 years',\n",
    "    xy=(2.6, 50_000),\n",
    "    xytext=(4, 60_000),\n",
    "    arrowprops={'arrowstyle': '->'})\n",
    "\n",
    "#create subplot two\n",
    "ax2 = plt.subplot(2, 1, 2, sharex=ax1)\n",
    "#plot smart stats vs their lifespan\n",
    "for col in df.columns[6:-1]:\n",
    "    plt.scatter(y=df_lives[col], x=df_lives.drive_age_in_years, label=col, alpha = .55)\n",
    "plt.vlines(2.6, 0, 70_000, linestyles='dashed',colors = 'red')\n",
    "plt.ylim((0, 70_000))\n",
    "plt.xlabel(\"Drive Age (years)\")\n",
    "plt.ylabel(\"Frequency\")\n",
    "plt.title(\"Drives that have not failed\")\n",
    "#format yticks with commas\n",
    "ax2.get_yaxis().set_major_formatter(plt.FuncFormatter(lambda x, loc: \"{:,}\".format(int(x))))  \n",
    "\n",
    "#place arrow\n",
    "plt.annotate(\n",
    "    'Mean Age: 2.6 years',\n",
    "    xy=(2.6, 40_000),\n",
    "    xytext=(4, 50_000),\n",
    "    arrowprops={'arrowstyle': '->'})\n",
    "\n",
    "plt.show()"
   ]
  },
  {
   "cell_type": "markdown",
   "metadata": {},
   "source": [
    "> It is seen for drives that have failed, their SMART stats are consistently much higher than drives that have not failed. Thus concluding that the five identified SMART stats are indicators of failure. "
   ]
  },
  {
   "cell_type": "markdown",
   "metadata": {},
   "source": [
    "#### Removing young non-failing hard drives"
   ]
  },
  {
   "cell_type": "markdown",
   "metadata": {},
   "source": [
    "Hard drives that are currently functioning properly, but have not reached the established cut-off age will be removed from this analysis. These hard drives have not been powered on long enough to give significant stats of a reliable drive. The `explore.old_or_fail` function drops rows containing drives that have not failed and are not older than the cut off age (2.6 years)."
   ]
  },
  {
   "cell_type": "code",
   "execution_count": 44,
   "metadata": {},
   "outputs": [],
   "source": [
    "df = explore.old_or_fail(df)"
   ]
  },
  {
   "cell_type": "code",
   "execution_count": 45,
   "metadata": {},
   "outputs": [
    {
     "data": {
      "text/plain": [
       "(83940, 12)"
      ]
     },
     "execution_count": 45,
     "metadata": {},
     "output_type": "execute_result"
    }
   ],
   "source": [
    "df.shape"
   ]
  },
  {
   "cell_type": "markdown",
   "metadata": {},
   "source": [
    "> After defining early failures and removing young non-failing drives, the dataframe has 12 columns and 83,940 rows. The data can be further explored. "
   ]
  },
  {
   "cell_type": "markdown",
   "metadata": {},
   "source": [
    "### How many of the hard drives are identified as early failures?"
   ]
  },
  {
   "cell_type": "code",
   "execution_count": 46,
   "metadata": {},
   "outputs": [
    {
     "data": {
      "text/plain": [
       "0    79954\n",
       "1     3986\n",
       "Name: early_failure, dtype: int64"
      ]
     },
     "execution_count": 46,
     "metadata": {},
     "output_type": "execute_result"
    }
   ],
   "source": [
    "df.early_failure.value_counts()"
   ]
  },
  {
   "cell_type": "code",
   "execution_count": 47,
   "metadata": {},
   "outputs": [
    {
     "data": {
      "text/plain": [
       "0.04748629973790803"
      ]
     },
     "execution_count": 47,
     "metadata": {},
     "output_type": "execute_result"
    }
   ],
   "source": [
    "(df.early_failure == 1).sum() / len(df)"
   ]
  },
  {
   "cell_type": "markdown",
   "metadata": {},
   "source": [
    "> Only 4.7% of hard drives are identified as early failures after the removal of young non-failing drives.\n",
    "\n",
    "> This number is higher than the previously identified percentage of failures, due to the dataframe changing and the removal of the young, healthy drives. "
   ]
  },
  {
   "cell_type": "markdown",
   "metadata": {},
   "source": [
    "### Do early failure rates vary by model number?"
   ]
  },
  {
   "cell_type": "code",
   "execution_count": 48,
   "metadata": {},
   "outputs": [
    {
     "data": {
      "text/html": [
       "<div>\n",
       "<style scoped>\n",
       "    .dataframe tbody tr th:only-of-type {\n",
       "        vertical-align: middle;\n",
       "    }\n",
       "\n",
       "    .dataframe tbody tr th {\n",
       "        vertical-align: top;\n",
       "    }\n",
       "\n",
       "    .dataframe thead th {\n",
       "        text-align: right;\n",
       "    }\n",
       "</style>\n",
       "<table border=\"1\" class=\"dataframe\">\n",
       "  <thead>\n",
       "    <tr style=\"text-align: right;\">\n",
       "      <th></th>\n",
       "      <th>early_failures</th>\n",
       "      <th>total_drives</th>\n",
       "      <th>average_age_in_years</th>\n",
       "      <th>early_failure_rate_percent</th>\n",
       "    </tr>\n",
       "    <tr>\n",
       "      <th>model</th>\n",
       "      <th></th>\n",
       "      <th></th>\n",
       "      <th></th>\n",
       "      <th></th>\n",
       "    </tr>\n",
       "  </thead>\n",
       "  <tbody>\n",
       "    <tr>\n",
       "      <td>ST4000DM000</td>\n",
       "      <td>1498</td>\n",
       "      <td>34901</td>\n",
       "      <td>3.947474</td>\n",
       "      <td>4.292141</td>\n",
       "    </tr>\n",
       "    <tr>\n",
       "      <td>ST12000NM0007</td>\n",
       "      <td>1104</td>\n",
       "      <td>1104</td>\n",
       "      <td>1.046830</td>\n",
       "      <td>100.000000</td>\n",
       "    </tr>\n",
       "    <tr>\n",
       "      <td>ST8000NM0055</td>\n",
       "      <td>383</td>\n",
       "      <td>442</td>\n",
       "      <td>1.395249</td>\n",
       "      <td>86.651584</td>\n",
       "    </tr>\n",
       "    <tr>\n",
       "      <td>ST8000DM002</td>\n",
       "      <td>276</td>\n",
       "      <td>9928</td>\n",
       "      <td>3.018433</td>\n",
       "      <td>2.780016</td>\n",
       "    </tr>\n",
       "    <tr>\n",
       "      <td>HGST HMS5C4040BLE640</td>\n",
       "      <td>197</td>\n",
       "      <td>10920</td>\n",
       "      <td>3.511181</td>\n",
       "      <td>1.804029</td>\n",
       "    </tr>\n",
       "    <tr>\n",
       "      <td>...</td>\n",
       "      <td>...</td>\n",
       "      <td>...</td>\n",
       "      <td>...</td>\n",
       "      <td>...</td>\n",
       "    </tr>\n",
       "    <tr>\n",
       "      <td>WDC WD1600AAJB</td>\n",
       "      <td>0</td>\n",
       "      <td>6</td>\n",
       "      <td>4.366667</td>\n",
       "      <td>0.000000</td>\n",
       "    </tr>\n",
       "    <tr>\n",
       "      <td>WDC WD1600AAJS</td>\n",
       "      <td>0</td>\n",
       "      <td>100</td>\n",
       "      <td>5.147000</td>\n",
       "      <td>0.000000</td>\n",
       "    </tr>\n",
       "    <tr>\n",
       "      <td>ST1000LM024 HN</td>\n",
       "      <td>0</td>\n",
       "      <td>1</td>\n",
       "      <td>2.800000</td>\n",
       "      <td>0.000000</td>\n",
       "    </tr>\n",
       "    <tr>\n",
       "      <td>Hitachi HDT725025VLA380</td>\n",
       "      <td>0</td>\n",
       "      <td>1</td>\n",
       "      <td>7.800000</td>\n",
       "      <td>0.000000</td>\n",
       "    </tr>\n",
       "    <tr>\n",
       "      <td>WDC WD800LB</td>\n",
       "      <td>0</td>\n",
       "      <td>1</td>\n",
       "      <td>10.300000</td>\n",
       "      <td>0.000000</td>\n",
       "    </tr>\n",
       "  </tbody>\n",
       "</table>\n",
       "<p>88 rows × 4 columns</p>\n",
       "</div>"
      ],
      "text/plain": [
       "                         early_failures  total_drives  average_age_in_years  \\\n",
       "model                                                                         \n",
       "ST4000DM000                        1498         34901              3.947474   \n",
       "ST12000NM0007                      1104          1104              1.046830   \n",
       "ST8000NM0055                        383           442              1.395249   \n",
       "ST8000DM002                         276          9928              3.018433   \n",
       "HGST HMS5C4040BLE640                197         10920              3.511181   \n",
       "...                                 ...           ...                   ...   \n",
       "WDC WD1600AAJB                        0             6              4.366667   \n",
       "WDC WD1600AAJS                        0           100              5.147000   \n",
       "ST1000LM024 HN                        0             1              2.800000   \n",
       "Hitachi HDT725025VLA380               0             1              7.800000   \n",
       "WDC WD800LB                           0             1             10.300000   \n",
       "\n",
       "                         early_failure_rate_percent  \n",
       "model                                                \n",
       "ST4000DM000                                4.292141  \n",
       "ST12000NM0007                            100.000000  \n",
       "ST8000NM0055                              86.651584  \n",
       "ST8000DM002                                2.780016  \n",
       "HGST HMS5C4040BLE640                       1.804029  \n",
       "...                                             ...  \n",
       "WDC WD1600AAJB                             0.000000  \n",
       "WDC WD1600AAJS                             0.000000  \n",
       "ST1000LM024 HN                             0.000000  \n",
       "Hitachi HDT725025VLA380                    0.000000  \n",
       "WDC WD800LB                                0.000000  \n",
       "\n",
       "[88 rows x 4 columns]"
      ]
     },
     "execution_count": 48,
     "metadata": {},
     "output_type": "execute_result"
    }
   ],
   "source": [
    "# aggegrate by early failure, drive age, and add a total count\n",
    "agg_model = df.groupby(['model']).agg({'early_failure' : 'sum', 'model' : 'count', 'drive_age_in_years':'mean'})\n",
    "agg_model.rename(columns={'early_failure':'early_failures', 'model':'total_drives', 'drive_age_in_years':'average_age_in_years'}, inplace=True)\n",
    "\n",
    "# add an early failure rate column\n",
    "agg_model['early_failure_rate_percent'] = agg_model['early_failures'] / agg_model['total_drives'] * 100\n",
    "agg_model.sort_values('early_failures', ascending = False)"
   ]
  },
  {
   "cell_type": "markdown",
   "metadata": {},
   "source": [
    "> When aggregating by model number, we see wide variance in hard drive age and early failure rates. "
   ]
  },
  {
   "cell_type": "markdown",
   "metadata": {},
   "source": [
    "### Which manufacturer produces the most early failures?"
   ]
  },
  {
   "cell_type": "code",
   "execution_count": 49,
   "metadata": {},
   "outputs": [
    {
     "data": {
      "text/html": [
       "<div>\n",
       "<style scoped>\n",
       "    .dataframe tbody tr th:only-of-type {\n",
       "        vertical-align: middle;\n",
       "    }\n",
       "\n",
       "    .dataframe tbody tr th {\n",
       "        vertical-align: top;\n",
       "    }\n",
       "\n",
       "    .dataframe thead th {\n",
       "        text-align: right;\n",
       "    }\n",
       "</style>\n",
       "<table border=\"1\" class=\"dataframe\">\n",
       "  <thead>\n",
       "    <tr style=\"text-align: right;\">\n",
       "      <th>early_failure</th>\n",
       "      <th>0</th>\n",
       "      <th>1</th>\n",
       "    </tr>\n",
       "    <tr>\n",
       "      <th>manufacturer</th>\n",
       "      <th></th>\n",
       "      <th></th>\n",
       "    </tr>\n",
       "  </thead>\n",
       "  <tbody>\n",
       "    <tr>\n",
       "      <td>Hitachi</td>\n",
       "      <td>31138</td>\n",
       "      <td>305</td>\n",
       "    </tr>\n",
       "    <tr>\n",
       "      <td>Seagate</td>\n",
       "      <td>46247</td>\n",
       "      <td>3451</td>\n",
       "    </tr>\n",
       "    <tr>\n",
       "      <td>Toshiba</td>\n",
       "      <td>374</td>\n",
       "      <td>146</td>\n",
       "    </tr>\n",
       "    <tr>\n",
       "      <td>Western Digital</td>\n",
       "      <td>2195</td>\n",
       "      <td>84</td>\n",
       "    </tr>\n",
       "  </tbody>\n",
       "</table>\n",
       "</div>"
      ],
      "text/plain": [
       "early_failure        0     1\n",
       "manufacturer                \n",
       "Hitachi          31138   305\n",
       "Seagate          46247  3451\n",
       "Toshiba            374   146\n",
       "Western Digital   2195    84"
      ]
     },
     "execution_count": 49,
     "metadata": {},
     "output_type": "execute_result"
    }
   ],
   "source": [
    "pd.crosstab(df.manufacturer, df.early_failure)"
   ]
  },
  {
   "cell_type": "code",
   "execution_count": 50,
   "metadata": {},
   "outputs": [
    {
     "data": {
      "image/png": "[encoded data removed]",
      "text/plain": [
       "<Figure size 432x288 with 1 Axes>"
      ]
     },
     "metadata": {
      "needs_background": "light"
     },
     "output_type": "display_data"
    }
   ],
   "source": [
    "sns.barplot(df.manufacturer,df.early_failure)\n",
    "plt.show()"
   ]
  },
  {
   "cell_type": "markdown",
   "metadata": {},
   "source": [
    "> Of the four manufacturers being analyzed, Toshiba produces significantly more early failures."
   ]
  },
  {
   "cell_type": "markdown",
   "metadata": {},
   "source": [
    "#### Break down each manufacturer's failure rate by quarter"
   ]
  },
  {
   "cell_type": "code",
   "execution_count": 51,
   "metadata": {},
   "outputs": [
    {
     "data": {
      "image/png": "[encoded data removed]",
      "text/plain": [
       "<Figure size 720x576 with 1 Axes>"
      ]
     },
     "metadata": {
      "needs_background": "light"
     },
     "output_type": "display_data"
    }
   ],
   "source": [
    "#models by quartile by manufacturer\n",
    "explore.get_manufacturer_graph(df)"
   ]
  },
  {
   "cell_type": "markdown",
   "metadata": {},
   "source": [
    "### Does drive capacity size correlate with early failure rates? "
   ]
  },
  {
   "cell_type": "code",
   "execution_count": 52,
   "metadata": {},
   "outputs": [
    {
     "data": {
      "image/png": "[encoded data removed]",
      "text/plain": [
       "<Figure size 720x432 with 1 Axes>"
      ]
     },
     "metadata": {
      "needs_background": "light"
     },
     "output_type": "display_data"
    }
   ],
   "source": [
    "plt.figure(figsize=(10,6))\n",
    "plt.title(\"Early Failure Rate by Data Capacity\")\n",
    "sns.barplot(df.capacity_terabytes,df.early_failure)\n",
    "plt.show()"
   ]
  },
  {
   "cell_type": "markdown",
   "metadata": {},
   "source": [
    "> Early failure rate dramatically increases in drives that have a 10 - 14 terabytes capacity."
   ]
  },
  {
   "cell_type": "markdown",
   "metadata": {},
   "source": [
    "### How do SMART attributes correlate with early failure?"
   ]
  },
  {
   "cell_type": "markdown",
   "metadata": {},
   "source": [
    "The five SMART stats being presented count the occurrence of different types of errors that can occur in hard drives. For each type a count of above zero indicates that a hard drive should be replaced quickly due to a risk of failure."
   ]
  },
  {
   "cell_type": "code",
   "execution_count": 53,
   "metadata": {},
   "outputs": [
    {
     "data": {
      "text/plain": [
       "Index(['reallocated_sectors_count', 'reported_uncorrectable_errors',\n",
       "       'command_timeout', 'current_pending_sector_count',\n",
       "       'uncorrectable_sector_count'],\n",
       "      dtype='object')"
      ]
     },
     "execution_count": 53,
     "metadata": {},
     "output_type": "execute_result"
    }
   ],
   "source": [
    "smart_stats_5 = df.columns[6:11]\n",
    "smart_stats_5"
   ]
  },
  {
   "cell_type": "code",
   "execution_count": 54,
   "metadata": {},
   "outputs": [
    {
     "data": {
      "image/png": "[encoded data removed]",
      "text/plain": [
       "<Figure size 432x288 with 1 Axes>"
      ]
     },
     "metadata": {
      "needs_background": "light"
     },
     "output_type": "display_data"
    },
    {
     "data": {
      "image/png": "[encoded data removed]",
      "text/plain": [
       "<Figure size 432x288 with 1 Axes>"
      ]
     },
     "metadata": {
      "needs_background": "light"
     },
     "output_type": "display_data"
    },
    {
     "data": {
      "image/png": "[encoded data removed]",
      "text/plain": [
       "<Figure size 432x288 with 1 Axes>"
      ]
     },
     "metadata": {
      "needs_background": "light"
     },
     "output_type": "display_data"
    },
    {
     "data": {
      "image/png": "[encoded data removed]",
      "text/plain": [
       "<Figure size 432x288 with 1 Axes>"
      ]
     },
     "metadata": {
      "needs_background": "light"
     },
     "output_type": "display_data"
    },
    {
     "data": {
      "image/png": "[encoded data removed]",
      "text/plain": [
       "<Figure size 432x288 with 1 Axes>"
      ]
     },
     "metadata": {
      "needs_background": "light"
     },
     "output_type": "display_data"
    }
   ],
   "source": [
    "for stat in smart_stats_5:\n",
    "    sns.barplot(df.early_failure,df[stat])\n",
    "    plt.title(\"Is {} \\n related to when a hard drive fails early?\".format(stat))\n",
    "    plt.xticks([0,1],[\"no\",\"yes\"])\n",
    "    plt.show()"
   ]
  },
  {
   "cell_type": "markdown",
   "metadata": {},
   "source": [
    "> Because these errors occur far more frequently in early failures than in non-early failures, all of these SMART seem to be a good indicator for early failures. "
   ]
  },
  {
   "cell_type": "markdown",
   "metadata": {},
   "source": [
    "#### SMART stats binary values"
   ]
  },
  {
   "cell_type": "markdown",
   "metadata": {},
   "source": [
    "The five SMART stats utilized in this analysis are all counters:\n",
    "- reallocated_sectors_count: counts the sectors that have been found and revamped\n",
    "- reported_uncorrectable_errors: counts the errors that couldnt be recovered using hardware\n",
    "- command_timeout: counts the aborted operations due to timeout\n",
    "- current_pending_sector_count: counts the number of unstable sectors\n",
    "- uncorrectable_sector_count: counts the uncorrectable errors when reading/writing sector"
   ]
  },
  {
   "cell_type": "code",
   "execution_count": 55,
   "metadata": {},
   "outputs": [
    {
     "data": {
      "text/html": [
       "<div>\n",
       "<style scoped>\n",
       "    .dataframe tbody tr th:only-of-type {\n",
       "        vertical-align: middle;\n",
       "    }\n",
       "\n",
       "    .dataframe tbody tr th {\n",
       "        vertical-align: top;\n",
       "    }\n",
       "\n",
       "    .dataframe thead th {\n",
       "        text-align: right;\n",
       "    }\n",
       "</style>\n",
       "<table border=\"1\" class=\"dataframe\">\n",
       "  <thead>\n",
       "    <tr style=\"text-align: right;\">\n",
       "      <th></th>\n",
       "      <th>reallocated_sectors_count</th>\n",
       "      <th>reported_uncorrectable_errors</th>\n",
       "      <th>command_timeout</th>\n",
       "      <th>current_pending_sector_count</th>\n",
       "      <th>uncorrectable_sector_count</th>\n",
       "    </tr>\n",
       "    <tr>\n",
       "      <th>early_failure</th>\n",
       "      <th></th>\n",
       "      <th></th>\n",
       "      <th></th>\n",
       "      <th></th>\n",
       "      <th></th>\n",
       "    </tr>\n",
       "  </thead>\n",
       "  <tbody>\n",
       "    <tr>\n",
       "      <td>0</td>\n",
       "      <td>1508120.0</td>\n",
       "      <td>19489.0</td>\n",
       "      <td>1.771718e+13</td>\n",
       "      <td>494078.0</td>\n",
       "      <td>490643.0</td>\n",
       "    </tr>\n",
       "    <tr>\n",
       "      <td>1</td>\n",
       "      <td>7587344.0</td>\n",
       "      <td>434002.0</td>\n",
       "      <td>2.860500e+12</td>\n",
       "      <td>504772.0</td>\n",
       "      <td>453491.0</td>\n",
       "    </tr>\n",
       "  </tbody>\n",
       "</table>\n",
       "</div>"
      ],
      "text/plain": [
       "               reallocated_sectors_count  reported_uncorrectable_errors  \\\n",
       "early_failure                                                             \n",
       "0                              1508120.0                        19489.0   \n",
       "1                              7587344.0                       434002.0   \n",
       "\n",
       "               command_timeout  current_pending_sector_count  \\\n",
       "early_failure                                                  \n",
       "0                 1.771718e+13                      494078.0   \n",
       "1                 2.860500e+12                      504772.0   \n",
       "\n",
       "               uncorrectable_sector_count  \n",
       "early_failure                              \n",
       "0                                490643.0  \n",
       "1                                453491.0  "
      ]
     },
     "execution_count": 55,
     "metadata": {},
     "output_type": "execute_result"
    }
   ],
   "source": [
    "df.groupby('early_failure').sum()[smart_stats_5]"
   ]
  },
  {
   "cell_type": "markdown",
   "metadata": {},
   "source": [
    "When any of these SMART stats are anything other than zero, this is a bad sign for the hard drive, regardless of the counter. Therefore, the `explore.make_binary_values` function will look at these columns, and if any contain a value greater than zero, it is replaced with a boolean True or False. This simplfies the columns visuals, and will also make it simplier to feed into final algorithms. "
   ]
  },
  {
   "cell_type": "code",
   "execution_count": 56,
   "metadata": {},
   "outputs": [],
   "source": [
    "# Make features binary\n",
    "df = explore.make_binary_values(df)"
   ]
  },
  {
   "cell_type": "code",
   "execution_count": 57,
   "metadata": {},
   "outputs": [
    {
     "data": {
      "image/png": "[encoded data removed]",
      "text/plain": [
       "<Figure size 432x288 with 1 Axes>"
      ]
     },
     "metadata": {
      "needs_background": "light"
     },
     "output_type": "display_data"
    }
   ],
   "source": [
    "df.groupby('early_failure').sum()[smart_stats_5].T.plot.barh()\n",
    "plt.show()"
   ]
  },
  {
   "cell_type": "markdown",
   "metadata": {},
   "source": [
    ">Even though the non-early-failure hard drives have more SMART stats triggered in each column, it must be noted that the only 4.7% of all hard drives are early failures. So in comparison, the high count of SMART stats is significant. "
   ]
  },
  {
   "cell_type": "markdown",
   "metadata": {},
   "source": [
    "### Does the hard drive model affect the early failure rate?"
   ]
  },
  {
   "cell_type": "markdown",
   "metadata": {},
   "source": [
    "The `explore.chi2_models` function determines if a model is independent of the early fail rate by using a chi squared test. \n",
    "> H0: the hard drive model is independent of early failure rate"
   ]
  },
  {
   "cell_type": "code",
   "execution_count": 58,
   "metadata": {},
   "outputs": [
    {
     "data": {
      "text/html": [
       "<div>\n",
       "<style scoped>\n",
       "    .dataframe tbody tr th:only-of-type {\n",
       "        vertical-align: middle;\n",
       "    }\n",
       "\n",
       "    .dataframe tbody tr th {\n",
       "        vertical-align: top;\n",
       "    }\n",
       "\n",
       "    .dataframe thead th {\n",
       "        text-align: right;\n",
       "    }\n",
       "</style>\n",
       "<table border=\"1\" class=\"dataframe\">\n",
       "  <thead>\n",
       "    <tr style=\"text-align: right;\">\n",
       "      <th></th>\n",
       "      <th>model</th>\n",
       "      <th>chi2</th>\n",
       "      <th>p</th>\n",
       "      <th>signif</th>\n",
       "    </tr>\n",
       "  </thead>\n",
       "  <tbody>\n",
       "    <tr>\n",
       "      <td>0</td>\n",
       "      <td>Hitachi HDS5C4040ALE630</td>\n",
       "      <td>132.6020</td>\n",
       "      <td>0.0000</td>\n",
       "      <td>True</td>\n",
       "    </tr>\n",
       "    <tr>\n",
       "      <td>1</td>\n",
       "      <td>ST4000DM000</td>\n",
       "      <td>27.3500</td>\n",
       "      <td>0.0000</td>\n",
       "      <td>True</td>\n",
       "    </tr>\n",
       "    <tr>\n",
       "      <td>2</td>\n",
       "      <td>Hitachi HDS5C3030ALA630</td>\n",
       "      <td>238.1687</td>\n",
       "      <td>0.0000</td>\n",
       "      <td>True</td>\n",
       "    </tr>\n",
       "    <tr>\n",
       "      <td>3</td>\n",
       "      <td>ST8000DM002</td>\n",
       "      <td>95.9810</td>\n",
       "      <td>0.0000</td>\n",
       "      <td>True</td>\n",
       "    </tr>\n",
       "    <tr>\n",
       "      <td>4</td>\n",
       "      <td>HGST HMS5C4040BLE640</td>\n",
       "      <td>239.8896</td>\n",
       "      <td>0.0000</td>\n",
       "      <td>True</td>\n",
       "    </tr>\n",
       "    <tr>\n",
       "      <td>...</td>\n",
       "      <td>...</td>\n",
       "      <td>...</td>\n",
       "      <td>...</td>\n",
       "      <td>...</td>\n",
       "    </tr>\n",
       "    <tr>\n",
       "      <td>83</td>\n",
       "      <td>ST3500320AS</td>\n",
       "      <td>4.5272</td>\n",
       "      <td>0.0334</td>\n",
       "      <td>True</td>\n",
       "    </tr>\n",
       "    <tr>\n",
       "      <td>84</td>\n",
       "      <td>WDC WD3200AAKS</td>\n",
       "      <td>4.5272</td>\n",
       "      <td>0.0334</td>\n",
       "      <td>True</td>\n",
       "    </tr>\n",
       "    <tr>\n",
       "      <td>85</td>\n",
       "      <td>Hitachi HDS724040ALE640</td>\n",
       "      <td>1.8135</td>\n",
       "      <td>0.1781</td>\n",
       "      <td>False</td>\n",
       "    </tr>\n",
       "    <tr>\n",
       "      <td>86</td>\n",
       "      <td>WDC WD2500AAJB</td>\n",
       "      <td>4.5272</td>\n",
       "      <td>0.0334</td>\n",
       "      <td>True</td>\n",
       "    </tr>\n",
       "    <tr>\n",
       "      <td>87</td>\n",
       "      <td>WDC WD15EARS</td>\n",
       "      <td>4.5272</td>\n",
       "      <td>0.0334</td>\n",
       "      <td>True</td>\n",
       "    </tr>\n",
       "  </tbody>\n",
       "</table>\n",
       "<p>88 rows × 4 columns</p>\n",
       "</div>"
      ],
      "text/plain": [
       "                      model      chi2       p  signif\n",
       "0   Hitachi HDS5C4040ALE630  132.6020  0.0000    True\n",
       "1               ST4000DM000   27.3500  0.0000    True\n",
       "2   Hitachi HDS5C3030ALA630  238.1687  0.0000    True\n",
       "3               ST8000DM002   95.9810  0.0000    True\n",
       "4      HGST HMS5C4040BLE640  239.8896  0.0000    True\n",
       "..                      ...       ...     ...     ...\n",
       "83              ST3500320AS    4.5272  0.0334    True\n",
       "84           WDC WD3200AAKS    4.5272  0.0334    True\n",
       "85  Hitachi HDS724040ALE640    1.8135  0.1781   False\n",
       "86           WDC WD2500AAJB    4.5272  0.0334    True\n",
       "87             WDC WD15EARS    4.5272  0.0334    True\n",
       "\n",
       "[88 rows x 4 columns]"
      ]
     },
     "execution_count": 58,
     "metadata": {},
     "output_type": "execute_result"
    }
   ],
   "source": [
    "df_stat = explore.chi2_models(df)\n",
    "df_stat"
   ]
  },
  {
   "cell_type": "markdown",
   "metadata": {},
   "source": [
    "> The models that have True in the 'signif' column have failed to reject the null hypothesis. Therefore, it cannot be said that these models are independent of early failure rates. "
   ]
  },
  {
   "cell_type": "code",
   "execution_count": 59,
   "metadata": {},
   "outputs": [],
   "source": [
    "# create a list of all the significant models\n",
    "signif_models = list(df_stat [df_stat.signif == True].model)"
   ]
  },
  {
   "cell_type": "code",
   "execution_count": 60,
   "metadata": {},
   "outputs": [
    {
     "data": {
      "text/plain": [
       "54"
      ]
     },
     "execution_count": 60,
     "metadata": {},
     "output_type": "execute_result"
    }
   ],
   "source": [
    "len(signif_models)"
   ]
  },
  {
   "cell_type": "markdown",
   "metadata": {},
   "source": [
    "> There are 54 models that are statistically significant in determining early failure. The following shows their value counts. "
   ]
  },
  {
   "cell_type": "code",
   "execution_count": 61,
   "metadata": {},
   "outputs": [
    {
     "data": {
      "text/plain": [
       "ST4000DM000                34901\n",
       "HGST HMS5C4040BLE640       10920\n",
       "ST8000DM002                 9928\n",
       "HGST HMS5C4040ALE640        7673\n",
       "Hitachi HDS5C3030ALA630     4540\n",
       "Hitachi HDS722020ALA330     4482\n",
       "Hitachi HDS5C4040ALE630     2639\n",
       "ST6000DX000                 1890\n",
       "ST12000NM0007               1104\n",
       "Hitachi HDS723030ALA640      995\n",
       "ST500LM012 HN                603\n",
       "ST8000NM0055                 442\n",
       "WDC WD5000LPVX               332\n",
       "WDC WD10EADS                 287\n",
       "ST31500541AS                 264\n",
       "TOSHIBA MQ01ABF050           249\n",
       "ST4000DX000                  173\n",
       "TOSHIBA MD04ABA400V          147\n",
       "WDC WD1600AAJS               100\n",
       "ST320LT007                    73\n",
       "HGST HUH728080ALE600          57\n",
       "ST4000DM001                   34\n",
       "ST500LM030                    28\n",
       "HGST HUH721212ALN604          25\n",
       "TOSHIBA MQ01ABF050M           19\n",
       "ST10000NM0086                 14\n",
       "TOSHIBA MG07ACA14TA           11\n",
       "WDC WD20EFRX                   6\n",
       "ST4000DM005                    5\n",
       "ST12000NM0117                  5\n",
       "HGST HUH721212ALE600           4\n",
       "ST8000DM004                    4\n",
       "ST250LT007                     4\n",
       "ST4000DX002                    4\n",
       "HGST HUS726040ALE610           3\n",
       "ST8000DM005                    2\n",
       "WDC WD5003ABYX                 1\n",
       "WDC WD800JD                    1\n",
       "TOSHIBA HDWF180                1\n",
       "WDC WD3200AAKS                 1\n",
       "Hitachi HDS5C3030BLE630        1\n",
       "WDC WD3200BEKT                 1\n",
       "WDC WD2500AAJB                 1\n",
       "WDC WD2500BEVT                 1\n",
       "ST33000651AS                   1\n",
       "WDC WD15EARS                   1\n",
       "WDC WD800LB                    1\n",
       "ST3500320AS                    1\n",
       "ST1000LM024 HN                 1\n",
       "ST31500341AS                   1\n",
       "WDC WD3200LPVX                 1\n",
       "WDC WD1000FYPS                 1\n",
       "WDC WD10EALS                   1\n",
       "Hitachi HDT725025VLA380        1\n",
       "Name: model, dtype: int64"
      ]
     },
     "execution_count": 61,
     "metadata": {},
     "output_type": "execute_result"
    }
   ],
   "source": [
    "df.model [df.model.isin(signif_models)].value_counts()"
   ]
  },
  {
   "cell_type": "markdown",
   "metadata": {},
   "source": [
    "The `explore.model_scores` function takes the statistically significant models and determines a realiably score for them of them. \n",
    "- This is done by looking at the number of unique serial numbers for each model, and calculated a percentage of how many of them live and fail during the first quartile, the second quartile, the third quartile, and the fourth quartile. Each value is given a different weight based on the positiviy of longevity and negativity based on early failures.\n",
    "- Only models with at least 10 unique serial numbers will be classified"
   ]
  },
  {
   "cell_type": "code",
   "execution_count": 62,
   "metadata": {},
   "outputs": [
    {
     "data": {
      "text/plain": [
       "Index(['ST4000DM000', 'HGST HMS5C4040BLE640', 'ST8000DM002',\n",
       "       'HGST HMS5C4040ALE640', 'Hitachi HDS5C3030ALA630',\n",
       "       'Hitachi HDS722020ALA330', 'Hitachi HDS5C4040ALE630', 'ST6000DX000',\n",
       "       'ST12000NM0007', 'Hitachi HDS723030ALA640', 'ST500LM012 HN',\n",
       "       'ST8000NM0055', 'WDC WD5000LPVX', 'WDC WD10EADS', 'ST31500541AS',\n",
       "       'TOSHIBA MQ01ABF050', 'ST4000DX000', 'TOSHIBA MD04ABA400V',\n",
       "       'WDC WD1600AAJS', 'ST320LT007', 'HGST HUH728080ALE600', 'ST4000DM001',\n",
       "       'ST500LM030', 'HGST HUH721212ALN604', 'TOSHIBA MQ01ABF050M',\n",
       "       'ST10000NM0086', 'TOSHIBA MG07ACA14TA'],\n",
       "      dtype='object')"
      ]
     },
     "execution_count": 62,
     "metadata": {},
     "output_type": "execute_result"
    }
   ],
   "source": [
    "# determine statisically significant models with over 10 serial numbers\n",
    "signif_models_over_10 = df [df.model.isin(signif_models)].model.value_counts() [df [df.model.isin(signif_models)].model.value_counts() > 10].index\n",
    "signif_models_over_10"
   ]
  },
  {
   "cell_type": "code",
   "execution_count": 63,
   "metadata": {},
   "outputs": [],
   "source": [
    "# get the reliability score for each model\n",
    "df_scores = explore.model_scores(df [df.model.isin(signif_models_over_10)])"
   ]
  },
  {
   "cell_type": "code",
   "execution_count": 64,
   "metadata": {},
   "outputs": [
    {
     "data": {
      "text/html": [
       "<div>\n",
       "<style scoped>\n",
       "    .dataframe tbody tr th:only-of-type {\n",
       "        vertical-align: middle;\n",
       "    }\n",
       "\n",
       "    .dataframe tbody tr th {\n",
       "        vertical-align: top;\n",
       "    }\n",
       "\n",
       "    .dataframe thead th {\n",
       "        text-align: right;\n",
       "    }\n",
       "</style>\n",
       "<table border=\"1\" class=\"dataframe\">\n",
       "  <thead>\n",
       "    <tr style=\"text-align: right;\">\n",
       "      <th></th>\n",
       "      <th>model</th>\n",
       "      <th>score</th>\n",
       "    </tr>\n",
       "  </thead>\n",
       "  <tbody>\n",
       "    <tr>\n",
       "      <td>8</td>\n",
       "      <td>Hitachi HDS722020ALA330</td>\n",
       "      <td>1.486167</td>\n",
       "    </tr>\n",
       "    <tr>\n",
       "      <td>2</td>\n",
       "      <td>Hitachi HDS5C3030ALA630</td>\n",
       "      <td>1.485903</td>\n",
       "    </tr>\n",
       "    <tr>\n",
       "      <td>0</td>\n",
       "      <td>Hitachi HDS5C4040ALE630</td>\n",
       "      <td>1.482001</td>\n",
       "    </tr>\n",
       "    <tr>\n",
       "      <td>10</td>\n",
       "      <td>Hitachi HDS723030ALA640</td>\n",
       "      <td>1.480402</td>\n",
       "    </tr>\n",
       "    <tr>\n",
       "      <td>9</td>\n",
       "      <td>WDC WD10EADS</td>\n",
       "      <td>1.479094</td>\n",
       "    </tr>\n",
       "    <tr>\n",
       "      <td>16</td>\n",
       "      <td>ST31500541AS</td>\n",
       "      <td>1.471591</td>\n",
       "    </tr>\n",
       "    <tr>\n",
       "      <td>12</td>\n",
       "      <td>TOSHIBA MD04ABA400V</td>\n",
       "      <td>1.465986</td>\n",
       "    </tr>\n",
       "    <tr>\n",
       "      <td>18</td>\n",
       "      <td>WDC WD1600AAJS</td>\n",
       "      <td>1.370000</td>\n",
       "    </tr>\n",
       "    <tr>\n",
       "      <td>6</td>\n",
       "      <td>ST6000DX000</td>\n",
       "      <td>1.292593</td>\n",
       "    </tr>\n",
       "    <tr>\n",
       "      <td>7</td>\n",
       "      <td>HGST HMS5C4040ALE640</td>\n",
       "      <td>1.181937</td>\n",
       "    </tr>\n",
       "  </tbody>\n",
       "</table>\n",
       "</div>"
      ],
      "text/plain": [
       "                      model     score\n",
       "8   Hitachi HDS722020ALA330  1.486167\n",
       "2   Hitachi HDS5C3030ALA630  1.485903\n",
       "0   Hitachi HDS5C4040ALE630  1.482001\n",
       "10  Hitachi HDS723030ALA640  1.480402\n",
       "9              WDC WD10EADS  1.479094\n",
       "16             ST31500541AS  1.471591\n",
       "12      TOSHIBA MD04ABA400V  1.465986\n",
       "18           WDC WD1600AAJS  1.370000\n",
       "6               ST6000DX000  1.292593\n",
       "7      HGST HMS5C4040ALE640  1.181937"
      ]
     },
     "execution_count": 64,
     "metadata": {},
     "output_type": "execute_result"
    }
   ],
   "source": [
    "df_scores.sort_values('score').sort_values('score',ascending=False).head(10)"
   ]
  },
  {
   "cell_type": "code",
   "execution_count": 65,
   "metadata": {},
   "outputs": [
    {
     "data": {
      "text/html": [
       "<div>\n",
       "<style scoped>\n",
       "    .dataframe tbody tr th:only-of-type {\n",
       "        vertical-align: middle;\n",
       "    }\n",
       "\n",
       "    .dataframe tbody tr th {\n",
       "        vertical-align: top;\n",
       "    }\n",
       "\n",
       "    .dataframe thead th {\n",
       "        text-align: right;\n",
       "    }\n",
       "</style>\n",
       "<table border=\"1\" class=\"dataframe\">\n",
       "  <thead>\n",
       "    <tr style=\"text-align: right;\">\n",
       "      <th></th>\n",
       "      <th>model</th>\n",
       "      <th>score</th>\n",
       "    </tr>\n",
       "  </thead>\n",
       "  <tbody>\n",
       "    <tr>\n",
       "      <td>13</td>\n",
       "      <td>TOSHIBA MQ01ABF050</td>\n",
       "      <td>-0.755020</td>\n",
       "    </tr>\n",
       "    <tr>\n",
       "      <td>23</td>\n",
       "      <td>ST320LT007</td>\n",
       "      <td>-0.849315</td>\n",
       "    </tr>\n",
       "    <tr>\n",
       "      <td>20</td>\n",
       "      <td>ST8000NM0055</td>\n",
       "      <td>-2.685520</td>\n",
       "    </tr>\n",
       "    <tr>\n",
       "      <td>22</td>\n",
       "      <td>TOSHIBA MQ01ABF050M</td>\n",
       "      <td>-3.368421</td>\n",
       "    </tr>\n",
       "    <tr>\n",
       "      <td>26</td>\n",
       "      <td>ST10000NM0086</td>\n",
       "      <td>-3.428571</td>\n",
       "    </tr>\n",
       "    <tr>\n",
       "      <td>14</td>\n",
       "      <td>ST12000NM0007</td>\n",
       "      <td>-3.606884</td>\n",
       "    </tr>\n",
       "    <tr>\n",
       "      <td>21</td>\n",
       "      <td>ST4000DM001</td>\n",
       "      <td>-4.000000</td>\n",
       "    </tr>\n",
       "    <tr>\n",
       "      <td>25</td>\n",
       "      <td>TOSHIBA MG07ACA14TA</td>\n",
       "      <td>-4.000000</td>\n",
       "    </tr>\n",
       "    <tr>\n",
       "      <td>15</td>\n",
       "      <td>HGST HUH721212ALN604</td>\n",
       "      <td>-4.000000</td>\n",
       "    </tr>\n",
       "    <tr>\n",
       "      <td>24</td>\n",
       "      <td>ST500LM030</td>\n",
       "      <td>-4.000000</td>\n",
       "    </tr>\n",
       "  </tbody>\n",
       "</table>\n",
       "</div>"
      ],
      "text/plain": [
       "                   model     score\n",
       "13    TOSHIBA MQ01ABF050 -0.755020\n",
       "23            ST320LT007 -0.849315\n",
       "20          ST8000NM0055 -2.685520\n",
       "22   TOSHIBA MQ01ABF050M -3.368421\n",
       "26         ST10000NM0086 -3.428571\n",
       "14         ST12000NM0007 -3.606884\n",
       "21           ST4000DM001 -4.000000\n",
       "25   TOSHIBA MG07ACA14TA -4.000000\n",
       "15  HGST HUH721212ALN604 -4.000000\n",
       "24            ST500LM030 -4.000000"
      ]
     },
     "execution_count": 65,
     "metadata": {},
     "output_type": "execute_result"
    }
   ],
   "source": [
    "df_scores.sort_values('score').sort_values('score',ascending=False).tail(10)"
   ]
  },
  {
   "cell_type": "markdown",
   "metadata": {},
   "source": [
    "> These are the top ten most reliable hard drives and the bottom ten least reliable hard drives."
   ]
  },
  {
   "cell_type": "markdown",
   "metadata": {},
   "source": [
    "## Split"
   ]
  },
  {
   "cell_type": "code",
   "execution_count": 66,
   "metadata": {},
   "outputs": [
    {
     "name": "stdout",
     "output_type": "stream",
     "text": [
      "<class 'pandas.core.frame.DataFrame'>\n",
      "Int64Index: 83940 entries, 0 to 168960\n",
      "Data columns (total 12 columns):\n",
      "serial_number                    83940 non-null object\n",
      "manufacturer                     83940 non-null object\n",
      "model                            83940 non-null object\n",
      "capacity_terabytes               83940 non-null float64\n",
      "failure                          83940 non-null int64\n",
      "drive_age_in_years               83940 non-null float64\n",
      "reallocated_sectors_count        83940 non-null bool\n",
      "reported_uncorrectable_errors    83940 non-null bool\n",
      "command_timeout                  83940 non-null bool\n",
      "current_pending_sector_count     83940 non-null bool\n",
      "uncorrectable_sector_count       83940 non-null bool\n",
      "early_failure                    83940 non-null int64\n",
      "dtypes: bool(5), float64(2), int64(2), object(3)\n",
      "memory usage: 8.0+ MB\n"
     ]
    }
   ],
   "source": [
    "df.info()"
   ]
  },
  {
   "cell_type": "markdown",
   "metadata": {},
   "source": [
    "The `model.split_my_data` function takes the dataframe and first splits by features and target. \n",
    "- For the features dataframe (X), the following columns are removed: 'failure', 'early_faliure', and 'drive_age_in_years'\n",
    "- For the target dataframe (y), only the 'early_failure' column is retained\n",
    "\n",
    "Next, the function splits each dataframe (X and y) into a train and test. \n",
    "- The train size is set as 80% \n",
    "- A random state is set at 123\n",
    "- The early_failure is stratified, to ensure an even split between train and test"
   ]
  },
  {
   "cell_type": "code",
   "execution_count": 67,
   "metadata": {},
   "outputs": [],
   "source": [
    "X_train, X_test, y_train, y_test = model.split_my_data(df)"
   ]
  },
  {
   "cell_type": "code",
   "execution_count": 68,
   "metadata": {},
   "outputs": [
    {
     "data": {
      "text/plain": [
       "((67152, 7), (16788, 7), (67152, 1), (16788, 1))"
      ]
     },
     "execution_count": 68,
     "metadata": {},
     "output_type": "execute_result"
    }
   ],
   "source": [
    "X_train.shape, X_test.shape, y_train.shape, y_test.shape"
   ]
  },
  {
   "cell_type": "code",
   "execution_count": 69,
   "metadata": {},
   "outputs": [
    {
     "data": {
      "text/html": [
       "<div>\n",
       "<style scoped>\n",
       "    .dataframe tbody tr th:only-of-type {\n",
       "        vertical-align: middle;\n",
       "    }\n",
       "\n",
       "    .dataframe tbody tr th {\n",
       "        vertical-align: top;\n",
       "    }\n",
       "\n",
       "    .dataframe thead th {\n",
       "        text-align: right;\n",
       "    }\n",
       "</style>\n",
       "<table border=\"1\" class=\"dataframe\">\n",
       "  <thead>\n",
       "    <tr style=\"text-align: right;\">\n",
       "      <th></th>\n",
       "      <th>manufacturer</th>\n",
       "      <th>capacity_terabytes</th>\n",
       "      <th>reallocated_sectors_count</th>\n",
       "      <th>reported_uncorrectable_errors</th>\n",
       "      <th>command_timeout</th>\n",
       "      <th>current_pending_sector_count</th>\n",
       "      <th>uncorrectable_sector_count</th>\n",
       "    </tr>\n",
       "  </thead>\n",
       "  <tbody>\n",
       "    <tr>\n",
       "      <td>121424</td>\n",
       "      <td>Seagate</td>\n",
       "      <td>12.0</td>\n",
       "      <td>True</td>\n",
       "      <td>False</td>\n",
       "      <td>False</td>\n",
       "      <td>True</td>\n",
       "      <td>True</td>\n",
       "    </tr>\n",
       "    <tr>\n",
       "      <td>51821</td>\n",
       "      <td>Seagate</td>\n",
       "      <td>4.0</td>\n",
       "      <td>False</td>\n",
       "      <td>False</td>\n",
       "      <td>False</td>\n",
       "      <td>False</td>\n",
       "      <td>False</td>\n",
       "    </tr>\n",
       "    <tr>\n",
       "      <td>39076</td>\n",
       "      <td>Hitachi</td>\n",
       "      <td>4.0</td>\n",
       "      <td>False</td>\n",
       "      <td>False</td>\n",
       "      <td>False</td>\n",
       "      <td>False</td>\n",
       "      <td>False</td>\n",
       "    </tr>\n",
       "    <tr>\n",
       "      <td>139516</td>\n",
       "      <td>Hitachi</td>\n",
       "      <td>4.0</td>\n",
       "      <td>False</td>\n",
       "      <td>False</td>\n",
       "      <td>False</td>\n",
       "      <td>False</td>\n",
       "      <td>False</td>\n",
       "    </tr>\n",
       "    <tr>\n",
       "      <td>50771</td>\n",
       "      <td>Hitachi</td>\n",
       "      <td>4.0</td>\n",
       "      <td>False</td>\n",
       "      <td>False</td>\n",
       "      <td>False</td>\n",
       "      <td>False</td>\n",
       "      <td>False</td>\n",
       "    </tr>\n",
       "  </tbody>\n",
       "</table>\n",
       "</div>"
      ],
      "text/plain": [
       "       manufacturer  capacity_terabytes  reallocated_sectors_count  \\\n",
       "121424      Seagate                12.0                       True   \n",
       "51821       Seagate                 4.0                      False   \n",
       "39076       Hitachi                 4.0                      False   \n",
       "139516      Hitachi                 4.0                      False   \n",
       "50771       Hitachi                 4.0                      False   \n",
       "\n",
       "        reported_uncorrectable_errors  command_timeout  \\\n",
       "121424                          False            False   \n",
       "51821                           False            False   \n",
       "39076                           False            False   \n",
       "139516                          False            False   \n",
       "50771                           False            False   \n",
       "\n",
       "        current_pending_sector_count  uncorrectable_sector_count  \n",
       "121424                          True                        True  \n",
       "51821                          False                       False  \n",
       "39076                          False                       False  \n",
       "139516                         False                       False  \n",
       "50771                          False                       False  "
      ]
     },
     "execution_count": 69,
     "metadata": {},
     "output_type": "execute_result"
    }
   ],
   "source": [
    "X_train.head()"
   ]
  },
  {
   "cell_type": "markdown",
   "metadata": {},
   "source": [
    "The manufacturer column needs to be one hot encoded to be accepted by the classification models. The `model.encode_hot` function is used to one hot encode the manufacturer column and remove the original column."
   ]
  },
  {
   "cell_type": "code",
   "execution_count": 70,
   "metadata": {},
   "outputs": [],
   "source": [
    "# One hot encode manufacturer column\n",
    "X_train, X_test = model.encode_hot(X_train, X_test, 'manufacturer')"
   ]
  },
  {
   "cell_type": "code",
   "execution_count": 71,
   "metadata": {
    "scrolled": true
   },
   "outputs": [
    {
     "data": {
      "text/html": [
       "<div>\n",
       "<style scoped>\n",
       "    .dataframe tbody tr th:only-of-type {\n",
       "        vertical-align: middle;\n",
       "    }\n",
       "\n",
       "    .dataframe tbody tr th {\n",
       "        vertical-align: top;\n",
       "    }\n",
       "\n",
       "    .dataframe thead th {\n",
       "        text-align: right;\n",
       "    }\n",
       "</style>\n",
       "<table border=\"1\" class=\"dataframe\">\n",
       "  <thead>\n",
       "    <tr style=\"text-align: right;\">\n",
       "      <th></th>\n",
       "      <th>capacity_terabytes</th>\n",
       "      <th>reallocated_sectors_count</th>\n",
       "      <th>reported_uncorrectable_errors</th>\n",
       "      <th>command_timeout</th>\n",
       "      <th>current_pending_sector_count</th>\n",
       "      <th>uncorrectable_sector_count</th>\n",
       "      <th>Hitachi</th>\n",
       "      <th>Seagate</th>\n",
       "      <th>Toshiba</th>\n",
       "      <th>Western Digital</th>\n",
       "    </tr>\n",
       "  </thead>\n",
       "  <tbody>\n",
       "    <tr>\n",
       "      <td>121424</td>\n",
       "      <td>12.0</td>\n",
       "      <td>True</td>\n",
       "      <td>False</td>\n",
       "      <td>False</td>\n",
       "      <td>True</td>\n",
       "      <td>True</td>\n",
       "      <td>0.0</td>\n",
       "      <td>1.0</td>\n",
       "      <td>0.0</td>\n",
       "      <td>0.0</td>\n",
       "    </tr>\n",
       "    <tr>\n",
       "      <td>51821</td>\n",
       "      <td>4.0</td>\n",
       "      <td>False</td>\n",
       "      <td>False</td>\n",
       "      <td>False</td>\n",
       "      <td>False</td>\n",
       "      <td>False</td>\n",
       "      <td>0.0</td>\n",
       "      <td>1.0</td>\n",
       "      <td>0.0</td>\n",
       "      <td>0.0</td>\n",
       "    </tr>\n",
       "    <tr>\n",
       "      <td>39076</td>\n",
       "      <td>4.0</td>\n",
       "      <td>False</td>\n",
       "      <td>False</td>\n",
       "      <td>False</td>\n",
       "      <td>False</td>\n",
       "      <td>False</td>\n",
       "      <td>1.0</td>\n",
       "      <td>0.0</td>\n",
       "      <td>0.0</td>\n",
       "      <td>0.0</td>\n",
       "    </tr>\n",
       "    <tr>\n",
       "      <td>139516</td>\n",
       "      <td>4.0</td>\n",
       "      <td>False</td>\n",
       "      <td>False</td>\n",
       "      <td>False</td>\n",
       "      <td>False</td>\n",
       "      <td>False</td>\n",
       "      <td>1.0</td>\n",
       "      <td>0.0</td>\n",
       "      <td>0.0</td>\n",
       "      <td>0.0</td>\n",
       "    </tr>\n",
       "    <tr>\n",
       "      <td>50771</td>\n",
       "      <td>4.0</td>\n",
       "      <td>False</td>\n",
       "      <td>False</td>\n",
       "      <td>False</td>\n",
       "      <td>False</td>\n",
       "      <td>False</td>\n",
       "      <td>1.0</td>\n",
       "      <td>0.0</td>\n",
       "      <td>0.0</td>\n",
       "      <td>0.0</td>\n",
       "    </tr>\n",
       "  </tbody>\n",
       "</table>\n",
       "</div>"
      ],
      "text/plain": [
       "        capacity_terabytes  reallocated_sectors_count  \\\n",
       "121424                12.0                       True   \n",
       "51821                  4.0                      False   \n",
       "39076                  4.0                      False   \n",
       "139516                 4.0                      False   \n",
       "50771                  4.0                      False   \n",
       "\n",
       "        reported_uncorrectable_errors  command_timeout  \\\n",
       "121424                          False            False   \n",
       "51821                           False            False   \n",
       "39076                           False            False   \n",
       "139516                          False            False   \n",
       "50771                           False            False   \n",
       "\n",
       "        current_pending_sector_count  uncorrectable_sector_count  Hitachi  \\\n",
       "121424                          True                        True      0.0   \n",
       "51821                          False                       False      0.0   \n",
       "39076                          False                       False      1.0   \n",
       "139516                         False                       False      1.0   \n",
       "50771                          False                       False      1.0   \n",
       "\n",
       "        Seagate  Toshiba  Western Digital  \n",
       "121424      1.0      0.0              0.0  \n",
       "51821       1.0      0.0              0.0  \n",
       "39076       0.0      0.0              0.0  \n",
       "139516      0.0      0.0              0.0  \n",
       "50771       0.0      0.0              0.0  "
      ]
     },
     "execution_count": 71,
     "metadata": {},
     "output_type": "execute_result"
    }
   ],
   "source": [
    "X_train.head()"
   ]
  },
  {
   "cell_type": "markdown",
   "metadata": {},
   "source": [
    "## Model - Train"
   ]
  },
  {
   "cell_type": "markdown",
   "metadata": {},
   "source": [
    "The training dataset is prepared for the model selection phase in order to best predict the dependent early failure variable. There are ten attributes in the train dataset for modeling and they include the capacity terabytes, the 5 SMART stats, and the binary encoded 4 manufacters. \n",
    "\n",
    "This is a binary classification problem, therefore, Support Vector Machine, K-Nearest Neighbor, Logistic Regression, and Decision Tree algorithms will be used to solve this problem.\n",
    "\n",
    "The 4 modeling functions: `model.knn_model`, `model.logit_model`, `model.dt_model`, `model.svc_model` perform the following 2 steps for training the algorithm and making predictions.\n",
    "\n",
    "1. Training the algorithm - the fit method of the classifier is called to train the algorithm on the training data, which is passed as a parameter to the fit method.\n",
    "\n",
    "\n",
    "2. Making predictions - to make predictions, the predict method of the classifier is used.\n",
    "\n",
    "The `model.evaluate` function will return evaluation metrics.\n",
    "\n",
    "- Evaluating the algorithm - Scikit-Learn's metrics library contains the classification_report and confusion_matrix methods, which can be readily used to find out the values for these important metrics.\n",
    "- Due to the high cost of an early hard drive failure, the number of false negatives needs to be minimized, aka if a hard drive fails early, that needs to be properly predicted. However, a reasonable accuracy rate must be maintained, as well. "
   ]
  },
  {
   "cell_type": "markdown",
   "metadata": {},
   "source": [
    "### K-Nearest Neighbor"
   ]
  },
  {
   "cell_type": "markdown",
   "metadata": {},
   "source": [
    "- The K-Nearest Neighbor classifier with the hyperparameters: n_neighbors = 3, weights = 'distance'"
   ]
  },
  {
   "cell_type": "code",
   "execution_count": 72,
   "metadata": {},
   "outputs": [],
   "source": [
    "y_pred_knn, y_pred_test_knn = model.knn_model(X_train, y_train, X_test)"
   ]
  },
  {
   "cell_type": "code",
   "execution_count": 73,
   "metadata": {},
   "outputs": [
    {
     "name": "stdout",
     "output_type": "stream",
     "text": [
      "[[63526   437]\n",
      " [ 1715  1474]]\n",
      "\n",
      "              precision    recall  f1-score   support\n",
      "\n",
      "           0       0.97      0.99      0.98     63963\n",
      "           1       0.77      0.46      0.58      3189\n",
      "\n",
      "    accuracy                           0.97     67152\n",
      "   macro avg       0.87      0.73      0.78     67152\n",
      "weighted avg       0.96      0.97      0.96     67152\n",
      "\n"
     ]
    }
   ],
   "source": [
    "model.evaluate(y_train, y_pred_knn)"
   ]
  },
  {
   "cell_type": "markdown",
   "metadata": {},
   "source": [
    "> While KNN has a high accuracy score of 0.97, the recall rate for early failures is very low at 0.46. This is not ideal."
   ]
  },
  {
   "cell_type": "markdown",
   "metadata": {},
   "source": [
    "### Logistic Regression"
   ]
  },
  {
   "cell_type": "markdown",
   "metadata": {},
   "source": [
    "- The Logistic Regression classifier with the hyperparamaters: solver = 'liblinear', class_weight = 'balanced', random_state = 123"
   ]
  },
  {
   "cell_type": "code",
   "execution_count": 74,
   "metadata": {},
   "outputs": [],
   "source": [
    "y_pred_logit, y_pred_test_logit = model.logit_model(X_train, y_train, X_test)"
   ]
  },
  {
   "cell_type": "code",
   "execution_count": 75,
   "metadata": {},
   "outputs": [
    {
     "name": "stdout",
     "output_type": "stream",
     "text": [
      "[[53370 10593]\n",
      " [  647  2542]]\n",
      "\n",
      "              precision    recall  f1-score   support\n",
      "\n",
      "           0       0.99      0.83      0.90     63963\n",
      "           1       0.19      0.80      0.31      3189\n",
      "\n",
      "    accuracy                           0.83     67152\n",
      "   macro avg       0.59      0.82      0.61     67152\n",
      "weighted avg       0.95      0.83      0.88     67152\n",
      "\n"
     ]
    }
   ],
   "source": [
    "model.evaluate(y_train, y_pred_logit)"
   ]
  },
  {
   "cell_type": "markdown",
   "metadata": {},
   "source": [
    "> The recall rate increases drastically to 0.80. However, it is seen that the accuracy falls to 0.83 and the number of false positives in the confusion matrix is over 10,000. This is still not ideal."
   ]
  },
  {
   "cell_type": "markdown",
   "metadata": {},
   "source": [
    "### Decision Tree"
   ]
  },
  {
   "cell_type": "markdown",
   "metadata": {},
   "source": [
    "- The Decision Tree classifier with the hyperparameters: criterion = 'entropy', class_weight = 'balanced', max_depth = 6, random_state = 123"
   ]
  },
  {
   "cell_type": "code",
   "execution_count": 76,
   "metadata": {},
   "outputs": [],
   "source": [
    "y_pred_dt, y_pred_test_dt = model.dt_model(X_train,y_train, X_test)"
   ]
  },
  {
   "cell_type": "code",
   "execution_count": 77,
   "metadata": {},
   "outputs": [
    {
     "name": "stdout",
     "output_type": "stream",
     "text": [
      "[[60327  3636]\n",
      " [  791  2398]]\n",
      "\n",
      "              precision    recall  f1-score   support\n",
      "\n",
      "           0       0.99      0.94      0.96     63963\n",
      "           1       0.40      0.75      0.52      3189\n",
      "\n",
      "    accuracy                           0.93     67152\n",
      "   macro avg       0.69      0.85      0.74     67152\n",
      "weighted avg       0.96      0.93      0.94     67152\n",
      "\n"
     ]
    }
   ],
   "source": [
    "model.evaluate(y_train, y_pred_dt)"
   ]
  },
  {
   "cell_type": "markdown",
   "metadata": {},
   "source": [
    "> This has a much better balance of recall and accuracy. The recall rate is 0.75 and the accurary is 0.93. This is an ideal model. "
   ]
  },
  {
   "cell_type": "markdown",
   "metadata": {},
   "source": [
    "### Support Vector Machine"
   ]
  },
  {
   "cell_type": "markdown",
   "metadata": {},
   "source": [
    "- The Support Vector Machine classifier with the hyperparameters: kernal = 'rbf', class_weight = 'balanced', random_state = 123"
   ]
  },
  {
   "cell_type": "code",
   "execution_count": 78,
   "metadata": {},
   "outputs": [],
   "source": [
    "y_pred_svc, y_pred_test_svc = model.svc_model(X_train, y_train, X_test)"
   ]
  },
  {
   "cell_type": "code",
   "execution_count": 79,
   "metadata": {},
   "outputs": [
    {
     "name": "stdout",
     "output_type": "stream",
     "text": [
      "[[60289  3674]\n",
      " [  765  2424]]\n",
      "\n",
      "              precision    recall  f1-score   support\n",
      "\n",
      "           0       0.99      0.94      0.96     63963\n",
      "           1       0.40      0.76      0.52      3189\n",
      "\n",
      "    accuracy                           0.93     67152\n",
      "   macro avg       0.69      0.85      0.74     67152\n",
      "weighted avg       0.96      0.93      0.94     67152\n",
      "\n"
     ]
    }
   ],
   "source": [
    "model.evaluate(y_train, y_pred_svc)"
   ]
  },
  {
   "cell_type": "markdown",
   "metadata": {},
   "source": [
    "> This performs almost identical to the decision tree, with an identical accuracy rate of 0.93 and a slightly higher recall rate of 0.76. This is the most ideal model."
   ]
  },
  {
   "cell_type": "markdown",
   "metadata": {},
   "source": [
    "> The Support Vector Machine model had the best combination of Accuracy, Recall, and Macro Average metrics. This is selected as our final model. "
   ]
  },
  {
   "cell_type": "markdown",
   "metadata": {},
   "source": [
    "## Model - Test"
   ]
  },
  {
   "cell_type": "markdown",
   "metadata": {},
   "source": [
    "In order to determine if the final model did not overfit the data, the test data will be used to predict early failure. "
   ]
  },
  {
   "cell_type": "markdown",
   "metadata": {},
   "source": [
    "### Support Vector Machine"
   ]
  },
  {
   "cell_type": "code",
   "execution_count": 80,
   "metadata": {},
   "outputs": [
    {
     "name": "stdout",
     "output_type": "stream",
     "text": [
      "[[15077   914]\n",
      " [  191   606]]\n",
      "\n",
      "              precision    recall  f1-score   support\n",
      "\n",
      "           0       0.99      0.94      0.96     15991\n",
      "           1       0.40      0.76      0.52       797\n",
      "\n",
      "    accuracy                           0.93     16788\n",
      "   macro avg       0.69      0.85      0.74     16788\n",
      "weighted avg       0.96      0.93      0.94     16788\n",
      "\n"
     ]
    }
   ],
   "source": [
    "model.evaluate(y_test, y_pred_test_svc)"
   ]
  },
  {
   "cell_type": "markdown",
   "metadata": {},
   "source": [
    "> This classifier maintained it's accuracy of 0.93 and recall rate for early failures of 0.76. This concludes that our model did not overfit the data. "
   ]
  },
  {
   "cell_type": "markdown",
   "metadata": {},
   "source": [
    "## Analysis"
   ]
  },
  {
   "cell_type": "markdown",
   "metadata": {},
   "source": [
    "### Does reliability vary between models?"
   ]
  },
  {
   "cell_type": "markdown",
   "metadata": {},
   "source": [
    "Reliability does vary between model types. We assigned each drive a reliability score based on its age and whether or not it completed its full life span within the time the data was collected.\n",
    " \n",
    "The top performing models with a score ranging from X-Y are:\n",
    " \n"
   ]
  },
  {
   "cell_type": "markdown",
   "metadata": {},
   "source": [
    "### Does reliability vary based on data capacity?"
   ]
  },
  {
   "cell_type": "markdown",
   "metadata": {},
   "source": [
    "A Hard drives’ data capacity can have a profound effect on the reliability of that model. Models that have less than 10 terabytes of capacity do not show a strong relationship between capacity and life span. However, all of the Hard drives in the data set that have a 10 terabyte capacity or greater were early failures. It is tempting to conclude from this that the reliability of a hard drive declines sharply if it has a 10 terabyte capacity or greater. However, we must keep in mind that because hard drives with larger capacities are generally new, these results may be due to those drives not yet being old enough to show in our data. Also worth noting, is there were only a hand full of drives that had 10 or 14 terabyte capacities most of the drives in the 10-14 terabyte range were 12 terabyte drives."
   ]
  },
  {
   "cell_type": "markdown",
   "metadata": {},
   "source": [
    "### Does reliability vary by manufacturer?"
   ]
  },
  {
   "cell_type": "markdown",
   "metadata": {},
   "source": [
    "Manufacturers vary in terms of the reliability of the hard drives they produce. We looked at the median value of each model produced by a given manufacturer and assigned each a value based on which quartile the model fell into when looking at the ages of all of the hard drives in the data set. Based on that information here are how the manufacturer rank in terms of hard drive reliability.\n",
    " \n",
    "1) Western Digital\n",
    " \n",
    "Western Digital has the highest volume of models that fell into the 3rd and 4th quartile and very few that fell into 1st or 2nd, which was our cutoff for early failures. This demonstrates consistent quality over a large volume of models and is why we ranked Western Digital as number 1 in terms of reliability. They provide a large variety of hard drive models, which consistently last above the average lifespan.\n",
    " \n",
    "2) Hitachi\n",
    " \n",
    "The reliability of Hitachi’s models is very similar to Wester Digital. However, the volume of unique hard drive models that Hitachi has produced does not match that of Western Digital. In that way they do not show the same amount of consistency Western Digital has, which places them second. (don’t penalized Hitachi because backblaze does not use a variety of their models)\n",
    " \n",
    "3) Seagate\n",
    " \n",
    "A great majority of Seagate models fall either in the 1st or 4th quartile. This means that depending on the model you choose you could end up with a very good model, or a very bad one. This places Sea Gate third on our list.\n",
    " \n",
    "4) Toshiba\n",
    " \n",
    "like Seagate Toshiba units are hit or miss, and they have a significantly lower volume of units than the other three manufacturers. This places Toshiba in 4th place."
   ]
  },
  {
   "cell_type": "markdown",
   "metadata": {},
   "source": [
    "### Limitations of the Data"
   ]
  },
  {
   "cell_type": "markdown",
   "metadata": {},
   "source": [
    "The age of hard drives in this study were taken at the end of the third quarter of 2019, so some of the drives in this study could have an older age than we could capture in the study.\n",
    " \n",
    "If a hard drive’s age was below our cut off and it had not failed as of that time, the drive was dropped from the study. We did so to avoid labeling a drive as unreliable if it had not completed its entire lifespan.\n",
    " \n",
    "The data presented is only on hard drives that were used by Backblaze, and may be misleading if generalized outside of that context. \n"
   ]
  },
  {
   "cell_type": "code",
   "execution_count": null,
   "metadata": {},
   "outputs": [],
   "source": []
  }
 ],
 "metadata": {
  "kernelspec": {
   "display_name": "Python 3",
   "language": "python",
   "name": "python3"
  },
  "language_info": {
   "codemirror_mode": {
    "name": "ipython",
    "version": 3
   },
   "file_extension": ".py",
   "mimetype": "text/x-python",
   "name": "python",
   "nbconvert_exporter": "python",
   "pygments_lexer": "ipython3",
   "version": "3.7.4"
  },
  "toc": {
   "base_numbering": 1,
   "nav_menu": {},
   "number_sections": false,
   "sideBar": true,
   "skip_h1_title": true,
   "title_cell": "Table of Contents",
   "title_sidebar": "Contents",
   "toc_cell": false,
   "toc_position": {
    "height": "calc(100% - 180px)",
    "left": "10px",
    "top": "150px",
    "width": "256px"
   },
   "toc_section_display": true,
   "toc_window_display": true
  }
 },
 "nbformat": 4,
 "nbformat_minor": 2
}
