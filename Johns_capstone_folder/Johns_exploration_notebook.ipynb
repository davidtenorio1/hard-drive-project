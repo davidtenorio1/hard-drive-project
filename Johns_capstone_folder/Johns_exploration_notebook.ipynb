{
 "cells": [
  {
   "cell_type": "code",
   "execution_count": 1,
   "metadata": {},
   "outputs": [],
   "source": [
    "import pandas as pd\n",
    "import numpy as np\n",
    "import re \n",
    "\n",
    "df=pd.read_csv('all_data.csv')"
   ]
  },
  {
   "cell_type": "code",
   "execution_count": 2,
   "metadata": {},
   "outputs": [],
   "source": [
    "def prepare(df):\n",
    "    \n",
    "    # Convert capacity column from bytes to gigabytes\n",
    "    df['capacity_bytes'] = round((df['capacity_bytes']/ 1_000_000_000),1)\n",
    "\n",
    "    # Convert power hours to years\n",
    "    df['max(smart_9_raw)'] = round((df['max(smart_9_raw)']/ 8760),1)\n",
    "\n",
    "    # Drop unnamed column\n",
    "    df.drop(columns=('Unnamed: 0'), inplace = True)\n",
    "    \n",
    "    # Rename columns appropriately\n",
    "    df.rename(columns={'capacity_bytes':'capacity_gigabytes','max(failure)':'failure','max(smart_9_raw)':'drive_age_in_years','max(smart_5_raw)':'reallocated_sectors_count','max(smart_187_raw)':'reported_uncorrectable_errors','max(smart_188_raw)':'command_timeout','max(smart_197_raw)':'current_pending_sector_count','max(smart_198_raw)':'uncorrectable_sector_count'}, inplace = True)\n",
    "    \n",
    "    return df\n",
    "\n",
    "df = prepare(df)"
   ]
  },
  {
   "cell_type": "code",
   "execution_count": 3,
   "metadata": {},
   "outputs": [
    {
     "data": {
      "text/plain": [
       "PL2331LAHB93UJ    3\n",
       "ZA18CDJJ          2\n",
       "PL2331LAHDUMJJ    2\n",
       "ZJV00HK1          2\n",
       "ZA16HN85          2\n",
       "                 ..\n",
       "ZCH07RST          1\n",
       "Z304HL5X          1\n",
       "ZJV0NW0B          1\n",
       "AAG6MB7H          1\n",
       "ZCH07WQ3          1\n",
       "Name: serial_number, Length: 162030, dtype: int64"
      ]
     },
     "execution_count": 3,
     "metadata": {},
     "output_type": "execute_result"
    }
   ],
   "source": [
    "df.serial_number.value_counts()"
   ]
  },
  {
   "cell_type": "code",
   "execution_count": 4,
   "metadata": {},
   "outputs": [
    {
     "data": {
      "text/plain": [
       " 4000.8     64886\n",
       " 12000.1    50729\n",
       " 8001.6     26108\n",
       "-0.0         7031\n",
       " 3000.6      6789\n",
       " 2000.4      4678\n",
       " 500.1       2547\n",
       " 6001.2      2411\n",
       " 14000.5     1302\n",
       " 10000.8     1255\n",
       " 1000.2       388\n",
       " 1500.3       267\n",
       " 250.1        211\n",
       " 160.0        209\n",
       " 320.1        116\n",
       " 480.0         60\n",
       " 5001.0        46\n",
       " 80.0          32\n",
       " 137.4          7\n",
       " 250.0          1\n",
       "Name: capacity_gigabytes, dtype: int64"
      ]
     },
     "execution_count": 4,
     "metadata": {},
     "output_type": "execute_result"
    }
   ],
   "source": [
    "df.capacity_gigabytes.value_counts(ascending=False)"
   ]
  },
  {
   "cell_type": "code",
   "execution_count": 5,
   "metadata": {},
   "outputs": [],
   "source": [
    "df = df[df.capacity_gigabytes > 0]"
   ]
  },
  {
   "cell_type": "code",
   "execution_count": 6,
   "metadata": {},
   "outputs": [
    {
     "data": {
      "text/plain": [
       "4000.8     64886\n",
       "12000.1    50729\n",
       "8001.6     26108\n",
       "3000.6      6789\n",
       "2000.4      4678\n",
       "500.1       2547\n",
       "6001.2      2411\n",
       "14000.5     1302\n",
       "10000.8     1255\n",
       "1000.2       388\n",
       "1500.3       267\n",
       "250.1        211\n",
       "160.0        209\n",
       "320.1        116\n",
       "480.0         60\n",
       "5001.0        46\n",
       "80.0          32\n",
       "137.4          7\n",
       "250.0          1\n",
       "Name: capacity_gigabytes, dtype: int64"
      ]
     },
     "execution_count": 6,
     "metadata": {},
     "output_type": "execute_result"
    }
   ],
   "source": [
    "df.capacity_gigabytes.value_counts()"
   ]
  },
  {
   "cell_type": "code",
   "execution_count": 7,
   "metadata": {
    "scrolled": true
   },
   "outputs": [
    {
     "data": {
      "text/plain": [
       "Z3025LKQ          2\n",
       "ZA13QBK3          2\n",
       "PL1331LAGSR5WH    2\n",
       "Z3016L2T          2\n",
       "Z304JM43          2\n",
       "Z300GZEK          2\n",
       "Z300KYSQ          2\n",
       "PL2331LAHB93UJ    2\n",
       "PL1331LAGRHDZH    2\n",
       "PL2331LAGSTGLJ    2\n",
       "Z305GFM1          2\n",
       "Z3015CGY          2\n",
       "ZCH028KX          1\n",
       "Name: serial_number, dtype: int64"
      ]
     },
     "execution_count": 7,
     "metadata": {},
     "output_type": "execute_result"
    }
   ],
   "source": [
    "df.serial_number.value_counts().head(13)"
   ]
  },
  {
   "cell_type": "code",
   "execution_count": 8,
   "metadata": {},
   "outputs": [
    {
     "data": {
      "text/html": [
       "<div>\n",
       "<style scoped>\n",
       "    .dataframe tbody tr th:only-of-type {\n",
       "        vertical-align: middle;\n",
       "    }\n",
       "\n",
       "    .dataframe tbody tr th {\n",
       "        vertical-align: top;\n",
       "    }\n",
       "\n",
       "    .dataframe thead th {\n",
       "        text-align: right;\n",
       "    }\n",
       "</style>\n",
       "<table border=\"1\" class=\"dataframe\">\n",
       "  <thead>\n",
       "    <tr style=\"text-align: right;\">\n",
       "      <th></th>\n",
       "      <th>serial_number</th>\n",
       "      <th>model</th>\n",
       "      <th>capacity_gigabytes</th>\n",
       "      <th>failure</th>\n",
       "      <th>drive_age_in_years</th>\n",
       "      <th>reallocated_sectors_count</th>\n",
       "      <th>reported_uncorrectable_errors</th>\n",
       "      <th>command_timeout</th>\n",
       "      <th>current_pending_sector_count</th>\n",
       "      <th>uncorrectable_sector_count</th>\n",
       "    </tr>\n",
       "  </thead>\n",
       "  <tbody>\n",
       "    <tr>\n",
       "      <td>68273</td>\n",
       "      <td>Z300GZEK</td>\n",
       "      <td>ST4000DM000</td>\n",
       "      <td>137.4</td>\n",
       "      <td>1</td>\n",
       "      <td>NaN</td>\n",
       "      <td>NaN</td>\n",
       "      <td>NaN</td>\n",
       "      <td>NaN</td>\n",
       "      <td>NaN</td>\n",
       "      <td>NaN</td>\n",
       "    </tr>\n",
       "    <tr>\n",
       "      <td>73598</td>\n",
       "      <td>Z300GZEK</td>\n",
       "      <td>ST4000DM000</td>\n",
       "      <td>4000.8</td>\n",
       "      <td>0</td>\n",
       "      <td>4.0</td>\n",
       "      <td>0.0</td>\n",
       "      <td>0.0</td>\n",
       "      <td>0.0</td>\n",
       "      <td>0.0</td>\n",
       "      <td>0.0</td>\n",
       "    </tr>\n",
       "  </tbody>\n",
       "</table>\n",
       "</div>"
      ],
      "text/plain": [
       "      serial_number        model  capacity_gigabytes  failure  \\\n",
       "68273      Z300GZEK  ST4000DM000               137.4        1   \n",
       "73598      Z300GZEK  ST4000DM000              4000.8        0   \n",
       "\n",
       "       drive_age_in_years  reallocated_sectors_count  \\\n",
       "68273                 NaN                        NaN   \n",
       "73598                 4.0                        0.0   \n",
       "\n",
       "       reported_uncorrectable_errors  command_timeout  \\\n",
       "68273                            NaN              NaN   \n",
       "73598                            0.0              0.0   \n",
       "\n",
       "       current_pending_sector_count  uncorrectable_sector_count  \n",
       "68273                           NaN                         NaN  \n",
       "73598                           0.0                         0.0  "
      ]
     },
     "execution_count": 8,
     "metadata": {},
     "output_type": "execute_result"
    }
   ],
   "source": [
    "df[df.serial_number=='Z300GZEK']"
   ]
  },
  {
   "cell_type": "markdown",
   "metadata": {},
   "source": [
    "drop 68273 for nans"
   ]
  },
  {
   "cell_type": "code",
   "execution_count": 9,
   "metadata": {},
   "outputs": [
    {
     "data": {
      "text/html": [
       "<div>\n",
       "<style scoped>\n",
       "    .dataframe tbody tr th:only-of-type {\n",
       "        vertical-align: middle;\n",
       "    }\n",
       "\n",
       "    .dataframe tbody tr th {\n",
       "        vertical-align: top;\n",
       "    }\n",
       "\n",
       "    .dataframe thead th {\n",
       "        text-align: right;\n",
       "    }\n",
       "</style>\n",
       "<table border=\"1\" class=\"dataframe\">\n",
       "  <thead>\n",
       "    <tr style=\"text-align: right;\">\n",
       "      <th></th>\n",
       "      <th>serial_number</th>\n",
       "      <th>model</th>\n",
       "      <th>capacity_gigabytes</th>\n",
       "      <th>failure</th>\n",
       "      <th>drive_age_in_years</th>\n",
       "      <th>reallocated_sectors_count</th>\n",
       "      <th>reported_uncorrectable_errors</th>\n",
       "      <th>command_timeout</th>\n",
       "      <th>current_pending_sector_count</th>\n",
       "      <th>uncorrectable_sector_count</th>\n",
       "    </tr>\n",
       "  </thead>\n",
       "  <tbody>\n",
       "    <tr>\n",
       "      <td>26969</td>\n",
       "      <td>Z3025LKQ</td>\n",
       "      <td>ST4000DM000</td>\n",
       "      <td>4000.8</td>\n",
       "      <td>0</td>\n",
       "      <td>2.5</td>\n",
       "      <td>0.0</td>\n",
       "      <td>0.0</td>\n",
       "      <td>4.0</td>\n",
       "      <td>0.0</td>\n",
       "      <td>0.0</td>\n",
       "    </tr>\n",
       "    <tr>\n",
       "      <td>50408</td>\n",
       "      <td>Z3025LKQ</td>\n",
       "      <td>ST4000DM000</td>\n",
       "      <td>137.4</td>\n",
       "      <td>1</td>\n",
       "      <td>NaN</td>\n",
       "      <td>NaN</td>\n",
       "      <td>NaN</td>\n",
       "      <td>NaN</td>\n",
       "      <td>NaN</td>\n",
       "      <td>NaN</td>\n",
       "    </tr>\n",
       "  </tbody>\n",
       "</table>\n",
       "</div>"
      ],
      "text/plain": [
       "      serial_number        model  capacity_gigabytes  failure  \\\n",
       "26969      Z3025LKQ  ST4000DM000              4000.8        0   \n",
       "50408      Z3025LKQ  ST4000DM000               137.4        1   \n",
       "\n",
       "       drive_age_in_years  reallocated_sectors_count  \\\n",
       "26969                 2.5                        0.0   \n",
       "50408                 NaN                        NaN   \n",
       "\n",
       "       reported_uncorrectable_errors  command_timeout  \\\n",
       "26969                            0.0              4.0   \n",
       "50408                            NaN              NaN   \n",
       "\n",
       "       current_pending_sector_count  uncorrectable_sector_count  \n",
       "26969                           0.0                         0.0  \n",
       "50408                           NaN                         NaN  "
      ]
     },
     "execution_count": 9,
     "metadata": {},
     "output_type": "execute_result"
    }
   ],
   "source": [
    "df[df.serial_number=='Z3025LKQ']"
   ]
  },
  {
   "cell_type": "markdown",
   "metadata": {},
   "source": [
    "drop 50408 for nans"
   ]
  },
  {
   "cell_type": "code",
   "execution_count": 10,
   "metadata": {
    "scrolled": true
   },
   "outputs": [
    {
     "data": {
      "text/html": [
       "<div>\n",
       "<style scoped>\n",
       "    .dataframe tbody tr th:only-of-type {\n",
       "        vertical-align: middle;\n",
       "    }\n",
       "\n",
       "    .dataframe tbody tr th {\n",
       "        vertical-align: top;\n",
       "    }\n",
       "\n",
       "    .dataframe thead th {\n",
       "        text-align: right;\n",
       "    }\n",
       "</style>\n",
       "<table border=\"1\" class=\"dataframe\">\n",
       "  <thead>\n",
       "    <tr style=\"text-align: right;\">\n",
       "      <th></th>\n",
       "      <th>serial_number</th>\n",
       "      <th>model</th>\n",
       "      <th>capacity_gigabytes</th>\n",
       "      <th>failure</th>\n",
       "      <th>drive_age_in_years</th>\n",
       "      <th>reallocated_sectors_count</th>\n",
       "      <th>reported_uncorrectable_errors</th>\n",
       "      <th>command_timeout</th>\n",
       "      <th>current_pending_sector_count</th>\n",
       "      <th>uncorrectable_sector_count</th>\n",
       "    </tr>\n",
       "  </thead>\n",
       "  <tbody>\n",
       "    <tr>\n",
       "      <td>37150</td>\n",
       "      <td>PL2331LAHB93UJ</td>\n",
       "      <td>HGST HMS5C4040BLE640</td>\n",
       "      <td>4000.8</td>\n",
       "      <td>0</td>\n",
       "      <td>0.9</td>\n",
       "      <td>0.0</td>\n",
       "      <td>NaN</td>\n",
       "      <td>NaN</td>\n",
       "      <td>8.0</td>\n",
       "      <td>0.0</td>\n",
       "    </tr>\n",
       "    <tr>\n",
       "      <td>154660</td>\n",
       "      <td>PL2331LAHB93UJ</td>\n",
       "      <td>HGST HMS5C4040ALE640</td>\n",
       "      <td>4000.8</td>\n",
       "      <td>0</td>\n",
       "      <td>0.6</td>\n",
       "      <td>0.0</td>\n",
       "      <td>NaN</td>\n",
       "      <td>NaN</td>\n",
       "      <td>0.0</td>\n",
       "      <td>0.0</td>\n",
       "    </tr>\n",
       "  </tbody>\n",
       "</table>\n",
       "</div>"
      ],
      "text/plain": [
       "         serial_number                 model  capacity_gigabytes  failure  \\\n",
       "37150   PL2331LAHB93UJ  HGST HMS5C4040BLE640              4000.8        0   \n",
       "154660  PL2331LAHB93UJ  HGST HMS5C4040ALE640              4000.8        0   \n",
       "\n",
       "        drive_age_in_years  reallocated_sectors_count  \\\n",
       "37150                  0.9                        0.0   \n",
       "154660                 0.6                        0.0   \n",
       "\n",
       "        reported_uncorrectable_errors  command_timeout  \\\n",
       "37150                             NaN              NaN   \n",
       "154660                            NaN              NaN   \n",
       "\n",
       "        current_pending_sector_count  uncorrectable_sector_count  \n",
       "37150                            8.0                         0.0  \n",
       "154660                           0.0                         0.0  "
      ]
     },
     "execution_count": 10,
     "metadata": {},
     "output_type": "execute_result"
    }
   ],
   "source": [
    "df[df.serial_number=='PL2331LAHB93UJ']"
   ]
  },
  {
   "cell_type": "markdown",
   "metadata": {},
   "source": [
    "Drop both don't know which is the typo"
   ]
  },
  {
   "cell_type": "code",
   "execution_count": 11,
   "metadata": {},
   "outputs": [
    {
     "data": {
      "text/html": [
       "<div>\n",
       "<style scoped>\n",
       "    .dataframe tbody tr th:only-of-type {\n",
       "        vertical-align: middle;\n",
       "    }\n",
       "\n",
       "    .dataframe tbody tr th {\n",
       "        vertical-align: top;\n",
       "    }\n",
       "\n",
       "    .dataframe thead th {\n",
       "        text-align: right;\n",
       "    }\n",
       "</style>\n",
       "<table border=\"1\" class=\"dataframe\">\n",
       "  <thead>\n",
       "    <tr style=\"text-align: right;\">\n",
       "      <th></th>\n",
       "      <th>serial_number</th>\n",
       "      <th>model</th>\n",
       "      <th>capacity_gigabytes</th>\n",
       "      <th>failure</th>\n",
       "      <th>drive_age_in_years</th>\n",
       "      <th>reallocated_sectors_count</th>\n",
       "      <th>reported_uncorrectable_errors</th>\n",
       "      <th>command_timeout</th>\n",
       "      <th>current_pending_sector_count</th>\n",
       "      <th>uncorrectable_sector_count</th>\n",
       "    </tr>\n",
       "  </thead>\n",
       "  <tbody>\n",
       "    <tr>\n",
       "      <td>153434</td>\n",
       "      <td>PL2331LAGSTGLJ</td>\n",
       "      <td>HGST HMS5C4040ALE640</td>\n",
       "      <td>4000.8</td>\n",
       "      <td>1</td>\n",
       "      <td>2.0</td>\n",
       "      <td>74.0</td>\n",
       "      <td>NaN</td>\n",
       "      <td>NaN</td>\n",
       "      <td>8.0</td>\n",
       "      <td>0.0</td>\n",
       "    </tr>\n",
       "    <tr>\n",
       "      <td>162948</td>\n",
       "      <td>PL2331LAGSTGLJ</td>\n",
       "      <td>HGST HMS5C4040BLE640</td>\n",
       "      <td>4000.8</td>\n",
       "      <td>0</td>\n",
       "      <td>1.7</td>\n",
       "      <td>0.0</td>\n",
       "      <td>NaN</td>\n",
       "      <td>NaN</td>\n",
       "      <td>0.0</td>\n",
       "      <td>0.0</td>\n",
       "    </tr>\n",
       "  </tbody>\n",
       "</table>\n",
       "</div>"
      ],
      "text/plain": [
       "         serial_number                 model  capacity_gigabytes  failure  \\\n",
       "153434  PL2331LAGSTGLJ  HGST HMS5C4040ALE640              4000.8        1   \n",
       "162948  PL2331LAGSTGLJ  HGST HMS5C4040BLE640              4000.8        0   \n",
       "\n",
       "        drive_age_in_years  reallocated_sectors_count  \\\n",
       "153434                 2.0                       74.0   \n",
       "162948                 1.7                        0.0   \n",
       "\n",
       "        reported_uncorrectable_errors  command_timeout  \\\n",
       "153434                            NaN              NaN   \n",
       "162948                            NaN              NaN   \n",
       "\n",
       "        current_pending_sector_count  uncorrectable_sector_count  \n",
       "153434                           8.0                         0.0  \n",
       "162948                           0.0                         0.0  "
      ]
     },
     "execution_count": 11,
     "metadata": {},
     "output_type": "execute_result"
    }
   ],
   "source": [
    "df[df.serial_number=='PL2331LAGSTGLJ']"
   ]
  },
  {
   "cell_type": "markdown",
   "metadata": {},
   "source": [
    "Drop both don't know which is the typo"
   ]
  },
  {
   "cell_type": "code",
   "execution_count": 12,
   "metadata": {},
   "outputs": [
    {
     "data": {
      "text/html": [
       "<div>\n",
       "<style scoped>\n",
       "    .dataframe tbody tr th:only-of-type {\n",
       "        vertical-align: middle;\n",
       "    }\n",
       "\n",
       "    .dataframe tbody tr th {\n",
       "        vertical-align: top;\n",
       "    }\n",
       "\n",
       "    .dataframe thead th {\n",
       "        text-align: right;\n",
       "    }\n",
       "</style>\n",
       "<table border=\"1\" class=\"dataframe\">\n",
       "  <thead>\n",
       "    <tr style=\"text-align: right;\">\n",
       "      <th></th>\n",
       "      <th>serial_number</th>\n",
       "      <th>model</th>\n",
       "      <th>capacity_gigabytes</th>\n",
       "      <th>failure</th>\n",
       "      <th>drive_age_in_years</th>\n",
       "      <th>reallocated_sectors_count</th>\n",
       "      <th>reported_uncorrectable_errors</th>\n",
       "      <th>command_timeout</th>\n",
       "      <th>current_pending_sector_count</th>\n",
       "      <th>uncorrectable_sector_count</th>\n",
       "    </tr>\n",
       "  </thead>\n",
       "  <tbody>\n",
       "    <tr>\n",
       "      <td>50816</td>\n",
       "      <td>ZA13QBK3</td>\n",
       "      <td>ST8000DM002</td>\n",
       "      <td>8001.6</td>\n",
       "      <td>1</td>\n",
       "      <td>1.1</td>\n",
       "      <td>0.0</td>\n",
       "      <td>0.0</td>\n",
       "      <td>0.0</td>\n",
       "      <td>0.0</td>\n",
       "      <td>0.0</td>\n",
       "    </tr>\n",
       "    <tr>\n",
       "      <td>156370</td>\n",
       "      <td>ZA13QBK3</td>\n",
       "      <td>ST8000NM0055</td>\n",
       "      <td>8001.6</td>\n",
       "      <td>0</td>\n",
       "      <td>0.4</td>\n",
       "      <td>0.0</td>\n",
       "      <td>0.0</td>\n",
       "      <td>0.0</td>\n",
       "      <td>0.0</td>\n",
       "      <td>0.0</td>\n",
       "    </tr>\n",
       "  </tbody>\n",
       "</table>\n",
       "</div>"
      ],
      "text/plain": [
       "       serial_number         model  capacity_gigabytes  failure  \\\n",
       "50816       ZA13QBK3   ST8000DM002              8001.6        1   \n",
       "156370      ZA13QBK3  ST8000NM0055              8001.6        0   \n",
       "\n",
       "        drive_age_in_years  reallocated_sectors_count  \\\n",
       "50816                  1.1                        0.0   \n",
       "156370                 0.4                        0.0   \n",
       "\n",
       "        reported_uncorrectable_errors  command_timeout  \\\n",
       "50816                             0.0              0.0   \n",
       "156370                            0.0              0.0   \n",
       "\n",
       "        current_pending_sector_count  uncorrectable_sector_count  \n",
       "50816                            0.0                         0.0  \n",
       "156370                           0.0                         0.0  "
      ]
     },
     "execution_count": 12,
     "metadata": {},
     "output_type": "execute_result"
    }
   ],
   "source": [
    "df[df.serial_number=='ZA13QBK3']"
   ]
  },
  {
   "cell_type": "markdown",
   "metadata": {},
   "source": [
    "Drop both don't know which is the typo"
   ]
  },
  {
   "cell_type": "code",
   "execution_count": 13,
   "metadata": {},
   "outputs": [
    {
     "data": {
      "text/html": [
       "<div>\n",
       "<style scoped>\n",
       "    .dataframe tbody tr th:only-of-type {\n",
       "        vertical-align: middle;\n",
       "    }\n",
       "\n",
       "    .dataframe tbody tr th {\n",
       "        vertical-align: top;\n",
       "    }\n",
       "\n",
       "    .dataframe thead th {\n",
       "        text-align: right;\n",
       "    }\n",
       "</style>\n",
       "<table border=\"1\" class=\"dataframe\">\n",
       "  <thead>\n",
       "    <tr style=\"text-align: right;\">\n",
       "      <th></th>\n",
       "      <th>serial_number</th>\n",
       "      <th>model</th>\n",
       "      <th>capacity_gigabytes</th>\n",
       "      <th>failure</th>\n",
       "      <th>drive_age_in_years</th>\n",
       "      <th>reallocated_sectors_count</th>\n",
       "      <th>reported_uncorrectable_errors</th>\n",
       "      <th>command_timeout</th>\n",
       "      <th>current_pending_sector_count</th>\n",
       "      <th>uncorrectable_sector_count</th>\n",
       "    </tr>\n",
       "  </thead>\n",
       "  <tbody>\n",
       "    <tr>\n",
       "      <td>5410</td>\n",
       "      <td>Z300KYSQ</td>\n",
       "      <td>ST4000DM000</td>\n",
       "      <td>4000.8</td>\n",
       "      <td>0</td>\n",
       "      <td>3.7</td>\n",
       "      <td>0.0</td>\n",
       "      <td>0.0</td>\n",
       "      <td>0.0</td>\n",
       "      <td>0.0</td>\n",
       "      <td>0.0</td>\n",
       "    </tr>\n",
       "    <tr>\n",
       "      <td>31687</td>\n",
       "      <td>Z300KYSQ</td>\n",
       "      <td>ST4000DM000</td>\n",
       "      <td>137.4</td>\n",
       "      <td>1</td>\n",
       "      <td>NaN</td>\n",
       "      <td>NaN</td>\n",
       "      <td>NaN</td>\n",
       "      <td>NaN</td>\n",
       "      <td>NaN</td>\n",
       "      <td>NaN</td>\n",
       "    </tr>\n",
       "  </tbody>\n",
       "</table>\n",
       "</div>"
      ],
      "text/plain": [
       "      serial_number        model  capacity_gigabytes  failure  \\\n",
       "5410       Z300KYSQ  ST4000DM000              4000.8        0   \n",
       "31687      Z300KYSQ  ST4000DM000               137.4        1   \n",
       "\n",
       "       drive_age_in_years  reallocated_sectors_count  \\\n",
       "5410                  3.7                        0.0   \n",
       "31687                 NaN                        NaN   \n",
       "\n",
       "       reported_uncorrectable_errors  command_timeout  \\\n",
       "5410                             0.0              0.0   \n",
       "31687                            NaN              NaN   \n",
       "\n",
       "       current_pending_sector_count  uncorrectable_sector_count  \n",
       "5410                            0.0                         0.0  \n",
       "31687                           NaN                         NaN  "
      ]
     },
     "execution_count": 13,
     "metadata": {},
     "output_type": "execute_result"
    }
   ],
   "source": [
    "df[df.serial_number=='Z300KYSQ']"
   ]
  },
  {
   "cell_type": "markdown",
   "metadata": {},
   "source": [
    "drop 31687"
   ]
  },
  {
   "cell_type": "code",
   "execution_count": 14,
   "metadata": {},
   "outputs": [
    {
     "data": {
      "text/html": [
       "<div>\n",
       "<style scoped>\n",
       "    .dataframe tbody tr th:only-of-type {\n",
       "        vertical-align: middle;\n",
       "    }\n",
       "\n",
       "    .dataframe tbody tr th {\n",
       "        vertical-align: top;\n",
       "    }\n",
       "\n",
       "    .dataframe thead th {\n",
       "        text-align: right;\n",
       "    }\n",
       "</style>\n",
       "<table border=\"1\" class=\"dataframe\">\n",
       "  <thead>\n",
       "    <tr style=\"text-align: right;\">\n",
       "      <th></th>\n",
       "      <th>serial_number</th>\n",
       "      <th>model</th>\n",
       "      <th>capacity_gigabytes</th>\n",
       "      <th>failure</th>\n",
       "      <th>drive_age_in_years</th>\n",
       "      <th>reallocated_sectors_count</th>\n",
       "      <th>reported_uncorrectable_errors</th>\n",
       "      <th>command_timeout</th>\n",
       "      <th>current_pending_sector_count</th>\n",
       "      <th>uncorrectable_sector_count</th>\n",
       "    </tr>\n",
       "  </thead>\n",
       "  <tbody>\n",
       "    <tr>\n",
       "      <td>20823</td>\n",
       "      <td>Z3015CGY</td>\n",
       "      <td>ST4000DM000</td>\n",
       "      <td>137.4</td>\n",
       "      <td>0</td>\n",
       "      <td>NaN</td>\n",
       "      <td>NaN</td>\n",
       "      <td>NaN</td>\n",
       "      <td>NaN</td>\n",
       "      <td>NaN</td>\n",
       "      <td>NaN</td>\n",
       "    </tr>\n",
       "    <tr>\n",
       "      <td>114058</td>\n",
       "      <td>Z3015CGY</td>\n",
       "      <td>ST4000DM000</td>\n",
       "      <td>4000.8</td>\n",
       "      <td>0</td>\n",
       "      <td>4.0</td>\n",
       "      <td>0.0</td>\n",
       "      <td>0.0</td>\n",
       "      <td>1.288510e+10</td>\n",
       "      <td>0.0</td>\n",
       "      <td>0.0</td>\n",
       "    </tr>\n",
       "  </tbody>\n",
       "</table>\n",
       "</div>"
      ],
      "text/plain": [
       "       serial_number        model  capacity_gigabytes  failure  \\\n",
       "20823       Z3015CGY  ST4000DM000               137.4        0   \n",
       "114058      Z3015CGY  ST4000DM000              4000.8        0   \n",
       "\n",
       "        drive_age_in_years  reallocated_sectors_count  \\\n",
       "20823                  NaN                        NaN   \n",
       "114058                 4.0                        0.0   \n",
       "\n",
       "        reported_uncorrectable_errors  command_timeout  \\\n",
       "20823                             NaN              NaN   \n",
       "114058                            0.0     1.288510e+10   \n",
       "\n",
       "        current_pending_sector_count  uncorrectable_sector_count  \n",
       "20823                            NaN                         NaN  \n",
       "114058                           0.0                         0.0  "
      ]
     },
     "execution_count": 14,
     "metadata": {},
     "output_type": "execute_result"
    }
   ],
   "source": [
    "df[df.serial_number=='Z3015CGY']"
   ]
  },
  {
   "cell_type": "markdown",
   "metadata": {},
   "source": [
    "drop 20823"
   ]
  },
  {
   "cell_type": "code",
   "execution_count": 15,
   "metadata": {},
   "outputs": [
    {
     "data": {
      "text/html": [
       "<div>\n",
       "<style scoped>\n",
       "    .dataframe tbody tr th:only-of-type {\n",
       "        vertical-align: middle;\n",
       "    }\n",
       "\n",
       "    .dataframe tbody tr th {\n",
       "        vertical-align: top;\n",
       "    }\n",
       "\n",
       "    .dataframe thead th {\n",
       "        text-align: right;\n",
       "    }\n",
       "</style>\n",
       "<table border=\"1\" class=\"dataframe\">\n",
       "  <thead>\n",
       "    <tr style=\"text-align: right;\">\n",
       "      <th></th>\n",
       "      <th>serial_number</th>\n",
       "      <th>model</th>\n",
       "      <th>capacity_gigabytes</th>\n",
       "      <th>failure</th>\n",
       "      <th>drive_age_in_years</th>\n",
       "      <th>reallocated_sectors_count</th>\n",
       "      <th>reported_uncorrectable_errors</th>\n",
       "      <th>command_timeout</th>\n",
       "      <th>current_pending_sector_count</th>\n",
       "      <th>uncorrectable_sector_count</th>\n",
       "    </tr>\n",
       "  </thead>\n",
       "  <tbody>\n",
       "    <tr>\n",
       "      <td>75191</td>\n",
       "      <td>PL1331LAGSR5WH</td>\n",
       "      <td>HGST HMS5C4040BLE640</td>\n",
       "      <td>4000.8</td>\n",
       "      <td>0</td>\n",
       "      <td>0.1</td>\n",
       "      <td>0.0</td>\n",
       "      <td>NaN</td>\n",
       "      <td>NaN</td>\n",
       "      <td>0.0</td>\n",
       "      <td>0.0</td>\n",
       "    </tr>\n",
       "    <tr>\n",
       "      <td>132189</td>\n",
       "      <td>PL1331LAGSR5WH</td>\n",
       "      <td>HGST HMS5C4040ALE640</td>\n",
       "      <td>4000.8</td>\n",
       "      <td>1</td>\n",
       "      <td>1.6</td>\n",
       "      <td>183.0</td>\n",
       "      <td>NaN</td>\n",
       "      <td>NaN</td>\n",
       "      <td>0.0</td>\n",
       "      <td>0.0</td>\n",
       "    </tr>\n",
       "  </tbody>\n",
       "</table>\n",
       "</div>"
      ],
      "text/plain": [
       "         serial_number                 model  capacity_gigabytes  failure  \\\n",
       "75191   PL1331LAGSR5WH  HGST HMS5C4040BLE640              4000.8        0   \n",
       "132189  PL1331LAGSR5WH  HGST HMS5C4040ALE640              4000.8        1   \n",
       "\n",
       "        drive_age_in_years  reallocated_sectors_count  \\\n",
       "75191                  0.1                        0.0   \n",
       "132189                 1.6                      183.0   \n",
       "\n",
       "        reported_uncorrectable_errors  command_timeout  \\\n",
       "75191                             NaN              NaN   \n",
       "132189                            NaN              NaN   \n",
       "\n",
       "        current_pending_sector_count  uncorrectable_sector_count  \n",
       "75191                            0.0                         0.0  \n",
       "132189                           0.0                         0.0  "
      ]
     },
     "execution_count": 15,
     "metadata": {},
     "output_type": "execute_result"
    }
   ],
   "source": [
    "df[df.serial_number=='PL1331LAGSR5WH']"
   ]
  },
  {
   "cell_type": "markdown",
   "metadata": {},
   "source": [
    "drop both"
   ]
  },
  {
   "cell_type": "code",
   "execution_count": 16,
   "metadata": {},
   "outputs": [
    {
     "data": {
      "text/html": [
       "<div>\n",
       "<style scoped>\n",
       "    .dataframe tbody tr th:only-of-type {\n",
       "        vertical-align: middle;\n",
       "    }\n",
       "\n",
       "    .dataframe tbody tr th {\n",
       "        vertical-align: top;\n",
       "    }\n",
       "\n",
       "    .dataframe thead th {\n",
       "        text-align: right;\n",
       "    }\n",
       "</style>\n",
       "<table border=\"1\" class=\"dataframe\">\n",
       "  <thead>\n",
       "    <tr style=\"text-align: right;\">\n",
       "      <th></th>\n",
       "      <th>serial_number</th>\n",
       "      <th>model</th>\n",
       "      <th>capacity_gigabytes</th>\n",
       "      <th>failure</th>\n",
       "      <th>drive_age_in_years</th>\n",
       "      <th>reallocated_sectors_count</th>\n",
       "      <th>reported_uncorrectable_errors</th>\n",
       "      <th>command_timeout</th>\n",
       "      <th>current_pending_sector_count</th>\n",
       "      <th>uncorrectable_sector_count</th>\n",
       "    </tr>\n",
       "  </thead>\n",
       "  <tbody>\n",
       "    <tr>\n",
       "      <td>4177</td>\n",
       "      <td>Z304JM43</td>\n",
       "      <td>ST4000DM000</td>\n",
       "      <td>137.4</td>\n",
       "      <td>1</td>\n",
       "      <td>NaN</td>\n",
       "      <td>NaN</td>\n",
       "      <td>NaN</td>\n",
       "      <td>NaN</td>\n",
       "      <td>NaN</td>\n",
       "      <td>NaN</td>\n",
       "    </tr>\n",
       "    <tr>\n",
       "      <td>5204</td>\n",
       "      <td>Z304JM43</td>\n",
       "      <td>ST4000DM000</td>\n",
       "      <td>4000.8</td>\n",
       "      <td>0</td>\n",
       "      <td>3.3</td>\n",
       "      <td>0.0</td>\n",
       "      <td>0.0</td>\n",
       "      <td>0.0</td>\n",
       "      <td>0.0</td>\n",
       "      <td>0.0</td>\n",
       "    </tr>\n",
       "  </tbody>\n",
       "</table>\n",
       "</div>"
      ],
      "text/plain": [
       "     serial_number        model  capacity_gigabytes  failure  \\\n",
       "4177      Z304JM43  ST4000DM000               137.4        1   \n",
       "5204      Z304JM43  ST4000DM000              4000.8        0   \n",
       "\n",
       "      drive_age_in_years  reallocated_sectors_count  \\\n",
       "4177                 NaN                        NaN   \n",
       "5204                 3.3                        0.0   \n",
       "\n",
       "      reported_uncorrectable_errors  command_timeout  \\\n",
       "4177                            NaN              NaN   \n",
       "5204                            0.0              0.0   \n",
       "\n",
       "      current_pending_sector_count  uncorrectable_sector_count  \n",
       "4177                           NaN                         NaN  \n",
       "5204                           0.0                         0.0  "
      ]
     },
     "execution_count": 16,
     "metadata": {},
     "output_type": "execute_result"
    }
   ],
   "source": [
    "df[df.serial_number=='Z304JM43']"
   ]
  },
  {
   "cell_type": "markdown",
   "metadata": {},
   "source": [
    "drop 4177"
   ]
  },
  {
   "cell_type": "code",
   "execution_count": 17,
   "metadata": {},
   "outputs": [
    {
     "data": {
      "text/html": [
       "<div>\n",
       "<style scoped>\n",
       "    .dataframe tbody tr th:only-of-type {\n",
       "        vertical-align: middle;\n",
       "    }\n",
       "\n",
       "    .dataframe tbody tr th {\n",
       "        vertical-align: top;\n",
       "    }\n",
       "\n",
       "    .dataframe thead th {\n",
       "        text-align: right;\n",
       "    }\n",
       "</style>\n",
       "<table border=\"1\" class=\"dataframe\">\n",
       "  <thead>\n",
       "    <tr style=\"text-align: right;\">\n",
       "      <th></th>\n",
       "      <th>serial_number</th>\n",
       "      <th>model</th>\n",
       "      <th>capacity_gigabytes</th>\n",
       "      <th>failure</th>\n",
       "      <th>drive_age_in_years</th>\n",
       "      <th>reallocated_sectors_count</th>\n",
       "      <th>reported_uncorrectable_errors</th>\n",
       "      <th>command_timeout</th>\n",
       "      <th>current_pending_sector_count</th>\n",
       "      <th>uncorrectable_sector_count</th>\n",
       "    </tr>\n",
       "  </thead>\n",
       "  <tbody>\n",
       "    <tr>\n",
       "      <td>2542</td>\n",
       "      <td>Z305GFM1</td>\n",
       "      <td>ST4000DM000</td>\n",
       "      <td>4000.8</td>\n",
       "      <td>0</td>\n",
       "      <td>3.6</td>\n",
       "      <td>0.0</td>\n",
       "      <td>0.0</td>\n",
       "      <td>0.0</td>\n",
       "      <td>0.0</td>\n",
       "      <td>0.0</td>\n",
       "    </tr>\n",
       "    <tr>\n",
       "      <td>78104</td>\n",
       "      <td>Z305GFM1</td>\n",
       "      <td>ST4000DM000</td>\n",
       "      <td>137.4</td>\n",
       "      <td>0</td>\n",
       "      <td>NaN</td>\n",
       "      <td>NaN</td>\n",
       "      <td>NaN</td>\n",
       "      <td>NaN</td>\n",
       "      <td>NaN</td>\n",
       "      <td>NaN</td>\n",
       "    </tr>\n",
       "  </tbody>\n",
       "</table>\n",
       "</div>"
      ],
      "text/plain": [
       "      serial_number        model  capacity_gigabytes  failure  \\\n",
       "2542       Z305GFM1  ST4000DM000              4000.8        0   \n",
       "78104      Z305GFM1  ST4000DM000               137.4        0   \n",
       "\n",
       "       drive_age_in_years  reallocated_sectors_count  \\\n",
       "2542                  3.6                        0.0   \n",
       "78104                 NaN                        NaN   \n",
       "\n",
       "       reported_uncorrectable_errors  command_timeout  \\\n",
       "2542                             0.0              0.0   \n",
       "78104                            NaN              NaN   \n",
       "\n",
       "       current_pending_sector_count  uncorrectable_sector_count  \n",
       "2542                            0.0                         0.0  \n",
       "78104                           NaN                         NaN  "
      ]
     },
     "execution_count": 17,
     "metadata": {},
     "output_type": "execute_result"
    }
   ],
   "source": [
    "df[df.serial_number=='Z305GFM1']"
   ]
  },
  {
   "cell_type": "markdown",
   "metadata": {},
   "source": [
    "drop 78104"
   ]
  },
  {
   "cell_type": "code",
   "execution_count": 18,
   "metadata": {},
   "outputs": [
    {
     "data": {
      "text/html": [
       "<div>\n",
       "<style scoped>\n",
       "    .dataframe tbody tr th:only-of-type {\n",
       "        vertical-align: middle;\n",
       "    }\n",
       "\n",
       "    .dataframe tbody tr th {\n",
       "        vertical-align: top;\n",
       "    }\n",
       "\n",
       "    .dataframe thead th {\n",
       "        text-align: right;\n",
       "    }\n",
       "</style>\n",
       "<table border=\"1\" class=\"dataframe\">\n",
       "  <thead>\n",
       "    <tr style=\"text-align: right;\">\n",
       "      <th></th>\n",
       "      <th>serial_number</th>\n",
       "      <th>model</th>\n",
       "      <th>capacity_gigabytes</th>\n",
       "      <th>failure</th>\n",
       "      <th>drive_age_in_years</th>\n",
       "      <th>reallocated_sectors_count</th>\n",
       "      <th>reported_uncorrectable_errors</th>\n",
       "      <th>command_timeout</th>\n",
       "      <th>current_pending_sector_count</th>\n",
       "      <th>uncorrectable_sector_count</th>\n",
       "    </tr>\n",
       "  </thead>\n",
       "  <tbody>\n",
       "    <tr>\n",
       "      <td>103620</td>\n",
       "      <td>PL1331LAGRHDZH</td>\n",
       "      <td>HGST HMS5C4040BLE640</td>\n",
       "      <td>4000.8</td>\n",
       "      <td>0</td>\n",
       "      <td>1.7</td>\n",
       "      <td>0.0</td>\n",
       "      <td>NaN</td>\n",
       "      <td>NaN</td>\n",
       "      <td>0.0</td>\n",
       "      <td>0.0</td>\n",
       "    </tr>\n",
       "    <tr>\n",
       "      <td>141505</td>\n",
       "      <td>PL1331LAGRHDZH</td>\n",
       "      <td>HGST HMS5C4040ALE640</td>\n",
       "      <td>4000.8</td>\n",
       "      <td>1</td>\n",
       "      <td>1.8</td>\n",
       "      <td>0.0</td>\n",
       "      <td>NaN</td>\n",
       "      <td>NaN</td>\n",
       "      <td>0.0</td>\n",
       "      <td>0.0</td>\n",
       "    </tr>\n",
       "  </tbody>\n",
       "</table>\n",
       "</div>"
      ],
      "text/plain": [
       "         serial_number                 model  capacity_gigabytes  failure  \\\n",
       "103620  PL1331LAGRHDZH  HGST HMS5C4040BLE640              4000.8        0   \n",
       "141505  PL1331LAGRHDZH  HGST HMS5C4040ALE640              4000.8        1   \n",
       "\n",
       "        drive_age_in_years  reallocated_sectors_count  \\\n",
       "103620                 1.7                        0.0   \n",
       "141505                 1.8                        0.0   \n",
       "\n",
       "        reported_uncorrectable_errors  command_timeout  \\\n",
       "103620                            NaN              NaN   \n",
       "141505                            NaN              NaN   \n",
       "\n",
       "        current_pending_sector_count  uncorrectable_sector_count  \n",
       "103620                           0.0                         0.0  \n",
       "141505                           0.0                         0.0  "
      ]
     },
     "execution_count": 18,
     "metadata": {},
     "output_type": "execute_result"
    }
   ],
   "source": [
    "df[df.serial_number=='PL1331LAGRHDZH']"
   ]
  },
  {
   "cell_type": "markdown",
   "metadata": {},
   "source": [
    "drop both"
   ]
  },
  {
   "cell_type": "code",
   "execution_count": 19,
   "metadata": {},
   "outputs": [
    {
     "data": {
      "text/html": [
       "<div>\n",
       "<style scoped>\n",
       "    .dataframe tbody tr th:only-of-type {\n",
       "        vertical-align: middle;\n",
       "    }\n",
       "\n",
       "    .dataframe tbody tr th {\n",
       "        vertical-align: top;\n",
       "    }\n",
       "\n",
       "    .dataframe thead th {\n",
       "        text-align: right;\n",
       "    }\n",
       "</style>\n",
       "<table border=\"1\" class=\"dataframe\">\n",
       "  <thead>\n",
       "    <tr style=\"text-align: right;\">\n",
       "      <th></th>\n",
       "      <th>serial_number</th>\n",
       "      <th>model</th>\n",
       "      <th>capacity_gigabytes</th>\n",
       "      <th>failure</th>\n",
       "      <th>drive_age_in_years</th>\n",
       "      <th>reallocated_sectors_count</th>\n",
       "      <th>reported_uncorrectable_errors</th>\n",
       "      <th>command_timeout</th>\n",
       "      <th>current_pending_sector_count</th>\n",
       "      <th>uncorrectable_sector_count</th>\n",
       "    </tr>\n",
       "  </thead>\n",
       "  <tbody>\n",
       "    <tr>\n",
       "      <td>95249</td>\n",
       "      <td>Z3016L2T</td>\n",
       "      <td>ST4000DM000</td>\n",
       "      <td>137.4</td>\n",
       "      <td>0</td>\n",
       "      <td>NaN</td>\n",
       "      <td>NaN</td>\n",
       "      <td>NaN</td>\n",
       "      <td>NaN</td>\n",
       "      <td>NaN</td>\n",
       "      <td>NaN</td>\n",
       "    </tr>\n",
       "    <tr>\n",
       "      <td>161818</td>\n",
       "      <td>Z3016L2T</td>\n",
       "      <td>ST4000DM000</td>\n",
       "      <td>4000.8</td>\n",
       "      <td>0</td>\n",
       "      <td>3.7</td>\n",
       "      <td>0.0</td>\n",
       "      <td>0.0</td>\n",
       "      <td>0.0</td>\n",
       "      <td>0.0</td>\n",
       "      <td>0.0</td>\n",
       "    </tr>\n",
       "  </tbody>\n",
       "</table>\n",
       "</div>"
      ],
      "text/plain": [
       "       serial_number        model  capacity_gigabytes  failure  \\\n",
       "95249       Z3016L2T  ST4000DM000               137.4        0   \n",
       "161818      Z3016L2T  ST4000DM000              4000.8        0   \n",
       "\n",
       "        drive_age_in_years  reallocated_sectors_count  \\\n",
       "95249                  NaN                        NaN   \n",
       "161818                 3.7                        0.0   \n",
       "\n",
       "        reported_uncorrectable_errors  command_timeout  \\\n",
       "95249                             NaN              NaN   \n",
       "161818                            0.0              0.0   \n",
       "\n",
       "        current_pending_sector_count  uncorrectable_sector_count  \n",
       "95249                            NaN                         NaN  \n",
       "161818                           0.0                         0.0  "
      ]
     },
     "execution_count": 19,
     "metadata": {},
     "output_type": "execute_result"
    }
   ],
   "source": [
    "df[df.serial_number=='Z3016L2T']"
   ]
  },
  {
   "cell_type": "markdown",
   "metadata": {},
   "source": [
    "drop 95249"
   ]
  },
  {
   "cell_type": "code",
   "execution_count": 20,
   "metadata": {},
   "outputs": [
    {
     "data": {
      "text/html": [
       "<div>\n",
       "<style scoped>\n",
       "    .dataframe tbody tr th:only-of-type {\n",
       "        vertical-align: middle;\n",
       "    }\n",
       "\n",
       "    .dataframe tbody tr th {\n",
       "        vertical-align: top;\n",
       "    }\n",
       "\n",
       "    .dataframe thead th {\n",
       "        text-align: right;\n",
       "    }\n",
       "</style>\n",
       "<table border=\"1\" class=\"dataframe\">\n",
       "  <thead>\n",
       "    <tr style=\"text-align: right;\">\n",
       "      <th></th>\n",
       "      <th>serial_number</th>\n",
       "      <th>model</th>\n",
       "      <th>capacity_gigabytes</th>\n",
       "      <th>failure</th>\n",
       "      <th>drive_age_in_years</th>\n",
       "      <th>reallocated_sectors_count</th>\n",
       "      <th>reported_uncorrectable_errors</th>\n",
       "      <th>command_timeout</th>\n",
       "      <th>current_pending_sector_count</th>\n",
       "      <th>uncorrectable_sector_count</th>\n",
       "    </tr>\n",
       "  </thead>\n",
       "  <tbody>\n",
       "    <tr>\n",
       "      <td>26969</td>\n",
       "      <td>Z3025LKQ</td>\n",
       "      <td>ST4000DM000</td>\n",
       "      <td>4000.8</td>\n",
       "      <td>0</td>\n",
       "      <td>2.5</td>\n",
       "      <td>0.0</td>\n",
       "      <td>0.0</td>\n",
       "      <td>4.0</td>\n",
       "      <td>0.0</td>\n",
       "      <td>0.0</td>\n",
       "    </tr>\n",
       "    <tr>\n",
       "      <td>50408</td>\n",
       "      <td>Z3025LKQ</td>\n",
       "      <td>ST4000DM000</td>\n",
       "      <td>137.4</td>\n",
       "      <td>1</td>\n",
       "      <td>NaN</td>\n",
       "      <td>NaN</td>\n",
       "      <td>NaN</td>\n",
       "      <td>NaN</td>\n",
       "      <td>NaN</td>\n",
       "      <td>NaN</td>\n",
       "    </tr>\n",
       "  </tbody>\n",
       "</table>\n",
       "</div>"
      ],
      "text/plain": [
       "      serial_number        model  capacity_gigabytes  failure  \\\n",
       "26969      Z3025LKQ  ST4000DM000              4000.8        0   \n",
       "50408      Z3025LKQ  ST4000DM000               137.4        1   \n",
       "\n",
       "       drive_age_in_years  reallocated_sectors_count  \\\n",
       "26969                 2.5                        0.0   \n",
       "50408                 NaN                        NaN   \n",
       "\n",
       "       reported_uncorrectable_errors  command_timeout  \\\n",
       "26969                            0.0              4.0   \n",
       "50408                            NaN              NaN   \n",
       "\n",
       "       current_pending_sector_count  uncorrectable_sector_count  \n",
       "26969                           0.0                         0.0  \n",
       "50408                           NaN                         NaN  "
      ]
     },
     "execution_count": 20,
     "metadata": {},
     "output_type": "execute_result"
    }
   ],
   "source": [
    "df[df.serial_number=='Z3025LKQ']"
   ]
  },
  {
   "cell_type": "markdown",
   "metadata": {},
   "source": [
    "drop 26969"
   ]
  },
  {
   "cell_type": "code",
   "execution_count": 21,
   "metadata": {},
   "outputs": [],
   "source": [
    "df=df.drop([68273,50408,37150,154660,162948,50816,156370,31687,20823,75191,132189,4177,78104,103620,141505,95249,26969])"
   ]
  },
  {
   "cell_type": "code",
   "execution_count": 22,
   "metadata": {},
   "outputs": [
    {
     "data": {
      "text/plain": [
       "MJ1323YNG1RXSC    1\n",
       "ZJV02ZQJ          1\n",
       "MJ1321YNG0LZ2A    1\n",
       "ZCH07Q0J          1\n",
       "PL1331LAGSPR5H    1\n",
       "                 ..\n",
       "PL1311LAG3275H    1\n",
       "PL1311LAG3EHPH    1\n",
       "ZJV0XZ9T          1\n",
       "PL1331LAHEJM8H    1\n",
       "ZCH07WQ3          1\n",
       "Name: serial_number, Length: 162024, dtype: int64"
      ]
     },
     "execution_count": 22,
     "metadata": {},
     "output_type": "execute_result"
    }
   ],
   "source": [
    "df.serial_number.value_counts()"
   ]
  },
  {
   "cell_type": "code",
   "execution_count": 23,
   "metadata": {},
   "outputs": [],
   "source": [
    "def There_can_be_only_one(df):\n",
    "    \n",
    "    df = df[df.capacity_gigabytes > 0]\n",
    "    \n",
    "    df = df.drop([68273,50408,37150,154660,162948,50816,156370,31687,20823,75191,132189,4177,78104,103620,141505,95249,26969])\n",
    "    \n",
    "    return df"
   ]
  },
  {
   "cell_type": "code",
   "execution_count": 24,
   "metadata": {},
   "outputs": [
    {
     "data": {
      "text/plain": [
       "MJ1323YNG1RXSC    1\n",
       "ZJV02ZQJ          1\n",
       "MJ1321YNG0LZ2A    1\n",
       "ZCH07Q0J          1\n",
       "PL1331LAGSPR5H    1\n",
       "                 ..\n",
       "PL1311LAG3275H    1\n",
       "PL1311LAG3EHPH    1\n",
       "ZJV0XZ9T          1\n",
       "PL1331LAHEJM8H    1\n",
       "ZCH07WQ3          1\n",
       "Name: serial_number, Length: 162024, dtype: int64"
      ]
     },
     "execution_count": 24,
     "metadata": {},
     "output_type": "execute_result"
    }
   ],
   "source": [
    "df=pd.read_csv('all_data.csv')\n",
    "\n",
    "df = prepare(df)\n",
    "\n",
    "df = There_can_be_only_one(df)\n",
    "\n",
    "df.serial_number.value_counts()"
   ]
  },
  {
   "cell_type": "code",
   "execution_count": null,
   "metadata": {},
   "outputs": [],
   "source": []
  },
  {
   "cell_type": "code",
   "execution_count": null,
   "metadata": {},
   "outputs": [],
   "source": []
  },
  {
   "cell_type": "code",
   "execution_count": null,
   "metadata": {},
   "outputs": [],
   "source": []
  },
  {
   "cell_type": "code",
   "execution_count": null,
   "metadata": {},
   "outputs": [],
   "source": []
  },
  {
   "cell_type": "code",
   "execution_count": 25,
   "metadata": {},
   "outputs": [
    {
     "data": {
      "text/plain": [
       "(162025, 10)"
      ]
     },
     "execution_count": 25,
     "metadata": {},
     "output_type": "execute_result"
    }
   ],
   "source": [
    "df.shape"
   ]
  },
  {
   "cell_type": "code",
   "execution_count": 26,
   "metadata": {},
   "outputs": [
    {
     "data": {
      "text/plain": [
       "(104175, 10)"
      ]
     },
     "execution_count": 26,
     "metadata": {},
     "output_type": "execute_result"
    }
   ],
   "source": [
    "df.dropna().shape"
   ]
  },
  {
   "cell_type": "code",
   "execution_count": 27,
   "metadata": {},
   "outputs": [
    {
     "data": {
      "text/plain": [
       "64895"
      ]
     },
     "execution_count": 27,
     "metadata": {},
     "output_type": "execute_result"
    }
   ],
   "source": [
    "169073-104178"
   ]
  },
  {
   "cell_type": "code",
   "execution_count": 28,
   "metadata": {},
   "outputs": [
    {
     "data": {
      "text/plain": [
       "0.3838282871895572"
      ]
     },
     "execution_count": 28,
     "metadata": {},
     "output_type": "execute_result"
    }
   ],
   "source": [
    "64895/169073"
   ]
  },
  {
   "cell_type": "markdown",
   "metadata": {},
   "source": [
    "3 years = 26280\n",
    "\n",
    "5 years = 43800"
   ]
  },
  {
   "cell_type": "code",
   "execution_count": 29,
   "metadata": {},
   "outputs": [
    {
     "ename": "NameError",
     "evalue": "name 'df_dropna' is not defined",
     "output_type": "error",
     "traceback": [
      "\u001b[0;31m---------------------------------------------------------------------------\u001b[0m",
      "\u001b[0;31mNameError\u001b[0m                                 Traceback (most recent call last)",
      "\u001b[0;32m<ipython-input-29-8ee9d7759502>\u001b[0m in \u001b[0;36m<module>\u001b[0;34m\u001b[0m\n\u001b[0;32m----> 1\u001b[0;31m \u001b[0mdf\u001b[0m\u001b[0;34m=\u001b[0m\u001b[0mdf_dropna\u001b[0m\u001b[0;34m\u001b[0m\u001b[0;34m\u001b[0m\u001b[0m\n\u001b[0m",
      "\u001b[0;31mNameError\u001b[0m: name 'df_dropna' is not defined"
     ]
    }
   ],
   "source": [
    "df=df_dropna"
   ]
  },
  {
   "cell_type": "code",
   "execution_count": null,
   "metadata": {},
   "outputs": [],
   "source": [
    "df[['three_years']]= ((df[['max(smart_9_raw)']] >= 26280) | (df[['max(failure)']]==0))"
   ]
  },
  {
   "cell_type": "code",
   "execution_count": null,
   "metadata": {},
   "outputs": [],
   "source": [
    "df.three_years.sum()"
   ]
  },
  {
   "cell_type": "code",
   "execution_count": null,
   "metadata": {},
   "outputs": [],
   "source": [
    "df[['five_years']]= df[['max(smart_9_raw)']] >= 43800"
   ]
  },
  {
   "cell_type": "code",
   "execution_count": null,
   "metadata": {},
   "outputs": [],
   "source": [
    "df.five_years.sum()"
   ]
  },
  {
   "cell_type": "code",
   "execution_count": null,
   "metadata": {},
   "outputs": [],
   "source": []
  }
 ],
 "metadata": {
  "kernelspec": {
   "display_name": "Python 3",
   "language": "python",
   "name": "python3"
  },
  "language_info": {
   "codemirror_mode": {
    "name": "ipython",
    "version": 3
   },
   "file_extension": ".py",
   "mimetype": "text/x-python",
   "name": "python",
   "nbconvert_exporter": "python",
   "pygments_lexer": "ipython3",
   "version": "3.7.4"
  }
 },
 "nbformat": 4,
 "nbformat_minor": 2
}
