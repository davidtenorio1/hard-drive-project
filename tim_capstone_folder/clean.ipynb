{
 "cells": [
  {
   "cell_type": "code",
   "execution_count": 1,
   "metadata": {},
   "outputs": [],
   "source": [
    "# data wrangling\n",
    "import pandas as pd\n",
    "import numpy as np\n",
    "\n",
    "from sklearn.svm import LinearSVR\n",
    "from sklearn.metrics import mean_squared_error\n",
    "from sklearn.linear_model import SGDRegressor, LassoCV\n",
    "from sklearn.tree import DecisionTreeRegressor\n",
    "\n",
    "# visualizations\n",
    "import matplotlib.pyplot as plt\n",
    "import seaborn as sns\n",
    "\n",
    "import warnings\n",
    "warnings.filterwarnings(\"ignore\")\n",
    "\n",
    "from sklearn.model_selection import train_test_split\n",
    "from sklearn.ensemble import RandomForestClassifier\n",
    "from sklearn.metrics import classification_report\n",
    "from sklearn.metrics import confusion_matrix\n",
    "from sklearn.preprocessing import LabelEncoder, OneHotEncoder\n",
    "\n",
    "# py files\n",
    "import acquire\n",
    "import prepare\n",
    "import explore\n",
    "import model"
   ]
  },
  {
   "cell_type": "code",
   "execution_count": 2,
   "metadata": {},
   "outputs": [],
   "source": [
    "df = acquire.acquire_agg_data()"
   ]
  },
  {
   "cell_type": "code",
   "execution_count": 3,
   "metadata": {},
   "outputs": [
    {
     "name": "stdout",
     "output_type": "stream",
     "text": [
      "<class 'pandas.core.frame.DataFrame'>\n",
      "RangeIndex: 169073 entries, 0 to 169072\n",
      "Data columns (total 10 columns):\n",
      "serial_number         169072 non-null object\n",
      "model                 169073 non-null object\n",
      "capacity_bytes        169073 non-null int64\n",
      "max(failure)          169073 non-null int64\n",
      "max(smart_9_raw)      161975 non-null float64\n",
      "max(smart_5_raw)      161851 non-null float64\n",
      "max(smart_187_raw)    104189 non-null float64\n",
      "max(smart_188_raw)    104179 non-null float64\n",
      "max(smart_197_raw)    161841 non-null float64\n",
      "max(smart_198_raw)    161841 non-null float64\n",
      "dtypes: float64(6), int64(2), object(2)\n",
      "memory usage: 12.9+ MB\n"
     ]
    }
   ],
   "source": [
    "df.info()"
   ]
  },
  {
   "cell_type": "code",
   "execution_count": 4,
   "metadata": {},
   "outputs": [],
   "source": [
    "df = prepare.prepare(df)"
   ]
  },
  {
   "cell_type": "code",
   "execution_count": 5,
   "metadata": {},
   "outputs": [
    {
     "name": "stdout",
     "output_type": "stream",
     "text": [
      "<class 'pandas.core.frame.DataFrame'>\n",
      "RangeIndex: 169073 entries, 0 to 169072\n",
      "Data columns (total 11 columns):\n",
      "serial_number                    169072 non-null object\n",
      "manufacturer                     169073 non-null object\n",
      "model                            169073 non-null object\n",
      "capacity_terabytes               169073 non-null float64\n",
      "failure                          169073 non-null int64\n",
      "drive_age_in_years               161975 non-null float64\n",
      "reallocated_sectors_count        161851 non-null float64\n",
      "reported_uncorrectable_errors    104189 non-null float64\n",
      "command_timeout                  104179 non-null float64\n",
      "current_pending_sector_count     161841 non-null float64\n",
      "uncorrectable_sector_count       161841 non-null float64\n",
      "dtypes: float64(7), int64(1), object(3)\n",
      "memory usage: 14.2+ MB\n"
     ]
    }
   ],
   "source": [
    "df.info()"
   ]
  },
  {
   "cell_type": "code",
   "execution_count": 6,
   "metadata": {},
   "outputs": [],
   "source": [
    "df = prepare.unique(df)"
   ]
  },
  {
   "cell_type": "code",
   "execution_count": 7,
   "metadata": {},
   "outputs": [
    {
     "name": "stdout",
     "output_type": "stream",
     "text": [
      "<class 'pandas.core.frame.DataFrame'>\n",
      "Int64Index: 162025 entries, 0 to 169067\n",
      "Data columns (total 11 columns):\n",
      "serial_number                    162024 non-null object\n",
      "manufacturer                     162025 non-null object\n",
      "model                            162025 non-null object\n",
      "capacity_terabytes               162025 non-null float64\n",
      "failure                          162025 non-null int64\n",
      "drive_age_in_years               161965 non-null float64\n",
      "reallocated_sectors_count        161841 non-null float64\n",
      "reported_uncorrectable_errors    104186 non-null float64\n",
      "command_timeout                  104176 non-null float64\n",
      "current_pending_sector_count     161831 non-null float64\n",
      "uncorrectable_sector_count       161831 non-null float64\n",
      "dtypes: float64(7), int64(1), object(3)\n",
      "memory usage: 14.8+ MB\n"
     ]
    }
   ],
   "source": [
    "df.info()"
   ]
  },
  {
   "cell_type": "code",
   "execution_count": 8,
   "metadata": {},
   "outputs": [],
   "source": [
    "df = prepare.treat_nulls(df)"
   ]
  },
  {
   "cell_type": "code",
   "execution_count": 9,
   "metadata": {},
   "outputs": [
    {
     "name": "stdout",
     "output_type": "stream",
     "text": [
      "<class 'pandas.core.frame.DataFrame'>\n",
      "Int64Index: 161830 entries, 0 to 169067\n",
      "Data columns (total 11 columns):\n",
      "serial_number                    161830 non-null object\n",
      "manufacturer                     161830 non-null object\n",
      "model                            161830 non-null object\n",
      "capacity_terabytes               161830 non-null float64\n",
      "failure                          161830 non-null int64\n",
      "drive_age_in_years               161830 non-null float64\n",
      "reallocated_sectors_count        161830 non-null float64\n",
      "reported_uncorrectable_errors    161830 non-null float64\n",
      "command_timeout                  161830 non-null float64\n",
      "current_pending_sector_count     161830 non-null float64\n",
      "uncorrectable_sector_count       161830 non-null float64\n",
      "dtypes: float64(7), int64(1), object(3)\n",
      "memory usage: 14.8+ MB\n"
     ]
    }
   ],
   "source": [
    "df.info()"
   ]
  },
  {
   "cell_type": "code",
   "execution_count": 10,
   "metadata": {},
   "outputs": [],
   "source": [
    "#df = prepare.treat_nulls(df)"
   ]
  },
  {
   "cell_type": "code",
   "execution_count": 11,
   "metadata": {},
   "outputs": [],
   "source": [
    "# agg_model = df.groupby(['model']).agg({'failure' : 'sum', 'model' : 'count', 'drive_age_in_years':'mean'})\n",
    "# agg_model.rename(columns={'failure':'failures', 'model':'total_count'}, inplace=True)\n",
    "\n",
    "# # add a failure rate column\n",
    "# agg_model['failure_rate_percent'] = agg_model['failures'] / agg_model['total_count'] * 100\n",
    "# agg_model.sort_values(by=['failures'], ascending = False)"
   ]
  },
  {
   "cell_type": "markdown",
   "metadata": {},
   "source": [
    "# Early Failure Column ---> Cutoff = 1.6"
   ]
  },
  {
   "cell_type": "code",
   "execution_count": 12,
   "metadata": {},
   "outputs": [],
   "source": [
    "df = explore.early_failure(df,1.6)"
   ]
  },
  {
   "cell_type": "code",
   "execution_count": 13,
   "metadata": {},
   "outputs": [
    {
     "name": "stdout",
     "output_type": "stream",
     "text": [
      "<class 'pandas.core.frame.DataFrame'>\n",
      "Int64Index: 161830 entries, 0 to 169067\n",
      "Data columns (total 12 columns):\n",
      "serial_number                    161830 non-null object\n",
      "manufacturer                     161830 non-null object\n",
      "model                            161830 non-null object\n",
      "capacity_terabytes               161830 non-null float64\n",
      "failure                          161830 non-null int64\n",
      "drive_age_in_years               161830 non-null float64\n",
      "reallocated_sectors_count        161830 non-null float64\n",
      "reported_uncorrectable_errors    161830 non-null float64\n",
      "command_timeout                  161830 non-null float64\n",
      "current_pending_sector_count     161830 non-null float64\n",
      "uncorrectable_sector_count       161830 non-null float64\n",
      "early_failure                    161830 non-null int64\n",
      "dtypes: float64(7), int64(2), object(3)\n",
      "memory usage: 16.1+ MB\n"
     ]
    }
   ],
   "source": [
    "df.info()"
   ]
  },
  {
   "cell_type": "markdown",
   "metadata": {},
   "source": [
    "# Keep Only Old & Failed"
   ]
  },
  {
   "cell_type": "code",
   "execution_count": 14,
   "metadata": {},
   "outputs": [],
   "source": [
    "df = explore.old_or_fail(df)"
   ]
  },
  {
   "cell_type": "code",
   "execution_count": 15,
   "metadata": {},
   "outputs": [
    {
     "name": "stdout",
     "output_type": "stream",
     "text": [
      "<class 'pandas.core.frame.DataFrame'>\n",
      "Int64Index: 121902 entries, 0 to 168960\n",
      "Data columns (total 12 columns):\n",
      "serial_number                    121902 non-null object\n",
      "manufacturer                     121902 non-null object\n",
      "model                            121902 non-null object\n",
      "capacity_terabytes               121902 non-null float64\n",
      "failure                          121902 non-null int64\n",
      "drive_age_in_years               121902 non-null float64\n",
      "reallocated_sectors_count        121902 non-null float64\n",
      "reported_uncorrectable_errors    121902 non-null float64\n",
      "command_timeout                  121902 non-null float64\n",
      "current_pending_sector_count     121902 non-null float64\n",
      "uncorrectable_sector_count       121902 non-null float64\n",
      "early_failure                    121902 non-null int64\n",
      "dtypes: float64(7), int64(2), object(3)\n",
      "memory usage: 12.1+ MB\n"
     ]
    }
   ],
   "source": [
    "df.info()"
   ]
  },
  {
   "cell_type": "markdown",
   "metadata": {},
   "source": [
    "# SMART ---> Bool"
   ]
  },
  {
   "cell_type": "code",
   "execution_count": 16,
   "metadata": {},
   "outputs": [],
   "source": [
    "df = explore.make_binary_values(df)"
   ]
  },
  {
   "cell_type": "code",
   "execution_count": 17,
   "metadata": {},
   "outputs": [
    {
     "name": "stdout",
     "output_type": "stream",
     "text": [
      "<class 'pandas.core.frame.DataFrame'>\n",
      "Int64Index: 121902 entries, 0 to 168960\n",
      "Data columns (total 17 columns):\n",
      "serial_number                    121902 non-null object\n",
      "manufacturer                     121902 non-null object\n",
      "model                            121902 non-null object\n",
      "capacity_terabytes               121902 non-null float64\n",
      "failure                          121902 non-null int64\n",
      "drive_age_in_years               121902 non-null float64\n",
      "reallocated_sectors_count        121902 non-null float64\n",
      "reported_uncorrectable_errors    121902 non-null float64\n",
      "command_timeout                  121902 non-null float64\n",
      "current_pending_sector_count     121902 non-null float64\n",
      "uncorrectable_sector_count       121902 non-null float64\n",
      "early_failure                    121902 non-null int64\n",
      "smart_5_nonzero                  121902 non-null bool\n",
      "smart_187_nonzero                121902 non-null bool\n",
      "smart_188_nonzero                121902 non-null bool\n",
      "smart_197_nonzero                121902 non-null bool\n",
      "smart_198_nonzero                121902 non-null bool\n",
      "dtypes: bool(5), float64(7), int64(2), object(3)\n",
      "memory usage: 12.7+ MB\n"
     ]
    }
   ],
   "source": [
    "df.info()"
   ]
  },
  {
   "cell_type": "markdown",
   "metadata": {},
   "source": [
    "# Remove Manufacturers"
   ]
  },
  {
   "cell_type": "code",
   "execution_count": 18,
   "metadata": {},
   "outputs": [],
   "source": [
    "df = explore.remove_manufacturers(df)"
   ]
  },
  {
   "cell_type": "markdown",
   "metadata": {},
   "source": [
    "# Split Data"
   ]
  },
  {
   "cell_type": "code",
   "execution_count": 230,
   "metadata": {},
   "outputs": [
    {
     "name": "stdout",
     "output_type": "stream",
     "text": [
      "<class 'pandas.core.frame.DataFrame'>\n",
      "Int64Index: 121900 entries, 0 to 168960\n",
      "Data columns (total 17 columns):\n",
      "serial_number                    121900 non-null object\n",
      "manufacturer                     121900 non-null object\n",
      "model                            121900 non-null object\n",
      "capacity_terabytes               121900 non-null float64\n",
      "failure                          121900 non-null int64\n",
      "drive_age_in_years               121900 non-null float64\n",
      "reallocated_sectors_count        121900 non-null float64\n",
      "reported_uncorrectable_errors    121900 non-null float64\n",
      "command_timeout                  121900 non-null float64\n",
      "current_pending_sector_count     121900 non-null float64\n",
      "uncorrectable_sector_count       121900 non-null float64\n",
      "early_failure                    121900 non-null int64\n",
      "smart_5_nonzero                  121900 non-null bool\n",
      "smart_187_nonzero                121900 non-null bool\n",
      "smart_188_nonzero                121900 non-null bool\n",
      "smart_197_nonzero                121900 non-null bool\n",
      "smart_198_nonzero                121900 non-null bool\n",
      "dtypes: bool(5), float64(7), int64(2), object(3)\n",
      "memory usage: 17.7+ MB\n"
     ]
    }
   ],
   "source": [
    "df.info()"
   ]
  },
  {
   "cell_type": "code",
   "execution_count": 184,
   "metadata": {},
   "outputs": [],
   "source": [
    "def encode_hot_X(train, col_name):\n",
    "    encoded_values = sorted(list(train[col_name].unique()))\n",
    "\n",
    "    # Integer Encoding\n",
    "    int_encoder = LabelEncoder()\n",
    "    train.encoded = int_encoder.fit_transform(train[col_name])\n",
    "#     test.encoded = int_encoder.transform(test[col_name])\n",
    "\n",
    "    # create 2D np arrays of the encoded variable (in train and test)\n",
    "    train_array = np.array(train.encoded).reshape(len(train.encoded),1)\n",
    "#     test_array = np.array(test.encoded).reshape(len(test.encoded),1)\n",
    "\n",
    "    # One Hot Encoding\n",
    "    ohe = OneHotEncoder(sparse=False, categories='auto')\n",
    "    train_ohe = ohe.fit_transform(train_array)\n",
    "#     test_ohe = ohe.transform(test_array)\n",
    "\n",
    "    # Turn the array of new values into a data frame with columns names being the values\n",
    "    # and index matching that of train/test\n",
    "    # then merge the new dataframe with the existing train/test dataframe\n",
    "    train_encoded = pd.DataFrame(data=train_ohe, columns=encoded_values, index=train.index)\n",
    "    train = train.join(train_encoded)\n",
    "\n",
    "#     test_encoded = pd.DataFrame(data=test_ohe, columns=encoded_values, index=test.index)\n",
    "#     test = test.join(test_encoded)\n",
    "\n",
    "    return train"
   ]
  },
  {
   "cell_type": "code",
   "execution_count": 186,
   "metadata": {},
   "outputs": [],
   "source": [
    "df_1 = encode_hot_X(df, col_name= \"model\")"
   ]
  },
  {
   "cell_type": "code",
   "execution_count": 170,
   "metadata": {},
   "outputs": [],
   "source": [
    "def split_my_data(df):\n",
    "    X = df.drop(columns = ['serial_number', 'failure', 'model', 'early_failure', 'drive_age_in_years', 'reallocated_sectors_count', 'reported_uncorrectable_errors', 'command_timeout', 'current_pending_sector_count', 'uncorrectable_sector_count'])\n",
    "    y = df[['early_failure']]\n",
    "    X_train, X_test, y_train, y_test = train_test_split(X, y, train_size = .80, random_state = 123, stratify=df.early_failure)\n",
    "    return X, y, X_train, X_test, y_train, y_test"
   ]
  },
  {
   "cell_type": "code",
   "execution_count": 187,
   "metadata": {},
   "outputs": [],
   "source": [
    "X, y, X_train, X_test, y_train, y_test = split_my_data(df_1)"
   ]
  },
  {
   "cell_type": "code",
   "execution_count": 188,
   "metadata": {},
   "outputs": [
    {
     "data": {
      "text/plain": [
       "(97520, 97520, 24380, 24380)"
      ]
     },
     "execution_count": 188,
     "metadata": {},
     "output_type": "execute_result"
    }
   ],
   "source": [
    "len(X_train), len(y_train), len(X_test), len(y_test)"
   ]
  },
  {
   "cell_type": "code",
   "execution_count": 189,
   "metadata": {},
   "outputs": [
    {
     "data": {
      "text/plain": [
       "Index(['manufacturer', 'model', 'capacity_terabytes', 'smart_5_nonzero',\n",
       "       'smart_187_nonzero', 'smart_188_nonzero', 'smart_197_nonzero',\n",
       "       'smart_198_nonzero', 'HGST HDS5C4040ALE630', 'HGST HDS724040ALE640',\n",
       "       'HGST HMS5C4040ALE640', 'HGST HMS5C4040BLE640', 'HGST HUH721212ALE600',\n",
       "       'HGST HUH721212ALN604', 'HGST HUH728080ALE600', 'HGST HUS726040ALE610',\n",
       "       'Hitachi HDS5C3030ALA630', 'Hitachi HDS5C3030BLE630',\n",
       "       'Hitachi HDS5C4040ALE630', 'Hitachi HDS722020ALA330',\n",
       "       'Hitachi HDS723020BLA642', 'Hitachi HDS723030ALA640',\n",
       "       'Hitachi HDS723030BLE640', 'Hitachi HDS724040ALE640',\n",
       "       'Hitachi HDT725025VLA380', 'ST10000NM0086', 'ST1000LM024 HN',\n",
       "       'ST12000NM0007', 'ST12000NM0117', 'ST2000VN000', 'ST250LM004 HN',\n",
       "       'ST250LT007', 'ST31500341AS', 'ST31500541AS', 'ST3160316AS',\n",
       "       'ST3160318AS', 'ST320LT007', 'ST33000651AS', 'ST3500320AS',\n",
       "       'ST4000DM000', 'ST4000DM001', 'ST4000DM005', 'ST4000DX000',\n",
       "       'ST4000DX002', 'ST500LM012 HN', 'ST500LM030', 'ST6000DM001',\n",
       "       'ST6000DX000', 'ST8000DM002', 'ST8000DM004', 'ST8000DM005',\n",
       "       'ST8000NM0055', 'ST9250315AS', 'ST9320325AS', 'TOSHIBA DT01ACA300',\n",
       "       'TOSHIBA HDWF180', 'TOSHIBA MD04ABA400V', 'TOSHIBA MD04ABA500V',\n",
       "       'TOSHIBA MG07ACA14TA', 'TOSHIBA MQ01ABF050', 'TOSHIBA MQ01ABF050M',\n",
       "       'WDC WD1000FYPS', 'WDC WD1001FALS', 'WDC WD10EACS', 'WDC WD10EADS',\n",
       "       'WDC WD10EADX', 'WDC WD10EALS', 'WDC WD10EARS', 'WDC WD10EARX',\n",
       "       'WDC WD15EARS', 'WDC WD1600AAJB', 'WDC WD1600AAJS', 'WDC WD1600BPVT',\n",
       "       'WDC WD20EFRX', 'WDC WD2500AAJB', 'WDC WD2500AAJS', 'WDC WD2500BEVT',\n",
       "       'WDC WD2500BPVT', 'WDC WD30EFRX', 'WDC WD3200AAJB', 'WDC WD3200AAJS',\n",
       "       'WDC WD3200AAKS', 'WDC WD3200BEKT', 'WDC WD3200BEKX', 'WDC WD3200LPVX',\n",
       "       'WDC WD40EFRX', 'WDC WD5000BPKT', 'WDC WD5000LPCX', 'WDC WD5000LPVX',\n",
       "       'WDC WD5002ABYS', 'WDC WD5003ABYX', 'WDC WD60EFRX', 'WDC WD800AAJB',\n",
       "       'WDC WD800AAJS', 'WDC WD800BB', 'WDC WD800JB', 'WDC WD800JD',\n",
       "       'WDC WD800LB'],\n",
       "      dtype='object')"
      ]
     },
     "execution_count": 189,
     "metadata": {},
     "output_type": "execute_result"
    }
   ],
   "source": [
    "X.columns"
   ]
  },
  {
   "cell_type": "code",
   "execution_count": 190,
   "metadata": {
    "scrolled": true
   },
   "outputs": [
    {
     "data": {
      "text/plain": [
       "Index(['manufacturer', 'model', 'capacity_terabytes', 'smart_5_nonzero',\n",
       "       'smart_187_nonzero', 'smart_188_nonzero', 'smart_197_nonzero',\n",
       "       'smart_198_nonzero', 'HGST HDS5C4040ALE630', 'HGST HDS724040ALE640',\n",
       "       'HGST HMS5C4040ALE640', 'HGST HMS5C4040BLE640', 'HGST HUH721212ALE600',\n",
       "       'HGST HUH721212ALN604', 'HGST HUH728080ALE600', 'HGST HUS726040ALE610',\n",
       "       'Hitachi HDS5C3030ALA630', 'Hitachi HDS5C3030BLE630',\n",
       "       'Hitachi HDS5C4040ALE630', 'Hitachi HDS722020ALA330',\n",
       "       'Hitachi HDS723020BLA642', 'Hitachi HDS723030ALA640',\n",
       "       'Hitachi HDS723030BLE640', 'Hitachi HDS724040ALE640',\n",
       "       'Hitachi HDT725025VLA380', 'ST10000NM0086', 'ST1000LM024 HN',\n",
       "       'ST12000NM0007', 'ST12000NM0117', 'ST2000VN000', 'ST250LM004 HN',\n",
       "       'ST250LT007', 'ST31500341AS', 'ST31500541AS', 'ST3160316AS',\n",
       "       'ST3160318AS', 'ST320LT007', 'ST33000651AS', 'ST3500320AS',\n",
       "       'ST4000DM000', 'ST4000DM001', 'ST4000DM005', 'ST4000DX000',\n",
       "       'ST4000DX002', 'ST500LM012 HN', 'ST500LM030', 'ST6000DM001',\n",
       "       'ST6000DX000', 'ST8000DM002', 'ST8000DM004', 'ST8000DM005',\n",
       "       'ST8000NM0055', 'ST9250315AS', 'ST9320325AS', 'TOSHIBA DT01ACA300',\n",
       "       'TOSHIBA HDWF180', 'TOSHIBA MD04ABA400V', 'TOSHIBA MD04ABA500V',\n",
       "       'TOSHIBA MG07ACA14TA', 'TOSHIBA MQ01ABF050', 'TOSHIBA MQ01ABF050M',\n",
       "       'WDC WD1000FYPS', 'WDC WD1001FALS', 'WDC WD10EACS', 'WDC WD10EADS',\n",
       "       'WDC WD10EADX', 'WDC WD10EALS', 'WDC WD10EARS', 'WDC WD10EARX',\n",
       "       'WDC WD15EARS', 'WDC WD1600AAJB', 'WDC WD1600AAJS', 'WDC WD1600BPVT',\n",
       "       'WDC WD20EFRX', 'WDC WD2500AAJB', 'WDC WD2500AAJS', 'WDC WD2500BEVT',\n",
       "       'WDC WD2500BPVT', 'WDC WD30EFRX', 'WDC WD3200AAJB', 'WDC WD3200AAJS',\n",
       "       'WDC WD3200AAKS', 'WDC WD3200BEKT', 'WDC WD3200BEKX', 'WDC WD3200LPVX',\n",
       "       'WDC WD40EFRX', 'WDC WD5000BPKT', 'WDC WD5000LPCX', 'WDC WD5000LPVX',\n",
       "       'WDC WD5002ABYS', 'WDC WD5003ABYX', 'WDC WD60EFRX', 'WDC WD800AAJB',\n",
       "       'WDC WD800AAJS', 'WDC WD800BB', 'WDC WD800JB', 'WDC WD800JD',\n",
       "       'WDC WD800LB'],\n",
       "      dtype='object')"
      ]
     },
     "execution_count": 190,
     "metadata": {},
     "output_type": "execute_result"
    }
   ],
   "source": [
    "X_train.columns"
   ]
  },
  {
   "cell_type": "markdown",
   "metadata": {},
   "source": [
    "# Encode"
   ]
  },
  {
   "cell_type": "code",
   "execution_count": 191,
   "metadata": {},
   "outputs": [],
   "source": [
    "X_train, X_test = model.encode_hot(X_train, X_test, col_name = 'manufacturer')"
   ]
  },
  {
   "cell_type": "code",
   "execution_count": 192,
   "metadata": {},
   "outputs": [],
   "source": [
    "X_train = X_train.drop(columns = 'manufacturer')"
   ]
  },
  {
   "cell_type": "code",
   "execution_count": 193,
   "metadata": {},
   "outputs": [],
   "source": [
    "X_test = X_test.drop(columns = 'manufacturer')"
   ]
  },
  {
   "cell_type": "code",
   "execution_count": 194,
   "metadata": {},
   "outputs": [
    {
     "data": {
      "text/html": [
       "<div>\n",
       "<style scoped>\n",
       "    .dataframe tbody tr th:only-of-type {\n",
       "        vertical-align: middle;\n",
       "    }\n",
       "\n",
       "    .dataframe tbody tr th {\n",
       "        vertical-align: top;\n",
       "    }\n",
       "\n",
       "    .dataframe thead th {\n",
       "        text-align: right;\n",
       "    }\n",
       "</style>\n",
       "<table border=\"1\" class=\"dataframe\">\n",
       "  <thead>\n",
       "    <tr style=\"text-align: right;\">\n",
       "      <th></th>\n",
       "      <th>model</th>\n",
       "      <th>capacity_terabytes</th>\n",
       "      <th>smart_5_nonzero</th>\n",
       "      <th>smart_187_nonzero</th>\n",
       "      <th>smart_188_nonzero</th>\n",
       "      <th>smart_197_nonzero</th>\n",
       "      <th>smart_198_nonzero</th>\n",
       "      <th>HGST HDS5C4040ALE630</th>\n",
       "      <th>HGST HDS724040ALE640</th>\n",
       "      <th>HGST HMS5C4040ALE640</th>\n",
       "      <th>...</th>\n",
       "      <th>WDC WD800AAJB</th>\n",
       "      <th>WDC WD800AAJS</th>\n",
       "      <th>WDC WD800BB</th>\n",
       "      <th>WDC WD800JB</th>\n",
       "      <th>WDC WD800JD</th>\n",
       "      <th>WDC WD800LB</th>\n",
       "      <th>Hitachi</th>\n",
       "      <th>Seagate</th>\n",
       "      <th>Toshiba</th>\n",
       "      <th>Western Digital</th>\n",
       "    </tr>\n",
       "  </thead>\n",
       "  <tbody>\n",
       "    <tr>\n",
       "      <th>116194</th>\n",
       "      <td>ST8000NM0055</td>\n",
       "      <td>8.0</td>\n",
       "      <td>False</td>\n",
       "      <td>False</td>\n",
       "      <td>False</td>\n",
       "      <td>False</td>\n",
       "      <td>False</td>\n",
       "      <td>0.0</td>\n",
       "      <td>0.0</td>\n",
       "      <td>0.0</td>\n",
       "      <td>...</td>\n",
       "      <td>0.0</td>\n",
       "      <td>0.0</td>\n",
       "      <td>0.0</td>\n",
       "      <td>0.0</td>\n",
       "      <td>0.0</td>\n",
       "      <td>0.0</td>\n",
       "      <td>0.0</td>\n",
       "      <td>1.0</td>\n",
       "      <td>0.0</td>\n",
       "      <td>0.0</td>\n",
       "    </tr>\n",
       "    <tr>\n",
       "      <th>142942</th>\n",
       "      <td>ST4000DM000</td>\n",
       "      <td>4.0</td>\n",
       "      <td>False</td>\n",
       "      <td>False</td>\n",
       "      <td>False</td>\n",
       "      <td>False</td>\n",
       "      <td>False</td>\n",
       "      <td>0.0</td>\n",
       "      <td>0.0</td>\n",
       "      <td>0.0</td>\n",
       "      <td>...</td>\n",
       "      <td>0.0</td>\n",
       "      <td>0.0</td>\n",
       "      <td>0.0</td>\n",
       "      <td>0.0</td>\n",
       "      <td>0.0</td>\n",
       "      <td>0.0</td>\n",
       "      <td>0.0</td>\n",
       "      <td>1.0</td>\n",
       "      <td>0.0</td>\n",
       "      <td>0.0</td>\n",
       "    </tr>\n",
       "    <tr>\n",
       "      <th>97790</th>\n",
       "      <td>ST12000NM0007</td>\n",
       "      <td>12.0</td>\n",
       "      <td>False</td>\n",
       "      <td>False</td>\n",
       "      <td>False</td>\n",
       "      <td>False</td>\n",
       "      <td>False</td>\n",
       "      <td>0.0</td>\n",
       "      <td>0.0</td>\n",
       "      <td>0.0</td>\n",
       "      <td>...</td>\n",
       "      <td>0.0</td>\n",
       "      <td>0.0</td>\n",
       "      <td>0.0</td>\n",
       "      <td>0.0</td>\n",
       "      <td>0.0</td>\n",
       "      <td>0.0</td>\n",
       "      <td>0.0</td>\n",
       "      <td>1.0</td>\n",
       "      <td>0.0</td>\n",
       "      <td>0.0</td>\n",
       "    </tr>\n",
       "    <tr>\n",
       "      <th>125503</th>\n",
       "      <td>ST12000NM0007</td>\n",
       "      <td>12.0</td>\n",
       "      <td>False</td>\n",
       "      <td>False</td>\n",
       "      <td>False</td>\n",
       "      <td>False</td>\n",
       "      <td>False</td>\n",
       "      <td>0.0</td>\n",
       "      <td>0.0</td>\n",
       "      <td>0.0</td>\n",
       "      <td>...</td>\n",
       "      <td>0.0</td>\n",
       "      <td>0.0</td>\n",
       "      <td>0.0</td>\n",
       "      <td>0.0</td>\n",
       "      <td>0.0</td>\n",
       "      <td>0.0</td>\n",
       "      <td>0.0</td>\n",
       "      <td>1.0</td>\n",
       "      <td>0.0</td>\n",
       "      <td>0.0</td>\n",
       "    </tr>\n",
       "    <tr>\n",
       "      <th>162599</th>\n",
       "      <td>ST6000DX000</td>\n",
       "      <td>6.0</td>\n",
       "      <td>False</td>\n",
       "      <td>False</td>\n",
       "      <td>False</td>\n",
       "      <td>False</td>\n",
       "      <td>False</td>\n",
       "      <td>0.0</td>\n",
       "      <td>0.0</td>\n",
       "      <td>0.0</td>\n",
       "      <td>...</td>\n",
       "      <td>0.0</td>\n",
       "      <td>0.0</td>\n",
       "      <td>0.0</td>\n",
       "      <td>0.0</td>\n",
       "      <td>0.0</td>\n",
       "      <td>0.0</td>\n",
       "      <td>0.0</td>\n",
       "      <td>1.0</td>\n",
       "      <td>0.0</td>\n",
       "      <td>0.0</td>\n",
       "    </tr>\n",
       "  </tbody>\n",
       "</table>\n",
       "<p>5 rows × 101 columns</p>\n",
       "</div>"
      ],
      "text/plain": [
       "                model  capacity_terabytes  smart_5_nonzero  smart_187_nonzero  \\\n",
       "116194   ST8000NM0055                 8.0            False              False   \n",
       "142942    ST4000DM000                 4.0            False              False   \n",
       "97790   ST12000NM0007                12.0            False              False   \n",
       "125503  ST12000NM0007                12.0            False              False   \n",
       "162599    ST6000DX000                 6.0            False              False   \n",
       "\n",
       "        smart_188_nonzero  smart_197_nonzero  smart_198_nonzero  \\\n",
       "116194              False              False              False   \n",
       "142942              False              False              False   \n",
       "97790               False              False              False   \n",
       "125503              False              False              False   \n",
       "162599              False              False              False   \n",
       "\n",
       "        HGST HDS5C4040ALE630  HGST HDS724040ALE640  HGST HMS5C4040ALE640  ...  \\\n",
       "116194                   0.0                   0.0                   0.0  ...   \n",
       "142942                   0.0                   0.0                   0.0  ...   \n",
       "97790                    0.0                   0.0                   0.0  ...   \n",
       "125503                   0.0                   0.0                   0.0  ...   \n",
       "162599                   0.0                   0.0                   0.0  ...   \n",
       "\n",
       "        WDC WD800AAJB  WDC WD800AAJS  WDC WD800BB  WDC WD800JB  WDC WD800JD  \\\n",
       "116194            0.0            0.0          0.0          0.0          0.0   \n",
       "142942            0.0            0.0          0.0          0.0          0.0   \n",
       "97790             0.0            0.0          0.0          0.0          0.0   \n",
       "125503            0.0            0.0          0.0          0.0          0.0   \n",
       "162599            0.0            0.0          0.0          0.0          0.0   \n",
       "\n",
       "        WDC WD800LB  Hitachi  Seagate  Toshiba  Western Digital  \n",
       "116194          0.0      0.0      1.0      0.0              0.0  \n",
       "142942          0.0      0.0      1.0      0.0              0.0  \n",
       "97790           0.0      0.0      1.0      0.0              0.0  \n",
       "125503          0.0      0.0      1.0      0.0              0.0  \n",
       "162599          0.0      0.0      1.0      0.0              0.0  \n",
       "\n",
       "[5 rows x 101 columns]"
      ]
     },
     "execution_count": 194,
     "metadata": {},
     "output_type": "execute_result"
    }
   ],
   "source": [
    "X_train.head()"
   ]
  },
  {
   "cell_type": "code",
   "execution_count": 199,
   "metadata": {},
   "outputs": [
    {
     "data": {
      "text/plain": [
       "Index(['capacity_terabytes', 'smart_5_nonzero', 'smart_187_nonzero',\n",
       "       'smart_188_nonzero', 'smart_197_nonzero', 'smart_198_nonzero',\n",
       "       'HGST HDS5C4040ALE630', 'HGST HDS724040ALE640', 'HGST HMS5C4040ALE640',\n",
       "       'HGST HMS5C4040BLE640', 'HGST HUH721212ALE600', 'HGST HUH721212ALN604',\n",
       "       'HGST HUH728080ALE600', 'HGST HUS726040ALE610',\n",
       "       'Hitachi HDS5C3030ALA630', 'Hitachi HDS5C3030BLE630',\n",
       "       'Hitachi HDS5C4040ALE630', 'Hitachi HDS722020ALA330',\n",
       "       'Hitachi HDS723020BLA642', 'Hitachi HDS723030ALA640',\n",
       "       'Hitachi HDS723030BLE640', 'Hitachi HDS724040ALE640',\n",
       "       'Hitachi HDT725025VLA380', 'ST10000NM0086', 'ST1000LM024 HN',\n",
       "       'ST12000NM0007', 'ST12000NM0117', 'ST2000VN000', 'ST250LM004 HN',\n",
       "       'ST250LT007', 'ST31500341AS', 'ST31500541AS', 'ST3160316AS',\n",
       "       'ST3160318AS', 'ST320LT007', 'ST33000651AS', 'ST3500320AS',\n",
       "       'ST4000DM000', 'ST4000DM001', 'ST4000DM005', 'ST4000DX000',\n",
       "       'ST4000DX002', 'ST500LM012 HN', 'ST500LM030', 'ST6000DM001',\n",
       "       'ST6000DX000', 'ST8000DM002', 'ST8000DM004', 'ST8000DM005',\n",
       "       'ST8000NM0055', 'ST9250315AS', 'ST9320325AS', 'TOSHIBA DT01ACA300',\n",
       "       'TOSHIBA HDWF180', 'TOSHIBA MD04ABA400V', 'TOSHIBA MD04ABA500V',\n",
       "       'TOSHIBA MG07ACA14TA', 'TOSHIBA MQ01ABF050', 'TOSHIBA MQ01ABF050M',\n",
       "       'WDC WD1000FYPS', 'WDC WD1001FALS', 'WDC WD10EACS', 'WDC WD10EADS',\n",
       "       'WDC WD10EADX', 'WDC WD10EALS', 'WDC WD10EARS', 'WDC WD10EARX',\n",
       "       'WDC WD15EARS', 'WDC WD1600AAJB', 'WDC WD1600AAJS', 'WDC WD1600BPVT',\n",
       "       'WDC WD20EFRX', 'WDC WD2500AAJB', 'WDC WD2500AAJS', 'WDC WD2500BEVT',\n",
       "       'WDC WD2500BPVT', 'WDC WD30EFRX', 'WDC WD3200AAJB', 'WDC WD3200AAJS',\n",
       "       'WDC WD3200AAKS', 'WDC WD3200BEKT', 'WDC WD3200BEKX', 'WDC WD3200LPVX',\n",
       "       'WDC WD40EFRX', 'WDC WD5000BPKT', 'WDC WD5000LPCX', 'WDC WD5000LPVX',\n",
       "       'WDC WD5002ABYS', 'WDC WD5003ABYX', 'WDC WD60EFRX', 'WDC WD800AAJB',\n",
       "       'WDC WD800AAJS', 'WDC WD800BB', 'WDC WD800JB', 'WDC WD800JD',\n",
       "       'WDC WD800LB', 'Hitachi', 'Seagate', 'Toshiba', 'Western Digital'],\n",
       "      dtype='object')"
      ]
     },
     "execution_count": 199,
     "metadata": {},
     "output_type": "execute_result"
    }
   ],
   "source": [
    "X_train.columns"
   ]
  },
  {
   "cell_type": "code",
   "execution_count": 196,
   "metadata": {},
   "outputs": [],
   "source": [
    "X_train = X_train.drop(columns = 'model')"
   ]
  },
  {
   "cell_type": "code",
   "execution_count": 197,
   "metadata": {},
   "outputs": [],
   "source": [
    "X_test = X_test.drop(columns = 'model')"
   ]
  },
  {
   "cell_type": "code",
   "execution_count": 207,
   "metadata": {},
   "outputs": [],
   "source": [
    "X_train = X_train.drop(columns = 'capacity_terabytes')"
   ]
  },
  {
   "cell_type": "code",
   "execution_count": 208,
   "metadata": {},
   "outputs": [],
   "source": [
    "X_test = X_test.drop(columns = 'capacity_terabytes')"
   ]
  },
  {
   "cell_type": "code",
   "execution_count": 209,
   "metadata": {},
   "outputs": [
    {
     "name": "stdout",
     "output_type": "stream",
     "text": [
      "(97520, 99) (24380, 99) (97520, 1) (24380, 1)\n"
     ]
    }
   ],
   "source": [
    "print(X_train.shape, X_test.shape, y_train.shape, y_test.shape)"
   ]
  },
  {
   "cell_type": "markdown",
   "metadata": {},
   "source": [
    "# Modeling - SVM"
   ]
  },
  {
   "cell_type": "markdown",
   "metadata": {},
   "source": [
    "#### Training the Algorithm\n",
    "\n",
    "The fit method of SVC class is called to train the algorithm on the training data, which is passed as a parameter to the fit method."
   ]
  },
  {
   "cell_type": "code",
   "execution_count": 78,
   "metadata": {},
   "outputs": [
    {
     "data": {
      "text/plain": [
       "SVC(C=1.0, cache_size=200, class_weight=None, coef0=0.0,\n",
       "    decision_function_shape='ovr', degree=3, gamma='auto_deprecated',\n",
       "    kernel='linear', max_iter=-1, probability=True, random_state=None,\n",
       "    shrinking=True, tol=0.001, verbose=False)"
      ]
     },
     "execution_count": 78,
     "metadata": {},
     "output_type": "execute_result"
    }
   ],
   "source": [
    "from sklearn.svm import SVC\n",
    "svclassifier = SVC(kernel='linear', probability = True)\n",
    "svclassifier.fit(X_train, y_train)"
   ]
  },
  {
   "cell_type": "markdown",
   "metadata": {},
   "source": [
    "#### Making Predictions\n",
    "\n",
    "To make predictions, the predict method of the SVC class is used."
   ]
  },
  {
   "cell_type": "code",
   "execution_count": 79,
   "metadata": {},
   "outputs": [
    {
     "data": {
      "text/plain": [
       "array([0, 0, 0, ..., 0, 0, 0])"
      ]
     },
     "execution_count": 79,
     "metadata": {},
     "output_type": "execute_result"
    }
   ],
   "source": [
    "y_pred = svclassifier.predict(X_test)\n",
    "y_pred"
   ]
  },
  {
   "cell_type": "code",
   "execution_count": 80,
   "metadata": {},
   "outputs": [
    {
     "data": {
      "text/plain": [
       "array([[0.99125665, 0.00874335],\n",
       "       [0.97302642, 0.02697358],\n",
       "       [0.97302642, 0.02697358],\n",
       "       ...,\n",
       "       [0.99125665, 0.00874335],\n",
       "       [0.97302642, 0.02697358],\n",
       "       [0.99125665, 0.00874335]])"
      ]
     },
     "execution_count": 80,
     "metadata": {},
     "output_type": "execute_result"
    }
   ],
   "source": [
    "y_pred_proba = svclassifier.predict_proba(X_test)\n",
    "y_pred_proba"
   ]
  },
  {
   "cell_type": "code",
   "execution_count": null,
   "metadata": {},
   "outputs": [],
   "source": []
  },
  {
   "cell_type": "code",
   "execution_count": 31,
   "metadata": {},
   "outputs": [],
   "source": [
    "#y_train['prediction'] = y_pred"
   ]
  },
  {
   "cell_type": "code",
   "execution_count": 32,
   "metadata": {},
   "outputs": [],
   "source": [
    "#y_train[\"pred_prob_1\"] = pd.DataFrame(y_pred_proba).iloc[:,1]"
   ]
  },
  {
   "cell_type": "code",
   "execution_count": 33,
   "metadata": {},
   "outputs": [],
   "source": [
    "#y_train [y_train.early_failure == 1].sort_values('pred_prob_1', ascending=False).dropna()"
   ]
  },
  {
   "cell_type": "markdown",
   "metadata": {},
   "source": [
    "#### Evaluating the Algorithm\n",
    "\n",
    "Scikit-Learn's metrics library contains the classification_report and confusion_matrix methods, which can be readily used to find out the values for these important metrics."
   ]
  },
  {
   "cell_type": "code",
   "execution_count": 81,
   "metadata": {},
   "outputs": [
    {
     "name": "stdout",
     "output_type": "stream",
     "text": [
      "[[23860     0]\n",
      " [  520     0]]\n",
      "              precision    recall  f1-score   support\n",
      "\n",
      "           0       0.98      1.00      0.99     23860\n",
      "           1       0.00      0.00      0.00       520\n",
      "\n",
      "    accuracy                           0.98     24380\n",
      "   macro avg       0.49      0.50      0.49     24380\n",
      "weighted avg       0.96      0.98      0.97     24380\n",
      "\n"
     ]
    }
   ],
   "source": [
    "from sklearn.metrics import classification_report, confusion_matrix\n",
    "print(confusion_matrix(y_test,y_pred))\n",
    "print(classification_report(y_test,y_pred))"
   ]
  },
  {
   "cell_type": "markdown",
   "metadata": {},
   "source": [
    "# Drop Terabytes"
   ]
  },
  {
   "cell_type": "code",
   "execution_count": 42,
   "metadata": {},
   "outputs": [
    {
     "data": {
      "text/html": [
       "<div>\n",
       "<style scoped>\n",
       "    .dataframe tbody tr th:only-of-type {\n",
       "        vertical-align: middle;\n",
       "    }\n",
       "\n",
       "    .dataframe tbody tr th {\n",
       "        vertical-align: top;\n",
       "    }\n",
       "\n",
       "    .dataframe thead th {\n",
       "        text-align: right;\n",
       "    }\n",
       "</style>\n",
       "<table border=\"1\" class=\"dataframe\">\n",
       "  <thead>\n",
       "    <tr style=\"text-align: right;\">\n",
       "      <th></th>\n",
       "      <th>smart_5_nonzero</th>\n",
       "      <th>smart_187_nonzero</th>\n",
       "      <th>smart_188_nonzero</th>\n",
       "      <th>smart_197_nonzero</th>\n",
       "      <th>smart_198_nonzero</th>\n",
       "      <th>Hitachi</th>\n",
       "      <th>Seagate</th>\n",
       "      <th>Toshiba</th>\n",
       "      <th>Western Digital</th>\n",
       "    </tr>\n",
       "  </thead>\n",
       "  <tbody>\n",
       "    <tr>\n",
       "      <th>116194</th>\n",
       "      <td>False</td>\n",
       "      <td>False</td>\n",
       "      <td>False</td>\n",
       "      <td>False</td>\n",
       "      <td>False</td>\n",
       "      <td>0.0</td>\n",
       "      <td>1.0</td>\n",
       "      <td>0.0</td>\n",
       "      <td>0.0</td>\n",
       "    </tr>\n",
       "    <tr>\n",
       "      <th>142942</th>\n",
       "      <td>False</td>\n",
       "      <td>False</td>\n",
       "      <td>False</td>\n",
       "      <td>False</td>\n",
       "      <td>False</td>\n",
       "      <td>0.0</td>\n",
       "      <td>1.0</td>\n",
       "      <td>0.0</td>\n",
       "      <td>0.0</td>\n",
       "    </tr>\n",
       "    <tr>\n",
       "      <th>97790</th>\n",
       "      <td>False</td>\n",
       "      <td>False</td>\n",
       "      <td>False</td>\n",
       "      <td>False</td>\n",
       "      <td>False</td>\n",
       "      <td>0.0</td>\n",
       "      <td>1.0</td>\n",
       "      <td>0.0</td>\n",
       "      <td>0.0</td>\n",
       "    </tr>\n",
       "    <tr>\n",
       "      <th>125503</th>\n",
       "      <td>False</td>\n",
       "      <td>False</td>\n",
       "      <td>False</td>\n",
       "      <td>False</td>\n",
       "      <td>False</td>\n",
       "      <td>0.0</td>\n",
       "      <td>1.0</td>\n",
       "      <td>0.0</td>\n",
       "      <td>0.0</td>\n",
       "    </tr>\n",
       "    <tr>\n",
       "      <th>162599</th>\n",
       "      <td>False</td>\n",
       "      <td>False</td>\n",
       "      <td>False</td>\n",
       "      <td>False</td>\n",
       "      <td>False</td>\n",
       "      <td>0.0</td>\n",
       "      <td>1.0</td>\n",
       "      <td>0.0</td>\n",
       "      <td>0.0</td>\n",
       "    </tr>\n",
       "    <tr>\n",
       "      <th>138013</th>\n",
       "      <td>False</td>\n",
       "      <td>False</td>\n",
       "      <td>False</td>\n",
       "      <td>False</td>\n",
       "      <td>False</td>\n",
       "      <td>0.0</td>\n",
       "      <td>1.0</td>\n",
       "      <td>0.0</td>\n",
       "      <td>0.0</td>\n",
       "    </tr>\n",
       "    <tr>\n",
       "      <th>122513</th>\n",
       "      <td>False</td>\n",
       "      <td>False</td>\n",
       "      <td>False</td>\n",
       "      <td>False</td>\n",
       "      <td>False</td>\n",
       "      <td>0.0</td>\n",
       "      <td>1.0</td>\n",
       "      <td>0.0</td>\n",
       "      <td>0.0</td>\n",
       "    </tr>\n",
       "    <tr>\n",
       "      <th>165062</th>\n",
       "      <td>False</td>\n",
       "      <td>False</td>\n",
       "      <td>False</td>\n",
       "      <td>False</td>\n",
       "      <td>False</td>\n",
       "      <td>1.0</td>\n",
       "      <td>0.0</td>\n",
       "      <td>0.0</td>\n",
       "      <td>0.0</td>\n",
       "    </tr>\n",
       "    <tr>\n",
       "      <th>29086</th>\n",
       "      <td>False</td>\n",
       "      <td>False</td>\n",
       "      <td>False</td>\n",
       "      <td>False</td>\n",
       "      <td>False</td>\n",
       "      <td>0.0</td>\n",
       "      <td>1.0</td>\n",
       "      <td>0.0</td>\n",
       "      <td>0.0</td>\n",
       "    </tr>\n",
       "    <tr>\n",
       "      <th>51897</th>\n",
       "      <td>False</td>\n",
       "      <td>False</td>\n",
       "      <td>False</td>\n",
       "      <td>False</td>\n",
       "      <td>False</td>\n",
       "      <td>1.0</td>\n",
       "      <td>0.0</td>\n",
       "      <td>0.0</td>\n",
       "      <td>0.0</td>\n",
       "    </tr>\n",
       "    <tr>\n",
       "      <th>28683</th>\n",
       "      <td>False</td>\n",
       "      <td>False</td>\n",
       "      <td>False</td>\n",
       "      <td>False</td>\n",
       "      <td>False</td>\n",
       "      <td>0.0</td>\n",
       "      <td>1.0</td>\n",
       "      <td>0.0</td>\n",
       "      <td>0.0</td>\n",
       "    </tr>\n",
       "    <tr>\n",
       "      <th>118014</th>\n",
       "      <td>False</td>\n",
       "      <td>False</td>\n",
       "      <td>False</td>\n",
       "      <td>False</td>\n",
       "      <td>False</td>\n",
       "      <td>0.0</td>\n",
       "      <td>1.0</td>\n",
       "      <td>0.0</td>\n",
       "      <td>0.0</td>\n",
       "    </tr>\n",
       "    <tr>\n",
       "      <th>122847</th>\n",
       "      <td>False</td>\n",
       "      <td>False</td>\n",
       "      <td>False</td>\n",
       "      <td>False</td>\n",
       "      <td>False</td>\n",
       "      <td>1.0</td>\n",
       "      <td>0.0</td>\n",
       "      <td>0.0</td>\n",
       "      <td>0.0</td>\n",
       "    </tr>\n",
       "    <tr>\n",
       "      <th>56679</th>\n",
       "      <td>False</td>\n",
       "      <td>False</td>\n",
       "      <td>False</td>\n",
       "      <td>False</td>\n",
       "      <td>False</td>\n",
       "      <td>1.0</td>\n",
       "      <td>0.0</td>\n",
       "      <td>0.0</td>\n",
       "      <td>0.0</td>\n",
       "    </tr>\n",
       "    <tr>\n",
       "      <th>149234</th>\n",
       "      <td>False</td>\n",
       "      <td>False</td>\n",
       "      <td>False</td>\n",
       "      <td>False</td>\n",
       "      <td>False</td>\n",
       "      <td>1.0</td>\n",
       "      <td>0.0</td>\n",
       "      <td>0.0</td>\n",
       "      <td>0.0</td>\n",
       "    </tr>\n",
       "    <tr>\n",
       "      <th>148210</th>\n",
       "      <td>False</td>\n",
       "      <td>False</td>\n",
       "      <td>False</td>\n",
       "      <td>False</td>\n",
       "      <td>False</td>\n",
       "      <td>1.0</td>\n",
       "      <td>0.0</td>\n",
       "      <td>0.0</td>\n",
       "      <td>0.0</td>\n",
       "    </tr>\n",
       "    <tr>\n",
       "      <th>86347</th>\n",
       "      <td>False</td>\n",
       "      <td>False</td>\n",
       "      <td>False</td>\n",
       "      <td>False</td>\n",
       "      <td>False</td>\n",
       "      <td>0.0</td>\n",
       "      <td>0.0</td>\n",
       "      <td>0.0</td>\n",
       "      <td>1.0</td>\n",
       "    </tr>\n",
       "    <tr>\n",
       "      <th>156925</th>\n",
       "      <td>False</td>\n",
       "      <td>False</td>\n",
       "      <td>False</td>\n",
       "      <td>False</td>\n",
       "      <td>False</td>\n",
       "      <td>0.0</td>\n",
       "      <td>1.0</td>\n",
       "      <td>0.0</td>\n",
       "      <td>0.0</td>\n",
       "    </tr>\n",
       "    <tr>\n",
       "      <th>61964</th>\n",
       "      <td>False</td>\n",
       "      <td>False</td>\n",
       "      <td>False</td>\n",
       "      <td>False</td>\n",
       "      <td>False</td>\n",
       "      <td>1.0</td>\n",
       "      <td>0.0</td>\n",
       "      <td>0.0</td>\n",
       "      <td>0.0</td>\n",
       "    </tr>\n",
       "    <tr>\n",
       "      <th>110293</th>\n",
       "      <td>False</td>\n",
       "      <td>False</td>\n",
       "      <td>False</td>\n",
       "      <td>False</td>\n",
       "      <td>False</td>\n",
       "      <td>1.0</td>\n",
       "      <td>0.0</td>\n",
       "      <td>0.0</td>\n",
       "      <td>0.0</td>\n",
       "    </tr>\n",
       "    <tr>\n",
       "      <th>117683</th>\n",
       "      <td>False</td>\n",
       "      <td>False</td>\n",
       "      <td>False</td>\n",
       "      <td>False</td>\n",
       "      <td>False</td>\n",
       "      <td>1.0</td>\n",
       "      <td>0.0</td>\n",
       "      <td>0.0</td>\n",
       "      <td>0.0</td>\n",
       "    </tr>\n",
       "    <tr>\n",
       "      <th>141686</th>\n",
       "      <td>False</td>\n",
       "      <td>False</td>\n",
       "      <td>False</td>\n",
       "      <td>False</td>\n",
       "      <td>False</td>\n",
       "      <td>0.0</td>\n",
       "      <td>1.0</td>\n",
       "      <td>0.0</td>\n",
       "      <td>0.0</td>\n",
       "    </tr>\n",
       "    <tr>\n",
       "      <th>164936</th>\n",
       "      <td>False</td>\n",
       "      <td>False</td>\n",
       "      <td>False</td>\n",
       "      <td>False</td>\n",
       "      <td>False</td>\n",
       "      <td>0.0</td>\n",
       "      <td>1.0</td>\n",
       "      <td>0.0</td>\n",
       "      <td>0.0</td>\n",
       "    </tr>\n",
       "    <tr>\n",
       "      <th>80288</th>\n",
       "      <td>False</td>\n",
       "      <td>False</td>\n",
       "      <td>False</td>\n",
       "      <td>False</td>\n",
       "      <td>False</td>\n",
       "      <td>0.0</td>\n",
       "      <td>1.0</td>\n",
       "      <td>0.0</td>\n",
       "      <td>0.0</td>\n",
       "    </tr>\n",
       "    <tr>\n",
       "      <th>8689</th>\n",
       "      <td>False</td>\n",
       "      <td>False</td>\n",
       "      <td>False</td>\n",
       "      <td>False</td>\n",
       "      <td>False</td>\n",
       "      <td>1.0</td>\n",
       "      <td>0.0</td>\n",
       "      <td>0.0</td>\n",
       "      <td>0.0</td>\n",
       "    </tr>\n",
       "    <tr>\n",
       "      <th>69043</th>\n",
       "      <td>False</td>\n",
       "      <td>False</td>\n",
       "      <td>False</td>\n",
       "      <td>False</td>\n",
       "      <td>False</td>\n",
       "      <td>0.0</td>\n",
       "      <td>1.0</td>\n",
       "      <td>0.0</td>\n",
       "      <td>0.0</td>\n",
       "    </tr>\n",
       "    <tr>\n",
       "      <th>61883</th>\n",
       "      <td>False</td>\n",
       "      <td>False</td>\n",
       "      <td>False</td>\n",
       "      <td>False</td>\n",
       "      <td>False</td>\n",
       "      <td>0.0</td>\n",
       "      <td>1.0</td>\n",
       "      <td>0.0</td>\n",
       "      <td>0.0</td>\n",
       "    </tr>\n",
       "    <tr>\n",
       "      <th>151382</th>\n",
       "      <td>False</td>\n",
       "      <td>False</td>\n",
       "      <td>False</td>\n",
       "      <td>False</td>\n",
       "      <td>False</td>\n",
       "      <td>0.0</td>\n",
       "      <td>1.0</td>\n",
       "      <td>0.0</td>\n",
       "      <td>0.0</td>\n",
       "    </tr>\n",
       "    <tr>\n",
       "      <th>158315</th>\n",
       "      <td>False</td>\n",
       "      <td>False</td>\n",
       "      <td>False</td>\n",
       "      <td>False</td>\n",
       "      <td>False</td>\n",
       "      <td>0.0</td>\n",
       "      <td>1.0</td>\n",
       "      <td>0.0</td>\n",
       "      <td>0.0</td>\n",
       "    </tr>\n",
       "    <tr>\n",
       "      <th>80654</th>\n",
       "      <td>False</td>\n",
       "      <td>False</td>\n",
       "      <td>False</td>\n",
       "      <td>False</td>\n",
       "      <td>False</td>\n",
       "      <td>0.0</td>\n",
       "      <td>1.0</td>\n",
       "      <td>0.0</td>\n",
       "      <td>0.0</td>\n",
       "    </tr>\n",
       "    <tr>\n",
       "      <th>...</th>\n",
       "      <td>...</td>\n",
       "      <td>...</td>\n",
       "      <td>...</td>\n",
       "      <td>...</td>\n",
       "      <td>...</td>\n",
       "      <td>...</td>\n",
       "      <td>...</td>\n",
       "      <td>...</td>\n",
       "      <td>...</td>\n",
       "    </tr>\n",
       "    <tr>\n",
       "      <th>80568</th>\n",
       "      <td>False</td>\n",
       "      <td>False</td>\n",
       "      <td>False</td>\n",
       "      <td>False</td>\n",
       "      <td>False</td>\n",
       "      <td>0.0</td>\n",
       "      <td>1.0</td>\n",
       "      <td>0.0</td>\n",
       "      <td>0.0</td>\n",
       "    </tr>\n",
       "    <tr>\n",
       "      <th>158684</th>\n",
       "      <td>False</td>\n",
       "      <td>False</td>\n",
       "      <td>False</td>\n",
       "      <td>False</td>\n",
       "      <td>False</td>\n",
       "      <td>0.0</td>\n",
       "      <td>1.0</td>\n",
       "      <td>0.0</td>\n",
       "      <td>0.0</td>\n",
       "    </tr>\n",
       "    <tr>\n",
       "      <th>59699</th>\n",
       "      <td>False</td>\n",
       "      <td>False</td>\n",
       "      <td>False</td>\n",
       "      <td>False</td>\n",
       "      <td>False</td>\n",
       "      <td>0.0</td>\n",
       "      <td>1.0</td>\n",
       "      <td>0.0</td>\n",
       "      <td>0.0</td>\n",
       "    </tr>\n",
       "    <tr>\n",
       "      <th>121853</th>\n",
       "      <td>False</td>\n",
       "      <td>False</td>\n",
       "      <td>False</td>\n",
       "      <td>False</td>\n",
       "      <td>False</td>\n",
       "      <td>0.0</td>\n",
       "      <td>1.0</td>\n",
       "      <td>0.0</td>\n",
       "      <td>0.0</td>\n",
       "    </tr>\n",
       "    <tr>\n",
       "      <th>8569</th>\n",
       "      <td>False</td>\n",
       "      <td>False</td>\n",
       "      <td>False</td>\n",
       "      <td>False</td>\n",
       "      <td>False</td>\n",
       "      <td>0.0</td>\n",
       "      <td>1.0</td>\n",
       "      <td>0.0</td>\n",
       "      <td>0.0</td>\n",
       "    </tr>\n",
       "    <tr>\n",
       "      <th>22664</th>\n",
       "      <td>False</td>\n",
       "      <td>False</td>\n",
       "      <td>False</td>\n",
       "      <td>False</td>\n",
       "      <td>False</td>\n",
       "      <td>0.0</td>\n",
       "      <td>1.0</td>\n",
       "      <td>0.0</td>\n",
       "      <td>0.0</td>\n",
       "    </tr>\n",
       "    <tr>\n",
       "      <th>133595</th>\n",
       "      <td>False</td>\n",
       "      <td>False</td>\n",
       "      <td>False</td>\n",
       "      <td>False</td>\n",
       "      <td>False</td>\n",
       "      <td>1.0</td>\n",
       "      <td>0.0</td>\n",
       "      <td>0.0</td>\n",
       "      <td>0.0</td>\n",
       "    </tr>\n",
       "    <tr>\n",
       "      <th>140413</th>\n",
       "      <td>False</td>\n",
       "      <td>False</td>\n",
       "      <td>False</td>\n",
       "      <td>False</td>\n",
       "      <td>False</td>\n",
       "      <td>0.0</td>\n",
       "      <td>1.0</td>\n",
       "      <td>0.0</td>\n",
       "      <td>0.0</td>\n",
       "    </tr>\n",
       "    <tr>\n",
       "      <th>22745</th>\n",
       "      <td>False</td>\n",
       "      <td>False</td>\n",
       "      <td>False</td>\n",
       "      <td>False</td>\n",
       "      <td>False</td>\n",
       "      <td>0.0</td>\n",
       "      <td>1.0</td>\n",
       "      <td>0.0</td>\n",
       "      <td>0.0</td>\n",
       "    </tr>\n",
       "    <tr>\n",
       "      <th>59415</th>\n",
       "      <td>False</td>\n",
       "      <td>False</td>\n",
       "      <td>False</td>\n",
       "      <td>False</td>\n",
       "      <td>False</td>\n",
       "      <td>0.0</td>\n",
       "      <td>1.0</td>\n",
       "      <td>0.0</td>\n",
       "      <td>0.0</td>\n",
       "    </tr>\n",
       "    <tr>\n",
       "      <th>88909</th>\n",
       "      <td>False</td>\n",
       "      <td>False</td>\n",
       "      <td>False</td>\n",
       "      <td>False</td>\n",
       "      <td>False</td>\n",
       "      <td>0.0</td>\n",
       "      <td>1.0</td>\n",
       "      <td>0.0</td>\n",
       "      <td>0.0</td>\n",
       "    </tr>\n",
       "    <tr>\n",
       "      <th>28978</th>\n",
       "      <td>False</td>\n",
       "      <td>False</td>\n",
       "      <td>False</td>\n",
       "      <td>False</td>\n",
       "      <td>False</td>\n",
       "      <td>0.0</td>\n",
       "      <td>1.0</td>\n",
       "      <td>0.0</td>\n",
       "      <td>0.0</td>\n",
       "    </tr>\n",
       "    <tr>\n",
       "      <th>49991</th>\n",
       "      <td>False</td>\n",
       "      <td>False</td>\n",
       "      <td>False</td>\n",
       "      <td>False</td>\n",
       "      <td>False</td>\n",
       "      <td>1.0</td>\n",
       "      <td>0.0</td>\n",
       "      <td>0.0</td>\n",
       "      <td>0.0</td>\n",
       "    </tr>\n",
       "    <tr>\n",
       "      <th>3427</th>\n",
       "      <td>False</td>\n",
       "      <td>False</td>\n",
       "      <td>False</td>\n",
       "      <td>False</td>\n",
       "      <td>False</td>\n",
       "      <td>0.0</td>\n",
       "      <td>1.0</td>\n",
       "      <td>0.0</td>\n",
       "      <td>0.0</td>\n",
       "    </tr>\n",
       "    <tr>\n",
       "      <th>36299</th>\n",
       "      <td>False</td>\n",
       "      <td>False</td>\n",
       "      <td>False</td>\n",
       "      <td>False</td>\n",
       "      <td>False</td>\n",
       "      <td>1.0</td>\n",
       "      <td>0.0</td>\n",
       "      <td>0.0</td>\n",
       "      <td>0.0</td>\n",
       "    </tr>\n",
       "    <tr>\n",
       "      <th>22319</th>\n",
       "      <td>False</td>\n",
       "      <td>False</td>\n",
       "      <td>False</td>\n",
       "      <td>False</td>\n",
       "      <td>False</td>\n",
       "      <td>0.0</td>\n",
       "      <td>1.0</td>\n",
       "      <td>0.0</td>\n",
       "      <td>0.0</td>\n",
       "    </tr>\n",
       "    <tr>\n",
       "      <th>151025</th>\n",
       "      <td>False</td>\n",
       "      <td>False</td>\n",
       "      <td>False</td>\n",
       "      <td>False</td>\n",
       "      <td>False</td>\n",
       "      <td>1.0</td>\n",
       "      <td>0.0</td>\n",
       "      <td>0.0</td>\n",
       "      <td>0.0</td>\n",
       "    </tr>\n",
       "    <tr>\n",
       "      <th>20565</th>\n",
       "      <td>False</td>\n",
       "      <td>False</td>\n",
       "      <td>False</td>\n",
       "      <td>False</td>\n",
       "      <td>False</td>\n",
       "      <td>0.0</td>\n",
       "      <td>1.0</td>\n",
       "      <td>0.0</td>\n",
       "      <td>0.0</td>\n",
       "    </tr>\n",
       "    <tr>\n",
       "      <th>158585</th>\n",
       "      <td>False</td>\n",
       "      <td>False</td>\n",
       "      <td>False</td>\n",
       "      <td>False</td>\n",
       "      <td>False</td>\n",
       "      <td>0.0</td>\n",
       "      <td>1.0</td>\n",
       "      <td>0.0</td>\n",
       "      <td>0.0</td>\n",
       "    </tr>\n",
       "    <tr>\n",
       "      <th>87441</th>\n",
       "      <td>False</td>\n",
       "      <td>False</td>\n",
       "      <td>False</td>\n",
       "      <td>False</td>\n",
       "      <td>False</td>\n",
       "      <td>0.0</td>\n",
       "      <td>1.0</td>\n",
       "      <td>0.0</td>\n",
       "      <td>0.0</td>\n",
       "    </tr>\n",
       "    <tr>\n",
       "      <th>34080</th>\n",
       "      <td>False</td>\n",
       "      <td>False</td>\n",
       "      <td>False</td>\n",
       "      <td>False</td>\n",
       "      <td>False</td>\n",
       "      <td>0.0</td>\n",
       "      <td>1.0</td>\n",
       "      <td>0.0</td>\n",
       "      <td>0.0</td>\n",
       "    </tr>\n",
       "    <tr>\n",
       "      <th>117911</th>\n",
       "      <td>False</td>\n",
       "      <td>False</td>\n",
       "      <td>False</td>\n",
       "      <td>False</td>\n",
       "      <td>False</td>\n",
       "      <td>1.0</td>\n",
       "      <td>0.0</td>\n",
       "      <td>0.0</td>\n",
       "      <td>0.0</td>\n",
       "    </tr>\n",
       "    <tr>\n",
       "      <th>88298</th>\n",
       "      <td>False</td>\n",
       "      <td>False</td>\n",
       "      <td>False</td>\n",
       "      <td>False</td>\n",
       "      <td>False</td>\n",
       "      <td>0.0</td>\n",
       "      <td>1.0</td>\n",
       "      <td>0.0</td>\n",
       "      <td>0.0</td>\n",
       "    </tr>\n",
       "    <tr>\n",
       "      <th>21475</th>\n",
       "      <td>False</td>\n",
       "      <td>False</td>\n",
       "      <td>False</td>\n",
       "      <td>False</td>\n",
       "      <td>False</td>\n",
       "      <td>0.0</td>\n",
       "      <td>1.0</td>\n",
       "      <td>0.0</td>\n",
       "      <td>0.0</td>\n",
       "    </tr>\n",
       "    <tr>\n",
       "      <th>163291</th>\n",
       "      <td>True</td>\n",
       "      <td>False</td>\n",
       "      <td>False</td>\n",
       "      <td>False</td>\n",
       "      <td>False</td>\n",
       "      <td>0.0</td>\n",
       "      <td>1.0</td>\n",
       "      <td>0.0</td>\n",
       "      <td>0.0</td>\n",
       "    </tr>\n",
       "    <tr>\n",
       "      <th>151651</th>\n",
       "      <td>False</td>\n",
       "      <td>False</td>\n",
       "      <td>False</td>\n",
       "      <td>False</td>\n",
       "      <td>False</td>\n",
       "      <td>0.0</td>\n",
       "      <td>1.0</td>\n",
       "      <td>0.0</td>\n",
       "      <td>0.0</td>\n",
       "    </tr>\n",
       "    <tr>\n",
       "      <th>69659</th>\n",
       "      <td>True</td>\n",
       "      <td>False</td>\n",
       "      <td>False</td>\n",
       "      <td>False</td>\n",
       "      <td>False</td>\n",
       "      <td>0.0</td>\n",
       "      <td>1.0</td>\n",
       "      <td>0.0</td>\n",
       "      <td>0.0</td>\n",
       "    </tr>\n",
       "    <tr>\n",
       "      <th>103208</th>\n",
       "      <td>False</td>\n",
       "      <td>False</td>\n",
       "      <td>False</td>\n",
       "      <td>False</td>\n",
       "      <td>False</td>\n",
       "      <td>0.0</td>\n",
       "      <td>1.0</td>\n",
       "      <td>0.0</td>\n",
       "      <td>0.0</td>\n",
       "    </tr>\n",
       "    <tr>\n",
       "      <th>136555</th>\n",
       "      <td>False</td>\n",
       "      <td>False</td>\n",
       "      <td>False</td>\n",
       "      <td>False</td>\n",
       "      <td>False</td>\n",
       "      <td>1.0</td>\n",
       "      <td>0.0</td>\n",
       "      <td>0.0</td>\n",
       "      <td>0.0</td>\n",
       "    </tr>\n",
       "    <tr>\n",
       "      <th>77819</th>\n",
       "      <td>False</td>\n",
       "      <td>False</td>\n",
       "      <td>False</td>\n",
       "      <td>False</td>\n",
       "      <td>False</td>\n",
       "      <td>1.0</td>\n",
       "      <td>0.0</td>\n",
       "      <td>0.0</td>\n",
       "      <td>0.0</td>\n",
       "    </tr>\n",
       "  </tbody>\n",
       "</table>\n",
       "<p>97520 rows × 9 columns</p>\n",
       "</div>"
      ],
      "text/plain": [
       "        smart_5_nonzero  smart_187_nonzero  smart_188_nonzero  \\\n",
       "116194            False              False              False   \n",
       "142942            False              False              False   \n",
       "97790             False              False              False   \n",
       "125503            False              False              False   \n",
       "162599            False              False              False   \n",
       "138013            False              False              False   \n",
       "122513            False              False              False   \n",
       "165062            False              False              False   \n",
       "29086             False              False              False   \n",
       "51897             False              False              False   \n",
       "28683             False              False              False   \n",
       "118014            False              False              False   \n",
       "122847            False              False              False   \n",
       "56679             False              False              False   \n",
       "149234            False              False              False   \n",
       "148210            False              False              False   \n",
       "86347             False              False              False   \n",
       "156925            False              False              False   \n",
       "61964             False              False              False   \n",
       "110293            False              False              False   \n",
       "117683            False              False              False   \n",
       "141686            False              False              False   \n",
       "164936            False              False              False   \n",
       "80288             False              False              False   \n",
       "8689              False              False              False   \n",
       "69043             False              False              False   \n",
       "61883             False              False              False   \n",
       "151382            False              False              False   \n",
       "158315            False              False              False   \n",
       "80654             False              False              False   \n",
       "...                 ...                ...                ...   \n",
       "80568             False              False              False   \n",
       "158684            False              False              False   \n",
       "59699             False              False              False   \n",
       "121853            False              False              False   \n",
       "8569              False              False              False   \n",
       "22664             False              False              False   \n",
       "133595            False              False              False   \n",
       "140413            False              False              False   \n",
       "22745             False              False              False   \n",
       "59415             False              False              False   \n",
       "88909             False              False              False   \n",
       "28978             False              False              False   \n",
       "49991             False              False              False   \n",
       "3427              False              False              False   \n",
       "36299             False              False              False   \n",
       "22319             False              False              False   \n",
       "151025            False              False              False   \n",
       "20565             False              False              False   \n",
       "158585            False              False              False   \n",
       "87441             False              False              False   \n",
       "34080             False              False              False   \n",
       "117911            False              False              False   \n",
       "88298             False              False              False   \n",
       "21475             False              False              False   \n",
       "163291             True              False              False   \n",
       "151651            False              False              False   \n",
       "69659              True              False              False   \n",
       "103208            False              False              False   \n",
       "136555            False              False              False   \n",
       "77819             False              False              False   \n",
       "\n",
       "        smart_197_nonzero  smart_198_nonzero  Hitachi  Seagate  Toshiba  \\\n",
       "116194              False              False      0.0      1.0      0.0   \n",
       "142942              False              False      0.0      1.0      0.0   \n",
       "97790               False              False      0.0      1.0      0.0   \n",
       "125503              False              False      0.0      1.0      0.0   \n",
       "162599              False              False      0.0      1.0      0.0   \n",
       "138013              False              False      0.0      1.0      0.0   \n",
       "122513              False              False      0.0      1.0      0.0   \n",
       "165062              False              False      1.0      0.0      0.0   \n",
       "29086               False              False      0.0      1.0      0.0   \n",
       "51897               False              False      1.0      0.0      0.0   \n",
       "28683               False              False      0.0      1.0      0.0   \n",
       "118014              False              False      0.0      1.0      0.0   \n",
       "122847              False              False      1.0      0.0      0.0   \n",
       "56679               False              False      1.0      0.0      0.0   \n",
       "149234              False              False      1.0      0.0      0.0   \n",
       "148210              False              False      1.0      0.0      0.0   \n",
       "86347               False              False      0.0      0.0      0.0   \n",
       "156925              False              False      0.0      1.0      0.0   \n",
       "61964               False              False      1.0      0.0      0.0   \n",
       "110293              False              False      1.0      0.0      0.0   \n",
       "117683              False              False      1.0      0.0      0.0   \n",
       "141686              False              False      0.0      1.0      0.0   \n",
       "164936              False              False      0.0      1.0      0.0   \n",
       "80288               False              False      0.0      1.0      0.0   \n",
       "8689                False              False      1.0      0.0      0.0   \n",
       "69043               False              False      0.0      1.0      0.0   \n",
       "61883               False              False      0.0      1.0      0.0   \n",
       "151382              False              False      0.0      1.0      0.0   \n",
       "158315              False              False      0.0      1.0      0.0   \n",
       "80654               False              False      0.0      1.0      0.0   \n",
       "...                   ...                ...      ...      ...      ...   \n",
       "80568               False              False      0.0      1.0      0.0   \n",
       "158684              False              False      0.0      1.0      0.0   \n",
       "59699               False              False      0.0      1.0      0.0   \n",
       "121853              False              False      0.0      1.0      0.0   \n",
       "8569                False              False      0.0      1.0      0.0   \n",
       "22664               False              False      0.0      1.0      0.0   \n",
       "133595              False              False      1.0      0.0      0.0   \n",
       "140413              False              False      0.0      1.0      0.0   \n",
       "22745               False              False      0.0      1.0      0.0   \n",
       "59415               False              False      0.0      1.0      0.0   \n",
       "88909               False              False      0.0      1.0      0.0   \n",
       "28978               False              False      0.0      1.0      0.0   \n",
       "49991               False              False      1.0      0.0      0.0   \n",
       "3427                False              False      0.0      1.0      0.0   \n",
       "36299               False              False      1.0      0.0      0.0   \n",
       "22319               False              False      0.0      1.0      0.0   \n",
       "151025              False              False      1.0      0.0      0.0   \n",
       "20565               False              False      0.0      1.0      0.0   \n",
       "158585              False              False      0.0      1.0      0.0   \n",
       "87441               False              False      0.0      1.0      0.0   \n",
       "34080               False              False      0.0      1.0      0.0   \n",
       "117911              False              False      1.0      0.0      0.0   \n",
       "88298               False              False      0.0      1.0      0.0   \n",
       "21475               False              False      0.0      1.0      0.0   \n",
       "163291              False              False      0.0      1.0      0.0   \n",
       "151651              False              False      0.0      1.0      0.0   \n",
       "69659               False              False      0.0      1.0      0.0   \n",
       "103208              False              False      0.0      1.0      0.0   \n",
       "136555              False              False      1.0      0.0      0.0   \n",
       "77819               False              False      1.0      0.0      0.0   \n",
       "\n",
       "        Western Digital  \n",
       "116194              0.0  \n",
       "142942              0.0  \n",
       "97790               0.0  \n",
       "125503              0.0  \n",
       "162599              0.0  \n",
       "138013              0.0  \n",
       "122513              0.0  \n",
       "165062              0.0  \n",
       "29086               0.0  \n",
       "51897               0.0  \n",
       "28683               0.0  \n",
       "118014              0.0  \n",
       "122847              0.0  \n",
       "56679               0.0  \n",
       "149234              0.0  \n",
       "148210              0.0  \n",
       "86347               1.0  \n",
       "156925              0.0  \n",
       "61964               0.0  \n",
       "110293              0.0  \n",
       "117683              0.0  \n",
       "141686              0.0  \n",
       "164936              0.0  \n",
       "80288               0.0  \n",
       "8689                0.0  \n",
       "69043               0.0  \n",
       "61883               0.0  \n",
       "151382              0.0  \n",
       "158315              0.0  \n",
       "80654               0.0  \n",
       "...                 ...  \n",
       "80568               0.0  \n",
       "158684              0.0  \n",
       "59699               0.0  \n",
       "121853              0.0  \n",
       "8569                0.0  \n",
       "22664               0.0  \n",
       "133595              0.0  \n",
       "140413              0.0  \n",
       "22745               0.0  \n",
       "59415               0.0  \n",
       "88909               0.0  \n",
       "28978               0.0  \n",
       "49991               0.0  \n",
       "3427                0.0  \n",
       "36299               0.0  \n",
       "22319               0.0  \n",
       "151025              0.0  \n",
       "20565               0.0  \n",
       "158585              0.0  \n",
       "87441               0.0  \n",
       "34080               0.0  \n",
       "117911              0.0  \n",
       "88298               0.0  \n",
       "21475               0.0  \n",
       "163291              0.0  \n",
       "151651              0.0  \n",
       "69659               0.0  \n",
       "103208              0.0  \n",
       "136555              0.0  \n",
       "77819               0.0  \n",
       "\n",
       "[97520 rows x 9 columns]"
      ]
     },
     "execution_count": 42,
     "metadata": {},
     "output_type": "execute_result"
    }
   ],
   "source": [
    "#X_train = X_train.drop(columns='capacity_terabytes')"
   ]
  },
  {
   "cell_type": "code",
   "execution_count": 56,
   "metadata": {},
   "outputs": [],
   "source": [
    "X_test = X_test.drop(columns='capacity_terabytes')"
   ]
  },
  {
   "cell_type": "markdown",
   "metadata": {},
   "source": [
    "# Linear Support Vector Regressor"
   ]
  },
  {
   "cell_type": "code",
   "execution_count": 47,
   "metadata": {},
   "outputs": [
    {
     "name": "stdout",
     "output_type": "stream",
     "text": [
      "0.009081614104124643\n"
     ]
    }
   ],
   "source": [
    "regr = LinearSVR(random_state=123, tol=1e-5, loss='squared_epsilon_insensitive', fit_intercept=False, dual=False)\n",
    "regr.fit(X_train, y_train)\n",
    "y_pred_SVR = regr.predict(X_train)\n",
    "print(mean_squared_error(y_train, y_pred_SVR)**1/2)"
   ]
  },
  {
   "cell_type": "code",
   "execution_count": 48,
   "metadata": {},
   "outputs": [
    {
     "data": {
      "text/plain": [
       "array([0.01144464, 0.01144464, 0.01144464, ..., 0.01144464, 0.00065013,\n",
       "       0.00065013])"
      ]
     },
     "execution_count": 48,
     "metadata": {},
     "output_type": "execute_result"
    }
   ],
   "source": [
    "y_pred_SVR"
   ]
  },
  {
   "cell_type": "code",
   "execution_count": 49,
   "metadata": {},
   "outputs": [],
   "source": [
    "# print(confusion_matrix(y_train,y_pred_SVR))\n",
    "# print(classification_report(y_train,y_pred_SVR))"
   ]
  },
  {
   "cell_type": "code",
   "execution_count": 75,
   "metadata": {},
   "outputs": [
    {
     "data": {
      "text/plain": [
       "SVC(C=1.0, cache_size=200, class_weight=None, coef0=0.0,\n",
       "    decision_function_shape='ovr', degree=8, gamma='auto_deprecated',\n",
       "    kernel='poly', max_iter=-1, probability=True, random_state=None,\n",
       "    shrinking=True, tol=0.001, verbose=False)"
      ]
     },
     "execution_count": 75,
     "metadata": {},
     "output_type": "execute_result"
    }
   ],
   "source": [
    "svclassifier = SVC(kernel='poly', degree=8, probability=True)\n",
    "svclassifier.fit(X_train, y_train)"
   ]
  },
  {
   "cell_type": "code",
   "execution_count": 76,
   "metadata": {},
   "outputs": [],
   "source": [
    "y_pred = svclassifier.predict(X_test)\n"
   ]
  },
  {
   "cell_type": "code",
   "execution_count": 64,
   "metadata": {},
   "outputs": [
    {
     "data": {
      "text/plain": [
       "array([[0.02907984, 0.97092016],\n",
       "       [0.02907984, 0.97092016],\n",
       "       [0.02907984, 0.97092016],\n",
       "       ...,\n",
       "       [0.02907984, 0.97092016],\n",
       "       [0.02914954, 0.97085046],\n",
       "       [0.02914954, 0.97085046]])"
      ]
     },
     "execution_count": 64,
     "metadata": {},
     "output_type": "execute_result"
    }
   ],
   "source": [
    "#y_pred_proba = svclassifier.predict_proba(X_train)\n",
    "#y_pred_proba"
   ]
  },
  {
   "cell_type": "code",
   "execution_count": 77,
   "metadata": {},
   "outputs": [
    {
     "name": "stdout",
     "output_type": "stream",
     "text": [
      "[[23860     0]\n",
      " [  520     0]]\n",
      "              precision    recall  f1-score   support\n",
      "\n",
      "           0       0.98      1.00      0.99     23860\n",
      "           1       0.00      0.00      0.00       520\n",
      "\n",
      "    accuracy                           0.98     24380\n",
      "   macro avg       0.49      0.50      0.49     24380\n",
      "weighted avg       0.96      0.98      0.97     24380\n",
      "\n"
     ]
    }
   ],
   "source": [
    "print(confusion_matrix(y_test,y_pred))\n",
    "print(classification_report(y_test,y_pred))"
   ]
  },
  {
   "cell_type": "code",
   "execution_count": 71,
   "metadata": {},
   "outputs": [
    {
     "data": {
      "text/plain": [
       "2078"
      ]
     },
     "execution_count": 71,
     "metadata": {},
     "output_type": "execute_result"
    }
   ],
   "source": [
    "print(confusion_matrix(y_test, y_pred))\n",
    "print(classification_report(y_test, y_pred))"
   ]
  },
  {
   "cell_type": "markdown",
   "metadata": {},
   "source": [
    "# Gaussian Kernel"
   ]
  },
  {
   "cell_type": "code",
   "execution_count": 83,
   "metadata": {},
   "outputs": [
    {
     "data": {
      "text/plain": [
       "SVC(C=1.0, cache_size=200, class_weight=None, coef0=0.0,\n",
       "    decision_function_shape='ovr', degree=3, gamma='auto_deprecated',\n",
       "    kernel='rbf', max_iter=-1, probability=False, random_state=None,\n",
       "    shrinking=True, tol=0.001, verbose=False)"
      ]
     },
     "execution_count": 83,
     "metadata": {},
     "output_type": "execute_result"
    }
   ],
   "source": [
    "svclassifier = SVC(kernel='rbf')\n",
    "svclassifier.fit(X_train, y_train)"
   ]
  },
  {
   "cell_type": "code",
   "execution_count": 84,
   "metadata": {},
   "outputs": [],
   "source": [
    "y_pred = svclassifier.predict(X_test)"
   ]
  },
  {
   "cell_type": "code",
   "execution_count": 85,
   "metadata": {},
   "outputs": [
    {
     "name": "stdout",
     "output_type": "stream",
     "text": [
      "[[23860     0]\n",
      " [  520     0]]\n",
      "              precision    recall  f1-score   support\n",
      "\n",
      "           0       0.98      1.00      0.99     23860\n",
      "           1       0.00      0.00      0.00       520\n",
      "\n",
      "    accuracy                           0.98     24380\n",
      "   macro avg       0.49      0.50      0.49     24380\n",
      "weighted avg       0.96      0.98      0.97     24380\n",
      "\n"
     ]
    }
   ],
   "source": [
    "print(confusion_matrix(y_test, y_pred))\n",
    "print(classification_report(y_test, y_pred))"
   ]
  },
  {
   "cell_type": "markdown",
   "metadata": {},
   "source": [
    "# Sigmoid Kernel"
   ]
  },
  {
   "cell_type": "markdown",
   "metadata": {},
   "source": [
    "# Gamma = .1"
   ]
  },
  {
   "cell_type": "code",
   "execution_count": 96,
   "metadata": {},
   "outputs": [
    {
     "data": {
      "text/plain": [
       "SVC(C=1.0, cache_size=200, class_weight=None, coef0=0.0,\n",
       "    decision_function_shape='ovr', degree=3, gamma=0.1, kernel='sigmoid',\n",
       "    max_iter=-1, probability=True, random_state=None, shrinking=True, tol=0.001,\n",
       "    verbose=False)"
      ]
     },
     "execution_count": 96,
     "metadata": {},
     "output_type": "execute_result"
    }
   ],
   "source": [
    "svclassifier = SVC(kernel='sigmoid', probability = True, gamma = .1)\n",
    "svclassifier.fit(X_train, y_train)"
   ]
  },
  {
   "cell_type": "code",
   "execution_count": 97,
   "metadata": {},
   "outputs": [
    {
     "data": {
      "text/plain": [
       "array([0, 0, 0, ..., 0, 0, 0])"
      ]
     },
     "execution_count": 97,
     "metadata": {},
     "output_type": "execute_result"
    }
   ],
   "source": [
    "y_pred = svclassifier.predict(X_train)\n",
    "y_pred"
   ]
  },
  {
   "cell_type": "code",
   "execution_count": 98,
   "metadata": {},
   "outputs": [
    {
     "data": {
      "text/plain": [
       "array([[0.98280128, 0.01719872],\n",
       "       [0.98280128, 0.01719872],\n",
       "       [0.98280128, 0.01719872],\n",
       "       ...,\n",
       "       [0.98280128, 0.01719872],\n",
       "       [0.98280128, 0.01719872],\n",
       "       [0.98280128, 0.01719872]])"
      ]
     },
     "execution_count": 98,
     "metadata": {},
     "output_type": "execute_result"
    }
   ],
   "source": [
    "y_pred_proba = svclassifier.predict_proba(X_train)\n",
    "y_pred_proba"
   ]
  },
  {
   "cell_type": "code",
   "execution_count": 99,
   "metadata": {},
   "outputs": [
    {
     "name": "stdout",
     "output_type": "stream",
     "text": [
      "[[94947   495]\n",
      " [ 1839   239]]\n",
      "              precision    recall  f1-score   support\n",
      "\n",
      "           0       0.98      0.99      0.99     95442\n",
      "           1       0.33      0.12      0.17      2078\n",
      "\n",
      "    accuracy                           0.98     97520\n",
      "   macro avg       0.65      0.55      0.58     97520\n",
      "weighted avg       0.97      0.98      0.97     97520\n",
      "\n"
     ]
    }
   ],
   "source": [
    "print(confusion_matrix(y_train, y_pred))\n",
    "print(classification_report(y_train, y_pred))"
   ]
  },
  {
   "cell_type": "markdown",
   "metadata": {},
   "source": [
    "# Gamma = 1"
   ]
  },
  {
   "cell_type": "code",
   "execution_count": 100,
   "metadata": {},
   "outputs": [
    {
     "data": {
      "text/plain": [
       "SVC(C=1.0, cache_size=200, class_weight=None, coef0=0.0,\n",
       "    decision_function_shape='ovr', degree=3, gamma=1, kernel='sigmoid',\n",
       "    max_iter=-1, probability=True, random_state=None, shrinking=True, tol=0.001,\n",
       "    verbose=False)"
      ]
     },
     "execution_count": 100,
     "metadata": {},
     "output_type": "execute_result"
    }
   ],
   "source": [
    "svclassifier = SVC(kernel='sigmoid', probability = True, gamma = 1)\n",
    "svclassifier.fit(X_train, y_train)"
   ]
  },
  {
   "cell_type": "code",
   "execution_count": 101,
   "metadata": {},
   "outputs": [
    {
     "data": {
      "text/plain": [
       "array([0, 0, 0, ..., 0, 0, 0])"
      ]
     },
     "execution_count": 101,
     "metadata": {},
     "output_type": "execute_result"
    }
   ],
   "source": [
    "y_pred = svclassifier.predict(X_train)\n",
    "y_pred"
   ]
  },
  {
   "cell_type": "code",
   "execution_count": 102,
   "metadata": {},
   "outputs": [
    {
     "data": {
      "text/plain": [
       "array([[0.9781057 , 0.0218943 ],\n",
       "       [0.9781057 , 0.0218943 ],\n",
       "       [0.9781057 , 0.0218943 ],\n",
       "       ...,\n",
       "       [0.9781057 , 0.0218943 ],\n",
       "       [0.97961512, 0.02038488],\n",
       "       [0.97961512, 0.02038488]])"
      ]
     },
     "execution_count": 102,
     "metadata": {},
     "output_type": "execute_result"
    }
   ],
   "source": [
    "y_pred_proba = svclassifier.predict_proba(X_train)\n",
    "y_pred_proba"
   ]
  },
  {
   "cell_type": "code",
   "execution_count": 103,
   "metadata": {},
   "outputs": [
    {
     "name": "stdout",
     "output_type": "stream",
     "text": [
      "[[94297  1145]\n",
      " [ 1847   231]]\n",
      "              precision    recall  f1-score   support\n",
      "\n",
      "           0       0.98      0.99      0.98     95442\n",
      "           1       0.17      0.11      0.13      2078\n",
      "\n",
      "    accuracy                           0.97     97520\n",
      "   macro avg       0.57      0.55      0.56     97520\n",
      "weighted avg       0.96      0.97      0.97     97520\n",
      "\n"
     ]
    }
   ],
   "source": [
    "print(confusion_matrix(y_train, y_pred))\n",
    "print(classification_report(y_train, y_pred))"
   ]
  },
  {
   "cell_type": "markdown",
   "metadata": {},
   "source": [
    "# Gamma = 10"
   ]
  },
  {
   "cell_type": "code",
   "execution_count": 104,
   "metadata": {},
   "outputs": [
    {
     "data": {
      "text/plain": [
       "SVC(C=1.0, cache_size=200, class_weight=None, coef0=0.0,\n",
       "    decision_function_shape='ovr', degree=3, gamma=10, kernel='sigmoid',\n",
       "    max_iter=-1, probability=True, random_state=None, shrinking=True, tol=0.001,\n",
       "    verbose=False)"
      ]
     },
     "execution_count": 104,
     "metadata": {},
     "output_type": "execute_result"
    }
   ],
   "source": [
    "svclassifier = SVC(kernel='sigmoid', probability = True, gamma = 10)\n",
    "svclassifier.fit(X_train, y_train)"
   ]
  },
  {
   "cell_type": "code",
   "execution_count": 105,
   "metadata": {},
   "outputs": [
    {
     "data": {
      "text/plain": [
       "array([0, 0, 0, ..., 0, 0, 0])"
      ]
     },
     "execution_count": 105,
     "metadata": {},
     "output_type": "execute_result"
    }
   ],
   "source": [
    "y_pred = svclassifier.predict(X_train)\n",
    "y_pred"
   ]
  },
  {
   "cell_type": "code",
   "execution_count": 106,
   "metadata": {},
   "outputs": [
    {
     "data": {
      "text/plain": [
       "array([[0.97823105, 0.02176895],\n",
       "       [0.97823105, 0.02176895],\n",
       "       [0.97823105, 0.02176895],\n",
       "       ...,\n",
       "       [0.97823105, 0.02176895],\n",
       "       [0.97845622, 0.02154378],\n",
       "       [0.97845622, 0.02154378]])"
      ]
     },
     "execution_count": 106,
     "metadata": {},
     "output_type": "execute_result"
    }
   ],
   "source": [
    "y_pred_proba = svclassifier.predict_proba(X_train)\n",
    "y_pred_proba"
   ]
  },
  {
   "cell_type": "code",
   "execution_count": 107,
   "metadata": {},
   "outputs": [
    {
     "name": "stdout",
     "output_type": "stream",
     "text": [
      "[[93957  1485]\n",
      " [ 1713   365]]\n",
      "              precision    recall  f1-score   support\n",
      "\n",
      "           0       0.98      0.98      0.98     95442\n",
      "           1       0.20      0.18      0.19      2078\n",
      "\n",
      "    accuracy                           0.97     97520\n",
      "   macro avg       0.59      0.58      0.58     97520\n",
      "weighted avg       0.97      0.97      0.97     97520\n",
      "\n"
     ]
    }
   ],
   "source": [
    "print(confusion_matrix(y_train, y_pred))\n",
    "print(classification_report(y_train, y_pred))"
   ]
  },
  {
   "cell_type": "markdown",
   "metadata": {},
   "source": [
    "# Gamma = 100"
   ]
  },
  {
   "cell_type": "code",
   "execution_count": 108,
   "metadata": {},
   "outputs": [
    {
     "data": {
      "text/plain": [
       "SVC(C=1.0, cache_size=200, class_weight=None, coef0=0.0,\n",
       "    decision_function_shape='ovr', degree=3, gamma=100, kernel='sigmoid',\n",
       "    max_iter=-1, probability=True, random_state=None, shrinking=True, tol=0.001,\n",
       "    verbose=False)"
      ]
     },
     "execution_count": 108,
     "metadata": {},
     "output_type": "execute_result"
    }
   ],
   "source": [
    "svclassifier = SVC(kernel='sigmoid', probability = True, gamma = 100)\n",
    "svclassifier.fit(X_train, y_train)"
   ]
  },
  {
   "cell_type": "code",
   "execution_count": 109,
   "metadata": {},
   "outputs": [
    {
     "data": {
      "text/plain": [
       "array([0, 0, 0, ..., 0, 0, 0])"
      ]
     },
     "execution_count": 109,
     "metadata": {},
     "output_type": "execute_result"
    }
   ],
   "source": [
    "y_pred = svclassifier.predict(X_train)\n",
    "y_pred"
   ]
  },
  {
   "cell_type": "code",
   "execution_count": 110,
   "metadata": {},
   "outputs": [
    {
     "data": {
      "text/plain": [
       "array([[0.97818774, 0.02181226],\n",
       "       [0.97818774, 0.02181226],\n",
       "       [0.97818774, 0.02181226],\n",
       "       ...,\n",
       "       [0.97818774, 0.02181226],\n",
       "       [0.97865518, 0.02134482],\n",
       "       [0.97865518, 0.02134482]])"
      ]
     },
     "execution_count": 110,
     "metadata": {},
     "output_type": "execute_result"
    }
   ],
   "source": [
    "y_pred_proba = svclassifier.predict_proba(X_train)\n",
    "y_pred_proba"
   ]
  },
  {
   "cell_type": "code",
   "execution_count": 111,
   "metadata": {},
   "outputs": [
    {
     "name": "stdout",
     "output_type": "stream",
     "text": [
      "[[93957  1485]\n",
      " [ 1713   365]]\n",
      "              precision    recall  f1-score   support\n",
      "\n",
      "           0       0.98      0.98      0.98     95442\n",
      "           1       0.20      0.18      0.19      2078\n",
      "\n",
      "    accuracy                           0.97     97520\n",
      "   macro avg       0.59      0.58      0.58     97520\n",
      "weighted avg       0.97      0.97      0.97     97520\n",
      "\n"
     ]
    }
   ],
   "source": [
    "print(confusion_matrix(y_train, y_pred))\n",
    "print(classification_report(y_train, y_pred))"
   ]
  },
  {
   "cell_type": "markdown",
   "metadata": {},
   "source": [
    "# Cost = 10"
   ]
  },
  {
   "cell_type": "code",
   "execution_count": 117,
   "metadata": {},
   "outputs": [
    {
     "data": {
      "text/plain": [
       "SVC(C=10, cache_size=200, class_weight=None, coef0=0.0,\n",
       "    decision_function_shape='ovr', degree=3, gamma='auto_deprecated',\n",
       "    kernel='sigmoid', max_iter=-1, probability=True, random_state=None,\n",
       "    shrinking=True, tol=0.001, verbose=False)"
      ]
     },
     "execution_count": 117,
     "metadata": {},
     "output_type": "execute_result"
    }
   ],
   "source": [
    "svclassifier = SVC(kernel='sigmoid', probability = True, C= 10)\n",
    "svclassifier.fit(X_train, y_train)"
   ]
  },
  {
   "cell_type": "code",
   "execution_count": 118,
   "metadata": {},
   "outputs": [
    {
     "data": {
      "text/plain": [
       "array([0, 0, 0, ..., 0, 0, 0])"
      ]
     },
     "execution_count": 118,
     "metadata": {},
     "output_type": "execute_result"
    }
   ],
   "source": [
    "y_pred = svclassifier.predict(X_train)\n",
    "y_pred"
   ]
  },
  {
   "cell_type": "code",
   "execution_count": 119,
   "metadata": {},
   "outputs": [
    {
     "data": {
      "text/plain": [
       "array([[0.98303983, 0.01696017],\n",
       "       [0.98303983, 0.01696017],\n",
       "       [0.98303983, 0.01696017],\n",
       "       ...,\n",
       "       [0.98303983, 0.01696017],\n",
       "       [0.97488422, 0.02511578],\n",
       "       [0.97488422, 0.02511578]])"
      ]
     },
     "execution_count": 119,
     "metadata": {},
     "output_type": "execute_result"
    }
   ],
   "source": [
    "y_pred_proba = svclassifier.predict_proba(X_train)\n",
    "y_pred_proba"
   ]
  },
  {
   "cell_type": "code",
   "execution_count": 120,
   "metadata": {},
   "outputs": [
    {
     "name": "stdout",
     "output_type": "stream",
     "text": [
      "[[95384    58]\n",
      " [ 2071     7]]\n",
      "              precision    recall  f1-score   support\n",
      "\n",
      "           0       0.98      1.00      0.99     95442\n",
      "           1       0.11      0.00      0.01      2078\n",
      "\n",
      "    accuracy                           0.98     97520\n",
      "   macro avg       0.54      0.50      0.50     97520\n",
      "weighted avg       0.96      0.98      0.97     97520\n",
      "\n"
     ]
    }
   ],
   "source": [
    "print(confusion_matrix(y_train, y_pred))\n",
    "print(classification_report(y_train, y_pred))"
   ]
  },
  {
   "cell_type": "markdown",
   "metadata": {},
   "source": [
    "# Cost = 100"
   ]
  },
  {
   "cell_type": "code",
   "execution_count": 129,
   "metadata": {},
   "outputs": [
    {
     "data": {
      "text/plain": [
       "SVC(C=100, cache_size=200, class_weight=None, coef0=0.0,\n",
       "    decision_function_shape='ovr', degree=3, gamma='auto_deprecated',\n",
       "    kernel='sigmoid', max_iter=-1, probability=True, random_state=None,\n",
       "    shrinking=True, tol=0.001, verbose=False)"
      ]
     },
     "execution_count": 129,
     "metadata": {},
     "output_type": "execute_result"
    }
   ],
   "source": [
    "svclassifier = SVC(kernel='sigmoid', probability = True, C=100)\n",
    "svclassifier.fit(X_train, y_train)"
   ]
  },
  {
   "cell_type": "code",
   "execution_count": 130,
   "metadata": {},
   "outputs": [
    {
     "data": {
      "text/plain": [
       "array([0, 0, 0, ..., 0, 0, 0])"
      ]
     },
     "execution_count": 130,
     "metadata": {},
     "output_type": "execute_result"
    }
   ],
   "source": [
    "y_pred = svclassifier.predict(X_train)\n",
    "y_pred"
   ]
  },
  {
   "cell_type": "code",
   "execution_count": 131,
   "metadata": {},
   "outputs": [
    {
     "data": {
      "text/plain": [
       "array([[0.98341927, 0.01658073],\n",
       "       [0.98341927, 0.01658073],\n",
       "       [0.98341927, 0.01658073],\n",
       "       ...,\n",
       "       [0.98341927, 0.01658073],\n",
       "       [0.98341933, 0.01658067],\n",
       "       [0.98341933, 0.01658067]])"
      ]
     },
     "execution_count": 131,
     "metadata": {},
     "output_type": "execute_result"
    }
   ],
   "source": [
    "y_pred_proba = svclassifier.predict_proba(X_train)\n",
    "y_pred_proba"
   ]
  },
  {
   "cell_type": "code",
   "execution_count": 132,
   "metadata": {},
   "outputs": [
    {
     "name": "stdout",
     "output_type": "stream",
     "text": [
      "[[94913   529]\n",
      " [ 1819   259]]\n",
      "              precision    recall  f1-score   support\n",
      "\n",
      "           0       0.98      0.99      0.99     95442\n",
      "           1       0.33      0.12      0.18      2078\n",
      "\n",
      "    accuracy                           0.98     97520\n",
      "   macro avg       0.65      0.56      0.58     97520\n",
      "weighted avg       0.97      0.98      0.97     97520\n",
      "\n"
     ]
    }
   ],
   "source": [
    "print(confusion_matrix(y_train, y_pred))\n",
    "print(classification_report(y_train, y_pred))"
   ]
  },
  {
   "cell_type": "markdown",
   "metadata": {},
   "source": [
    "# Cost = 1000"
   ]
  },
  {
   "cell_type": "code",
   "execution_count": 133,
   "metadata": {},
   "outputs": [
    {
     "data": {
      "text/plain": [
       "SVC(C=1000, cache_size=200, class_weight=None, coef0=0.0,\n",
       "    decision_function_shape='ovr', degree=3, gamma='auto_deprecated',\n",
       "    kernel='sigmoid', max_iter=-1, probability=True, random_state=None,\n",
       "    shrinking=True, tol=0.001, verbose=False)"
      ]
     },
     "execution_count": 133,
     "metadata": {},
     "output_type": "execute_result"
    }
   ],
   "source": [
    "svclassifier = SVC(kernel='sigmoid', probability = True, C = 1000)\n",
    "svclassifier.fit(X_train, y_train)"
   ]
  },
  {
   "cell_type": "code",
   "execution_count": 134,
   "metadata": {},
   "outputs": [
    {
     "data": {
      "text/plain": [
       "array([0, 0, 0, ..., 0, 0, 0])"
      ]
     },
     "execution_count": 134,
     "metadata": {},
     "output_type": "execute_result"
    }
   ],
   "source": [
    "y_pred = svclassifier.predict(X_train)\n",
    "y_pred"
   ]
  },
  {
   "cell_type": "code",
   "execution_count": 135,
   "metadata": {},
   "outputs": [
    {
     "data": {
      "text/plain": [
       "array([[0.98323408, 0.01676592],\n",
       "       [0.98323408, 0.01676592],\n",
       "       [0.98323408, 0.01676592],\n",
       "       ...,\n",
       "       [0.98323408, 0.01676592],\n",
       "       [0.98323409, 0.01676591],\n",
       "       [0.98323409, 0.01676591]])"
      ]
     },
     "execution_count": 135,
     "metadata": {},
     "output_type": "execute_result"
    }
   ],
   "source": [
    "y_pred_proba = svclassifier.predict_proba(X_train)\n",
    "y_pred_proba"
   ]
  },
  {
   "cell_type": "code",
   "execution_count": 136,
   "metadata": {},
   "outputs": [
    {
     "name": "stdout",
     "output_type": "stream",
     "text": [
      "[[94913   529]\n",
      " [ 1819   259]]\n",
      "              precision    recall  f1-score   support\n",
      "\n",
      "           0       0.98      0.99      0.99     95442\n",
      "           1       0.33      0.12      0.18      2078\n",
      "\n",
      "    accuracy                           0.98     97520\n",
      "   macro avg       0.65      0.56      0.58     97520\n",
      "weighted avg       0.97      0.98      0.97     97520\n",
      "\n"
     ]
    }
   ],
   "source": [
    "print(confusion_matrix(y_train, y_pred))\n",
    "print(classification_report(y_train, y_pred))"
   ]
  },
  {
   "cell_type": "markdown",
   "metadata": {},
   "source": [
    "# Combining Cost & Gamma"
   ]
  },
  {
   "cell_type": "markdown",
   "metadata": {},
   "source": [
    "# C = 100 & G = 100"
   ]
  },
  {
   "cell_type": "code",
   "execution_count": 137,
   "metadata": {
    "scrolled": true
   },
   "outputs": [
    {
     "data": {
      "text/plain": [
       "SVC(C=100, cache_size=200, class_weight=None, coef0=0.0,\n",
       "    decision_function_shape='ovr', degree=3, gamma=100, kernel='sigmoid',\n",
       "    max_iter=-1, probability=True, random_state=None, shrinking=True, tol=0.001,\n",
       "    verbose=False)"
      ]
     },
     "execution_count": 137,
     "metadata": {},
     "output_type": "execute_result"
    }
   ],
   "source": [
    "svclassifier = SVC(kernel='sigmoid', probability = True, gamma = 100, C = 100)\n",
    "svclassifier.fit(X_train, y_train)"
   ]
  },
  {
   "cell_type": "code",
   "execution_count": 138,
   "metadata": {},
   "outputs": [
    {
     "data": {
      "text/plain": [
       "array([0, 0, 0, ..., 0, 0, 0])"
      ]
     },
     "execution_count": 138,
     "metadata": {},
     "output_type": "execute_result"
    }
   ],
   "source": [
    "y_pred = svclassifier.predict(X_train)\n",
    "y_pred"
   ]
  },
  {
   "cell_type": "code",
   "execution_count": 139,
   "metadata": {},
   "outputs": [
    {
     "data": {
      "text/plain": [
       "array([[0.97816809, 0.02183191],\n",
       "       [0.97816809, 0.02183191],\n",
       "       [0.97816809, 0.02183191],\n",
       "       ...,\n",
       "       [0.97816809, 0.02183191],\n",
       "       [0.97870776, 0.02129224],\n",
       "       [0.97870776, 0.02129224]])"
      ]
     },
     "execution_count": 139,
     "metadata": {},
     "output_type": "execute_result"
    }
   ],
   "source": [
    "y_pred_proba = svclassifier.predict_proba(X_train)\n",
    "y_pred_proba"
   ]
  },
  {
   "cell_type": "code",
   "execution_count": 140,
   "metadata": {},
   "outputs": [
    {
     "name": "stdout",
     "output_type": "stream",
     "text": [
      "[[93957  1485]\n",
      " [ 1713   365]]\n",
      "              precision    recall  f1-score   support\n",
      "\n",
      "           0       0.98      0.98      0.98     95442\n",
      "           1       0.20      0.18      0.19      2078\n",
      "\n",
      "    accuracy                           0.97     97520\n",
      "   macro avg       0.59      0.58      0.58     97520\n",
      "weighted avg       0.97      0.97      0.97     97520\n",
      "\n"
     ]
    }
   ],
   "source": [
    "print(confusion_matrix(y_train, y_pred))\n",
    "print(classification_report(y_train, y_pred))"
   ]
  },
  {
   "cell_type": "markdown",
   "metadata": {},
   "source": [
    "# C = 1000 & G = 100"
   ]
  },
  {
   "cell_type": "code",
   "execution_count": 142,
   "metadata": {},
   "outputs": [
    {
     "data": {
      "text/plain": [
       "SVC(C=1000, cache_size=200, class_weight=None, coef0=0.0,\n",
       "    decision_function_shape='ovr', degree=3, gamma=100, kernel='sigmoid',\n",
       "    max_iter=-1, probability=True, random_state=None, shrinking=True, tol=0.001,\n",
       "    verbose=False)"
      ]
     },
     "execution_count": 142,
     "metadata": {},
     "output_type": "execute_result"
    }
   ],
   "source": [
    "svclassifier = SVC(kernel='sigmoid', probability = True, gamma = 100, C = 1000)\n",
    "svclassifier.fit(X_train, y_train)"
   ]
  },
  {
   "cell_type": "code",
   "execution_count": 143,
   "metadata": {},
   "outputs": [
    {
     "data": {
      "text/plain": [
       "array([0, 0, 0, ..., 0, 0, 0])"
      ]
     },
     "execution_count": 143,
     "metadata": {},
     "output_type": "execute_result"
    }
   ],
   "source": [
    "y_pred = svclassifier.predict(X_train)\n",
    "y_pred"
   ]
  },
  {
   "cell_type": "code",
   "execution_count": 144,
   "metadata": {},
   "outputs": [
    {
     "data": {
      "text/plain": [
       "array([[0.97821849, 0.02178151],\n",
       "       [0.97821849, 0.02178151],\n",
       "       [0.97821849, 0.02178151],\n",
       "       ...,\n",
       "       [0.97821849, 0.02178151],\n",
       "       [0.97850869, 0.02149131],\n",
       "       [0.97850869, 0.02149131]])"
      ]
     },
     "execution_count": 144,
     "metadata": {},
     "output_type": "execute_result"
    }
   ],
   "source": [
    "y_pred_proba = svclassifier.predict_proba(X_train)\n",
    "y_pred_proba"
   ]
  },
  {
   "cell_type": "code",
   "execution_count": 145,
   "metadata": {},
   "outputs": [
    {
     "name": "stdout",
     "output_type": "stream",
     "text": [
      "[[93957  1485]\n",
      " [ 1713   365]]\n",
      "              precision    recall  f1-score   support\n",
      "\n",
      "           0       0.98      0.98      0.98     95442\n",
      "           1       0.20      0.18      0.19      2078\n",
      "\n",
      "    accuracy                           0.97     97520\n",
      "   macro avg       0.59      0.58      0.58     97520\n",
      "weighted avg       0.97      0.97      0.97     97520\n",
      "\n"
     ]
    }
   ],
   "source": [
    "print(confusion_matrix(y_train, y_pred))\n",
    "print(classification_report(y_train, y_pred))"
   ]
  },
  {
   "cell_type": "markdown",
   "metadata": {},
   "source": [
    "# Remove Terabytes & OHE Model to Train"
   ]
  },
  {
   "cell_type": "code",
   "execution_count": 211,
   "metadata": {},
   "outputs": [
    {
     "data": {
      "text/plain": [
       "SVC(C=1000, cache_size=200, class_weight=None, coef0=0.0,\n",
       "    decision_function_shape='ovr', degree=3, gamma=100, kernel='sigmoid',\n",
       "    max_iter=-1, probability=True, random_state=None, shrinking=True, tol=0.001,\n",
       "    verbose=False)"
      ]
     },
     "execution_count": 211,
     "metadata": {},
     "output_type": "execute_result"
    }
   ],
   "source": [
    "svclassifier = SVC(kernel='sigmoid', probability = True, gamma = 100, C = 1000)\n",
    "svclassifier.fit(X_train, y_train)"
   ]
  },
  {
   "cell_type": "code",
   "execution_count": 212,
   "metadata": {},
   "outputs": [
    {
     "data": {
      "text/plain": [
       "array([0, 0, 0, ..., 0, 0, 0])"
      ]
     },
     "execution_count": 212,
     "metadata": {},
     "output_type": "execute_result"
    }
   ],
   "source": [
    "y_pred = svclassifier.predict(X_train)\n",
    "y_pred"
   ]
  },
  {
   "cell_type": "code",
   "execution_count": 213,
   "metadata": {
    "scrolled": true
   },
   "outputs": [
    {
     "data": {
      "text/plain": [
       "array([[0.9766556 , 0.0233444 ],\n",
       "       [0.9766556 , 0.0233444 ],\n",
       "       [0.9766556 , 0.0233444 ],\n",
       "       ...,\n",
       "       [0.9766556 , 0.0233444 ],\n",
       "       [0.89589671, 0.10410329],\n",
       "       [0.89589671, 0.10410329]])"
      ]
     },
     "execution_count": 213,
     "metadata": {},
     "output_type": "execute_result"
    }
   ],
   "source": [
    "y_pred_proba = svclassifier.predict_proba(X_train)\n",
    "y_pred_proba"
   ]
  },
  {
   "cell_type": "code",
   "execution_count": 214,
   "metadata": {},
   "outputs": [
    {
     "name": "stdout",
     "output_type": "stream",
     "text": [
      "[[93957  1485]\n",
      " [ 1713   365]]\n",
      "              precision    recall  f1-score   support\n",
      "\n",
      "           0       0.98      0.98      0.98     95442\n",
      "           1       0.20      0.18      0.19      2078\n",
      "\n",
      "    accuracy                           0.97     97520\n",
      "   macro avg       0.59      0.58      0.58     97520\n",
      "weighted avg       0.97      0.97      0.97     97520\n",
      "\n"
     ]
    }
   ],
   "source": [
    "print(confusion_matrix(y_train, y_pred))\n",
    "print(classification_report(y_train, y_pred))"
   ]
  },
  {
   "cell_type": "markdown",
   "metadata": {},
   "source": [
    "# Attempting to adjust for Class Weight\n",
    "\n",
    "### weights = {0: 1, 1: 2.5}, G = 100, C = 100"
   ]
  },
  {
   "cell_type": "code",
   "execution_count": 218,
   "metadata": {},
   "outputs": [
    {
     "data": {
      "text/plain": [
       "SVC(C=100, cache_size=200, class_weight={0: 1, 1: 2.5}, coef0=0.0,\n",
       "    decision_function_shape='ovr', degree=3, gamma=100, kernel='sigmoid',\n",
       "    max_iter=-1, probability=True, random_state=None, shrinking=True, tol=0.001,\n",
       "    verbose=False)"
      ]
     },
     "execution_count": 218,
     "metadata": {},
     "output_type": "execute_result"
    }
   ],
   "source": [
    "weights = {0: 1, 1: 2.5}\n",
    "svclassifier = SVC(kernel='sigmoid', probability = True, gamma = 100, C = 100, class_weight = weights)\n",
    "svclassifier.fit(X_train, y_train)"
   ]
  },
  {
   "cell_type": "code",
   "execution_count": 219,
   "metadata": {},
   "outputs": [
    {
     "data": {
      "text/plain": [
       "array([0, 0, 0, ..., 0, 0, 0])"
      ]
     },
     "execution_count": 219,
     "metadata": {},
     "output_type": "execute_result"
    }
   ],
   "source": [
    "y_pred = svclassifier.predict(X_train)\n",
    "y_pred"
   ]
  },
  {
   "cell_type": "code",
   "execution_count": 220,
   "metadata": {
    "scrolled": true
   },
   "outputs": [
    {
     "data": {
      "text/plain": [
       "array([[0.97814459, 0.02185541],\n",
       "       [0.97814459, 0.02185541],\n",
       "       [0.97814459, 0.02185541],\n",
       "       ...,\n",
       "       [0.97814459, 0.02185541],\n",
       "       [0.97835861, 0.02164139],\n",
       "       [0.97835861, 0.02164139]])"
      ]
     },
     "execution_count": 220,
     "metadata": {},
     "output_type": "execute_result"
    }
   ],
   "source": [
    "y_pred_proba = svclassifier.predict_proba(X_train)\n",
    "y_pred_proba"
   ]
  },
  {
   "cell_type": "code",
   "execution_count": 221,
   "metadata": {},
   "outputs": [
    {
     "name": "stdout",
     "output_type": "stream",
     "text": [
      "[[93280  2162]\n",
      " [ 1697   381]]\n",
      "              precision    recall  f1-score   support\n",
      "\n",
      "           0       0.98      0.98      0.98     95442\n",
      "           1       0.15      0.18      0.16      2078\n",
      "\n",
      "    accuracy                           0.96     97520\n",
      "   macro avg       0.57      0.58      0.57     97520\n",
      "weighted avg       0.96      0.96      0.96     97520\n",
      "\n"
     ]
    }
   ],
   "source": [
    "print(confusion_matrix(y_train, y_pred))\n",
    "print(classification_report(y_train, y_pred))"
   ]
  },
  {
   "cell_type": "markdown",
   "metadata": {},
   "source": [
    "# weights = {0: 1, 1: 50}, G = 10, C = 10"
   ]
  },
  {
   "cell_type": "markdown",
   "metadata": {},
   "source": [
    "# BEST SO FAR"
   ]
  },
  {
   "cell_type": "code",
   "execution_count": 222,
   "metadata": {},
   "outputs": [
    {
     "data": {
      "text/plain": [
       "SVC(C=10, cache_size=200, class_weight={0: 1, 1: 50}, coef0=0.0,\n",
       "    decision_function_shape='ovr', degree=3, gamma=10, kernel='sigmoid',\n",
       "    max_iter=-1, probability=True, random_state=None, shrinking=True, tol=0.001,\n",
       "    verbose=False)"
      ]
     },
     "execution_count": 222,
     "metadata": {},
     "output_type": "execute_result"
    }
   ],
   "source": [
    "weights = {0: 1, 1: 50}\n",
    "svclassifier = SVC(kernel='sigmoid', probability = True, gamma = 10, C = 10, class_weight = weights)\n",
    "svclassifier.fit(X_train, y_train)"
   ]
  },
  {
   "cell_type": "code",
   "execution_count": 223,
   "metadata": {},
   "outputs": [
    {
     "data": {
      "text/plain": [
       "array([0, 0, 0, ..., 0, 0, 0])"
      ]
     },
     "execution_count": 223,
     "metadata": {},
     "output_type": "execute_result"
    }
   ],
   "source": [
    "y_pred = svclassifier.predict(X_train)\n",
    "y_pred"
   ]
  },
  {
   "cell_type": "code",
   "execution_count": 224,
   "metadata": {},
   "outputs": [
    {
     "data": {
      "text/plain": [
       "array([[0.97885837, 0.02114163],\n",
       "       [0.97885837, 0.02114163],\n",
       "       [0.97885837, 0.02114163],\n",
       "       ...,\n",
       "       [0.97885837, 0.02114163],\n",
       "       [0.97885837, 0.02114163],\n",
       "       [0.97885837, 0.02114163]])"
      ]
     },
     "execution_count": 224,
     "metadata": {},
     "output_type": "execute_result"
    }
   ],
   "source": [
    "y_pred_proba = svclassifier.predict_proba(X_train)\n",
    "y_pred_proba"
   ]
  },
  {
   "cell_type": "code",
   "execution_count": 225,
   "metadata": {},
   "outputs": [
    {
     "name": "stdout",
     "output_type": "stream",
     "text": [
      "[[90737  4705]\n",
      " [  885  1193]]\n",
      "              precision    recall  f1-score   support\n",
      "\n",
      "           0       0.99      0.95      0.97     95442\n",
      "           1       0.20      0.57      0.30      2078\n",
      "\n",
      "    accuracy                           0.94     97520\n",
      "   macro avg       0.60      0.76      0.63     97520\n",
      "weighted avg       0.97      0.94      0.96     97520\n",
      "\n"
     ]
    }
   ],
   "source": [
    "print(confusion_matrix(y_train, y_pred))\n",
    "print(classification_report(y_train, y_pred))"
   ]
  },
  {
   "cell_type": "markdown",
   "metadata": {},
   "source": [
    "### weights = {0: 11, 1: .89}, G = 10, C = 10"
   ]
  },
  {
   "cell_type": "code",
   "execution_count": 226,
   "metadata": {},
   "outputs": [
    {
     "data": {
      "text/plain": [
       "SVC(C=10, cache_size=200, class_weight={0: 0.11, 1: 0.89}, coef0=0.0,\n",
       "    decision_function_shape='ovr', degree=3, gamma=10, kernel='sigmoid',\n",
       "    max_iter=-1, probability=True, random_state=None, shrinking=True, tol=0.001,\n",
       "    verbose=False)"
      ]
     },
     "execution_count": 226,
     "metadata": {},
     "output_type": "execute_result"
    }
   ],
   "source": [
    "weights = {0: .11, 1: .89}\n",
    "svclassifier = SVC(kernel='sigmoid', probability = True, gamma = 10, C = 10, class_weight = weights)\n",
    "svclassifier.fit(X_train, y_train)"
   ]
  },
  {
   "cell_type": "code",
   "execution_count": 227,
   "metadata": {},
   "outputs": [
    {
     "data": {
      "text/plain": [
       "array([0, 0, 0, ..., 0, 0, 0])"
      ]
     },
     "execution_count": 227,
     "metadata": {},
     "output_type": "execute_result"
    }
   ],
   "source": [
    "y_pred = svclassifier.predict(X_train)\n",
    "y_pred"
   ]
  },
  {
   "cell_type": "code",
   "execution_count": 228,
   "metadata": {},
   "outputs": [
    {
     "data": {
      "text/plain": [
       "array([[0.97836716, 0.02163284],\n",
       "       [0.97836716, 0.02163284],\n",
       "       [0.97836716, 0.02163284],\n",
       "       ...,\n",
       "       [0.97836716, 0.02163284],\n",
       "       [0.97778547, 0.02221453],\n",
       "       [0.97778547, 0.02221453]])"
      ]
     },
     "execution_count": 228,
     "metadata": {},
     "output_type": "execute_result"
    }
   ],
   "source": [
    "y_pred_proba = svclassifier.predict_proba(X_train)\n",
    "y_pred_proba"
   ]
  },
  {
   "cell_type": "code",
   "execution_count": 229,
   "metadata": {},
   "outputs": [
    {
     "name": "stdout",
     "output_type": "stream",
     "text": [
      "[[94435  1007]\n",
      " [ 1979    99]]\n",
      "              precision    recall  f1-score   support\n",
      "\n",
      "           0       0.98      0.99      0.98     95442\n",
      "           1       0.09      0.05      0.06      2078\n",
      "\n",
      "    accuracy                           0.97     97520\n",
      "   macro avg       0.53      0.52      0.52     97520\n",
      "weighted avg       0.96      0.97      0.96     97520\n",
      "\n"
     ]
    }
   ],
   "source": [
    "print(confusion_matrix(y_train, y_pred))\n",
    "print(classification_report(y_train, y_pred))"
   ]
  },
  {
   "cell_type": "markdown",
   "metadata": {},
   "source": [
    "### weights = {0: 1, 1: 250}, G = 10, C = 100"
   ]
  },
  {
   "cell_type": "code",
   "execution_count": 231,
   "metadata": {},
   "outputs": [
    {
     "data": {
      "text/plain": [
       "SVC(C=100, cache_size=200, class_weight={0: 1, 1: 250}, coef0=0.0,\n",
       "    decision_function_shape='ovr', degree=3, gamma=10, kernel='sigmoid',\n",
       "    max_iter=-1, probability=True, random_state=None, shrinking=True, tol=0.001,\n",
       "    verbose=False)"
      ]
     },
     "execution_count": 231,
     "metadata": {},
     "output_type": "execute_result"
    }
   ],
   "source": [
    "weights = {0: 1, 1: 250}\n",
    "svclassifier = SVC(kernel='sigmoid', probability = True, gamma = 10, C = 100, class_weight = weights)\n",
    "svclassifier.fit(X_train, y_train)"
   ]
  },
  {
   "cell_type": "code",
   "execution_count": 232,
   "metadata": {},
   "outputs": [
    {
     "data": {
      "text/plain": [
       "array([1, 1, 1, ..., 1, 1, 1])"
      ]
     },
     "execution_count": 232,
     "metadata": {},
     "output_type": "execute_result"
    }
   ],
   "source": [
    "y_pred = svclassifier.predict(X_train)\n",
    "y_pred"
   ]
  },
  {
   "cell_type": "code",
   "execution_count": 233,
   "metadata": {},
   "outputs": [
    {
     "data": {
      "text/plain": [
       "array([[0.97961093, 0.02038907],\n",
       "       [0.97961093, 0.02038907],\n",
       "       [0.97961093, 0.02038907],\n",
       "       ...,\n",
       "       [0.97961093, 0.02038907],\n",
       "       [0.97961093, 0.02038907],\n",
       "       [0.97961093, 0.02038907]])"
      ]
     },
     "execution_count": 233,
     "metadata": {},
     "output_type": "execute_result"
    }
   ],
   "source": [
    "y_pred_proba = svclassifier.predict_proba(X_train)\n",
    "y_pred_proba"
   ]
  },
  {
   "cell_type": "code",
   "execution_count": 234,
   "metadata": {},
   "outputs": [
    {
     "name": "stdout",
     "output_type": "stream",
     "text": [
      "[[ 3519 91923]\n",
      " [  127  1951]]\n",
      "              precision    recall  f1-score   support\n",
      "\n",
      "           0       0.97      0.04      0.07     95442\n",
      "           1       0.02      0.94      0.04      2078\n",
      "\n",
      "    accuracy                           0.06     97520\n",
      "   macro avg       0.49      0.49      0.06     97520\n",
      "weighted avg       0.95      0.06      0.07     97520\n",
      "\n"
     ]
    }
   ],
   "source": [
    "print(confusion_matrix(y_train, y_pred))\n",
    "print(classification_report(y_train, y_pred))"
   ]
  },
  {
   "cell_type": "markdown",
   "metadata": {},
   "source": [
    "# Trying new options"
   ]
  },
  {
   "cell_type": "markdown",
   "metadata": {},
   "source": [
    "## weights = {0: 1, 1: 50}, G = 10, C = 100\n",
    "\n",
    "# Best result and increase Cost == Same Results"
   ]
  },
  {
   "cell_type": "code",
   "execution_count": 235,
   "metadata": {},
   "outputs": [
    {
     "data": {
      "text/plain": [
       "SVC(C=100, cache_size=200, class_weight={0: 1, 1: 50}, coef0=0.0,\n",
       "    decision_function_shape='ovr', degree=3, gamma=10, kernel='sigmoid',\n",
       "    max_iter=-1, probability=True, random_state=None, shrinking=True, tol=0.001,\n",
       "    verbose=False)"
      ]
     },
     "execution_count": 235,
     "metadata": {},
     "output_type": "execute_result"
    }
   ],
   "source": [
    "weights = {0: 1, 1: 50}\n",
    "svclassifier = SVC(kernel='sigmoid', probability = True, gamma = 10, C = 100, class_weight = weights)\n",
    "svclassifier.fit(X_train, y_train)"
   ]
  },
  {
   "cell_type": "code",
   "execution_count": 236,
   "metadata": {},
   "outputs": [
    {
     "data": {
      "text/plain": [
       "array([0, 0, 0, ..., 0, 0, 0])"
      ]
     },
     "execution_count": 236,
     "metadata": {},
     "output_type": "execute_result"
    }
   ],
   "source": [
    "y_pred = svclassifier.predict(X_train)\n",
    "y_pred"
   ]
  },
  {
   "cell_type": "code",
   "execution_count": 237,
   "metadata": {},
   "outputs": [
    {
     "data": {
      "text/plain": [
       "array([[0.97879025, 0.02120975],\n",
       "       [0.97879025, 0.02120975],\n",
       "       [0.97879025, 0.02120975],\n",
       "       ...,\n",
       "       [0.97879025, 0.02120975],\n",
       "       [0.97879025, 0.02120975],\n",
       "       [0.97879025, 0.02120975]])"
      ]
     },
     "execution_count": 237,
     "metadata": {},
     "output_type": "execute_result"
    }
   ],
   "source": [
    "y_pred_proba = svclassifier.predict_proba(X_train)\n",
    "y_pred_proba"
   ]
  },
  {
   "cell_type": "code",
   "execution_count": 238,
   "metadata": {},
   "outputs": [
    {
     "name": "stdout",
     "output_type": "stream",
     "text": [
      "[[90737  4705]\n",
      " [  885  1193]]\n",
      "              precision    recall  f1-score   support\n",
      "\n",
      "           0       0.99      0.95      0.97     95442\n",
      "           1       0.20      0.57      0.30      2078\n",
      "\n",
      "    accuracy                           0.94     97520\n",
      "   macro avg       0.60      0.76      0.63     97520\n",
      "weighted avg       0.97      0.94      0.96     97520\n",
      "\n"
     ]
    }
   ],
   "source": [
    "print(confusion_matrix(y_train, y_pred))\n",
    "print(classification_report(y_train, y_pred))"
   ]
  },
  {
   "cell_type": "markdown",
   "metadata": {},
   "source": [
    "## weights = {0: 1, 1: 50}, G = 100, C = 100"
   ]
  },
  {
   "cell_type": "code",
   "execution_count": 239,
   "metadata": {},
   "outputs": [
    {
     "data": {
      "text/plain": [
       "SVC(C=100, cache_size=200, class_weight={0: 1, 1: 50}, coef0=0.0,\n",
       "    decision_function_shape='ovr', degree=3, gamma=100, kernel='sigmoid',\n",
       "    max_iter=-1, probability=True, random_state=None, shrinking=True, tol=0.001,\n",
       "    verbose=False)"
      ]
     },
     "execution_count": 239,
     "metadata": {},
     "output_type": "execute_result"
    }
   ],
   "source": [
    "weights = {0: 1, 1: 50}\n",
    "svclassifier = SVC(kernel='sigmoid', probability = True, gamma = 100, C = 100, class_weight = weights)\n",
    "svclassifier.fit(X_train, y_train)"
   ]
  },
  {
   "cell_type": "code",
   "execution_count": 240,
   "metadata": {},
   "outputs": [
    {
     "data": {
      "text/plain": [
       "array([0, 0, 0, ..., 0, 0, 0])"
      ]
     },
     "execution_count": 240,
     "metadata": {},
     "output_type": "execute_result"
    }
   ],
   "source": [
    "y_pred = svclassifier.predict(X_train)\n",
    "y_pred"
   ]
  },
  {
   "cell_type": "code",
   "execution_count": 241,
   "metadata": {},
   "outputs": [
    {
     "data": {
      "text/plain": [
       "array([[0.97898418, 0.02101582],\n",
       "       [0.97898418, 0.02101582],\n",
       "       [0.97898418, 0.02101582],\n",
       "       ...,\n",
       "       [0.97898418, 0.02101582],\n",
       "       [0.97898418, 0.02101582],\n",
       "       [0.97898418, 0.02101582]])"
      ]
     },
     "execution_count": 241,
     "metadata": {},
     "output_type": "execute_result"
    }
   ],
   "source": [
    "y_pred_proba = svclassifier.predict_proba(X_train)\n",
    "y_pred_proba"
   ]
  },
  {
   "cell_type": "code",
   "execution_count": 242,
   "metadata": {},
   "outputs": [
    {
     "name": "stdout",
     "output_type": "stream",
     "text": [
      "[[90737  4705]\n",
      " [  885  1193]]\n",
      "              precision    recall  f1-score   support\n",
      "\n",
      "           0       0.99      0.95      0.97     95442\n",
      "           1       0.20      0.57      0.30      2078\n",
      "\n",
      "    accuracy                           0.94     97520\n",
      "   macro avg       0.60      0.76      0.63     97520\n",
      "weighted avg       0.97      0.94      0.96     97520\n",
      "\n"
     ]
    }
   ],
   "source": [
    "print(confusion_matrix(y_train, y_pred))\n",
    "print(classification_report(y_train, y_pred))"
   ]
  },
  {
   "cell_type": "markdown",
   "metadata": {},
   "source": [
    "## weights = {0: 1, 1: 75}, G = 10, C = 10"
   ]
  },
  {
   "cell_type": "code",
   "execution_count": 243,
   "metadata": {},
   "outputs": [
    {
     "data": {
      "text/plain": [
       "SVC(C=10, cache_size=200, class_weight={0: 1, 1: 75}, coef0=0.0,\n",
       "    decision_function_shape='ovr', degree=3, gamma=10, kernel='sigmoid',\n",
       "    max_iter=-1, probability=True, random_state=None, shrinking=True, tol=0.001,\n",
       "    verbose=False)"
      ]
     },
     "execution_count": 243,
     "metadata": {},
     "output_type": "execute_result"
    }
   ],
   "source": [
    "weights = {0: 1, 1: 75}\n",
    "svclassifier = SVC(kernel='sigmoid', probability = True, gamma = 10, C = 10, class_weight = weights)\n",
    "svclassifier.fit(X_train, y_train)"
   ]
  },
  {
   "cell_type": "code",
   "execution_count": 244,
   "metadata": {},
   "outputs": [
    {
     "data": {
      "text/plain": [
       "array([0, 0, 0, ..., 0, 0, 0])"
      ]
     },
     "execution_count": 244,
     "metadata": {},
     "output_type": "execute_result"
    }
   ],
   "source": [
    "y_pred = svclassifier.predict(X_train)\n",
    "y_pred"
   ]
  },
  {
   "cell_type": "code",
   "execution_count": 245,
   "metadata": {},
   "outputs": [
    {
     "data": {
      "text/plain": [
       "array([[0.97875337, 0.02124663],\n",
       "       [0.97875337, 0.02124663],\n",
       "       [0.97875337, 0.02124663],\n",
       "       ...,\n",
       "       [0.97875337, 0.02124663],\n",
       "       [0.97875337, 0.02124663],\n",
       "       [0.97875337, 0.02124663]])"
      ]
     },
     "execution_count": 245,
     "metadata": {},
     "output_type": "execute_result"
    }
   ],
   "source": [
    "y_pred_proba = svclassifier.predict_proba(X_train)\n",
    "y_pred_proba"
   ]
  },
  {
   "cell_type": "code",
   "execution_count": 246,
   "metadata": {},
   "outputs": [
    {
     "name": "stdout",
     "output_type": "stream",
     "text": [
      "[[90723  4719]\n",
      " [  884  1194]]\n",
      "              precision    recall  f1-score   support\n",
      "\n",
      "           0       0.99      0.95      0.97     95442\n",
      "           1       0.20      0.57      0.30      2078\n",
      "\n",
      "    accuracy                           0.94     97520\n",
      "   macro avg       0.60      0.76      0.63     97520\n",
      "weighted avg       0.97      0.94      0.96     97520\n",
      "\n"
     ]
    }
   ],
   "source": [
    "print(confusion_matrix(y_train, y_pred))\n",
    "print(classification_report(y_train, y_pred))"
   ]
  },
  {
   "cell_type": "code",
   "execution_count": null,
   "metadata": {},
   "outputs": [],
   "source": []
  }
 ],
 "metadata": {
  "kernelspec": {
   "display_name": "Python 3",
   "language": "python",
   "name": "python3"
  },
  "language_info": {
   "codemirror_mode": {
    "name": "ipython",
    "version": 3
   },
   "file_extension": ".py",
   "mimetype": "text/x-python",
   "name": "python",
   "nbconvert_exporter": "python",
   "pygments_lexer": "ipython3",
   "version": "3.7.3"
  }
 },
 "nbformat": 4,
 "nbformat_minor": 2
}
