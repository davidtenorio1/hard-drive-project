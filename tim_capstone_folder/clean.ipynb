{
 "cells": [
  {
   "cell_type": "code",
   "execution_count": 16,
   "metadata": {},
   "outputs": [],
   "source": [
    "# data wrangling\n",
    "import pandas as pd\n",
    "import numpy as np\n",
    "\n",
    "from sklearn.svm import LinearSVR\n",
    "from sklearn.metrics import mean_squared_error\n",
    "from sklearn.linear_model import SGDRegressor, LassoCV\n",
    "from sklearn.tree import DecisionTreeRegressor\n",
    "\n",
    "# visualizations\n",
    "import matplotlib.pyplot as plt\n",
    "import seaborn as sns\n",
    "\n",
    "# py files\n",
    "import acquire\n",
    "import prepare\n",
    "import explore\n",
    "import model"
   ]
  },
  {
   "cell_type": "code",
   "execution_count": 2,
   "metadata": {},
   "outputs": [],
   "source": [
    "df = acquire.acquire_agg_data()"
   ]
  },
  {
   "cell_type": "code",
   "execution_count": 3,
   "metadata": {},
   "outputs": [
    {
     "name": "stdout",
     "output_type": "stream",
     "text": [
      "<class 'pandas.core.frame.DataFrame'>\n",
      "RangeIndex: 169073 entries, 0 to 169072\n",
      "Data columns (total 10 columns):\n",
      "serial_number         169072 non-null object\n",
      "model                 169073 non-null object\n",
      "capacity_bytes        169073 non-null int64\n",
      "max(failure)          169073 non-null int64\n",
      "max(smart_9_raw)      161975 non-null float64\n",
      "max(smart_5_raw)      161851 non-null float64\n",
      "max(smart_187_raw)    104189 non-null float64\n",
      "max(smart_188_raw)    104179 non-null float64\n",
      "max(smart_197_raw)    161841 non-null float64\n",
      "max(smart_198_raw)    161841 non-null float64\n",
      "dtypes: float64(6), int64(2), object(2)\n",
      "memory usage: 12.9+ MB\n"
     ]
    }
   ],
   "source": [
    "df.info()"
   ]
  },
  {
   "cell_type": "code",
   "execution_count": 4,
   "metadata": {},
   "outputs": [],
   "source": [
    "df = prepare.prepare(df)"
   ]
  },
  {
   "cell_type": "code",
   "execution_count": 5,
   "metadata": {},
   "outputs": [
    {
     "name": "stdout",
     "output_type": "stream",
     "text": [
      "<class 'pandas.core.frame.DataFrame'>\n",
      "RangeIndex: 169073 entries, 0 to 169072\n",
      "Data columns (total 11 columns):\n",
      "serial_number                    169072 non-null object\n",
      "manufacturer                     169073 non-null object\n",
      "model                            169073 non-null object\n",
      "capacity_terabytes               169073 non-null float64\n",
      "failure                          169073 non-null int64\n",
      "drive_age_in_years               161975 non-null float64\n",
      "reallocated_sectors_count        161851 non-null float64\n",
      "reported_uncorrectable_errors    104189 non-null float64\n",
      "command_timeout                  104179 non-null float64\n",
      "current_pending_sector_count     161841 non-null float64\n",
      "uncorrectable_sector_count       161841 non-null float64\n",
      "dtypes: float64(7), int64(1), object(3)\n",
      "memory usage: 14.2+ MB\n"
     ]
    }
   ],
   "source": [
    "df.info()"
   ]
  },
  {
   "cell_type": "code",
   "execution_count": 6,
   "metadata": {},
   "outputs": [],
   "source": [
    "df = prepare.unique(df)"
   ]
  },
  {
   "cell_type": "code",
   "execution_count": 7,
   "metadata": {},
   "outputs": [
    {
     "name": "stdout",
     "output_type": "stream",
     "text": [
      "<class 'pandas.core.frame.DataFrame'>\n",
      "Int64Index: 162025 entries, 0 to 169067\n",
      "Data columns (total 11 columns):\n",
      "serial_number                    162024 non-null object\n",
      "manufacturer                     162025 non-null object\n",
      "model                            162025 non-null object\n",
      "capacity_terabytes               162025 non-null float64\n",
      "failure                          162025 non-null int64\n",
      "drive_age_in_years               161965 non-null float64\n",
      "reallocated_sectors_count        161841 non-null float64\n",
      "reported_uncorrectable_errors    104186 non-null float64\n",
      "command_timeout                  104176 non-null float64\n",
      "current_pending_sector_count     161831 non-null float64\n",
      "uncorrectable_sector_count       161831 non-null float64\n",
      "dtypes: float64(7), int64(1), object(3)\n",
      "memory usage: 14.8+ MB\n"
     ]
    }
   ],
   "source": [
    "df.info()"
   ]
  },
  {
   "cell_type": "code",
   "execution_count": 8,
   "metadata": {},
   "outputs": [],
   "source": [
    "df = prepare.treat_nulls(df)"
   ]
  },
  {
   "cell_type": "code",
   "execution_count": 9,
   "metadata": {},
   "outputs": [
    {
     "name": "stdout",
     "output_type": "stream",
     "text": [
      "<class 'pandas.core.frame.DataFrame'>\n",
      "Int64Index: 161830 entries, 0 to 169067\n",
      "Data columns (total 11 columns):\n",
      "serial_number                    161830 non-null object\n",
      "manufacturer                     161830 non-null object\n",
      "model                            161830 non-null object\n",
      "capacity_terabytes               161830 non-null float64\n",
      "failure                          161830 non-null int64\n",
      "drive_age_in_years               161830 non-null float64\n",
      "reallocated_sectors_count        161830 non-null float64\n",
      "reported_uncorrectable_errors    161830 non-null float64\n",
      "command_timeout                  161830 non-null float64\n",
      "current_pending_sector_count     161830 non-null float64\n",
      "uncorrectable_sector_count       161830 non-null float64\n",
      "dtypes: float64(7), int64(1), object(3)\n",
      "memory usage: 14.8+ MB\n"
     ]
    }
   ],
   "source": [
    "df.info()"
   ]
  },
  {
   "cell_type": "code",
   "execution_count": 10,
   "metadata": {},
   "outputs": [],
   "source": [
    "df = prepare.treat_nulls(df)"
   ]
  },
  {
   "cell_type": "code",
   "execution_count": 11,
   "metadata": {},
   "outputs": [],
   "source": [
    "# agg_model = df.groupby(['model']).agg({'failure' : 'sum', 'model' : 'count', 'drive_age_in_years':'mean'})\n",
    "# agg_model.rename(columns={'failure':'failures', 'model':'total_count'}, inplace=True)\n",
    "\n",
    "# # add a failure rate column\n",
    "# agg_model['failure_rate_percent'] = agg_model['failures'] / agg_model['total_count'] * 100\n",
    "# agg_model.sort_values(by=['failures'], ascending = False)"
   ]
  },
  {
   "cell_type": "code",
   "execution_count": 12,
   "metadata": {},
   "outputs": [],
   "source": [
    "df = explore.early_failure(df,1.6)"
   ]
  },
  {
   "cell_type": "code",
   "execution_count": 13,
   "metadata": {},
   "outputs": [
    {
     "name": "stdout",
     "output_type": "stream",
     "text": [
      "<class 'pandas.core.frame.DataFrame'>\n",
      "Int64Index: 161830 entries, 0 to 169067\n",
      "Data columns (total 12 columns):\n",
      "serial_number                    161830 non-null object\n",
      "manufacturer                     161830 non-null object\n",
      "model                            161830 non-null object\n",
      "capacity_terabytes               161830 non-null float64\n",
      "failure                          161830 non-null int64\n",
      "drive_age_in_years               161830 non-null float64\n",
      "reallocated_sectors_count        161830 non-null float64\n",
      "reported_uncorrectable_errors    161830 non-null float64\n",
      "command_timeout                  161830 non-null float64\n",
      "current_pending_sector_count     161830 non-null float64\n",
      "uncorrectable_sector_count       161830 non-null float64\n",
      "early_failure                    161830 non-null int64\n",
      "dtypes: float64(7), int64(2), object(3)\n",
      "memory usage: 16.1+ MB\n"
     ]
    }
   ],
   "source": [
    "df.info()"
   ]
  },
  {
   "cell_type": "code",
   "execution_count": 14,
   "metadata": {},
   "outputs": [],
   "source": [
    "df = explore.make_binary_values(df)"
   ]
  },
  {
   "cell_type": "code",
   "execution_count": 17,
   "metadata": {},
   "outputs": [
    {
     "data": {
      "text/plain": [
       "Index(['serial_number', 'manufacturer', 'model', 'capacity_terabytes',\n",
       "       'failure', 'drive_age_in_years', 'reallocated_sectors_count',\n",
       "       'reported_uncorrectable_errors', 'command_timeout',\n",
       "       'current_pending_sector_count', 'uncorrectable_sector_count',\n",
       "       'early_failure', 'smart_5_nonzero', 'smart_187_nonzero',\n",
       "       'smart_188_nonzero', 'smart_197_nonzero', 'smart_198_nonzero'],\n",
       "      dtype='object')"
      ]
     },
     "execution_count": 17,
     "metadata": {},
     "output_type": "execute_result"
    }
   ],
   "source": [
    "df.columns\n"
   ]
  },
  {
   "cell_type": "code",
   "execution_count": null,
   "metadata": {},
   "outputs": [],
   "source": []
  }
 ],
 "metadata": {
  "kernelspec": {
   "display_name": "Python 3",
   "language": "python",
   "name": "python3"
  },
  "language_info": {
   "codemirror_mode": {
    "name": "ipython",
    "version": 3
   },
   "file_extension": ".py",
   "mimetype": "text/x-python",
   "name": "python",
   "nbconvert_exporter": "python",
   "pygments_lexer": "ipython3",
   "version": "3.7.3"
  }
 },
 "nbformat": 4,
 "nbformat_minor": 2
}
