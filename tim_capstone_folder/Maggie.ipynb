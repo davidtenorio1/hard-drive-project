{
 "cells": [
  {
   "cell_type": "code",
   "execution_count": 1,
   "metadata": {},
   "outputs": [],
   "source": [
    "# data wrangling\n",
    "import pandas as pd\n",
    "import numpy as np\n",
    "\n",
    "from sklearn.svm import LinearSVR\n",
    "from sklearn.metrics import mean_squared_error\n",
    "from sklearn.linear_model import SGDRegressor, LassoCV\n",
    "from sklearn.tree import DecisionTreeRegressor\n",
    "\n",
    "# visualizations\n",
    "import matplotlib.pyplot as plt\n",
    "import seaborn as sns\n",
    "\n",
    "import warnings\n",
    "warnings.filterwarnings(\"ignore\")\n",
    "\n",
    "from sklearn.model_selection import train_test_split\n",
    "from sklearn.ensemble import RandomForestClassifier\n",
    "from sklearn.metrics import classification_report\n",
    "from sklearn.metrics import confusion_matrix\n",
    "from sklearn.preprocessing import LabelEncoder, OneHotEncoder\n",
    "from sklearn.svm import SVC\n",
    "\n",
    "# py files\n",
    "import acquire\n",
    "import prepare\n",
    "import explore\n",
    "import model"
   ]
  },
  {
   "cell_type": "code",
   "execution_count": 2,
   "metadata": {},
   "outputs": [],
   "source": [
    "df = acquire.acquire_agg_data()"
   ]
  },
  {
   "cell_type": "code",
   "execution_count": 3,
   "metadata": {},
   "outputs": [],
   "source": [
    "df = prepare.prepare(df)"
   ]
  },
  {
   "cell_type": "code",
   "execution_count": 4,
   "metadata": {},
   "outputs": [],
   "source": [
    "df = prepare.unique(df)"
   ]
  },
  {
   "cell_type": "code",
   "execution_count": 5,
   "metadata": {},
   "outputs": [],
   "source": [
    "df = prepare.treat_nulls(df)"
   ]
  },
  {
   "cell_type": "code",
   "execution_count": 6,
   "metadata": {},
   "outputs": [],
   "source": [
    "df = explore.early_failure(df)"
   ]
  },
  {
   "cell_type": "code",
   "execution_count": 7,
   "metadata": {},
   "outputs": [],
   "source": [
    "df = explore.old_or_fail(df)"
   ]
  },
  {
   "cell_type": "code",
   "execution_count": 8,
   "metadata": {},
   "outputs": [],
   "source": [
    "df = explore.make_binary_values(df)"
   ]
  },
  {
   "cell_type": "code",
   "execution_count": 9,
   "metadata": {},
   "outputs": [],
   "source": [
    "df = explore.remove_manufacturers(df)"
   ]
  },
  {
   "cell_type": "code",
   "execution_count": 10,
   "metadata": {},
   "outputs": [
    {
     "data": {
      "text/html": [
       "<div>\n",
       "<style scoped>\n",
       "    .dataframe tbody tr th:only-of-type {\n",
       "        vertical-align: middle;\n",
       "    }\n",
       "\n",
       "    .dataframe tbody tr th {\n",
       "        vertical-align: top;\n",
       "    }\n",
       "\n",
       "    .dataframe thead th {\n",
       "        text-align: right;\n",
       "    }\n",
       "</style>\n",
       "<table border=\"1\" class=\"dataframe\">\n",
       "  <thead>\n",
       "    <tr style=\"text-align: right;\">\n",
       "      <th></th>\n",
       "      <th>serial_number</th>\n",
       "      <th>manufacturer</th>\n",
       "      <th>model</th>\n",
       "      <th>capacity_terabytes</th>\n",
       "      <th>failure</th>\n",
       "      <th>drive_age_in_years</th>\n",
       "      <th>reallocated_sectors_count</th>\n",
       "      <th>reported_uncorrectable_errors</th>\n",
       "      <th>command_timeout</th>\n",
       "      <th>current_pending_sector_count</th>\n",
       "      <th>uncorrectable_sector_count</th>\n",
       "      <th>early_failure</th>\n",
       "      <th>smart_5_nonzero</th>\n",
       "      <th>smart_187_nonzero</th>\n",
       "      <th>smart_188_nonzero</th>\n",
       "      <th>smart_197_nonzero</th>\n",
       "      <th>smart_198_nonzero</th>\n",
       "    </tr>\n",
       "  </thead>\n",
       "  <tbody>\n",
       "    <tr>\n",
       "      <th>0</th>\n",
       "      <td>PL1311LAG1SJAA</td>\n",
       "      <td>Hitachi</td>\n",
       "      <td>Hitachi HDS5C4040ALE630</td>\n",
       "      <td>4.0</td>\n",
       "      <td>0</td>\n",
       "      <td>5.0</td>\n",
       "      <td>0.0</td>\n",
       "      <td>0.0</td>\n",
       "      <td>0.0</td>\n",
       "      <td>0.0</td>\n",
       "      <td>0.0</td>\n",
       "      <td>0</td>\n",
       "      <td>False</td>\n",
       "      <td>False</td>\n",
       "      <td>False</td>\n",
       "      <td>False</td>\n",
       "      <td>False</td>\n",
       "    </tr>\n",
       "    <tr>\n",
       "      <th>1</th>\n",
       "      <td>Z305KB36</td>\n",
       "      <td>Seagate</td>\n",
       "      <td>ST4000DM000</td>\n",
       "      <td>4.0</td>\n",
       "      <td>0</td>\n",
       "      <td>3.5</td>\n",
       "      <td>0.0</td>\n",
       "      <td>0.0</td>\n",
       "      <td>0.0</td>\n",
       "      <td>0.0</td>\n",
       "      <td>0.0</td>\n",
       "      <td>0</td>\n",
       "      <td>False</td>\n",
       "      <td>False</td>\n",
       "      <td>False</td>\n",
       "      <td>False</td>\n",
       "      <td>False</td>\n",
       "    </tr>\n",
       "    <tr>\n",
       "      <th>2</th>\n",
       "      <td>MJ0351YNG9MZXA</td>\n",
       "      <td>Hitachi</td>\n",
       "      <td>Hitachi HDS5C3030ALA630</td>\n",
       "      <td>3.0</td>\n",
       "      <td>0</td>\n",
       "      <td>4.8</td>\n",
       "      <td>0.0</td>\n",
       "      <td>0.0</td>\n",
       "      <td>0.0</td>\n",
       "      <td>0.0</td>\n",
       "      <td>0.0</td>\n",
       "      <td>0</td>\n",
       "      <td>False</td>\n",
       "      <td>False</td>\n",
       "      <td>False</td>\n",
       "      <td>False</td>\n",
       "      <td>False</td>\n",
       "    </tr>\n",
       "    <tr>\n",
       "      <th>3</th>\n",
       "      <td>ZA11NHSN</td>\n",
       "      <td>Seagate</td>\n",
       "      <td>ST8000DM002</td>\n",
       "      <td>8.0</td>\n",
       "      <td>0</td>\n",
       "      <td>3.0</td>\n",
       "      <td>0.0</td>\n",
       "      <td>0.0</td>\n",
       "      <td>0.0</td>\n",
       "      <td>0.0</td>\n",
       "      <td>0.0</td>\n",
       "      <td>0</td>\n",
       "      <td>False</td>\n",
       "      <td>False</td>\n",
       "      <td>False</td>\n",
       "      <td>False</td>\n",
       "      <td>False</td>\n",
       "    </tr>\n",
       "    <tr>\n",
       "      <th>4</th>\n",
       "      <td>MJ1311YNG2ZSEA</td>\n",
       "      <td>Hitachi</td>\n",
       "      <td>Hitachi HDS5C3030ALA630</td>\n",
       "      <td>3.0</td>\n",
       "      <td>0</td>\n",
       "      <td>5.5</td>\n",
       "      <td>0.0</td>\n",
       "      <td>0.0</td>\n",
       "      <td>0.0</td>\n",
       "      <td>0.0</td>\n",
       "      <td>0.0</td>\n",
       "      <td>0</td>\n",
       "      <td>False</td>\n",
       "      <td>False</td>\n",
       "      <td>False</td>\n",
       "      <td>False</td>\n",
       "      <td>False</td>\n",
       "    </tr>\n",
       "  </tbody>\n",
       "</table>\n",
       "</div>"
      ],
      "text/plain": [
       "    serial_number manufacturer                    model  capacity_terabytes  \\\n",
       "0  PL1311LAG1SJAA      Hitachi  Hitachi HDS5C4040ALE630                 4.0   \n",
       "1        Z305KB36      Seagate              ST4000DM000                 4.0   \n",
       "2  MJ0351YNG9MZXA      Hitachi  Hitachi HDS5C3030ALA630                 3.0   \n",
       "3        ZA11NHSN      Seagate              ST8000DM002                 8.0   \n",
       "4  MJ1311YNG2ZSEA      Hitachi  Hitachi HDS5C3030ALA630                 3.0   \n",
       "\n",
       "   failure  drive_age_in_years  reallocated_sectors_count  \\\n",
       "0        0                 5.0                        0.0   \n",
       "1        0                 3.5                        0.0   \n",
       "2        0                 4.8                        0.0   \n",
       "3        0                 3.0                        0.0   \n",
       "4        0                 5.5                        0.0   \n",
       "\n",
       "   reported_uncorrectable_errors  command_timeout  \\\n",
       "0                            0.0              0.0   \n",
       "1                            0.0              0.0   \n",
       "2                            0.0              0.0   \n",
       "3                            0.0              0.0   \n",
       "4                            0.0              0.0   \n",
       "\n",
       "   current_pending_sector_count  uncorrectable_sector_count  early_failure  \\\n",
       "0                           0.0                         0.0              0   \n",
       "1                           0.0                         0.0              0   \n",
       "2                           0.0                         0.0              0   \n",
       "3                           0.0                         0.0              0   \n",
       "4                           0.0                         0.0              0   \n",
       "\n",
       "   smart_5_nonzero  smart_187_nonzero  smart_188_nonzero  smart_197_nonzero  \\\n",
       "0            False              False              False              False   \n",
       "1            False              False              False              False   \n",
       "2            False              False              False              False   \n",
       "3            False              False              False              False   \n",
       "4            False              False              False              False   \n",
       "\n",
       "   smart_198_nonzero  \n",
       "0              False  \n",
       "1              False  \n",
       "2              False  \n",
       "3              False  \n",
       "4              False  "
      ]
     },
     "execution_count": 10,
     "metadata": {},
     "output_type": "execute_result"
    }
   ],
   "source": [
    "df.head()"
   ]
  },
  {
   "cell_type": "code",
   "execution_count": 11,
   "metadata": {},
   "outputs": [
    {
     "data": {
      "text/plain": [
       "(83940, 17)"
      ]
     },
     "execution_count": 11,
     "metadata": {},
     "output_type": "execute_result"
    }
   ],
   "source": [
    "df.shape"
   ]
  },
  {
   "cell_type": "code",
   "execution_count": 12,
   "metadata": {},
   "outputs": [],
   "source": [
    "def split_my_data(df):\n",
    "    X = df.drop(columns = ['serial_number', 'failure', 'model', 'early_failure', 'drive_age_in_years', 'reallocated_sectors_count', 'reported_uncorrectable_errors', 'command_timeout', 'current_pending_sector_count', 'uncorrectable_sector_count'])\n",
    "    y = df[['early_failure']]\n",
    "    X_train, X_test, y_train, y_test = train_test_split(X, y, train_size = .80, random_state = 123, stratify=df.early_failure)\n",
    "    return X, y, X_train, X_test, y_train, y_test"
   ]
  },
  {
   "cell_type": "code",
   "execution_count": 13,
   "metadata": {},
   "outputs": [],
   "source": [
    "def encode_hot(train, test, col_name):\n",
    "    encoded_values = sorted(list(train[col_name].unique()))\n",
    "\n",
    "    # Integer Encoding\n",
    "    int_encoder = LabelEncoder()\n",
    "    train.encoded = int_encoder.fit_transform(train[col_name])\n",
    "    test.encoded = int_encoder.transform(test[col_name])\n",
    "\n",
    "    # create 2D np arrays of the encoded variable (in train and test)\n",
    "    train_array = np.array(train.encoded).reshape(len(train.encoded),1)\n",
    "    test_array = np.array(test.encoded).reshape(len(test.encoded),1)\n",
    "\n",
    "    # One Hot Encoding\n",
    "    ohe = OneHotEncoder(sparse=False, categories='auto')\n",
    "    train_ohe = ohe.fit_transform(train_array)\n",
    "    test_ohe = ohe.transform(test_array)\n",
    "\n",
    "    # Turn the array of new values into a data frame with columns names being the values\n",
    "    # and index matching that of train/test\n",
    "    # then merge the new dataframe with the existing train/test dataframe\n",
    "    train_encoded = pd.DataFrame(data=train_ohe, columns=encoded_values, index=train.index)\n",
    "    train = train.join(train_encoded)\n",
    "\n",
    "    test_encoded = pd.DataFrame(data=test_ohe, columns=encoded_values, index=test.index)\n",
    "    test = test.join(test_encoded)\n",
    "\n",
    "    return train, test"
   ]
  },
  {
   "cell_type": "code",
   "execution_count": 14,
   "metadata": {},
   "outputs": [],
   "source": [
    "X, y, X_train, X_test, y_train, y_test = split_my_data(df)"
   ]
  },
  {
   "cell_type": "code",
   "execution_count": 15,
   "metadata": {},
   "outputs": [
    {
     "data": {
      "text/plain": [
       "(67152, 67152, 16788, 16788, 83940, 83940)"
      ]
     },
     "execution_count": 15,
     "metadata": {},
     "output_type": "execute_result"
    }
   ],
   "source": [
    "len(X_train), len(y_train), len(X_test), len(y_test), len(X), len(y)"
   ]
  },
  {
   "cell_type": "code",
   "execution_count": 16,
   "metadata": {},
   "outputs": [],
   "source": [
    "X_train, X_test = model.encode_hot(X_train, X_test, col_name = 'manufacturer')"
   ]
  },
  {
   "cell_type": "code",
   "execution_count": 17,
   "metadata": {},
   "outputs": [],
   "source": [
    "X_train = X_train.drop(columns = 'manufacturer')"
   ]
  },
  {
   "cell_type": "code",
   "execution_count": 18,
   "metadata": {},
   "outputs": [],
   "source": [
    "X_test = X_test.drop(columns = 'manufacturer')"
   ]
  },
  {
   "cell_type": "code",
   "execution_count": 19,
   "metadata": {},
   "outputs": [],
   "source": [
    "X_train = X_train.drop(columns = 'capacity_terabytes')"
   ]
  },
  {
   "cell_type": "code",
   "execution_count": 20,
   "metadata": {},
   "outputs": [],
   "source": [
    "X_test = X_test.drop(columns = 'capacity_terabytes')"
   ]
  },
  {
   "cell_type": "code",
   "execution_count": 21,
   "metadata": {},
   "outputs": [
    {
     "name": "stdout",
     "output_type": "stream",
     "text": [
      "(67152, 9) (16788, 9) (67152, 1) (16788, 1)\n"
     ]
    }
   ],
   "source": [
    "print(X_train.shape, X_test.shape, y_train.shape, y_test.shape)"
   ]
  },
  {
   "cell_type": "code",
   "execution_count": 22,
   "metadata": {},
   "outputs": [
    {
     "data": {
      "text/html": [
       "<div>\n",
       "<style scoped>\n",
       "    .dataframe tbody tr th:only-of-type {\n",
       "        vertical-align: middle;\n",
       "    }\n",
       "\n",
       "    .dataframe tbody tr th {\n",
       "        vertical-align: top;\n",
       "    }\n",
       "\n",
       "    .dataframe thead th {\n",
       "        text-align: right;\n",
       "    }\n",
       "</style>\n",
       "<table border=\"1\" class=\"dataframe\">\n",
       "  <thead>\n",
       "    <tr style=\"text-align: right;\">\n",
       "      <th></th>\n",
       "      <th>smart_5_nonzero</th>\n",
       "      <th>smart_187_nonzero</th>\n",
       "      <th>smart_188_nonzero</th>\n",
       "      <th>smart_197_nonzero</th>\n",
       "      <th>smart_198_nonzero</th>\n",
       "      <th>Hitachi</th>\n",
       "      <th>Seagate</th>\n",
       "      <th>Toshiba</th>\n",
       "      <th>Western Digital</th>\n",
       "    </tr>\n",
       "  </thead>\n",
       "  <tbody>\n",
       "    <tr>\n",
       "      <th>121424</th>\n",
       "      <td>True</td>\n",
       "      <td>False</td>\n",
       "      <td>False</td>\n",
       "      <td>True</td>\n",
       "      <td>True</td>\n",
       "      <td>0.0</td>\n",
       "      <td>1.0</td>\n",
       "      <td>0.0</td>\n",
       "      <td>0.0</td>\n",
       "    </tr>\n",
       "    <tr>\n",
       "      <th>51821</th>\n",
       "      <td>False</td>\n",
       "      <td>False</td>\n",
       "      <td>False</td>\n",
       "      <td>False</td>\n",
       "      <td>False</td>\n",
       "      <td>0.0</td>\n",
       "      <td>1.0</td>\n",
       "      <td>0.0</td>\n",
       "      <td>0.0</td>\n",
       "    </tr>\n",
       "    <tr>\n",
       "      <th>39076</th>\n",
       "      <td>False</td>\n",
       "      <td>False</td>\n",
       "      <td>False</td>\n",
       "      <td>False</td>\n",
       "      <td>False</td>\n",
       "      <td>1.0</td>\n",
       "      <td>0.0</td>\n",
       "      <td>0.0</td>\n",
       "      <td>0.0</td>\n",
       "    </tr>\n",
       "    <tr>\n",
       "      <th>139516</th>\n",
       "      <td>False</td>\n",
       "      <td>False</td>\n",
       "      <td>False</td>\n",
       "      <td>False</td>\n",
       "      <td>False</td>\n",
       "      <td>1.0</td>\n",
       "      <td>0.0</td>\n",
       "      <td>0.0</td>\n",
       "      <td>0.0</td>\n",
       "    </tr>\n",
       "    <tr>\n",
       "      <th>50771</th>\n",
       "      <td>False</td>\n",
       "      <td>False</td>\n",
       "      <td>False</td>\n",
       "      <td>False</td>\n",
       "      <td>False</td>\n",
       "      <td>1.0</td>\n",
       "      <td>0.0</td>\n",
       "      <td>0.0</td>\n",
       "      <td>0.0</td>\n",
       "    </tr>\n",
       "  </tbody>\n",
       "</table>\n",
       "</div>"
      ],
      "text/plain": [
       "        smart_5_nonzero  smart_187_nonzero  smart_188_nonzero  \\\n",
       "121424             True              False              False   \n",
       "51821             False              False              False   \n",
       "39076             False              False              False   \n",
       "139516            False              False              False   \n",
       "50771             False              False              False   \n",
       "\n",
       "        smart_197_nonzero  smart_198_nonzero  Hitachi  Seagate  Toshiba  \\\n",
       "121424               True               True      0.0      1.0      0.0   \n",
       "51821               False              False      0.0      1.0      0.0   \n",
       "39076               False              False      1.0      0.0      0.0   \n",
       "139516              False              False      1.0      0.0      0.0   \n",
       "50771               False              False      1.0      0.0      0.0   \n",
       "\n",
       "        Western Digital  \n",
       "121424              0.0  \n",
       "51821               0.0  \n",
       "39076               0.0  \n",
       "139516              0.0  \n",
       "50771               0.0  "
      ]
     },
     "execution_count": 22,
     "metadata": {},
     "output_type": "execute_result"
    }
   ],
   "source": [
    "X_train.head()"
   ]
  },
  {
   "cell_type": "markdown",
   "metadata": {},
   "source": [
    "### Model Train"
   ]
  },
  {
   "cell_type": "code",
   "execution_count": 23,
   "metadata": {},
   "outputs": [
    {
     "data": {
      "text/plain": [
       "SVC(C=100, cache_size=200, class_weight={0: 1, 1: 75}, coef0=0.0,\n",
       "    decision_function_shape='ovr', degree=3, gamma=100, kernel='sigmoid',\n",
       "    max_iter=-1, probability=True, random_state=None, shrinking=True, tol=0.001,\n",
       "    verbose=False)"
      ]
     },
     "execution_count": 23,
     "metadata": {},
     "output_type": "execute_result"
    }
   ],
   "source": [
    "weights = {0: 1, 1: 75}\n",
    "svclassifier = SVC(kernel='sigmoid', probability = True, gamma = 100, C = 100, class_weight = weights)\n",
    "svclassifier.fit(X_train, y_train)"
   ]
  },
  {
   "cell_type": "code",
   "execution_count": 24,
   "metadata": {},
   "outputs": [
    {
     "data": {
      "text/plain": [
       "array([1, 1, 0, ..., 1, 1, 0])"
      ]
     },
     "execution_count": 24,
     "metadata": {},
     "output_type": "execute_result"
    }
   ],
   "source": [
    "y_pred_train = svclassifier.predict(X_train)\n",
    "y_pred_train"
   ]
  },
  {
   "cell_type": "code",
   "execution_count": 25,
   "metadata": {},
   "outputs": [
    {
     "data": {
      "text/plain": [
       "array([[0.13551292, 0.86448708],\n",
       "       [0.97495352, 0.02504648],\n",
       "       [0.97495396, 0.02504604],\n",
       "       ...,\n",
       "       [0.97495352, 0.02504648],\n",
       "       [0.97495352, 0.02504648],\n",
       "       [0.97495396, 0.02504604]])"
      ]
     },
     "execution_count": 25,
     "metadata": {},
     "output_type": "execute_result"
    }
   ],
   "source": [
    "y_pred_proba_train = svclassifier.predict_proba(X_train)\n",
    "y_pred_proba_train"
   ]
  },
  {
   "cell_type": "code",
   "execution_count": 26,
   "metadata": {},
   "outputs": [
    {
     "name": "stdout",
     "output_type": "stream",
     "text": [
      "[[27059 36904]\n",
      " [  346  2843]]\n",
      "              precision    recall  f1-score   support\n",
      "\n",
      "           0       0.99      0.42      0.59     63963\n",
      "           1       0.07      0.89      0.13      3189\n",
      "\n",
      "    accuracy                           0.45     67152\n",
      "   macro avg       0.53      0.66      0.36     67152\n",
      "weighted avg       0.94      0.45      0.57     67152\n",
      "\n"
     ]
    }
   ],
   "source": [
    "print(confusion_matrix(y_train, y_pred_train))\n",
    "print(classification_report(y_train, y_pred_train))"
   ]
  },
  {
   "cell_type": "markdown",
   "metadata": {},
   "source": [
    "### Model Test"
   ]
  },
  {
   "cell_type": "code",
   "execution_count": 27,
   "metadata": {},
   "outputs": [
    {
     "data": {
      "text/plain": [
       "array([1, 1, 1, ..., 1, 0, 1])"
      ]
     },
     "execution_count": 27,
     "metadata": {},
     "output_type": "execute_result"
    }
   ],
   "source": [
    "y_pred_test = svclassifier.predict(X_test)\n",
    "y_pred_test"
   ]
  },
  {
   "cell_type": "code",
   "execution_count": 28,
   "metadata": {},
   "outputs": [
    {
     "data": {
      "text/plain": [
       "array([[0.97495352, 0.02504648],\n",
       "       [0.97495352, 0.02504648],\n",
       "       [0.97495352, 0.02504648],\n",
       "       ...,\n",
       "       [0.97495352, 0.02504648],\n",
       "       [0.97495396, 0.02504604],\n",
       "       [0.97495352, 0.02504648]])"
      ]
     },
     "execution_count": 28,
     "metadata": {},
     "output_type": "execute_result"
    }
   ],
   "source": [
    "y_pred_proba_test = svclassifier.predict_proba(X_test)\n",
    "y_pred_proba_test"
   ]
  },
  {
   "cell_type": "code",
   "execution_count": 29,
   "metadata": {},
   "outputs": [
    {
     "name": "stdout",
     "output_type": "stream",
     "text": [
      "[[6727 9264]\n",
      " [  95  702]]\n",
      "              precision    recall  f1-score   support\n",
      "\n",
      "           0       0.99      0.42      0.59     15991\n",
      "           1       0.07      0.88      0.13       797\n",
      "\n",
      "    accuracy                           0.44     16788\n",
      "   macro avg       0.53      0.65      0.36     16788\n",
      "weighted avg       0.94      0.44      0.57     16788\n",
      "\n"
     ]
    }
   ],
   "source": [
    "print(confusion_matrix(y_test, y_pred_test))\n",
    "print(classification_report(y_test, y_pred_test))"
   ]
  },
  {
   "cell_type": "code",
   "execution_count": null,
   "metadata": {},
   "outputs": [],
   "source": []
  }
 ],
 "metadata": {
  "kernelspec": {
   "display_name": "Python 3",
   "language": "python",
   "name": "python3"
  },
  "language_info": {
   "codemirror_mode": {
    "name": "ipython",
    "version": 3
   },
   "file_extension": ".py",
   "mimetype": "text/x-python",
   "name": "python",
   "nbconvert_exporter": "python",
   "pygments_lexer": "ipython3",
   "version": "3.7.3"
  }
 },
 "nbformat": 4,
 "nbformat_minor": 2
}
