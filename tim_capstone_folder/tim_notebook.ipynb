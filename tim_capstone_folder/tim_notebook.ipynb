{
 "cells": [
  {
   "cell_type": "code",
   "execution_count": 1,
   "metadata": {},
   "outputs": [],
   "source": [
    "import pandas as pd\n",
    "import numpy as np\n",
    "\n",
    "df = pd.read_csv('data_Q3_2019/2019-07-01.csv')"
   ]
  },
  {
   "cell_type": "code",
   "execution_count": 2,
   "metadata": {},
   "outputs": [
    {
     "data": {
      "text/html": [
       "<div>\n",
       "<style scoped>\n",
       "    .dataframe tbody tr th:only-of-type {\n",
       "        vertical-align: middle;\n",
       "    }\n",
       "\n",
       "    .dataframe tbody tr th {\n",
       "        vertical-align: top;\n",
       "    }\n",
       "\n",
       "    .dataframe thead th {\n",
       "        text-align: right;\n",
       "    }\n",
       "</style>\n",
       "<table border=\"1\" class=\"dataframe\">\n",
       "  <thead>\n",
       "    <tr style=\"text-align: right;\">\n",
       "      <th></th>\n",
       "      <th>date</th>\n",
       "      <th>serial_number</th>\n",
       "      <th>model</th>\n",
       "      <th>capacity_bytes</th>\n",
       "      <th>failure</th>\n",
       "      <th>smart_1_normalized</th>\n",
       "      <th>smart_1_raw</th>\n",
       "      <th>smart_2_normalized</th>\n",
       "      <th>smart_2_raw</th>\n",
       "      <th>smart_3_normalized</th>\n",
       "      <th>...</th>\n",
       "      <th>smart_250_normalized</th>\n",
       "      <th>smart_250_raw</th>\n",
       "      <th>smart_251_normalized</th>\n",
       "      <th>smart_251_raw</th>\n",
       "      <th>smart_252_normalized</th>\n",
       "      <th>smart_252_raw</th>\n",
       "      <th>smart_254_normalized</th>\n",
       "      <th>smart_254_raw</th>\n",
       "      <th>smart_255_normalized</th>\n",
       "      <th>smart_255_raw</th>\n",
       "    </tr>\n",
       "  </thead>\n",
       "  <tbody>\n",
       "    <tr>\n",
       "      <th>0</th>\n",
       "      <td>2019-07-01</td>\n",
       "      <td>Z305B2QN</td>\n",
       "      <td>ST4000DM000</td>\n",
       "      <td>4000787030016</td>\n",
       "      <td>0</td>\n",
       "      <td>119.0</td>\n",
       "      <td>224077128.0</td>\n",
       "      <td>NaN</td>\n",
       "      <td>NaN</td>\n",
       "      <td>91.0</td>\n",
       "      <td>...</td>\n",
       "      <td>NaN</td>\n",
       "      <td>NaN</td>\n",
       "      <td>NaN</td>\n",
       "      <td>NaN</td>\n",
       "      <td>NaN</td>\n",
       "      <td>NaN</td>\n",
       "      <td>NaN</td>\n",
       "      <td>NaN</td>\n",
       "      <td>NaN</td>\n",
       "      <td>NaN</td>\n",
       "    </tr>\n",
       "    <tr>\n",
       "      <th>1</th>\n",
       "      <td>2019-07-01</td>\n",
       "      <td>ZJV0XJQ4</td>\n",
       "      <td>ST12000NM0007</td>\n",
       "      <td>12000138625024</td>\n",
       "      <td>0</td>\n",
       "      <td>83.0</td>\n",
       "      <td>196781888.0</td>\n",
       "      <td>NaN</td>\n",
       "      <td>NaN</td>\n",
       "      <td>98.0</td>\n",
       "      <td>...</td>\n",
       "      <td>NaN</td>\n",
       "      <td>NaN</td>\n",
       "      <td>NaN</td>\n",
       "      <td>NaN</td>\n",
       "      <td>NaN</td>\n",
       "      <td>NaN</td>\n",
       "      <td>NaN</td>\n",
       "      <td>NaN</td>\n",
       "      <td>NaN</td>\n",
       "      <td>NaN</td>\n",
       "    </tr>\n",
       "    <tr>\n",
       "      <th>2</th>\n",
       "      <td>2019-07-01</td>\n",
       "      <td>ZJV0XJQ3</td>\n",
       "      <td>ST12000NM0007</td>\n",
       "      <td>12000138625024</td>\n",
       "      <td>0</td>\n",
       "      <td>76.0</td>\n",
       "      <td>37537312.0</td>\n",
       "      <td>NaN</td>\n",
       "      <td>NaN</td>\n",
       "      <td>99.0</td>\n",
       "      <td>...</td>\n",
       "      <td>NaN</td>\n",
       "      <td>NaN</td>\n",
       "      <td>NaN</td>\n",
       "      <td>NaN</td>\n",
       "      <td>NaN</td>\n",
       "      <td>NaN</td>\n",
       "      <td>NaN</td>\n",
       "      <td>NaN</td>\n",
       "      <td>NaN</td>\n",
       "      <td>NaN</td>\n",
       "    </tr>\n",
       "    <tr>\n",
       "      <th>3</th>\n",
       "      <td>2019-07-01</td>\n",
       "      <td>ZJV0XJQ0</td>\n",
       "      <td>ST12000NM0007</td>\n",
       "      <td>12000138625024</td>\n",
       "      <td>0</td>\n",
       "      <td>100.0</td>\n",
       "      <td>1592144.0</td>\n",
       "      <td>NaN</td>\n",
       "      <td>NaN</td>\n",
       "      <td>93.0</td>\n",
       "      <td>...</td>\n",
       "      <td>NaN</td>\n",
       "      <td>NaN</td>\n",
       "      <td>NaN</td>\n",
       "      <td>NaN</td>\n",
       "      <td>NaN</td>\n",
       "      <td>NaN</td>\n",
       "      <td>NaN</td>\n",
       "      <td>NaN</td>\n",
       "      <td>NaN</td>\n",
       "      <td>NaN</td>\n",
       "    </tr>\n",
       "    <tr>\n",
       "      <th>4</th>\n",
       "      <td>2019-07-01</td>\n",
       "      <td>PL1331LAHG1S4H</td>\n",
       "      <td>HGST HMS5C4040ALE640</td>\n",
       "      <td>4000787030016</td>\n",
       "      <td>0</td>\n",
       "      <td>100.0</td>\n",
       "      <td>0.0</td>\n",
       "      <td>134.0</td>\n",
       "      <td>103.0</td>\n",
       "      <td>100.0</td>\n",
       "      <td>...</td>\n",
       "      <td>NaN</td>\n",
       "      <td>NaN</td>\n",
       "      <td>NaN</td>\n",
       "      <td>NaN</td>\n",
       "      <td>NaN</td>\n",
       "      <td>NaN</td>\n",
       "      <td>NaN</td>\n",
       "      <td>NaN</td>\n",
       "      <td>NaN</td>\n",
       "      <td>NaN</td>\n",
       "    </tr>\n",
       "  </tbody>\n",
       "</table>\n",
       "<p>5 rows × 129 columns</p>\n",
       "</div>"
      ],
      "text/plain": [
       "         date   serial_number                 model  capacity_bytes  failure  \\\n",
       "0  2019-07-01        Z305B2QN           ST4000DM000   4000787030016        0   \n",
       "1  2019-07-01        ZJV0XJQ4         ST12000NM0007  12000138625024        0   \n",
       "2  2019-07-01        ZJV0XJQ3         ST12000NM0007  12000138625024        0   \n",
       "3  2019-07-01        ZJV0XJQ0         ST12000NM0007  12000138625024        0   \n",
       "4  2019-07-01  PL1331LAHG1S4H  HGST HMS5C4040ALE640   4000787030016        0   \n",
       "\n",
       "   smart_1_normalized  smart_1_raw  smart_2_normalized  smart_2_raw  \\\n",
       "0               119.0  224077128.0                 NaN          NaN   \n",
       "1                83.0  196781888.0                 NaN          NaN   \n",
       "2                76.0   37537312.0                 NaN          NaN   \n",
       "3               100.0    1592144.0                 NaN          NaN   \n",
       "4               100.0          0.0               134.0        103.0   \n",
       "\n",
       "   smart_3_normalized  ...  smart_250_normalized  smart_250_raw  \\\n",
       "0                91.0  ...                   NaN            NaN   \n",
       "1                98.0  ...                   NaN            NaN   \n",
       "2                99.0  ...                   NaN            NaN   \n",
       "3                93.0  ...                   NaN            NaN   \n",
       "4               100.0  ...                   NaN            NaN   \n",
       "\n",
       "   smart_251_normalized  smart_251_raw  smart_252_normalized  smart_252_raw  \\\n",
       "0                   NaN            NaN                   NaN            NaN   \n",
       "1                   NaN            NaN                   NaN            NaN   \n",
       "2                   NaN            NaN                   NaN            NaN   \n",
       "3                   NaN            NaN                   NaN            NaN   \n",
       "4                   NaN            NaN                   NaN            NaN   \n",
       "\n",
       "   smart_254_normalized  smart_254_raw  smart_255_normalized  smart_255_raw  \n",
       "0                   NaN            NaN                   NaN            NaN  \n",
       "1                   NaN            NaN                   NaN            NaN  \n",
       "2                   NaN            NaN                   NaN            NaN  \n",
       "3                   NaN            NaN                   NaN            NaN  \n",
       "4                   NaN            NaN                   NaN            NaN  \n",
       "\n",
       "[5 rows x 129 columns]"
      ]
     },
     "execution_count": 2,
     "metadata": {},
     "output_type": "execute_result"
    }
   ],
   "source": [
    "df.head()"
   ]
  },
  {
   "cell_type": "code",
   "execution_count": 3,
   "metadata": {},
   "outputs": [
    {
     "data": {
      "text/plain": [
       "(110638, 129)"
      ]
     },
     "execution_count": 3,
     "metadata": {},
     "output_type": "execute_result"
    }
   ],
   "source": [
    "df.shape"
   ]
  },
  {
   "cell_type": "code",
   "execution_count": 4,
   "metadata": {},
   "outputs": [
    {
     "data": {
      "text/plain": [
       "array(['ST4000DM000', 'ST12000NM0007', 'HGST HMS5C4040ALE640',\n",
       "       'ST8000NM0055', 'ST8000DM002', 'HGST HMS5C4040BLE640',\n",
       "       'TOSHIBA MG07ACA14TA', 'HGST HUH721212ALN604',\n",
       "       'HGST HUH721212ALE600', 'TOSHIBA MQ01ABF050', 'ST500LM030',\n",
       "       'ST6000DX000', 'ST10000NM0086', 'TOSHIBA MQ01ABF050M',\n",
       "       'WDC WD5000LPVX', 'ST500LM012 HN', 'HGST HUH728080ALE600',\n",
       "       'TOSHIBA MD04ABA400V', 'TOSHIBA HDWF180', 'ST8000DM005',\n",
       "       'Seagate SSD', 'ST4000DM005', 'WDC WD5000LPCX',\n",
       "       'HGST HDS5C4040ALE630', 'DELLBOSS VD', 'ST500LM021',\n",
       "       'Hitachi HDS5C4040ALE630', 'HGST HUS726040ALE610',\n",
       "       'Seagate BarraCuda SSD ZA500CM10002',\n",
       "       'Seagate BarraCuda SSD ZA2000CM10002', 'HGST HUH721010ALE600',\n",
       "       'TOSHIBA HDWE160', 'WDC WD5000BPKT', 'ST6000DM001', 'WDC WD60EFRX',\n",
       "       'ST320LT007', 'ST8000DM004', 'ST9250315AS', 'HGST HMS5C4040BLE641',\n",
       "       'ST1000LM024 HN', 'ST6000DM004'], dtype=object)"
      ]
     },
     "execution_count": 4,
     "metadata": {},
     "output_type": "execute_result"
    }
   ],
   "source": [
    "df.model.unique()"
   ]
  },
  {
   "cell_type": "code",
   "execution_count": 5,
   "metadata": {},
   "outputs": [
    {
     "data": {
      "text/plain": [
       "array([  137438952960,   250059350016,   320072933376,   480036847616,\n",
       "         500107862016,  1000204886016,  2000398934016,  4000787030016,\n",
       "        6001175126016,  8001563222016, 10000831348736, 12000138625024,\n",
       "       14000519643136])"
      ]
     },
     "execution_count": 5,
     "metadata": {},
     "output_type": "execute_result"
    }
   ],
   "source": [
    "df.capacity_bytes.sort_values().unique()"
   ]
  },
  {
   "cell_type": "code",
   "execution_count": 6,
   "metadata": {},
   "outputs": [
    {
     "data": {
      "text/plain": [
       "count    1.106380e+05\n",
       "mean     8.286890e+12\n",
       "std      3.602449e+12\n",
       "min      1.374390e+11\n",
       "25%      4.000787e+12\n",
       "50%      8.001563e+12\n",
       "75%      1.200014e+13\n",
       "max      1.400052e+13\n",
       "Name: capacity_bytes, dtype: float64"
      ]
     },
     "execution_count": 6,
     "metadata": {},
     "output_type": "execute_result"
    }
   ],
   "source": [
    "df.capacity_bytes.describe()"
   ]
  },
  {
   "cell_type": "code",
   "execution_count": 14,
   "metadata": {},
   "outputs": [],
   "source": [
    "def get_manufacturer(model):\n",
    "    if model.startswith('ST'):\n",
    "        return 'seagate'\n",
    "    elif model.startswith('Sea'):\n",
    "        return 'seagate'\n",
    "    elif model.startswith('HGST'):\n",
    "        return 'hitachi'\n",
    "    elif model.startswith('Hit'):\n",
    "        return 'hitachi'\n",
    "    elif model.startswith('TOS'):\n",
    "        return 'toshiba'\n",
    "    elif model.startswith('DEL'):\n",
    "        return 'dell'\n",
    "    elif model.startswith('WD'):\n",
    "        return 'western digital'\n",
    "    else:\n",
    "        return 'unknown'"
   ]
  },
  {
   "cell_type": "code",
   "execution_count": 15,
   "metadata": {},
   "outputs": [
    {
     "data": {
      "text/html": [
       "<div>\n",
       "<style scoped>\n",
       "    .dataframe tbody tr th:only-of-type {\n",
       "        vertical-align: middle;\n",
       "    }\n",
       "\n",
       "    .dataframe tbody tr th {\n",
       "        vertical-align: top;\n",
       "    }\n",
       "\n",
       "    .dataframe thead th {\n",
       "        text-align: right;\n",
       "    }\n",
       "</style>\n",
       "<table border=\"1\" class=\"dataframe\">\n",
       "  <thead>\n",
       "    <tr style=\"text-align: right;\">\n",
       "      <th></th>\n",
       "      <th>model</th>\n",
       "      <th>manufacturer</th>\n",
       "    </tr>\n",
       "  </thead>\n",
       "  <tbody>\n",
       "    <tr>\n",
       "      <th>0</th>\n",
       "      <td>ST4000DM000</td>\n",
       "      <td>seagate</td>\n",
       "    </tr>\n",
       "    <tr>\n",
       "      <th>1</th>\n",
       "      <td>ST12000NM0007</td>\n",
       "      <td>seagate</td>\n",
       "    </tr>\n",
       "    <tr>\n",
       "      <th>2</th>\n",
       "      <td>ST12000NM0007</td>\n",
       "      <td>seagate</td>\n",
       "    </tr>\n",
       "    <tr>\n",
       "      <th>3</th>\n",
       "      <td>ST12000NM0007</td>\n",
       "      <td>seagate</td>\n",
       "    </tr>\n",
       "    <tr>\n",
       "      <th>4</th>\n",
       "      <td>HGST HMS5C4040ALE640</td>\n",
       "      <td>hitachi</td>\n",
       "    </tr>\n",
       "  </tbody>\n",
       "</table>\n",
       "</div>"
      ],
      "text/plain": [
       "                  model manufacturer\n",
       "0           ST4000DM000      seagate\n",
       "1         ST12000NM0007      seagate\n",
       "2         ST12000NM0007      seagate\n",
       "3         ST12000NM0007      seagate\n",
       "4  HGST HMS5C4040ALE640      hitachi"
      ]
     },
     "execution_count": 15,
     "metadata": {},
     "output_type": "execute_result"
    }
   ],
   "source": [
    "df['manufacturer'] = df.model.apply(get_manufacturer)\n",
    "df[['model', 'manufacturer']].head()"
   ]
  },
  {
   "cell_type": "code",
   "execution_count": 16,
   "metadata": {},
   "outputs": [
    {
     "data": {
      "text/plain": [
       "0"
      ]
     },
     "execution_count": 16,
     "metadata": {},
     "output_type": "execute_result"
    }
   ],
   "source": [
    "df.manufacturer.isnull().sum()"
   ]
  },
  {
   "cell_type": "code",
   "execution_count": 17,
   "metadata": {},
   "outputs": [
    {
     "data": {
      "text/plain": [
       "seagate            81521\n",
       "hitachi            26597\n",
       "toshiba             2220\n",
       "western digital      280\n",
       "dell                  20\n",
       "Name: manufacturer, dtype: int64"
      ]
     },
     "execution_count": 17,
     "metadata": {},
     "output_type": "execute_result"
    }
   ],
   "source": [
    "df.manufacturer.value_counts()"
   ]
  },
  {
   "cell_type": "code",
   "execution_count": 19,
   "metadata": {},
   "outputs": [],
   "source": [
    "# list comp. to find index of a value in a series/column\n",
    "# df['manufacturer'].loc[lambda x: x=='unknown'].index"
   ]
  },
  {
   "cell_type": "code",
   "execution_count": 20,
   "metadata": {},
   "outputs": [],
   "source": [
    "#df.iloc[5913]"
   ]
  },
  {
   "cell_type": "markdown",
   "metadata": {},
   "source": [
    "- The following cells are for my reference they are misc. commands"
   ]
  },
  {
   "cell_type": "code",
   "execution_count": null,
   "metadata": {},
   "outputs": [],
   "source": [
    "# to view all columns instead of ......\n",
    "# cols = df.columns.tolist()\n",
    "# cols\n",
    "\n",
    "# to view stats on SMART STAT\n",
    "# df.smart_9_raw.describe()\n",
    "\n",
    "# to view nulls because overall count is different\n",
    "# df.smart_9_raw.isnull().sum()\n",
    "\n",
    "# to view all non-null columns in a record\n",
    "# df.iloc[54718].dropna()\n",
    "\n",
    "# to view 2 columns for a specific model and its SMART STAT value\n",
    "# df[['model','smart_9_raw']][df.model=='ST12000NM0007']\n",
    "\n",
    "# David's function\n",
    "#def get_manufacturer(df):\n",
    "    models = df['model'].str[0:-1]\n",
    "    manufacturers = []\n",
    "    for i in models:\n",
    "        if i[0:2] == 'ST':\n",
    "            manufacturers.append('Seagate')\n",
    "        else:\n",
    "            manufacturers.append('Unknown')\n",
    "    df['manufacturer'] = manufacturers\n",
    "    return df  "
   ]
  }
 ],
 "metadata": {
  "kernelspec": {
   "display_name": "Python 3",
   "language": "python",
   "name": "python3"
  },
  "language_info": {
   "codemirror_mode": {
    "name": "ipython",
    "version": 3
   },
   "file_extension": ".py",
   "mimetype": "text/x-python",
   "name": "python",
   "nbconvert_exporter": "python",
   "pygments_lexer": "ipython3",
   "version": "3.7.3"
  }
 },
 "nbformat": 4,
 "nbformat_minor": 2
}
