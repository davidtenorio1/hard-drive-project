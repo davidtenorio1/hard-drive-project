{
 "cells": [
  {
   "cell_type": "markdown",
   "metadata": {},
   "source": [
    "# Which Hard Drives are Most Reliable? "
   ]
  },
  {
   "cell_type": "markdown",
   "metadata": {},
   "source": [
    "## Goal"
   ]
  },
  {
   "cell_type": "markdown",
   "metadata": {},
   "source": [
    "\n",
    "The goal of our project is to determine which hard drives are most reliable by classifying and predicting early hard drive failures. \n",
    "\n",
    "Hypotheses:\n",
    "- The 5 SMART (Self-Monitoring, Analysis and Reporting Technology) stats identified by Backblaze will indicate device hard drive failure\n",
    "- Hard drive fail rates will vary by model \n",
    "- Hard drives fail rates will vary by manufacturer \n",
    "\n",
    "Summary:\n",
    "- The 5 SMART stats are reliable indicators of early drive failure\n",
    "- Failure rates vary by model\n",
    "- Failure rates vary by manufacturer"
   ]
  },
  {
   "cell_type": "code",
   "execution_count": 144,
   "metadata": {},
   "outputs": [],
   "source": [
    "# data wrangling\n",
    "import pandas as pd\n",
    "import numpy as np\n",
    "\n",
    "#remove warnings\n",
    "import warnings\n",
    "warnings.filterwarnings(\"ignore\")\n",
    "\n",
    "# visualizations\n",
    "import matplotlib.pyplot as plt\n",
    "import seaborn as sns\n",
    "\n",
    "# py files\n",
    "import acquire\n",
    "import prepare\n",
    "import explore\n",
    "import model\n",
    "\n",
    "# data modeling\n",
    "from sklearn.neighbors import KNeighborsClassifier\n",
    "from sklearn.metrics import classification_report\n",
    "from sklearn.metrics import confusion_matrix\n",
    "from sklearn.metrics import recall_score"
   ]
  },
  {
   "cell_type": "markdown",
   "metadata": {},
   "source": [
    "## Acquire"
   ]
  },
  {
   "cell_type": "markdown",
   "metadata": {},
   "source": [
    "The raw data is available on Backblaze.com. For this analysis, the hard drive data from 2016 - 2019 is utilized. The files are downloaded to a local computer and then unzipped. The files are renamed to the format, \"data_Qx_201x\", and placed in a folder titled \"data\". \n",
    "\n",
    "The `acquire.acquire_agg_data` function reads in the data, aggregates it, and returns a Pandas dataframe. \n",
    "- Using Spark, a dataframe is created from each directory of csv files. The dataframes are concated together with their common columns. This gives a dataframe with 95 columns and 121,390,247 rows. \n",
    "- Backblaze identifies 5 SMART stats that predict hard drive failure (SMART 5, 187, 188, 197, 198). The max value of each of these stats are extracted and the dataframe is aggregated by serial number. This reduces the dataframe to 9 columns and 169,073 rows. \n",
    "- The spark dataframe is converted to a Pandas dataframe \n",
    "- The Pandas dataframe is saved as \"hard_drives_smart_5.csv\" for future use\n",
    "\n",
    "This csv is linked in the README and can be downloaded. If \"hard_drives_smart_5.csv\" is in the working directory, `acquire.acquire_agg_data` will read from the csv instead recreating the dataframe.  "
   ]
  },
  {
   "cell_type": "code",
   "execution_count": 145,
   "metadata": {},
   "outputs": [],
   "source": [
    "df = acquire.acquire_agg_data()"
   ]
  },
  {
   "cell_type": "code",
   "execution_count": 146,
   "metadata": {},
   "outputs": [
    {
     "name": "stdout",
     "output_type": "stream",
     "text": [
      "<class 'pandas.core.frame.DataFrame'>\n",
      "RangeIndex: 169073 entries, 0 to 169072\n",
      "Data columns (total 10 columns):\n",
      "serial_number         169072 non-null object\n",
      "model                 169073 non-null object\n",
      "capacity_bytes        169073 non-null int64\n",
      "max(failure)          169073 non-null int64\n",
      "max(smart_9_raw)      161975 non-null float64\n",
      "max(smart_5_raw)      161851 non-null float64\n",
      "max(smart_187_raw)    104189 non-null float64\n",
      "max(smart_188_raw)    104179 non-null float64\n",
      "max(smart_197_raw)    161841 non-null float64\n",
      "max(smart_198_raw)    161841 non-null float64\n",
      "dtypes: float64(6), int64(2), object(2)\n",
      "memory usage: 12.9+ MB\n"
     ]
    }
   ],
   "source": [
    "df.info()"
   ]
  },
  {
   "cell_type": "code",
   "execution_count": 147,
   "metadata": {},
   "outputs": [
    {
     "data": {
      "text/html": [
       "<div>\n",
       "<style scoped>\n",
       "    .dataframe tbody tr th:only-of-type {\n",
       "        vertical-align: middle;\n",
       "    }\n",
       "\n",
       "    .dataframe tbody tr th {\n",
       "        vertical-align: top;\n",
       "    }\n",
       "\n",
       "    .dataframe thead th {\n",
       "        text-align: right;\n",
       "    }\n",
       "</style>\n",
       "<table border=\"1\" class=\"dataframe\">\n",
       "  <thead>\n",
       "    <tr style=\"text-align: right;\">\n",
       "      <th></th>\n",
       "      <th>serial_number</th>\n",
       "      <th>model</th>\n",
       "      <th>capacity_bytes</th>\n",
       "      <th>max(failure)</th>\n",
       "      <th>max(smart_9_raw)</th>\n",
       "      <th>max(smart_5_raw)</th>\n",
       "      <th>max(smart_187_raw)</th>\n",
       "      <th>max(smart_188_raw)</th>\n",
       "      <th>max(smart_197_raw)</th>\n",
       "      <th>max(smart_198_raw)</th>\n",
       "    </tr>\n",
       "  </thead>\n",
       "  <tbody>\n",
       "    <tr>\n",
       "      <th>0</th>\n",
       "      <td>PL1311LAG1SJAA</td>\n",
       "      <td>Hitachi HDS5C4040ALE630</td>\n",
       "      <td>4000787030016</td>\n",
       "      <td>0</td>\n",
       "      <td>43819.0</td>\n",
       "      <td>0.0</td>\n",
       "      <td>NaN</td>\n",
       "      <td>NaN</td>\n",
       "      <td>0.0</td>\n",
       "      <td>0.0</td>\n",
       "    </tr>\n",
       "    <tr>\n",
       "      <th>1</th>\n",
       "      <td>Z305KB36</td>\n",
       "      <td>ST4000DM000</td>\n",
       "      <td>4000787030016</td>\n",
       "      <td>0</td>\n",
       "      <td>31045.0</td>\n",
       "      <td>0.0</td>\n",
       "      <td>0.0</td>\n",
       "      <td>0.0</td>\n",
       "      <td>0.0</td>\n",
       "      <td>0.0</td>\n",
       "    </tr>\n",
       "    <tr>\n",
       "      <th>2</th>\n",
       "      <td>MJ0351YNG9MZXA</td>\n",
       "      <td>Hitachi HDS5C3030ALA630</td>\n",
       "      <td>3000592982016</td>\n",
       "      <td>0</td>\n",
       "      <td>41668.0</td>\n",
       "      <td>0.0</td>\n",
       "      <td>NaN</td>\n",
       "      <td>NaN</td>\n",
       "      <td>0.0</td>\n",
       "      <td>0.0</td>\n",
       "    </tr>\n",
       "    <tr>\n",
       "      <th>3</th>\n",
       "      <td>ZA11NHSN</td>\n",
       "      <td>ST8000DM002</td>\n",
       "      <td>8001563222016</td>\n",
       "      <td>0</td>\n",
       "      <td>26284.0</td>\n",
       "      <td>0.0</td>\n",
       "      <td>0.0</td>\n",
       "      <td>0.0</td>\n",
       "      <td>0.0</td>\n",
       "      <td>0.0</td>\n",
       "    </tr>\n",
       "    <tr>\n",
       "      <th>4</th>\n",
       "      <td>MJ1311YNG2ZSEA</td>\n",
       "      <td>Hitachi HDS5C3030ALA630</td>\n",
       "      <td>3000592982016</td>\n",
       "      <td>0</td>\n",
       "      <td>47994.0</td>\n",
       "      <td>0.0</td>\n",
       "      <td>NaN</td>\n",
       "      <td>NaN</td>\n",
       "      <td>0.0</td>\n",
       "      <td>0.0</td>\n",
       "    </tr>\n",
       "  </tbody>\n",
       "</table>\n",
       "</div>"
      ],
      "text/plain": [
       "    serial_number                    model  capacity_bytes  max(failure)  \\\n",
       "0  PL1311LAG1SJAA  Hitachi HDS5C4040ALE630   4000787030016             0   \n",
       "1        Z305KB36              ST4000DM000   4000787030016             0   \n",
       "2  MJ0351YNG9MZXA  Hitachi HDS5C3030ALA630   3000592982016             0   \n",
       "3        ZA11NHSN              ST8000DM002   8001563222016             0   \n",
       "4  MJ1311YNG2ZSEA  Hitachi HDS5C3030ALA630   3000592982016             0   \n",
       "\n",
       "   max(smart_9_raw)  max(smart_5_raw)  max(smart_187_raw)  max(smart_188_raw)  \\\n",
       "0           43819.0               0.0                 NaN                 NaN   \n",
       "1           31045.0               0.0                 0.0                 0.0   \n",
       "2           41668.0               0.0                 NaN                 NaN   \n",
       "3           26284.0               0.0                 0.0                 0.0   \n",
       "4           47994.0               0.0                 NaN                 NaN   \n",
       "\n",
       "   max(smart_197_raw)  max(smart_198_raw)  \n",
       "0                 0.0                 0.0  \n",
       "1                 0.0                 0.0  \n",
       "2                 0.0                 0.0  \n",
       "3                 0.0                 0.0  \n",
       "4                 0.0                 0.0  "
      ]
     },
     "execution_count": 147,
     "metadata": {},
     "output_type": "execute_result"
    }
   ],
   "source": [
    "df.head()"
   ]
  },
  {
   "cell_type": "code",
   "execution_count": 148,
   "metadata": {},
   "outputs": [
    {
     "data": {
      "text/html": [
       "<div>\n",
       "<style scoped>\n",
       "    .dataframe tbody tr th:only-of-type {\n",
       "        vertical-align: middle;\n",
       "    }\n",
       "\n",
       "    .dataframe tbody tr th {\n",
       "        vertical-align: top;\n",
       "    }\n",
       "\n",
       "    .dataframe thead th {\n",
       "        text-align: right;\n",
       "    }\n",
       "</style>\n",
       "<table border=\"1\" class=\"dataframe\">\n",
       "  <thead>\n",
       "    <tr style=\"text-align: right;\">\n",
       "      <th></th>\n",
       "      <th>capacity_bytes</th>\n",
       "      <th>max(failure)</th>\n",
       "      <th>max(smart_9_raw)</th>\n",
       "      <th>max(smart_5_raw)</th>\n",
       "      <th>max(smart_187_raw)</th>\n",
       "      <th>max(smart_188_raw)</th>\n",
       "      <th>max(smart_197_raw)</th>\n",
       "      <th>max(smart_198_raw)</th>\n",
       "    </tr>\n",
       "  </thead>\n",
       "  <tbody>\n",
       "    <tr>\n",
       "      <th>count</th>\n",
       "      <td>1.690730e+05</td>\n",
       "      <td>169073.000000</td>\n",
       "      <td>161975.000000</td>\n",
       "      <td>161851.000000</td>\n",
       "      <td>104189.000000</td>\n",
       "      <td>1.041790e+05</td>\n",
       "      <td>161841.000000</td>\n",
       "      <td>161841.000000</td>\n",
       "    </tr>\n",
       "    <tr>\n",
       "      <th>mean</th>\n",
       "      <td>6.829480e+12</td>\n",
       "      <td>0.035085</td>\n",
       "      <td>23858.714839</td>\n",
       "      <td>69.851802</td>\n",
       "      <td>5.996190</td>\n",
       "      <td>3.264823e+08</td>\n",
       "      <td>6.265940</td>\n",
       "      <td>5.913261</td>\n",
       "    </tr>\n",
       "    <tr>\n",
       "      <th>std</th>\n",
       "      <td>3.981103e+12</td>\n",
       "      <td>0.183996</td>\n",
       "      <td>13357.230448</td>\n",
       "      <td>1393.236993</td>\n",
       "      <td>541.364663</td>\n",
       "      <td>3.014661e+10</td>\n",
       "      <td>452.148242</td>\n",
       "      <td>447.550251</td>\n",
       "    </tr>\n",
       "    <tr>\n",
       "      <th>min</th>\n",
       "      <td>-1.000000e+00</td>\n",
       "      <td>0.000000</td>\n",
       "      <td>0.000000</td>\n",
       "      <td>0.000000</td>\n",
       "      <td>0.000000</td>\n",
       "      <td>0.000000e+00</td>\n",
       "      <td>0.000000</td>\n",
       "      <td>0.000000</td>\n",
       "    </tr>\n",
       "    <tr>\n",
       "      <th>25%</th>\n",
       "      <td>4.000787e+12</td>\n",
       "      <td>0.000000</td>\n",
       "      <td>13727.000000</td>\n",
       "      <td>0.000000</td>\n",
       "      <td>0.000000</td>\n",
       "      <td>0.000000e+00</td>\n",
       "      <td>0.000000</td>\n",
       "      <td>0.000000</td>\n",
       "    </tr>\n",
       "    <tr>\n",
       "      <th>50%</th>\n",
       "      <td>4.000787e+12</td>\n",
       "      <td>0.000000</td>\n",
       "      <td>22932.000000</td>\n",
       "      <td>0.000000</td>\n",
       "      <td>0.000000</td>\n",
       "      <td>0.000000e+00</td>\n",
       "      <td>0.000000</td>\n",
       "      <td>0.000000</td>\n",
       "    </tr>\n",
       "    <tr>\n",
       "      <th>75%</th>\n",
       "      <td>1.200014e+13</td>\n",
       "      <td>0.000000</td>\n",
       "      <td>34866.000000</td>\n",
       "      <td>0.000000</td>\n",
       "      <td>0.000000</td>\n",
       "      <td>0.000000e+00</td>\n",
       "      <td>0.000000</td>\n",
       "      <td>0.000000</td>\n",
       "    </tr>\n",
       "    <tr>\n",
       "      <th>max</th>\n",
       "      <td>1.400052e+13</td>\n",
       "      <td>1.000000</td>\n",
       "      <td>90477.000000</td>\n",
       "      <td>65392.000000</td>\n",
       "      <td>65535.000000</td>\n",
       "      <td>8.933668e+12</td>\n",
       "      <td>142616.000000</td>\n",
       "      <td>142616.000000</td>\n",
       "    </tr>\n",
       "  </tbody>\n",
       "</table>\n",
       "</div>"
      ],
      "text/plain": [
       "       capacity_bytes   max(failure)  max(smart_9_raw)  max(smart_5_raw)  \\\n",
       "count    1.690730e+05  169073.000000     161975.000000     161851.000000   \n",
       "mean     6.829480e+12       0.035085      23858.714839         69.851802   \n",
       "std      3.981103e+12       0.183996      13357.230448       1393.236993   \n",
       "min     -1.000000e+00       0.000000          0.000000          0.000000   \n",
       "25%      4.000787e+12       0.000000      13727.000000          0.000000   \n",
       "50%      4.000787e+12       0.000000      22932.000000          0.000000   \n",
       "75%      1.200014e+13       0.000000      34866.000000          0.000000   \n",
       "max      1.400052e+13       1.000000      90477.000000      65392.000000   \n",
       "\n",
       "       max(smart_187_raw)  max(smart_188_raw)  max(smart_197_raw)  \\\n",
       "count       104189.000000        1.041790e+05       161841.000000   \n",
       "mean             5.996190        3.264823e+08            6.265940   \n",
       "std            541.364663        3.014661e+10          452.148242   \n",
       "min              0.000000        0.000000e+00            0.000000   \n",
       "25%              0.000000        0.000000e+00            0.000000   \n",
       "50%              0.000000        0.000000e+00            0.000000   \n",
       "75%              0.000000        0.000000e+00            0.000000   \n",
       "max          65535.000000        8.933668e+12       142616.000000   \n",
       "\n",
       "       max(smart_198_raw)  \n",
       "count       161841.000000  \n",
       "mean             5.913261  \n",
       "std            447.550251  \n",
       "min              0.000000  \n",
       "25%              0.000000  \n",
       "50%              0.000000  \n",
       "75%              0.000000  \n",
       "max         142616.000000  "
      ]
     },
     "execution_count": 148,
     "metadata": {},
     "output_type": "execute_result"
    }
   ],
   "source": [
    "df.describe()"
   ]
  },
  {
   "cell_type": "markdown",
   "metadata": {},
   "source": [
    "## Prepare"
   ]
  },
  {
   "cell_type": "markdown",
   "metadata": {},
   "source": [
    "The `prepare.prepare` function reads in the dataframe and applies the following changes:\n",
    "- Converts capacity column from bytes to terabytes.\n",
    "- Converts max(smart_9_raw) from hours to years.\n",
    "- Creates a new column for manufacturer name.\n",
    "- Renames all columns appropriately.\n",
    "- Reorders columns for understandability. "
   ]
  },
  {
   "cell_type": "code",
   "execution_count": 149,
   "metadata": {},
   "outputs": [],
   "source": [
    "df = prepare.prepare(df)"
   ]
  },
  {
   "cell_type": "code",
   "execution_count": 150,
   "metadata": {},
   "outputs": [
    {
     "data": {
      "text/html": [
       "<div>\n",
       "<style scoped>\n",
       "    .dataframe tbody tr th:only-of-type {\n",
       "        vertical-align: middle;\n",
       "    }\n",
       "\n",
       "    .dataframe tbody tr th {\n",
       "        vertical-align: top;\n",
       "    }\n",
       "\n",
       "    .dataframe thead th {\n",
       "        text-align: right;\n",
       "    }\n",
       "</style>\n",
       "<table border=\"1\" class=\"dataframe\">\n",
       "  <thead>\n",
       "    <tr style=\"text-align: right;\">\n",
       "      <th></th>\n",
       "      <th>serial_number</th>\n",
       "      <th>manufacturer</th>\n",
       "      <th>model</th>\n",
       "      <th>capacity_terabytes</th>\n",
       "      <th>failure</th>\n",
       "      <th>drive_age_in_years</th>\n",
       "      <th>reallocated_sectors_count</th>\n",
       "      <th>reported_uncorrectable_errors</th>\n",
       "      <th>command_timeout</th>\n",
       "      <th>current_pending_sector_count</th>\n",
       "      <th>uncorrectable_sector_count</th>\n",
       "    </tr>\n",
       "  </thead>\n",
       "  <tbody>\n",
       "    <tr>\n",
       "      <th>0</th>\n",
       "      <td>PL1311LAG1SJAA</td>\n",
       "      <td>Hitachi</td>\n",
       "      <td>Hitachi HDS5C4040ALE630</td>\n",
       "      <td>4.0</td>\n",
       "      <td>0</td>\n",
       "      <td>5.0</td>\n",
       "      <td>0.0</td>\n",
       "      <td>NaN</td>\n",
       "      <td>NaN</td>\n",
       "      <td>0.0</td>\n",
       "      <td>0.0</td>\n",
       "    </tr>\n",
       "    <tr>\n",
       "      <th>1</th>\n",
       "      <td>Z305KB36</td>\n",
       "      <td>Seagate</td>\n",
       "      <td>ST4000DM000</td>\n",
       "      <td>4.0</td>\n",
       "      <td>0</td>\n",
       "      <td>3.5</td>\n",
       "      <td>0.0</td>\n",
       "      <td>0.0</td>\n",
       "      <td>0.0</td>\n",
       "      <td>0.0</td>\n",
       "      <td>0.0</td>\n",
       "    </tr>\n",
       "    <tr>\n",
       "      <th>2</th>\n",
       "      <td>MJ0351YNG9MZXA</td>\n",
       "      <td>Hitachi</td>\n",
       "      <td>Hitachi HDS5C3030ALA630</td>\n",
       "      <td>3.0</td>\n",
       "      <td>0</td>\n",
       "      <td>4.8</td>\n",
       "      <td>0.0</td>\n",
       "      <td>NaN</td>\n",
       "      <td>NaN</td>\n",
       "      <td>0.0</td>\n",
       "      <td>0.0</td>\n",
       "    </tr>\n",
       "    <tr>\n",
       "      <th>3</th>\n",
       "      <td>ZA11NHSN</td>\n",
       "      <td>Seagate</td>\n",
       "      <td>ST8000DM002</td>\n",
       "      <td>8.0</td>\n",
       "      <td>0</td>\n",
       "      <td>3.0</td>\n",
       "      <td>0.0</td>\n",
       "      <td>0.0</td>\n",
       "      <td>0.0</td>\n",
       "      <td>0.0</td>\n",
       "      <td>0.0</td>\n",
       "    </tr>\n",
       "    <tr>\n",
       "      <th>4</th>\n",
       "      <td>MJ1311YNG2ZSEA</td>\n",
       "      <td>Hitachi</td>\n",
       "      <td>Hitachi HDS5C3030ALA630</td>\n",
       "      <td>3.0</td>\n",
       "      <td>0</td>\n",
       "      <td>5.5</td>\n",
       "      <td>0.0</td>\n",
       "      <td>NaN</td>\n",
       "      <td>NaN</td>\n",
       "      <td>0.0</td>\n",
       "      <td>0.0</td>\n",
       "    </tr>\n",
       "  </tbody>\n",
       "</table>\n",
       "</div>"
      ],
      "text/plain": [
       "    serial_number manufacturer                    model  capacity_terabytes  \\\n",
       "0  PL1311LAG1SJAA      Hitachi  Hitachi HDS5C4040ALE630                 4.0   \n",
       "1        Z305KB36      Seagate              ST4000DM000                 4.0   \n",
       "2  MJ0351YNG9MZXA      Hitachi  Hitachi HDS5C3030ALA630                 3.0   \n",
       "3        ZA11NHSN      Seagate              ST8000DM002                 8.0   \n",
       "4  MJ1311YNG2ZSEA      Hitachi  Hitachi HDS5C3030ALA630                 3.0   \n",
       "\n",
       "   failure  drive_age_in_years  reallocated_sectors_count  \\\n",
       "0        0                 5.0                        0.0   \n",
       "1        0                 3.5                        0.0   \n",
       "2        0                 4.8                        0.0   \n",
       "3        0                 3.0                        0.0   \n",
       "4        0                 5.5                        0.0   \n",
       "\n",
       "   reported_uncorrectable_errors  command_timeout  \\\n",
       "0                            NaN              NaN   \n",
       "1                            0.0              0.0   \n",
       "2                            NaN              NaN   \n",
       "3                            0.0              0.0   \n",
       "4                            NaN              NaN   \n",
       "\n",
       "   current_pending_sector_count  uncorrectable_sector_count  \n",
       "0                           0.0                         0.0  \n",
       "1                           0.0                         0.0  \n",
       "2                           0.0                         0.0  \n",
       "3                           0.0                         0.0  \n",
       "4                           0.0                         0.0  "
      ]
     },
     "execution_count": 150,
     "metadata": {},
     "output_type": "execute_result"
    }
   ],
   "source": [
    "df.head()"
   ]
  },
  {
   "cell_type": "markdown",
   "metadata": {},
   "source": [
    "The `prepare.unique` function reads in the dataframe and removes duplicated serial numbers that were created during aggregation."
   ]
  },
  {
   "cell_type": "markdown",
   "metadata": {},
   "source": [
    "> Due to aggregation, we have 7,031 duplicate hard drives listed with zero capacity bytes. "
   ]
  },
  {
   "cell_type": "code",
   "execution_count": 151,
   "metadata": {},
   "outputs": [
    {
     "data": {
      "text/plain": [
       " 4.0     64886\n",
       " 12.0    50729\n",
       " 8.0     26108\n",
       "-0.0      7031\n",
       " 3.0      6789\n",
       " 2.0      4678\n",
       " 0.5      2607\n",
       " 6.0      2411\n",
       " 14.0     1302\n",
       " 10.0     1255\n",
       " 1.0       388\n",
       " 0.3       327\n",
       " 1.5       267\n",
       " 0.2       210\n",
       " 5.0        46\n",
       " 0.1        39\n",
       "Name: capacity_terabytes, dtype: int64"
      ]
     },
     "execution_count": 151,
     "metadata": {},
     "output_type": "execute_result"
    }
   ],
   "source": [
    "df.capacity_terabytes.value_counts()"
   ]
  },
  {
   "cell_type": "code",
   "execution_count": 152,
   "metadata": {},
   "outputs": [],
   "source": [
    "# Run the function\n",
    "df = prepare.unique(df)"
   ]
  },
  {
   "cell_type": "code",
   "execution_count": 153,
   "metadata": {},
   "outputs": [
    {
     "data": {
      "text/plain": [
       "4.0     64878\n",
       "12.0    50729\n",
       "8.0     26106\n",
       "3.0      6789\n",
       "2.0      4678\n",
       "0.5      2607\n",
       "6.0      2411\n",
       "14.0     1302\n",
       "10.0     1255\n",
       "1.0       388\n",
       "0.3       327\n",
       "1.5       267\n",
       "0.2       210\n",
       "5.0        46\n",
       "0.1        32\n",
       "Name: capacity_terabytes, dtype: int64"
      ]
     },
     "execution_count": 153,
     "metadata": {},
     "output_type": "execute_result"
    }
   ],
   "source": [
    "# Confirm duplicate hard drives with zero capacity have been removed\n",
    "df.capacity_terabytes.value_counts()"
   ]
  },
  {
   "cell_type": "markdown",
   "metadata": {},
   "source": [
    "## Explore"
   ]
  },
  {
   "cell_type": "markdown",
   "metadata": {},
   "source": [
    "Questions to answer:\n",
    "- How do we treat null values?\n",
    "- What does our data look like?\n",
    "    - How many different models?\n",
    "    - How many different manufacturers?\n",
    "    - How many different capacity sizes?\n",
    "    - How many models are there for each manufacturer?\n",
    "    - Are model numbers unique to capacity?\n",
    "    - Are there any observations that need to be dropped (why, how many)?\n",
    "- What is a failure?\n",
    "    - What do failures look like?\n",
    "    - How is this misleading?\n",
    "    - How do we define an early failure?\n",
    "- How do the lifespans of hard drives that have failed compared to hard drives that have not failed?\n",
    "- How do non-zero SMART stat values compare to among fail and non-fail?\n",
    "- Does the average age of drive vary by manufacturer? model number?\n",
    "- Do failure rates vary by model number?\n",
    "- Determine early failure cutoff by analyzing data.\n",
    "- Which SMART attributes correlate most strongly with early failure? \n",
    "- Which features or combination of features correlate with early failure?"
   ]
  },
  {
   "cell_type": "markdown",
   "metadata": {},
   "source": [
    "### How do we treat null values?"
   ]
  },
  {
   "cell_type": "code",
   "execution_count": 154,
   "metadata": {},
   "outputs": [
    {
     "data": {
      "text/plain": [
       "serial_number                        1\n",
       "manufacturer                         0\n",
       "model                                0\n",
       "capacity_terabytes                   0\n",
       "failure                              0\n",
       "drive_age_in_years                  60\n",
       "reallocated_sectors_count          184\n",
       "reported_uncorrectable_errors    57839\n",
       "command_timeout                  57849\n",
       "current_pending_sector_count       194\n",
       "uncorrectable_sector_count         194\n",
       "dtype: int64"
      ]
     },
     "execution_count": 154,
     "metadata": {},
     "output_type": "execute_result"
    }
   ],
   "source": [
    "# Check for null values\n",
    "df.isnull().sum()"
   ]
  },
  {
   "cell_type": "code",
   "execution_count": 155,
   "metadata": {},
   "outputs": [
    {
     "data": {
      "text/plain": [
       "Index(['serial_number', 'manufacturer', 'model', 'capacity_terabytes',\n",
       "       'failure', 'drive_age_in_years', 'reallocated_sectors_count',\n",
       "       'reported_uncorrectable_errors', 'command_timeout',\n",
       "       'current_pending_sector_count', 'uncorrectable_sector_count'],\n",
       "      dtype='object')"
      ]
     },
     "execution_count": 155,
     "metadata": {},
     "output_type": "execute_result"
    }
   ],
   "source": [
    "df.columns"
   ]
  },
  {
   "cell_type": "code",
   "execution_count": 156,
   "metadata": {},
   "outputs": [
    {
     "data": {
      "text/html": [
       "<div>\n",
       "<style scoped>\n",
       "    .dataframe tbody tr th:only-of-type {\n",
       "        vertical-align: middle;\n",
       "    }\n",
       "\n",
       "    .dataframe tbody tr th {\n",
       "        vertical-align: top;\n",
       "    }\n",
       "\n",
       "    .dataframe thead th {\n",
       "        text-align: right;\n",
       "    }\n",
       "</style>\n",
       "<table border=\"1\" class=\"dataframe\">\n",
       "  <thead>\n",
       "    <tr style=\"text-align: right;\">\n",
       "      <th></th>\n",
       "      <th>capacity_terabytes</th>\n",
       "      <th>failure</th>\n",
       "      <th>drive_age_in_years</th>\n",
       "      <th>reallocated_sectors_count</th>\n",
       "      <th>reported_uncorrectable_errors</th>\n",
       "      <th>command_timeout</th>\n",
       "      <th>current_pending_sector_count</th>\n",
       "      <th>uncorrectable_sector_count</th>\n",
       "    </tr>\n",
       "  </thead>\n",
       "  <tbody>\n",
       "    <tr>\n",
       "      <th>count</th>\n",
       "      <td>162025.000000</td>\n",
       "      <td>162025.000000</td>\n",
       "      <td>161965.000000</td>\n",
       "      <td>161841.000000</td>\n",
       "      <td>104186.000000</td>\n",
       "      <td>1.041760e+05</td>\n",
       "      <td>161831.000000</td>\n",
       "      <td>161831.000000</td>\n",
       "    </tr>\n",
       "    <tr>\n",
       "      <th>mean</th>\n",
       "      <td>7.125692</td>\n",
       "      <td>0.036550</td>\n",
       "      <td>2.720621</td>\n",
       "      <td>69.854987</td>\n",
       "      <td>5.996362</td>\n",
       "      <td>3.264917e+08</td>\n",
       "      <td>6.266278</td>\n",
       "      <td>5.913626</td>\n",
       "    </tr>\n",
       "    <tr>\n",
       "      <th>std</th>\n",
       "      <td>3.797898</td>\n",
       "      <td>0.187655</td>\n",
       "      <td>1.525815</td>\n",
       "      <td>1393.279910</td>\n",
       "      <td>541.372456</td>\n",
       "      <td>3.014704e+10</td>\n",
       "      <td>452.162209</td>\n",
       "      <td>447.564076</td>\n",
       "    </tr>\n",
       "    <tr>\n",
       "      <th>min</th>\n",
       "      <td>0.100000</td>\n",
       "      <td>0.000000</td>\n",
       "      <td>0.000000</td>\n",
       "      <td>0.000000</td>\n",
       "      <td>0.000000</td>\n",
       "      <td>0.000000e+00</td>\n",
       "      <td>0.000000</td>\n",
       "      <td>0.000000</td>\n",
       "    </tr>\n",
       "    <tr>\n",
       "      <th>25%</th>\n",
       "      <td>4.000000</td>\n",
       "      <td>0.000000</td>\n",
       "      <td>1.600000</td>\n",
       "      <td>0.000000</td>\n",
       "      <td>0.000000</td>\n",
       "      <td>0.000000e+00</td>\n",
       "      <td>0.000000</td>\n",
       "      <td>0.000000</td>\n",
       "    </tr>\n",
       "    <tr>\n",
       "      <th>50%</th>\n",
       "      <td>6.000000</td>\n",
       "      <td>0.000000</td>\n",
       "      <td>2.600000</td>\n",
       "      <td>0.000000</td>\n",
       "      <td>0.000000</td>\n",
       "      <td>0.000000e+00</td>\n",
       "      <td>0.000000</td>\n",
       "      <td>0.000000</td>\n",
       "    </tr>\n",
       "    <tr>\n",
       "      <th>75%</th>\n",
       "      <td>12.000000</td>\n",
       "      <td>0.000000</td>\n",
       "      <td>4.000000</td>\n",
       "      <td>0.000000</td>\n",
       "      <td>0.000000</td>\n",
       "      <td>0.000000e+00</td>\n",
       "      <td>0.000000</td>\n",
       "      <td>0.000000</td>\n",
       "    </tr>\n",
       "    <tr>\n",
       "      <th>max</th>\n",
       "      <td>14.000000</td>\n",
       "      <td>1.000000</td>\n",
       "      <td>10.300000</td>\n",
       "      <td>65392.000000</td>\n",
       "      <td>65535.000000</td>\n",
       "      <td>8.933668e+12</td>\n",
       "      <td>142616.000000</td>\n",
       "      <td>142616.000000</td>\n",
       "    </tr>\n",
       "  </tbody>\n",
       "</table>\n",
       "</div>"
      ],
      "text/plain": [
       "       capacity_terabytes        failure  drive_age_in_years  \\\n",
       "count       162025.000000  162025.000000       161965.000000   \n",
       "mean             7.125692       0.036550            2.720621   \n",
       "std              3.797898       0.187655            1.525815   \n",
       "min              0.100000       0.000000            0.000000   \n",
       "25%              4.000000       0.000000            1.600000   \n",
       "50%              6.000000       0.000000            2.600000   \n",
       "75%             12.000000       0.000000            4.000000   \n",
       "max             14.000000       1.000000           10.300000   \n",
       "\n",
       "       reallocated_sectors_count  reported_uncorrectable_errors  \\\n",
       "count              161841.000000                  104186.000000   \n",
       "mean                   69.854987                       5.996362   \n",
       "std                  1393.279910                     541.372456   \n",
       "min                     0.000000                       0.000000   \n",
       "25%                     0.000000                       0.000000   \n",
       "50%                     0.000000                       0.000000   \n",
       "75%                     0.000000                       0.000000   \n",
       "max                 65392.000000                   65535.000000   \n",
       "\n",
       "       command_timeout  current_pending_sector_count  \\\n",
       "count     1.041760e+05                 161831.000000   \n",
       "mean      3.264917e+08                      6.266278   \n",
       "std       3.014704e+10                    452.162209   \n",
       "min       0.000000e+00                      0.000000   \n",
       "25%       0.000000e+00                      0.000000   \n",
       "50%       0.000000e+00                      0.000000   \n",
       "75%       0.000000e+00                      0.000000   \n",
       "max       8.933668e+12                 142616.000000   \n",
       "\n",
       "       uncorrectable_sector_count  \n",
       "count               161831.000000  \n",
       "mean                     5.913626  \n",
       "std                    447.564076  \n",
       "min                      0.000000  \n",
       "25%                      0.000000  \n",
       "50%                      0.000000  \n",
       "75%                      0.000000  \n",
       "max                 142616.000000  "
      ]
     },
     "execution_count": 156,
     "metadata": {},
     "output_type": "execute_result"
    }
   ],
   "source": [
    "df.describe()"
   ]
  },
  {
   "cell_type": "code",
   "execution_count": 157,
   "metadata": {},
   "outputs": [
    {
     "data": {
      "image/png": "[encoded data removed]",
      "text/plain": [
       "<Figure size 432x288 with 1 Axes>"
      ]
     },
     "metadata": {
      "needs_background": "light"
     },
     "output_type": "display_data"
    },
    {
     "data": {
      "image/png": "[encoded data removed]",
      "text/plain": [
       "<Figure size 432x288 with 1 Axes>"
      ]
     },
     "metadata": {
      "needs_background": "light"
     },
     "output_type": "display_data"
    },
    {
     "data": {
      "image/png": "[encoded data removed]",
      "text/plain": [
       "<Figure size 432x288 with 1 Axes>"
      ]
     },
     "metadata": {
      "needs_background": "light"
     },
     "output_type": "display_data"
    },
    {
     "data": {
      "image/png": "[encoded data removed]",
      "text/plain": [
       "<Figure size 432x288 with 1 Axes>"
      ]
     },
     "metadata": {
      "needs_background": "light"
     },
     "output_type": "display_data"
    },
    {
     "data": {
      "image/png": "[encoded data removed]",
      "text/plain": [
       "<Figure size 432x288 with 1 Axes>"
      ]
     },
     "metadata": {
      "needs_background": "light"
     },
     "output_type": "display_data"
    }
   ],
   "source": [
    "# Create scattplots for SMART attributes\n",
    "for col in df.columns[6:]:\n",
    "    sns.scatterplot(data=df, y=df[col], x=df.drive_age_in_years, alpha=.3)\n",
    "    plt.vlines(2.6, ymax=60000, ymin=0)\n",
    "    plt.vlines(1.6, ymax=60000, ymin=0)\n",
    "#     plt.yticks([0,60000])\n",
    "    plt.ylim((0, 60000))\n",
    "    plt.title(col)\n",
    "    plt.show()"
   ]
  },
  {
   "cell_type": "code",
   "execution_count": 158,
   "metadata": {},
   "outputs": [
    {
     "data": {
      "text/plain": [
       "5786"
      ]
     },
     "execution_count": 158,
     "metadata": {},
     "output_type": "execute_result"
    }
   ],
   "source": [
    "(df.reallocated_sectors_count != 0).sum()"
   ]
  },
  {
   "cell_type": "code",
   "execution_count": 159,
   "metadata": {},
   "outputs": [
    {
     "data": {
      "text/plain": [
       "1910"
      ]
     },
     "execution_count": 159,
     "metadata": {},
     "output_type": "execute_result"
    }
   ],
   "source": [
    "((df.reallocated_sectors_count != 0) & df.failure == 1).sum()"
   ]
  },
  {
   "cell_type": "code",
   "execution_count": 160,
   "metadata": {},
   "outputs": [
    {
     "data": {
      "text/plain": [
       "156239"
      ]
     },
     "execution_count": 160,
     "metadata": {},
     "output_type": "execute_result"
    }
   ],
   "source": [
    "(df.reallocated_sectors_count == 0).sum()"
   ]
  },
  {
   "cell_type": "code",
   "execution_count": 161,
   "metadata": {},
   "outputs": [
    {
     "data": {
      "text/plain": [
       "158013"
      ]
     },
     "execution_count": 161,
     "metadata": {},
     "output_type": "execute_result"
    }
   ],
   "source": [
    "((df.reallocated_sectors_count == 0) & df.failure == 0).sum()"
   ]
  },
  {
   "cell_type": "markdown",
   "metadata": {},
   "source": [
    "> For both \"reported_uncorrectable_errors\" and \"command_timeout\" the vast majority of values are zero. Therefore, the nulls in these columns are replaced with zeros. For the remaining nulls in \"reallocated_sectors_count\", \"current_pending_sector_count\" and \"uncorrecteable_sector_count\", there are less than 200 for each respective column. Therefore, those rows containing nulls are removed. This is performed in the `prepare.treat_nulls` function."
   ]
  },
  {
   "cell_type": "code",
   "execution_count": 162,
   "metadata": {},
   "outputs": [],
   "source": [
    "df = prepare.treat_nulls(df)"
   ]
  },
  {
   "cell_type": "code",
   "execution_count": 163,
   "metadata": {},
   "outputs": [
    {
     "data": {
      "text/plain": [
       "serial_number                    0\n",
       "manufacturer                     0\n",
       "model                            0\n",
       "capacity_terabytes               0\n",
       "failure                          0\n",
       "drive_age_in_years               0\n",
       "reallocated_sectors_count        0\n",
       "reported_uncorrectable_errors    0\n",
       "command_timeout                  0\n",
       "current_pending_sector_count     0\n",
       "uncorrectable_sector_count       0\n",
       "dtype: int64"
      ]
     },
     "execution_count": 163,
     "metadata": {},
     "output_type": "execute_result"
    }
   ],
   "source": [
    "# Confirm all nulls have been removed \n",
    "df.isnull().sum()"
   ]
  },
  {
   "cell_type": "markdown",
   "metadata": {},
   "source": [
    "> After treating all nulls, the dataframe has 11 columns and 161,830 rows. The data can be further explored. "
   ]
  },
  {
   "cell_type": "markdown",
   "metadata": {},
   "source": [
    "### What does our data look like?"
   ]
  },
  {
   "cell_type": "code",
   "execution_count": 164,
   "metadata": {},
   "outputs": [
    {
     "name": "stdout",
     "output_type": "stream",
     "text": [
      "<class 'pandas.core.frame.DataFrame'>\n",
      "Int64Index: 161830 entries, 0 to 169067\n",
      "Data columns (total 11 columns):\n",
      "serial_number                    161830 non-null object\n",
      "manufacturer                     161830 non-null object\n",
      "model                            161830 non-null object\n",
      "capacity_terabytes               161830 non-null float64\n",
      "failure                          161830 non-null int64\n",
      "drive_age_in_years               161830 non-null float64\n",
      "reallocated_sectors_count        161830 non-null float64\n",
      "reported_uncorrectable_errors    161830 non-null float64\n",
      "command_timeout                  161830 non-null float64\n",
      "current_pending_sector_count     161830 non-null float64\n",
      "uncorrectable_sector_count       161830 non-null float64\n",
      "dtypes: float64(7), int64(1), object(3)\n",
      "memory usage: 14.8+ MB\n"
     ]
    }
   ],
   "source": [
    "df.info()"
   ]
  },
  {
   "cell_type": "markdown",
   "metadata": {},
   "source": [
    "#### How many different hard drive models in our dataset? Which are the 5 most popular?"
   ]
  },
  {
   "cell_type": "markdown",
   "metadata": {},
   "source": [
    "> 97 unique hard drive models. Top 5 hard drive models include 3 Seagate and 2 Hitachi."
   ]
  },
  {
   "cell_type": "code",
   "execution_count": 165,
   "metadata": {},
   "outputs": [
    {
     "data": {
      "text/plain": [
       "97"
      ]
     },
     "execution_count": 165,
     "metadata": {},
     "output_type": "execute_result"
    }
   ],
   "source": [
    "df.model.nunique()"
   ]
  },
  {
   "cell_type": "code",
   "execution_count": 166,
   "metadata": {},
   "outputs": [
    {
     "data": {
      "text/plain": [
       "ST12000NM0007           38271\n",
       "ST4000DM000             36156\n",
       "HGST HMS5C4040BLE640    16314\n",
       "ST8000NM0055            14810\n",
       "HGST HUH721212ALN604    10875\n",
       "Name: model, dtype: int64"
      ]
     },
     "execution_count": 166,
     "metadata": {},
     "output_type": "execute_result"
    }
   ],
   "source": [
    "df['model'].value_counts().head()"
   ]
  },
  {
   "cell_type": "markdown",
   "metadata": {},
   "source": [
    "#### How many different manufacturers are included in our data set?"
   ]
  },
  {
   "cell_type": "markdown",
   "metadata": {},
   "source": [
    "> 6 unique manufacturers exist: Hitachi, Seagate, Western Digital, Toshiba, Unknown, and Samsung."
   ]
  },
  {
   "cell_type": "code",
   "execution_count": 167,
   "metadata": {},
   "outputs": [
    {
     "data": {
      "text/plain": [
       "6"
      ]
     },
     "execution_count": 167,
     "metadata": {},
     "output_type": "execute_result"
    }
   ],
   "source": [
    "df.manufacturer.nunique()"
   ]
  },
  {
   "cell_type": "code",
   "execution_count": 168,
   "metadata": {},
   "outputs": [
    {
     "data": {
      "text/plain": [
       "array(['Hitachi', 'Seagate', 'Western Digital', 'Toshiba', 'Unknown',\n",
       "       'Samsung'], dtype=object)"
      ]
     },
     "execution_count": 168,
     "metadata": {},
     "output_type": "execute_result"
    }
   ],
   "source": [
    "df.manufacturer.unique()"
   ]
  },
  {
   "cell_type": "markdown",
   "metadata": {},
   "source": [
    "#### How many different capacity sizes exist for the hard drives in our dataset?"
   ]
  },
  {
   "cell_type": "markdown",
   "metadata": {},
   "source": [
    "> 15 unique hard drive capacity sizes after rounding to the nearest tenth of a terabyte."
   ]
  },
  {
   "cell_type": "code",
   "execution_count": 169,
   "metadata": {},
   "outputs": [
    {
     "data": {
      "text/plain": [
       "15"
      ]
     },
     "execution_count": 169,
     "metadata": {},
     "output_type": "execute_result"
    }
   ],
   "source": [
    "df.capacity_terabytes.nunique()"
   ]
  },
  {
   "cell_type": "code",
   "execution_count": 170,
   "metadata": {},
   "outputs": [
    {
     "data": {
      "text/plain": [
       "array([ 4. ,  3. ,  8. ,  0.5,  6. ,  2. ,  1. ,  0.1, 12. , 10. , 14. ,\n",
       "        1.5,  0.2,  0.3,  5. ])"
      ]
     },
     "execution_count": 170,
     "metadata": {},
     "output_type": "execute_result"
    }
   ],
   "source": [
    "df.capacity_terabytes.unique()"
   ]
  },
  {
   "cell_type": "markdown",
   "metadata": {},
   "source": [
    "#### How many hard drives exist for each manufacturer?"
   ]
  },
  {
   "cell_type": "markdown",
   "metadata": {},
   "source": [
    "> Seagate and Hitachi are the most popular manufacturers. Samsung and Unknown only have 1 hard drive each. These hard drives should be dropped from our dataset. "
   ]
  },
  {
   "cell_type": "code",
   "execution_count": 171,
   "metadata": {},
   "outputs": [
    {
     "data": {
      "text/html": [
       "<div>\n",
       "<style scoped>\n",
       "    .dataframe tbody tr th:only-of-type {\n",
       "        vertical-align: middle;\n",
       "    }\n",
       "\n",
       "    .dataframe tbody tr th {\n",
       "        vertical-align: top;\n",
       "    }\n",
       "\n",
       "    .dataframe thead th {\n",
       "        text-align: right;\n",
       "    }\n",
       "</style>\n",
       "<table border=\"1\" class=\"dataframe\">\n",
       "  <thead>\n",
       "    <tr style=\"text-align: right;\">\n",
       "      <th></th>\n",
       "      <th>model</th>\n",
       "    </tr>\n",
       "    <tr>\n",
       "      <th>manufacturer</th>\n",
       "      <th></th>\n",
       "    </tr>\n",
       "  </thead>\n",
       "  <tbody>\n",
       "    <tr>\n",
       "      <th>Hitachi</th>\n",
       "      <td>51417</td>\n",
       "    </tr>\n",
       "    <tr>\n",
       "      <th>Samsung</th>\n",
       "      <td>1</td>\n",
       "    </tr>\n",
       "    <tr>\n",
       "      <th>Seagate</th>\n",
       "      <td>105012</td>\n",
       "    </tr>\n",
       "    <tr>\n",
       "      <th>Toshiba</th>\n",
       "      <td>2573</td>\n",
       "    </tr>\n",
       "    <tr>\n",
       "      <th>Unknown</th>\n",
       "      <td>1</td>\n",
       "    </tr>\n",
       "    <tr>\n",
       "      <th>Western Digital</th>\n",
       "      <td>2826</td>\n",
       "    </tr>\n",
       "  </tbody>\n",
       "</table>\n",
       "</div>"
      ],
      "text/plain": [
       "                  model\n",
       "manufacturer           \n",
       "Hitachi           51417\n",
       "Samsung               1\n",
       "Seagate          105012\n",
       "Toshiba            2573\n",
       "Unknown               1\n",
       "Western Digital    2826"
      ]
     },
     "execution_count": 171,
     "metadata": {},
     "output_type": "execute_result"
    }
   ],
   "source": [
    "df[['model', 'manufacturer']].groupby('manufacturer').count()"
   ]
  },
  {
   "cell_type": "markdown",
   "metadata": {},
   "source": [
    "#### Remove Samsung and Unknown hard drives"
   ]
  },
  {
   "cell_type": "markdown",
   "metadata": {},
   "source": [
    "The `explore.remove_manufacturer` function reads in the dataframe and removes the two manufacturers with low value counts."
   ]
  },
  {
   "cell_type": "code",
   "execution_count": 172,
   "metadata": {},
   "outputs": [],
   "source": [
    "df = explore.remove_manufacturers(df)"
   ]
  },
  {
   "cell_type": "code",
   "execution_count": 173,
   "metadata": {},
   "outputs": [
    {
     "data": {
      "text/html": [
       "<div>\n",
       "<style scoped>\n",
       "    .dataframe tbody tr th:only-of-type {\n",
       "        vertical-align: middle;\n",
       "    }\n",
       "\n",
       "    .dataframe tbody tr th {\n",
       "        vertical-align: top;\n",
       "    }\n",
       "\n",
       "    .dataframe thead th {\n",
       "        text-align: right;\n",
       "    }\n",
       "</style>\n",
       "<table border=\"1\" class=\"dataframe\">\n",
       "  <thead>\n",
       "    <tr style=\"text-align: right;\">\n",
       "      <th></th>\n",
       "      <th>model</th>\n",
       "    </tr>\n",
       "    <tr>\n",
       "      <th>manufacturer</th>\n",
       "      <th></th>\n",
       "    </tr>\n",
       "  </thead>\n",
       "  <tbody>\n",
       "    <tr>\n",
       "      <th>Hitachi</th>\n",
       "      <td>51417</td>\n",
       "    </tr>\n",
       "    <tr>\n",
       "      <th>Seagate</th>\n",
       "      <td>105012</td>\n",
       "    </tr>\n",
       "    <tr>\n",
       "      <th>Toshiba</th>\n",
       "      <td>2573</td>\n",
       "    </tr>\n",
       "    <tr>\n",
       "      <th>Western Digital</th>\n",
       "      <td>2826</td>\n",
       "    </tr>\n",
       "  </tbody>\n",
       "</table>\n",
       "</div>"
      ],
      "text/plain": [
       "                  model\n",
       "manufacturer           \n",
       "Hitachi           51417\n",
       "Seagate          105012\n",
       "Toshiba            2573\n",
       "Western Digital    2826"
      ]
     },
     "execution_count": 173,
     "metadata": {},
     "output_type": "execute_result"
    }
   ],
   "source": [
    "# Confirm low count manufacturers have been removed\n",
    "df[['model', 'manufacturer']].groupby('manufacturer').count()"
   ]
  },
  {
   "cell_type": "markdown",
   "metadata": {},
   "source": [
    "#### Are model numbers unique to capacity?"
   ]
  },
  {
   "cell_type": "markdown",
   "metadata": {},
   "source": [
    "> Yes, model numbers are unique to capacity. We ask this question to ensure there are not any hard drive models that have different capacities. "
   ]
  },
  {
   "cell_type": "code",
   "execution_count": 174,
   "metadata": {},
   "outputs": [],
   "source": [
    "# create new df to group models with their capacity terabytes\n",
    "model_terabytes = df[['model', 'capacity_terabytes']]"
   ]
  },
  {
   "cell_type": "code",
   "execution_count": 175,
   "metadata": {},
   "outputs": [
    {
     "data": {
      "text/plain": [
       "95"
      ]
     },
     "execution_count": 175,
     "metadata": {},
     "output_type": "execute_result"
    }
   ],
   "source": [
    "# count unique models\n",
    "model_terabytes.model.nunique()"
   ]
  },
  {
   "cell_type": "code",
   "execution_count": 176,
   "metadata": {},
   "outputs": [],
   "source": [
    "# group unique model and unique terabytes combinations\n",
    "unique_model_terabytes = len(model_terabytes.groupby(['model', 'capacity_terabytes']).count())"
   ]
  },
  {
   "cell_type": "code",
   "execution_count": 177,
   "metadata": {},
   "outputs": [
    {
     "data": {
      "text/plain": [
       "True"
      ]
     },
     "execution_count": 177,
     "metadata": {},
     "output_type": "execute_result"
    }
   ],
   "source": [
    "# compare the length of unique model and gigabytes combinations to the count of unique models, must equal a match.\n",
    "unique_model_terabytes == model_terabytes.model.nunique()"
   ]
  },
  {
   "cell_type": "markdown",
   "metadata": {},
   "source": [
    "#### Does the average hard drive age vary by manufacturer? By model?"
   ]
  },
  {
   "cell_type": "code",
   "execution_count": 178,
   "metadata": {},
   "outputs": [
    {
     "data": {
      "text/html": [
       "<div>\n",
       "<style scoped>\n",
       "    .dataframe tbody tr th:only-of-type {\n",
       "        vertical-align: middle;\n",
       "    }\n",
       "\n",
       "    .dataframe tbody tr th {\n",
       "        vertical-align: top;\n",
       "    }\n",
       "\n",
       "    .dataframe thead th {\n",
       "        text-align: right;\n",
       "    }\n",
       "</style>\n",
       "<table border=\"1\" class=\"dataframe\">\n",
       "  <thead>\n",
       "    <tr style=\"text-align: right;\">\n",
       "      <th></th>\n",
       "      <th>drive_age_in_years</th>\n",
       "    </tr>\n",
       "    <tr>\n",
       "      <th>manufacturer</th>\n",
       "      <th></th>\n",
       "    </tr>\n",
       "  </thead>\n",
       "  <tbody>\n",
       "    <tr>\n",
       "      <th>Hitachi</th>\n",
       "      <td>3.057432</td>\n",
       "    </tr>\n",
       "    <tr>\n",
       "      <th>Seagate</th>\n",
       "      <td>2.557938</td>\n",
       "    </tr>\n",
       "    <tr>\n",
       "      <th>Toshiba</th>\n",
       "      <td>1.611698</td>\n",
       "    </tr>\n",
       "    <tr>\n",
       "      <th>Western Digital</th>\n",
       "      <td>3.765322</td>\n",
       "    </tr>\n",
       "  </tbody>\n",
       "</table>\n",
       "</div>"
      ],
      "text/plain": [
       "                 drive_age_in_years\n",
       "manufacturer                       \n",
       "Hitachi                    3.057432\n",
       "Seagate                    2.557938\n",
       "Toshiba                    1.611698\n",
       "Western Digital            3.765322"
      ]
     },
     "execution_count": 178,
     "metadata": {},
     "output_type": "execute_result"
    }
   ],
   "source": [
    "# Average drive age by manufacturer\n",
    "manufacturers = df[['manufacturer', 'drive_age_in_years']].groupby('manufacturer',sort=True).mean()\n",
    "manufacturers"
   ]
  },
  {
   "cell_type": "code",
   "execution_count": 179,
   "metadata": {},
   "outputs": [
    {
     "data": {
      "text/plain": [
       "Text(0.5, 1.0, 'Manufacturers by Average Drive Age')"
      ]
     },
     "execution_count": 179,
     "metadata": {},
     "output_type": "execute_result"
    },
    {
     "data": {
      "image/png": "[encoded data removed]",
      "text/plain": [
       "<Figure size 432x288 with 1 Axes>"
      ]
     },
     "metadata": {
      "needs_background": "light"
     },
     "output_type": "display_data"
    }
   ],
   "source": [
    "# Plot of Manufacturers by Average Drive Age\n",
    "ax1 = plt.bar(x= manufacturers.index ,height=manufacturers.drive_age_in_years)\n",
    "plt.xlabel('Manufacturers')\n",
    "plt.ylabel('Average Hard Drive Age (Years)')\n",
    "plt.title('Manufacturers by Average Drive Age')"
   ]
  },
  {
   "cell_type": "code",
   "execution_count": 180,
   "metadata": {},
   "outputs": [
    {
     "data": {
      "text/html": [
       "<div>\n",
       "<style scoped>\n",
       "    .dataframe tbody tr th:only-of-type {\n",
       "        vertical-align: middle;\n",
       "    }\n",
       "\n",
       "    .dataframe tbody tr th {\n",
       "        vertical-align: top;\n",
       "    }\n",
       "\n",
       "    .dataframe thead th {\n",
       "        text-align: right;\n",
       "    }\n",
       "</style>\n",
       "<table border=\"1\" class=\"dataframe\">\n",
       "  <thead>\n",
       "    <tr style=\"text-align: right;\">\n",
       "      <th></th>\n",
       "      <th>drive_age_in_years</th>\n",
       "    </tr>\n",
       "    <tr>\n",
       "      <th>model</th>\n",
       "      <th></th>\n",
       "    </tr>\n",
       "  </thead>\n",
       "  <tbody>\n",
       "    <tr>\n",
       "      <th>WDC WD800LB</th>\n",
       "      <td>10.300000</td>\n",
       "    </tr>\n",
       "    <tr>\n",
       "      <th>WDC WD800BB</th>\n",
       "      <td>9.240000</td>\n",
       "    </tr>\n",
       "    <tr>\n",
       "      <th>Hitachi HDT725025VLA380</th>\n",
       "      <td>7.800000</td>\n",
       "    </tr>\n",
       "    <tr>\n",
       "      <th>WDC WD3200AAKS</th>\n",
       "      <td>6.800000</td>\n",
       "    </tr>\n",
       "    <tr>\n",
       "      <th>WDC WD10EACS</th>\n",
       "      <td>6.586667</td>\n",
       "    </tr>\n",
       "  </tbody>\n",
       "</table>\n",
       "</div>"
      ],
      "text/plain": [
       "                         drive_age_in_years\n",
       "model                                      \n",
       "WDC WD800LB                       10.300000\n",
       "WDC WD800BB                        9.240000\n",
       "Hitachi HDT725025VLA380            7.800000\n",
       "WDC WD3200AAKS                     6.800000\n",
       "WDC WD10EACS                       6.586667"
      ]
     },
     "execution_count": 180,
     "metadata": {},
     "output_type": "execute_result"
    }
   ],
   "source": [
    "# Drive age aggregated by model number and sorted. Top 10 models returned\n",
    "model_avg_age = df[['model', 'drive_age_in_years']].groupby('model',sort=True).mean().sort_values('drive_age_in_years', ascending = False)\n",
    "model_avg_age.head()"
   ]
  },
  {
   "cell_type": "code",
   "execution_count": 181,
   "metadata": {},
   "outputs": [
    {
     "data": {
      "text/plain": [
       "Text(0.5, 1.0, 'Models by Average Drive Age')"
      ]
     },
     "execution_count": 181,
     "metadata": {},
     "output_type": "execute_result"
    },
    {
     "data": {
      "image/png": "[encoded data removed]",
      "text/plain": [
       "<Figure size 432x288 with 1 Axes>"
      ]
     },
     "metadata": {
      "needs_background": "light"
     },
     "output_type": "display_data"
    }
   ],
   "source": [
    "# Plot of Models by Average Drive Age\n",
    "mod = model_avg_age.groupby('model').mean()\n",
    "ax2 = plt.bar(x= mod.index ,height=mod.drive_age_in_years)\n",
    "plt.xticks('')\n",
    "plt.xlabel('Individual Model')\n",
    "plt.ylabel('Average Drive Age (Years)')\n",
    "plt.title('Models by Average Drive Age')"
   ]
  },
  {
   "cell_type": "markdown",
   "metadata": {},
   "source": [
    "> Variance in drive age is seen in both the manufacturers and model numbers. "
   ]
  },
  {
   "cell_type": "markdown",
   "metadata": {},
   "source": [
    "### What is a hard drive failure?\n",
    "\n",
    "According to Backblaze, a hard drive failure occurs when a drive stops spinning, won’t stay as a member of a RAID array, or demonstrates continuous degradation over time as informed by SMART stats and other system checks.\n",
    "\n",
    "Because we aggregate the failur column by the max value, a \"0\" signifies a hard drive that has yet to fail, and a \"1\" signifies a hard drive that has failed. "
   ]
  },
  {
   "cell_type": "markdown",
   "metadata": {},
   "source": [
    "#### What do failures look like? "
   ]
  },
  {
   "cell_type": "markdown",
   "metadata": {},
   "source": [
    "#### How do the lifespans of hard drives that have failed compared to hard drives that have not failed?"
   ]
  },
  {
   "cell_type": "code",
   "execution_count": 182,
   "metadata": {},
   "outputs": [],
   "source": [
    "# create new dfs with hard drives that have failed, and hard drives that have not failed \n",
    "df_fails = df [df.failure == 1]\n",
    "df_lives = df [df.failure == 0]"
   ]
  },
  {
   "cell_type": "code",
   "execution_count": 183,
   "metadata": {},
   "outputs": [
    {
     "data": {
      "image/png": "[encoded data removed]",
      "text/plain": [
       "<Figure size 720x432 with 1 Axes>"
      ]
     },
     "metadata": {
      "needs_background": "light"
     },
     "output_type": "display_data"
    }
   ],
   "source": [
    "plt.figure(figsize=(10,6))\n",
    "plt.hist([df_fails.drive_age_in_years, df_lives.drive_age_in_years], stacked=True, bins=20,\n",
    "         edgecolor='slategrey', color=['salmon', 'mistyrose'])\n",
    "plt.legend([\"Failed Drives\",\"Drives yet to Fail\"])\n",
    "plt.title(\"Distribution of the Life of a Hard Drive\")\n",
    "plt.xlabel(\"Lifespan in Years\")\n",
    "plt.yticks([])\n",
    "plt.show()"
   ]
  },
  {
   "cell_type": "markdown",
   "metadata": {},
   "source": [
    "#### How is this misleading?\n",
    "- Failures do not take into account the lifespan of the hard drive. It is important to realize that all hard drives, given enough time, will eventually fail. For example, if a hard drive fails after 10 years of continual operation, is it fair to say that drive \"failed\"? Therefore, our focus should be on drives that fail before reaching their average lifespan. We need to identify early failures.  \n",
    "- Failures include not only drives that have failed, but also drives that have yet to fail but show signs of failing soon. Our goal is to determine the reliability of hard drives. Therefore, we are ok with classifying imminently failing drives as failures. "
   ]
  },
  {
   "cell_type": "markdown",
   "metadata": {},
   "source": [
    "#### How do we define an early failure? "
   ]
  },
  {
   "cell_type": "markdown",
   "metadata": {},
   "source": [
    "The goal of the project is to determine which hard drives are more prone to early failures. Looking at the lifespan of all hard drives, a hard drive that fails within the first quartile of all life spans, is labeled as an early failure."
   ]
  },
  {
   "cell_type": "code",
   "execution_count": 184,
   "metadata": {},
   "outputs": [
    {
     "data": {
      "text/html": [
       "<div>\n",
       "<style scoped>\n",
       "    .dataframe tbody tr th:only-of-type {\n",
       "        vertical-align: middle;\n",
       "    }\n",
       "\n",
       "    .dataframe tbody tr th {\n",
       "        vertical-align: top;\n",
       "    }\n",
       "\n",
       "    .dataframe thead th {\n",
       "        text-align: right;\n",
       "    }\n",
       "</style>\n",
       "<table border=\"1\" class=\"dataframe\">\n",
       "  <thead>\n",
       "    <tr style=\"text-align: right;\">\n",
       "      <th></th>\n",
       "      <th>drive_age_in_years</th>\n",
       "    </tr>\n",
       "  </thead>\n",
       "  <tbody>\n",
       "    <tr>\n",
       "      <th>count</th>\n",
       "      <td>161828.000000</td>\n",
       "    </tr>\n",
       "    <tr>\n",
       "      <th>mean</th>\n",
       "      <td>2.722680</td>\n",
       "    </tr>\n",
       "    <tr>\n",
       "      <th>std</th>\n",
       "      <td>1.524778</td>\n",
       "    </tr>\n",
       "    <tr>\n",
       "      <th>min</th>\n",
       "      <td>0.000000</td>\n",
       "    </tr>\n",
       "    <tr>\n",
       "      <th>25%</th>\n",
       "      <td>1.600000</td>\n",
       "    </tr>\n",
       "    <tr>\n",
       "      <th>50%</th>\n",
       "      <td>2.600000</td>\n",
       "    </tr>\n",
       "    <tr>\n",
       "      <th>75%</th>\n",
       "      <td>4.000000</td>\n",
       "    </tr>\n",
       "    <tr>\n",
       "      <th>max</th>\n",
       "      <td>10.300000</td>\n",
       "    </tr>\n",
       "  </tbody>\n",
       "</table>\n",
       "</div>"
      ],
      "text/plain": [
       "       drive_age_in_years\n",
       "count       161828.000000\n",
       "mean             2.722680\n",
       "std              1.524778\n",
       "min              0.000000\n",
       "25%              1.600000\n",
       "50%              2.600000\n",
       "75%              4.000000\n",
       "max             10.300000"
      ]
     },
     "execution_count": 184,
     "metadata": {},
     "output_type": "execute_result"
    }
   ],
   "source": [
    "df[['drive_age_in_years']].describe()"
   ]
  },
  {
   "cell_type": "code",
   "execution_count": null,
   "metadata": {},
   "outputs": [],
   "source": []
  },
  {
   "cell_type": "markdown",
   "metadata": {},
   "source": [
    "> A cut-off age of 1.6 years is utilized."
   ]
  },
  {
   "cell_type": "markdown",
   "metadata": {},
   "source": [
    "The `explore.early_failure` function creates a column in the dataframe that identifies drives that are early failures."
   ]
  },
  {
   "cell_type": "code",
   "execution_count": 185,
   "metadata": {},
   "outputs": [
    {
     "data": {
      "text/plain": [
       "Seagate            105012\n",
       "Hitachi             51417\n",
       "Western Digital      2826\n",
       "Toshiba              2573\n",
       "Name: manufacturer, dtype: int64"
      ]
     },
     "execution_count": 185,
     "metadata": {},
     "output_type": "execute_result"
    }
   ],
   "source": [
    "df.manufacturer.value_counts()"
   ]
  },
  {
   "cell_type": "code",
   "execution_count": null,
   "metadata": {},
   "outputs": [],
   "source": []
  },
  {
   "cell_type": "code",
   "execution_count": null,
   "metadata": {},
   "outputs": [],
   "source": []
  },
  {
   "cell_type": "code",
   "execution_count": 186,
   "metadata": {},
   "outputs": [
    {
     "data": {
      "text/plain": [
       "0    155917\n",
       "1      5911\n",
       "Name: failure, dtype: int64"
      ]
     },
     "execution_count": 186,
     "metadata": {},
     "output_type": "execute_result"
    }
   ],
   "source": [
    "df.failure.value_counts()"
   ]
  },
  {
   "cell_type": "code",
   "execution_count": 187,
   "metadata": {},
   "outputs": [
    {
     "data": {
      "text/html": [
       "<div>\n",
       "<style scoped>\n",
       "    .dataframe tbody tr th:only-of-type {\n",
       "        vertical-align: middle;\n",
       "    }\n",
       "\n",
       "    .dataframe tbody tr th {\n",
       "        vertical-align: top;\n",
       "    }\n",
       "\n",
       "    .dataframe thead th {\n",
       "        text-align: right;\n",
       "    }\n",
       "</style>\n",
       "<table border=\"1\" class=\"dataframe\">\n",
       "  <thead>\n",
       "    <tr style=\"text-align: right;\">\n",
       "      <th></th>\n",
       "      <th>capacity_terabytes</th>\n",
       "      <th>failure</th>\n",
       "      <th>drive_age_in_years</th>\n",
       "      <th>reallocated_sectors_count</th>\n",
       "      <th>reported_uncorrectable_errors</th>\n",
       "      <th>command_timeout</th>\n",
       "      <th>current_pending_sector_count</th>\n",
       "      <th>uncorrectable_sector_count</th>\n",
       "    </tr>\n",
       "  </thead>\n",
       "  <tbody>\n",
       "    <tr>\n",
       "      <th>count</th>\n",
       "      <td>161828.000000</td>\n",
       "      <td>161828.000000</td>\n",
       "      <td>161828.000000</td>\n",
       "      <td>161828.000000</td>\n",
       "      <td>161828.000000</td>\n",
       "      <td>1.618280e+05</td>\n",
       "      <td>161828.000000</td>\n",
       "      <td>161828.000000</td>\n",
       "    </tr>\n",
       "    <tr>\n",
       "      <th>mean</th>\n",
       "      <td>7.133777</td>\n",
       "      <td>0.036526</td>\n",
       "      <td>2.722680</td>\n",
       "      <td>69.860599</td>\n",
       "      <td>3.638474</td>\n",
       "      <td>2.101775e+08</td>\n",
       "      <td>6.266388</td>\n",
       "      <td>5.913736</td>\n",
       "    </tr>\n",
       "    <tr>\n",
       "      <th>std</th>\n",
       "      <td>3.793097</td>\n",
       "      <td>0.187597</td>\n",
       "      <td>1.524778</td>\n",
       "      <td>1393.335731</td>\n",
       "      <td>425.113452</td>\n",
       "      <td>2.418856e+10</td>\n",
       "      <td>452.166400</td>\n",
       "      <td>447.568224</td>\n",
       "    </tr>\n",
       "    <tr>\n",
       "      <th>min</th>\n",
       "      <td>0.100000</td>\n",
       "      <td>0.000000</td>\n",
       "      <td>0.000000</td>\n",
       "      <td>0.000000</td>\n",
       "      <td>0.000000</td>\n",
       "      <td>0.000000e+00</td>\n",
       "      <td>0.000000</td>\n",
       "      <td>0.000000</td>\n",
       "    </tr>\n",
       "    <tr>\n",
       "      <th>25%</th>\n",
       "      <td>4.000000</td>\n",
       "      <td>0.000000</td>\n",
       "      <td>1.600000</td>\n",
       "      <td>0.000000</td>\n",
       "      <td>0.000000</td>\n",
       "      <td>0.000000e+00</td>\n",
       "      <td>0.000000</td>\n",
       "      <td>0.000000</td>\n",
       "    </tr>\n",
       "    <tr>\n",
       "      <th>50%</th>\n",
       "      <td>6.000000</td>\n",
       "      <td>0.000000</td>\n",
       "      <td>2.600000</td>\n",
       "      <td>0.000000</td>\n",
       "      <td>0.000000</td>\n",
       "      <td>0.000000e+00</td>\n",
       "      <td>0.000000</td>\n",
       "      <td>0.000000</td>\n",
       "    </tr>\n",
       "    <tr>\n",
       "      <th>75%</th>\n",
       "      <td>12.000000</td>\n",
       "      <td>0.000000</td>\n",
       "      <td>4.000000</td>\n",
       "      <td>0.000000</td>\n",
       "      <td>0.000000</td>\n",
       "      <td>0.000000e+00</td>\n",
       "      <td>0.000000</td>\n",
       "      <td>0.000000</td>\n",
       "    </tr>\n",
       "    <tr>\n",
       "      <th>max</th>\n",
       "      <td>14.000000</td>\n",
       "      <td>1.000000</td>\n",
       "      <td>10.300000</td>\n",
       "      <td>65392.000000</td>\n",
       "      <td>65535.000000</td>\n",
       "      <td>8.933668e+12</td>\n",
       "      <td>142616.000000</td>\n",
       "      <td>142616.000000</td>\n",
       "    </tr>\n",
       "  </tbody>\n",
       "</table>\n",
       "</div>"
      ],
      "text/plain": [
       "       capacity_terabytes        failure  drive_age_in_years  \\\n",
       "count       161828.000000  161828.000000       161828.000000   \n",
       "mean             7.133777       0.036526            2.722680   \n",
       "std              3.793097       0.187597            1.524778   \n",
       "min              0.100000       0.000000            0.000000   \n",
       "25%              4.000000       0.000000            1.600000   \n",
       "50%              6.000000       0.000000            2.600000   \n",
       "75%             12.000000       0.000000            4.000000   \n",
       "max             14.000000       1.000000           10.300000   \n",
       "\n",
       "       reallocated_sectors_count  reported_uncorrectable_errors  \\\n",
       "count              161828.000000                  161828.000000   \n",
       "mean                   69.860599                       3.638474   \n",
       "std                  1393.335731                     425.113452   \n",
       "min                     0.000000                       0.000000   \n",
       "25%                     0.000000                       0.000000   \n",
       "50%                     0.000000                       0.000000   \n",
       "75%                     0.000000                       0.000000   \n",
       "max                 65392.000000                   65535.000000   \n",
       "\n",
       "       command_timeout  current_pending_sector_count  \\\n",
       "count     1.618280e+05                 161828.000000   \n",
       "mean      2.101775e+08                      6.266388   \n",
       "std       2.418856e+10                    452.166400   \n",
       "min       0.000000e+00                      0.000000   \n",
       "25%       0.000000e+00                      0.000000   \n",
       "50%       0.000000e+00                      0.000000   \n",
       "75%       0.000000e+00                      0.000000   \n",
       "max       8.933668e+12                 142616.000000   \n",
       "\n",
       "       uncorrectable_sector_count  \n",
       "count               161828.000000  \n",
       "mean                     5.913736  \n",
       "std                    447.568224  \n",
       "min                      0.000000  \n",
       "25%                      0.000000  \n",
       "50%                      0.000000  \n",
       "75%                      0.000000  \n",
       "max                 142616.000000  "
      ]
     },
     "execution_count": 187,
     "metadata": {},
     "output_type": "execute_result"
    }
   ],
   "source": [
    "df.describe()"
   ]
  },
  {
   "cell_type": "code",
   "execution_count": 188,
   "metadata": {},
   "outputs": [],
   "source": [
    "df = explore.early_failure(df,2.6)"
   ]
  },
  {
   "cell_type": "code",
   "execution_count": 189,
   "metadata": {},
   "outputs": [
    {
     "data": {
      "text/plain": [
       "0    157842\n",
       "1      3986\n",
       "Name: early_failure, dtype: int64"
      ]
     },
     "execution_count": 189,
     "metadata": {},
     "output_type": "execute_result"
    }
   ],
   "source": [
    "df.early_failure.value_counts()"
   ]
  },
  {
   "cell_type": "markdown",
   "metadata": {},
   "source": [
    "#### Removing young non-failing hard drives"
   ]
  },
  {
   "cell_type": "markdown",
   "metadata": {},
   "source": [
    "Hard drives that are currently functioning properly, but have yet reached the established cut-off age will be removed from this analysis. These hard drives have not been powered on long enough to give significant stats of a reliable drive. The `explore.old_or_fail` function drops rows containing drives that have not failed and are not older than the cut off age (1.6 years)."
   ]
  },
  {
   "cell_type": "code",
   "execution_count": 190,
   "metadata": {},
   "outputs": [],
   "source": [
    "df = explore.old_or_fail(df,2.6)"
   ]
  },
  {
   "cell_type": "code",
   "execution_count": 191,
   "metadata": {},
   "outputs": [
    {
     "data": {
      "text/plain": [
       "(83940, 12)"
      ]
     },
     "execution_count": 191,
     "metadata": {},
     "output_type": "execute_result"
    }
   ],
   "source": [
    "df.shape"
   ]
  },
  {
   "cell_type": "code",
   "execution_count": 192,
   "metadata": {},
   "outputs": [
    {
     "data": {
      "text/plain": [
       "0    79954\n",
       "1     3986\n",
       "Name: early_failure, dtype: int64"
      ]
     },
     "execution_count": 192,
     "metadata": {},
     "output_type": "execute_result"
    }
   ],
   "source": [
    "df.early_failure.value_counts()"
   ]
  },
  {
   "cell_type": "code",
   "execution_count": 193,
   "metadata": {},
   "outputs": [
    {
     "data": {
      "text/plain": [
       "Index(['serial_number', 'manufacturer', 'model', 'capacity_terabytes',\n",
       "       'failure', 'drive_age_in_years', 'reallocated_sectors_count',\n",
       "       'reported_uncorrectable_errors', 'command_timeout',\n",
       "       'current_pending_sector_count', 'uncorrectable_sector_count',\n",
       "       'early_failure'],\n",
       "      dtype='object')"
      ]
     },
     "execution_count": 193,
     "metadata": {},
     "output_type": "execute_result"
    }
   ],
   "source": [
    "df.columns"
   ]
  },
  {
   "cell_type": "markdown",
   "metadata": {},
   "source": [
    "> After defining early failures and removing young non-failing drives, the dataframe has 12 columns and 121,900 rows. The data can be further explored. "
   ]
  },
  {
   "cell_type": "markdown",
   "metadata": {},
   "source": [
    "#### How do non-zero SMART stat values compare in failed hard drives and non-failed hard drives"
   ]
  },
  {
   "cell_type": "code",
   "execution_count": 194,
   "metadata": {},
   "outputs": [],
   "source": [
    "# misty"
   ]
  },
  {
   "cell_type": "markdown",
   "metadata": {},
   "source": [
    "#### Do early failure rates vary by model number?"
   ]
  },
  {
   "cell_type": "code",
   "execution_count": 195,
   "metadata": {},
   "outputs": [
    {
     "data": {
      "text/html": [
       "<div>\n",
       "<style scoped>\n",
       "    .dataframe tbody tr th:only-of-type {\n",
       "        vertical-align: middle;\n",
       "    }\n",
       "\n",
       "    .dataframe tbody tr th {\n",
       "        vertical-align: top;\n",
       "    }\n",
       "\n",
       "    .dataframe thead th {\n",
       "        text-align: right;\n",
       "    }\n",
       "</style>\n",
       "<table border=\"1\" class=\"dataframe\">\n",
       "  <thead>\n",
       "    <tr style=\"text-align: right;\">\n",
       "      <th></th>\n",
       "      <th>early_failures</th>\n",
       "      <th>total_drives</th>\n",
       "      <th>average_age_in_years</th>\n",
       "      <th>early_failure_rate_percent</th>\n",
       "    </tr>\n",
       "    <tr>\n",
       "      <th>model</th>\n",
       "      <th></th>\n",
       "      <th></th>\n",
       "      <th></th>\n",
       "      <th></th>\n",
       "    </tr>\n",
       "  </thead>\n",
       "  <tbody>\n",
       "    <tr>\n",
       "      <th>ST4000DM000</th>\n",
       "      <td>1498</td>\n",
       "      <td>34901</td>\n",
       "      <td>3.947474</td>\n",
       "      <td>4.292141</td>\n",
       "    </tr>\n",
       "    <tr>\n",
       "      <th>ST12000NM0007</th>\n",
       "      <td>1104</td>\n",
       "      <td>1104</td>\n",
       "      <td>1.046830</td>\n",
       "      <td>100.000000</td>\n",
       "    </tr>\n",
       "    <tr>\n",
       "      <th>ST8000NM0055</th>\n",
       "      <td>383</td>\n",
       "      <td>442</td>\n",
       "      <td>1.395249</td>\n",
       "      <td>86.651584</td>\n",
       "    </tr>\n",
       "    <tr>\n",
       "      <th>ST8000DM002</th>\n",
       "      <td>276</td>\n",
       "      <td>9928</td>\n",
       "      <td>3.018433</td>\n",
       "      <td>2.780016</td>\n",
       "    </tr>\n",
       "    <tr>\n",
       "      <th>HGST HMS5C4040BLE640</th>\n",
       "      <td>197</td>\n",
       "      <td>10920</td>\n",
       "      <td>3.511181</td>\n",
       "      <td>1.804029</td>\n",
       "    </tr>\n",
       "    <tr>\n",
       "      <th>TOSHIBA MQ01ABF050</th>\n",
       "      <td>112</td>\n",
       "      <td>249</td>\n",
       "      <td>2.259839</td>\n",
       "      <td>44.979920</td>\n",
       "    </tr>\n",
       "    <tr>\n",
       "      <th>HGST HMS5C4040ALE640</th>\n",
       "      <td>59</td>\n",
       "      <td>7673</td>\n",
       "      <td>3.842408</td>\n",
       "      <td>0.768930</td>\n",
       "    </tr>\n",
       "    <tr>\n",
       "      <th>ST500LM012 HN</th>\n",
       "      <td>41</td>\n",
       "      <td>603</td>\n",
       "      <td>3.475456</td>\n",
       "      <td>6.799337</td>\n",
       "    </tr>\n",
       "    <tr>\n",
       "      <th>ST4000DM001</th>\n",
       "      <td>34</td>\n",
       "      <td>34</td>\n",
       "      <td>0.244118</td>\n",
       "      <td>100.000000</td>\n",
       "    </tr>\n",
       "    <tr>\n",
       "      <th>WDC WD30EFRX</th>\n",
       "      <td>34</td>\n",
       "      <td>814</td>\n",
       "      <td>3.471253</td>\n",
       "      <td>4.176904</td>\n",
       "    </tr>\n",
       "    <tr>\n",
       "      <th>ST6000DX000</th>\n",
       "      <td>29</td>\n",
       "      <td>1890</td>\n",
       "      <td>4.099101</td>\n",
       "      <td>1.534392</td>\n",
       "    </tr>\n",
       "    <tr>\n",
       "      <th>WDC WD60EFRX</th>\n",
       "      <td>29</td>\n",
       "      <td>465</td>\n",
       "      <td>3.992258</td>\n",
       "      <td>6.236559</td>\n",
       "    </tr>\n",
       "    <tr>\n",
       "      <th>ST500LM030</th>\n",
       "      <td>28</td>\n",
       "      <td>28</td>\n",
       "      <td>0.439286</td>\n",
       "      <td>100.000000</td>\n",
       "    </tr>\n",
       "    <tr>\n",
       "      <th>HGST HUH721212ALN604</th>\n",
       "      <td>25</td>\n",
       "      <td>25</td>\n",
       "      <td>0.244000</td>\n",
       "      <td>100.000000</td>\n",
       "    </tr>\n",
       "    <tr>\n",
       "      <th>TOSHIBA MQ01ABF050M</th>\n",
       "      <td>19</td>\n",
       "      <td>19</td>\n",
       "      <td>1.157895</td>\n",
       "      <td>100.000000</td>\n",
       "    </tr>\n",
       "    <tr>\n",
       "      <th>ST10000NM0086</th>\n",
       "      <td>14</td>\n",
       "      <td>14</td>\n",
       "      <td>1.100000</td>\n",
       "      <td>100.000000</td>\n",
       "    </tr>\n",
       "    <tr>\n",
       "      <th>ST320LT007</th>\n",
       "      <td>14</td>\n",
       "      <td>73</td>\n",
       "      <td>3.382192</td>\n",
       "      <td>19.178082</td>\n",
       "    </tr>\n",
       "    <tr>\n",
       "      <th>HGST HUH728080ALE600</th>\n",
       "      <td>12</td>\n",
       "      <td>57</td>\n",
       "      <td>3.401754</td>\n",
       "      <td>21.052632</td>\n",
       "    </tr>\n",
       "    <tr>\n",
       "      <th>TOSHIBA MG07ACA14TA</th>\n",
       "      <td>11</td>\n",
       "      <td>11</td>\n",
       "      <td>0.200000</td>\n",
       "      <td>100.000000</td>\n",
       "    </tr>\n",
       "    <tr>\n",
       "      <th>WDC WD5000LPVX</th>\n",
       "      <td>7</td>\n",
       "      <td>332</td>\n",
       "      <td>4.187349</td>\n",
       "      <td>2.108434</td>\n",
       "    </tr>\n",
       "    <tr>\n",
       "      <th>WDC WD20EFRX</th>\n",
       "      <td>6</td>\n",
       "      <td>6</td>\n",
       "      <td>0.816667</td>\n",
       "      <td>100.000000</td>\n",
       "    </tr>\n",
       "    <tr>\n",
       "      <th>ST4000DM005</th>\n",
       "      <td>5</td>\n",
       "      <td>5</td>\n",
       "      <td>0.060000</td>\n",
       "      <td>100.000000</td>\n",
       "    </tr>\n",
       "    <tr>\n",
       "      <th>ST12000NM0117</th>\n",
       "      <td>5</td>\n",
       "      <td>5</td>\n",
       "      <td>0.000000</td>\n",
       "      <td>100.000000</td>\n",
       "    </tr>\n",
       "    <tr>\n",
       "      <th>ST4000DX002</th>\n",
       "      <td>4</td>\n",
       "      <td>4</td>\n",
       "      <td>0.850000</td>\n",
       "      <td>100.000000</td>\n",
       "    </tr>\n",
       "    <tr>\n",
       "      <th>HGST HUH721212ALE600</th>\n",
       "      <td>4</td>\n",
       "      <td>4</td>\n",
       "      <td>0.250000</td>\n",
       "      <td>100.000000</td>\n",
       "    </tr>\n",
       "    <tr>\n",
       "      <th>ST8000DM004</th>\n",
       "      <td>4</td>\n",
       "      <td>4</td>\n",
       "      <td>0.250000</td>\n",
       "      <td>100.000000</td>\n",
       "    </tr>\n",
       "    <tr>\n",
       "      <th>ST9250315AS</th>\n",
       "      <td>3</td>\n",
       "      <td>56</td>\n",
       "      <td>4.344643</td>\n",
       "      <td>5.357143</td>\n",
       "    </tr>\n",
       "    <tr>\n",
       "      <th>HGST HUS726040ALE610</th>\n",
       "      <td>3</td>\n",
       "      <td>3</td>\n",
       "      <td>1.766667</td>\n",
       "      <td>100.000000</td>\n",
       "    </tr>\n",
       "    <tr>\n",
       "      <th>WDC WD5000LPCX</th>\n",
       "      <td>3</td>\n",
       "      <td>50</td>\n",
       "      <td>3.120000</td>\n",
       "      <td>6.000000</td>\n",
       "    </tr>\n",
       "    <tr>\n",
       "      <th>ST8000DM005</th>\n",
       "      <td>2</td>\n",
       "      <td>2</td>\n",
       "      <td>0.450000</td>\n",
       "      <td>100.000000</td>\n",
       "    </tr>\n",
       "    <tr>\n",
       "      <th>...</th>\n",
       "      <td>...</td>\n",
       "      <td>...</td>\n",
       "      <td>...</td>\n",
       "      <td>...</td>\n",
       "    </tr>\n",
       "    <tr>\n",
       "      <th>WDC WD5003ABYX</th>\n",
       "      <td>0</td>\n",
       "      <td>1</td>\n",
       "      <td>3.000000</td>\n",
       "      <td>0.000000</td>\n",
       "    </tr>\n",
       "    <tr>\n",
       "      <th>Hitachi HDS5C3030ALA630</th>\n",
       "      <td>0</td>\n",
       "      <td>4540</td>\n",
       "      <td>5.058877</td>\n",
       "      <td>0.000000</td>\n",
       "    </tr>\n",
       "    <tr>\n",
       "      <th>WDC WD800AAJB</th>\n",
       "      <td>0</td>\n",
       "      <td>7</td>\n",
       "      <td>5.242857</td>\n",
       "      <td>0.000000</td>\n",
       "    </tr>\n",
       "    <tr>\n",
       "      <th>WDC WD800AAJS</th>\n",
       "      <td>0</td>\n",
       "      <td>14</td>\n",
       "      <td>4.078571</td>\n",
       "      <td>0.000000</td>\n",
       "    </tr>\n",
       "    <tr>\n",
       "      <th>WDC WD800BB</th>\n",
       "      <td>0</td>\n",
       "      <td>5</td>\n",
       "      <td>9.240000</td>\n",
       "      <td>0.000000</td>\n",
       "    </tr>\n",
       "    <tr>\n",
       "      <th>WDC WD800JB</th>\n",
       "      <td>0</td>\n",
       "      <td>4</td>\n",
       "      <td>6.475000</td>\n",
       "      <td>0.000000</td>\n",
       "    </tr>\n",
       "    <tr>\n",
       "      <th>WDC WD800JD</th>\n",
       "      <td>0</td>\n",
       "      <td>1</td>\n",
       "      <td>4.800000</td>\n",
       "      <td>0.000000</td>\n",
       "    </tr>\n",
       "    <tr>\n",
       "      <th>WDC WD2500BPVT</th>\n",
       "      <td>0</td>\n",
       "      <td>8</td>\n",
       "      <td>4.612500</td>\n",
       "      <td>0.000000</td>\n",
       "    </tr>\n",
       "    <tr>\n",
       "      <th>WDC WD2500BEVT</th>\n",
       "      <td>0</td>\n",
       "      <td>1</td>\n",
       "      <td>3.400000</td>\n",
       "      <td>0.000000</td>\n",
       "    </tr>\n",
       "    <tr>\n",
       "      <th>WDC WD2500AAJS</th>\n",
       "      <td>0</td>\n",
       "      <td>3</td>\n",
       "      <td>4.700000</td>\n",
       "      <td>0.000000</td>\n",
       "    </tr>\n",
       "    <tr>\n",
       "      <th>WDC WD10EADS</th>\n",
       "      <td>0</td>\n",
       "      <td>287</td>\n",
       "      <td>6.264808</td>\n",
       "      <td>0.000000</td>\n",
       "    </tr>\n",
       "    <tr>\n",
       "      <th>ST3500320AS</th>\n",
       "      <td>0</td>\n",
       "      <td>1</td>\n",
       "      <td>4.900000</td>\n",
       "      <td>0.000000</td>\n",
       "    </tr>\n",
       "    <tr>\n",
       "      <th>ST33000651AS</th>\n",
       "      <td>0</td>\n",
       "      <td>1</td>\n",
       "      <td>5.400000</td>\n",
       "      <td>0.000000</td>\n",
       "    </tr>\n",
       "    <tr>\n",
       "      <th>ST3160318AS</th>\n",
       "      <td>0</td>\n",
       "      <td>47</td>\n",
       "      <td>5.878723</td>\n",
       "      <td>0.000000</td>\n",
       "    </tr>\n",
       "    <tr>\n",
       "      <th>ST3160316AS</th>\n",
       "      <td>0</td>\n",
       "      <td>53</td>\n",
       "      <td>5.741509</td>\n",
       "      <td>0.000000</td>\n",
       "    </tr>\n",
       "    <tr>\n",
       "      <th>ST31500541AS</th>\n",
       "      <td>0</td>\n",
       "      <td>264</td>\n",
       "      <td>5.986364</td>\n",
       "      <td>0.000000</td>\n",
       "    </tr>\n",
       "    <tr>\n",
       "      <th>ST31500341AS</th>\n",
       "      <td>0</td>\n",
       "      <td>1</td>\n",
       "      <td>6.300000</td>\n",
       "      <td>0.000000</td>\n",
       "    </tr>\n",
       "    <tr>\n",
       "      <th>WDC WD1000FYPS</th>\n",
       "      <td>0</td>\n",
       "      <td>1</td>\n",
       "      <td>3.600000</td>\n",
       "      <td>0.000000</td>\n",
       "    </tr>\n",
       "    <tr>\n",
       "      <th>WDC WD10EACS</th>\n",
       "      <td>0</td>\n",
       "      <td>60</td>\n",
       "      <td>6.586667</td>\n",
       "      <td>0.000000</td>\n",
       "    </tr>\n",
       "    <tr>\n",
       "      <th>WDC WD10EADX</th>\n",
       "      <td>0</td>\n",
       "      <td>9</td>\n",
       "      <td>3.177778</td>\n",
       "      <td>0.000000</td>\n",
       "    </tr>\n",
       "    <tr>\n",
       "      <th>WDC WD2500AAJB</th>\n",
       "      <td>0</td>\n",
       "      <td>1</td>\n",
       "      <td>3.600000</td>\n",
       "      <td>0.000000</td>\n",
       "    </tr>\n",
       "    <tr>\n",
       "      <th>WDC WD10EALS</th>\n",
       "      <td>0</td>\n",
       "      <td>1</td>\n",
       "      <td>3.500000</td>\n",
       "      <td>0.000000</td>\n",
       "    </tr>\n",
       "    <tr>\n",
       "      <th>WDC WD10EARS</th>\n",
       "      <td>0</td>\n",
       "      <td>3</td>\n",
       "      <td>4.433333</td>\n",
       "      <td>0.000000</td>\n",
       "    </tr>\n",
       "    <tr>\n",
       "      <th>WDC WD10EARX</th>\n",
       "      <td>0</td>\n",
       "      <td>2</td>\n",
       "      <td>2.950000</td>\n",
       "      <td>0.000000</td>\n",
       "    </tr>\n",
       "    <tr>\n",
       "      <th>WDC WD15EARS</th>\n",
       "      <td>0</td>\n",
       "      <td>1</td>\n",
       "      <td>5.100000</td>\n",
       "      <td>0.000000</td>\n",
       "    </tr>\n",
       "    <tr>\n",
       "      <th>WDC WD1600AAJB</th>\n",
       "      <td>0</td>\n",
       "      <td>6</td>\n",
       "      <td>4.366667</td>\n",
       "      <td>0.000000</td>\n",
       "    </tr>\n",
       "    <tr>\n",
       "      <th>WDC WD1600AAJS</th>\n",
       "      <td>0</td>\n",
       "      <td>100</td>\n",
       "      <td>5.147000</td>\n",
       "      <td>0.000000</td>\n",
       "    </tr>\n",
       "    <tr>\n",
       "      <th>ST1000LM024 HN</th>\n",
       "      <td>0</td>\n",
       "      <td>1</td>\n",
       "      <td>2.800000</td>\n",
       "      <td>0.000000</td>\n",
       "    </tr>\n",
       "    <tr>\n",
       "      <th>Hitachi HDT725025VLA380</th>\n",
       "      <td>0</td>\n",
       "      <td>1</td>\n",
       "      <td>7.800000</td>\n",
       "      <td>0.000000</td>\n",
       "    </tr>\n",
       "    <tr>\n",
       "      <th>WDC WD800LB</th>\n",
       "      <td>0</td>\n",
       "      <td>1</td>\n",
       "      <td>10.300000</td>\n",
       "      <td>0.000000</td>\n",
       "    </tr>\n",
       "  </tbody>\n",
       "</table>\n",
       "<p>88 rows × 4 columns</p>\n",
       "</div>"
      ],
      "text/plain": [
       "                         early_failures  total_drives  average_age_in_years  \\\n",
       "model                                                                         \n",
       "ST4000DM000                        1498         34901              3.947474   \n",
       "ST12000NM0007                      1104          1104              1.046830   \n",
       "ST8000NM0055                        383           442              1.395249   \n",
       "ST8000DM002                         276          9928              3.018433   \n",
       "HGST HMS5C4040BLE640                197         10920              3.511181   \n",
       "TOSHIBA MQ01ABF050                  112           249              2.259839   \n",
       "HGST HMS5C4040ALE640                 59          7673              3.842408   \n",
       "ST500LM012 HN                        41           603              3.475456   \n",
       "ST4000DM001                          34            34              0.244118   \n",
       "WDC WD30EFRX                         34           814              3.471253   \n",
       "ST6000DX000                          29          1890              4.099101   \n",
       "WDC WD60EFRX                         29           465              3.992258   \n",
       "ST500LM030                           28            28              0.439286   \n",
       "HGST HUH721212ALN604                 25            25              0.244000   \n",
       "TOSHIBA MQ01ABF050M                  19            19              1.157895   \n",
       "ST10000NM0086                        14            14              1.100000   \n",
       "ST320LT007                           14            73              3.382192   \n",
       "HGST HUH728080ALE600                 12            57              3.401754   \n",
       "TOSHIBA MG07ACA14TA                  11            11              0.200000   \n",
       "WDC WD5000LPVX                        7           332              4.187349   \n",
       "WDC WD20EFRX                          6             6              0.816667   \n",
       "ST4000DM005                           5             5              0.060000   \n",
       "ST12000NM0117                         5             5              0.000000   \n",
       "ST4000DX002                           4             4              0.850000   \n",
       "HGST HUH721212ALE600                  4             4              0.250000   \n",
       "ST8000DM004                           4             4              0.250000   \n",
       "ST9250315AS                           3            56              4.344643   \n",
       "HGST HUS726040ALE610                  3             3              1.766667   \n",
       "WDC WD5000LPCX                        3            50              3.120000   \n",
       "ST8000DM005                           2             2              0.450000   \n",
       "...                                 ...           ...                   ...   \n",
       "WDC WD5003ABYX                        0             1              3.000000   \n",
       "Hitachi HDS5C3030ALA630               0          4540              5.058877   \n",
       "WDC WD800AAJB                         0             7              5.242857   \n",
       "WDC WD800AAJS                         0            14              4.078571   \n",
       "WDC WD800BB                           0             5              9.240000   \n",
       "WDC WD800JB                           0             4              6.475000   \n",
       "WDC WD800JD                           0             1              4.800000   \n",
       "WDC WD2500BPVT                        0             8              4.612500   \n",
       "WDC WD2500BEVT                        0             1              3.400000   \n",
       "WDC WD2500AAJS                        0             3              4.700000   \n",
       "WDC WD10EADS                          0           287              6.264808   \n",
       "ST3500320AS                           0             1              4.900000   \n",
       "ST33000651AS                          0             1              5.400000   \n",
       "ST3160318AS                           0            47              5.878723   \n",
       "ST3160316AS                           0            53              5.741509   \n",
       "ST31500541AS                          0           264              5.986364   \n",
       "ST31500341AS                          0             1              6.300000   \n",
       "WDC WD1000FYPS                        0             1              3.600000   \n",
       "WDC WD10EACS                          0            60              6.586667   \n",
       "WDC WD10EADX                          0             9              3.177778   \n",
       "WDC WD2500AAJB                        0             1              3.600000   \n",
       "WDC WD10EALS                          0             1              3.500000   \n",
       "WDC WD10EARS                          0             3              4.433333   \n",
       "WDC WD10EARX                          0             2              2.950000   \n",
       "WDC WD15EARS                          0             1              5.100000   \n",
       "WDC WD1600AAJB                        0             6              4.366667   \n",
       "WDC WD1600AAJS                        0           100              5.147000   \n",
       "ST1000LM024 HN                        0             1              2.800000   \n",
       "Hitachi HDT725025VLA380               0             1              7.800000   \n",
       "WDC WD800LB                           0             1             10.300000   \n",
       "\n",
       "                         early_failure_rate_percent  \n",
       "model                                                \n",
       "ST4000DM000                                4.292141  \n",
       "ST12000NM0007                            100.000000  \n",
       "ST8000NM0055                              86.651584  \n",
       "ST8000DM002                                2.780016  \n",
       "HGST HMS5C4040BLE640                       1.804029  \n",
       "TOSHIBA MQ01ABF050                        44.979920  \n",
       "HGST HMS5C4040ALE640                       0.768930  \n",
       "ST500LM012 HN                              6.799337  \n",
       "ST4000DM001                              100.000000  \n",
       "WDC WD30EFRX                               4.176904  \n",
       "ST6000DX000                                1.534392  \n",
       "WDC WD60EFRX                               6.236559  \n",
       "ST500LM030                               100.000000  \n",
       "HGST HUH721212ALN604                     100.000000  \n",
       "TOSHIBA MQ01ABF050M                      100.000000  \n",
       "ST10000NM0086                            100.000000  \n",
       "ST320LT007                                19.178082  \n",
       "HGST HUH728080ALE600                      21.052632  \n",
       "TOSHIBA MG07ACA14TA                      100.000000  \n",
       "WDC WD5000LPVX                             2.108434  \n",
       "WDC WD20EFRX                             100.000000  \n",
       "ST4000DM005                              100.000000  \n",
       "ST12000NM0117                            100.000000  \n",
       "ST4000DX002                              100.000000  \n",
       "HGST HUH721212ALE600                     100.000000  \n",
       "ST8000DM004                              100.000000  \n",
       "ST9250315AS                                5.357143  \n",
       "HGST HUS726040ALE610                     100.000000  \n",
       "WDC WD5000LPCX                             6.000000  \n",
       "ST8000DM005                              100.000000  \n",
       "...                                             ...  \n",
       "WDC WD5003ABYX                             0.000000  \n",
       "Hitachi HDS5C3030ALA630                    0.000000  \n",
       "WDC WD800AAJB                              0.000000  \n",
       "WDC WD800AAJS                              0.000000  \n",
       "WDC WD800BB                                0.000000  \n",
       "WDC WD800JB                                0.000000  \n",
       "WDC WD800JD                                0.000000  \n",
       "WDC WD2500BPVT                             0.000000  \n",
       "WDC WD2500BEVT                             0.000000  \n",
       "WDC WD2500AAJS                             0.000000  \n",
       "WDC WD10EADS                               0.000000  \n",
       "ST3500320AS                                0.000000  \n",
       "ST33000651AS                               0.000000  \n",
       "ST3160318AS                                0.000000  \n",
       "ST3160316AS                                0.000000  \n",
       "ST31500541AS                               0.000000  \n",
       "ST31500341AS                               0.000000  \n",
       "WDC WD1000FYPS                             0.000000  \n",
       "WDC WD10EACS                               0.000000  \n",
       "WDC WD10EADX                               0.000000  \n",
       "WDC WD2500AAJB                             0.000000  \n",
       "WDC WD10EALS                               0.000000  \n",
       "WDC WD10EARS                               0.000000  \n",
       "WDC WD10EARX                               0.000000  \n",
       "WDC WD15EARS                               0.000000  \n",
       "WDC WD1600AAJB                             0.000000  \n",
       "WDC WD1600AAJS                             0.000000  \n",
       "ST1000LM024 HN                             0.000000  \n",
       "Hitachi HDT725025VLA380                    0.000000  \n",
       "WDC WD800LB                                0.000000  \n",
       "\n",
       "[88 rows x 4 columns]"
      ]
     },
     "execution_count": 195,
     "metadata": {},
     "output_type": "execute_result"
    }
   ],
   "source": [
    "# aggegrate by early failure, drive age, and add a total count\n",
    "agg_model = df.groupby(['model']).agg({'early_failure' : 'sum', 'model' : 'count', 'drive_age_in_years':'mean'})\n",
    "agg_model.rename(columns={'early_failure':'early_failures', 'model':'total_drives', 'drive_age_in_years':'average_age_in_years'}, inplace=True)\n",
    "\n",
    "# add an early failure rate column\n",
    "agg_model['early_failure_rate_percent'] = agg_model['early_failures'] / agg_model['total_drives'] * 100\n",
    "agg_model.sort_values('early_failures', ascending = False)"
   ]
  },
  {
   "cell_type": "code",
   "execution_count": 196,
   "metadata": {},
   "outputs": [
    {
     "data": {
      "text/plain": [
       "18"
      ]
     },
     "execution_count": 196,
     "metadata": {},
     "output_type": "execute_result"
    }
   ],
   "source": [
    "(agg_model.early_failure_rate_percent > 50).sum()"
   ]
  },
  {
   "cell_type": "code",
   "execution_count": 197,
   "metadata": {},
   "outputs": [
    {
     "data": {
      "text/plain": [
       "Text(0.5, 0, 'Failure Rate (%)')"
      ]
     },
     "execution_count": 197,
     "metadata": {},
     "output_type": "execute_result"
    },
    {
     "data": {
      "image/png": "[encoded data removed]",
      "text/plain": [
       "<Figure size 432x288 with 1 Axes>"
      ]
     },
     "metadata": {
      "needs_background": "light"
     },
     "output_type": "display_data"
    }
   ],
   "source": [
    "plt.hist(agg_model.early_failure_rate_percent)\n",
    "plt.title(\"Distribution of Failure Rates by Model\")\n",
    "plt.ylabel(\"Number of Models\")\n",
    "plt.xlabel(\"Failure Rate (%)\")\n",
    "#plt.xticks([0,10,20,30,40,50,60,70,80,90,100])"
   ]
  },
  {
   "cell_type": "code",
   "execution_count": 198,
   "metadata": {},
   "outputs": [
    {
     "data": {
      "text/plain": [
       "(83940, 12)"
      ]
     },
     "execution_count": 198,
     "metadata": {},
     "output_type": "execute_result"
    }
   ],
   "source": [
    "df.shape"
   ]
  },
  {
   "cell_type": "code",
   "execution_count": 199,
   "metadata": {},
   "outputs": [
    {
     "data": {
      "text/plain": [
       "(0, 70000)"
      ]
     },
     "execution_count": 199,
     "metadata": {},
     "output_type": "execute_result"
    },
    {
     "data": {
      "image/png": "[encoded data removed]",
      "text/plain": [
       "<Figure size 432x288 with 1 Axes>"
      ]
     },
     "metadata": {
      "needs_background": "light"
     },
     "output_type": "display_data"
    }
   ],
   "source": [
    "for col in df.columns[6:-1]:\n",
    "    plt.scatter(y=df[col], x=df.drive_age_in_years, label=col, alpha=.55)\n",
    "plt.legend(loc='best')\n",
    "plt.vlines(2.6, 0, 70_000)\n",
    "plt.ylim((0, 70_000))"
   ]
  },
  {
   "cell_type": "code",
   "execution_count": 200,
   "metadata": {},
   "outputs": [
    {
     "data": {
      "text/plain": [
       "Index(['serial_number', 'manufacturer', 'model', 'capacity_terabytes',\n",
       "       'failure', 'drive_age_in_years', 'reallocated_sectors_count',\n",
       "       'reported_uncorrectable_errors', 'command_timeout',\n",
       "       'current_pending_sector_count', 'uncorrectable_sector_count',\n",
       "       'early_failure'],\n",
       "      dtype='object')"
      ]
     },
     "execution_count": 200,
     "metadata": {},
     "output_type": "execute_result"
    }
   ],
   "source": [
    "df.columns"
   ]
  },
  {
   "cell_type": "code",
   "execution_count": 201,
   "metadata": {},
   "outputs": [],
   "source": [
    "# create new dfs with hard drives that have failed, and hard drives that have not failed \n",
    "df_early_fails = df [df.early_failure == 1]\n",
    "df_not_early_fails = df [df.early_failure == 0]\n",
    "df_no_fails = df [df.failure == 0]"
   ]
  },
  {
   "cell_type": "code",
   "execution_count": 202,
   "metadata": {},
   "outputs": [
    {
     "data": {
      "text/plain": [
       "Text(0.5, 1.0, 'Early Failures')"
      ]
     },
     "execution_count": 202,
     "metadata": {},
     "output_type": "execute_result"
    },
    {
     "data": {
      "image/png": "[encoded data removed]",
      "text/plain": [
       "<Figure size 432x288 with 1 Axes>"
      ]
     },
     "metadata": {
      "needs_background": "light"
     },
     "output_type": "display_data"
    }
   ],
   "source": [
    "for col in df.columns[6:-1]:\n",
    "    plt.scatter(y=df_early_fails[col], x=df_early_fails.drive_age_in_years, label=col, alpha = .55)\n",
    "plt.legend(title = 'SMART Features')\n",
    "plt.vlines(2.6, 0, 70_000)\n",
    "plt.ylim((0, 70_000))\n",
    "plt.xlabel(\"Drive Age in Years\")\n",
    "plt.title('Early Failures')"
   ]
  },
  {
   "cell_type": "code",
   "execution_count": 203,
   "metadata": {},
   "outputs": [
    {
     "data": {
      "text/plain": [
       "Text(0.5, 1.0, 'Non Failures')"
      ]
     },
     "execution_count": 203,
     "metadata": {},
     "output_type": "execute_result"
    },
    {
     "data": {
      "image/png": "[encoded data removed]",
      "text/plain": [
       "<Figure size 432x288 with 1 Axes>"
      ]
     },
     "metadata": {
      "needs_background": "light"
     },
     "output_type": "display_data"
    }
   ],
   "source": [
    "for col in df.columns[6:-1]:\n",
    "    plt.scatter(y=df_no_fails[col], x=df_no_fails.drive_age_in_years, label=col, alpha = .55)\n",
    "#plt.legend()\n",
    "plt.vlines(2.6, 0, 70_000)\n",
    "plt.ylim((0, 70_000))\n",
    "plt.xlabel(\"Drive Age in Years\")\n",
    "plt.title('Non Failures')"
   ]
  },
  {
   "cell_type": "code",
   "execution_count": 204,
   "metadata": {},
   "outputs": [
    {
     "data": {
      "text/plain": [
       "Text(0.5, 1.0, 'Non Early Failures')"
      ]
     },
     "execution_count": 204,
     "metadata": {},
     "output_type": "execute_result"
    },
    {
     "data": {
      "image/png": "[encoded data removed]",
      "text/plain": [
       "<Figure size 432x288 with 1 Axes>"
      ]
     },
     "metadata": {
      "needs_background": "light"
     },
     "output_type": "display_data"
    }
   ],
   "source": [
    "for col in df.columns[6:-1]:\n",
    "    plt.scatter(y=df_not_early_fails[col], x=df_not_early_fails.drive_age_in_years, label=col, alpha = .55)\n",
    "#plt.legend()\n",
    "plt.vlines(2.6, 0, 70_000)\n",
    "plt.ylim((0, 70_000))\n",
    "plt.xlabel(\"Drive Age in Years\")\n",
    "plt.title('Non Early Failures')"
   ]
  },
  {
   "cell_type": "markdown",
   "metadata": {},
   "source": [
    "#### Which SMART attributes correlate most strongly with early failure?"
   ]
  },
  {
   "cell_type": "markdown",
   "metadata": {},
   "source": [
    "The five SMART stats being presented count the occurrence of different types of errors that can occur in hard drives. For each type a count of above zero indicates that a hard drive should be replaced quickly due to a risk of failure."
   ]
  },
  {
   "cell_type": "code",
   "execution_count": 205,
   "metadata": {},
   "outputs": [
    {
     "data": {
      "text/plain": [
       "Index(['reallocated_sectors_count', 'reported_uncorrectable_errors',\n",
       "       'command_timeout', 'current_pending_sector_count',\n",
       "       'uncorrectable_sector_count'],\n",
       "      dtype='object')"
      ]
     },
     "execution_count": 205,
     "metadata": {},
     "output_type": "execute_result"
    }
   ],
   "source": [
    "smart_stats_5 = df.columns[6:11]\n",
    "smart_stats_5"
   ]
  },
  {
   "cell_type": "code",
   "execution_count": 206,
   "metadata": {},
   "outputs": [
    {
     "data": {
      "image/png": "[encoded data removed]",
      "text/plain": [
       "<Figure size 432x288 with 1 Axes>"
      ]
     },
     "metadata": {
      "needs_background": "light"
     },
     "output_type": "display_data"
    },
    {
     "data": {
      "image/png": "[encoded data removed]",
      "text/plain": [
       "<Figure size 432x288 with 1 Axes>"
      ]
     },
     "metadata": {
      "needs_background": "light"
     },
     "output_type": "display_data"
    },
    {
     "data": {
      "image/png": "[encoded data removed]",
      "text/plain": [
       "<Figure size 432x288 with 1 Axes>"
      ]
     },
     "metadata": {
      "needs_background": "light"
     },
     "output_type": "display_data"
    },
    {
     "data": {
      "image/png": "[encoded data removed]",
      "text/plain": [
       "<Figure size 432x288 with 1 Axes>"
      ]
     },
     "metadata": {
      "needs_background": "light"
     },
     "output_type": "display_data"
    },
    {
     "data": {
      "image/png": "[encoded data removed]",
      "text/plain": [
       "<Figure size 432x288 with 1 Axes>"
      ]
     },
     "metadata": {
      "needs_background": "light"
     },
     "output_type": "display_data"
    }
   ],
   "source": [
    "for stat in smart_stats_5:\n",
    "    sns.barplot(df.early_failure,df[stat])\n",
    "    plt.title(\"Is {} \\n related to when a hard drive fails early?\".format(stat))\n",
    "    plt.xticks([0,1],[\"no\",\"yes\"])\n",
    "    plt.show()"
   ]
  },
  {
   "cell_type": "markdown",
   "metadata": {},
   "source": [
    "> Because these errors occur far more frequently in early failures than in non-early failures, all of these SMART seem to be a good indicator for early failures. "
   ]
  },
  {
   "cell_type": "markdown",
   "metadata": {},
   "source": [
    "#### Which manufacturer produces the most early failures?"
   ]
  },
  {
   "cell_type": "markdown",
   "metadata": {},
   "source": [
    "> Of the four manufacturers being analyzed, Toshiba produces significantly more early failures."
   ]
  },
  {
   "cell_type": "code",
   "execution_count": 207,
   "metadata": {},
   "outputs": [
    {
     "data": {
      "image/png": "[encoded data removed]",
      "text/plain": [
       "<Figure size 432x288 with 1 Axes>"
      ]
     },
     "metadata": {
      "needs_background": "light"
     },
     "output_type": "display_data"
    }
   ],
   "source": [
    "sns.barplot(df.manufacturer,df.early_failure)\n",
    "plt.show()"
   ]
  },
  {
   "cell_type": "markdown",
   "metadata": {},
   "source": [
    "#### Does drive capacity size correlate with failure rates? "
   ]
  },
  {
   "cell_type": "markdown",
   "metadata": {},
   "source": [
    "> Failure rate dramatically increases in drives that have a 14 terabytes capacity."
   ]
  },
  {
   "cell_type": "code",
   "execution_count": 208,
   "metadata": {},
   "outputs": [
    {
     "data": {
      "image/png": "[encoded data removed]",
      "text/plain": [
       "<Figure size 720x432 with 1 Axes>"
      ]
     },
     "metadata": {
      "needs_background": "light"
     },
     "output_type": "display_data"
    }
   ],
   "source": [
    "# sns.set(rc={'figure.figsize':(10,6)})\n",
    "plt.figure(figsize=(10,6))\n",
    "sns.barplot(df.capacity_terabytes,df.early_failure)\n",
    "plt.show()"
   ]
  },
  {
   "cell_type": "markdown",
   "metadata": {},
   "source": [
    "# Pickle Test"
   ]
  },
  {
   "cell_type": "code",
   "execution_count": 209,
   "metadata": {},
   "outputs": [],
   "source": [
    "import pickle\n",
    "\n",
    "example_dict = {1:\"6\",2:\"2\",3:\"f\"}\n",
    "\n",
    "pickle_out = open(\"dict.pickle\",\"wb\")\n",
    "pickle.dump(example_dict, pickle_out)\n",
    "pickle_out.close()"
   ]
  },
  {
   "cell_type": "code",
   "execution_count": 210,
   "metadata": {},
   "outputs": [],
   "source": [
    "pickle_in = open(\"dict.pickle\",\"rb\")\n",
    "example_dict = pickle.load(pickle_in)"
   ]
  },
  {
   "cell_type": "code",
   "execution_count": 211,
   "metadata": {},
   "outputs": [
    {
     "data": {
      "text/plain": [
       "{1: '6', 2: '2', 3: 'f'}"
      ]
     },
     "execution_count": 211,
     "metadata": {},
     "output_type": "execute_result"
    }
   ],
   "source": [
    "example_dict"
   ]
  },
  {
   "cell_type": "markdown",
   "metadata": {},
   "source": [
    "## Model"
   ]
  },
  {
   "cell_type": "code",
   "execution_count": 212,
   "metadata": {},
   "outputs": [],
   "source": [
    "# Split\n",
    "X_train, X_test, y_train, y_test = model.split_my_data(df)"
   ]
  },
  {
   "cell_type": "code",
   "execution_count": 213,
   "metadata": {},
   "outputs": [],
   "source": [
    "# Make features binary\n",
    "df = explore.make_binary_values(df)"
   ]
  },
  {
   "cell_type": "code",
   "execution_count": 214,
   "metadata": {},
   "outputs": [
    {
     "data": {
      "text/plain": [
       "Index(['serial_number', 'manufacturer', 'model', 'capacity_terabytes',\n",
       "       'reallocated_sectors_count', 'reported_uncorrectable_errors',\n",
       "       'command_timeout', 'current_pending_sector_count',\n",
       "       'uncorrectable_sector_count'],\n",
       "      dtype='object')"
      ]
     },
     "execution_count": 214,
     "metadata": {},
     "output_type": "execute_result"
    }
   ],
   "source": [
    "X_train.columns"
   ]
  },
  {
   "cell_type": "code",
   "execution_count": 215,
   "metadata": {},
   "outputs": [],
   "source": [
    "# One hot encode manufacturer column\n",
    "X_train, X_test = model.encode_hot(X_train, X_test, 'manufacturer')"
   ]
  },
  {
   "cell_type": "markdown",
   "metadata": {},
   "source": [
    "# Model"
   ]
  },
  {
   "cell_type": "code",
   "execution_count": 216,
   "metadata": {},
   "outputs": [
    {
     "data": {
      "text/plain": [
       "Index(['serial_number', 'model', 'capacity_terabytes',\n",
       "       'reallocated_sectors_count', 'reported_uncorrectable_errors',\n",
       "       'command_timeout', 'current_pending_sector_count',\n",
       "       'uncorrectable_sector_count', 'Hitachi', 'Seagate', 'Toshiba',\n",
       "       'Western Digital'],\n",
       "      dtype='object')"
      ]
     },
     "execution_count": 216,
     "metadata": {},
     "output_type": "execute_result"
    }
   ],
   "source": [
    "X_train.columns"
   ]
  },
  {
   "cell_type": "code",
   "execution_count": 217,
   "metadata": {},
   "outputs": [],
   "source": [
    "# drop non numeric columns\n",
    "X_train.drop(columns={'serial_number','model'}, inplace = True)\n",
    "X_test.drop(columns={'serial_number','model'}, inplace = True)"
   ]
  },
  {
   "cell_type": "code",
   "execution_count": 218,
   "metadata": {},
   "outputs": [],
   "source": [
    "# Run knn model, cutoff = 2.6 years\n",
    "score = []\n",
    "n_neighbors = 3\n",
    "knn = KNeighborsClassifier(n_neighbors, weights = 'uniform')\n"
   ]
  },
  {
   "cell_type": "code",
   "execution_count": 219,
   "metadata": {},
   "outputs": [
    {
     "data": {
      "text/plain": [
       "KNeighborsClassifier(algorithm='auto', leaf_size=30, metric='minkowski',\n",
       "                     metric_params=None, n_jobs=None, n_neighbors=3, p=2,\n",
       "                     weights='uniform')"
      ]
     },
     "execution_count": 219,
     "metadata": {},
     "output_type": "execute_result"
    }
   ],
   "source": [
    "knn.fit(X_train, y_train)\n"
   ]
  },
  {
   "cell_type": "code",
   "execution_count": 220,
   "metadata": {},
   "outputs": [],
   "source": [
    "train_pred=knn.predict(X_train)\n"
   ]
  },
  {
   "cell_type": "code",
   "execution_count": null,
   "metadata": {},
   "outputs": [],
   "source": [
    "score.append(recall_score(y_train, train_pred))"
   ]
  },
  {
   "cell_type": "code",
   "execution_count": null,
   "metadata": {},
   "outputs": [],
   "source": []
  },
  {
   "cell_type": "code",
   "execution_count": null,
   "metadata": {},
   "outputs": [],
   "source": []
  },
  {
   "cell_type": "code",
   "execution_count": 73,
   "metadata": {},
   "outputs": [
    {
     "name": "stdout",
     "output_type": "stream",
     "text": [
      "[[63386   577]\n",
      " [ 1478  1711]]\n",
      "The best recall is at k= 0 with a recall score of 0.5365318281592976\n"
     ]
    },
    {
     "data": {
      "image/png": "[encoded data removed]",
      "text/plain": [
       "<Figure size 432x288 with 1 Axes>"
      ]
     },
     "metadata": {
      "needs_background": "light"
     },
     "output_type": "display_data"
    }
   ],
   "source": [
    "# Evaluate\n",
    "plt.figure()\n",
    "plt.xlabel('K Value')\n",
    "plt.ylabel('Recall')\n",
    "plt.scatter(n_neighbors, score)\n",
    "plt.title(f'Recall for  K ={n_neighbors}')\n",
    "print(confusion_matrix(y_train,train_pred))\n",
    "print(f'The best recall is at k= {score.index(max(score))} with a recall score of {max(score)}')"
   ]
  },
  {
   "cell_type": "code",
   "execution_count": 74,
   "metadata": {},
   "outputs": [
    {
     "name": "stdout",
     "output_type": "stream",
     "text": [
      "              precision    recall  f1-score   support\n",
      "\n",
      "           0       0.98      0.99      0.98     63963\n",
      "           1       0.75      0.54      0.62      3189\n",
      "\n",
      "    accuracy                           0.97     67152\n",
      "   macro avg       0.86      0.76      0.80     67152\n",
      "weighted avg       0.97      0.97      0.97     67152\n",
      "\n"
     ]
    }
   ],
   "source": [
    "print(classification_report(y_train, train_pred))"
   ]
  },
  {
   "cell_type": "code",
   "execution_count": 139,
   "metadata": {},
   "outputs": [],
   "source": [
    "cucumber = classification_report(y_train, train_pred)"
   ]
  },
  {
   "cell_type": "code",
   "execution_count": 140,
   "metadata": {},
   "outputs": [],
   "source": [
    "pickle_out = open(\"cucumber.pickle\",\"wb\")\n",
    "pickle.dump(cucumber, pickle_out)\n",
    "pickle_out.close()"
   ]
  },
  {
   "cell_type": "code",
   "execution_count": 141,
   "metadata": {},
   "outputs": [],
   "source": [
    "variable_name = open(\"cucumber.pickle\",\"rb\")\n",
    "cucumber = pickle.load(variable_name)"
   ]
  },
  {
   "cell_type": "code",
   "execution_count": 143,
   "metadata": {},
   "outputs": [
    {
     "name": "stdout",
     "output_type": "stream",
     "text": [
      "              precision    recall  f1-score   support\n",
      "\n",
      "           0       0.98      0.99      0.98     63963\n",
      "           1       0.75      0.54      0.62      3189\n",
      "\n",
      "    accuracy                           0.97     67152\n",
      "   macro avg       0.86      0.76      0.80     67152\n",
      "weighted avg       0.97      0.97      0.97     67152\n",
      "\n"
     ]
    }
   ],
   "source": [
    "print(cucumber)"
   ]
  },
  {
   "cell_type": "code",
   "execution_count": null,
   "metadata": {},
   "outputs": [],
   "source": []
  }
 ],
 "metadata": {
  "kernelspec": {
   "display_name": "Python 3",
   "language": "python",
   "name": "python3"
  },
  "language_info": {
   "codemirror_mode": {
    "name": "ipython",
    "version": 3
   },
   "file_extension": ".py",
   "mimetype": "text/x-python",
   "name": "python",
   "nbconvert_exporter": "python",
   "pygments_lexer": "ipython3",
   "version": "3.7.3"
  },
  "toc": {
   "base_numbering": 1,
   "nav_menu": {},
   "number_sections": false,
   "sideBar": true,
   "skip_h1_title": true,
   "title_cell": "Table of Contents",
   "title_sidebar": "Contents",
   "toc_cell": false,
   "toc_position": {},
   "toc_section_display": true,
   "toc_window_display": false
  }
 },
 "nbformat": 4,
 "nbformat_minor": 2
}
