{
 "cells": [
  {
   "cell_type": "markdown",
   "metadata": {},
   "source": [
    "# Which Hard Drives are Most Reliable? "
   ]
  },
  {
   "cell_type": "markdown",
   "metadata": {},
   "source": [
    "## Plan"
   ]
  },
  {
   "cell_type": "markdown",
   "metadata": {},
   "source": [
    "\n",
    "The goal of our project is to determine which hard drives are most reliable by classifying and predicting early hard drive failures. \n",
    "\n",
    "Hypotheses:\n",
    "- The 5 SMART (Self-Monitoring, Analysis and Reporting Technology) stats identified by Backblaze will indicate device hard drive failure\n",
    "- Hard drive fail rates will vary by model \n",
    "- Hard drives fail rates will vary by manufacturer "
   ]
  },
  {
   "cell_type": "code",
   "execution_count": 1,
   "metadata": {},
   "outputs": [],
   "source": [
    "# data wrangling\n",
    "import pandas as pd\n",
    "import numpy as np\n",
    "\n",
    "# visualizations\n",
    "import matplotlib.pyplot as plt\n",
    "import seaborn as sns\n",
    "\n",
    "# py files\n",
    "import acquire\n",
    "import prepare\n",
    "import explore\n",
    "import model\n",
    "\n",
    "# data modeling\n",
    "from sklearn.metrics import classification_report, confusion_matrix\n",
    "\n",
    "# ignore warnings\n",
    "import warnings\n",
    "warnings.filterwarnings(\"ignore\")"
   ]
  },
  {
   "cell_type": "markdown",
   "metadata": {},
   "source": [
    "## Acquire"
   ]
  },
  {
   "cell_type": "markdown",
   "metadata": {},
   "source": [
    "The raw data is available on Backblaze.com. For this analysis, the hard drive data from 2016 - 2019 is utilized. The files are downloaded to a local computer and then unzipped. The files are renamed to the format, \"data_Qx_201x\", and placed in a folder titled \"data\". \n",
    "\n",
    "The `acquire.acquire_agg_data` function reads in the data, aggregates it, and returns a Pandas dataframe. \n",
    "- Using Spark, a dataframe is created from each directory of csv files. The dataframes are concated together with their common columns. This gives a dataframe with 95 columns and 121,390,247 rows. \n",
    "- Backblaze identifies 5 SMART stats that predict hard drive failure (SMART 5, 187, 188, 197, 198). The max value of each of these stats are extracted and the dataframe is aggregated by serial number. This reduces the dataframe to 9 columns and 169,073 rows. \n",
    "- The spark dataframe is converted to a Pandas dataframe \n",
    "- The Pandas dataframe is saved as \"hard_drives_smart_5.csv\" for future use\n",
    "\n",
    "This csv is linked in the README and can be downloaded. If \"hard_drives_smart_5.csv\" is in the working directory, `acquire.acquire_agg_data` will read from the csv instead recreating the dataframe.  "
   ]
  },
  {
   "cell_type": "code",
   "execution_count": 2,
   "metadata": {},
   "outputs": [],
   "source": [
    "df = acquire.acquire_agg_data()"
   ]
  },
  {
   "cell_type": "code",
   "execution_count": 3,
   "metadata": {},
   "outputs": [
    {
     "name": "stdout",
     "output_type": "stream",
     "text": [
      "<class 'pandas.core.frame.DataFrame'>\n",
      "RangeIndex: 169073 entries, 0 to 169072\n",
      "Data columns (total 10 columns):\n",
      "serial_number         169072 non-null object\n",
      "model                 169073 non-null object\n",
      "capacity_bytes        169073 non-null int64\n",
      "max(failure)          169073 non-null int64\n",
      "max(smart_9_raw)      161975 non-null float64\n",
      "max(smart_5_raw)      161851 non-null float64\n",
      "max(smart_187_raw)    104189 non-null float64\n",
      "max(smart_188_raw)    104179 non-null float64\n",
      "max(smart_197_raw)    161841 non-null float64\n",
      "max(smart_198_raw)    161841 non-null float64\n",
      "dtypes: float64(6), int64(2), object(2)\n",
      "memory usage: 12.9+ MB\n"
     ]
    }
   ],
   "source": [
    "df.info()"
   ]
  },
  {
   "cell_type": "code",
   "execution_count": 4,
   "metadata": {},
   "outputs": [
    {
     "data": {
      "text/html": [
       "<div>\n",
       "<style scoped>\n",
       "    .dataframe tbody tr th:only-of-type {\n",
       "        vertical-align: middle;\n",
       "    }\n",
       "\n",
       "    .dataframe tbody tr th {\n",
       "        vertical-align: top;\n",
       "    }\n",
       "\n",
       "    .dataframe thead th {\n",
       "        text-align: right;\n",
       "    }\n",
       "</style>\n",
       "<table border=\"1\" class=\"dataframe\">\n",
       "  <thead>\n",
       "    <tr style=\"text-align: right;\">\n",
       "      <th></th>\n",
       "      <th>serial_number</th>\n",
       "      <th>model</th>\n",
       "      <th>capacity_bytes</th>\n",
       "      <th>max(failure)</th>\n",
       "      <th>max(smart_9_raw)</th>\n",
       "      <th>max(smart_5_raw)</th>\n",
       "      <th>max(smart_187_raw)</th>\n",
       "      <th>max(smart_188_raw)</th>\n",
       "      <th>max(smart_197_raw)</th>\n",
       "      <th>max(smart_198_raw)</th>\n",
       "    </tr>\n",
       "  </thead>\n",
       "  <tbody>\n",
       "    <tr>\n",
       "      <th>0</th>\n",
       "      <td>PL1311LAG1SJAA</td>\n",
       "      <td>Hitachi HDS5C4040ALE630</td>\n",
       "      <td>4000787030016</td>\n",
       "      <td>0</td>\n",
       "      <td>43819.0</td>\n",
       "      <td>0.0</td>\n",
       "      <td>NaN</td>\n",
       "      <td>NaN</td>\n",
       "      <td>0.0</td>\n",
       "      <td>0.0</td>\n",
       "    </tr>\n",
       "    <tr>\n",
       "      <th>1</th>\n",
       "      <td>Z305KB36</td>\n",
       "      <td>ST4000DM000</td>\n",
       "      <td>4000787030016</td>\n",
       "      <td>0</td>\n",
       "      <td>31045.0</td>\n",
       "      <td>0.0</td>\n",
       "      <td>0.0</td>\n",
       "      <td>0.0</td>\n",
       "      <td>0.0</td>\n",
       "      <td>0.0</td>\n",
       "    </tr>\n",
       "    <tr>\n",
       "      <th>2</th>\n",
       "      <td>MJ0351YNG9MZXA</td>\n",
       "      <td>Hitachi HDS5C3030ALA630</td>\n",
       "      <td>3000592982016</td>\n",
       "      <td>0</td>\n",
       "      <td>41668.0</td>\n",
       "      <td>0.0</td>\n",
       "      <td>NaN</td>\n",
       "      <td>NaN</td>\n",
       "      <td>0.0</td>\n",
       "      <td>0.0</td>\n",
       "    </tr>\n",
       "    <tr>\n",
       "      <th>3</th>\n",
       "      <td>ZA11NHSN</td>\n",
       "      <td>ST8000DM002</td>\n",
       "      <td>8001563222016</td>\n",
       "      <td>0</td>\n",
       "      <td>26284.0</td>\n",
       "      <td>0.0</td>\n",
       "      <td>0.0</td>\n",
       "      <td>0.0</td>\n",
       "      <td>0.0</td>\n",
       "      <td>0.0</td>\n",
       "    </tr>\n",
       "    <tr>\n",
       "      <th>4</th>\n",
       "      <td>MJ1311YNG2ZSEA</td>\n",
       "      <td>Hitachi HDS5C3030ALA630</td>\n",
       "      <td>3000592982016</td>\n",
       "      <td>0</td>\n",
       "      <td>47994.0</td>\n",
       "      <td>0.0</td>\n",
       "      <td>NaN</td>\n",
       "      <td>NaN</td>\n",
       "      <td>0.0</td>\n",
       "      <td>0.0</td>\n",
       "    </tr>\n",
       "  </tbody>\n",
       "</table>\n",
       "</div>"
      ],
      "text/plain": [
       "    serial_number                    model  capacity_bytes  max(failure)  \\\n",
       "0  PL1311LAG1SJAA  Hitachi HDS5C4040ALE630   4000787030016             0   \n",
       "1        Z305KB36              ST4000DM000   4000787030016             0   \n",
       "2  MJ0351YNG9MZXA  Hitachi HDS5C3030ALA630   3000592982016             0   \n",
       "3        ZA11NHSN              ST8000DM002   8001563222016             0   \n",
       "4  MJ1311YNG2ZSEA  Hitachi HDS5C3030ALA630   3000592982016             0   \n",
       "\n",
       "   max(smart_9_raw)  max(smart_5_raw)  max(smart_187_raw)  max(smart_188_raw)  \\\n",
       "0           43819.0               0.0                 NaN                 NaN   \n",
       "1           31045.0               0.0                 0.0                 0.0   \n",
       "2           41668.0               0.0                 NaN                 NaN   \n",
       "3           26284.0               0.0                 0.0                 0.0   \n",
       "4           47994.0               0.0                 NaN                 NaN   \n",
       "\n",
       "   max(smart_197_raw)  max(smart_198_raw)  \n",
       "0                 0.0                 0.0  \n",
       "1                 0.0                 0.0  \n",
       "2                 0.0                 0.0  \n",
       "3                 0.0                 0.0  \n",
       "4                 0.0                 0.0  "
      ]
     },
     "execution_count": 4,
     "metadata": {},
     "output_type": "execute_result"
    }
   ],
   "source": [
    "df.head()"
   ]
  },
  {
   "cell_type": "code",
   "execution_count": 5,
   "metadata": {},
   "outputs": [
    {
     "data": {
      "text/html": [
       "<div>\n",
       "<style scoped>\n",
       "    .dataframe tbody tr th:only-of-type {\n",
       "        vertical-align: middle;\n",
       "    }\n",
       "\n",
       "    .dataframe tbody tr th {\n",
       "        vertical-align: top;\n",
       "    }\n",
       "\n",
       "    .dataframe thead th {\n",
       "        text-align: right;\n",
       "    }\n",
       "</style>\n",
       "<table border=\"1\" class=\"dataframe\">\n",
       "  <thead>\n",
       "    <tr style=\"text-align: right;\">\n",
       "      <th></th>\n",
       "      <th>capacity_bytes</th>\n",
       "      <th>max(failure)</th>\n",
       "      <th>max(smart_9_raw)</th>\n",
       "      <th>max(smart_5_raw)</th>\n",
       "      <th>max(smart_187_raw)</th>\n",
       "      <th>max(smart_188_raw)</th>\n",
       "      <th>max(smart_197_raw)</th>\n",
       "      <th>max(smart_198_raw)</th>\n",
       "    </tr>\n",
       "  </thead>\n",
       "  <tbody>\n",
       "    <tr>\n",
       "      <th>count</th>\n",
       "      <td>1.690730e+05</td>\n",
       "      <td>169073.000000</td>\n",
       "      <td>161975.000000</td>\n",
       "      <td>161851.000000</td>\n",
       "      <td>104189.000000</td>\n",
       "      <td>1.041790e+05</td>\n",
       "      <td>161841.000000</td>\n",
       "      <td>161841.000000</td>\n",
       "    </tr>\n",
       "    <tr>\n",
       "      <th>mean</th>\n",
       "      <td>6.829480e+12</td>\n",
       "      <td>0.035085</td>\n",
       "      <td>23858.714839</td>\n",
       "      <td>69.851802</td>\n",
       "      <td>5.996190</td>\n",
       "      <td>3.264823e+08</td>\n",
       "      <td>6.265940</td>\n",
       "      <td>5.913261</td>\n",
       "    </tr>\n",
       "    <tr>\n",
       "      <th>std</th>\n",
       "      <td>3.981103e+12</td>\n",
       "      <td>0.183996</td>\n",
       "      <td>13357.230448</td>\n",
       "      <td>1393.236993</td>\n",
       "      <td>541.364663</td>\n",
       "      <td>3.014661e+10</td>\n",
       "      <td>452.148242</td>\n",
       "      <td>447.550251</td>\n",
       "    </tr>\n",
       "    <tr>\n",
       "      <th>min</th>\n",
       "      <td>-1.000000e+00</td>\n",
       "      <td>0.000000</td>\n",
       "      <td>0.000000</td>\n",
       "      <td>0.000000</td>\n",
       "      <td>0.000000</td>\n",
       "      <td>0.000000e+00</td>\n",
       "      <td>0.000000</td>\n",
       "      <td>0.000000</td>\n",
       "    </tr>\n",
       "    <tr>\n",
       "      <th>25%</th>\n",
       "      <td>4.000787e+12</td>\n",
       "      <td>0.000000</td>\n",
       "      <td>13727.000000</td>\n",
       "      <td>0.000000</td>\n",
       "      <td>0.000000</td>\n",
       "      <td>0.000000e+00</td>\n",
       "      <td>0.000000</td>\n",
       "      <td>0.000000</td>\n",
       "    </tr>\n",
       "    <tr>\n",
       "      <th>50%</th>\n",
       "      <td>4.000787e+12</td>\n",
       "      <td>0.000000</td>\n",
       "      <td>22932.000000</td>\n",
       "      <td>0.000000</td>\n",
       "      <td>0.000000</td>\n",
       "      <td>0.000000e+00</td>\n",
       "      <td>0.000000</td>\n",
       "      <td>0.000000</td>\n",
       "    </tr>\n",
       "    <tr>\n",
       "      <th>75%</th>\n",
       "      <td>1.200014e+13</td>\n",
       "      <td>0.000000</td>\n",
       "      <td>34866.000000</td>\n",
       "      <td>0.000000</td>\n",
       "      <td>0.000000</td>\n",
       "      <td>0.000000e+00</td>\n",
       "      <td>0.000000</td>\n",
       "      <td>0.000000</td>\n",
       "    </tr>\n",
       "    <tr>\n",
       "      <th>max</th>\n",
       "      <td>1.400052e+13</td>\n",
       "      <td>1.000000</td>\n",
       "      <td>90477.000000</td>\n",
       "      <td>65392.000000</td>\n",
       "      <td>65535.000000</td>\n",
       "      <td>8.933668e+12</td>\n",
       "      <td>142616.000000</td>\n",
       "      <td>142616.000000</td>\n",
       "    </tr>\n",
       "  </tbody>\n",
       "</table>\n",
       "</div>"
      ],
      "text/plain": [
       "       capacity_bytes   max(failure)  max(smart_9_raw)  max(smart_5_raw)  \\\n",
       "count    1.690730e+05  169073.000000     161975.000000     161851.000000   \n",
       "mean     6.829480e+12       0.035085      23858.714839         69.851802   \n",
       "std      3.981103e+12       0.183996      13357.230448       1393.236993   \n",
       "min     -1.000000e+00       0.000000          0.000000          0.000000   \n",
       "25%      4.000787e+12       0.000000      13727.000000          0.000000   \n",
       "50%      4.000787e+12       0.000000      22932.000000          0.000000   \n",
       "75%      1.200014e+13       0.000000      34866.000000          0.000000   \n",
       "max      1.400052e+13       1.000000      90477.000000      65392.000000   \n",
       "\n",
       "       max(smart_187_raw)  max(smart_188_raw)  max(smart_197_raw)  \\\n",
       "count       104189.000000        1.041790e+05       161841.000000   \n",
       "mean             5.996190        3.264823e+08            6.265940   \n",
       "std            541.364663        3.014661e+10          452.148242   \n",
       "min              0.000000        0.000000e+00            0.000000   \n",
       "25%              0.000000        0.000000e+00            0.000000   \n",
       "50%              0.000000        0.000000e+00            0.000000   \n",
       "75%              0.000000        0.000000e+00            0.000000   \n",
       "max          65535.000000        8.933668e+12       142616.000000   \n",
       "\n",
       "       max(smart_198_raw)  \n",
       "count       161841.000000  \n",
       "mean             5.913261  \n",
       "std            447.550251  \n",
       "min              0.000000  \n",
       "25%              0.000000  \n",
       "50%              0.000000  \n",
       "75%              0.000000  \n",
       "max         142616.000000  "
      ]
     },
     "execution_count": 5,
     "metadata": {},
     "output_type": "execute_result"
    }
   ],
   "source": [
    "df.describe()"
   ]
  },
  {
   "cell_type": "markdown",
   "metadata": {},
   "source": [
    "## Prepare"
   ]
  },
  {
   "cell_type": "markdown",
   "metadata": {},
   "source": [
    "The `prepare.prepare` function reads in the dataframe and applies the following changes:\n",
    "- Converts capacity column from bytes to terabytes.\n",
    "- Converts max(smart_9_raw) from hours to years.\n",
    "- Creates a new column for manufacturer name.\n",
    "- Renames all columns appropriately.\n",
    "- Reorders columns for understandability. "
   ]
  },
  {
   "cell_type": "code",
   "execution_count": 6,
   "metadata": {},
   "outputs": [],
   "source": [
    "df = prepare.prepare(df)"
   ]
  },
  {
   "cell_type": "code",
   "execution_count": 7,
   "metadata": {},
   "outputs": [
    {
     "data": {
      "text/html": [
       "<div>\n",
       "<style scoped>\n",
       "    .dataframe tbody tr th:only-of-type {\n",
       "        vertical-align: middle;\n",
       "    }\n",
       "\n",
       "    .dataframe tbody tr th {\n",
       "        vertical-align: top;\n",
       "    }\n",
       "\n",
       "    .dataframe thead th {\n",
       "        text-align: right;\n",
       "    }\n",
       "</style>\n",
       "<table border=\"1\" class=\"dataframe\">\n",
       "  <thead>\n",
       "    <tr style=\"text-align: right;\">\n",
       "      <th></th>\n",
       "      <th>serial_number</th>\n",
       "      <th>manufacturer</th>\n",
       "      <th>model</th>\n",
       "      <th>capacity_terabytes</th>\n",
       "      <th>failure</th>\n",
       "      <th>drive_age_in_years</th>\n",
       "      <th>reallocated_sectors_count</th>\n",
       "      <th>reported_uncorrectable_errors</th>\n",
       "      <th>command_timeout</th>\n",
       "      <th>current_pending_sector_count</th>\n",
       "      <th>uncorrectable_sector_count</th>\n",
       "    </tr>\n",
       "  </thead>\n",
       "  <tbody>\n",
       "    <tr>\n",
       "      <th>0</th>\n",
       "      <td>PL1311LAG1SJAA</td>\n",
       "      <td>Hitachi</td>\n",
       "      <td>Hitachi HDS5C4040ALE630</td>\n",
       "      <td>4.0</td>\n",
       "      <td>0</td>\n",
       "      <td>5.0</td>\n",
       "      <td>0.0</td>\n",
       "      <td>NaN</td>\n",
       "      <td>NaN</td>\n",
       "      <td>0.0</td>\n",
       "      <td>0.0</td>\n",
       "    </tr>\n",
       "    <tr>\n",
       "      <th>1</th>\n",
       "      <td>Z305KB36</td>\n",
       "      <td>Seagate</td>\n",
       "      <td>ST4000DM000</td>\n",
       "      <td>4.0</td>\n",
       "      <td>0</td>\n",
       "      <td>3.5</td>\n",
       "      <td>0.0</td>\n",
       "      <td>0.0</td>\n",
       "      <td>0.0</td>\n",
       "      <td>0.0</td>\n",
       "      <td>0.0</td>\n",
       "    </tr>\n",
       "    <tr>\n",
       "      <th>2</th>\n",
       "      <td>MJ0351YNG9MZXA</td>\n",
       "      <td>Hitachi</td>\n",
       "      <td>Hitachi HDS5C3030ALA630</td>\n",
       "      <td>3.0</td>\n",
       "      <td>0</td>\n",
       "      <td>4.8</td>\n",
       "      <td>0.0</td>\n",
       "      <td>NaN</td>\n",
       "      <td>NaN</td>\n",
       "      <td>0.0</td>\n",
       "      <td>0.0</td>\n",
       "    </tr>\n",
       "    <tr>\n",
       "      <th>3</th>\n",
       "      <td>ZA11NHSN</td>\n",
       "      <td>Seagate</td>\n",
       "      <td>ST8000DM002</td>\n",
       "      <td>8.0</td>\n",
       "      <td>0</td>\n",
       "      <td>3.0</td>\n",
       "      <td>0.0</td>\n",
       "      <td>0.0</td>\n",
       "      <td>0.0</td>\n",
       "      <td>0.0</td>\n",
       "      <td>0.0</td>\n",
       "    </tr>\n",
       "    <tr>\n",
       "      <th>4</th>\n",
       "      <td>MJ1311YNG2ZSEA</td>\n",
       "      <td>Hitachi</td>\n",
       "      <td>Hitachi HDS5C3030ALA630</td>\n",
       "      <td>3.0</td>\n",
       "      <td>0</td>\n",
       "      <td>5.5</td>\n",
       "      <td>0.0</td>\n",
       "      <td>NaN</td>\n",
       "      <td>NaN</td>\n",
       "      <td>0.0</td>\n",
       "      <td>0.0</td>\n",
       "    </tr>\n",
       "  </tbody>\n",
       "</table>\n",
       "</div>"
      ],
      "text/plain": [
       "    serial_number manufacturer                    model  capacity_terabytes  \\\n",
       "0  PL1311LAG1SJAA      Hitachi  Hitachi HDS5C4040ALE630                 4.0   \n",
       "1        Z305KB36      Seagate              ST4000DM000                 4.0   \n",
       "2  MJ0351YNG9MZXA      Hitachi  Hitachi HDS5C3030ALA630                 3.0   \n",
       "3        ZA11NHSN      Seagate              ST8000DM002                 8.0   \n",
       "4  MJ1311YNG2ZSEA      Hitachi  Hitachi HDS5C3030ALA630                 3.0   \n",
       "\n",
       "   failure  drive_age_in_years  reallocated_sectors_count  \\\n",
       "0        0                 5.0                        0.0   \n",
       "1        0                 3.5                        0.0   \n",
       "2        0                 4.8                        0.0   \n",
       "3        0                 3.0                        0.0   \n",
       "4        0                 5.5                        0.0   \n",
       "\n",
       "   reported_uncorrectable_errors  command_timeout  \\\n",
       "0                            NaN              NaN   \n",
       "1                            0.0              0.0   \n",
       "2                            NaN              NaN   \n",
       "3                            0.0              0.0   \n",
       "4                            NaN              NaN   \n",
       "\n",
       "   current_pending_sector_count  uncorrectable_sector_count  \n",
       "0                           0.0                         0.0  \n",
       "1                           0.0                         0.0  \n",
       "2                           0.0                         0.0  \n",
       "3                           0.0                         0.0  \n",
       "4                           0.0                         0.0  "
      ]
     },
     "execution_count": 7,
     "metadata": {},
     "output_type": "execute_result"
    }
   ],
   "source": [
    "df.head()"
   ]
  },
  {
   "cell_type": "code",
   "execution_count": 8,
   "metadata": {},
   "outputs": [
    {
     "data": {
      "text/plain": [
       " 4.0     64886\n",
       " 12.0    50729\n",
       " 8.0     26108\n",
       "-0.0      7031\n",
       " 3.0      6789\n",
       " 2.0      4678\n",
       " 0.5      2607\n",
       " 6.0      2411\n",
       " 14.0     1302\n",
       " 10.0     1255\n",
       " 1.0       388\n",
       " 0.3       327\n",
       " 1.5       267\n",
       " 0.2       210\n",
       " 5.0        46\n",
       " 0.1        39\n",
       "Name: capacity_terabytes, dtype: int64"
      ]
     },
     "execution_count": 8,
     "metadata": {},
     "output_type": "execute_result"
    }
   ],
   "source": [
    "df.capacity_terabytes.value_counts()"
   ]
  },
  {
   "cell_type": "markdown",
   "metadata": {},
   "source": [
    "> Due to aggregation, we have 7,031 duplicate hard drives listed with zero capacity bytes. "
   ]
  },
  {
   "cell_type": "markdown",
   "metadata": {},
   "source": [
    "The `prepare.unique` function reads in the dataframe and removes duplicated serial numbers that were created during aggregation."
   ]
  },
  {
   "cell_type": "code",
   "execution_count": 9,
   "metadata": {},
   "outputs": [],
   "source": [
    "df = prepare.unique(df)"
   ]
  },
  {
   "cell_type": "code",
   "execution_count": 10,
   "metadata": {},
   "outputs": [
    {
     "data": {
      "text/plain": [
       "4.0     64878\n",
       "12.0    50729\n",
       "8.0     26106\n",
       "3.0      6789\n",
       "2.0      4678\n",
       "0.5      2607\n",
       "6.0      2411\n",
       "14.0     1302\n",
       "10.0     1255\n",
       "1.0       388\n",
       "0.3       327\n",
       "1.5       267\n",
       "0.2       210\n",
       "5.0        46\n",
       "0.1        32\n",
       "Name: capacity_terabytes, dtype: int64"
      ]
     },
     "execution_count": 10,
     "metadata": {},
     "output_type": "execute_result"
    }
   ],
   "source": [
    "# Confirm duplicate hard drives with zero capacity have been removed\n",
    "df.capacity_terabytes.value_counts()"
   ]
  },
  {
   "cell_type": "markdown",
   "metadata": {},
   "source": [
    "## Explore"
   ]
  },
  {
   "cell_type": "markdown",
   "metadata": {},
   "source": [
    "Questions to answer:\n",
    "- How do we treat null values?\n",
    "- What does our data look like?\n",
    "    - How many different models?\n",
    "    - How many different manufacturers?\n",
    "    - How many different capacity sizes?\n",
    "    - How many models are there for each manufacturer?\n",
    "    - Are model numbers unique to capacity?\n",
    "    - Are there any observations that need to be dropped (why, how many)?\n",
    "- What is a failure?\n",
    "    - What do failures look like?\n",
    "    - How is this misleading?\n",
    "    - How do we define an early failure?\n",
    "- How do the lifespans of hard drives that have failed compared to hard drives that have not failed?\n",
    "- How do non-zero SMART stat values compare to among fail and non-fail?\n",
    "- Does the average age of drive vary by manufacturer? model number?\n",
    "- Do failure rates vary by model number?\n",
    "- Determine early failure cutoff by analyzing data.\n",
    "- Which SMART attributes correlate most strongly with early failure? \n",
    "- Which features or combination of features correlate with early failure?"
   ]
  },
  {
   "cell_type": "markdown",
   "metadata": {},
   "source": [
    "### How do we treat null values?"
   ]
  },
  {
   "cell_type": "code",
   "execution_count": 11,
   "metadata": {},
   "outputs": [
    {
     "data": {
      "text/plain": [
       "serial_number                        1\n",
       "manufacturer                         0\n",
       "model                                0\n",
       "capacity_terabytes                   0\n",
       "failure                              0\n",
       "drive_age_in_years                  60\n",
       "reallocated_sectors_count          184\n",
       "reported_uncorrectable_errors    57839\n",
       "command_timeout                  57849\n",
       "current_pending_sector_count       194\n",
       "uncorrectable_sector_count         194\n",
       "dtype: int64"
      ]
     },
     "execution_count": 11,
     "metadata": {},
     "output_type": "execute_result"
    }
   ],
   "source": [
    "# Check for null values\n",
    "df.isnull().sum()"
   ]
  },
  {
   "cell_type": "code",
   "execution_count": 12,
   "metadata": {},
   "outputs": [
    {
     "data": {
      "text/plain": [
       "Index(['serial_number', 'manufacturer', 'model', 'capacity_terabytes',\n",
       "       'failure', 'drive_age_in_years', 'reallocated_sectors_count',\n",
       "       'reported_uncorrectable_errors', 'command_timeout',\n",
       "       'current_pending_sector_count', 'uncorrectable_sector_count'],\n",
       "      dtype='object')"
      ]
     },
     "execution_count": 12,
     "metadata": {},
     "output_type": "execute_result"
    }
   ],
   "source": [
    "df.columns"
   ]
  },
  {
   "cell_type": "code",
   "execution_count": 13,
   "metadata": {},
   "outputs": [
    {
     "data": {
      "image/png": "[encoded data removed]",
      "text/plain": [
       "<Figure size 432x288 with 1 Axes>"
      ]
     },
     "metadata": {
      "needs_background": "light"
     },
     "output_type": "display_data"
    },
    {
     "data": {
      "image/png": "[encoded data removed]",
      "text/plain": [
       "<Figure size 432x288 with 1 Axes>"
      ]
     },
     "metadata": {
      "needs_background": "light"
     },
     "output_type": "display_data"
    },
    {
     "data": {
      "image/png": "[encoded data removed]",
      "text/plain": [
       "<Figure size 432x288 with 1 Axes>"
      ]
     },
     "metadata": {
      "needs_background": "light"
     },
     "output_type": "display_data"
    },
    {
     "data": {
      "image/png": "[encoded data removed]",
      "text/plain": [
       "<Figure size 432x288 with 1 Axes>"
      ]
     },
     "metadata": {
      "needs_background": "light"
     },
     "output_type": "display_data"
    },
    {
     "data": {
      "image/png": "[encoded data removed]",
      "text/plain": [
       "<Figure size 432x288 with 1 Axes>"
      ]
     },
     "metadata": {
      "needs_background": "light"
     },
     "output_type": "display_data"
    }
   ],
   "source": [
    "# Create scatterplot for SMART attributes\n",
    "for col in df.columns[6:]:\n",
    "    sns.scatterplot(data=df, y=df[col], x=df.drive_age_in_years, alpha=.3)\n",
    "    plt.title(col)\n",
    "    plt.show()"
   ]
  },
  {
   "cell_type": "markdown",
   "metadata": {},
   "source": [
    "> For both \"reported_uncorrectable_errors\" and \"command_timeout\" the vast majority of values are zero. Therefore, the nulls in these columns are replaced with zeros. For the remaining nulls in \"reallocated_sectors_count\", \"current_pending_sector_count\" and \"uncorrecteable_sector_count\", there are less than 200 for each respective column. Therefore, those rows containing nulls are removed. This is performed in the `prepare.treat_nulls` function."
   ]
  },
  {
   "cell_type": "code",
   "execution_count": 14,
   "metadata": {},
   "outputs": [],
   "source": [
    "df = prepare.treat_nulls(df)"
   ]
  },
  {
   "cell_type": "code",
   "execution_count": 15,
   "metadata": {},
   "outputs": [
    {
     "data": {
      "text/plain": [
       "serial_number                    0\n",
       "manufacturer                     0\n",
       "model                            0\n",
       "capacity_terabytes               0\n",
       "failure                          0\n",
       "drive_age_in_years               0\n",
       "reallocated_sectors_count        0\n",
       "reported_uncorrectable_errors    0\n",
       "command_timeout                  0\n",
       "current_pending_sector_count     0\n",
       "uncorrectable_sector_count       0\n",
       "dtype: int64"
      ]
     },
     "execution_count": 15,
     "metadata": {},
     "output_type": "execute_result"
    }
   ],
   "source": [
    "# Confirm all nulls have been removed \n",
    "df.isnull().sum()"
   ]
  },
  {
   "cell_type": "code",
   "execution_count": 16,
   "metadata": {},
   "outputs": [
    {
     "data": {
      "text/plain": [
       "(161830, 11)"
      ]
     },
     "execution_count": 16,
     "metadata": {},
     "output_type": "execute_result"
    }
   ],
   "source": [
    "df.shape"
   ]
  },
  {
   "cell_type": "markdown",
   "metadata": {},
   "source": [
    "> After treating all nulls, the dataframe has 11 columns and 161,830 rows. The data can be further explored. "
   ]
  },
  {
   "cell_type": "markdown",
   "metadata": {},
   "source": [
    "### What does our data look like?"
   ]
  },
  {
   "cell_type": "code",
   "execution_count": 17,
   "metadata": {},
   "outputs": [
    {
     "name": "stdout",
     "output_type": "stream",
     "text": [
      "<class 'pandas.core.frame.DataFrame'>\n",
      "Int64Index: 161830 entries, 0 to 169067\n",
      "Data columns (total 11 columns):\n",
      "serial_number                    161830 non-null object\n",
      "manufacturer                     161830 non-null object\n",
      "model                            161830 non-null object\n",
      "capacity_terabytes               161830 non-null float64\n",
      "failure                          161830 non-null int64\n",
      "drive_age_in_years               161830 non-null float64\n",
      "reallocated_sectors_count        161830 non-null float64\n",
      "reported_uncorrectable_errors    161830 non-null float64\n",
      "command_timeout                  161830 non-null float64\n",
      "current_pending_sector_count     161830 non-null float64\n",
      "uncorrectable_sector_count       161830 non-null float64\n",
      "dtypes: float64(7), int64(1), object(3)\n",
      "memory usage: 14.8+ MB\n"
     ]
    }
   ],
   "source": [
    "df.info()"
   ]
  },
  {
   "cell_type": "markdown",
   "metadata": {},
   "source": [
    "#### How many different hard drive models in our dataset? Which are the 5 most popular?"
   ]
  },
  {
   "cell_type": "markdown",
   "metadata": {},
   "source": [
    "> 97 unique hard drive models. Top 5 hard drive models include 3 Seagate and 2 Hitachi."
   ]
  },
  {
   "cell_type": "code",
   "execution_count": 18,
   "metadata": {},
   "outputs": [
    {
     "data": {
      "text/plain": [
       "97"
      ]
     },
     "execution_count": 18,
     "metadata": {},
     "output_type": "execute_result"
    }
   ],
   "source": [
    "df.model.nunique()"
   ]
  },
  {
   "cell_type": "code",
   "execution_count": 19,
   "metadata": {},
   "outputs": [
    {
     "data": {
      "text/plain": [
       "ST12000NM0007           38271\n",
       "ST4000DM000             36156\n",
       "HGST HMS5C4040BLE640    16314\n",
       "ST8000NM0055            14810\n",
       "HGST HUH721212ALN604    10875\n",
       "Name: model, dtype: int64"
      ]
     },
     "execution_count": 19,
     "metadata": {},
     "output_type": "execute_result"
    }
   ],
   "source": [
    "df['model'].value_counts().head()"
   ]
  },
  {
   "cell_type": "markdown",
   "metadata": {},
   "source": [
    "#### How many different manufacturers are included in our data set?"
   ]
  },
  {
   "cell_type": "markdown",
   "metadata": {},
   "source": [
    "> 6 unique manufacturers exist: Hitachi, Seagate, Western Digital, Toshiba, Unknown, and Samsung."
   ]
  },
  {
   "cell_type": "code",
   "execution_count": 20,
   "metadata": {},
   "outputs": [
    {
     "data": {
      "text/plain": [
       "6"
      ]
     },
     "execution_count": 20,
     "metadata": {},
     "output_type": "execute_result"
    }
   ],
   "source": [
    "df.manufacturer.nunique()"
   ]
  },
  {
   "cell_type": "code",
   "execution_count": 21,
   "metadata": {},
   "outputs": [
    {
     "data": {
      "text/plain": [
       "array(['Hitachi', 'Seagate', 'Western Digital', 'Toshiba', 'Unknown',\n",
       "       'Samsung'], dtype=object)"
      ]
     },
     "execution_count": 21,
     "metadata": {},
     "output_type": "execute_result"
    }
   ],
   "source": [
    "df.manufacturer.unique()"
   ]
  },
  {
   "cell_type": "markdown",
   "metadata": {},
   "source": [
    "#### How many different capacity sizes exist for the hard drives in our dataset?"
   ]
  },
  {
   "cell_type": "markdown",
   "metadata": {},
   "source": [
    "> 15 unique hard drive capacity sizes after rounding to the nearest tenth of a terabyte."
   ]
  },
  {
   "cell_type": "code",
   "execution_count": 22,
   "metadata": {},
   "outputs": [
    {
     "data": {
      "text/plain": [
       "15"
      ]
     },
     "execution_count": 22,
     "metadata": {},
     "output_type": "execute_result"
    }
   ],
   "source": [
    "df.capacity_terabytes.nunique()"
   ]
  },
  {
   "cell_type": "code",
   "execution_count": 23,
   "metadata": {},
   "outputs": [
    {
     "data": {
      "text/plain": [
       "array([ 4. ,  3. ,  8. ,  0.5,  6. ,  2. ,  1. ,  0.1, 12. , 10. , 14. ,\n",
       "        1.5,  0.2,  0.3,  5. ])"
      ]
     },
     "execution_count": 23,
     "metadata": {},
     "output_type": "execute_result"
    }
   ],
   "source": [
    "df.capacity_terabytes.unique()"
   ]
  },
  {
   "cell_type": "markdown",
   "metadata": {},
   "source": [
    "#### How many hard drives exist for each manufacturer?"
   ]
  },
  {
   "cell_type": "markdown",
   "metadata": {},
   "source": [
    "> Seagate and Hitachi are the most popular manufacturers. Samsung and Unknown only have 1 hard drive each. These hard drives should be dropped from our dataset. "
   ]
  },
  {
   "cell_type": "code",
   "execution_count": 24,
   "metadata": {},
   "outputs": [
    {
     "data": {
      "text/html": [
       "<div>\n",
       "<style scoped>\n",
       "    .dataframe tbody tr th:only-of-type {\n",
       "        vertical-align: middle;\n",
       "    }\n",
       "\n",
       "    .dataframe tbody tr th {\n",
       "        vertical-align: top;\n",
       "    }\n",
       "\n",
       "    .dataframe thead th {\n",
       "        text-align: right;\n",
       "    }\n",
       "</style>\n",
       "<table border=\"1\" class=\"dataframe\">\n",
       "  <thead>\n",
       "    <tr style=\"text-align: right;\">\n",
       "      <th></th>\n",
       "      <th>model</th>\n",
       "    </tr>\n",
       "    <tr>\n",
       "      <th>manufacturer</th>\n",
       "      <th></th>\n",
       "    </tr>\n",
       "  </thead>\n",
       "  <tbody>\n",
       "    <tr>\n",
       "      <th>Hitachi</th>\n",
       "      <td>51417</td>\n",
       "    </tr>\n",
       "    <tr>\n",
       "      <th>Samsung</th>\n",
       "      <td>1</td>\n",
       "    </tr>\n",
       "    <tr>\n",
       "      <th>Seagate</th>\n",
       "      <td>105012</td>\n",
       "    </tr>\n",
       "    <tr>\n",
       "      <th>Toshiba</th>\n",
       "      <td>2573</td>\n",
       "    </tr>\n",
       "    <tr>\n",
       "      <th>Unknown</th>\n",
       "      <td>1</td>\n",
       "    </tr>\n",
       "    <tr>\n",
       "      <th>Western Digital</th>\n",
       "      <td>2826</td>\n",
       "    </tr>\n",
       "  </tbody>\n",
       "</table>\n",
       "</div>"
      ],
      "text/plain": [
       "                  model\n",
       "manufacturer           \n",
       "Hitachi           51417\n",
       "Samsung               1\n",
       "Seagate          105012\n",
       "Toshiba            2573\n",
       "Unknown               1\n",
       "Western Digital    2826"
      ]
     },
     "execution_count": 24,
     "metadata": {},
     "output_type": "execute_result"
    }
   ],
   "source": [
    "df[['model', 'manufacturer']].groupby('manufacturer').count()"
   ]
  },
  {
   "cell_type": "markdown",
   "metadata": {},
   "source": [
    "#### Remove Samsung and Unknown hard drives"
   ]
  },
  {
   "cell_type": "markdown",
   "metadata": {},
   "source": [
    "The `explore.remove_manufacturer` function reads in the dataframe and removes the two manufacturers with low value counts."
   ]
  },
  {
   "cell_type": "code",
   "execution_count": 25,
   "metadata": {},
   "outputs": [],
   "source": [
    "df = explore.remove_manufacturers(df)"
   ]
  },
  {
   "cell_type": "code",
   "execution_count": 26,
   "metadata": {},
   "outputs": [
    {
     "data": {
      "text/html": [
       "<div>\n",
       "<style scoped>\n",
       "    .dataframe tbody tr th:only-of-type {\n",
       "        vertical-align: middle;\n",
       "    }\n",
       "\n",
       "    .dataframe tbody tr th {\n",
       "        vertical-align: top;\n",
       "    }\n",
       "\n",
       "    .dataframe thead th {\n",
       "        text-align: right;\n",
       "    }\n",
       "</style>\n",
       "<table border=\"1\" class=\"dataframe\">\n",
       "  <thead>\n",
       "    <tr style=\"text-align: right;\">\n",
       "      <th></th>\n",
       "      <th>model</th>\n",
       "    </tr>\n",
       "    <tr>\n",
       "      <th>manufacturer</th>\n",
       "      <th></th>\n",
       "    </tr>\n",
       "  </thead>\n",
       "  <tbody>\n",
       "    <tr>\n",
       "      <th>Hitachi</th>\n",
       "      <td>51417</td>\n",
       "    </tr>\n",
       "    <tr>\n",
       "      <th>Seagate</th>\n",
       "      <td>105012</td>\n",
       "    </tr>\n",
       "    <tr>\n",
       "      <th>Toshiba</th>\n",
       "      <td>2573</td>\n",
       "    </tr>\n",
       "    <tr>\n",
       "      <th>Western Digital</th>\n",
       "      <td>2826</td>\n",
       "    </tr>\n",
       "  </tbody>\n",
       "</table>\n",
       "</div>"
      ],
      "text/plain": [
       "                  model\n",
       "manufacturer           \n",
       "Hitachi           51417\n",
       "Seagate          105012\n",
       "Toshiba            2573\n",
       "Western Digital    2826"
      ]
     },
     "execution_count": 26,
     "metadata": {},
     "output_type": "execute_result"
    }
   ],
   "source": [
    "# Confirm low count manufacturers have been removed\n",
    "df[['model', 'manufacturer']].groupby('manufacturer').count()"
   ]
  },
  {
   "cell_type": "markdown",
   "metadata": {},
   "source": [
    "#### Are model numbers unique to capacity?"
   ]
  },
  {
   "cell_type": "markdown",
   "metadata": {},
   "source": [
    "> Yes, model numbers are unique to capacity. We ask this question to ensure there are not any hard drive models that have different capacities. "
   ]
  },
  {
   "cell_type": "code",
   "execution_count": 27,
   "metadata": {},
   "outputs": [],
   "source": [
    "# create new df to group models with their capacity terabytes\n",
    "model_terabytes = df[['model', 'capacity_terabytes']]"
   ]
  },
  {
   "cell_type": "code",
   "execution_count": 28,
   "metadata": {},
   "outputs": [
    {
     "data": {
      "text/plain": [
       "95"
      ]
     },
     "execution_count": 28,
     "metadata": {},
     "output_type": "execute_result"
    }
   ],
   "source": [
    "# count unique models\n",
    "model_terabytes.model.nunique()"
   ]
  },
  {
   "cell_type": "code",
   "execution_count": 29,
   "metadata": {},
   "outputs": [],
   "source": [
    "# group unique model and unique terabytes combinations\n",
    "unique_model_terabytes = len(model_terabytes.groupby(['model', 'capacity_terabytes']).count())"
   ]
  },
  {
   "cell_type": "code",
   "execution_count": 30,
   "metadata": {},
   "outputs": [
    {
     "data": {
      "text/plain": [
       "True"
      ]
     },
     "execution_count": 30,
     "metadata": {},
     "output_type": "execute_result"
    }
   ],
   "source": [
    "# compare the length of unique model and gigabytes combinations to the count of unique models, must equal a match.\n",
    "unique_model_terabytes == model_terabytes.model.nunique()"
   ]
  },
  {
   "cell_type": "markdown",
   "metadata": {},
   "source": [
    "#### Does the average hard drive age vary by manufacturer? By model?"
   ]
  },
  {
   "cell_type": "code",
   "execution_count": 31,
   "metadata": {},
   "outputs": [
    {
     "data": {
      "text/html": [
       "<div>\n",
       "<style scoped>\n",
       "    .dataframe tbody tr th:only-of-type {\n",
       "        vertical-align: middle;\n",
       "    }\n",
       "\n",
       "    .dataframe tbody tr th {\n",
       "        vertical-align: top;\n",
       "    }\n",
       "\n",
       "    .dataframe thead th {\n",
       "        text-align: right;\n",
       "    }\n",
       "</style>\n",
       "<table border=\"1\" class=\"dataframe\">\n",
       "  <thead>\n",
       "    <tr style=\"text-align: right;\">\n",
       "      <th></th>\n",
       "      <th>drive_age_in_years</th>\n",
       "    </tr>\n",
       "    <tr>\n",
       "      <th>manufacturer</th>\n",
       "      <th></th>\n",
       "    </tr>\n",
       "  </thead>\n",
       "  <tbody>\n",
       "    <tr>\n",
       "      <th>Hitachi</th>\n",
       "      <td>3.057432</td>\n",
       "    </tr>\n",
       "    <tr>\n",
       "      <th>Seagate</th>\n",
       "      <td>2.557938</td>\n",
       "    </tr>\n",
       "    <tr>\n",
       "      <th>Toshiba</th>\n",
       "      <td>1.611698</td>\n",
       "    </tr>\n",
       "    <tr>\n",
       "      <th>Western Digital</th>\n",
       "      <td>3.765322</td>\n",
       "    </tr>\n",
       "  </tbody>\n",
       "</table>\n",
       "</div>"
      ],
      "text/plain": [
       "                 drive_age_in_years\n",
       "manufacturer                       \n",
       "Hitachi                    3.057432\n",
       "Seagate                    2.557938\n",
       "Toshiba                    1.611698\n",
       "Western Digital            3.765322"
      ]
     },
     "execution_count": 31,
     "metadata": {},
     "output_type": "execute_result"
    }
   ],
   "source": [
    "# Average drive age by manufacturer\n",
    "manufacturers = df[['manufacturer', 'drive_age_in_years']].groupby('manufacturer',sort=True).mean()\n",
    "manufacturers"
   ]
  },
  {
   "cell_type": "code",
   "execution_count": 32,
   "metadata": {},
   "outputs": [
    {
     "data": {
      "image/png": "[encoded data removed]",
      "text/plain": [
       "<Figure size 432x288 with 1 Axes>"
      ]
     },
     "metadata": {
      "needs_background": "light"
     },
     "output_type": "display_data"
    }
   ],
   "source": [
    "# Plot of Manufacturers by Average Drive Age\n",
    "ax1 = plt.bar(x= manufacturers.index ,height=manufacturers.drive_age_in_years)\n",
    "plt.xlabel('Manufacturers')\n",
    "plt.ylabel('Average Hard Drive Age (Years)')\n",
    "plt.title('Manufacturers by Average Drive Age')\n",
    "plt.show()"
   ]
  },
  {
   "cell_type": "code",
   "execution_count": 33,
   "metadata": {},
   "outputs": [
    {
     "data": {
      "text/html": [
       "<div>\n",
       "<style scoped>\n",
       "    .dataframe tbody tr th:only-of-type {\n",
       "        vertical-align: middle;\n",
       "    }\n",
       "\n",
       "    .dataframe tbody tr th {\n",
       "        vertical-align: top;\n",
       "    }\n",
       "\n",
       "    .dataframe thead th {\n",
       "        text-align: right;\n",
       "    }\n",
       "</style>\n",
       "<table border=\"1\" class=\"dataframe\">\n",
       "  <thead>\n",
       "    <tr style=\"text-align: right;\">\n",
       "      <th></th>\n",
       "      <th>drive_age_in_years</th>\n",
       "    </tr>\n",
       "    <tr>\n",
       "      <th>model</th>\n",
       "      <th></th>\n",
       "    </tr>\n",
       "  </thead>\n",
       "  <tbody>\n",
       "    <tr>\n",
       "      <th>WDC WD800LB</th>\n",
       "      <td>10.300000</td>\n",
       "    </tr>\n",
       "    <tr>\n",
       "      <th>WDC WD800BB</th>\n",
       "      <td>9.240000</td>\n",
       "    </tr>\n",
       "    <tr>\n",
       "      <th>Hitachi HDT725025VLA380</th>\n",
       "      <td>7.800000</td>\n",
       "    </tr>\n",
       "    <tr>\n",
       "      <th>WDC WD3200AAKS</th>\n",
       "      <td>6.800000</td>\n",
       "    </tr>\n",
       "    <tr>\n",
       "      <th>WDC WD10EACS</th>\n",
       "      <td>6.586667</td>\n",
       "    </tr>\n",
       "  </tbody>\n",
       "</table>\n",
       "</div>"
      ],
      "text/plain": [
       "                         drive_age_in_years\n",
       "model                                      \n",
       "WDC WD800LB                       10.300000\n",
       "WDC WD800BB                        9.240000\n",
       "Hitachi HDT725025VLA380            7.800000\n",
       "WDC WD3200AAKS                     6.800000\n",
       "WDC WD10EACS                       6.586667"
      ]
     },
     "execution_count": 33,
     "metadata": {},
     "output_type": "execute_result"
    }
   ],
   "source": [
    "# Drive age aggregated by model number and sorted. Top 10 models returned\n",
    "model_avg_age = df[['model', 'drive_age_in_years']].groupby('model',sort=True).mean().sort_values('drive_age_in_years', ascending = False)\n",
    "model_avg_age.head()"
   ]
  },
  {
   "cell_type": "code",
   "execution_count": 34,
   "metadata": {},
   "outputs": [
    {
     "data": {
      "text/plain": [
       "Text(0.5, 1.0, 'Models by Average Drive Age')"
      ]
     },
     "execution_count": 34,
     "metadata": {},
     "output_type": "execute_result"
    },
    {
     "data": {
      "image/png": "[encoded data removed]",
      "text/plain": [
       "<Figure size 432x288 with 1 Axes>"
      ]
     },
     "metadata": {
      "needs_background": "light"
     },
     "output_type": "display_data"
    }
   ],
   "source": [
    "# Plot of Models by Average Drive Age\n",
    "mod = model_avg_age.groupby('model').mean()\n",
    "ax2 = plt.bar(x= mod.index ,height=mod.drive_age_in_years)\n",
    "plt.xticks('')\n",
    "plt.xlabel('Individual Model')\n",
    "plt.ylabel('Average Drive Age (Years)')\n",
    "plt.title('Models by Average Drive Age')"
   ]
  },
  {
   "cell_type": "markdown",
   "metadata": {},
   "source": [
    "> Variance in drive age is seen in both the manufacturers and model numbers. The variance is more apparent amoung hard drive models."
   ]
  },
  {
   "cell_type": "markdown",
   "metadata": {},
   "source": [
    "### What is a hard drive failure?\n",
    "\n",
    "According to Backblaze, a hard drive failure occurs when a drive stops spinning, won’t stay as a member of a RAID array, or demonstrates continuous degradation over time as informed by SMART stats and other system checks.\n",
    "\n",
    "Because we aggregate the failure column by the max value, a \"0\" signifies a hard drive that has yet to fail, and a \"1\" signifies a hard drive that has failed. "
   ]
  },
  {
   "cell_type": "markdown",
   "metadata": {},
   "source": [
    "#### What do failures look like? "
   ]
  },
  {
   "cell_type": "code",
   "execution_count": 35,
   "metadata": {},
   "outputs": [
    {
     "data": {
      "text/plain": [
       "0    155917\n",
       "1      5911\n",
       "Name: failure, dtype: int64"
      ]
     },
     "execution_count": 35,
     "metadata": {},
     "output_type": "execute_result"
    }
   ],
   "source": [
    "df.failure.value_counts()"
   ]
  },
  {
   "cell_type": "code",
   "execution_count": 36,
   "metadata": {},
   "outputs": [
    {
     "data": {
      "text/plain": [
       "0.03652643547470154"
      ]
     },
     "execution_count": 36,
     "metadata": {},
     "output_type": "execute_result"
    }
   ],
   "source": [
    "(df.failure == 1).sum() / len(df)"
   ]
  },
  {
   "cell_type": "markdown",
   "metadata": {},
   "source": [
    "> Only 3.7% of all hard drives have been recorded as \"failed\""
   ]
  },
  {
   "cell_type": "markdown",
   "metadata": {},
   "source": [
    "#### How do the lifespans of hard drives that have failed compared to hard drives that have not failed?"
   ]
  },
  {
   "cell_type": "code",
   "execution_count": 37,
   "metadata": {},
   "outputs": [],
   "source": [
    "# create new dfs with hard drives that have failed, and hard drives that have not failed \n",
    "df_fails = df [df.failure == 1]\n",
    "df_lives = df [df.failure == 0]"
   ]
  },
  {
   "cell_type": "code",
   "execution_count": 38,
   "metadata": {},
   "outputs": [
    {
     "data": {
      "image/png": "[encoded data removed]",
      "text/plain": [
       "<Figure size 720x432 with 1 Axes>"
      ]
     },
     "metadata": {
      "needs_background": "light"
     },
     "output_type": "display_data"
    }
   ],
   "source": [
    "plt.figure(figsize=(10,6))\n",
    "plt.hist([df_fails.drive_age_in_years, df_lives.drive_age_in_years], stacked=True, bins=20,\n",
    "         edgecolor='slategrey', color=['salmon', 'mistyrose'])\n",
    "plt.legend([\"Failed Drives\",\"Not Failed Drives\"])\n",
    "plt.title(\"Distribution of the Life of a Hard Drive\")\n",
    "plt.xlabel(\"Lifespan (years)\")\n",
    "plt.ylabel(\"Frequency\")\n",
    "ax = plt.gca()\n",
    "ax.get_yaxis().set_major_formatter(plt.FuncFormatter(lambda x, loc: \"{:,}\".format(int(x))))             \n",
    "ax.get_xaxis().set_major_formatter(plt.FuncFormatter(lambda x, loc: \"{:,}\".format(int(x))))\n",
    "plt.show()"
   ]
  },
  {
   "cell_type": "markdown",
   "metadata": {},
   "source": [
    "#### How is this misleading?\n",
    "- Failures include not only drives that have failed, but also drives that have yet to fail but show signs of failing soon. Our goal is to determine the reliability of hard drives. Therefore, it is acceptable to classify imminently failing drives as failures. \n",
    "- Failures do not take into account the lifespan of the hard drive. It is important to realize that all hard drives, given enough time, will eventually fail. For example, a typical lifespan of a hard drive is 5 years. If a hard drive fails after 10 years of continual operation, then it should have a reliable rating, as it lasted well past it's typical lifespan. Therefore, the focus will be on drives that fail before reaching their average lifespan. "
   ]
  },
  {
   "cell_type": "markdown",
   "metadata": {},
   "source": [
    "> We will identify hard drives that are more prone to early failures.  "
   ]
  },
  {
   "cell_type": "markdown",
   "metadata": {},
   "source": [
    "#### How do we define an early failure? "
   ]
  },
  {
   "cell_type": "markdown",
   "metadata": {},
   "source": [
    "The goal of the project is to determine which hard drives are more prone to early failures. Looking at the lifespan of all hard drives, a hard drive that fails within the half of all life spans, is labeled as an early failure."
   ]
  },
  {
   "cell_type": "code",
   "execution_count": 39,
   "metadata": {},
   "outputs": [
    {
     "data": {
      "text/html": [
       "<div>\n",
       "<style scoped>\n",
       "    .dataframe tbody tr th:only-of-type {\n",
       "        vertical-align: middle;\n",
       "    }\n",
       "\n",
       "    .dataframe tbody tr th {\n",
       "        vertical-align: top;\n",
       "    }\n",
       "\n",
       "    .dataframe thead th {\n",
       "        text-align: right;\n",
       "    }\n",
       "</style>\n",
       "<table border=\"1\" class=\"dataframe\">\n",
       "  <thead>\n",
       "    <tr style=\"text-align: right;\">\n",
       "      <th></th>\n",
       "      <th>drive_age_in_years</th>\n",
       "    </tr>\n",
       "  </thead>\n",
       "  <tbody>\n",
       "    <tr>\n",
       "      <th>count</th>\n",
       "      <td>161828.000000</td>\n",
       "    </tr>\n",
       "    <tr>\n",
       "      <th>mean</th>\n",
       "      <td>2.722680</td>\n",
       "    </tr>\n",
       "    <tr>\n",
       "      <th>std</th>\n",
       "      <td>1.524778</td>\n",
       "    </tr>\n",
       "    <tr>\n",
       "      <th>min</th>\n",
       "      <td>0.000000</td>\n",
       "    </tr>\n",
       "    <tr>\n",
       "      <th>25%</th>\n",
       "      <td>1.600000</td>\n",
       "    </tr>\n",
       "    <tr>\n",
       "      <th>50%</th>\n",
       "      <td>2.600000</td>\n",
       "    </tr>\n",
       "    <tr>\n",
       "      <th>75%</th>\n",
       "      <td>4.000000</td>\n",
       "    </tr>\n",
       "    <tr>\n",
       "      <th>max</th>\n",
       "      <td>10.300000</td>\n",
       "    </tr>\n",
       "  </tbody>\n",
       "</table>\n",
       "</div>"
      ],
      "text/plain": [
       "       drive_age_in_years\n",
       "count       161828.000000\n",
       "mean             2.722680\n",
       "std              1.524778\n",
       "min              0.000000\n",
       "25%              1.600000\n",
       "50%              2.600000\n",
       "75%              4.000000\n",
       "max             10.300000"
      ]
     },
     "execution_count": 39,
     "metadata": {},
     "output_type": "execute_result"
    }
   ],
   "source": [
    "df[['drive_age_in_years']].describe()"
   ]
  },
  {
   "cell_type": "markdown",
   "metadata": {},
   "source": [
    "> A cut-off age of 2.6 years is utilized for early failure."
   ]
  },
  {
   "cell_type": "code",
   "execution_count": 40,
   "metadata": {},
   "outputs": [
    {
     "data": {
      "image/png": "[encoded data removed]",
      "text/plain": [
       "<Figure size 864x648 with 2 Axes>"
      ]
     },
     "metadata": {
      "needs_background": "light"
     },
     "output_type": "display_data"
    }
   ],
   "source": [
    "fig = plt.figure(figsize=(12,9))\n",
    "\n",
    "ax1 = plt.subplot(2, 1, 1)\n",
    "\n",
    "for col in df.columns[6:]:\n",
    "    plt.scatter(y=df_fails[col], x=df_fails.drive_age_in_years, label=col, alpha = .55)\n",
    "plt.legend(title = 'SMART Features')\n",
    "plt.vlines(2.6, 0, 70_000, linestyles= \"dashed\", colors = 'red')\n",
    "plt.ylim((0, 70_000))\n",
    "plt.ylabel(\"Frequency\")\n",
    "plt.title('Drives that have failed')\n",
    "ax1.get_yaxis().set_major_formatter(plt.FuncFormatter(lambda x, loc: \"{:,}\".format(int(x))))             \n",
    "\n",
    "plt.annotate(\n",
    "    f'Mean Age: 2.6 years',\n",
    "    xy=(2.6, 50_000),\n",
    "    xytext=(4, 60_000),\n",
    "    arrowprops={'arrowstyle': '->'})\n",
    "\n",
    "ax2 = plt.subplot(2, 1, 2, sharex=ax1)\n",
    "\n",
    "for col in df.columns[6:]:\n",
    "    plt.scatter(y=df_lives[col], x=df_lives.drive_age_in_years, label=col, alpha = .55)\n",
    "plt.vlines(2.6, 0, 70_000, linestyles='dashed',colors = 'red')\n",
    "plt.ylim((0, 70_000))\n",
    "plt.xlabel(\"Drive Age (years)\")\n",
    "plt.ylabel(\"Frequency\")\n",
    "plt.title(\"Drives that have not failed\")\n",
    "ax2.get_yaxis().set_major_formatter(plt.FuncFormatter(lambda x, loc: \"{:,}\".format(int(x))))  \n",
    "\n",
    "plt.annotate(\n",
    "    'Mean Age: 2.6 years',\n",
    "    xy=(2.6, 40_000),\n",
    "    xytext=(4, 50_000),\n",
    "    arrowprops={'arrowstyle': '->'})\n",
    "plt.show()\n"
   ]
  },
  {
   "cell_type": "markdown",
   "metadata": {},
   "source": [
    "The `explore.early_failure` function creates a column in the dataframe that identifies drives that are early failures."
   ]
  },
  {
   "cell_type": "code",
   "execution_count": 41,
   "metadata": {},
   "outputs": [],
   "source": [
    "df = explore.early_failure(df)"
   ]
  },
  {
   "cell_type": "markdown",
   "metadata": {},
   "source": [
    "#### Removing young non-failing hard drives"
   ]
  },
  {
   "cell_type": "markdown",
   "metadata": {},
   "source": [
    "Hard drives that are currently functioning properly, but have yet reached the established cut-off age will be removed from this analysis. These hard drives have not been powered on long enough to give significant stats of a reliable drive. The `explore.old_or_fail` function drops rows containing drives that have not failed and are not older than the cut off age (2.6 years)."
   ]
  },
  {
   "cell_type": "code",
   "execution_count": 42,
   "metadata": {},
   "outputs": [],
   "source": [
    "df = explore.old_or_fail(df)"
   ]
  },
  {
   "cell_type": "code",
   "execution_count": 43,
   "metadata": {},
   "outputs": [
    {
     "data": {
      "text/plain": [
       "(83940, 12)"
      ]
     },
     "execution_count": 43,
     "metadata": {},
     "output_type": "execute_result"
    }
   ],
   "source": [
    "df.shape"
   ]
  },
  {
   "cell_type": "markdown",
   "metadata": {},
   "source": [
    "> After defining early failures and removing young non-failing drives, the dataframe has 12 columns and 83,940 rows. The data can be further explored. "
   ]
  },
  {
   "cell_type": "markdown",
   "metadata": {},
   "source": [
    "#### How many of the hard drives are identified as early failures?"
   ]
  },
  {
   "cell_type": "code",
   "execution_count": 44,
   "metadata": {},
   "outputs": [
    {
     "data": {
      "text/plain": [
       "0    79954\n",
       "1     3986\n",
       "Name: early_failure, dtype: int64"
      ]
     },
     "execution_count": 44,
     "metadata": {},
     "output_type": "execute_result"
    }
   ],
   "source": [
    "df.early_failure.value_counts()"
   ]
  },
  {
   "cell_type": "code",
   "execution_count": 45,
   "metadata": {},
   "outputs": [
    {
     "data": {
      "text/plain": [
       "0.04748629973790803"
      ]
     },
     "execution_count": 45,
     "metadata": {},
     "output_type": "execute_result"
    }
   ],
   "source": [
    "(df.early_failure == 1).sum() / len(df)"
   ]
  },
  {
   "cell_type": "markdown",
   "metadata": {},
   "source": [
    "> Only 4.7% of hard drives are identified as early failures after the removal of young non-failing drives."
   ]
  },
  {
   "cell_type": "markdown",
   "metadata": {},
   "source": [
    "#### Do early failure rates vary by model number?"
   ]
  },
  {
   "cell_type": "code",
   "execution_count": 46,
   "metadata": {},
   "outputs": [
    {
     "data": {
      "text/html": [
       "<div>\n",
       "<style scoped>\n",
       "    .dataframe tbody tr th:only-of-type {\n",
       "        vertical-align: middle;\n",
       "    }\n",
       "\n",
       "    .dataframe tbody tr th {\n",
       "        vertical-align: top;\n",
       "    }\n",
       "\n",
       "    .dataframe thead th {\n",
       "        text-align: right;\n",
       "    }\n",
       "</style>\n",
       "<table border=\"1\" class=\"dataframe\">\n",
       "  <thead>\n",
       "    <tr style=\"text-align: right;\">\n",
       "      <th></th>\n",
       "      <th></th>\n",
       "      <th>early_failures</th>\n",
       "      <th>total_drives</th>\n",
       "      <th>average_age_in_years</th>\n",
       "      <th>early_failure_rate_percent</th>\n",
       "    </tr>\n",
       "    <tr>\n",
       "      <th>manufacturer</th>\n",
       "      <th>model</th>\n",
       "      <th></th>\n",
       "      <th></th>\n",
       "      <th></th>\n",
       "      <th></th>\n",
       "    </tr>\n",
       "  </thead>\n",
       "  <tbody>\n",
       "    <tr>\n",
       "      <th rowspan=\"4\" valign=\"top\">Seagate</th>\n",
       "      <th>ST4000DM000</th>\n",
       "      <td>1498</td>\n",
       "      <td>34901</td>\n",
       "      <td>3.947474</td>\n",
       "      <td>4.292141</td>\n",
       "    </tr>\n",
       "    <tr>\n",
       "      <th>ST12000NM0007</th>\n",
       "      <td>1104</td>\n",
       "      <td>1104</td>\n",
       "      <td>1.046830</td>\n",
       "      <td>100.000000</td>\n",
       "    </tr>\n",
       "    <tr>\n",
       "      <th>ST8000NM0055</th>\n",
       "      <td>383</td>\n",
       "      <td>442</td>\n",
       "      <td>1.395249</td>\n",
       "      <td>86.651584</td>\n",
       "    </tr>\n",
       "    <tr>\n",
       "      <th>ST8000DM002</th>\n",
       "      <td>276</td>\n",
       "      <td>9928</td>\n",
       "      <td>3.018433</td>\n",
       "      <td>2.780016</td>\n",
       "    </tr>\n",
       "    <tr>\n",
       "      <th>Hitachi</th>\n",
       "      <th>HGST HMS5C4040BLE640</th>\n",
       "      <td>197</td>\n",
       "      <td>10920</td>\n",
       "      <td>3.511181</td>\n",
       "      <td>1.804029</td>\n",
       "    </tr>\n",
       "    <tr>\n",
       "      <th>Toshiba</th>\n",
       "      <th>TOSHIBA MQ01ABF050</th>\n",
       "      <td>112</td>\n",
       "      <td>249</td>\n",
       "      <td>2.259839</td>\n",
       "      <td>44.979920</td>\n",
       "    </tr>\n",
       "    <tr>\n",
       "      <th>Hitachi</th>\n",
       "      <th>HGST HMS5C4040ALE640</th>\n",
       "      <td>59</td>\n",
       "      <td>7673</td>\n",
       "      <td>3.842408</td>\n",
       "      <td>0.768930</td>\n",
       "    </tr>\n",
       "    <tr>\n",
       "      <th rowspan=\"2\" valign=\"top\">Seagate</th>\n",
       "      <th>ST500LM012 HN</th>\n",
       "      <td>41</td>\n",
       "      <td>603</td>\n",
       "      <td>3.475456</td>\n",
       "      <td>6.799337</td>\n",
       "    </tr>\n",
       "    <tr>\n",
       "      <th>ST4000DM001</th>\n",
       "      <td>34</td>\n",
       "      <td>34</td>\n",
       "      <td>0.244118</td>\n",
       "      <td>100.000000</td>\n",
       "    </tr>\n",
       "    <tr>\n",
       "      <th>Western Digital</th>\n",
       "      <th>WDC WD30EFRX</th>\n",
       "      <td>34</td>\n",
       "      <td>814</td>\n",
       "      <td>3.471253</td>\n",
       "      <td>4.176904</td>\n",
       "    </tr>\n",
       "    <tr>\n",
       "      <th>Seagate</th>\n",
       "      <th>ST6000DX000</th>\n",
       "      <td>29</td>\n",
       "      <td>1890</td>\n",
       "      <td>4.099101</td>\n",
       "      <td>1.534392</td>\n",
       "    </tr>\n",
       "    <tr>\n",
       "      <th>Western Digital</th>\n",
       "      <th>WDC WD60EFRX</th>\n",
       "      <td>29</td>\n",
       "      <td>465</td>\n",
       "      <td>3.992258</td>\n",
       "      <td>6.236559</td>\n",
       "    </tr>\n",
       "    <tr>\n",
       "      <th>Seagate</th>\n",
       "      <th>ST500LM030</th>\n",
       "      <td>28</td>\n",
       "      <td>28</td>\n",
       "      <td>0.439286</td>\n",
       "      <td>100.000000</td>\n",
       "    </tr>\n",
       "    <tr>\n",
       "      <th>Hitachi</th>\n",
       "      <th>HGST HUH721212ALN604</th>\n",
       "      <td>25</td>\n",
       "      <td>25</td>\n",
       "      <td>0.244000</td>\n",
       "      <td>100.000000</td>\n",
       "    </tr>\n",
       "    <tr>\n",
       "      <th>Toshiba</th>\n",
       "      <th>TOSHIBA MQ01ABF050M</th>\n",
       "      <td>19</td>\n",
       "      <td>19</td>\n",
       "      <td>1.157895</td>\n",
       "      <td>100.000000</td>\n",
       "    </tr>\n",
       "    <tr>\n",
       "      <th rowspan=\"2\" valign=\"top\">Seagate</th>\n",
       "      <th>ST10000NM0086</th>\n",
       "      <td>14</td>\n",
       "      <td>14</td>\n",
       "      <td>1.100000</td>\n",
       "      <td>100.000000</td>\n",
       "    </tr>\n",
       "    <tr>\n",
       "      <th>ST320LT007</th>\n",
       "      <td>14</td>\n",
       "      <td>73</td>\n",
       "      <td>3.382192</td>\n",
       "      <td>19.178082</td>\n",
       "    </tr>\n",
       "    <tr>\n",
       "      <th>Hitachi</th>\n",
       "      <th>HGST HUH728080ALE600</th>\n",
       "      <td>12</td>\n",
       "      <td>57</td>\n",
       "      <td>3.401754</td>\n",
       "      <td>21.052632</td>\n",
       "    </tr>\n",
       "    <tr>\n",
       "      <th>Toshiba</th>\n",
       "      <th>TOSHIBA MG07ACA14TA</th>\n",
       "      <td>11</td>\n",
       "      <td>11</td>\n",
       "      <td>0.200000</td>\n",
       "      <td>100.000000</td>\n",
       "    </tr>\n",
       "    <tr>\n",
       "      <th rowspan=\"2\" valign=\"top\">Western Digital</th>\n",
       "      <th>WDC WD5000LPVX</th>\n",
       "      <td>7</td>\n",
       "      <td>332</td>\n",
       "      <td>4.187349</td>\n",
       "      <td>2.108434</td>\n",
       "    </tr>\n",
       "    <tr>\n",
       "      <th>WDC WD20EFRX</th>\n",
       "      <td>6</td>\n",
       "      <td>6</td>\n",
       "      <td>0.816667</td>\n",
       "      <td>100.000000</td>\n",
       "    </tr>\n",
       "    <tr>\n",
       "      <th rowspan=\"3\" valign=\"top\">Seagate</th>\n",
       "      <th>ST4000DM005</th>\n",
       "      <td>5</td>\n",
       "      <td>5</td>\n",
       "      <td>0.060000</td>\n",
       "      <td>100.000000</td>\n",
       "    </tr>\n",
       "    <tr>\n",
       "      <th>ST12000NM0117</th>\n",
       "      <td>5</td>\n",
       "      <td>5</td>\n",
       "      <td>0.000000</td>\n",
       "      <td>100.000000</td>\n",
       "    </tr>\n",
       "    <tr>\n",
       "      <th>ST4000DX002</th>\n",
       "      <td>4</td>\n",
       "      <td>4</td>\n",
       "      <td>0.850000</td>\n",
       "      <td>100.000000</td>\n",
       "    </tr>\n",
       "    <tr>\n",
       "      <th>Hitachi</th>\n",
       "      <th>HGST HUH721212ALE600</th>\n",
       "      <td>4</td>\n",
       "      <td>4</td>\n",
       "      <td>0.250000</td>\n",
       "      <td>100.000000</td>\n",
       "    </tr>\n",
       "    <tr>\n",
       "      <th rowspan=\"2\" valign=\"top\">Seagate</th>\n",
       "      <th>ST8000DM004</th>\n",
       "      <td>4</td>\n",
       "      <td>4</td>\n",
       "      <td>0.250000</td>\n",
       "      <td>100.000000</td>\n",
       "    </tr>\n",
       "    <tr>\n",
       "      <th>ST9250315AS</th>\n",
       "      <td>3</td>\n",
       "      <td>56</td>\n",
       "      <td>4.344643</td>\n",
       "      <td>5.357143</td>\n",
       "    </tr>\n",
       "    <tr>\n",
       "      <th>Hitachi</th>\n",
       "      <th>HGST HUS726040ALE610</th>\n",
       "      <td>3</td>\n",
       "      <td>3</td>\n",
       "      <td>1.766667</td>\n",
       "      <td>100.000000</td>\n",
       "    </tr>\n",
       "    <tr>\n",
       "      <th>Western Digital</th>\n",
       "      <th>WDC WD5000LPCX</th>\n",
       "      <td>3</td>\n",
       "      <td>50</td>\n",
       "      <td>3.120000</td>\n",
       "      <td>6.000000</td>\n",
       "    </tr>\n",
       "    <tr>\n",
       "      <th>Seagate</th>\n",
       "      <th>ST8000DM005</th>\n",
       "      <td>2</td>\n",
       "      <td>2</td>\n",
       "      <td>0.450000</td>\n",
       "      <td>100.000000</td>\n",
       "    </tr>\n",
       "    <tr>\n",
       "      <th>...</th>\n",
       "      <th>...</th>\n",
       "      <td>...</td>\n",
       "      <td>...</td>\n",
       "      <td>...</td>\n",
       "      <td>...</td>\n",
       "    </tr>\n",
       "    <tr>\n",
       "      <th>Western Digital</th>\n",
       "      <th>WDC WD5003ABYX</th>\n",
       "      <td>0</td>\n",
       "      <td>1</td>\n",
       "      <td>3.000000</td>\n",
       "      <td>0.000000</td>\n",
       "    </tr>\n",
       "    <tr>\n",
       "      <th>Hitachi</th>\n",
       "      <th>Hitachi HDS5C3030ALA630</th>\n",
       "      <td>0</td>\n",
       "      <td>4540</td>\n",
       "      <td>5.058877</td>\n",
       "      <td>0.000000</td>\n",
       "    </tr>\n",
       "    <tr>\n",
       "      <th rowspan=\"9\" valign=\"top\">Western Digital</th>\n",
       "      <th>WDC WD800AAJB</th>\n",
       "      <td>0</td>\n",
       "      <td>7</td>\n",
       "      <td>5.242857</td>\n",
       "      <td>0.000000</td>\n",
       "    </tr>\n",
       "    <tr>\n",
       "      <th>WDC WD800AAJS</th>\n",
       "      <td>0</td>\n",
       "      <td>14</td>\n",
       "      <td>4.078571</td>\n",
       "      <td>0.000000</td>\n",
       "    </tr>\n",
       "    <tr>\n",
       "      <th>WDC WD800BB</th>\n",
       "      <td>0</td>\n",
       "      <td>5</td>\n",
       "      <td>9.240000</td>\n",
       "      <td>0.000000</td>\n",
       "    </tr>\n",
       "    <tr>\n",
       "      <th>WDC WD800JB</th>\n",
       "      <td>0</td>\n",
       "      <td>4</td>\n",
       "      <td>6.475000</td>\n",
       "      <td>0.000000</td>\n",
       "    </tr>\n",
       "    <tr>\n",
       "      <th>WDC WD800JD</th>\n",
       "      <td>0</td>\n",
       "      <td>1</td>\n",
       "      <td>4.800000</td>\n",
       "      <td>0.000000</td>\n",
       "    </tr>\n",
       "    <tr>\n",
       "      <th>WDC WD2500BPVT</th>\n",
       "      <td>0</td>\n",
       "      <td>8</td>\n",
       "      <td>4.612500</td>\n",
       "      <td>0.000000</td>\n",
       "    </tr>\n",
       "    <tr>\n",
       "      <th>WDC WD2500BEVT</th>\n",
       "      <td>0</td>\n",
       "      <td>1</td>\n",
       "      <td>3.400000</td>\n",
       "      <td>0.000000</td>\n",
       "    </tr>\n",
       "    <tr>\n",
       "      <th>WDC WD2500AAJS</th>\n",
       "      <td>0</td>\n",
       "      <td>3</td>\n",
       "      <td>4.700000</td>\n",
       "      <td>0.000000</td>\n",
       "    </tr>\n",
       "    <tr>\n",
       "      <th>WDC WD10EADS</th>\n",
       "      <td>0</td>\n",
       "      <td>287</td>\n",
       "      <td>6.264808</td>\n",
       "      <td>0.000000</td>\n",
       "    </tr>\n",
       "    <tr>\n",
       "      <th rowspan=\"6\" valign=\"top\">Seagate</th>\n",
       "      <th>ST3500320AS</th>\n",
       "      <td>0</td>\n",
       "      <td>1</td>\n",
       "      <td>4.900000</td>\n",
       "      <td>0.000000</td>\n",
       "    </tr>\n",
       "    <tr>\n",
       "      <th>ST33000651AS</th>\n",
       "      <td>0</td>\n",
       "      <td>1</td>\n",
       "      <td>5.400000</td>\n",
       "      <td>0.000000</td>\n",
       "    </tr>\n",
       "    <tr>\n",
       "      <th>ST3160318AS</th>\n",
       "      <td>0</td>\n",
       "      <td>47</td>\n",
       "      <td>5.878723</td>\n",
       "      <td>0.000000</td>\n",
       "    </tr>\n",
       "    <tr>\n",
       "      <th>ST3160316AS</th>\n",
       "      <td>0</td>\n",
       "      <td>53</td>\n",
       "      <td>5.741509</td>\n",
       "      <td>0.000000</td>\n",
       "    </tr>\n",
       "    <tr>\n",
       "      <th>ST31500541AS</th>\n",
       "      <td>0</td>\n",
       "      <td>264</td>\n",
       "      <td>5.986364</td>\n",
       "      <td>0.000000</td>\n",
       "    </tr>\n",
       "    <tr>\n",
       "      <th>ST31500341AS</th>\n",
       "      <td>0</td>\n",
       "      <td>1</td>\n",
       "      <td>6.300000</td>\n",
       "      <td>0.000000</td>\n",
       "    </tr>\n",
       "    <tr>\n",
       "      <th rowspan=\"10\" valign=\"top\">Western Digital</th>\n",
       "      <th>WDC WD1000FYPS</th>\n",
       "      <td>0</td>\n",
       "      <td>1</td>\n",
       "      <td>3.600000</td>\n",
       "      <td>0.000000</td>\n",
       "    </tr>\n",
       "    <tr>\n",
       "      <th>WDC WD10EACS</th>\n",
       "      <td>0</td>\n",
       "      <td>60</td>\n",
       "      <td>6.586667</td>\n",
       "      <td>0.000000</td>\n",
       "    </tr>\n",
       "    <tr>\n",
       "      <th>WDC WD10EADX</th>\n",
       "      <td>0</td>\n",
       "      <td>9</td>\n",
       "      <td>3.177778</td>\n",
       "      <td>0.000000</td>\n",
       "    </tr>\n",
       "    <tr>\n",
       "      <th>WDC WD2500AAJB</th>\n",
       "      <td>0</td>\n",
       "      <td>1</td>\n",
       "      <td>3.600000</td>\n",
       "      <td>0.000000</td>\n",
       "    </tr>\n",
       "    <tr>\n",
       "      <th>WDC WD10EALS</th>\n",
       "      <td>0</td>\n",
       "      <td>1</td>\n",
       "      <td>3.500000</td>\n",
       "      <td>0.000000</td>\n",
       "    </tr>\n",
       "    <tr>\n",
       "      <th>WDC WD10EARS</th>\n",
       "      <td>0</td>\n",
       "      <td>3</td>\n",
       "      <td>4.433333</td>\n",
       "      <td>0.000000</td>\n",
       "    </tr>\n",
       "    <tr>\n",
       "      <th>WDC WD10EARX</th>\n",
       "      <td>0</td>\n",
       "      <td>2</td>\n",
       "      <td>2.950000</td>\n",
       "      <td>0.000000</td>\n",
       "    </tr>\n",
       "    <tr>\n",
       "      <th>WDC WD15EARS</th>\n",
       "      <td>0</td>\n",
       "      <td>1</td>\n",
       "      <td>5.100000</td>\n",
       "      <td>0.000000</td>\n",
       "    </tr>\n",
       "    <tr>\n",
       "      <th>WDC WD1600AAJB</th>\n",
       "      <td>0</td>\n",
       "      <td>6</td>\n",
       "      <td>4.366667</td>\n",
       "      <td>0.000000</td>\n",
       "    </tr>\n",
       "    <tr>\n",
       "      <th>WDC WD1600AAJS</th>\n",
       "      <td>0</td>\n",
       "      <td>100</td>\n",
       "      <td>5.147000</td>\n",
       "      <td>0.000000</td>\n",
       "    </tr>\n",
       "    <tr>\n",
       "      <th>Seagate</th>\n",
       "      <th>ST1000LM024 HN</th>\n",
       "      <td>0</td>\n",
       "      <td>1</td>\n",
       "      <td>2.800000</td>\n",
       "      <td>0.000000</td>\n",
       "    </tr>\n",
       "    <tr>\n",
       "      <th>Hitachi</th>\n",
       "      <th>Hitachi HDT725025VLA380</th>\n",
       "      <td>0</td>\n",
       "      <td>1</td>\n",
       "      <td>7.800000</td>\n",
       "      <td>0.000000</td>\n",
       "    </tr>\n",
       "    <tr>\n",
       "      <th>Western Digital</th>\n",
       "      <th>WDC WD800LB</th>\n",
       "      <td>0</td>\n",
       "      <td>1</td>\n",
       "      <td>10.300000</td>\n",
       "      <td>0.000000</td>\n",
       "    </tr>\n",
       "  </tbody>\n",
       "</table>\n",
       "<p>88 rows × 4 columns</p>\n",
       "</div>"
      ],
      "text/plain": [
       "                                         early_failures  total_drives  \\\n",
       "manufacturer    model                                                   \n",
       "Seagate         ST4000DM000                        1498         34901   \n",
       "                ST12000NM0007                      1104          1104   \n",
       "                ST8000NM0055                        383           442   \n",
       "                ST8000DM002                         276          9928   \n",
       "Hitachi         HGST HMS5C4040BLE640                197         10920   \n",
       "Toshiba         TOSHIBA MQ01ABF050                  112           249   \n",
       "Hitachi         HGST HMS5C4040ALE640                 59          7673   \n",
       "Seagate         ST500LM012 HN                        41           603   \n",
       "                ST4000DM001                          34            34   \n",
       "Western Digital WDC WD30EFRX                         34           814   \n",
       "Seagate         ST6000DX000                          29          1890   \n",
       "Western Digital WDC WD60EFRX                         29           465   \n",
       "Seagate         ST500LM030                           28            28   \n",
       "Hitachi         HGST HUH721212ALN604                 25            25   \n",
       "Toshiba         TOSHIBA MQ01ABF050M                  19            19   \n",
       "Seagate         ST10000NM0086                        14            14   \n",
       "                ST320LT007                           14            73   \n",
       "Hitachi         HGST HUH728080ALE600                 12            57   \n",
       "Toshiba         TOSHIBA MG07ACA14TA                  11            11   \n",
       "Western Digital WDC WD5000LPVX                        7           332   \n",
       "                WDC WD20EFRX                          6             6   \n",
       "Seagate         ST4000DM005                           5             5   \n",
       "                ST12000NM0117                         5             5   \n",
       "                ST4000DX002                           4             4   \n",
       "Hitachi         HGST HUH721212ALE600                  4             4   \n",
       "Seagate         ST8000DM004                           4             4   \n",
       "                ST9250315AS                           3            56   \n",
       "Hitachi         HGST HUS726040ALE610                  3             3   \n",
       "Western Digital WDC WD5000LPCX                        3            50   \n",
       "Seagate         ST8000DM005                           2             2   \n",
       "...                                                 ...           ...   \n",
       "Western Digital WDC WD5003ABYX                        0             1   \n",
       "Hitachi         Hitachi HDS5C3030ALA630               0          4540   \n",
       "Western Digital WDC WD800AAJB                         0             7   \n",
       "                WDC WD800AAJS                         0            14   \n",
       "                WDC WD800BB                           0             5   \n",
       "                WDC WD800JB                           0             4   \n",
       "                WDC WD800JD                           0             1   \n",
       "                WDC WD2500BPVT                        0             8   \n",
       "                WDC WD2500BEVT                        0             1   \n",
       "                WDC WD2500AAJS                        0             3   \n",
       "                WDC WD10EADS                          0           287   \n",
       "Seagate         ST3500320AS                           0             1   \n",
       "                ST33000651AS                          0             1   \n",
       "                ST3160318AS                           0            47   \n",
       "                ST3160316AS                           0            53   \n",
       "                ST31500541AS                          0           264   \n",
       "                ST31500341AS                          0             1   \n",
       "Western Digital WDC WD1000FYPS                        0             1   \n",
       "                WDC WD10EACS                          0            60   \n",
       "                WDC WD10EADX                          0             9   \n",
       "                WDC WD2500AAJB                        0             1   \n",
       "                WDC WD10EALS                          0             1   \n",
       "                WDC WD10EARS                          0             3   \n",
       "                WDC WD10EARX                          0             2   \n",
       "                WDC WD15EARS                          0             1   \n",
       "                WDC WD1600AAJB                        0             6   \n",
       "                WDC WD1600AAJS                        0           100   \n",
       "Seagate         ST1000LM024 HN                        0             1   \n",
       "Hitachi         Hitachi HDT725025VLA380               0             1   \n",
       "Western Digital WDC WD800LB                           0             1   \n",
       "\n",
       "                                         average_age_in_years  \\\n",
       "manufacturer    model                                           \n",
       "Seagate         ST4000DM000                          3.947474   \n",
       "                ST12000NM0007                        1.046830   \n",
       "                ST8000NM0055                         1.395249   \n",
       "                ST8000DM002                          3.018433   \n",
       "Hitachi         HGST HMS5C4040BLE640                 3.511181   \n",
       "Toshiba         TOSHIBA MQ01ABF050                   2.259839   \n",
       "Hitachi         HGST HMS5C4040ALE640                 3.842408   \n",
       "Seagate         ST500LM012 HN                        3.475456   \n",
       "                ST4000DM001                          0.244118   \n",
       "Western Digital WDC WD30EFRX                         3.471253   \n",
       "Seagate         ST6000DX000                          4.099101   \n",
       "Western Digital WDC WD60EFRX                         3.992258   \n",
       "Seagate         ST500LM030                           0.439286   \n",
       "Hitachi         HGST HUH721212ALN604                 0.244000   \n",
       "Toshiba         TOSHIBA MQ01ABF050M                  1.157895   \n",
       "Seagate         ST10000NM0086                        1.100000   \n",
       "                ST320LT007                           3.382192   \n",
       "Hitachi         HGST HUH728080ALE600                 3.401754   \n",
       "Toshiba         TOSHIBA MG07ACA14TA                  0.200000   \n",
       "Western Digital WDC WD5000LPVX                       4.187349   \n",
       "                WDC WD20EFRX                         0.816667   \n",
       "Seagate         ST4000DM005                          0.060000   \n",
       "                ST12000NM0117                        0.000000   \n",
       "                ST4000DX002                          0.850000   \n",
       "Hitachi         HGST HUH721212ALE600                 0.250000   \n",
       "Seagate         ST8000DM004                          0.250000   \n",
       "                ST9250315AS                          4.344643   \n",
       "Hitachi         HGST HUS726040ALE610                 1.766667   \n",
       "Western Digital WDC WD5000LPCX                       3.120000   \n",
       "Seagate         ST8000DM005                          0.450000   \n",
       "...                                                       ...   \n",
       "Western Digital WDC WD5003ABYX                       3.000000   \n",
       "Hitachi         Hitachi HDS5C3030ALA630              5.058877   \n",
       "Western Digital WDC WD800AAJB                        5.242857   \n",
       "                WDC WD800AAJS                        4.078571   \n",
       "                WDC WD800BB                          9.240000   \n",
       "                WDC WD800JB                          6.475000   \n",
       "                WDC WD800JD                          4.800000   \n",
       "                WDC WD2500BPVT                       4.612500   \n",
       "                WDC WD2500BEVT                       3.400000   \n",
       "                WDC WD2500AAJS                       4.700000   \n",
       "                WDC WD10EADS                         6.264808   \n",
       "Seagate         ST3500320AS                          4.900000   \n",
       "                ST33000651AS                         5.400000   \n",
       "                ST3160318AS                          5.878723   \n",
       "                ST3160316AS                          5.741509   \n",
       "                ST31500541AS                         5.986364   \n",
       "                ST31500341AS                         6.300000   \n",
       "Western Digital WDC WD1000FYPS                       3.600000   \n",
       "                WDC WD10EACS                         6.586667   \n",
       "                WDC WD10EADX                         3.177778   \n",
       "                WDC WD2500AAJB                       3.600000   \n",
       "                WDC WD10EALS                         3.500000   \n",
       "                WDC WD10EARS                         4.433333   \n",
       "                WDC WD10EARX                         2.950000   \n",
       "                WDC WD15EARS                         5.100000   \n",
       "                WDC WD1600AAJB                       4.366667   \n",
       "                WDC WD1600AAJS                       5.147000   \n",
       "Seagate         ST1000LM024 HN                       2.800000   \n",
       "Hitachi         Hitachi HDT725025VLA380              7.800000   \n",
       "Western Digital WDC WD800LB                         10.300000   \n",
       "\n",
       "                                         early_failure_rate_percent  \n",
       "manufacturer    model                                                \n",
       "Seagate         ST4000DM000                                4.292141  \n",
       "                ST12000NM0007                            100.000000  \n",
       "                ST8000NM0055                              86.651584  \n",
       "                ST8000DM002                                2.780016  \n",
       "Hitachi         HGST HMS5C4040BLE640                       1.804029  \n",
       "Toshiba         TOSHIBA MQ01ABF050                        44.979920  \n",
       "Hitachi         HGST HMS5C4040ALE640                       0.768930  \n",
       "Seagate         ST500LM012 HN                              6.799337  \n",
       "                ST4000DM001                              100.000000  \n",
       "Western Digital WDC WD30EFRX                               4.176904  \n",
       "Seagate         ST6000DX000                                1.534392  \n",
       "Western Digital WDC WD60EFRX                               6.236559  \n",
       "Seagate         ST500LM030                               100.000000  \n",
       "Hitachi         HGST HUH721212ALN604                     100.000000  \n",
       "Toshiba         TOSHIBA MQ01ABF050M                      100.000000  \n",
       "Seagate         ST10000NM0086                            100.000000  \n",
       "                ST320LT007                                19.178082  \n",
       "Hitachi         HGST HUH728080ALE600                      21.052632  \n",
       "Toshiba         TOSHIBA MG07ACA14TA                      100.000000  \n",
       "Western Digital WDC WD5000LPVX                             2.108434  \n",
       "                WDC WD20EFRX                             100.000000  \n",
       "Seagate         ST4000DM005                              100.000000  \n",
       "                ST12000NM0117                            100.000000  \n",
       "                ST4000DX002                              100.000000  \n",
       "Hitachi         HGST HUH721212ALE600                     100.000000  \n",
       "Seagate         ST8000DM004                              100.000000  \n",
       "                ST9250315AS                                5.357143  \n",
       "Hitachi         HGST HUS726040ALE610                     100.000000  \n",
       "Western Digital WDC WD5000LPCX                             6.000000  \n",
       "Seagate         ST8000DM005                              100.000000  \n",
       "...                                                             ...  \n",
       "Western Digital WDC WD5003ABYX                             0.000000  \n",
       "Hitachi         Hitachi HDS5C3030ALA630                    0.000000  \n",
       "Western Digital WDC WD800AAJB                              0.000000  \n",
       "                WDC WD800AAJS                              0.000000  \n",
       "                WDC WD800BB                                0.000000  \n",
       "                WDC WD800JB                                0.000000  \n",
       "                WDC WD800JD                                0.000000  \n",
       "                WDC WD2500BPVT                             0.000000  \n",
       "                WDC WD2500BEVT                             0.000000  \n",
       "                WDC WD2500AAJS                             0.000000  \n",
       "                WDC WD10EADS                               0.000000  \n",
       "Seagate         ST3500320AS                                0.000000  \n",
       "                ST33000651AS                               0.000000  \n",
       "                ST3160318AS                                0.000000  \n",
       "                ST3160316AS                                0.000000  \n",
       "                ST31500541AS                               0.000000  \n",
       "                ST31500341AS                               0.000000  \n",
       "Western Digital WDC WD1000FYPS                             0.000000  \n",
       "                WDC WD10EACS                               0.000000  \n",
       "                WDC WD10EADX                               0.000000  \n",
       "                WDC WD2500AAJB                             0.000000  \n",
       "                WDC WD10EALS                               0.000000  \n",
       "                WDC WD10EARS                               0.000000  \n",
       "                WDC WD10EARX                               0.000000  \n",
       "                WDC WD15EARS                               0.000000  \n",
       "                WDC WD1600AAJB                             0.000000  \n",
       "                WDC WD1600AAJS                             0.000000  \n",
       "Seagate         ST1000LM024 HN                             0.000000  \n",
       "Hitachi         Hitachi HDT725025VLA380                    0.000000  \n",
       "Western Digital WDC WD800LB                                0.000000  \n",
       "\n",
       "[88 rows x 4 columns]"
      ]
     },
     "execution_count": 46,
     "metadata": {},
     "output_type": "execute_result"
    }
   ],
   "source": [
    "# aggegrate by early failure, drive age, and add a total count\n",
    "agg_model = df.groupby(['manufacturer','model']).agg({'early_failure' : 'sum', 'model' : 'count', 'drive_age_in_years':'mean'})\n",
    "agg_model.rename(columns={'early_failure':'early_failures', 'model':'total_drives', 'drive_age_in_years':'average_age_in_years'}, inplace=True)\n",
    "\n",
    "# add an early failure rate column\n",
    "agg_model['early_failure_rate_percent'] = agg_model['early_failures'] / agg_model['total_drives'] * 100\n",
    "agg_model.sort_values('early_failures', ascending = False)"
   ]
  },
  {
   "cell_type": "code",
   "execution_count": 49,
   "metadata": {},
   "outputs": [
    {
     "data": {
      "text/plain": [
       "(Toshiba, TOSHIBA DT01ACA300)         1\n",
       "(Western Digital, WDC WD1600BPVT)     1\n",
       "(Seagate, ST4000DM000)                1\n",
       "(Seagate, ST9250315AS)                1\n",
       "(Hitachi, HGST HUH721212ALN604)       1\n",
       "(Seagate, ST3160318AS)                1\n",
       "(Western Digital, WDC WD3200BEKT)     1\n",
       "(Seagate, ST250LT007)                 1\n",
       "(Seagate, ST500LM030)                 1\n",
       "(Seagate, ST8000DM004)                1\n",
       "(Hitachi, Hitachi HDS723030BLE640)    1\n",
       "(Western Digital, WDC WD1000FYPS)     1\n",
       "(Western Digital, WDC WD800JB)        1\n",
       "(Hitachi, Hitachi HDS723020BLA642)    1\n",
       "(Western Digital, WDC WD800BB)        1\n",
       "(Seagate, ST8000DM002)                1\n",
       "(Hitachi, HGST HMS5C4040BLE640)       1\n",
       "(Western Digital, WDC WD800AAJS)      1\n",
       "(Western Digital, WDC WD40EFRX)       1\n",
       "(Western Digital, WDC WD800JD)        1\n",
       "(Hitachi, Hitachi HDS723030ALA640)    1\n",
       "(Toshiba, TOSHIBA MG07ACA14TA)        1\n",
       "(Seagate, ST8000NM0055)               1\n",
       "(Western Digital, WDC WD2500BPVT)     1\n",
       "(Hitachi, Hitachi HDS5C4040ALE630)    1\n",
       "(Western Digital, WDC WD3200AAJB)     1\n",
       "(Western Digital, WDC WD5002ABYS)     1\n",
       "(Western Digital, WDC WD1600AAJS)     1\n",
       "(Seagate, ST3500320AS)                1\n",
       "(Hitachi, HGST HDS724040ALE640)       1\n",
       "                                     ..\n",
       "(Western Digital, WDC WD3200LPVX)     1\n",
       "(Western Digital, WDC WD2500BEVT)     1\n",
       "(Seagate, ST4000DX002)                1\n",
       "(Hitachi, Hitachi HDS5C3030BLE630)    1\n",
       "(Western Digital, WDC WD2500AAJB)     1\n",
       "(Western Digital, WDC WD20EFRX)       1\n",
       "(Seagate, ST4000DM005)                1\n",
       "(Seagate, ST1000LM024 HN)             1\n",
       "(Toshiba, TOSHIBA MQ01ABF050)         1\n",
       "(Western Digital, WDC WD5000LPVX)     1\n",
       "(Seagate, ST6000DX000)                1\n",
       "(Hitachi, Hitachi HDS5C3030ALA630)    1\n",
       "(Seagate, ST33000651AS)               1\n",
       "(Western Digital, WDC WD3200BEKX)     1\n",
       "(Seagate, ST10000NM0086)              1\n",
       "(Seagate, ST31500341AS)               1\n",
       "(Western Digital, WDC WD10EADS)       1\n",
       "(Western Digital, WDC WD800LB)        1\n",
       "(Western Digital, WDC WD10EADX)       1\n",
       "(Western Digital, WDC WD3200AAKS)     1\n",
       "(Western Digital, WDC WD15EARS)       1\n",
       "(Western Digital, WDC WD10EARS)       1\n",
       "(Hitachi, HGST HUH721212ALE600)       1\n",
       "(Western Digital, WDC WD1600AAJB)     1\n",
       "(Western Digital, WDC WD5000BPKT)     1\n",
       "(Western Digital, WDC WD30EFRX)       1\n",
       "(Hitachi, Hitachi HDS724040ALE640)    1\n",
       "(Hitachi, HGST HUS726040ALE610)       1\n",
       "(Hitachi, HGST HMS5C4040ALE640)       1\n",
       "(Western Digital, WDC WD5003ABYX)     1\n",
       "Length: 88, dtype: int64"
      ]
     },
     "execution_count": 49,
     "metadata": {},
     "output_type": "execute_result"
    }
   ],
   "source": [
    "agg_model.index.value_counts()"
   ]
  },
  {
   "cell_type": "code",
   "execution_count": 46,
   "metadata": {},
   "outputs": [
    {
     "data": {
      "text/html": [
       "<div>\n",
       "<style scoped>\n",
       "    .dataframe tbody tr th:only-of-type {\n",
       "        vertical-align: middle;\n",
       "    }\n",
       "\n",
       "    .dataframe tbody tr th {\n",
       "        vertical-align: top;\n",
       "    }\n",
       "\n",
       "    .dataframe thead th {\n",
       "        text-align: right;\n",
       "    }\n",
       "</style>\n",
       "<table border=\"1\" class=\"dataframe\">\n",
       "  <thead>\n",
       "    <tr style=\"text-align: right;\">\n",
       "      <th></th>\n",
       "      <th>early_failures</th>\n",
       "      <th>total_drives</th>\n",
       "      <th>average_age_in_years</th>\n",
       "      <th>early_failure_rate_percent</th>\n",
       "    </tr>\n",
       "    <tr>\n",
       "      <th>model</th>\n",
       "      <th></th>\n",
       "      <th></th>\n",
       "      <th></th>\n",
       "      <th></th>\n",
       "    </tr>\n",
       "  </thead>\n",
       "  <tbody>\n",
       "    <tr>\n",
       "      <th>ST4000DM000</th>\n",
       "      <td>1498</td>\n",
       "      <td>34901</td>\n",
       "      <td>3.947474</td>\n",
       "      <td>4.292141</td>\n",
       "    </tr>\n",
       "    <tr>\n",
       "      <th>ST12000NM0007</th>\n",
       "      <td>1104</td>\n",
       "      <td>1104</td>\n",
       "      <td>1.046830</td>\n",
       "      <td>100.000000</td>\n",
       "    </tr>\n",
       "    <tr>\n",
       "      <th>ST8000NM0055</th>\n",
       "      <td>383</td>\n",
       "      <td>442</td>\n",
       "      <td>1.395249</td>\n",
       "      <td>86.651584</td>\n",
       "    </tr>\n",
       "    <tr>\n",
       "      <th>ST8000DM002</th>\n",
       "      <td>276</td>\n",
       "      <td>9928</td>\n",
       "      <td>3.018433</td>\n",
       "      <td>2.780016</td>\n",
       "    </tr>\n",
       "    <tr>\n",
       "      <th>HGST HMS5C4040BLE640</th>\n",
       "      <td>197</td>\n",
       "      <td>10920</td>\n",
       "      <td>3.511181</td>\n",
       "      <td>1.804029</td>\n",
       "    </tr>\n",
       "    <tr>\n",
       "      <th>TOSHIBA MQ01ABF050</th>\n",
       "      <td>112</td>\n",
       "      <td>249</td>\n",
       "      <td>2.259839</td>\n",
       "      <td>44.979920</td>\n",
       "    </tr>\n",
       "    <tr>\n",
       "      <th>HGST HMS5C4040ALE640</th>\n",
       "      <td>59</td>\n",
       "      <td>7673</td>\n",
       "      <td>3.842408</td>\n",
       "      <td>0.768930</td>\n",
       "    </tr>\n",
       "    <tr>\n",
       "      <th>ST500LM012 HN</th>\n",
       "      <td>41</td>\n",
       "      <td>603</td>\n",
       "      <td>3.475456</td>\n",
       "      <td>6.799337</td>\n",
       "    </tr>\n",
       "    <tr>\n",
       "      <th>ST4000DM001</th>\n",
       "      <td>34</td>\n",
       "      <td>34</td>\n",
       "      <td>0.244118</td>\n",
       "      <td>100.000000</td>\n",
       "    </tr>\n",
       "    <tr>\n",
       "      <th>WDC WD30EFRX</th>\n",
       "      <td>34</td>\n",
       "      <td>814</td>\n",
       "      <td>3.471253</td>\n",
       "      <td>4.176904</td>\n",
       "    </tr>\n",
       "    <tr>\n",
       "      <th>ST6000DX000</th>\n",
       "      <td>29</td>\n",
       "      <td>1890</td>\n",
       "      <td>4.099101</td>\n",
       "      <td>1.534392</td>\n",
       "    </tr>\n",
       "    <tr>\n",
       "      <th>WDC WD60EFRX</th>\n",
       "      <td>29</td>\n",
       "      <td>465</td>\n",
       "      <td>3.992258</td>\n",
       "      <td>6.236559</td>\n",
       "    </tr>\n",
       "    <tr>\n",
       "      <th>ST500LM030</th>\n",
       "      <td>28</td>\n",
       "      <td>28</td>\n",
       "      <td>0.439286</td>\n",
       "      <td>100.000000</td>\n",
       "    </tr>\n",
       "    <tr>\n",
       "      <th>HGST HUH721212ALN604</th>\n",
       "      <td>25</td>\n",
       "      <td>25</td>\n",
       "      <td>0.244000</td>\n",
       "      <td>100.000000</td>\n",
       "    </tr>\n",
       "    <tr>\n",
       "      <th>TOSHIBA MQ01ABF050M</th>\n",
       "      <td>19</td>\n",
       "      <td>19</td>\n",
       "      <td>1.157895</td>\n",
       "      <td>100.000000</td>\n",
       "    </tr>\n",
       "    <tr>\n",
       "      <th>ST10000NM0086</th>\n",
       "      <td>14</td>\n",
       "      <td>14</td>\n",
       "      <td>1.100000</td>\n",
       "      <td>100.000000</td>\n",
       "    </tr>\n",
       "    <tr>\n",
       "      <th>ST320LT007</th>\n",
       "      <td>14</td>\n",
       "      <td>73</td>\n",
       "      <td>3.382192</td>\n",
       "      <td>19.178082</td>\n",
       "    </tr>\n",
       "    <tr>\n",
       "      <th>HGST HUH728080ALE600</th>\n",
       "      <td>12</td>\n",
       "      <td>57</td>\n",
       "      <td>3.401754</td>\n",
       "      <td>21.052632</td>\n",
       "    </tr>\n",
       "    <tr>\n",
       "      <th>TOSHIBA MG07ACA14TA</th>\n",
       "      <td>11</td>\n",
       "      <td>11</td>\n",
       "      <td>0.200000</td>\n",
       "      <td>100.000000</td>\n",
       "    </tr>\n",
       "    <tr>\n",
       "      <th>WDC WD5000LPVX</th>\n",
       "      <td>7</td>\n",
       "      <td>332</td>\n",
       "      <td>4.187349</td>\n",
       "      <td>2.108434</td>\n",
       "    </tr>\n",
       "    <tr>\n",
       "      <th>WDC WD20EFRX</th>\n",
       "      <td>6</td>\n",
       "      <td>6</td>\n",
       "      <td>0.816667</td>\n",
       "      <td>100.000000</td>\n",
       "    </tr>\n",
       "    <tr>\n",
       "      <th>ST4000DM005</th>\n",
       "      <td>5</td>\n",
       "      <td>5</td>\n",
       "      <td>0.060000</td>\n",
       "      <td>100.000000</td>\n",
       "    </tr>\n",
       "    <tr>\n",
       "      <th>ST12000NM0117</th>\n",
       "      <td>5</td>\n",
       "      <td>5</td>\n",
       "      <td>0.000000</td>\n",
       "      <td>100.000000</td>\n",
       "    </tr>\n",
       "    <tr>\n",
       "      <th>ST4000DX002</th>\n",
       "      <td>4</td>\n",
       "      <td>4</td>\n",
       "      <td>0.850000</td>\n",
       "      <td>100.000000</td>\n",
       "    </tr>\n",
       "    <tr>\n",
       "      <th>HGST HUH721212ALE600</th>\n",
       "      <td>4</td>\n",
       "      <td>4</td>\n",
       "      <td>0.250000</td>\n",
       "      <td>100.000000</td>\n",
       "    </tr>\n",
       "    <tr>\n",
       "      <th>ST8000DM004</th>\n",
       "      <td>4</td>\n",
       "      <td>4</td>\n",
       "      <td>0.250000</td>\n",
       "      <td>100.000000</td>\n",
       "    </tr>\n",
       "    <tr>\n",
       "      <th>ST9250315AS</th>\n",
       "      <td>3</td>\n",
       "      <td>56</td>\n",
       "      <td>4.344643</td>\n",
       "      <td>5.357143</td>\n",
       "    </tr>\n",
       "    <tr>\n",
       "      <th>HGST HUS726040ALE610</th>\n",
       "      <td>3</td>\n",
       "      <td>3</td>\n",
       "      <td>1.766667</td>\n",
       "      <td>100.000000</td>\n",
       "    </tr>\n",
       "    <tr>\n",
       "      <th>WDC WD5000LPCX</th>\n",
       "      <td>3</td>\n",
       "      <td>50</td>\n",
       "      <td>3.120000</td>\n",
       "      <td>6.000000</td>\n",
       "    </tr>\n",
       "    <tr>\n",
       "      <th>ST8000DM005</th>\n",
       "      <td>2</td>\n",
       "      <td>2</td>\n",
       "      <td>0.450000</td>\n",
       "      <td>100.000000</td>\n",
       "    </tr>\n",
       "    <tr>\n",
       "      <th>...</th>\n",
       "      <td>...</td>\n",
       "      <td>...</td>\n",
       "      <td>...</td>\n",
       "      <td>...</td>\n",
       "    </tr>\n",
       "    <tr>\n",
       "      <th>WDC WD5003ABYX</th>\n",
       "      <td>0</td>\n",
       "      <td>1</td>\n",
       "      <td>3.000000</td>\n",
       "      <td>0.000000</td>\n",
       "    </tr>\n",
       "    <tr>\n",
       "      <th>Hitachi HDS5C3030ALA630</th>\n",
       "      <td>0</td>\n",
       "      <td>4540</td>\n",
       "      <td>5.058877</td>\n",
       "      <td>0.000000</td>\n",
       "    </tr>\n",
       "    <tr>\n",
       "      <th>WDC WD800AAJB</th>\n",
       "      <td>0</td>\n",
       "      <td>7</td>\n",
       "      <td>5.242857</td>\n",
       "      <td>0.000000</td>\n",
       "    </tr>\n",
       "    <tr>\n",
       "      <th>WDC WD800AAJS</th>\n",
       "      <td>0</td>\n",
       "      <td>14</td>\n",
       "      <td>4.078571</td>\n",
       "      <td>0.000000</td>\n",
       "    </tr>\n",
       "    <tr>\n",
       "      <th>WDC WD800BB</th>\n",
       "      <td>0</td>\n",
       "      <td>5</td>\n",
       "      <td>9.240000</td>\n",
       "      <td>0.000000</td>\n",
       "    </tr>\n",
       "    <tr>\n",
       "      <th>WDC WD800JB</th>\n",
       "      <td>0</td>\n",
       "      <td>4</td>\n",
       "      <td>6.475000</td>\n",
       "      <td>0.000000</td>\n",
       "    </tr>\n",
       "    <tr>\n",
       "      <th>WDC WD800JD</th>\n",
       "      <td>0</td>\n",
       "      <td>1</td>\n",
       "      <td>4.800000</td>\n",
       "      <td>0.000000</td>\n",
       "    </tr>\n",
       "    <tr>\n",
       "      <th>WDC WD2500BPVT</th>\n",
       "      <td>0</td>\n",
       "      <td>8</td>\n",
       "      <td>4.612500</td>\n",
       "      <td>0.000000</td>\n",
       "    </tr>\n",
       "    <tr>\n",
       "      <th>WDC WD2500BEVT</th>\n",
       "      <td>0</td>\n",
       "      <td>1</td>\n",
       "      <td>3.400000</td>\n",
       "      <td>0.000000</td>\n",
       "    </tr>\n",
       "    <tr>\n",
       "      <th>WDC WD2500AAJS</th>\n",
       "      <td>0</td>\n",
       "      <td>3</td>\n",
       "      <td>4.700000</td>\n",
       "      <td>0.000000</td>\n",
       "    </tr>\n",
       "    <tr>\n",
       "      <th>WDC WD10EADS</th>\n",
       "      <td>0</td>\n",
       "      <td>287</td>\n",
       "      <td>6.264808</td>\n",
       "      <td>0.000000</td>\n",
       "    </tr>\n",
       "    <tr>\n",
       "      <th>ST3500320AS</th>\n",
       "      <td>0</td>\n",
       "      <td>1</td>\n",
       "      <td>4.900000</td>\n",
       "      <td>0.000000</td>\n",
       "    </tr>\n",
       "    <tr>\n",
       "      <th>ST33000651AS</th>\n",
       "      <td>0</td>\n",
       "      <td>1</td>\n",
       "      <td>5.400000</td>\n",
       "      <td>0.000000</td>\n",
       "    </tr>\n",
       "    <tr>\n",
       "      <th>ST3160318AS</th>\n",
       "      <td>0</td>\n",
       "      <td>47</td>\n",
       "      <td>5.878723</td>\n",
       "      <td>0.000000</td>\n",
       "    </tr>\n",
       "    <tr>\n",
       "      <th>ST3160316AS</th>\n",
       "      <td>0</td>\n",
       "      <td>53</td>\n",
       "      <td>5.741509</td>\n",
       "      <td>0.000000</td>\n",
       "    </tr>\n",
       "    <tr>\n",
       "      <th>ST31500541AS</th>\n",
       "      <td>0</td>\n",
       "      <td>264</td>\n",
       "      <td>5.986364</td>\n",
       "      <td>0.000000</td>\n",
       "    </tr>\n",
       "    <tr>\n",
       "      <th>ST31500341AS</th>\n",
       "      <td>0</td>\n",
       "      <td>1</td>\n",
       "      <td>6.300000</td>\n",
       "      <td>0.000000</td>\n",
       "    </tr>\n",
       "    <tr>\n",
       "      <th>WDC WD1000FYPS</th>\n",
       "      <td>0</td>\n",
       "      <td>1</td>\n",
       "      <td>3.600000</td>\n",
       "      <td>0.000000</td>\n",
       "    </tr>\n",
       "    <tr>\n",
       "      <th>WDC WD10EACS</th>\n",
       "      <td>0</td>\n",
       "      <td>60</td>\n",
       "      <td>6.586667</td>\n",
       "      <td>0.000000</td>\n",
       "    </tr>\n",
       "    <tr>\n",
       "      <th>WDC WD10EADX</th>\n",
       "      <td>0</td>\n",
       "      <td>9</td>\n",
       "      <td>3.177778</td>\n",
       "      <td>0.000000</td>\n",
       "    </tr>\n",
       "    <tr>\n",
       "      <th>WDC WD2500AAJB</th>\n",
       "      <td>0</td>\n",
       "      <td>1</td>\n",
       "      <td>3.600000</td>\n",
       "      <td>0.000000</td>\n",
       "    </tr>\n",
       "    <tr>\n",
       "      <th>WDC WD10EALS</th>\n",
       "      <td>0</td>\n",
       "      <td>1</td>\n",
       "      <td>3.500000</td>\n",
       "      <td>0.000000</td>\n",
       "    </tr>\n",
       "    <tr>\n",
       "      <th>WDC WD10EARS</th>\n",
       "      <td>0</td>\n",
       "      <td>3</td>\n",
       "      <td>4.433333</td>\n",
       "      <td>0.000000</td>\n",
       "    </tr>\n",
       "    <tr>\n",
       "      <th>WDC WD10EARX</th>\n",
       "      <td>0</td>\n",
       "      <td>2</td>\n",
       "      <td>2.950000</td>\n",
       "      <td>0.000000</td>\n",
       "    </tr>\n",
       "    <tr>\n",
       "      <th>WDC WD15EARS</th>\n",
       "      <td>0</td>\n",
       "      <td>1</td>\n",
       "      <td>5.100000</td>\n",
       "      <td>0.000000</td>\n",
       "    </tr>\n",
       "    <tr>\n",
       "      <th>WDC WD1600AAJB</th>\n",
       "      <td>0</td>\n",
       "      <td>6</td>\n",
       "      <td>4.366667</td>\n",
       "      <td>0.000000</td>\n",
       "    </tr>\n",
       "    <tr>\n",
       "      <th>WDC WD1600AAJS</th>\n",
       "      <td>0</td>\n",
       "      <td>100</td>\n",
       "      <td>5.147000</td>\n",
       "      <td>0.000000</td>\n",
       "    </tr>\n",
       "    <tr>\n",
       "      <th>ST1000LM024 HN</th>\n",
       "      <td>0</td>\n",
       "      <td>1</td>\n",
       "      <td>2.800000</td>\n",
       "      <td>0.000000</td>\n",
       "    </tr>\n",
       "    <tr>\n",
       "      <th>Hitachi HDT725025VLA380</th>\n",
       "      <td>0</td>\n",
       "      <td>1</td>\n",
       "      <td>7.800000</td>\n",
       "      <td>0.000000</td>\n",
       "    </tr>\n",
       "    <tr>\n",
       "      <th>WDC WD800LB</th>\n",
       "      <td>0</td>\n",
       "      <td>1</td>\n",
       "      <td>10.300000</td>\n",
       "      <td>0.000000</td>\n",
       "    </tr>\n",
       "  </tbody>\n",
       "</table>\n",
       "<p>88 rows × 4 columns</p>\n",
       "</div>"
      ],
      "text/plain": [
       "                         early_failures  total_drives  average_age_in_years  \\\n",
       "model                                                                         \n",
       "ST4000DM000                        1498         34901              3.947474   \n",
       "ST12000NM0007                      1104          1104              1.046830   \n",
       "ST8000NM0055                        383           442              1.395249   \n",
       "ST8000DM002                         276          9928              3.018433   \n",
       "HGST HMS5C4040BLE640                197         10920              3.511181   \n",
       "TOSHIBA MQ01ABF050                  112           249              2.259839   \n",
       "HGST HMS5C4040ALE640                 59          7673              3.842408   \n",
       "ST500LM012 HN                        41           603              3.475456   \n",
       "ST4000DM001                          34            34              0.244118   \n",
       "WDC WD30EFRX                         34           814              3.471253   \n",
       "ST6000DX000                          29          1890              4.099101   \n",
       "WDC WD60EFRX                         29           465              3.992258   \n",
       "ST500LM030                           28            28              0.439286   \n",
       "HGST HUH721212ALN604                 25            25              0.244000   \n",
       "TOSHIBA MQ01ABF050M                  19            19              1.157895   \n",
       "ST10000NM0086                        14            14              1.100000   \n",
       "ST320LT007                           14            73              3.382192   \n",
       "HGST HUH728080ALE600                 12            57              3.401754   \n",
       "TOSHIBA MG07ACA14TA                  11            11              0.200000   \n",
       "WDC WD5000LPVX                        7           332              4.187349   \n",
       "WDC WD20EFRX                          6             6              0.816667   \n",
       "ST4000DM005                           5             5              0.060000   \n",
       "ST12000NM0117                         5             5              0.000000   \n",
       "ST4000DX002                           4             4              0.850000   \n",
       "HGST HUH721212ALE600                  4             4              0.250000   \n",
       "ST8000DM004                           4             4              0.250000   \n",
       "ST9250315AS                           3            56              4.344643   \n",
       "HGST HUS726040ALE610                  3             3              1.766667   \n",
       "WDC WD5000LPCX                        3            50              3.120000   \n",
       "ST8000DM005                           2             2              0.450000   \n",
       "...                                 ...           ...                   ...   \n",
       "WDC WD5003ABYX                        0             1              3.000000   \n",
       "Hitachi HDS5C3030ALA630               0          4540              5.058877   \n",
       "WDC WD800AAJB                         0             7              5.242857   \n",
       "WDC WD800AAJS                         0            14              4.078571   \n",
       "WDC WD800BB                           0             5              9.240000   \n",
       "WDC WD800JB                           0             4              6.475000   \n",
       "WDC WD800JD                           0             1              4.800000   \n",
       "WDC WD2500BPVT                        0             8              4.612500   \n",
       "WDC WD2500BEVT                        0             1              3.400000   \n",
       "WDC WD2500AAJS                        0             3              4.700000   \n",
       "WDC WD10EADS                          0           287              6.264808   \n",
       "ST3500320AS                           0             1              4.900000   \n",
       "ST33000651AS                          0             1              5.400000   \n",
       "ST3160318AS                           0            47              5.878723   \n",
       "ST3160316AS                           0            53              5.741509   \n",
       "ST31500541AS                          0           264              5.986364   \n",
       "ST31500341AS                          0             1              6.300000   \n",
       "WDC WD1000FYPS                        0             1              3.600000   \n",
       "WDC WD10EACS                          0            60              6.586667   \n",
       "WDC WD10EADX                          0             9              3.177778   \n",
       "WDC WD2500AAJB                        0             1              3.600000   \n",
       "WDC WD10EALS                          0             1              3.500000   \n",
       "WDC WD10EARS                          0             3              4.433333   \n",
       "WDC WD10EARX                          0             2              2.950000   \n",
       "WDC WD15EARS                          0             1              5.100000   \n",
       "WDC WD1600AAJB                        0             6              4.366667   \n",
       "WDC WD1600AAJS                        0           100              5.147000   \n",
       "ST1000LM024 HN                        0             1              2.800000   \n",
       "Hitachi HDT725025VLA380               0             1              7.800000   \n",
       "WDC WD800LB                           0             1             10.300000   \n",
       "\n",
       "                         early_failure_rate_percent  \n",
       "model                                                \n",
       "ST4000DM000                                4.292141  \n",
       "ST12000NM0007                            100.000000  \n",
       "ST8000NM0055                              86.651584  \n",
       "ST8000DM002                                2.780016  \n",
       "HGST HMS5C4040BLE640                       1.804029  \n",
       "TOSHIBA MQ01ABF050                        44.979920  \n",
       "HGST HMS5C4040ALE640                       0.768930  \n",
       "ST500LM012 HN                              6.799337  \n",
       "ST4000DM001                              100.000000  \n",
       "WDC WD30EFRX                               4.176904  \n",
       "ST6000DX000                                1.534392  \n",
       "WDC WD60EFRX                               6.236559  \n",
       "ST500LM030                               100.000000  \n",
       "HGST HUH721212ALN604                     100.000000  \n",
       "TOSHIBA MQ01ABF050M                      100.000000  \n",
       "ST10000NM0086                            100.000000  \n",
       "ST320LT007                                19.178082  \n",
       "HGST HUH728080ALE600                      21.052632  \n",
       "TOSHIBA MG07ACA14TA                      100.000000  \n",
       "WDC WD5000LPVX                             2.108434  \n",
       "WDC WD20EFRX                             100.000000  \n",
       "ST4000DM005                              100.000000  \n",
       "ST12000NM0117                            100.000000  \n",
       "ST4000DX002                              100.000000  \n",
       "HGST HUH721212ALE600                     100.000000  \n",
       "ST8000DM004                              100.000000  \n",
       "ST9250315AS                                5.357143  \n",
       "HGST HUS726040ALE610                     100.000000  \n",
       "WDC WD5000LPCX                             6.000000  \n",
       "ST8000DM005                              100.000000  \n",
       "...                                             ...  \n",
       "WDC WD5003ABYX                             0.000000  \n",
       "Hitachi HDS5C3030ALA630                    0.000000  \n",
       "WDC WD800AAJB                              0.000000  \n",
       "WDC WD800AAJS                              0.000000  \n",
       "WDC WD800BB                                0.000000  \n",
       "WDC WD800JB                                0.000000  \n",
       "WDC WD800JD                                0.000000  \n",
       "WDC WD2500BPVT                             0.000000  \n",
       "WDC WD2500BEVT                             0.000000  \n",
       "WDC WD2500AAJS                             0.000000  \n",
       "WDC WD10EADS                               0.000000  \n",
       "ST3500320AS                                0.000000  \n",
       "ST33000651AS                               0.000000  \n",
       "ST3160318AS                                0.000000  \n",
       "ST3160316AS                                0.000000  \n",
       "ST31500541AS                               0.000000  \n",
       "ST31500341AS                               0.000000  \n",
       "WDC WD1000FYPS                             0.000000  \n",
       "WDC WD10EACS                               0.000000  \n",
       "WDC WD10EADX                               0.000000  \n",
       "WDC WD2500AAJB                             0.000000  \n",
       "WDC WD10EALS                               0.000000  \n",
       "WDC WD10EARS                               0.000000  \n",
       "WDC WD10EARX                               0.000000  \n",
       "WDC WD15EARS                               0.000000  \n",
       "WDC WD1600AAJB                             0.000000  \n",
       "WDC WD1600AAJS                             0.000000  \n",
       "ST1000LM024 HN                             0.000000  \n",
       "Hitachi HDT725025VLA380                    0.000000  \n",
       "WDC WD800LB                                0.000000  \n",
       "\n",
       "[88 rows x 4 columns]"
      ]
     },
     "execution_count": 46,
     "metadata": {},
     "output_type": "execute_result"
    }
   ],
   "source": [
    "# aggegrate by early failure, drive age, and add a total count\n",
    "agg_model = df.groupby(['model']).agg({'early_failure' : 'sum', 'model' : 'count', 'drive_age_in_years':'mean'})\n",
    "agg_model.rename(columns={'early_failure':'early_failures', 'model':'total_drives', 'drive_age_in_years':'average_age_in_years'}, inplace=True)\n",
    "\n",
    "# add an early failure rate column\n",
    "agg_model['early_failure_rate_percent'] = agg_model['early_failures'] / agg_model['total_drives'] * 100\n",
    "agg_model.sort_values('early_failures', ascending = False)"
   ]
  },
  {
   "cell_type": "markdown",
   "metadata": {},
   "source": [
    "> When aggregating by model number, we see wide variance in hard drive age and early failure rates. "
   ]
  },
  {
   "cell_type": "markdown",
   "metadata": {},
   "source": [
    "#### Which SMART attributes correlate most strongly with early failure?"
   ]
  },
  {
   "cell_type": "markdown",
   "metadata": {},
   "source": [
    "The five SMART stats being presented count the occurrence of different types of errors that can occur in hard drives. For each type a count of above zero indicates that a hard drive should be replaced quickly due to a risk of failure."
   ]
  },
  {
   "cell_type": "code",
   "execution_count": 47,
   "metadata": {},
   "outputs": [
    {
     "data": {
      "text/plain": [
       "Index(['reallocated_sectors_count', 'reported_uncorrectable_errors',\n",
       "       'command_timeout', 'current_pending_sector_count',\n",
       "       'uncorrectable_sector_count'],\n",
       "      dtype='object')"
      ]
     },
     "execution_count": 47,
     "metadata": {},
     "output_type": "execute_result"
    }
   ],
   "source": [
    "smart_stats_5 = df.columns[6:11]\n",
    "smart_stats_5"
   ]
  },
  {
   "cell_type": "code",
   "execution_count": 48,
   "metadata": {},
   "outputs": [
    {
     "data": {
      "image/png": "[encoded data removed]",
      "text/plain": [
       "<Figure size 432x288 with 1 Axes>"
      ]
     },
     "metadata": {
      "needs_background": "light"
     },
     "output_type": "display_data"
    },
    {
     "data": {
      "image/png": "[encoded data removed]",
      "text/plain": [
       "<Figure size 432x288 with 1 Axes>"
      ]
     },
     "metadata": {
      "needs_background": "light"
     },
     "output_type": "display_data"
    },
    {
     "data": {
      "image/png": "[encoded data removed]",
      "text/plain": [
       "<Figure size 432x288 with 1 Axes>"
      ]
     },
     "metadata": {
      "needs_background": "light"
     },
     "output_type": "display_data"
    },
    {
     "data": {
      "image/png": "[encoded data removed]",
      "text/plain": [
       "<Figure size 432x288 with 1 Axes>"
      ]
     },
     "metadata": {
      "needs_background": "light"
     },
     "output_type": "display_data"
    },
    {
     "data": {
      "image/png": "[encoded data removed]",
      "text/plain": [
       "<Figure size 432x288 with 1 Axes>"
      ]
     },
     "metadata": {
      "needs_background": "light"
     },
     "output_type": "display_data"
    }
   ],
   "source": [
    "for stat in smart_stats_5:\n",
    "    sns.barplot(df.early_failure,df[stat])\n",
    "    plt.title(\"Is {} \\n related to when a hard drive fails early?\".format(stat))\n",
    "    plt.xticks([0,1],[\"no\",\"yes\"])\n",
    "    plt.show()"
   ]
  },
  {
   "cell_type": "markdown",
   "metadata": {},
   "source": [
    "> Because these errors occur far more frequently in early failures than in non-early failures, all of these SMART seem to be a good indicator for early failures. "
   ]
  },
  {
   "cell_type": "markdown",
   "metadata": {},
   "source": [
    "#### Which manufacturer produces the most early failures?"
   ]
  },
  {
   "cell_type": "code",
   "execution_count": 49,
   "metadata": {},
   "outputs": [
    {
     "data": {
      "text/html": [
       "<div>\n",
       "<style scoped>\n",
       "    .dataframe tbody tr th:only-of-type {\n",
       "        vertical-align: middle;\n",
       "    }\n",
       "\n",
       "    .dataframe tbody tr th {\n",
       "        vertical-align: top;\n",
       "    }\n",
       "\n",
       "    .dataframe thead th {\n",
       "        text-align: right;\n",
       "    }\n",
       "</style>\n",
       "<table border=\"1\" class=\"dataframe\">\n",
       "  <thead>\n",
       "    <tr style=\"text-align: right;\">\n",
       "      <th>early_failure</th>\n",
       "      <th>0</th>\n",
       "      <th>1</th>\n",
       "    </tr>\n",
       "    <tr>\n",
       "      <th>manufacturer</th>\n",
       "      <th></th>\n",
       "      <th></th>\n",
       "    </tr>\n",
       "  </thead>\n",
       "  <tbody>\n",
       "    <tr>\n",
       "      <th>Hitachi</th>\n",
       "      <td>31138</td>\n",
       "      <td>305</td>\n",
       "    </tr>\n",
       "    <tr>\n",
       "      <th>Seagate</th>\n",
       "      <td>46247</td>\n",
       "      <td>3451</td>\n",
       "    </tr>\n",
       "    <tr>\n",
       "      <th>Toshiba</th>\n",
       "      <td>374</td>\n",
       "      <td>146</td>\n",
       "    </tr>\n",
       "    <tr>\n",
       "      <th>Western Digital</th>\n",
       "      <td>2195</td>\n",
       "      <td>84</td>\n",
       "    </tr>\n",
       "  </tbody>\n",
       "</table>\n",
       "</div>"
      ],
      "text/plain": [
       "early_failure        0     1\n",
       "manufacturer                \n",
       "Hitachi          31138   305\n",
       "Seagate          46247  3451\n",
       "Toshiba            374   146\n",
       "Western Digital   2195    84"
      ]
     },
     "execution_count": 49,
     "metadata": {},
     "output_type": "execute_result"
    }
   ],
   "source": [
    "pd.crosstab(df.manufacturer, df.early_failure)"
   ]
  },
  {
   "cell_type": "code",
   "execution_count": 50,
   "metadata": {},
   "outputs": [
    {
     "data": {
      "image/png": "[encoded data removed]",
      "text/plain": [
       "<Figure size 432x288 with 1 Axes>"
      ]
     },
     "metadata": {
      "needs_background": "light"
     },
     "output_type": "display_data"
    }
   ],
   "source": [
    "sns.barplot(df.manufacturer,df.early_failure)\n",
    "plt.show()"
   ]
  },
  {
   "cell_type": "markdown",
   "metadata": {},
   "source": [
    "> Of the four manufacturers being analyzed, Toshiba produces significantly more early failures."
   ]
  },
  {
   "cell_type": "markdown",
   "metadata": {},
   "source": [
    "#### Does drive capacity size correlate with early failure rates? "
   ]
  },
  {
   "cell_type": "code",
   "execution_count": 51,
   "metadata": {},
   "outputs": [
    {
     "data": {
      "image/png": "[encoded data removed]",
      "text/plain": [
       "<Figure size 720x432 with 1 Axes>"
      ]
     },
     "metadata": {
      "needs_background": "light"
     },
     "output_type": "display_data"
    }
   ],
   "source": [
    "# sns.set(rc={'figure.figsize':(10,6)})\n",
    "plt.figure(figsize=(10,6))\n",
    "sns.barplot(df.capacity_terabytes,df.early_failure)\n",
    "plt.show()"
   ]
  },
  {
   "cell_type": "markdown",
   "metadata": {},
   "source": [
    "> Early failure rate dramatically increases in drives that have a 10 - 14 terabytes capacity."
   ]
  },
  {
   "cell_type": "markdown",
   "metadata": {},
   "source": [
    "#### How do SMART stat values compare in early failed drives?"
   ]
  },
  {
   "cell_type": "code",
   "execution_count": 52,
   "metadata": {},
   "outputs": [
    {
     "data": {
      "text/plain": [
       "Index(['reallocated_sectors_count', 'reported_uncorrectable_errors',\n",
       "       'command_timeout', 'current_pending_sector_count',\n",
       "       'uncorrectable_sector_count'],\n",
       "      dtype='object')"
      ]
     },
     "execution_count": 52,
     "metadata": {},
     "output_type": "execute_result"
    }
   ],
   "source": [
    "smart_stats_5"
   ]
  },
  {
   "cell_type": "markdown",
   "metadata": {},
   "source": [
    "The five SMART stats utilized in this analysis are all counters:\n",
    "- reallocated_sectors_count: counts the sectors that have been found and revamped\n",
    "- reported_uncorrectable_errors: counts the errors that couldnt be recovered using hardware\n",
    "- command_timeout: counts the aborted operations due to timeout\n",
    "- current_pending_sector_count: counts the number of unstable sectors\n",
    "- uncorrectable_sector_count: counts the uncorrectable errors when reading/writing sector"
   ]
  },
  {
   "cell_type": "code",
   "execution_count": 53,
   "metadata": {},
   "outputs": [
    {
     "data": {
      "text/html": [
       "<div>\n",
       "<style scoped>\n",
       "    .dataframe tbody tr th:only-of-type {\n",
       "        vertical-align: middle;\n",
       "    }\n",
       "\n",
       "    .dataframe tbody tr th {\n",
       "        vertical-align: top;\n",
       "    }\n",
       "\n",
       "    .dataframe thead th {\n",
       "        text-align: right;\n",
       "    }\n",
       "</style>\n",
       "<table border=\"1\" class=\"dataframe\">\n",
       "  <thead>\n",
       "    <tr style=\"text-align: right;\">\n",
       "      <th></th>\n",
       "      <th>reallocated_sectors_count</th>\n",
       "      <th>reported_uncorrectable_errors</th>\n",
       "      <th>command_timeout</th>\n",
       "      <th>current_pending_sector_count</th>\n",
       "      <th>uncorrectable_sector_count</th>\n",
       "    </tr>\n",
       "    <tr>\n",
       "      <th>early_failure</th>\n",
       "      <th></th>\n",
       "      <th></th>\n",
       "      <th></th>\n",
       "      <th></th>\n",
       "      <th></th>\n",
       "    </tr>\n",
       "  </thead>\n",
       "  <tbody>\n",
       "    <tr>\n",
       "      <th>0</th>\n",
       "      <td>1508120.0</td>\n",
       "      <td>19489.0</td>\n",
       "      <td>1.771718e+13</td>\n",
       "      <td>494078.0</td>\n",
       "      <td>490643.0</td>\n",
       "    </tr>\n",
       "    <tr>\n",
       "      <th>1</th>\n",
       "      <td>7587344.0</td>\n",
       "      <td>434002.0</td>\n",
       "      <td>2.860500e+12</td>\n",
       "      <td>504772.0</td>\n",
       "      <td>453491.0</td>\n",
       "    </tr>\n",
       "  </tbody>\n",
       "</table>\n",
       "</div>"
      ],
      "text/plain": [
       "               reallocated_sectors_count  reported_uncorrectable_errors  \\\n",
       "early_failure                                                             \n",
       "0                              1508120.0                        19489.0   \n",
       "1                              7587344.0                       434002.0   \n",
       "\n",
       "               command_timeout  current_pending_sector_count  \\\n",
       "early_failure                                                  \n",
       "0                 1.771718e+13                      494078.0   \n",
       "1                 2.860500e+12                      504772.0   \n",
       "\n",
       "               uncorrectable_sector_count  \n",
       "early_failure                              \n",
       "0                                490643.0  \n",
       "1                                453491.0  "
      ]
     },
     "execution_count": 53,
     "metadata": {},
     "output_type": "execute_result"
    }
   ],
   "source": [
    "df.groupby('early_failure').sum()[smart_stats_5]"
   ]
  },
  {
   "cell_type": "markdown",
   "metadata": {},
   "source": [
    "When any of these SMART stats are anything other than zero, this is a bad sign for the hard drive, regardless of the counter. Therefore, the `explore.make_binary_values` function will look at these columns, and if any contain a value greater than zero, it is replaced with a boolean True or False. This simplies the columns visuals, and will also make it simplier to feed into our model. "
   ]
  },
  {
   "cell_type": "code",
   "execution_count": 54,
   "metadata": {},
   "outputs": [],
   "source": [
    "# Make features binary\n",
    "df = explore.make_binary_values(df)"
   ]
  },
  {
   "cell_type": "code",
   "execution_count": 55,
   "metadata": {},
   "outputs": [
    {
     "data": {
      "image/png": "[encoded data removed]",
      "text/plain": [
       "<Figure size 432x288 with 1 Axes>"
      ]
     },
     "metadata": {
      "needs_background": "light"
     },
     "output_type": "display_data"
    }
   ],
   "source": [
    "df.groupby('early_failure').sum()[smart_stats_5].T.plot.barh()\n",
    "plt.show()"
   ]
  },
  {
   "cell_type": "markdown",
   "metadata": {},
   "source": [
    ">Even though the non-early-failure hard drives have more SMART stats triggered in each column, it must be noted that the only 4.7% of all hard drives are early failures. "
   ]
  },
  {
   "cell_type": "markdown",
   "metadata": {},
   "source": [
    "#### Does the hard drive model affect the early failure rate?"
   ]
  },
  {
   "cell_type": "markdown",
   "metadata": {},
   "source": [
    "The `explore.chi2_models` function determines if a model is independent of the early fail rate by using a chi squared test. \n",
    "> H0: the hard drive model is independent of early failure rate"
   ]
  },
  {
   "cell_type": "code",
   "execution_count": 56,
   "metadata": {},
   "outputs": [
    {
     "data": {
      "text/html": [
       "<div>\n",
       "<style scoped>\n",
       "    .dataframe tbody tr th:only-of-type {\n",
       "        vertical-align: middle;\n",
       "    }\n",
       "\n",
       "    .dataframe tbody tr th {\n",
       "        vertical-align: top;\n",
       "    }\n",
       "\n",
       "    .dataframe thead th {\n",
       "        text-align: right;\n",
       "    }\n",
       "</style>\n",
       "<table border=\"1\" class=\"dataframe\">\n",
       "  <thead>\n",
       "    <tr style=\"text-align: right;\">\n",
       "      <th></th>\n",
       "      <th>model</th>\n",
       "      <th>chi2</th>\n",
       "      <th>p</th>\n",
       "      <th>signif</th>\n",
       "    </tr>\n",
       "  </thead>\n",
       "  <tbody>\n",
       "    <tr>\n",
       "      <th>0</th>\n",
       "      <td>Hitachi HDS5C4040ALE630</td>\n",
       "      <td>132.6020</td>\n",
       "      <td>0.0000</td>\n",
       "      <td>True</td>\n",
       "    </tr>\n",
       "    <tr>\n",
       "      <th>1</th>\n",
       "      <td>ST4000DM000</td>\n",
       "      <td>27.3500</td>\n",
       "      <td>0.0000</td>\n",
       "      <td>True</td>\n",
       "    </tr>\n",
       "    <tr>\n",
       "      <th>2</th>\n",
       "      <td>Hitachi HDS5C3030ALA630</td>\n",
       "      <td>238.1687</td>\n",
       "      <td>0.0000</td>\n",
       "      <td>True</td>\n",
       "    </tr>\n",
       "    <tr>\n",
       "      <th>3</th>\n",
       "      <td>ST8000DM002</td>\n",
       "      <td>95.9810</td>\n",
       "      <td>0.0000</td>\n",
       "      <td>True</td>\n",
       "    </tr>\n",
       "    <tr>\n",
       "      <th>4</th>\n",
       "      <td>HGST HMS5C4040BLE640</td>\n",
       "      <td>239.8896</td>\n",
       "      <td>0.0000</td>\n",
       "      <td>True</td>\n",
       "    </tr>\n",
       "    <tr>\n",
       "      <th>5</th>\n",
       "      <td>ST500LM012 HN</td>\n",
       "      <td>5.1995</td>\n",
       "      <td>0.0226</td>\n",
       "      <td>True</td>\n",
       "    </tr>\n",
       "    <tr>\n",
       "      <th>6</th>\n",
       "      <td>ST6000DX000</td>\n",
       "      <td>43.4400</td>\n",
       "      <td>0.0000</td>\n",
       "      <td>True</td>\n",
       "    </tr>\n",
       "    <tr>\n",
       "      <th>7</th>\n",
       "      <td>HGST HMS5C4040ALE640</td>\n",
       "      <td>294.7374</td>\n",
       "      <td>0.0000</td>\n",
       "      <td>True</td>\n",
       "    </tr>\n",
       "    <tr>\n",
       "      <th>8</th>\n",
       "      <td>WDC WD5000BPKT</td>\n",
       "      <td>0.3770</td>\n",
       "      <td>0.5392</td>\n",
       "      <td>False</td>\n",
       "    </tr>\n",
       "    <tr>\n",
       "      <th>9</th>\n",
       "      <td>Hitachi HDS722020ALA330</td>\n",
       "      <td>230.5352</td>\n",
       "      <td>0.0000</td>\n",
       "      <td>True</td>\n",
       "    </tr>\n",
       "    <tr>\n",
       "      <th>10</th>\n",
       "      <td>WDC WD10EADS</td>\n",
       "      <td>13.3230</td>\n",
       "      <td>0.0003</td>\n",
       "      <td>True</td>\n",
       "    </tr>\n",
       "    <tr>\n",
       "      <th>11</th>\n",
       "      <td>Hitachi HDS723030ALA640</td>\n",
       "      <td>49.1426</td>\n",
       "      <td>0.0000</td>\n",
       "      <td>True</td>\n",
       "    </tr>\n",
       "    <tr>\n",
       "      <th>12</th>\n",
       "      <td>WDC WD30EFRX</td>\n",
       "      <td>0.4732</td>\n",
       "      <td>0.4915</td>\n",
       "      <td>False</td>\n",
       "    </tr>\n",
       "    <tr>\n",
       "      <th>13</th>\n",
       "      <td>WDC WD60EFRX</td>\n",
       "      <td>1.9699</td>\n",
       "      <td>0.1605</td>\n",
       "      <td>False</td>\n",
       "    </tr>\n",
       "    <tr>\n",
       "      <th>14</th>\n",
       "      <td>HGST HDS5C4040ALE630</td>\n",
       "      <td>0.0479</td>\n",
       "      <td>0.8267</td>\n",
       "      <td>False</td>\n",
       "    </tr>\n",
       "    <tr>\n",
       "      <th>15</th>\n",
       "      <td>HGST HUH728080ALE600</td>\n",
       "      <td>30.0111</td>\n",
       "      <td>0.0000</td>\n",
       "      <td>True</td>\n",
       "    </tr>\n",
       "    <tr>\n",
       "      <th>16</th>\n",
       "      <td>TOSHIBA MD04ABA400V</td>\n",
       "      <td>4.5252</td>\n",
       "      <td>0.0334</td>\n",
       "      <td>True</td>\n",
       "    </tr>\n",
       "    <tr>\n",
       "      <th>17</th>\n",
       "      <td>TOSHIBA MQ01ABF050</td>\n",
       "      <td>884.7727</td>\n",
       "      <td>0.0000</td>\n",
       "      <td>True</td>\n",
       "    </tr>\n",
       "    <tr>\n",
       "      <th>18</th>\n",
       "      <td>WDC WD10EADX</td>\n",
       "      <td>0.0130</td>\n",
       "      <td>0.9094</td>\n",
       "      <td>False</td>\n",
       "    </tr>\n",
       "    <tr>\n",
       "      <th>19</th>\n",
       "      <td>WDC WD800AAJS</td>\n",
       "      <td>0.0429</td>\n",
       "      <td>0.8359</td>\n",
       "      <td>False</td>\n",
       "    </tr>\n",
       "    <tr>\n",
       "      <th>20</th>\n",
       "      <td>ST12000NM0007</td>\n",
       "      <td>22418.6124</td>\n",
       "      <td>0.0000</td>\n",
       "      <td>True</td>\n",
       "    </tr>\n",
       "    <tr>\n",
       "      <th>21</th>\n",
       "      <td>HGST HUH721212ALN604</td>\n",
       "      <td>480.7732</td>\n",
       "      <td>0.0000</td>\n",
       "      <td>True</td>\n",
       "    </tr>\n",
       "    <tr>\n",
       "      <th>22</th>\n",
       "      <td>WDC WD10EACS</td>\n",
       "      <td>2.0349</td>\n",
       "      <td>0.1537</td>\n",
       "      <td>False</td>\n",
       "    </tr>\n",
       "    <tr>\n",
       "      <th>23</th>\n",
       "      <td>ST31500541AS</td>\n",
       "      <td>12.1707</td>\n",
       "      <td>0.0005</td>\n",
       "      <td>True</td>\n",
       "    </tr>\n",
       "    <tr>\n",
       "      <th>24</th>\n",
       "      <td>ST3160318AS</td>\n",
       "      <td>1.4117</td>\n",
       "      <td>0.2348</td>\n",
       "      <td>False</td>\n",
       "    </tr>\n",
       "    <tr>\n",
       "      <th>25</th>\n",
       "      <td>WDC WD5000LPVX</td>\n",
       "      <td>4.5675</td>\n",
       "      <td>0.0326</td>\n",
       "      <td>True</td>\n",
       "    </tr>\n",
       "    <tr>\n",
       "      <th>26</th>\n",
       "      <td>WDC WD1600AAJS</td>\n",
       "      <td>3.9955</td>\n",
       "      <td>0.0456</td>\n",
       "      <td>True</td>\n",
       "    </tr>\n",
       "    <tr>\n",
       "      <th>27</th>\n",
       "      <td>WDC WD800LB</td>\n",
       "      <td>4.5272</td>\n",
       "      <td>0.0334</td>\n",
       "      <td>True</td>\n",
       "    </tr>\n",
       "    <tr>\n",
       "      <th>28</th>\n",
       "      <td>ST4000DX000</td>\n",
       "      <td>4.1828</td>\n",
       "      <td>0.0408</td>\n",
       "      <td>True</td>\n",
       "    </tr>\n",
       "    <tr>\n",
       "      <th>29</th>\n",
       "      <td>ST8000NM0055</td>\n",
       "      <td>6571.6470</td>\n",
       "      <td>0.0000</td>\n",
       "      <td>True</td>\n",
       "    </tr>\n",
       "    <tr>\n",
       "      <th>...</th>\n",
       "      <td>...</td>\n",
       "      <td>...</td>\n",
       "      <td>...</td>\n",
       "      <td>...</td>\n",
       "    </tr>\n",
       "    <tr>\n",
       "      <th>58</th>\n",
       "      <td>WDC WD1600BPVT</td>\n",
       "      <td>1.8135</td>\n",
       "      <td>0.1781</td>\n",
       "      <td>False</td>\n",
       "    </tr>\n",
       "    <tr>\n",
       "      <th>59</th>\n",
       "      <td>ST250LT007</td>\n",
       "      <td>9.4864</td>\n",
       "      <td>0.0021</td>\n",
       "      <td>True</td>\n",
       "    </tr>\n",
       "    <tr>\n",
       "      <th>60</th>\n",
       "      <td>WDC WD10EARS</td>\n",
       "      <td>0.9421</td>\n",
       "      <td>0.3317</td>\n",
       "      <td>False</td>\n",
       "    </tr>\n",
       "    <tr>\n",
       "      <th>61</th>\n",
       "      <td>ST12000NM0117</td>\n",
       "      <td>80.3450</td>\n",
       "      <td>0.0000</td>\n",
       "      <td>True</td>\n",
       "    </tr>\n",
       "    <tr>\n",
       "      <th>62</th>\n",
       "      <td>ST4000DM005</td>\n",
       "      <td>80.3450</td>\n",
       "      <td>0.0000</td>\n",
       "      <td>True</td>\n",
       "    </tr>\n",
       "    <tr>\n",
       "      <th>63</th>\n",
       "      <td>ST31500341AS</td>\n",
       "      <td>4.5272</td>\n",
       "      <td>0.0334</td>\n",
       "      <td>True</td>\n",
       "    </tr>\n",
       "    <tr>\n",
       "      <th>64</th>\n",
       "      <td>ST8000DM004</td>\n",
       "      <td>60.5608</td>\n",
       "      <td>0.0000</td>\n",
       "      <td>True</td>\n",
       "    </tr>\n",
       "    <tr>\n",
       "      <th>65</th>\n",
       "      <td>WDC WD3200AAJS</td>\n",
       "      <td>0.9421</td>\n",
       "      <td>0.3317</td>\n",
       "      <td>False</td>\n",
       "    </tr>\n",
       "    <tr>\n",
       "      <th>66</th>\n",
       "      <td>Hitachi HDS723030BLE640</td>\n",
       "      <td>0.0130</td>\n",
       "      <td>0.9094</td>\n",
       "      <td>False</td>\n",
       "    </tr>\n",
       "    <tr>\n",
       "      <th>67</th>\n",
       "      <td>ST33000651AS</td>\n",
       "      <td>4.5272</td>\n",
       "      <td>0.0334</td>\n",
       "      <td>True</td>\n",
       "    </tr>\n",
       "    <tr>\n",
       "      <th>68</th>\n",
       "      <td>WDC WD20EFRX</td>\n",
       "      <td>100.2219</td>\n",
       "      <td>0.0000</td>\n",
       "      <td>True</td>\n",
       "    </tr>\n",
       "    <tr>\n",
       "      <th>69</th>\n",
       "      <td>WDC WD2500BEVT</td>\n",
       "      <td>4.5272</td>\n",
       "      <td>0.0334</td>\n",
       "      <td>True</td>\n",
       "    </tr>\n",
       "    <tr>\n",
       "      <th>70</th>\n",
       "      <td>WDC WD800JB</td>\n",
       "      <td>0.5314</td>\n",
       "      <td>0.4660</td>\n",
       "      <td>False</td>\n",
       "    </tr>\n",
       "    <tr>\n",
       "      <th>71</th>\n",
       "      <td>ST6000DM001</td>\n",
       "      <td>1.8135</td>\n",
       "      <td>0.1781</td>\n",
       "      <td>False</td>\n",
       "    </tr>\n",
       "    <tr>\n",
       "      <th>72</th>\n",
       "      <td>WDC WD3200BEKT</td>\n",
       "      <td>4.5272</td>\n",
       "      <td>0.0334</td>\n",
       "      <td>True</td>\n",
       "    </tr>\n",
       "    <tr>\n",
       "      <th>73</th>\n",
       "      <td>WDC WD3200AAJB</td>\n",
       "      <td>1.8135</td>\n",
       "      <td>0.1781</td>\n",
       "      <td>False</td>\n",
       "    </tr>\n",
       "    <tr>\n",
       "      <th>74</th>\n",
       "      <td>ST1000LM024 HN</td>\n",
       "      <td>4.5272</td>\n",
       "      <td>0.0334</td>\n",
       "      <td>True</td>\n",
       "    </tr>\n",
       "    <tr>\n",
       "      <th>75</th>\n",
       "      <td>Hitachi HDT725025VLA380</td>\n",
       "      <td>4.5272</td>\n",
       "      <td>0.0334</td>\n",
       "      <td>True</td>\n",
       "    </tr>\n",
       "    <tr>\n",
       "      <th>76</th>\n",
       "      <td>WDC WD3200LPVX</td>\n",
       "      <td>4.5272</td>\n",
       "      <td>0.0334</td>\n",
       "      <td>True</td>\n",
       "    </tr>\n",
       "    <tr>\n",
       "      <th>77</th>\n",
       "      <td>WDC WD2500AAJS</td>\n",
       "      <td>0.9421</td>\n",
       "      <td>0.3317</td>\n",
       "      <td>False</td>\n",
       "    </tr>\n",
       "    <tr>\n",
       "      <th>78</th>\n",
       "      <td>WDC WD10EARX</td>\n",
       "      <td>1.8135</td>\n",
       "      <td>0.1781</td>\n",
       "      <td>False</td>\n",
       "    </tr>\n",
       "    <tr>\n",
       "      <th>79</th>\n",
       "      <td>WDC WD800JD</td>\n",
       "      <td>4.5272</td>\n",
       "      <td>0.0334</td>\n",
       "      <td>True</td>\n",
       "    </tr>\n",
       "    <tr>\n",
       "      <th>80</th>\n",
       "      <td>Hitachi HDS5C3030BLE630</td>\n",
       "      <td>4.5272</td>\n",
       "      <td>0.0334</td>\n",
       "      <td>True</td>\n",
       "    </tr>\n",
       "    <tr>\n",
       "      <th>81</th>\n",
       "      <td>HGST HUH721212ALE600</td>\n",
       "      <td>60.5608</td>\n",
       "      <td>0.0000</td>\n",
       "      <td>True</td>\n",
       "    </tr>\n",
       "    <tr>\n",
       "      <th>82</th>\n",
       "      <td>WDC WD5003ABYX</td>\n",
       "      <td>4.5272</td>\n",
       "      <td>0.0334</td>\n",
       "      <td>True</td>\n",
       "    </tr>\n",
       "    <tr>\n",
       "      <th>83</th>\n",
       "      <td>ST3500320AS</td>\n",
       "      <td>4.5272</td>\n",
       "      <td>0.0334</td>\n",
       "      <td>True</td>\n",
       "    </tr>\n",
       "    <tr>\n",
       "      <th>84</th>\n",
       "      <td>WDC WD3200AAKS</td>\n",
       "      <td>4.5272</td>\n",
       "      <td>0.0334</td>\n",
       "      <td>True</td>\n",
       "    </tr>\n",
       "    <tr>\n",
       "      <th>85</th>\n",
       "      <td>Hitachi HDS724040ALE640</td>\n",
       "      <td>1.8135</td>\n",
       "      <td>0.1781</td>\n",
       "      <td>False</td>\n",
       "    </tr>\n",
       "    <tr>\n",
       "      <th>86</th>\n",
       "      <td>WDC WD2500AAJB</td>\n",
       "      <td>4.5272</td>\n",
       "      <td>0.0334</td>\n",
       "      <td>True</td>\n",
       "    </tr>\n",
       "    <tr>\n",
       "      <th>87</th>\n",
       "      <td>WDC WD15EARS</td>\n",
       "      <td>4.5272</td>\n",
       "      <td>0.0334</td>\n",
       "      <td>True</td>\n",
       "    </tr>\n",
       "  </tbody>\n",
       "</table>\n",
       "<p>88 rows × 4 columns</p>\n",
       "</div>"
      ],
      "text/plain": [
       "                      model        chi2       p  signif\n",
       "0   Hitachi HDS5C4040ALE630    132.6020  0.0000    True\n",
       "1               ST4000DM000     27.3500  0.0000    True\n",
       "2   Hitachi HDS5C3030ALA630    238.1687  0.0000    True\n",
       "3               ST8000DM002     95.9810  0.0000    True\n",
       "4      HGST HMS5C4040BLE640    239.8896  0.0000    True\n",
       "5             ST500LM012 HN      5.1995  0.0226    True\n",
       "6               ST6000DX000     43.4400  0.0000    True\n",
       "7      HGST HMS5C4040ALE640    294.7374  0.0000    True\n",
       "8            WDC WD5000BPKT      0.3770  0.5392   False\n",
       "9   Hitachi HDS722020ALA330    230.5352  0.0000    True\n",
       "10             WDC WD10EADS     13.3230  0.0003    True\n",
       "11  Hitachi HDS723030ALA640     49.1426  0.0000    True\n",
       "12             WDC WD30EFRX      0.4732  0.4915   False\n",
       "13             WDC WD60EFRX      1.9699  0.1605   False\n",
       "14     HGST HDS5C4040ALE630      0.0479  0.8267   False\n",
       "15     HGST HUH728080ALE600     30.0111  0.0000    True\n",
       "16      TOSHIBA MD04ABA400V      4.5252  0.0334    True\n",
       "17       TOSHIBA MQ01ABF050    884.7727  0.0000    True\n",
       "18             WDC WD10EADX      0.0130  0.9094   False\n",
       "19            WDC WD800AAJS      0.0429  0.8359   False\n",
       "20            ST12000NM0007  22418.6124  0.0000    True\n",
       "21     HGST HUH721212ALN604    480.7732  0.0000    True\n",
       "22             WDC WD10EACS      2.0349  0.1537   False\n",
       "23             ST31500541AS     12.1707  0.0005    True\n",
       "24              ST3160318AS      1.4117  0.2348   False\n",
       "25           WDC WD5000LPVX      4.5675  0.0326    True\n",
       "26           WDC WD1600AAJS      3.9955  0.0456    True\n",
       "27              WDC WD800LB      4.5272  0.0334    True\n",
       "28              ST4000DX000      4.1828  0.0408    True\n",
       "29             ST8000NM0055   6571.6470  0.0000    True\n",
       "..                      ...         ...     ...     ...\n",
       "58           WDC WD1600BPVT      1.8135  0.1781   False\n",
       "59               ST250LT007      9.4864  0.0021    True\n",
       "60             WDC WD10EARS      0.9421  0.3317   False\n",
       "61            ST12000NM0117     80.3450  0.0000    True\n",
       "62              ST4000DM005     80.3450  0.0000    True\n",
       "63             ST31500341AS      4.5272  0.0334    True\n",
       "64              ST8000DM004     60.5608  0.0000    True\n",
       "65           WDC WD3200AAJS      0.9421  0.3317   False\n",
       "66  Hitachi HDS723030BLE640      0.0130  0.9094   False\n",
       "67             ST33000651AS      4.5272  0.0334    True\n",
       "68             WDC WD20EFRX    100.2219  0.0000    True\n",
       "69           WDC WD2500BEVT      4.5272  0.0334    True\n",
       "70              WDC WD800JB      0.5314  0.4660   False\n",
       "71              ST6000DM001      1.8135  0.1781   False\n",
       "72           WDC WD3200BEKT      4.5272  0.0334    True\n",
       "73           WDC WD3200AAJB      1.8135  0.1781   False\n",
       "74           ST1000LM024 HN      4.5272  0.0334    True\n",
       "75  Hitachi HDT725025VLA380      4.5272  0.0334    True\n",
       "76           WDC WD3200LPVX      4.5272  0.0334    True\n",
       "77           WDC WD2500AAJS      0.9421  0.3317   False\n",
       "78             WDC WD10EARX      1.8135  0.1781   False\n",
       "79              WDC WD800JD      4.5272  0.0334    True\n",
       "80  Hitachi HDS5C3030BLE630      4.5272  0.0334    True\n",
       "81     HGST HUH721212ALE600     60.5608  0.0000    True\n",
       "82           WDC WD5003ABYX      4.5272  0.0334    True\n",
       "83              ST3500320AS      4.5272  0.0334    True\n",
       "84           WDC WD3200AAKS      4.5272  0.0334    True\n",
       "85  Hitachi HDS724040ALE640      1.8135  0.1781   False\n",
       "86           WDC WD2500AAJB      4.5272  0.0334    True\n",
       "87             WDC WD15EARS      4.5272  0.0334    True\n",
       "\n",
       "[88 rows x 4 columns]"
      ]
     },
     "execution_count": 56,
     "metadata": {},
     "output_type": "execute_result"
    }
   ],
   "source": [
    "df_stat = explore.chi2_models(df)\n",
    "df_stat"
   ]
  },
  {
   "cell_type": "markdown",
   "metadata": {},
   "source": [
    "> The models that have True in the 'signif' column have failed to reject the null hypothesis. Therefore, it cannot be said that these models are independent of early failure rates. "
   ]
  },
  {
   "cell_type": "code",
   "execution_count": 57,
   "metadata": {},
   "outputs": [
    {
     "data": {
      "text/plain": [
       "54"
      ]
     },
     "execution_count": 57,
     "metadata": {},
     "output_type": "execute_result"
    }
   ],
   "source": [
    "len (df_stat [df_stat.signif == True])"
   ]
  },
  {
   "cell_type": "code",
   "execution_count": 58,
   "metadata": {},
   "outputs": [],
   "source": [
    "# create a list of all the signif models\n",
    "stat_sig_models = list(df_stat [df_stat.signif == True].model)"
   ]
  },
  {
   "cell_type": "code",
   "execution_count": 59,
   "metadata": {},
   "outputs": [
    {
     "data": {
      "text/plain": [
       "ST4000DM000                34901\n",
       "HGST HMS5C4040BLE640       10920\n",
       "ST8000DM002                 9928\n",
       "HGST HMS5C4040ALE640        7673\n",
       "Hitachi HDS5C3030ALA630     4540\n",
       "Hitachi HDS722020ALA330     4482\n",
       "Hitachi HDS5C4040ALE630     2639\n",
       "ST6000DX000                 1890\n",
       "ST12000NM0007               1104\n",
       "Hitachi HDS723030ALA640      995\n",
       "ST500LM012 HN                603\n",
       "ST8000NM0055                 442\n",
       "WDC WD5000LPVX               332\n",
       "WDC WD10EADS                 287\n",
       "ST31500541AS                 264\n",
       "TOSHIBA MQ01ABF050           249\n",
       "ST4000DX000                  173\n",
       "TOSHIBA MD04ABA400V          147\n",
       "WDC WD1600AAJS               100\n",
       "ST320LT007                    73\n",
       "HGST HUH728080ALE600          57\n",
       "ST4000DM001                   34\n",
       "ST500LM030                    28\n",
       "HGST HUH721212ALN604          25\n",
       "TOSHIBA MQ01ABF050M           19\n",
       "ST10000NM0086                 14\n",
       "TOSHIBA MG07ACA14TA           11\n",
       "WDC WD20EFRX                   6\n",
       "ST4000DM005                    5\n",
       "ST12000NM0117                  5\n",
       "HGST HUH721212ALE600           4\n",
       "ST8000DM004                    4\n",
       "ST4000DX002                    4\n",
       "ST250LT007                     4\n",
       "HGST HUS726040ALE610           3\n",
       "ST8000DM005                    2\n",
       "ST33000651AS                   1\n",
       "WDC WD10EALS                   1\n",
       "WDC WD15EARS                   1\n",
       "TOSHIBA HDWF180                1\n",
       "ST1000LM024 HN                 1\n",
       "WDC WD3200AAKS                 1\n",
       "Hitachi HDS5C3030BLE630        1\n",
       "WDC WD800JD                    1\n",
       "WDC WD3200LPVX                 1\n",
       "ST31500341AS                   1\n",
       "Hitachi HDT725025VLA380        1\n",
       "WDC WD5003ABYX                 1\n",
       "WDC WD2500BEVT                 1\n",
       "WDC WD3200BEKT                 1\n",
       "WDC WD2500AAJB                 1\n",
       "ST3500320AS                    1\n",
       "WDC WD800LB                    1\n",
       "WDC WD1000FYPS                 1\n",
       "Name: model, dtype: int64"
      ]
     },
     "execution_count": 59,
     "metadata": {},
     "output_type": "execute_result"
    }
   ],
   "source": [
    "df.model [df.model.isin(stat_sig_models)].value_counts()"
   ]
  },
  {
   "cell_type": "code",
   "execution_count": 60,
   "metadata": {},
   "outputs": [
    {
     "data": {
      "text/plain": [
       "44"
      ]
     },
     "execution_count": 60,
     "metadata": {},
     "output_type": "execute_result"
    }
   ],
   "source": [
    "len(df.model.value_counts() [df.model.value_counts() > 10])"
   ]
  },
  {
   "cell_type": "code",
   "execution_count": 61,
   "metadata": {},
   "outputs": [
    {
     "data": {
      "image/png": "[encoded data removed]",
      "text/plain": [
       "<Figure size 720x576 with 1 Axes>"
      ]
     },
     "metadata": {
      "needs_background": "light"
     },
     "output_type": "display_data"
    }
   ],
   "source": [
    "#models by quartile by manufacturer\n",
    "explore.get_manufacturer_graph(df)"
   ]
  },
  {
   "cell_type": "markdown",
   "metadata": {},
   "source": [
    "## Split"
   ]
  },
  {
   "cell_type": "code",
   "execution_count": 62,
   "metadata": {},
   "outputs": [
    {
     "name": "stdout",
     "output_type": "stream",
     "text": [
      "<class 'pandas.core.frame.DataFrame'>\n",
      "Int64Index: 83940 entries, 0 to 168960\n",
      "Data columns (total 12 columns):\n",
      "serial_number                    83940 non-null object\n",
      "manufacturer                     83940 non-null object\n",
      "model                            83940 non-null object\n",
      "capacity_terabytes               83940 non-null float64\n",
      "failure                          83940 non-null int64\n",
      "drive_age_in_years               83940 non-null float64\n",
      "reallocated_sectors_count        83940 non-null bool\n",
      "reported_uncorrectable_errors    83940 non-null bool\n",
      "command_timeout                  83940 non-null bool\n",
      "current_pending_sector_count     83940 non-null bool\n",
      "uncorrectable_sector_count       83940 non-null bool\n",
      "early_failure                    83940 non-null int64\n",
      "dtypes: bool(5), float64(2), int64(2), object(3)\n",
      "memory usage: 8.0+ MB\n"
     ]
    }
   ],
   "source": [
    "df.info()"
   ]
  },
  {
   "cell_type": "markdown",
   "metadata": {},
   "source": [
    "The `model.split_my_data` function takes the dataframe and first splits by features and target. \n",
    "- For the features dataframe (X), the following columns are removed: 'failure', 'early_faliure', and 'drive_age_in_years'\n",
    "- For the target dataframe (y), only the 'early_failure' column is retained\n",
    "\n",
    "Next, the function splits each dataframe (X and y) into a train and test. \n",
    "- The train size is set as 80% \n",
    "- A random state is set at 123\n",
    "- The early_failure is stratified, to ensure an even split between train and test"
   ]
  },
  {
   "cell_type": "code",
   "execution_count": 63,
   "metadata": {},
   "outputs": [],
   "source": [
    "X_train, X_test, y_train, y_test = model.split_my_data(df)"
   ]
  },
  {
   "cell_type": "code",
   "execution_count": 64,
   "metadata": {},
   "outputs": [
    {
     "data": {
      "text/plain": [
       "((67152, 7), (16788, 7), (67152, 1), (16788, 1))"
      ]
     },
     "execution_count": 64,
     "metadata": {},
     "output_type": "execute_result"
    }
   ],
   "source": [
    "X_train.shape, X_test.shape, y_train.shape, y_test.shape"
   ]
  },
  {
   "cell_type": "code",
   "execution_count": 65,
   "metadata": {},
   "outputs": [
    {
     "data": {
      "text/html": [
       "<div>\n",
       "<style scoped>\n",
       "    .dataframe tbody tr th:only-of-type {\n",
       "        vertical-align: middle;\n",
       "    }\n",
       "\n",
       "    .dataframe tbody tr th {\n",
       "        vertical-align: top;\n",
       "    }\n",
       "\n",
       "    .dataframe thead th {\n",
       "        text-align: right;\n",
       "    }\n",
       "</style>\n",
       "<table border=\"1\" class=\"dataframe\">\n",
       "  <thead>\n",
       "    <tr style=\"text-align: right;\">\n",
       "      <th></th>\n",
       "      <th>manufacturer</th>\n",
       "      <th>capacity_terabytes</th>\n",
       "      <th>reallocated_sectors_count</th>\n",
       "      <th>reported_uncorrectable_errors</th>\n",
       "      <th>command_timeout</th>\n",
       "      <th>current_pending_sector_count</th>\n",
       "      <th>uncorrectable_sector_count</th>\n",
       "    </tr>\n",
       "  </thead>\n",
       "  <tbody>\n",
       "    <tr>\n",
       "      <th>121424</th>\n",
       "      <td>Seagate</td>\n",
       "      <td>12.0</td>\n",
       "      <td>True</td>\n",
       "      <td>False</td>\n",
       "      <td>False</td>\n",
       "      <td>True</td>\n",
       "      <td>True</td>\n",
       "    </tr>\n",
       "    <tr>\n",
       "      <th>51821</th>\n",
       "      <td>Seagate</td>\n",
       "      <td>4.0</td>\n",
       "      <td>False</td>\n",
       "      <td>False</td>\n",
       "      <td>False</td>\n",
       "      <td>False</td>\n",
       "      <td>False</td>\n",
       "    </tr>\n",
       "    <tr>\n",
       "      <th>39076</th>\n",
       "      <td>Hitachi</td>\n",
       "      <td>4.0</td>\n",
       "      <td>False</td>\n",
       "      <td>False</td>\n",
       "      <td>False</td>\n",
       "      <td>False</td>\n",
       "      <td>False</td>\n",
       "    </tr>\n",
       "    <tr>\n",
       "      <th>139516</th>\n",
       "      <td>Hitachi</td>\n",
       "      <td>4.0</td>\n",
       "      <td>False</td>\n",
       "      <td>False</td>\n",
       "      <td>False</td>\n",
       "      <td>False</td>\n",
       "      <td>False</td>\n",
       "    </tr>\n",
       "    <tr>\n",
       "      <th>50771</th>\n",
       "      <td>Hitachi</td>\n",
       "      <td>4.0</td>\n",
       "      <td>False</td>\n",
       "      <td>False</td>\n",
       "      <td>False</td>\n",
       "      <td>False</td>\n",
       "      <td>False</td>\n",
       "    </tr>\n",
       "  </tbody>\n",
       "</table>\n",
       "</div>"
      ],
      "text/plain": [
       "       manufacturer  capacity_terabytes  reallocated_sectors_count  \\\n",
       "121424      Seagate                12.0                       True   \n",
       "51821       Seagate                 4.0                      False   \n",
       "39076       Hitachi                 4.0                      False   \n",
       "139516      Hitachi                 4.0                      False   \n",
       "50771       Hitachi                 4.0                      False   \n",
       "\n",
       "        reported_uncorrectable_errors  command_timeout  \\\n",
       "121424                          False            False   \n",
       "51821                           False            False   \n",
       "39076                           False            False   \n",
       "139516                          False            False   \n",
       "50771                           False            False   \n",
       "\n",
       "        current_pending_sector_count  uncorrectable_sector_count  \n",
       "121424                          True                        True  \n",
       "51821                          False                       False  \n",
       "39076                          False                       False  \n",
       "139516                         False                       False  \n",
       "50771                          False                       False  "
      ]
     },
     "execution_count": 65,
     "metadata": {},
     "output_type": "execute_result"
    }
   ],
   "source": [
    "X_train.head()"
   ]
  },
  {
   "cell_type": "markdown",
   "metadata": {},
   "source": [
    "The `model.encode_hot` function is used to one hot encode the manufacturer column and removes the original column."
   ]
  },
  {
   "cell_type": "code",
   "execution_count": 66,
   "metadata": {},
   "outputs": [],
   "source": [
    "# One hot encode manufacturer column\n",
    "X_train, X_test = model.encode_hot(X_train, X_test, 'manufacturer')"
   ]
  },
  {
   "cell_type": "code",
   "execution_count": 67,
   "metadata": {
    "scrolled": true
   },
   "outputs": [
    {
     "data": {
      "text/html": [
       "<div>\n",
       "<style scoped>\n",
       "    .dataframe tbody tr th:only-of-type {\n",
       "        vertical-align: middle;\n",
       "    }\n",
       "\n",
       "    .dataframe tbody tr th {\n",
       "        vertical-align: top;\n",
       "    }\n",
       "\n",
       "    .dataframe thead th {\n",
       "        text-align: right;\n",
       "    }\n",
       "</style>\n",
       "<table border=\"1\" class=\"dataframe\">\n",
       "  <thead>\n",
       "    <tr style=\"text-align: right;\">\n",
       "      <th></th>\n",
       "      <th>capacity_terabytes</th>\n",
       "      <th>reallocated_sectors_count</th>\n",
       "      <th>reported_uncorrectable_errors</th>\n",
       "      <th>command_timeout</th>\n",
       "      <th>current_pending_sector_count</th>\n",
       "      <th>uncorrectable_sector_count</th>\n",
       "      <th>Hitachi</th>\n",
       "      <th>Seagate</th>\n",
       "      <th>Toshiba</th>\n",
       "      <th>Western Digital</th>\n",
       "    </tr>\n",
       "  </thead>\n",
       "  <tbody>\n",
       "    <tr>\n",
       "      <th>121424</th>\n",
       "      <td>12.0</td>\n",
       "      <td>True</td>\n",
       "      <td>False</td>\n",
       "      <td>False</td>\n",
       "      <td>True</td>\n",
       "      <td>True</td>\n",
       "      <td>0.0</td>\n",
       "      <td>1.0</td>\n",
       "      <td>0.0</td>\n",
       "      <td>0.0</td>\n",
       "    </tr>\n",
       "    <tr>\n",
       "      <th>51821</th>\n",
       "      <td>4.0</td>\n",
       "      <td>False</td>\n",
       "      <td>False</td>\n",
       "      <td>False</td>\n",
       "      <td>False</td>\n",
       "      <td>False</td>\n",
       "      <td>0.0</td>\n",
       "      <td>1.0</td>\n",
       "      <td>0.0</td>\n",
       "      <td>0.0</td>\n",
       "    </tr>\n",
       "    <tr>\n",
       "      <th>39076</th>\n",
       "      <td>4.0</td>\n",
       "      <td>False</td>\n",
       "      <td>False</td>\n",
       "      <td>False</td>\n",
       "      <td>False</td>\n",
       "      <td>False</td>\n",
       "      <td>1.0</td>\n",
       "      <td>0.0</td>\n",
       "      <td>0.0</td>\n",
       "      <td>0.0</td>\n",
       "    </tr>\n",
       "    <tr>\n",
       "      <th>139516</th>\n",
       "      <td>4.0</td>\n",
       "      <td>False</td>\n",
       "      <td>False</td>\n",
       "      <td>False</td>\n",
       "      <td>False</td>\n",
       "      <td>False</td>\n",
       "      <td>1.0</td>\n",
       "      <td>0.0</td>\n",
       "      <td>0.0</td>\n",
       "      <td>0.0</td>\n",
       "    </tr>\n",
       "    <tr>\n",
       "      <th>50771</th>\n",
       "      <td>4.0</td>\n",
       "      <td>False</td>\n",
       "      <td>False</td>\n",
       "      <td>False</td>\n",
       "      <td>False</td>\n",
       "      <td>False</td>\n",
       "      <td>1.0</td>\n",
       "      <td>0.0</td>\n",
       "      <td>0.0</td>\n",
       "      <td>0.0</td>\n",
       "    </tr>\n",
       "  </tbody>\n",
       "</table>\n",
       "</div>"
      ],
      "text/plain": [
       "        capacity_terabytes  reallocated_sectors_count  \\\n",
       "121424                12.0                       True   \n",
       "51821                  4.0                      False   \n",
       "39076                  4.0                      False   \n",
       "139516                 4.0                      False   \n",
       "50771                  4.0                      False   \n",
       "\n",
       "        reported_uncorrectable_errors  command_timeout  \\\n",
       "121424                          False            False   \n",
       "51821                           False            False   \n",
       "39076                           False            False   \n",
       "139516                          False            False   \n",
       "50771                           False            False   \n",
       "\n",
       "        current_pending_sector_count  uncorrectable_sector_count  Hitachi  \\\n",
       "121424                          True                        True      0.0   \n",
       "51821                          False                       False      0.0   \n",
       "39076                          False                       False      1.0   \n",
       "139516                         False                       False      1.0   \n",
       "50771                          False                       False      1.0   \n",
       "\n",
       "        Seagate  Toshiba  Western Digital  \n",
       "121424      1.0      0.0              0.0  \n",
       "51821       1.0      0.0              0.0  \n",
       "39076       0.0      0.0              0.0  \n",
       "139516      0.0      0.0              0.0  \n",
       "50771       0.0      0.0              0.0  "
      ]
     },
     "execution_count": 67,
     "metadata": {},
     "output_type": "execute_result"
    }
   ],
   "source": [
    "X_train.head()"
   ]
  },
  {
   "cell_type": "markdown",
   "metadata": {},
   "source": [
    "## Model "
   ]
  },
  {
   "cell_type": "markdown",
   "metadata": {},
   "source": [
    "The training dataset is prepared for the model selection phase in order to best predict the dependent early failure variable. There are ten attributes in the train dataset for modeling and they include the capacity terabytes, the 5 SMART stats, and the binary encoded 4 manufacters. \n",
    "\n",
    "This is a binary classification problem and we will use Support Vector Machine, K-Nearest Neighbor, Logistic Regression, and Decision Tree algorithms to solve this problem. The rest of the section consists of standard machine learning steps.\n",
    "\n",
    "The 4 modeling functions: `svc_model`, `knn_model`, `logit_model`, `dt_model` perform the following 2 steps for training the algorithm and making predictions.\n",
    "\n",
    "1. Training the algorithm - the fit method of the classifier is called to train the algorithm on the training data, which is passed as a parameter to the fit method.\n",
    "\n",
    "\n",
    "2. Making predictions - to make predictions, the predict method of the classifier is used.\n",
    "\n",
    "The `model.evaluate` function will return evaluation metrics in the following way.\n",
    "\n",
    "1. Evaluating the algorithm - Scikit-Learn's metrics library contains the classification_report and confusion_matrix methods, which can be readily used to find out the values for these important metrics."
   ]
  },
  {
   "cell_type": "markdown",
   "metadata": {},
   "source": [
    "### Support Vector Machine"
   ]
  },
  {
   "cell_type": "markdown",
   "metadata": {},
   "source": [
    "- The Support Vector Machine classifier with the hyperparameters: kernal = 'rbf', class_weight = 'balanced', random_state = 123"
   ]
  },
  {
   "cell_type": "code",
   "execution_count": 68,
   "metadata": {},
   "outputs": [],
   "source": [
    "y_pred_svc, y_pred_test_svc = model.svc_model(X_train, y_train, X_test)"
   ]
  },
  {
   "cell_type": "code",
   "execution_count": 69,
   "metadata": {},
   "outputs": [
    {
     "name": "stdout",
     "output_type": "stream",
     "text": [
      "[[60289  3674]\n",
      " [  765  2424]]\n",
      "\n",
      "              precision    recall  f1-score   support\n",
      "\n",
      "           0       0.99      0.94      0.96     63963\n",
      "           1       0.40      0.76      0.52      3189\n",
      "\n",
      "    accuracy                           0.93     67152\n",
      "   macro avg       0.69      0.85      0.74     67152\n",
      "weighted avg       0.96      0.93      0.94     67152\n",
      "\n"
     ]
    }
   ],
   "source": [
    "model.evaluate(y_train, y_pred_svc)"
   ]
  },
  {
   "cell_type": "markdown",
   "metadata": {},
   "source": [
    "### K-Nearest Neighbor"
   ]
  },
  {
   "cell_type": "markdown",
   "metadata": {},
   "source": [
    "- The K-Nearest Neighbor classifier with the hyperparameters: n_neighbors = 3, weights = 'distance'"
   ]
  },
  {
   "cell_type": "code",
   "execution_count": 70,
   "metadata": {},
   "outputs": [],
   "source": [
    "y_pred_knn, y_pred_test_knn = model.knn_model(X_train, y_train, X_test)"
   ]
  },
  {
   "cell_type": "code",
   "execution_count": 71,
   "metadata": {},
   "outputs": [
    {
     "name": "stdout",
     "output_type": "stream",
     "text": [
      "[[63526   437]\n",
      " [ 1715  1474]]\n",
      "\n",
      "              precision    recall  f1-score   support\n",
      "\n",
      "           0       0.97      0.99      0.98     63963\n",
      "           1       0.77      0.46      0.58      3189\n",
      "\n",
      "    accuracy                           0.97     67152\n",
      "   macro avg       0.87      0.73      0.78     67152\n",
      "weighted avg       0.96      0.97      0.96     67152\n",
      "\n"
     ]
    }
   ],
   "source": [
    "model.evaluate(y_train, y_pred_knn)"
   ]
  },
  {
   "cell_type": "markdown",
   "metadata": {},
   "source": [
    "### Logistic Regression"
   ]
  },
  {
   "cell_type": "markdown",
   "metadata": {},
   "source": [
    "- the Logistic Regression classifier with the hyperparamaters: solver = 'liblinear', class_weight = 'balanced', random_state = 123"
   ]
  },
  {
   "cell_type": "code",
   "execution_count": 72,
   "metadata": {},
   "outputs": [],
   "source": [
    "y_pred_logit, y_pred_test_logit = model.logit_model(X_train, y_train, X_test)"
   ]
  },
  {
   "cell_type": "code",
   "execution_count": 73,
   "metadata": {},
   "outputs": [
    {
     "name": "stdout",
     "output_type": "stream",
     "text": [
      "[[53370 10593]\n",
      " [  647  2542]]\n",
      "\n",
      "              precision    recall  f1-score   support\n",
      "\n",
      "           0       0.99      0.83      0.90     63963\n",
      "           1       0.19      0.80      0.31      3189\n",
      "\n",
      "    accuracy                           0.83     67152\n",
      "   macro avg       0.59      0.82      0.61     67152\n",
      "weighted avg       0.95      0.83      0.88     67152\n",
      "\n"
     ]
    }
   ],
   "source": [
    "model.evaluate(y_train, y_pred_logit)"
   ]
  },
  {
   "cell_type": "markdown",
   "metadata": {},
   "source": [
    "### Decision Tree"
   ]
  },
  {
   "cell_type": "markdown",
   "metadata": {},
   "source": [
    "- The Random Forest classifier with the hyperparameters: criterion = 'entropy', class_weight = 'balanced', max_depth = 6, random_state = 123"
   ]
  },
  {
   "cell_type": "code",
   "execution_count": 74,
   "metadata": {},
   "outputs": [],
   "source": [
    "y_pred_dt, y_pred_test_dt = model.dt_model(X_train,y_train, X_test)"
   ]
  },
  {
   "cell_type": "code",
   "execution_count": 75,
   "metadata": {},
   "outputs": [
    {
     "name": "stdout",
     "output_type": "stream",
     "text": [
      "[[60327  3636]\n",
      " [  791  2398]]\n",
      "\n",
      "              precision    recall  f1-score   support\n",
      "\n",
      "           0       0.99      0.94      0.96     63963\n",
      "           1       0.40      0.75      0.52      3189\n",
      "\n",
      "    accuracy                           0.93     67152\n",
      "   macro avg       0.69      0.85      0.74     67152\n",
      "weighted avg       0.96      0.93      0.94     67152\n",
      "\n"
     ]
    }
   ],
   "source": [
    "model.evaluate(y_train, y_pred_dt)"
   ]
  },
  {
   "cell_type": "markdown",
   "metadata": {},
   "source": [
    "#### Analysis: \n",
    "\n",
    "The Support Vector Machine and Decision Tree models had the best combination of Accuracy, Recall, and Macro Average metrics. Also the 2 models selected to pass test data in the next section had the lowest False Positive & False Negative counts in their respective confusion matrix, so they were selected as the final models."
   ]
  },
  {
   "cell_type": "markdown",
   "metadata": {},
   "source": [
    "## Test Final Model"
   ]
  },
  {
   "cell_type": "markdown",
   "metadata": {},
   "source": [
    "In order to determine if the 2 trained models selected did not in fact overfit the data we now only predict with the test data and there is no need to use the fit method in this process."
   ]
  },
  {
   "cell_type": "markdown",
   "metadata": {},
   "source": [
    "#### Testing with the Support Vector Machine model"
   ]
  },
  {
   "cell_type": "code",
   "execution_count": 76,
   "metadata": {},
   "outputs": [
    {
     "name": "stdout",
     "output_type": "stream",
     "text": [
      "[[15077   914]\n",
      " [  191   606]]\n",
      "\n",
      "              precision    recall  f1-score   support\n",
      "\n",
      "           0       0.99      0.94      0.96     15991\n",
      "           1       0.40      0.76      0.52       797\n",
      "\n",
      "    accuracy                           0.93     16788\n",
      "   macro avg       0.69      0.85      0.74     16788\n",
      "weighted avg       0.96      0.93      0.94     16788\n",
      "\n"
     ]
    }
   ],
   "source": [
    "model.evaluate(y_test, y_pred_test_svc)"
   ]
  },
  {
   "cell_type": "markdown",
   "metadata": {},
   "source": [
    "#### Testing with the Decision Tree model"
   ]
  },
  {
   "cell_type": "code",
   "execution_count": 77,
   "metadata": {},
   "outputs": [
    {
     "name": "stdout",
     "output_type": "stream",
     "text": [
      "[[15061   930]\n",
      " [  200   597]]\n",
      "\n",
      "              precision    recall  f1-score   support\n",
      "\n",
      "           0       0.99      0.94      0.96     15991\n",
      "           1       0.39      0.75      0.51       797\n",
      "\n",
      "    accuracy                           0.93     16788\n",
      "   macro avg       0.69      0.85      0.74     16788\n",
      "weighted avg       0.96      0.93      0.94     16788\n",
      "\n"
     ]
    }
   ],
   "source": [
    "model.evaluate(y_test, y_pred_test_dt)"
   ]
  },
  {
   "cell_type": "markdown",
   "metadata": {},
   "source": [
    "The 2 classifiers selected performed well because they were picky and predict few \"not early failures\" which, in turn, actually were \"early failures\" correctly. False positives in our case.\n",
    "\n",
    "\n",
    "Not overfitting note"
   ]
  },
  {
   "cell_type": "code",
   "execution_count": null,
   "metadata": {},
   "outputs": [],
   "source": []
  }
 ],
 "metadata": {
  "kernelspec": {
   "display_name": "Python 3",
   "language": "python",
   "name": "python3"
  },
  "language_info": {
   "codemirror_mode": {
    "name": "ipython",
    "version": 3
   },
   "file_extension": ".py",
   "mimetype": "text/x-python",
   "name": "python",
   "nbconvert_exporter": "python",
   "pygments_lexer": "ipython3",
   "version": "3.7.3"
  },
  "toc": {
   "base_numbering": 1,
   "nav_menu": {},
   "number_sections": false,
   "sideBar": true,
   "skip_h1_title": true,
   "title_cell": "Table of Contents",
   "title_sidebar": "Contents",
   "toc_cell": false,
   "toc_position": {},
   "toc_section_display": true,
   "toc_window_display": false
  }
 },
 "nbformat": 4,
 "nbformat_minor": 2
}
