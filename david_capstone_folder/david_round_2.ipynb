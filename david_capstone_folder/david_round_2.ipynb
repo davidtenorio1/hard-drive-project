{
 "cells": [
  {
   "cell_type": "code",
   "execution_count": 1,
   "metadata": {},
   "outputs": [],
   "source": [
    "import pandas as pd\n",
    "import numpy as np\n",
    "import re\n",
    "\n",
    "import acquire\n",
    "import prepare\n",
    "import explore\n",
    "import model\n",
    "\n",
    "import seaborn as sns\n",
    "%matplotlib inline\n",
    "import matplotlib.pyplot as plt \n",
    "\n",
    "\n",
    "import warnings\n",
    "warnings.filterwarnings(\"ignore\")\n",
    "\n",
    "from sklearn.model_selection import train_test_split\n",
    "from sklearn.linear_model import LogisticRegression\n",
    "from sklearn.tree import DecisionTreeClassifier\n",
    "from sklearn.ensemble import RandomForestClassifier\n",
    "from sklearn.neighbors import KNeighborsClassifier\n",
    "from sklearn.metrics import classification_report\n",
    "from sklearn.metrics import confusion_matrix\n",
    "from sklearn.tree import export_graphviz\n",
    "from sklearn.metrics import recall_score"
   ]
  },
  {
   "cell_type": "markdown",
   "metadata": {},
   "source": [
    "# Acquire"
   ]
  },
  {
   "cell_type": "code",
   "execution_count": 2,
   "metadata": {},
   "outputs": [],
   "source": [
    "def drop_normalized(df):\n",
    "    columns = []\n",
    "    for i in df.columns:\n",
    "        columns.append(i)\n",
    "    columns = str(columns)\n",
    "    normalized_columns = re.findall(r'(max\\(smart_\\d+_normalized\\))', columns)\n",
    "    df = df.drop(columns=(normalized_columns))\n",
    "    return df\n"
   ]
  },
  {
   "cell_type": "code",
   "execution_count": 3,
   "metadata": {},
   "outputs": [],
   "source": [
    "df = pd.read_csv('all_smart.csv')"
   ]
  },
  {
   "cell_type": "code",
   "execution_count": 4,
   "metadata": {},
   "outputs": [
    {
     "data": {
      "text/html": [
       "<div>\n",
       "<style scoped>\n",
       "    .dataframe tbody tr th:only-of-type {\n",
       "        vertical-align: middle;\n",
       "    }\n",
       "\n",
       "    .dataframe tbody tr th {\n",
       "        vertical-align: top;\n",
       "    }\n",
       "\n",
       "    .dataframe thead th {\n",
       "        text-align: right;\n",
       "    }\n",
       "</style>\n",
       "<table border=\"1\" class=\"dataframe\">\n",
       "  <thead>\n",
       "    <tr style=\"text-align: right;\">\n",
       "      <th></th>\n",
       "      <th>Unnamed: 0</th>\n",
       "      <th>serial_number</th>\n",
       "      <th>model</th>\n",
       "      <th>capacity_bytes</th>\n",
       "      <th>max(capacity_bytes)</th>\n",
       "      <th>max(failure)</th>\n",
       "      <th>max(smart_1_normalized)</th>\n",
       "      <th>max(smart_1_raw)</th>\n",
       "      <th>max(smart_2_normalized)</th>\n",
       "      <th>max(smart_2_raw)</th>\n",
       "      <th>...</th>\n",
       "      <th>max(smart_242_normalized)</th>\n",
       "      <th>max(smart_242_raw)</th>\n",
       "      <th>max(smart_250_normalized)</th>\n",
       "      <th>max(smart_250_raw)</th>\n",
       "      <th>max(smart_251_normalized)</th>\n",
       "      <th>max(smart_251_raw)</th>\n",
       "      <th>max(smart_252_normalized)</th>\n",
       "      <th>max(smart_252_raw)</th>\n",
       "      <th>max(smart_254_normalized)</th>\n",
       "      <th>max(smart_254_raw)</th>\n",
       "    </tr>\n",
       "  </thead>\n",
       "  <tbody>\n",
       "    <tr>\n",
       "      <th>0</th>\n",
       "      <td>0</td>\n",
       "      <td>PL1311LAG1SJAA</td>\n",
       "      <td>Hitachi HDS5C4040ALE630</td>\n",
       "      <td>4000787030016</td>\n",
       "      <td>4000787030016</td>\n",
       "      <td>0</td>\n",
       "      <td>100.0</td>\n",
       "      <td>1.0</td>\n",
       "      <td>135.0</td>\n",
       "      <td>99.0</td>\n",
       "      <td>...</td>\n",
       "      <td>NaN</td>\n",
       "      <td>NaN</td>\n",
       "      <td>NaN</td>\n",
       "      <td>NaN</td>\n",
       "      <td>NaN</td>\n",
       "      <td>NaN</td>\n",
       "      <td>NaN</td>\n",
       "      <td>NaN</td>\n",
       "      <td>NaN</td>\n",
       "      <td>NaN</td>\n",
       "    </tr>\n",
       "    <tr>\n",
       "      <th>1</th>\n",
       "      <td>1</td>\n",
       "      <td>Z305KB36</td>\n",
       "      <td>ST4000DM000</td>\n",
       "      <td>4000787030016</td>\n",
       "      <td>4000787030016</td>\n",
       "      <td>0</td>\n",
       "      <td>120.0</td>\n",
       "      <td>243787512.0</td>\n",
       "      <td>NaN</td>\n",
       "      <td>NaN</td>\n",
       "      <td>...</td>\n",
       "      <td>100.0</td>\n",
       "      <td>1.522021e+11</td>\n",
       "      <td>NaN</td>\n",
       "      <td>NaN</td>\n",
       "      <td>NaN</td>\n",
       "      <td>NaN</td>\n",
       "      <td>NaN</td>\n",
       "      <td>NaN</td>\n",
       "      <td>NaN</td>\n",
       "      <td>NaN</td>\n",
       "    </tr>\n",
       "    <tr>\n",
       "      <th>2</th>\n",
       "      <td>2</td>\n",
       "      <td>MJ0351YNG9MZXA</td>\n",
       "      <td>Hitachi HDS5C3030ALA630</td>\n",
       "      <td>3000592982016</td>\n",
       "      <td>3000592982016</td>\n",
       "      <td>0</td>\n",
       "      <td>100.0</td>\n",
       "      <td>1.0</td>\n",
       "      <td>134.0</td>\n",
       "      <td>112.0</td>\n",
       "      <td>...</td>\n",
       "      <td>NaN</td>\n",
       "      <td>NaN</td>\n",
       "      <td>NaN</td>\n",
       "      <td>NaN</td>\n",
       "      <td>NaN</td>\n",
       "      <td>NaN</td>\n",
       "      <td>NaN</td>\n",
       "      <td>NaN</td>\n",
       "      <td>NaN</td>\n",
       "      <td>NaN</td>\n",
       "    </tr>\n",
       "    <tr>\n",
       "      <th>3</th>\n",
       "      <td>3</td>\n",
       "      <td>ZA11NHSN</td>\n",
       "      <td>ST8000DM002</td>\n",
       "      <td>8001563222016</td>\n",
       "      <td>8001563222016</td>\n",
       "      <td>0</td>\n",
       "      <td>100.0</td>\n",
       "      <td>244007456.0</td>\n",
       "      <td>NaN</td>\n",
       "      <td>NaN</td>\n",
       "      <td>...</td>\n",
       "      <td>100.0</td>\n",
       "      <td>1.466534e+11</td>\n",
       "      <td>NaN</td>\n",
       "      <td>NaN</td>\n",
       "      <td>NaN</td>\n",
       "      <td>NaN</td>\n",
       "      <td>NaN</td>\n",
       "      <td>NaN</td>\n",
       "      <td>NaN</td>\n",
       "      <td>NaN</td>\n",
       "    </tr>\n",
       "    <tr>\n",
       "      <th>4</th>\n",
       "      <td>4</td>\n",
       "      <td>MJ1311YNG2ZSEA</td>\n",
       "      <td>Hitachi HDS5C3030ALA630</td>\n",
       "      <td>3000592982016</td>\n",
       "      <td>3000592982016</td>\n",
       "      <td>0</td>\n",
       "      <td>100.0</td>\n",
       "      <td>1245191.0</td>\n",
       "      <td>100.0</td>\n",
       "      <td>0.0</td>\n",
       "      <td>...</td>\n",
       "      <td>NaN</td>\n",
       "      <td>NaN</td>\n",
       "      <td>NaN</td>\n",
       "      <td>NaN</td>\n",
       "      <td>NaN</td>\n",
       "      <td>NaN</td>\n",
       "      <td>NaN</td>\n",
       "      <td>NaN</td>\n",
       "      <td>NaN</td>\n",
       "      <td>NaN</td>\n",
       "    </tr>\n",
       "  </tbody>\n",
       "</table>\n",
       "<p>5 rows × 88 columns</p>\n",
       "</div>"
      ],
      "text/plain": [
       "   Unnamed: 0   serial_number                    model  capacity_bytes  \\\n",
       "0           0  PL1311LAG1SJAA  Hitachi HDS5C4040ALE630   4000787030016   \n",
       "1           1        Z305KB36              ST4000DM000   4000787030016   \n",
       "2           2  MJ0351YNG9MZXA  Hitachi HDS5C3030ALA630   3000592982016   \n",
       "3           3        ZA11NHSN              ST8000DM002   8001563222016   \n",
       "4           4  MJ1311YNG2ZSEA  Hitachi HDS5C3030ALA630   3000592982016   \n",
       "\n",
       "   max(capacity_bytes)  max(failure)  max(smart_1_normalized)  \\\n",
       "0        4000787030016             0                    100.0   \n",
       "1        4000787030016             0                    120.0   \n",
       "2        3000592982016             0                    100.0   \n",
       "3        8001563222016             0                    100.0   \n",
       "4        3000592982016             0                    100.0   \n",
       "\n",
       "   max(smart_1_raw)  max(smart_2_normalized)  max(smart_2_raw)  ...  \\\n",
       "0               1.0                    135.0              99.0  ...   \n",
       "1       243787512.0                      NaN               NaN  ...   \n",
       "2               1.0                    134.0             112.0  ...   \n",
       "3       244007456.0                      NaN               NaN  ...   \n",
       "4         1245191.0                    100.0               0.0  ...   \n",
       "\n",
       "   max(smart_242_normalized)  max(smart_242_raw)  max(smart_250_normalized)  \\\n",
       "0                        NaN                 NaN                        NaN   \n",
       "1                      100.0        1.522021e+11                        NaN   \n",
       "2                        NaN                 NaN                        NaN   \n",
       "3                      100.0        1.466534e+11                        NaN   \n",
       "4                        NaN                 NaN                        NaN   \n",
       "\n",
       "   max(smart_250_raw)  max(smart_251_normalized)  max(smart_251_raw)  \\\n",
       "0                 NaN                        NaN                 NaN   \n",
       "1                 NaN                        NaN                 NaN   \n",
       "2                 NaN                        NaN                 NaN   \n",
       "3                 NaN                        NaN                 NaN   \n",
       "4                 NaN                        NaN                 NaN   \n",
       "\n",
       "   max(smart_252_normalized)  max(smart_252_raw)  max(smart_254_normalized)  \\\n",
       "0                        NaN                 NaN                        NaN   \n",
       "1                        NaN                 NaN                        NaN   \n",
       "2                        NaN                 NaN                        NaN   \n",
       "3                        NaN                 NaN                        NaN   \n",
       "4                        NaN                 NaN                        NaN   \n",
       "\n",
       "   max(smart_254_raw)  \n",
       "0                 NaN  \n",
       "1                 NaN  \n",
       "2                 NaN  \n",
       "3                 NaN  \n",
       "4                 NaN  \n",
       "\n",
       "[5 rows x 88 columns]"
      ]
     },
     "execution_count": 4,
     "metadata": {},
     "output_type": "execute_result"
    }
   ],
   "source": [
    "df.head()"
   ]
  },
  {
   "cell_type": "code",
   "execution_count": 5,
   "metadata": {},
   "outputs": [
    {
     "data": {
      "text/plain": [
       "(169073, 88)"
      ]
     },
     "execution_count": 5,
     "metadata": {},
     "output_type": "execute_result"
    }
   ],
   "source": [
    "df.shape"
   ]
  },
  {
   "cell_type": "code",
   "execution_count": 6,
   "metadata": {},
   "outputs": [],
   "source": [
    "df = drop_normalized(df)"
   ]
  },
  {
   "cell_type": "code",
   "execution_count": 7,
   "metadata": {},
   "outputs": [
    {
     "data": {
      "text/plain": [
       "(169073, 47)"
      ]
     },
     "execution_count": 7,
     "metadata": {},
     "output_type": "execute_result"
    }
   ],
   "source": [
    "df.shape"
   ]
  },
  {
   "cell_type": "code",
   "execution_count": 8,
   "metadata": {},
   "outputs": [
    {
     "data": {
      "text/plain": [
       "Index(['Unnamed: 0', 'serial_number', 'model', 'capacity_bytes',\n",
       "       'max(capacity_bytes)', 'max(failure)', 'max(smart_1_raw)',\n",
       "       'max(smart_2_raw)', 'max(smart_3_raw)', 'max(smart_4_raw)',\n",
       "       'max(smart_5_raw)', 'max(smart_7_raw)', 'max(smart_8_raw)',\n",
       "       'max(smart_9_raw)', 'max(smart_10_raw)', 'max(smart_11_raw)',\n",
       "       'max(smart_12_raw)', 'max(smart_22_raw)', 'max(smart_183_raw)',\n",
       "       'max(smart_184_raw)', 'max(smart_187_raw)', 'max(smart_188_raw)',\n",
       "       'max(smart_189_raw)', 'max(smart_190_raw)', 'max(smart_191_raw)',\n",
       "       'max(smart_192_raw)', 'max(smart_193_raw)', 'max(smart_194_raw)',\n",
       "       'max(smart_195_raw)', 'max(smart_196_raw)', 'max(smart_197_raw)',\n",
       "       'max(smart_198_raw)', 'max(smart_199_raw)', 'max(smart_200_raw)',\n",
       "       'max(smart_220_raw)', 'max(smart_222_raw)', 'max(smart_223_raw)',\n",
       "       'max(smart_224_raw)', 'max(smart_225_raw)', 'max(smart_226_raw)',\n",
       "       'max(smart_240_raw)', 'max(smart_241_raw)', 'max(smart_242_raw)',\n",
       "       'max(smart_250_raw)', 'max(smart_251_raw)', 'max(smart_252_raw)',\n",
       "       'max(smart_254_raw)'],\n",
       "      dtype='object')"
      ]
     },
     "execution_count": 8,
     "metadata": {},
     "output_type": "execute_result"
    }
   ],
   "source": [
    "df.columns"
   ]
  },
  {
   "cell_type": "code",
   "execution_count": 9,
   "metadata": {},
   "outputs": [],
   "source": [
    "def narrow_the_search(df):\n",
    "    df = df.drop(columns={\n",
    "        # vendor specific features\n",
    "        'max(smart_1_raw)','max(smart_7_raw)',\n",
    "        \n",
    "        # value is dependant on changes, thus aggregation irrelevant\n",
    "        'max(smart_2_raw)','max(smart_8_raw)',\n",
    "        \n",
    "        # irrelevant features due to hard drives not routinely powering off\n",
    "        'max(smart_4_raw)','max(smart_12_raw)','max(smart_190_raw)',\n",
    "        'max(smart_192_raw)','max(smart_226_raw)','max(smart_240_raw)',\n",
    "        'max(smart_241_raw)','max(smart_242_raw)',\n",
    "        \n",
    "        # values are mostly null\n",
    "        'max(smart_250_raw)','max(smart_251_raw)',\n",
    "        'max(smart_252_raw)','max(smart_254_raw)',\n",
    "    })\n",
    "    \n",
    "    return df"
   ]
  },
  {
   "cell_type": "code",
   "execution_count": 10,
   "metadata": {},
   "outputs": [
    {
     "data": {
      "text/plain": [
       "(169073, 47)"
      ]
     },
     "execution_count": 10,
     "metadata": {},
     "output_type": "execute_result"
    }
   ],
   "source": [
    "df.shape"
   ]
  },
  {
   "cell_type": "code",
   "execution_count": 11,
   "metadata": {},
   "outputs": [],
   "source": [
    "df = narrow_the_search(df)"
   ]
  },
  {
   "cell_type": "code",
   "execution_count": 12,
   "metadata": {},
   "outputs": [
    {
     "data": {
      "text/plain": [
       "(169073, 31)"
      ]
     },
     "execution_count": 12,
     "metadata": {},
     "output_type": "execute_result"
    }
   ],
   "source": [
    "df.shape"
   ]
  },
  {
   "cell_type": "markdown",
   "metadata": {},
   "source": [
    "# Prepare"
   ]
  },
  {
   "cell_type": "code",
   "execution_count": 13,
   "metadata": {},
   "outputs": [
    {
     "data": {
      "text/plain": [
       "Index(['Unnamed: 0', 'serial_number', 'model', 'capacity_bytes',\n",
       "       'max(capacity_bytes)', 'max(failure)', 'max(smart_3_raw)',\n",
       "       'max(smart_5_raw)', 'max(smart_9_raw)', 'max(smart_10_raw)',\n",
       "       'max(smart_11_raw)', 'max(smart_22_raw)', 'max(smart_183_raw)',\n",
       "       'max(smart_184_raw)', 'max(smart_187_raw)', 'max(smart_188_raw)',\n",
       "       'max(smart_189_raw)', 'max(smart_191_raw)', 'max(smart_193_raw)',\n",
       "       'max(smart_194_raw)', 'max(smart_195_raw)', 'max(smart_196_raw)',\n",
       "       'max(smart_197_raw)', 'max(smart_198_raw)', 'max(smart_199_raw)',\n",
       "       'max(smart_200_raw)', 'max(smart_220_raw)', 'max(smart_222_raw)',\n",
       "       'max(smart_223_raw)', 'max(smart_224_raw)', 'max(smart_225_raw)'],\n",
       "      dtype='object')"
      ]
     },
     "execution_count": 13,
     "metadata": {},
     "output_type": "execute_result"
    }
   ],
   "source": [
    "df.columns"
   ]
  },
  {
   "cell_type": "code",
   "execution_count": 14,
   "metadata": {},
   "outputs": [],
   "source": [
    "df = prepare.prepare(df)"
   ]
  },
  {
   "cell_type": "code",
   "execution_count": 15,
   "metadata": {},
   "outputs": [],
   "source": [
    "df = prepare.unique(df)"
   ]
  },
  {
   "cell_type": "code",
   "execution_count": 16,
   "metadata": {},
   "outputs": [],
   "source": [
    "df = prepare.treat_nulls(df)"
   ]
  },
  {
   "cell_type": "code",
   "execution_count": 17,
   "metadata": {},
   "outputs": [],
   "source": [
    "df = explore.old_or_fail(df)"
   ]
  },
  {
   "cell_type": "code",
   "execution_count": 18,
   "metadata": {},
   "outputs": [
    {
     "data": {
      "text/plain": [
       "Index(['serial_number', 'manufacturer', 'model', 'capacity_terabytes',\n",
       "       'failure', 'drive_age_in_years', 'reallocated_sectors_count',\n",
       "       'reported_uncorrectable_errors', 'command_timeout',\n",
       "       'current_pending_sector_count', 'uncorrectable_sector_count'],\n",
       "      dtype='object')"
      ]
     },
     "execution_count": 18,
     "metadata": {},
     "output_type": "execute_result"
    }
   ],
   "source": [
    "df.columns"
   ]
  },
  {
   "cell_type": "code",
   "execution_count": null,
   "metadata": {},
   "outputs": [],
   "source": []
  }
 ],
 "metadata": {
  "kernelspec": {
   "display_name": "Python 3",
   "language": "python",
   "name": "python3"
  },
  "language_info": {
   "codemirror_mode": {
    "name": "ipython",
    "version": 3
   },
   "file_extension": ".py",
   "mimetype": "text/x-python",
   "name": "python",
   "nbconvert_exporter": "python",
   "pygments_lexer": "ipython3",
   "version": "3.7.3"
  }
 },
 "nbformat": 4,
 "nbformat_minor": 2
}
