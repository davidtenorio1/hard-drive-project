{
 "cells": [
  {
   "cell_type": "code",
   "execution_count": 1,
   "metadata": {},
   "outputs": [],
   "source": [
    "# spark libraries\n",
    "import pyspark\n",
    "from pyspark.sql.functions import max\n",
    "\n",
    "# data wrangling\n",
    "import pandas as pd\n",
    "import numpy as np"
   ]
  },
  {
   "cell_type": "markdown",
   "metadata": {},
   "source": [
    "## Acquire"
   ]
  },
  {
   "cell_type": "markdown",
   "metadata": {},
   "source": [
    "#### Use spark! "
   ]
  },
  {
   "cell_type": "code",
   "execution_count": 2,
   "metadata": {},
   "outputs": [],
   "source": [
    "# create local spark enviroment\n",
    "spark = pyspark.sql.SparkSession.builder.getOrCreate()"
   ]
  },
  {
   "cell_type": "markdown",
   "metadata": {},
   "source": [
    "#### Read in 2016 data"
   ]
  },
  {
   "cell_type": "code",
   "execution_count": 18,
   "metadata": {},
   "outputs": [],
   "source": [
    "df_2016 = spark.read.csv('../data/data_Q*_2016/*.csv', header=True, inferSchema=True)"
   ]
  },
  {
   "cell_type": "code",
   "execution_count": 19,
   "metadata": {},
   "outputs": [
    {
     "data": {
      "text/plain": [
       "95"
      ]
     },
     "execution_count": 19,
     "metadata": {},
     "output_type": "execute_result"
    }
   ],
   "source": [
    "len(df_2016.columns)"
   ]
  },
  {
   "cell_type": "markdown",
   "metadata": {},
   "source": [
    "#### Read in 2017 data"
   ]
  },
  {
   "cell_type": "code",
   "execution_count": 21,
   "metadata": {},
   "outputs": [],
   "source": [
    "df_2017 = spark.read.csv('../data/data_Q*_2017/*.csv', header=True, inferSchema=True)"
   ]
  },
  {
   "cell_type": "code",
   "execution_count": 22,
   "metadata": {},
   "outputs": [
    {
     "data": {
      "text/plain": [
       "95"
      ]
     },
     "execution_count": 22,
     "metadata": {},
     "output_type": "execute_result"
    }
   ],
   "source": [
    "len(df_2017.columns)"
   ]
  },
  {
   "cell_type": "markdown",
   "metadata": {},
   "source": [
    "#### Read in 2018 data"
   ]
  },
  {
   "cell_type": "code",
   "execution_count": 23,
   "metadata": {},
   "outputs": [],
   "source": [
    "# read quarters in separately since they have different column lengths\n",
    "df_2018_1 = spark.read.csv('../data/data_Q1_2018/*.csv', header=True, inferSchema=True)\n",
    "df_2018_2 = spark.read.csv('../data/data_Q2_2018/*.csv', header=True, inferSchema=True)\n",
    "df_2018_3 = spark.read.csv('../data/data_Q3_2018/*.csv', header=True, inferSchema=True)\n",
    "df_2018_4 = spark.read.csv('../data/data_Q4_2018/*.csv', header=True, inferSchema=True)"
   ]
  },
  {
   "cell_type": "code",
   "execution_count": 24,
   "metadata": {},
   "outputs": [
    {
     "name": "stdout",
     "output_type": "stream",
     "text": [
      "105\n",
      "109\n",
      "109\n",
      "129\n"
     ]
    }
   ],
   "source": [
    "for df in [df_2018_1,df_2018_2,df_2018_3,df_2018_4]:\n",
    "    print(len(df.columns))"
   ]
  },
  {
   "cell_type": "markdown",
   "metadata": {},
   "source": [
    "#### Read in 2019 data"
   ]
  },
  {
   "cell_type": "code",
   "execution_count": 34,
   "metadata": {},
   "outputs": [],
   "source": [
    "df_2019 = spark.read.csv('../data/data_Q*_2019/*.csv', header=True, inferSchema=True)"
   ]
  },
  {
   "cell_type": "code",
   "execution_count": 35,
   "metadata": {},
   "outputs": [
    {
     "data": {
      "text/plain": [
       "129"
      ]
     },
     "execution_count": 35,
     "metadata": {},
     "output_type": "execute_result"
    }
   ],
   "source": [
    "len(df_2019.columns)"
   ]
  },
  {
   "cell_type": "markdown",
   "metadata": {},
   "source": [
    "#### Limit all dataframe to the original 95 columns"
   ]
  },
  {
   "cell_type": "code",
   "execution_count": 36,
   "metadata": {},
   "outputs": [],
   "source": [
    "cols_2016 = df_2016.columns\n",
    "cols_2019 = df_2019.columns\n",
    "remove_traits_list = list(set(cols_2019).difference(cols_2016))"
   ]
  },
  {
   "cell_type": "code",
   "execution_count": 37,
   "metadata": {},
   "outputs": [],
   "source": [
    "for trait in remove_traits_list:\n",
    "    df_2018_1 = df_2018_1.drop(trait)\n",
    "    df_2018_2 = df_2018_2.drop(trait)\n",
    "    df_2018_3 = df_2018_3.drop(trait)\n",
    "    df_2018_4 = df_2018_4.drop(trait)\n",
    "    df_2019 = df_2019.drop(trait)"
   ]
  },
  {
   "cell_type": "code",
   "execution_count": 38,
   "metadata": {},
   "outputs": [
    {
     "name": "stdout",
     "output_type": "stream",
     "text": [
      "95\n",
      "95\n",
      "95\n",
      "95\n",
      "95\n",
      "95\n",
      "95\n"
     ]
    }
   ],
   "source": [
    "for df in [df_2016, df_2017, df_2018_1,df_2018_2,df_2018_3,df_2018_4, df_2019]:\n",
    "    print(len(df.columns))"
   ]
  },
  {
   "cell_type": "markdown",
   "metadata": {},
   "source": [
    "#### Combine all dataframes together"
   ]
  },
  {
   "cell_type": "code",
   "execution_count": 39,
   "metadata": {},
   "outputs": [],
   "source": [
    "df_raw = df_2016.union(df_2017).union(df_2018_1).union(df_2018_2).union(df_2018_3).union(df_2018_4).union(df_2019)"
   ]
  },
  {
   "cell_type": "code",
   "execution_count": 63,
   "metadata": {},
   "outputs": [
    {
     "data": {
      "text/plain": [
       "(95, 121390247)"
      ]
     },
     "execution_count": 63,
     "metadata": {},
     "output_type": "execute_result"
    }
   ],
   "source": [
    "len(df_raw.columns), df_raw.count()"
   ]
  },
  {
   "cell_type": "code",
   "execution_count": 47,
   "metadata": {},
   "outputs": [
    {
     "name": "stdout",
     "output_type": "stream",
     "text": [
      "root\n",
      " |-- serial_number: string (nullable = true)\n",
      " |-- model: string (nullable = true)\n",
      " |-- capacity_bytes: long (nullable = true)\n",
      " |-- failure: integer (nullable = true)\n",
      " |-- smart_9_raw: integer (nullable = true)\n",
      " |-- smart_5_raw: integer (nullable = true)\n",
      " |-- smart_187_raw: integer (nullable = true)\n",
      " |-- smart_188_raw: long (nullable = true)\n",
      " |-- smart_197_raw: integer (nullable = true)\n",
      " |-- smart_198_raw: integer (nullable = true)\n",
      "\n"
     ]
    }
   ],
   "source": [
    "df_raw.select('serial_number', 'model', 'capacity_bytes',\n",
    "             'failure', 'smart_9_raw', 'smart_5_raw','smart_187_raw',\n",
    "             'smart_188_raw', 'smart_197_raw', 'smart_198_raw').printSchema()"
   ]
  },
  {
   "cell_type": "markdown",
   "metadata": {},
   "source": [
    "#### Extract max values from top five SMART attributes"
   ]
  },
  {
   "cell_type": "code",
   "execution_count": 48,
   "metadata": {},
   "outputs": [],
   "source": [
    "df = df_raw.groupby('serial_number', 'model', 'capacity_bytes'\n",
    "                   ).agg(max('failure'), max('smart_9_raw'), max('smart_5_raw'), max('smart_187_raw'),\n",
    "                        max('smart_188_raw'), max('smart_197_raw'), max('smart_198_raw')\n",
    "                        )"
   ]
  },
  {
   "cell_type": "code",
   "execution_count": 65,
   "metadata": {},
   "outputs": [
    {
     "data": {
      "text/plain": [
       "(9, 169073)"
      ]
     },
     "execution_count": 65,
     "metadata": {},
     "output_type": "execute_result"
    }
   ],
   "source": [
    "len(df.columns), df.count()"
   ]
  },
  {
   "cell_type": "markdown",
   "metadata": {},
   "source": [
    "#### Transform to pandas"
   ]
  },
  {
   "cell_type": "code",
   "execution_count": 49,
   "metadata": {},
   "outputs": [],
   "source": [
    "df = df.select(\"*\").toPandas()"
   ]
  },
  {
   "cell_type": "markdown",
   "metadata": {},
   "source": [
    "#### Save dfs as csv for easy access"
   ]
  },
  {
   "cell_type": "code",
   "execution_count": 50,
   "metadata": {},
   "outputs": [],
   "source": [
    "df.to_csv(r'./hard_drives_smart_5.csv')"
   ]
  },
  {
   "cell_type": "code",
   "execution_count": 62,
   "metadata": {},
   "outputs": [],
   "source": [
    "df = pd.read_csv('hard_drives_smart_5.csv').drop('Unnamed: 0',axis=1)"
   ]
  },
  {
   "cell_type": "markdown",
   "metadata": {},
   "source": [
    "> Will now code everying in pandas! "
   ]
  },
  {
   "cell_type": "code",
   "execution_count": 63,
   "metadata": {},
   "outputs": [
    {
     "name": "stdout",
     "output_type": "stream",
     "text": [
      "<class 'pandas.core.frame.DataFrame'>\n",
      "RangeIndex: 169073 entries, 0 to 169072\n",
      "Data columns (total 10 columns):\n",
      "serial_number         169072 non-null object\n",
      "model                 169073 non-null object\n",
      "capacity_bytes        169073 non-null int64\n",
      "max(failure)          169073 non-null int64\n",
      "max(smart_9_raw)      161975 non-null float64\n",
      "max(smart_5_raw)      161851 non-null float64\n",
      "max(smart_187_raw)    104189 non-null float64\n",
      "max(smart_188_raw)    104179 non-null float64\n",
      "max(smart_197_raw)    161841 non-null float64\n",
      "max(smart_198_raw)    161841 non-null float64\n",
      "dtypes: float64(6), int64(2), object(2)\n",
      "memory usage: 12.9+ MB\n"
     ]
    }
   ],
   "source": [
    "df.info()"
   ]
  },
  {
   "cell_type": "code",
   "execution_count": 68,
   "metadata": {},
   "outputs": [
    {
     "data": {
      "text/plain": [
       "serial_number                        1\n",
       "model                                0\n",
       "capacity_gigabytes                   0\n",
       "failure                              0\n",
       "drive_age_in_years                7098\n",
       "reallocated_sectors_count         7222\n",
       "reported_uncorrectable_errors    64884\n",
       "command_timeout                  64894\n",
       "current_pending_sector_count      7232\n",
       "uncorrectable_sector_count        7232\n",
       "dtype: int64"
      ]
     },
     "execution_count": 68,
     "metadata": {},
     "output_type": "execute_result"
    }
   ],
   "source": [
    "df.isnull().sum()"
   ]
  },
  {
   "cell_type": "code",
   "execution_count": 64,
   "metadata": {},
   "outputs": [
    {
     "data": {
      "text/html": [
       "<div>\n",
       "<style scoped>\n",
       "    .dataframe tbody tr th:only-of-type {\n",
       "        vertical-align: middle;\n",
       "    }\n",
       "\n",
       "    .dataframe tbody tr th {\n",
       "        vertical-align: top;\n",
       "    }\n",
       "\n",
       "    .dataframe thead th {\n",
       "        text-align: right;\n",
       "    }\n",
       "</style>\n",
       "<table border=\"1\" class=\"dataframe\">\n",
       "  <thead>\n",
       "    <tr style=\"text-align: right;\">\n",
       "      <th></th>\n",
       "      <th>serial_number</th>\n",
       "      <th>model</th>\n",
       "      <th>capacity_bytes</th>\n",
       "      <th>max(failure)</th>\n",
       "      <th>max(smart_9_raw)</th>\n",
       "      <th>max(smart_5_raw)</th>\n",
       "      <th>max(smart_187_raw)</th>\n",
       "      <th>max(smart_188_raw)</th>\n",
       "      <th>max(smart_197_raw)</th>\n",
       "      <th>max(smart_198_raw)</th>\n",
       "    </tr>\n",
       "  </thead>\n",
       "  <tbody>\n",
       "    <tr>\n",
       "      <th>0</th>\n",
       "      <td>PL1311LAG1SJAA</td>\n",
       "      <td>Hitachi HDS5C4040ALE630</td>\n",
       "      <td>4000787030016</td>\n",
       "      <td>0</td>\n",
       "      <td>43819.0</td>\n",
       "      <td>0.0</td>\n",
       "      <td>NaN</td>\n",
       "      <td>NaN</td>\n",
       "      <td>0.0</td>\n",
       "      <td>0.0</td>\n",
       "    </tr>\n",
       "    <tr>\n",
       "      <th>1</th>\n",
       "      <td>Z305KB36</td>\n",
       "      <td>ST4000DM000</td>\n",
       "      <td>4000787030016</td>\n",
       "      <td>0</td>\n",
       "      <td>31045.0</td>\n",
       "      <td>0.0</td>\n",
       "      <td>0.0</td>\n",
       "      <td>0.0</td>\n",
       "      <td>0.0</td>\n",
       "      <td>0.0</td>\n",
       "    </tr>\n",
       "    <tr>\n",
       "      <th>2</th>\n",
       "      <td>MJ0351YNG9MZXA</td>\n",
       "      <td>Hitachi HDS5C3030ALA630</td>\n",
       "      <td>3000592982016</td>\n",
       "      <td>0</td>\n",
       "      <td>41668.0</td>\n",
       "      <td>0.0</td>\n",
       "      <td>NaN</td>\n",
       "      <td>NaN</td>\n",
       "      <td>0.0</td>\n",
       "      <td>0.0</td>\n",
       "    </tr>\n",
       "    <tr>\n",
       "      <th>3</th>\n",
       "      <td>ZA11NHSN</td>\n",
       "      <td>ST8000DM002</td>\n",
       "      <td>8001563222016</td>\n",
       "      <td>0</td>\n",
       "      <td>26284.0</td>\n",
       "      <td>0.0</td>\n",
       "      <td>0.0</td>\n",
       "      <td>0.0</td>\n",
       "      <td>0.0</td>\n",
       "      <td>0.0</td>\n",
       "    </tr>\n",
       "    <tr>\n",
       "      <th>4</th>\n",
       "      <td>MJ1311YNG2ZSEA</td>\n",
       "      <td>Hitachi HDS5C3030ALA630</td>\n",
       "      <td>3000592982016</td>\n",
       "      <td>0</td>\n",
       "      <td>47994.0</td>\n",
       "      <td>0.0</td>\n",
       "      <td>NaN</td>\n",
       "      <td>NaN</td>\n",
       "      <td>0.0</td>\n",
       "      <td>0.0</td>\n",
       "    </tr>\n",
       "  </tbody>\n",
       "</table>\n",
       "</div>"
      ],
      "text/plain": [
       "    serial_number                    model  capacity_bytes  max(failure)  \\\n",
       "0  PL1311LAG1SJAA  Hitachi HDS5C4040ALE630   4000787030016             0   \n",
       "1        Z305KB36              ST4000DM000   4000787030016             0   \n",
       "2  MJ0351YNG9MZXA  Hitachi HDS5C3030ALA630   3000592982016             0   \n",
       "3        ZA11NHSN              ST8000DM002   8001563222016             0   \n",
       "4  MJ1311YNG2ZSEA  Hitachi HDS5C3030ALA630   3000592982016             0   \n",
       "\n",
       "   max(smart_9_raw)  max(smart_5_raw)  max(smart_187_raw)  max(smart_188_raw)  \\\n",
       "0           43819.0               0.0                 NaN                 NaN   \n",
       "1           31045.0               0.0                 0.0                 0.0   \n",
       "2           41668.0               0.0                 NaN                 NaN   \n",
       "3           26284.0               0.0                 0.0                 0.0   \n",
       "4           47994.0               0.0                 NaN                 NaN   \n",
       "\n",
       "   max(smart_197_raw)  max(smart_198_raw)  \n",
       "0                 0.0                 0.0  \n",
       "1                 0.0                 0.0  \n",
       "2                 0.0                 0.0  \n",
       "3                 0.0                 0.0  \n",
       "4                 0.0                 0.0  "
      ]
     },
     "execution_count": 64,
     "metadata": {},
     "output_type": "execute_result"
    }
   ],
   "source": [
    "df.head()"
   ]
  },
  {
   "cell_type": "code",
   "execution_count": 65,
   "metadata": {},
   "outputs": [],
   "source": [
    "import pandas as pd\n",
    "import numpy as np\n",
    "import re \n",
    "\n",
    "\n",
    "def prepare(df):\n",
    "    \n",
    "    # Convert capacity column from bytes to gigabytes\n",
    "    df['capacity_bytes'] = round((df['capacity_bytes']/ 1_000_000_000),1)\n",
    "\n",
    "    # Convert power hours to years\n",
    "    df['max(smart_9_raw)'] = round((df['max(smart_9_raw)']/ 8760),1)\n",
    "\n",
    "    # Drop unnamed column\n",
    "#     df.drop(columns=('Unnamed: 0'), inplace = True)\n",
    "    \n",
    "    # Rename columns appropriately\n",
    "    df.rename(columns={'capacity_bytes':'capacity_gigabytes','max(failure)':'failure','max(smart_9_raw)':'drive_age_in_years','max(smart_5_raw)':'reallocated_sectors_count','max(smart_187_raw)':'reported_uncorrectable_errors','max(smart_188_raw)':'command_timeout','max(smart_197_raw)':'current_pending_sector_count','max(smart_198_raw)':'uncorrectable_sector_count'}, inplace = True)\n",
    "    \n",
    "    return df"
   ]
  },
  {
   "cell_type": "code",
   "execution_count": 67,
   "metadata": {},
   "outputs": [
    {
     "data": {
      "text/html": [
       "<div>\n",
       "<style scoped>\n",
       "    .dataframe tbody tr th:only-of-type {\n",
       "        vertical-align: middle;\n",
       "    }\n",
       "\n",
       "    .dataframe tbody tr th {\n",
       "        vertical-align: top;\n",
       "    }\n",
       "\n",
       "    .dataframe thead th {\n",
       "        text-align: right;\n",
       "    }\n",
       "</style>\n",
       "<table border=\"1\" class=\"dataframe\">\n",
       "  <thead>\n",
       "    <tr style=\"text-align: right;\">\n",
       "      <th></th>\n",
       "      <th>serial_number</th>\n",
       "      <th>model</th>\n",
       "      <th>capacity_gigabytes</th>\n",
       "      <th>failure</th>\n",
       "      <th>drive_age_in_years</th>\n",
       "      <th>reallocated_sectors_count</th>\n",
       "      <th>reported_uncorrectable_errors</th>\n",
       "      <th>command_timeout</th>\n",
       "      <th>current_pending_sector_count</th>\n",
       "      <th>uncorrectable_sector_count</th>\n",
       "    </tr>\n",
       "  </thead>\n",
       "  <tbody>\n",
       "    <tr>\n",
       "      <th>0</th>\n",
       "      <td>PL1311LAG1SJAA</td>\n",
       "      <td>Hitachi HDS5C4040ALE630</td>\n",
       "      <td>4000.8</td>\n",
       "      <td>0</td>\n",
       "      <td>5.0</td>\n",
       "      <td>0.0</td>\n",
       "      <td>NaN</td>\n",
       "      <td>NaN</td>\n",
       "      <td>0.0</td>\n",
       "      <td>0.0</td>\n",
       "    </tr>\n",
       "    <tr>\n",
       "      <th>1</th>\n",
       "      <td>Z305KB36</td>\n",
       "      <td>ST4000DM000</td>\n",
       "      <td>4000.8</td>\n",
       "      <td>0</td>\n",
       "      <td>3.5</td>\n",
       "      <td>0.0</td>\n",
       "      <td>0.0</td>\n",
       "      <td>0.0</td>\n",
       "      <td>0.0</td>\n",
       "      <td>0.0</td>\n",
       "    </tr>\n",
       "    <tr>\n",
       "      <th>2</th>\n",
       "      <td>MJ0351YNG9MZXA</td>\n",
       "      <td>Hitachi HDS5C3030ALA630</td>\n",
       "      <td>3000.6</td>\n",
       "      <td>0</td>\n",
       "      <td>4.8</td>\n",
       "      <td>0.0</td>\n",
       "      <td>NaN</td>\n",
       "      <td>NaN</td>\n",
       "      <td>0.0</td>\n",
       "      <td>0.0</td>\n",
       "    </tr>\n",
       "    <tr>\n",
       "      <th>3</th>\n",
       "      <td>ZA11NHSN</td>\n",
       "      <td>ST8000DM002</td>\n",
       "      <td>8001.6</td>\n",
       "      <td>0</td>\n",
       "      <td>3.0</td>\n",
       "      <td>0.0</td>\n",
       "      <td>0.0</td>\n",
       "      <td>0.0</td>\n",
       "      <td>0.0</td>\n",
       "      <td>0.0</td>\n",
       "    </tr>\n",
       "    <tr>\n",
       "      <th>4</th>\n",
       "      <td>MJ1311YNG2ZSEA</td>\n",
       "      <td>Hitachi HDS5C3030ALA630</td>\n",
       "      <td>3000.6</td>\n",
       "      <td>0</td>\n",
       "      <td>5.5</td>\n",
       "      <td>0.0</td>\n",
       "      <td>NaN</td>\n",
       "      <td>NaN</td>\n",
       "      <td>0.0</td>\n",
       "      <td>0.0</td>\n",
       "    </tr>\n",
       "    <tr>\n",
       "      <th>...</th>\n",
       "      <td>...</td>\n",
       "      <td>...</td>\n",
       "      <td>...</td>\n",
       "      <td>...</td>\n",
       "      <td>...</td>\n",
       "      <td>...</td>\n",
       "      <td>...</td>\n",
       "      <td>...</td>\n",
       "      <td>...</td>\n",
       "      <td>...</td>\n",
       "    </tr>\n",
       "    <tr>\n",
       "      <th>169068</th>\n",
       "      <td>ZCH07T8J</td>\n",
       "      <td>ST12000NM0007</td>\n",
       "      <td>-0.0</td>\n",
       "      <td>0</td>\n",
       "      <td>NaN</td>\n",
       "      <td>NaN</td>\n",
       "      <td>NaN</td>\n",
       "      <td>NaN</td>\n",
       "      <td>NaN</td>\n",
       "      <td>NaN</td>\n",
       "    </tr>\n",
       "    <tr>\n",
       "      <th>169069</th>\n",
       "      <td>PL1331LAHDXS7H</td>\n",
       "      <td>HGST HMS5C4040BLE640</td>\n",
       "      <td>-0.0</td>\n",
       "      <td>0</td>\n",
       "      <td>NaN</td>\n",
       "      <td>NaN</td>\n",
       "      <td>NaN</td>\n",
       "      <td>NaN</td>\n",
       "      <td>NaN</td>\n",
       "      <td>NaN</td>\n",
       "    </tr>\n",
       "    <tr>\n",
       "      <th>169070</th>\n",
       "      <td>ZCH0CCWS</td>\n",
       "      <td>ST12000NM0007</td>\n",
       "      <td>-0.0</td>\n",
       "      <td>0</td>\n",
       "      <td>NaN</td>\n",
       "      <td>NaN</td>\n",
       "      <td>NaN</td>\n",
       "      <td>NaN</td>\n",
       "      <td>NaN</td>\n",
       "      <td>NaN</td>\n",
       "    </tr>\n",
       "    <tr>\n",
       "      <th>169071</th>\n",
       "      <td>ZJV2TH56</td>\n",
       "      <td>ST12000NM0007</td>\n",
       "      <td>-0.0</td>\n",
       "      <td>0</td>\n",
       "      <td>NaN</td>\n",
       "      <td>NaN</td>\n",
       "      <td>NaN</td>\n",
       "      <td>NaN</td>\n",
       "      <td>NaN</td>\n",
       "      <td>NaN</td>\n",
       "    </tr>\n",
       "    <tr>\n",
       "      <th>169072</th>\n",
       "      <td>ZJV2E0LW</td>\n",
       "      <td>ST12000NM0007</td>\n",
       "      <td>-0.0</td>\n",
       "      <td>0</td>\n",
       "      <td>NaN</td>\n",
       "      <td>NaN</td>\n",
       "      <td>NaN</td>\n",
       "      <td>NaN</td>\n",
       "      <td>NaN</td>\n",
       "      <td>NaN</td>\n",
       "    </tr>\n",
       "  </tbody>\n",
       "</table>\n",
       "<p>169073 rows × 10 columns</p>\n",
       "</div>"
      ],
      "text/plain": [
       "         serial_number                    model  capacity_gigabytes  failure  \\\n",
       "0       PL1311LAG1SJAA  Hitachi HDS5C4040ALE630              4000.8        0   \n",
       "1             Z305KB36              ST4000DM000              4000.8        0   \n",
       "2       MJ0351YNG9MZXA  Hitachi HDS5C3030ALA630              3000.6        0   \n",
       "3             ZA11NHSN              ST8000DM002              8001.6        0   \n",
       "4       MJ1311YNG2ZSEA  Hitachi HDS5C3030ALA630              3000.6        0   \n",
       "...                ...                      ...                 ...      ...   \n",
       "169068        ZCH07T8J            ST12000NM0007                -0.0        0   \n",
       "169069  PL1331LAHDXS7H     HGST HMS5C4040BLE640                -0.0        0   \n",
       "169070        ZCH0CCWS            ST12000NM0007                -0.0        0   \n",
       "169071        ZJV2TH56            ST12000NM0007                -0.0        0   \n",
       "169072        ZJV2E0LW            ST12000NM0007                -0.0        0   \n",
       "\n",
       "        drive_age_in_years  reallocated_sectors_count  \\\n",
       "0                      5.0                        0.0   \n",
       "1                      3.5                        0.0   \n",
       "2                      4.8                        0.0   \n",
       "3                      3.0                        0.0   \n",
       "4                      5.5                        0.0   \n",
       "...                    ...                        ...   \n",
       "169068                 NaN                        NaN   \n",
       "169069                 NaN                        NaN   \n",
       "169070                 NaN                        NaN   \n",
       "169071                 NaN                        NaN   \n",
       "169072                 NaN                        NaN   \n",
       "\n",
       "        reported_uncorrectable_errors  command_timeout  \\\n",
       "0                                 NaN              NaN   \n",
       "1                                 0.0              0.0   \n",
       "2                                 NaN              NaN   \n",
       "3                                 0.0              0.0   \n",
       "4                                 NaN              NaN   \n",
       "...                               ...              ...   \n",
       "169068                            NaN              NaN   \n",
       "169069                            NaN              NaN   \n",
       "169070                            NaN              NaN   \n",
       "169071                            NaN              NaN   \n",
       "169072                            NaN              NaN   \n",
       "\n",
       "        current_pending_sector_count  uncorrectable_sector_count  \n",
       "0                                0.0                         0.0  \n",
       "1                                0.0                         0.0  \n",
       "2                                0.0                         0.0  \n",
       "3                                0.0                         0.0  \n",
       "4                                0.0                         0.0  \n",
       "...                              ...                         ...  \n",
       "169068                           NaN                         NaN  \n",
       "169069                           NaN                         NaN  \n",
       "169070                           NaN                         NaN  \n",
       "169071                           NaN                         NaN  \n",
       "169072                           NaN                         NaN  \n",
       "\n",
       "[169073 rows x 10 columns]"
      ]
     },
     "execution_count": 67,
     "metadata": {},
     "output_type": "execute_result"
    }
   ],
   "source": [
    "prepare(df)"
   ]
  },
  {
   "cell_type": "code",
   "execution_count": 69,
   "metadata": {},
   "outputs": [],
   "source": [
    "def get_manufacturer(model):\n",
    "    if model.startswith('ST'):\n",
    "        return 'seagate'\n",
    "    elif model.startswith('Sea'):\n",
    "        return 'seagate'\n",
    "    elif model.startswith('HGST'):\n",
    "        return 'hitachi'\n",
    "    elif model.startswith('Hit'):\n",
    "        return 'hitachi'\n",
    "    elif model.startswith('TOS'):\n",
    "        return 'toshiba'\n",
    "    elif model.startswith('DEL'):\n",
    "        return 'dell'\n",
    "    elif model.startswith('WD'):\n",
    "        return 'western digital'\n",
    "    elif model.startswith('Sam'):\n",
    "        return 'samsung'\n",
    "    elif model.startswith('SAM'):\n",
    "        return 'samsung'\n",
    "    else:\n",
    "        return 'unknown'"
   ]
  },
  {
   "cell_type": "code",
   "execution_count": 71,
   "metadata": {},
   "outputs": [],
   "source": [
    "df['manufacturer'] = df.model.apply(get_manufacturer)"
   ]
  },
  {
   "cell_type": "code",
   "execution_count": 73,
   "metadata": {},
   "outputs": [
    {
     "data": {
      "text/plain": [
       "seagate            110097\n",
       "hitachi             53473\n",
       "western digital      2826\n",
       "toshiba              2604\n",
       "dell                   60\n",
       "samsung                11\n",
       "unknown                 2\n",
       "Name: manufacturer, dtype: int64"
      ]
     },
     "execution_count": 73,
     "metadata": {},
     "output_type": "execute_result"
    }
   ],
   "source": [
    "df.manufacturer.value_counts()"
   ]
  },
  {
   "cell_type": "code",
   "execution_count": 75,
   "metadata": {},
   "outputs": [
    {
     "data": {
      "text/html": [
       "<div>\n",
       "<style scoped>\n",
       "    .dataframe tbody tr th:only-of-type {\n",
       "        vertical-align: middle;\n",
       "    }\n",
       "\n",
       "    .dataframe tbody tr th {\n",
       "        vertical-align: top;\n",
       "    }\n",
       "\n",
       "    .dataframe thead th {\n",
       "        text-align: right;\n",
       "    }\n",
       "</style>\n",
       "<table border=\"1\" class=\"dataframe\">\n",
       "  <thead>\n",
       "    <tr style=\"text-align: right;\">\n",
       "      <th></th>\n",
       "      <th>serial_number</th>\n",
       "      <th>model</th>\n",
       "      <th>capacity_gigabytes</th>\n",
       "      <th>failure</th>\n",
       "      <th>drive_age_in_years</th>\n",
       "      <th>reallocated_sectors_count</th>\n",
       "      <th>reported_uncorrectable_errors</th>\n",
       "      <th>command_timeout</th>\n",
       "      <th>current_pending_sector_count</th>\n",
       "      <th>uncorrectable_sector_count</th>\n",
       "      <th>manufacturer</th>\n",
       "    </tr>\n",
       "  </thead>\n",
       "  <tbody>\n",
       "    <tr>\n",
       "      <th>33381</th>\n",
       "      <td>0F112CC45</td>\n",
       "      <td>00MD00</td>\n",
       "      <td>4000.8</td>\n",
       "      <td>0</td>\n",
       "      <td>1.7</td>\n",
       "      <td>0.0</td>\n",
       "      <td>0.0</td>\n",
       "      <td>0.0</td>\n",
       "      <td>0.0</td>\n",
       "      <td>0.0</td>\n",
       "      <td>unknown</td>\n",
       "    </tr>\n",
       "    <tr>\n",
       "      <th>53781</th>\n",
       "      <td>NaN</td>\n",
       "      <td>00MD00</td>\n",
       "      <td>4000.8</td>\n",
       "      <td>0</td>\n",
       "      <td>1.7</td>\n",
       "      <td>0.0</td>\n",
       "      <td>0.0</td>\n",
       "      <td>1.0</td>\n",
       "      <td>0.0</td>\n",
       "      <td>0.0</td>\n",
       "      <td>unknown</td>\n",
       "    </tr>\n",
       "  </tbody>\n",
       "</table>\n",
       "</div>"
      ],
      "text/plain": [
       "      serial_number    model  capacity_gigabytes  failure  drive_age_in_years  \\\n",
       "33381     0F112CC45   00MD00              4000.8        0                 1.7   \n",
       "53781           NaN   00MD00              4000.8        0                 1.7   \n",
       "\n",
       "       reallocated_sectors_count  reported_uncorrectable_errors  \\\n",
       "33381                        0.0                            0.0   \n",
       "53781                        0.0                            0.0   \n",
       "\n",
       "       command_timeout  current_pending_sector_count  \\\n",
       "33381              0.0                           0.0   \n",
       "53781              1.0                           0.0   \n",
       "\n",
       "       uncorrectable_sector_count manufacturer  \n",
       "33381                         0.0      unknown  \n",
       "53781                         0.0      unknown  "
      ]
     },
     "execution_count": 75,
     "metadata": {},
     "output_type": "execute_result"
    }
   ],
   "source": [
    "df [df.manufacturer == 'unknown']"
   ]
  },
  {
   "cell_type": "code",
   "execution_count": 77,
   "metadata": {},
   "outputs": [
    {
     "data": {
      "text/plain": [
       "162031"
      ]
     },
     "execution_count": 77,
     "metadata": {},
     "output_type": "execute_result"
    }
   ],
   "source": [
    "len(df.serial_number.unique())"
   ]
  },
  {
   "cell_type": "code",
   "execution_count": 79,
   "metadata": {},
   "outputs": [
    {
     "data": {
      "text/plain": [
       "(169073, 11)"
      ]
     },
     "execution_count": 79,
     "metadata": {},
     "output_type": "execute_result"
    }
   ],
   "source": [
    "df.shape"
   ]
  },
  {
   "cell_type": "code",
   "execution_count": 81,
   "metadata": {},
   "outputs": [
    {
     "data": {
      "text/plain": [
       "serial_number                        1\n",
       "model                                0\n",
       "capacity_gigabytes                   0\n",
       "failure                              0\n",
       "drive_age_in_years                7098\n",
       "reallocated_sectors_count         7222\n",
       "reported_uncorrectable_errors    64884\n",
       "command_timeout                  64894\n",
       "current_pending_sector_count      7232\n",
       "uncorrectable_sector_count        7232\n",
       "manufacturer                         0\n",
       "dtype: int64"
      ]
     },
     "execution_count": 81,
     "metadata": {},
     "output_type": "execute_result"
    }
   ],
   "source": [
    "df.isnull().sum()"
   ]
  },
  {
   "cell_type": "code",
   "execution_count": 85,
   "metadata": {},
   "outputs": [
    {
     "data": {
      "text/html": [
       "<div>\n",
       "<style scoped>\n",
       "    .dataframe tbody tr th:only-of-type {\n",
       "        vertical-align: middle;\n",
       "    }\n",
       "\n",
       "    .dataframe tbody tr th {\n",
       "        vertical-align: top;\n",
       "    }\n",
       "\n",
       "    .dataframe thead th {\n",
       "        text-align: right;\n",
       "    }\n",
       "</style>\n",
       "<table border=\"1\" class=\"dataframe\">\n",
       "  <thead>\n",
       "    <tr style=\"text-align: right;\">\n",
       "      <th></th>\n",
       "      <th>serial_number</th>\n",
       "      <th>model</th>\n",
       "      <th>capacity_gigabytes</th>\n",
       "      <th>failure</th>\n",
       "      <th>drive_age_in_years</th>\n",
       "      <th>reallocated_sectors_count</th>\n",
       "      <th>reported_uncorrectable_errors</th>\n",
       "      <th>command_timeout</th>\n",
       "      <th>current_pending_sector_count</th>\n",
       "      <th>uncorrectable_sector_count</th>\n",
       "      <th>manufacturer</th>\n",
       "    </tr>\n",
       "  </thead>\n",
       "  <tbody>\n",
       "    <tr>\n",
       "      <th>11635</th>\n",
       "      <td>2AG8AVRY</td>\n",
       "      <td>HGST HUH721212ALN604</td>\n",
       "      <td>12000.1</td>\n",
       "      <td>0</td>\n",
       "      <td>0.1</td>\n",
       "      <td>0.0</td>\n",
       "      <td>NaN</td>\n",
       "      <td>NaN</td>\n",
       "      <td>0.0</td>\n",
       "      <td>0.0</td>\n",
       "      <td>hitachi</td>\n",
       "    </tr>\n",
       "    <tr>\n",
       "      <th>77725</th>\n",
       "      <td>2AG8AVRY</td>\n",
       "      <td>HGST HUH721212ALN604</td>\n",
       "      <td>-0.0</td>\n",
       "      <td>0</td>\n",
       "      <td>NaN</td>\n",
       "      <td>NaN</td>\n",
       "      <td>NaN</td>\n",
       "      <td>NaN</td>\n",
       "      <td>NaN</td>\n",
       "      <td>NaN</td>\n",
       "      <td>hitachi</td>\n",
       "    </tr>\n",
       "    <tr>\n",
       "      <th>140270</th>\n",
       "      <td>2AGGHJVY</td>\n",
       "      <td>HGST HUH721212ALN604</td>\n",
       "      <td>12000.1</td>\n",
       "      <td>0</td>\n",
       "      <td>0.1</td>\n",
       "      <td>0.0</td>\n",
       "      <td>NaN</td>\n",
       "      <td>NaN</td>\n",
       "      <td>0.0</td>\n",
       "      <td>0.0</td>\n",
       "      <td>hitachi</td>\n",
       "    </tr>\n",
       "    <tr>\n",
       "      <th>125080</th>\n",
       "      <td>2AGGHJVY</td>\n",
       "      <td>HGST HUH721212ALN604</td>\n",
       "      <td>-0.0</td>\n",
       "      <td>0</td>\n",
       "      <td>NaN</td>\n",
       "      <td>NaN</td>\n",
       "      <td>NaN</td>\n",
       "      <td>NaN</td>\n",
       "      <td>NaN</td>\n",
       "      <td>NaN</td>\n",
       "      <td>hitachi</td>\n",
       "    </tr>\n",
       "    <tr>\n",
       "      <th>97136</th>\n",
       "      <td>2AGGJT1Y</td>\n",
       "      <td>HGST HUH721212ALN604</td>\n",
       "      <td>12000.1</td>\n",
       "      <td>0</td>\n",
       "      <td>0.1</td>\n",
       "      <td>0.0</td>\n",
       "      <td>NaN</td>\n",
       "      <td>NaN</td>\n",
       "      <td>0.0</td>\n",
       "      <td>0.0</td>\n",
       "      <td>hitachi</td>\n",
       "    </tr>\n",
       "    <tr>\n",
       "      <th>...</th>\n",
       "      <td>...</td>\n",
       "      <td>...</td>\n",
       "      <td>...</td>\n",
       "      <td>...</td>\n",
       "      <td>...</td>\n",
       "      <td>...</td>\n",
       "      <td>...</td>\n",
       "      <td>...</td>\n",
       "      <td>...</td>\n",
       "      <td>...</td>\n",
       "      <td>...</td>\n",
       "    </tr>\n",
       "    <tr>\n",
       "      <th>114807</th>\n",
       "      <td>ZJV2SFDX</td>\n",
       "      <td>ST12000NM0007</td>\n",
       "      <td>12000.1</td>\n",
       "      <td>0</td>\n",
       "      <td>0.6</td>\n",
       "      <td>0.0</td>\n",
       "      <td>0.0</td>\n",
       "      <td>0.0</td>\n",
       "      <td>0.0</td>\n",
       "      <td>0.0</td>\n",
       "      <td>seagate</td>\n",
       "    </tr>\n",
       "    <tr>\n",
       "      <th>169071</th>\n",
       "      <td>ZJV2TH56</td>\n",
       "      <td>ST12000NM0007</td>\n",
       "      <td>-0.0</td>\n",
       "      <td>0</td>\n",
       "      <td>NaN</td>\n",
       "      <td>NaN</td>\n",
       "      <td>NaN</td>\n",
       "      <td>NaN</td>\n",
       "      <td>NaN</td>\n",
       "      <td>NaN</td>\n",
       "      <td>seagate</td>\n",
       "    </tr>\n",
       "    <tr>\n",
       "      <th>28403</th>\n",
       "      <td>ZJV2TH56</td>\n",
       "      <td>ST12000NM0007</td>\n",
       "      <td>12000.1</td>\n",
       "      <td>0</td>\n",
       "      <td>0.6</td>\n",
       "      <td>0.0</td>\n",
       "      <td>0.0</td>\n",
       "      <td>0.0</td>\n",
       "      <td>0.0</td>\n",
       "      <td>0.0</td>\n",
       "      <td>seagate</td>\n",
       "    </tr>\n",
       "    <tr>\n",
       "      <th>146131</th>\n",
       "      <td>ZJV4PYR5</td>\n",
       "      <td>ST12000NM0007</td>\n",
       "      <td>12000.1</td>\n",
       "      <td>0</td>\n",
       "      <td>0.2</td>\n",
       "      <td>0.0</td>\n",
       "      <td>0.0</td>\n",
       "      <td>0.0</td>\n",
       "      <td>0.0</td>\n",
       "      <td>0.0</td>\n",
       "      <td>seagate</td>\n",
       "    </tr>\n",
       "    <tr>\n",
       "      <th>65142</th>\n",
       "      <td>ZJV4PYR5</td>\n",
       "      <td>ST12000NM0007</td>\n",
       "      <td>-0.0</td>\n",
       "      <td>0</td>\n",
       "      <td>NaN</td>\n",
       "      <td>NaN</td>\n",
       "      <td>NaN</td>\n",
       "      <td>NaN</td>\n",
       "      <td>NaN</td>\n",
       "      <td>NaN</td>\n",
       "      <td>seagate</td>\n",
       "    </tr>\n",
       "  </tbody>\n",
       "</table>\n",
       "<p>14083 rows × 11 columns</p>\n",
       "</div>"
      ],
      "text/plain": [
       "       serial_number                 model  capacity_gigabytes  failure  \\\n",
       "11635       2AG8AVRY  HGST HUH721212ALN604             12000.1        0   \n",
       "77725       2AG8AVRY  HGST HUH721212ALN604                -0.0        0   \n",
       "140270      2AGGHJVY  HGST HUH721212ALN604             12000.1        0   \n",
       "125080      2AGGHJVY  HGST HUH721212ALN604                -0.0        0   \n",
       "97136       2AGGJT1Y  HGST HUH721212ALN604             12000.1        0   \n",
       "...              ...                   ...                 ...      ...   \n",
       "114807      ZJV2SFDX         ST12000NM0007             12000.1        0   \n",
       "169071      ZJV2TH56         ST12000NM0007                -0.0        0   \n",
       "28403       ZJV2TH56         ST12000NM0007             12000.1        0   \n",
       "146131      ZJV4PYR5         ST12000NM0007             12000.1        0   \n",
       "65142       ZJV4PYR5         ST12000NM0007                -0.0        0   \n",
       "\n",
       "        drive_age_in_years  reallocated_sectors_count  \\\n",
       "11635                  0.1                        0.0   \n",
       "77725                  NaN                        NaN   \n",
       "140270                 0.1                        0.0   \n",
       "125080                 NaN                        NaN   \n",
       "97136                  0.1                        0.0   \n",
       "...                    ...                        ...   \n",
       "114807                 0.6                        0.0   \n",
       "169071                 NaN                        NaN   \n",
       "28403                  0.6                        0.0   \n",
       "146131                 0.2                        0.0   \n",
       "65142                  NaN                        NaN   \n",
       "\n",
       "        reported_uncorrectable_errors  command_timeout  \\\n",
       "11635                             NaN              NaN   \n",
       "77725                             NaN              NaN   \n",
       "140270                            NaN              NaN   \n",
       "125080                            NaN              NaN   \n",
       "97136                             NaN              NaN   \n",
       "...                               ...              ...   \n",
       "114807                            0.0              0.0   \n",
       "169071                            NaN              NaN   \n",
       "28403                             0.0              0.0   \n",
       "146131                            0.0              0.0   \n",
       "65142                             NaN              NaN   \n",
       "\n",
       "        current_pending_sector_count  uncorrectable_sector_count manufacturer  \n",
       "11635                            0.0                         0.0      hitachi  \n",
       "77725                            NaN                         NaN      hitachi  \n",
       "140270                           0.0                         0.0      hitachi  \n",
       "125080                           NaN                         NaN      hitachi  \n",
       "97136                            0.0                         0.0      hitachi  \n",
       "...                              ...                         ...          ...  \n",
       "114807                           0.0                         0.0      seagate  \n",
       "169071                           NaN                         NaN      seagate  \n",
       "28403                            0.0                         0.0      seagate  \n",
       "146131                           0.0                         0.0      seagate  \n",
       "65142                            NaN                         NaN      seagate  \n",
       "\n",
       "[14083 rows x 11 columns]"
      ]
     },
     "execution_count": 85,
     "metadata": {},
     "output_type": "execute_result"
    }
   ],
   "source": [
    "df [df.serial_number.duplicated(keep=False)].sort_values('serial_number')"
   ]
  },
  {
   "cell_type": "code",
   "execution_count": 99,
   "metadata": {},
   "outputs": [
    {
     "data": {
      "text/html": [
       "<div>\n",
       "<style scoped>\n",
       "    .dataframe tbody tr th:only-of-type {\n",
       "        vertical-align: middle;\n",
       "    }\n",
       "\n",
       "    .dataframe tbody tr th {\n",
       "        vertical-align: top;\n",
       "    }\n",
       "\n",
       "    .dataframe thead th {\n",
       "        text-align: right;\n",
       "    }\n",
       "</style>\n",
       "<table border=\"1\" class=\"dataframe\">\n",
       "  <thead>\n",
       "    <tr style=\"text-align: right;\">\n",
       "      <th></th>\n",
       "      <th>serial_number</th>\n",
       "      <th>model</th>\n",
       "      <th>capacity_gigabytes</th>\n",
       "      <th>failure</th>\n",
       "      <th>drive_age_in_years</th>\n",
       "      <th>reallocated_sectors_count</th>\n",
       "      <th>reported_uncorrectable_errors</th>\n",
       "      <th>command_timeout</th>\n",
       "      <th>current_pending_sector_count</th>\n",
       "      <th>uncorrectable_sector_count</th>\n",
       "      <th>manufacturer</th>\n",
       "    </tr>\n",
       "  </thead>\n",
       "  <tbody>\n",
       "    <tr>\n",
       "      <th>17402</th>\n",
       "      <td>45D7K133FMYB</td>\n",
       "      <td>TOSHIBA MD04ABA400V</td>\n",
       "      <td>-0.0</td>\n",
       "      <td>1</td>\n",
       "      <td>NaN</td>\n",
       "      <td>NaN</td>\n",
       "      <td>NaN</td>\n",
       "      <td>NaN</td>\n",
       "      <td>NaN</td>\n",
       "      <td>NaN</td>\n",
       "      <td>toshiba</td>\n",
       "    </tr>\n",
       "    <tr>\n",
       "      <th>66669</th>\n",
       "      <td>ZCH071VT</td>\n",
       "      <td>ST12000NM0007</td>\n",
       "      <td>-0.0</td>\n",
       "      <td>1</td>\n",
       "      <td>NaN</td>\n",
       "      <td>NaN</td>\n",
       "      <td>NaN</td>\n",
       "      <td>NaN</td>\n",
       "      <td>NaN</td>\n",
       "      <td>NaN</td>\n",
       "      <td>seagate</td>\n",
       "    </tr>\n",
       "    <tr>\n",
       "      <th>149628</th>\n",
       "      <td>ZA18AAR1</td>\n",
       "      <td>ST8000NM0055</td>\n",
       "      <td>-0.0</td>\n",
       "      <td>1</td>\n",
       "      <td>NaN</td>\n",
       "      <td>NaN</td>\n",
       "      <td>NaN</td>\n",
       "      <td>NaN</td>\n",
       "      <td>NaN</td>\n",
       "      <td>NaN</td>\n",
       "      <td>seagate</td>\n",
       "    </tr>\n",
       "  </tbody>\n",
       "</table>\n",
       "</div>"
      ],
      "text/plain": [
       "       serial_number                model  capacity_gigabytes  failure  \\\n",
       "17402   45D7K133FMYB  TOSHIBA MD04ABA400V                -0.0        1   \n",
       "66669       ZCH071VT        ST12000NM0007                -0.0        1   \n",
       "149628      ZA18AAR1         ST8000NM0055                -0.0        1   \n",
       "\n",
       "        drive_age_in_years  reallocated_sectors_count  \\\n",
       "17402                  NaN                        NaN   \n",
       "66669                  NaN                        NaN   \n",
       "149628                 NaN                        NaN   \n",
       "\n",
       "        reported_uncorrectable_errors  command_timeout  \\\n",
       "17402                             NaN              NaN   \n",
       "66669                             NaN              NaN   \n",
       "149628                            NaN              NaN   \n",
       "\n",
       "        current_pending_sector_count  uncorrectable_sector_count manufacturer  \n",
       "17402                            NaN                         NaN      toshiba  \n",
       "66669                            NaN                         NaN      seagate  \n",
       "149628                           NaN                         NaN      seagate  "
      ]
     },
     "execution_count": 99,
     "metadata": {},
     "output_type": "execute_result"
    }
   ],
   "source": [
    "df [(df.capacity_gigabytes < 1) & (df.failure == 1)]"
   ]
  },
  {
   "cell_type": "code",
   "execution_count": 102,
   "metadata": {},
   "outputs": [
    {
     "data": {
      "text/html": [
       "<div>\n",
       "<style scoped>\n",
       "    .dataframe tbody tr th:only-of-type {\n",
       "        vertical-align: middle;\n",
       "    }\n",
       "\n",
       "    .dataframe tbody tr th {\n",
       "        vertical-align: top;\n",
       "    }\n",
       "\n",
       "    .dataframe thead th {\n",
       "        text-align: right;\n",
       "    }\n",
       "</style>\n",
       "<table border=\"1\" class=\"dataframe\">\n",
       "  <thead>\n",
       "    <tr style=\"text-align: right;\">\n",
       "      <th></th>\n",
       "      <th>serial_number</th>\n",
       "      <th>model</th>\n",
       "      <th>capacity_gigabytes</th>\n",
       "      <th>failure</th>\n",
       "      <th>drive_age_in_years</th>\n",
       "      <th>reallocated_sectors_count</th>\n",
       "      <th>reported_uncorrectable_errors</th>\n",
       "      <th>command_timeout</th>\n",
       "      <th>current_pending_sector_count</th>\n",
       "      <th>uncorrectable_sector_count</th>\n",
       "      <th>manufacturer</th>\n",
       "    </tr>\n",
       "  </thead>\n",
       "  <tbody>\n",
       "    <tr>\n",
       "      <th>17402</th>\n",
       "      <td>45D7K133FMYB</td>\n",
       "      <td>TOSHIBA MD04ABA400V</td>\n",
       "      <td>-0.0</td>\n",
       "      <td>1</td>\n",
       "      <td>NaN</td>\n",
       "      <td>NaN</td>\n",
       "      <td>NaN</td>\n",
       "      <td>NaN</td>\n",
       "      <td>NaN</td>\n",
       "      <td>NaN</td>\n",
       "      <td>toshiba</td>\n",
       "    </tr>\n",
       "    <tr>\n",
       "      <th>145604</th>\n",
       "      <td>45D7K133FMYB</td>\n",
       "      <td>TOSHIBA MD04ABA400V</td>\n",
       "      <td>4000.8</td>\n",
       "      <td>0</td>\n",
       "      <td>3.4</td>\n",
       "      <td>0.0</td>\n",
       "      <td>NaN</td>\n",
       "      <td>NaN</td>\n",
       "      <td>0.0</td>\n",
       "      <td>0.0</td>\n",
       "      <td>toshiba</td>\n",
       "    </tr>\n",
       "  </tbody>\n",
       "</table>\n",
       "</div>"
      ],
      "text/plain": [
       "       serial_number                model  capacity_gigabytes  failure  \\\n",
       "17402   45D7K133FMYB  TOSHIBA MD04ABA400V                -0.0        1   \n",
       "145604  45D7K133FMYB  TOSHIBA MD04ABA400V              4000.8        0   \n",
       "\n",
       "        drive_age_in_years  reallocated_sectors_count  \\\n",
       "17402                  NaN                        NaN   \n",
       "145604                 3.4                        0.0   \n",
       "\n",
       "        reported_uncorrectable_errors  command_timeout  \\\n",
       "17402                             NaN              NaN   \n",
       "145604                            NaN              NaN   \n",
       "\n",
       "        current_pending_sector_count  uncorrectable_sector_count manufacturer  \n",
       "17402                            NaN                         NaN      toshiba  \n",
       "145604                           0.0                         0.0      toshiba  "
      ]
     },
     "execution_count": 102,
     "metadata": {},
     "output_type": "execute_result"
    }
   ],
   "source": [
    "df [df.serial_number == '45D7K133FMYB']"
   ]
  },
  {
   "cell_type": "code",
   "execution_count": 90,
   "metadata": {},
   "outputs": [],
   "source": [
    "import seaborn as sns \n",
    "import matplotlib.pyplot as plt"
   ]
  },
  {
   "cell_type": "code",
   "execution_count": 93,
   "metadata": {},
   "outputs": [
    {
     "data": {
      "text/plain": [
       "<matplotlib.axes._subplots.AxesSubplot at 0x1265cf198>"
      ]
     },
     "execution_count": 93,
     "metadata": {},
     "output_type": "execute_result"
    },
    {
     "data": {
      "image/png": "[encoded data removed]",
      "text/plain": [
       "<Figure size 432x288 with 1 Axes>"
      ]
     },
     "metadata": {
      "needs_background": "light"
     },
     "output_type": "display_data"
    }
   ],
   "source": [
    "sns.distplot(df.drive_age_in_years.dropna())"
   ]
  },
  {
   "cell_type": "code",
   "execution_count": 97,
   "metadata": {},
   "outputs": [
    {
     "data": {
      "text/plain": [
       "0    163141\n",
       "1      5932\n",
       "Name: failure, dtype: int64"
      ]
     },
     "execution_count": 97,
     "metadata": {},
     "output_type": "execute_result"
    }
   ],
   "source": [
    "df.failure.value_counts()"
   ]
  },
  {
   "cell_type": "code",
   "execution_count": 103,
   "metadata": {},
   "outputs": [
    {
     "data": {
      "text/plain": [
       "ST12000NM0007           39779\n",
       "ST4000DM000             36802\n",
       "ST8000NM0055            17305\n",
       "HGST HMS5C4040BLE640    17011\n",
       "HGST HUH721212ALN604    12036\n",
       "                        ...  \n",
       "WDC WD1001FALS              1\n",
       "WDC WD800LB                 1\n",
       "WDC WD2500AAJB              1\n",
       "WDC WD15EARS                1\n",
       "WDC WD10EALS                1\n",
       "Name: model, Length: 103, dtype: int64"
      ]
     },
     "execution_count": 103,
     "metadata": {},
     "output_type": "execute_result"
    }
   ],
   "source": [
    "df.model.value_counts()"
   ]
  },
  {
   "cell_type": "code",
   "execution_count": 118,
   "metadata": {},
   "outputs": [
    {
     "name": "stdout",
     "output_type": "stream",
     "text": [
      "<class 'pandas.core.frame.DataFrame'>\n",
      "RangeIndex: 169073 entries, 0 to 169072\n",
      "Data columns (total 11 columns):\n",
      "serial_number                    169072 non-null object\n",
      "model                            169073 non-null object\n",
      "capacity_gigabytes               169073 non-null float64\n",
      "failure                          169073 non-null int64\n",
      "drive_age_in_years               161975 non-null float64\n",
      "reallocated_sectors_count        161851 non-null float64\n",
      "reported_uncorrectable_errors    104189 non-null float64\n",
      "command_timeout                  104179 non-null float64\n",
      "current_pending_sector_count     161841 non-null float64\n",
      "uncorrectable_sector_count       161841 non-null float64\n",
      "manufacturer                     169073 non-null object\n",
      "dtypes: float64(7), int64(1), object(3)\n",
      "memory usage: 14.2+ MB\n"
     ]
    }
   ],
   "source": [
    "df.info()"
   ]
  },
  {
   "cell_type": "code",
   "execution_count": 126,
   "metadata": {},
   "outputs": [
    {
     "data": {
      "text/plain": [
       " 4000.8     64886\n",
       " 12000.1    50729\n",
       " 8001.6     26108\n",
       "-0.0         7031\n",
       " 3000.6      6789\n",
       " 2000.4      4678\n",
       " 500.1       2547\n",
       " 6001.2      2411\n",
       " 14000.5     1302\n",
       " 10000.8     1255\n",
       " 1000.2       388\n",
       " 1500.3       267\n",
       " 250.1        211\n",
       " 160.0        209\n",
       " 320.1        116\n",
       " 480.0         60\n",
       " 5001.0        46\n",
       " 80.0          32\n",
       " 137.4          7\n",
       " 250.0          1\n",
       "Name: capacity_gigabytes, dtype: int64"
      ]
     },
     "execution_count": 126,
     "metadata": {},
     "output_type": "execute_result"
    }
   ],
   "source": [
    "df.capacity_gigabytes.value_counts()"
   ]
  },
  {
   "cell_type": "code",
   "execution_count": 129,
   "metadata": {
    "scrolled": false
   },
   "outputs": [
    {
     "name": "stdout",
     "output_type": "stream",
     "text": [
      "serial_number\n",
      "PL2331LAHB93UJ     3\n",
      "ZA21DT0A           2\n",
      "ZA181EC0           2\n",
      "ZA189K99           2\n",
      "AAHKXMPH           2\n",
      "                  ..\n",
      "Z305PHQH           1\n",
      "PL2331LAGMTX9J     1\n",
      "WD-WXL1H643788L    1\n",
      "MJ1321YNG0XUPA     1\n",
      "ZA12X1WF           1\n",
      "Name: serial_number, Length: 162030, dtype: int64\n",
      "\n",
      "model\n",
      "ST12000NM0007           39779\n",
      "ST4000DM000             36802\n",
      "ST8000NM0055            17305\n",
      "HGST HMS5C4040BLE640    17011\n",
      "HGST HUH721212ALN604    12036\n",
      "                        ...  \n",
      "WDC WD1001FALS              1\n",
      "WDC WD800LB                 1\n",
      "WDC WD2500AAJB              1\n",
      "WDC WD15EARS                1\n",
      "WDC WD10EALS                1\n",
      "Name: model, Length: 103, dtype: int64\n",
      "\n",
      "capacity_gigabytes\n",
      " 4000.8     64886\n",
      " 12000.1    50729\n",
      " 8001.6     26108\n",
      "-0.0         7031\n",
      " 3000.6      6789\n",
      " 2000.4      4678\n",
      " 500.1       2547\n",
      " 6001.2      2411\n",
      " 14000.5     1302\n",
      " 10000.8     1255\n",
      " 1000.2       388\n",
      " 1500.3       267\n",
      " 250.1        211\n",
      " 160.0        209\n",
      " 320.1        116\n",
      " 480.0         60\n",
      " 5001.0        46\n",
      " 80.0          32\n",
      " 137.4          7\n",
      " 250.0          1\n",
      "Name: capacity_gigabytes, dtype: int64\n",
      "\n",
      "failure\n",
      "0    163141\n",
      "1      5932\n",
      "Name: failure, dtype: int64\n",
      "\n",
      "drive_age_in_years\n",
      "1.9     7061\n",
      "0.8     5884\n",
      "1.7     5484\n",
      "2.1     5050\n",
      "3.3     4661\n",
      "        ... \n",
      "8.1        1\n",
      "7.6        1\n",
      "7.9        1\n",
      "7.8        1\n",
      "10.3       1\n",
      "Name: drive_age_in_years, Length: 87, dtype: int64\n",
      "\n",
      "reallocated_sectors_count\n",
      "0.0        156248\n",
      "8.0          1394\n",
      "1.0           402\n",
      "16.0          358\n",
      "24.0          196\n",
      "            ...  \n",
      "10040.0         1\n",
      "627.0           1\n",
      "3992.0          1\n",
      "28248.0         1\n",
      "2832.0          1\n",
      "Name: reallocated_sectors_count, Length: 1178, dtype: int64\n",
      "\n",
      "reported_uncorrectable_errors\n",
      "0.0       100431\n",
      "1.0          647\n",
      "3.0          507\n",
      "2.0          384\n",
      "6.0          356\n",
      "           ...  \n",
      "1330.0         1\n",
      "167.0          1\n",
      "98.0           1\n",
      "150.0          1\n",
      "2526.0         1\n",
      "Name: reported_uncorrectable_errors, Length: 159, dtype: int64\n",
      "\n",
      "command_timeout\n",
      "0.000000e+00    99805\n",
      "1.000000e+00     1404\n",
      "4.295033e+09      712\n",
      "2.000000e+00      482\n",
      "3.000000e+00      217\n",
      "                ...  \n",
      "1.975716e+11        1\n",
      "1.245205e+06        1\n",
      "1.460314e+11        1\n",
      "4.295361e+09        1\n",
      "4.295033e+09        1\n",
      "Name: command_timeout, Length: 393, dtype: int64\n",
      "\n",
      "current_pending_sector_count\n",
      "0.0       157609\n",
      "8.0         1448\n",
      "16.0         561\n",
      "24.0         367\n",
      "32.0         263\n",
      "           ...  \n",
      "3392.0         1\n",
      "3560.0         1\n",
      "111.0          1\n",
      "3544.0         1\n",
      "3496.0         1\n",
      "Name: current_pending_sector_count, Length: 233, dtype: int64\n",
      "\n",
      "uncorrectable_sector_count\n",
      "0.0        158211\n",
      "8.0          1322\n",
      "16.0          507\n",
      "24.0          340\n",
      "32.0          246\n",
      "            ...  \n",
      "3392.0          1\n",
      "10160.0         1\n",
      "20328.0         1\n",
      "3568.0          1\n",
      "111.0           1\n",
      "Name: uncorrectable_sector_count, Length: 216, dtype: int64\n",
      "\n",
      "manufacturer\n",
      "seagate            110097\n",
      "hitachi             53473\n",
      "western digital      2826\n",
      "toshiba              2604\n",
      "dell                   60\n",
      "samsung                11\n",
      "unknown                 2\n",
      "Name: manufacturer, dtype: int64\n",
      "\n"
     ]
    }
   ],
   "source": [
    "for col in df.columns:\n",
    "    print(col)\n",
    "    print(df[col].value_counts())\n",
    "    print()"
   ]
  },
  {
   "cell_type": "code",
   "execution_count": 130,
   "metadata": {},
   "outputs": [
    {
     "name": "stdout",
     "output_type": "stream",
     "text": [
      "<class 'pandas.core.frame.DataFrame'>\n",
      "RangeIndex: 169073 entries, 0 to 169072\n",
      "Data columns (total 11 columns):\n",
      "serial_number                    169072 non-null object\n",
      "model                            169073 non-null object\n",
      "capacity_gigabytes               169073 non-null float64\n",
      "failure                          169073 non-null int64\n",
      "drive_age_in_years               161975 non-null float64\n",
      "reallocated_sectors_count        161851 non-null float64\n",
      "reported_uncorrectable_errors    104189 non-null float64\n",
      "command_timeout                  104179 non-null float64\n",
      "current_pending_sector_count     161841 non-null float64\n",
      "uncorrectable_sector_count       161841 non-null float64\n",
      "manufacturer                     169073 non-null object\n",
      "dtypes: float64(7), int64(1), object(3)\n",
      "memory usage: 14.2+ MB\n"
     ]
    }
   ],
   "source": [
    "df.info()"
   ]
  },
  {
   "cell_type": "code",
   "execution_count": 131,
   "metadata": {},
   "outputs": [
    {
     "data": {
      "text/html": [
       "<div>\n",
       "<style scoped>\n",
       "    .dataframe tbody tr th:only-of-type {\n",
       "        vertical-align: middle;\n",
       "    }\n",
       "\n",
       "    .dataframe tbody tr th {\n",
       "        vertical-align: top;\n",
       "    }\n",
       "\n",
       "    .dataframe thead th {\n",
       "        text-align: right;\n",
       "    }\n",
       "</style>\n",
       "<table border=\"1\" class=\"dataframe\">\n",
       "  <thead>\n",
       "    <tr style=\"text-align: right;\">\n",
       "      <th></th>\n",
       "      <th>capacity_gigabytes</th>\n",
       "      <th>failure</th>\n",
       "      <th>drive_age_in_years</th>\n",
       "      <th>reallocated_sectors_count</th>\n",
       "      <th>reported_uncorrectable_errors</th>\n",
       "      <th>command_timeout</th>\n",
       "      <th>current_pending_sector_count</th>\n",
       "      <th>uncorrectable_sector_count</th>\n",
       "    </tr>\n",
       "  </thead>\n",
       "  <tbody>\n",
       "    <tr>\n",
       "      <th>count</th>\n",
       "      <td>169073.000000</td>\n",
       "      <td>169073.000000</td>\n",
       "      <td>161975.000000</td>\n",
       "      <td>161851.000000</td>\n",
       "      <td>104189.000000</td>\n",
       "      <td>1.041790e+05</td>\n",
       "      <td>161841.000000</td>\n",
       "      <td>161841.000000</td>\n",
       "    </tr>\n",
       "    <tr>\n",
       "      <th>mean</th>\n",
       "      <td>6829.479693</td>\n",
       "      <td>0.035085</td>\n",
       "      <td>2.720529</td>\n",
       "      <td>69.851802</td>\n",
       "      <td>5.996190</td>\n",
       "      <td>3.264823e+08</td>\n",
       "      <td>6.265940</td>\n",
       "      <td>5.913261</td>\n",
       "    </tr>\n",
       "    <tr>\n",
       "      <th>std</th>\n",
       "      <td>3981.085266</td>\n",
       "      <td>0.183996</td>\n",
       "      <td>1.525822</td>\n",
       "      <td>1393.236993</td>\n",
       "      <td>541.364663</td>\n",
       "      <td>3.014661e+10</td>\n",
       "      <td>452.148242</td>\n",
       "      <td>447.550251</td>\n",
       "    </tr>\n",
       "    <tr>\n",
       "      <th>min</th>\n",
       "      <td>-0.000000</td>\n",
       "      <td>0.000000</td>\n",
       "      <td>0.000000</td>\n",
       "      <td>0.000000</td>\n",
       "      <td>0.000000</td>\n",
       "      <td>0.000000e+00</td>\n",
       "      <td>0.000000</td>\n",
       "      <td>0.000000</td>\n",
       "    </tr>\n",
       "    <tr>\n",
       "      <th>25%</th>\n",
       "      <td>4000.800000</td>\n",
       "      <td>0.000000</td>\n",
       "      <td>1.600000</td>\n",
       "      <td>0.000000</td>\n",
       "      <td>0.000000</td>\n",
       "      <td>0.000000e+00</td>\n",
       "      <td>0.000000</td>\n",
       "      <td>0.000000</td>\n",
       "    </tr>\n",
       "    <tr>\n",
       "      <th>50%</th>\n",
       "      <td>4000.800000</td>\n",
       "      <td>0.000000</td>\n",
       "      <td>2.600000</td>\n",
       "      <td>0.000000</td>\n",
       "      <td>0.000000</td>\n",
       "      <td>0.000000e+00</td>\n",
       "      <td>0.000000</td>\n",
       "      <td>0.000000</td>\n",
       "    </tr>\n",
       "    <tr>\n",
       "      <th>75%</th>\n",
       "      <td>12000.100000</td>\n",
       "      <td>0.000000</td>\n",
       "      <td>4.000000</td>\n",
       "      <td>0.000000</td>\n",
       "      <td>0.000000</td>\n",
       "      <td>0.000000e+00</td>\n",
       "      <td>0.000000</td>\n",
       "      <td>0.000000</td>\n",
       "    </tr>\n",
       "    <tr>\n",
       "      <th>max</th>\n",
       "      <td>14000.500000</td>\n",
       "      <td>1.000000</td>\n",
       "      <td>10.300000</td>\n",
       "      <td>65392.000000</td>\n",
       "      <td>65535.000000</td>\n",
       "      <td>8.933668e+12</td>\n",
       "      <td>142616.000000</td>\n",
       "      <td>142616.000000</td>\n",
       "    </tr>\n",
       "  </tbody>\n",
       "</table>\n",
       "</div>"
      ],
      "text/plain": [
       "       capacity_gigabytes        failure  drive_age_in_years  \\\n",
       "count       169073.000000  169073.000000       161975.000000   \n",
       "mean          6829.479693       0.035085            2.720529   \n",
       "std           3981.085266       0.183996            1.525822   \n",
       "min             -0.000000       0.000000            0.000000   \n",
       "25%           4000.800000       0.000000            1.600000   \n",
       "50%           4000.800000       0.000000            2.600000   \n",
       "75%          12000.100000       0.000000            4.000000   \n",
       "max          14000.500000       1.000000           10.300000   \n",
       "\n",
       "       reallocated_sectors_count  reported_uncorrectable_errors  \\\n",
       "count              161851.000000                  104189.000000   \n",
       "mean                   69.851802                       5.996190   \n",
       "std                  1393.236993                     541.364663   \n",
       "min                     0.000000                       0.000000   \n",
       "25%                     0.000000                       0.000000   \n",
       "50%                     0.000000                       0.000000   \n",
       "75%                     0.000000                       0.000000   \n",
       "max                 65392.000000                   65535.000000   \n",
       "\n",
       "       command_timeout  current_pending_sector_count  \\\n",
       "count     1.041790e+05                 161841.000000   \n",
       "mean      3.264823e+08                      6.265940   \n",
       "std       3.014661e+10                    452.148242   \n",
       "min       0.000000e+00                      0.000000   \n",
       "25%       0.000000e+00                      0.000000   \n",
       "50%       0.000000e+00                      0.000000   \n",
       "75%       0.000000e+00                      0.000000   \n",
       "max       8.933668e+12                 142616.000000   \n",
       "\n",
       "       uncorrectable_sector_count  \n",
       "count               161841.000000  \n",
       "mean                     5.913261  \n",
       "std                    447.550251  \n",
       "min                      0.000000  \n",
       "25%                      0.000000  \n",
       "50%                      0.000000  \n",
       "75%                      0.000000  \n",
       "max                 142616.000000  "
      ]
     },
     "execution_count": 131,
     "metadata": {},
     "output_type": "execute_result"
    }
   ],
   "source": [
    "df.describe()"
   ]
  },
  {
   "cell_type": "code",
   "execution_count": 151,
   "metadata": {},
   "outputs": [],
   "source": [
    "df_fails = df [df.failure == 1]\n",
    "df_lives = df [df.failure == 0]"
   ]
  },
  {
   "cell_type": "code",
   "execution_count": 136,
   "metadata": {},
   "outputs": [
    {
     "name": "stdout",
     "output_type": "stream",
     "text": [
      "<class 'pandas.core.frame.DataFrame'>\n",
      "Int64Index: 5932 entries, 68 to 168960\n",
      "Data columns (total 11 columns):\n",
      "serial_number                    5932 non-null object\n",
      "model                            5932 non-null object\n",
      "capacity_gigabytes               5932 non-null float64\n",
      "failure                          5932 non-null int64\n",
      "drive_age_in_years               5925 non-null float64\n",
      "reallocated_sectors_count        5924 non-null float64\n",
      "reported_uncorrectable_errors    4985 non-null float64\n",
      "command_timeout                  4975 non-null float64\n",
      "current_pending_sector_count     5914 non-null float64\n",
      "uncorrectable_sector_count       5914 non-null float64\n",
      "manufacturer                     5932 non-null object\n",
      "dtypes: float64(7), int64(1), object(3)\n",
      "memory usage: 556.1+ KB\n"
     ]
    }
   ],
   "source": [
    "df_fails.info()"
   ]
  },
  {
   "cell_type": "code",
   "execution_count": 152,
   "metadata": {},
   "outputs": [
    {
     "data": {
      "text/plain": [
       "(-0.011300000000000001, 1.03]    1461\n",
       "(1.03, 2.06]                     1843\n",
       "(2.06, 3.09]                     1164\n",
       "(3.09, 4.12]                     1095\n",
       "(4.12, 5.15]                      280\n",
       "(5.15, 6.18]                       65\n",
       "(6.18, 7.21]                       11\n",
       "(7.21, 8.24]                        1\n",
       "(8.24, 9.27]                        1\n",
       "(9.27, 10.3]                        4\n",
       "Name: drive_age_in_years, dtype: int64"
      ]
     },
     "execution_count": 152,
     "metadata": {},
     "output_type": "execute_result"
    }
   ],
   "source": [
    "df_fails.drive_age_in_years.value_counts(bins=10, sort=False)"
   ]
  },
  {
   "cell_type": "code",
   "execution_count": 153,
   "metadata": {},
   "outputs": [
    {
     "data": {
      "text/plain": [
       "(-0.0092, 0.82]    24123\n",
       "(0.82, 1.64]       15932\n",
       "(1.64, 2.46]       30531\n",
       "(2.46, 3.28]       20581\n",
       "(3.28, 4.1]        29677\n",
       "(4.1, 4.92]        24448\n",
       "(4.92, 5.74]        9050\n",
       "(5.74, 6.56]        1506\n",
       "(6.56, 7.38]         161\n",
       "(7.38, 8.2]           41\n",
       "Name: drive_age_in_years, dtype: int64"
      ]
     },
     "execution_count": 153,
     "metadata": {},
     "output_type": "execute_result"
    }
   ],
   "source": [
    "df_lives.drive_age_in_years.value_counts(bins=10, sort=False)"
   ]
  },
  {
   "cell_type": "code",
   "execution_count": 160,
   "metadata": {},
   "outputs": [
    {
     "data": {
      "text/plain": [
       "mean      2.060793\n",
       "median    1.800000\n",
       "Name: drive_age_in_years, dtype: float64"
      ]
     },
     "execution_count": 160,
     "metadata": {},
     "output_type": "execute_result"
    }
   ],
   "source": [
    "df_fails.drive_age_in_years.agg(['mean','median'])"
   ]
  },
  {
   "cell_type": "code",
   "execution_count": 161,
   "metadata": {},
   "outputs": [
    {
     "data": {
      "text/plain": [
       "mean      2.745578\n",
       "median    2.700000\n",
       "Name: drive_age_in_years, dtype: float64"
      ]
     },
     "execution_count": 161,
     "metadata": {},
     "output_type": "execute_result"
    }
   ],
   "source": [
    "df_lives.drive_age_in_years.agg(['mean','median'])"
   ]
  },
  {
   "cell_type": "code",
   "execution_count": 165,
   "metadata": {},
   "outputs": [
    {
     "data": {
      "image/png": "[encoded data removed]",
      "text/plain": [
       "<Figure size 432x288 with 1 Axes>"
      ]
     },
     "metadata": {
      "needs_background": "light"
     },
     "output_type": "display_data"
    }
   ],
   "source": [
    "sns.distplot(df_fails.drive_age_in_years.dropna())\n",
    "sns.distplot(df_lives.drive_age_in_years.dropna())\n",
    "plt.show()"
   ]
  },
  {
   "cell_type": "code",
   "execution_count": 168,
   "metadata": {},
   "outputs": [
    {
     "data": {
      "text/plain": [
       "seagate            5078\n",
       "hitachi             504\n",
       "western digital     189\n",
       "toshiba             151\n",
       "samsung              10\n",
       "Name: manufacturer, dtype: int64"
      ]
     },
     "execution_count": 168,
     "metadata": {},
     "output_type": "execute_result"
    }
   ],
   "source": [
    "df_fails.manufacturer.value_counts()"
   ]
  },
  {
   "cell_type": "code",
   "execution_count": 169,
   "metadata": {},
   "outputs": [
    {
     "data": {
      "text/plain": [
       "seagate            105019\n",
       "hitachi             52969\n",
       "western digital      2637\n",
       "toshiba              2453\n",
       "dell                   60\n",
       "unknown                 2\n",
       "samsung                 1\n",
       "Name: manufacturer, dtype: int64"
      ]
     },
     "execution_count": 169,
     "metadata": {},
     "output_type": "execute_result"
    }
   ],
   "source": [
    "df_lives.manufacturer.value_counts()"
   ]
  },
  {
   "cell_type": "code",
   "execution_count": 170,
   "metadata": {},
   "outputs": [
    {
     "name": "stdout",
     "output_type": "stream",
     "text": [
      "<class 'pandas.core.frame.DataFrame'>\n",
      "RangeIndex: 169073 entries, 0 to 169072\n",
      "Data columns (total 11 columns):\n",
      "serial_number                    169072 non-null object\n",
      "model                            169073 non-null object\n",
      "capacity_gigabytes               169073 non-null float64\n",
      "failure                          169073 non-null int64\n",
      "drive_age_in_years               161975 non-null float64\n",
      "reallocated_sectors_count        161851 non-null float64\n",
      "reported_uncorrectable_errors    104189 non-null float64\n",
      "command_timeout                  104179 non-null float64\n",
      "current_pending_sector_count     161841 non-null float64\n",
      "uncorrectable_sector_count       161841 non-null float64\n",
      "manufacturer                     169073 non-null object\n",
      "dtypes: float64(7), int64(1), object(3)\n",
      "memory usage: 14.2+ MB\n"
     ]
    }
   ],
   "source": [
    "df.info()"
   ]
  },
  {
   "cell_type": "code",
   "execution_count": 175,
   "metadata": {},
   "outputs": [
    {
     "data": {
      "text/plain": [
       "1437.187373396354"
      ]
     },
     "execution_count": 175,
     "metadata": {},
     "output_type": "execute_result"
    }
   ],
   "source": [
    "df_fails.reallocated_sectors_count.dropna().mean()"
   ]
  },
  {
   "cell_type": "code",
   "execution_count": 176,
   "metadata": {},
   "outputs": [
    {
     "data": {
      "text/plain": [
       "17.903801137711877"
      ]
     },
     "execution_count": 176,
     "metadata": {},
     "output_type": "execute_result"
    }
   ],
   "source": [
    "df_lives.reallocated_sectors_count.dropna().mean()"
   ]
  },
  {
   "cell_type": "code",
   "execution_count": null,
   "metadata": {},
   "outputs": [],
   "source": []
  }
 ],
 "metadata": {
  "kernelspec": {
   "display_name": "Python 3",
   "language": "python",
   "name": "python3"
  },
  "language_info": {
   "codemirror_mode": {
    "name": "ipython",
    "version": 3
   },
   "file_extension": ".py",
   "mimetype": "text/x-python",
   "name": "python",
   "nbconvert_exporter": "python",
   "pygments_lexer": "ipython3",
   "version": "3.7.3"
  },
  "toc": {
   "base_numbering": 1,
   "nav_menu": {},
   "number_sections": false,
   "sideBar": true,
   "skip_h1_title": true,
   "title_cell": "Table of Contents",
   "title_sidebar": "Contents",
   "toc_cell": false,
   "toc_position": {},
   "toc_section_display": true,
   "toc_window_display": false
  }
 },
 "nbformat": 4,
 "nbformat_minor": 2
}
