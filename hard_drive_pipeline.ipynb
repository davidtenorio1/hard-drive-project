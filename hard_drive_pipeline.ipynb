{
 "cells": [
  {
   "cell_type": "markdown",
   "metadata": {},
   "source": [
    "# Which hard drives are the most reliable? "
   ]
  },
  {
   "cell_type": "markdown",
   "metadata": {},
   "source": [
    "## Project Plan"
   ]
  },
  {
   "cell_type": "markdown",
   "metadata": {},
   "source": [
    "Goal\n",
    "- Determine which hard drives are the most reliable by classifing and predicting hard drive failure rates. \n",
    "\n",
    "Hypotheses (MVP)\n",
    "- The 5 SMART (Self-Monitoring, Analysis and Reporting Technology) stats identified by Backblaze will indicate device hard drive failure\n",
    "- Hard drive fail rates will vary by model \n",
    "- Hard drives fail rates will vary by manufacturer \n",
    "\n",
    "Hypotheses (Futher Iterations)\n",
    "- Industry and consumer units will perform about the same\n",
    "- Helium or non-helium would not have significantly different failure rates \n",
    "- Helium or non-helium will not affect lifespan of drives "
   ]
  },
  {
   "cell_type": "code",
   "execution_count": 1,
   "metadata": {},
   "outputs": [],
   "source": [
    "# data wrangling\n",
    "import pandas as pd\n",
    "import numpy as np\n",
    "\n",
    "# visualizations\n",
    "import matplotlib.pyplot as plt\n",
    "import seaborn as sns\n",
    "\n",
    "# py files\n",
    "import acquire\n",
    "import prepare\n",
    "import explore\n",
    "import model"
   ]
  },
  {
   "cell_type": "markdown",
   "metadata": {},
   "source": [
    "## Acquire"
   ]
  },
  {
   "cell_type": "markdown",
   "metadata": {},
   "source": [
    "The raw data is available on Backblaze.com. For this analysis, the hard drive data from 2016, 2017, 2108, and 2019 was utilized. The files were downloaded to a local computer and the files were unzipped. The files were renamed to the format, \"data_Qx_201x\", and placed in a folder titled \"data\". \n",
    "\n",
    "The `acquire.acquire_agg_data` function reads in the data, aggregates it, and returns the dataframe in pandas. \n",
    "- Using Spark, a dataframe was created from each directory of csv files. The dataframes are concated together with their common columns. This gave a dataframe with 95 columns and 121,390,247 rows. \n",
    "- Backblaze identified 5 SMART stats that predict hard drive failure (SMART 5, 187, 188, 197, 198). The max value of each of these stats were extracted and the dataframe was aggregated by serial number. This reduced the dataframe to 9 columns and 169,073 rows. \n",
    "- The spark dataframe is converted to pandas \n",
    "- The pandas dataframe is saved as \"hard_drives_smart_5.csv\" for future use\n",
    "\n",
    "This csv is linked in the README and can be downloaded. If \"hard_drives_smart_5.csv\" is in the working directory, `acquire.acquire_agg_data` will read from the csv instead recreating the dataframe.  "
   ]
  },
  {
   "cell_type": "code",
   "execution_count": 2,
   "metadata": {},
   "outputs": [],
   "source": [
    "df = acquire.acquire_agg_data()"
   ]
  },
  {
   "cell_type": "code",
   "execution_count": 3,
   "metadata": {},
   "outputs": [
    {
     "name": "stdout",
     "output_type": "stream",
     "text": [
      "<class 'pandas.core.frame.DataFrame'>\n",
      "RangeIndex: 169073 entries, 0 to 169072\n",
      "Data columns (total 10 columns):\n",
      "serial_number         169072 non-null object\n",
      "model                 169073 non-null object\n",
      "capacity_bytes        169073 non-null int64\n",
      "max(failure)          169073 non-null int64\n",
      "max(smart_9_raw)      161975 non-null float64\n",
      "max(smart_5_raw)      161851 non-null float64\n",
      "max(smart_187_raw)    104189 non-null float64\n",
      "max(smart_188_raw)    104179 non-null float64\n",
      "max(smart_197_raw)    161841 non-null float64\n",
      "max(smart_198_raw)    161841 non-null float64\n",
      "dtypes: float64(6), int64(2), object(2)\n",
      "memory usage: 12.9+ MB\n"
     ]
    }
   ],
   "source": [
    "df.info()"
   ]
  },
  {
   "cell_type": "code",
   "execution_count": 4,
   "metadata": {},
   "outputs": [
    {
     "data": {
      "text/html": [
       "<div>\n",
       "<style scoped>\n",
       "    .dataframe tbody tr th:only-of-type {\n",
       "        vertical-align: middle;\n",
       "    }\n",
       "\n",
       "    .dataframe tbody tr th {\n",
       "        vertical-align: top;\n",
       "    }\n",
       "\n",
       "    .dataframe thead th {\n",
       "        text-align: right;\n",
       "    }\n",
       "</style>\n",
       "<table border=\"1\" class=\"dataframe\">\n",
       "  <thead>\n",
       "    <tr style=\"text-align: right;\">\n",
       "      <th></th>\n",
       "      <th>serial_number</th>\n",
       "      <th>model</th>\n",
       "      <th>capacity_bytes</th>\n",
       "      <th>max(failure)</th>\n",
       "      <th>max(smart_9_raw)</th>\n",
       "      <th>max(smart_5_raw)</th>\n",
       "      <th>max(smart_187_raw)</th>\n",
       "      <th>max(smart_188_raw)</th>\n",
       "      <th>max(smart_197_raw)</th>\n",
       "      <th>max(smart_198_raw)</th>\n",
       "    </tr>\n",
       "  </thead>\n",
       "  <tbody>\n",
       "    <tr>\n",
       "      <th>0</th>\n",
       "      <td>PL1311LAG1SJAA</td>\n",
       "      <td>Hitachi HDS5C4040ALE630</td>\n",
       "      <td>4000787030016</td>\n",
       "      <td>0</td>\n",
       "      <td>43819.0</td>\n",
       "      <td>0.0</td>\n",
       "      <td>NaN</td>\n",
       "      <td>NaN</td>\n",
       "      <td>0.0</td>\n",
       "      <td>0.0</td>\n",
       "    </tr>\n",
       "    <tr>\n",
       "      <th>1</th>\n",
       "      <td>Z305KB36</td>\n",
       "      <td>ST4000DM000</td>\n",
       "      <td>4000787030016</td>\n",
       "      <td>0</td>\n",
       "      <td>31045.0</td>\n",
       "      <td>0.0</td>\n",
       "      <td>0.0</td>\n",
       "      <td>0.0</td>\n",
       "      <td>0.0</td>\n",
       "      <td>0.0</td>\n",
       "    </tr>\n",
       "    <tr>\n",
       "      <th>2</th>\n",
       "      <td>MJ0351YNG9MZXA</td>\n",
       "      <td>Hitachi HDS5C3030ALA630</td>\n",
       "      <td>3000592982016</td>\n",
       "      <td>0</td>\n",
       "      <td>41668.0</td>\n",
       "      <td>0.0</td>\n",
       "      <td>NaN</td>\n",
       "      <td>NaN</td>\n",
       "      <td>0.0</td>\n",
       "      <td>0.0</td>\n",
       "    </tr>\n",
       "    <tr>\n",
       "      <th>3</th>\n",
       "      <td>ZA11NHSN</td>\n",
       "      <td>ST8000DM002</td>\n",
       "      <td>8001563222016</td>\n",
       "      <td>0</td>\n",
       "      <td>26284.0</td>\n",
       "      <td>0.0</td>\n",
       "      <td>0.0</td>\n",
       "      <td>0.0</td>\n",
       "      <td>0.0</td>\n",
       "      <td>0.0</td>\n",
       "    </tr>\n",
       "    <tr>\n",
       "      <th>4</th>\n",
       "      <td>MJ1311YNG2ZSEA</td>\n",
       "      <td>Hitachi HDS5C3030ALA630</td>\n",
       "      <td>3000592982016</td>\n",
       "      <td>0</td>\n",
       "      <td>47994.0</td>\n",
       "      <td>0.0</td>\n",
       "      <td>NaN</td>\n",
       "      <td>NaN</td>\n",
       "      <td>0.0</td>\n",
       "      <td>0.0</td>\n",
       "    </tr>\n",
       "  </tbody>\n",
       "</table>\n",
       "</div>"
      ],
      "text/plain": [
       "    serial_number                    model  capacity_bytes  max(failure)  \\\n",
       "0  PL1311LAG1SJAA  Hitachi HDS5C4040ALE630   4000787030016             0   \n",
       "1        Z305KB36              ST4000DM000   4000787030016             0   \n",
       "2  MJ0351YNG9MZXA  Hitachi HDS5C3030ALA630   3000592982016             0   \n",
       "3        ZA11NHSN              ST8000DM002   8001563222016             0   \n",
       "4  MJ1311YNG2ZSEA  Hitachi HDS5C3030ALA630   3000592982016             0   \n",
       "\n",
       "   max(smart_9_raw)  max(smart_5_raw)  max(smart_187_raw)  max(smart_188_raw)  \\\n",
       "0           43819.0               0.0                 NaN                 NaN   \n",
       "1           31045.0               0.0                 0.0                 0.0   \n",
       "2           41668.0               0.0                 NaN                 NaN   \n",
       "3           26284.0               0.0                 0.0                 0.0   \n",
       "4           47994.0               0.0                 NaN                 NaN   \n",
       "\n",
       "   max(smart_197_raw)  max(smart_198_raw)  \n",
       "0                 0.0                 0.0  \n",
       "1                 0.0                 0.0  \n",
       "2                 0.0                 0.0  \n",
       "3                 0.0                 0.0  \n",
       "4                 0.0                 0.0  "
      ]
     },
     "execution_count": 4,
     "metadata": {},
     "output_type": "execute_result"
    }
   ],
   "source": [
    "df.head()"
   ]
  },
  {
   "cell_type": "code",
   "execution_count": 5,
   "metadata": {},
   "outputs": [
    {
     "data": {
      "text/html": [
       "<div>\n",
       "<style scoped>\n",
       "    .dataframe tbody tr th:only-of-type {\n",
       "        vertical-align: middle;\n",
       "    }\n",
       "\n",
       "    .dataframe tbody tr th {\n",
       "        vertical-align: top;\n",
       "    }\n",
       "\n",
       "    .dataframe thead th {\n",
       "        text-align: right;\n",
       "    }\n",
       "</style>\n",
       "<table border=\"1\" class=\"dataframe\">\n",
       "  <thead>\n",
       "    <tr style=\"text-align: right;\">\n",
       "      <th></th>\n",
       "      <th>capacity_bytes</th>\n",
       "      <th>max(failure)</th>\n",
       "      <th>max(smart_9_raw)</th>\n",
       "      <th>max(smart_5_raw)</th>\n",
       "      <th>max(smart_187_raw)</th>\n",
       "      <th>max(smart_188_raw)</th>\n",
       "      <th>max(smart_197_raw)</th>\n",
       "      <th>max(smart_198_raw)</th>\n",
       "    </tr>\n",
       "  </thead>\n",
       "  <tbody>\n",
       "    <tr>\n",
       "      <th>count</th>\n",
       "      <td>1.690730e+05</td>\n",
       "      <td>169073.000000</td>\n",
       "      <td>161975.000000</td>\n",
       "      <td>161851.000000</td>\n",
       "      <td>104189.000000</td>\n",
       "      <td>1.041790e+05</td>\n",
       "      <td>161841.000000</td>\n",
       "      <td>161841.000000</td>\n",
       "    </tr>\n",
       "    <tr>\n",
       "      <th>mean</th>\n",
       "      <td>6.829480e+12</td>\n",
       "      <td>0.035085</td>\n",
       "      <td>23858.714839</td>\n",
       "      <td>69.851802</td>\n",
       "      <td>5.996190</td>\n",
       "      <td>3.264823e+08</td>\n",
       "      <td>6.265940</td>\n",
       "      <td>5.913261</td>\n",
       "    </tr>\n",
       "    <tr>\n",
       "      <th>std</th>\n",
       "      <td>3.981103e+12</td>\n",
       "      <td>0.183996</td>\n",
       "      <td>13357.230448</td>\n",
       "      <td>1393.236993</td>\n",
       "      <td>541.364663</td>\n",
       "      <td>3.014661e+10</td>\n",
       "      <td>452.148242</td>\n",
       "      <td>447.550251</td>\n",
       "    </tr>\n",
       "    <tr>\n",
       "      <th>min</th>\n",
       "      <td>-1.000000e+00</td>\n",
       "      <td>0.000000</td>\n",
       "      <td>0.000000</td>\n",
       "      <td>0.000000</td>\n",
       "      <td>0.000000</td>\n",
       "      <td>0.000000e+00</td>\n",
       "      <td>0.000000</td>\n",
       "      <td>0.000000</td>\n",
       "    </tr>\n",
       "    <tr>\n",
       "      <th>25%</th>\n",
       "      <td>4.000787e+12</td>\n",
       "      <td>0.000000</td>\n",
       "      <td>13727.000000</td>\n",
       "      <td>0.000000</td>\n",
       "      <td>0.000000</td>\n",
       "      <td>0.000000e+00</td>\n",
       "      <td>0.000000</td>\n",
       "      <td>0.000000</td>\n",
       "    </tr>\n",
       "    <tr>\n",
       "      <th>50%</th>\n",
       "      <td>4.000787e+12</td>\n",
       "      <td>0.000000</td>\n",
       "      <td>22932.000000</td>\n",
       "      <td>0.000000</td>\n",
       "      <td>0.000000</td>\n",
       "      <td>0.000000e+00</td>\n",
       "      <td>0.000000</td>\n",
       "      <td>0.000000</td>\n",
       "    </tr>\n",
       "    <tr>\n",
       "      <th>75%</th>\n",
       "      <td>1.200014e+13</td>\n",
       "      <td>0.000000</td>\n",
       "      <td>34866.000000</td>\n",
       "      <td>0.000000</td>\n",
       "      <td>0.000000</td>\n",
       "      <td>0.000000e+00</td>\n",
       "      <td>0.000000</td>\n",
       "      <td>0.000000</td>\n",
       "    </tr>\n",
       "    <tr>\n",
       "      <th>max</th>\n",
       "      <td>1.400052e+13</td>\n",
       "      <td>1.000000</td>\n",
       "      <td>90477.000000</td>\n",
       "      <td>65392.000000</td>\n",
       "      <td>65535.000000</td>\n",
       "      <td>8.933668e+12</td>\n",
       "      <td>142616.000000</td>\n",
       "      <td>142616.000000</td>\n",
       "    </tr>\n",
       "  </tbody>\n",
       "</table>\n",
       "</div>"
      ],
      "text/plain": [
       "       capacity_bytes   max(failure)  max(smart_9_raw)  max(smart_5_raw)  \\\n",
       "count    1.690730e+05  169073.000000     161975.000000     161851.000000   \n",
       "mean     6.829480e+12       0.035085      23858.714839         69.851802   \n",
       "std      3.981103e+12       0.183996      13357.230448       1393.236993   \n",
       "min     -1.000000e+00       0.000000          0.000000          0.000000   \n",
       "25%      4.000787e+12       0.000000      13727.000000          0.000000   \n",
       "50%      4.000787e+12       0.000000      22932.000000          0.000000   \n",
       "75%      1.200014e+13       0.000000      34866.000000          0.000000   \n",
       "max      1.400052e+13       1.000000      90477.000000      65392.000000   \n",
       "\n",
       "       max(smart_187_raw)  max(smart_188_raw)  max(smart_197_raw)  \\\n",
       "count       104189.000000        1.041790e+05       161841.000000   \n",
       "mean             5.996190        3.264823e+08            6.265940   \n",
       "std            541.364663        3.014661e+10          452.148242   \n",
       "min              0.000000        0.000000e+00            0.000000   \n",
       "25%              0.000000        0.000000e+00            0.000000   \n",
       "50%              0.000000        0.000000e+00            0.000000   \n",
       "75%              0.000000        0.000000e+00            0.000000   \n",
       "max          65535.000000        8.933668e+12       142616.000000   \n",
       "\n",
       "       max(smart_198_raw)  \n",
       "count       161841.000000  \n",
       "mean             5.913261  \n",
       "std            447.550251  \n",
       "min              0.000000  \n",
       "25%              0.000000  \n",
       "50%              0.000000  \n",
       "75%              0.000000  \n",
       "max         142616.000000  "
      ]
     },
     "execution_count": 5,
     "metadata": {},
     "output_type": "execute_result"
    }
   ],
   "source": [
    "df.describe()"
   ]
  },
  {
   "cell_type": "markdown",
   "metadata": {},
   "source": [
    "## Prepare"
   ]
  },
  {
   "cell_type": "markdown",
   "metadata": {},
   "source": [
    "The `prepare.prepare` function reads in the dataframe and applies the following changes:\n",
    "- Converts capacity column from bytes to gigabytes.\n",
    "- Converts max(smart_9_raw) from hours to years.\n",
    "- Creates a new column for manfacturer.\n",
    "- Renames all columns appropriately.\n",
    "- Reorders columns for understandability. "
   ]
  },
  {
   "cell_type": "code",
   "execution_count": 6,
   "metadata": {},
   "outputs": [],
   "source": [
    "df = prepare.prepare(df)"
   ]
  },
  {
   "cell_type": "markdown",
   "metadata": {},
   "source": [
    "The `prepare.unique` function reads in the dataframe and removes duplicated serial numbers that were created during aggregation."
   ]
  },
  {
   "cell_type": "code",
   "execution_count": 7,
   "metadata": {},
   "outputs": [],
   "source": [
    "df = prepare.unique(df)"
   ]
  },
  {
   "cell_type": "code",
   "execution_count": 8,
   "metadata": {},
   "outputs": [
    {
     "name": "stdout",
     "output_type": "stream",
     "text": [
      "<class 'pandas.core.frame.DataFrame'>\n",
      "Int64Index: 162025 entries, 0 to 169067\n",
      "Data columns (total 11 columns):\n",
      "serial_number                    162024 non-null object\n",
      "manufacturer                     162025 non-null object\n",
      "model                            162025 non-null object\n",
      "capacity_gigabytes               162025 non-null float64\n",
      "failure                          162025 non-null int64\n",
      "drive_age_in_years               161965 non-null float64\n",
      "reallocated_sectors_count        161841 non-null float64\n",
      "reported_uncorrectable_errors    104186 non-null float64\n",
      "command_timeout                  104176 non-null float64\n",
      "current_pending_sector_count     161831 non-null float64\n",
      "uncorrectable_sector_count       161831 non-null float64\n",
      "dtypes: float64(7), int64(1), object(3)\n",
      "memory usage: 14.8+ MB\n"
     ]
    }
   ],
   "source": [
    "df.info()"
   ]
  },
  {
   "cell_type": "code",
   "execution_count": 9,
   "metadata": {},
   "outputs": [
    {
     "data": {
      "text/plain": [
       "serial_number                        1\n",
       "manufacturer                         0\n",
       "model                                0\n",
       "capacity_gigabytes                   0\n",
       "failure                              0\n",
       "drive_age_in_years                  60\n",
       "reallocated_sectors_count          184\n",
       "reported_uncorrectable_errors    57839\n",
       "command_timeout                  57849\n",
       "current_pending_sector_count       194\n",
       "uncorrectable_sector_count         194\n",
       "dtype: int64"
      ]
     },
     "execution_count": 9,
     "metadata": {},
     "output_type": "execute_result"
    }
   ],
   "source": [
    "df.isnull().sum()"
   ]
  },
  {
   "cell_type": "markdown",
   "metadata": {},
   "source": [
    "## Explore"
   ]
  },
  {
   "cell_type": "markdown",
   "metadata": {},
   "source": [
    "Questions to answer:\n",
    "- Does the data we obtained make sense? \n",
    "- What does our data look like?\n",
    "    - How many different models?\n",
    "    - How many different manufacturers?\n",
    "    - How many different capacity sizes\n",
    "    - How many hard drives are there for each manufacturer? Model?\n",
    "    - Are model numbers unique to serial number?\n",
    "    - Can model numbers have different capacities? \n",
    "    - Are there any observations that need to be dropped (why, how many)?\n",
    "\n",
    "- Determine how to treat null values.\n",
    "- Do failure rates vary by model number?\n",
    "- How do the lifespans of hard drives that have failed compared to hard drives that have not?\n",
    "- How do non-zero SMART stat values compare to among fail and non-fail?\n",
    "- Does the average age of drive vary by model number?\n",
    "- Which SMART attributes correlate most strongly with failure? \n",
    "- Which features or combination of features correlate with early failure?\n",
    "- Determine early failure cutoff by analyzing data. "
   ]
  },
  {
   "cell_type": "markdown",
   "metadata": {},
   "source": [
    "#### Treat null values"
   ]
  },
  {
   "cell_type": "code",
   "execution_count": 10,
   "metadata": {},
   "outputs": [
    {
     "data": {
      "text/plain": [
       "serial_number                        1\n",
       "manufacturer                         0\n",
       "model                                0\n",
       "capacity_gigabytes                   0\n",
       "failure                              0\n",
       "drive_age_in_years                  60\n",
       "reallocated_sectors_count          184\n",
       "reported_uncorrectable_errors    57839\n",
       "command_timeout                  57849\n",
       "current_pending_sector_count       194\n",
       "uncorrectable_sector_count         194\n",
       "dtype: int64"
      ]
     },
     "execution_count": 10,
     "metadata": {},
     "output_type": "execute_result"
    }
   ],
   "source": [
    "df.isnull().sum()"
   ]
  },
  {
   "cell_type": "code",
   "execution_count": 11,
   "metadata": {},
   "outputs": [
    {
     "data": {
      "text/plain": [
       "Index(['serial_number', 'manufacturer', 'model', 'capacity_gigabytes',\n",
       "       'failure', 'drive_age_in_years', 'reallocated_sectors_count',\n",
       "       'reported_uncorrectable_errors', 'command_timeout',\n",
       "       'current_pending_sector_count', 'uncorrectable_sector_count'],\n",
       "      dtype='object')"
      ]
     },
     "execution_count": 11,
     "metadata": {},
     "output_type": "execute_result"
    }
   ],
   "source": [
    "df.columns"
   ]
  },
  {
   "cell_type": "code",
   "execution_count": 12,
   "metadata": {},
   "outputs": [
    {
     "data": {
      "image/png": "[encoded data removed]",
      "text/plain": [
       "<Figure size 432x288 with 1 Axes>"
      ]
     },
     "metadata": {
      "needs_background": "light"
     },
     "output_type": "display_data"
    },
    {
     "data": {
      "image/png": "[encoded data removed]",
      "text/plain": [
       "<Figure size 432x288 with 1 Axes>"
      ]
     },
     "metadata": {
      "needs_background": "light"
     },
     "output_type": "display_data"
    },
    {
     "data": {
      "image/png": "[encoded data removed]",
      "text/plain": [
       "<Figure size 432x288 with 1 Axes>"
      ]
     },
     "metadata": {
      "needs_background": "light"
     },
     "output_type": "display_data"
    },
    {
     "data": {
      "image/png": "[encoded data removed]",
      "text/plain": [
       "<Figure size 432x288 with 1 Axes>"
      ]
     },
     "metadata": {
      "needs_background": "light"
     },
     "output_type": "display_data"
    },
    {
     "data": {
      "image/png": "[encoded data removed]",
      "text/plain": [
       "<Figure size 432x288 with 1 Axes>"
      ]
     },
     "metadata": {
      "needs_background": "light"
     },
     "output_type": "display_data"
    }
   ],
   "source": [
    "for col in df.columns[6:]:\n",
    "    sns.scatterplot(data=df, y=df[col], x=df.drive_age_in_years, alpha=.3)\n",
    "    plt.title(col)\n",
    "    plt.show()"
   ]
  },
  {
   "cell_type": "markdown",
   "metadata": {},
   "source": [
    "> It is seen for both \"reported_uncorrectable_errors\" and \"command_timeout\" that the vast majority of values are zero. therefore, the nulls in those columns are replaced with zeros. For the remaining nulls in \"reallocated_sectors_count\", \"current_pending_sector_count\" and \"uncorrecteable_sector_count\", there are less than 200 for each respective column. Therefore, those rows containing nulls are removed. This is performed in the `prepare.treat_nulls` function."
   ]
  },
  {
   "cell_type": "code",
   "execution_count": 13,
   "metadata": {},
   "outputs": [],
   "source": [
    "df = prepare.treat_nulls(df)"
   ]
  },
  {
   "cell_type": "code",
   "execution_count": 14,
   "metadata": {},
   "outputs": [
    {
     "data": {
      "text/plain": [
       "serial_number                    0\n",
       "manufacturer                     0\n",
       "model                            0\n",
       "capacity_gigabytes               0\n",
       "failure                          0\n",
       "drive_age_in_years               0\n",
       "reallocated_sectors_count        0\n",
       "reported_uncorrectable_errors    0\n",
       "command_timeout                  0\n",
       "current_pending_sector_count     0\n",
       "uncorrectable_sector_count       0\n",
       "dtype: int64"
      ]
     },
     "execution_count": 14,
     "metadata": {},
     "output_type": "execute_result"
    }
   ],
   "source": [
    "df.isnull().sum()"
   ]
  },
  {
   "cell_type": "code",
   "execution_count": 15,
   "metadata": {},
   "outputs": [
    {
     "name": "stdout",
     "output_type": "stream",
     "text": [
      "<class 'pandas.core.frame.DataFrame'>\n",
      "Int64Index: 161830 entries, 0 to 169067\n",
      "Data columns (total 11 columns):\n",
      "serial_number                    161830 non-null object\n",
      "manufacturer                     161830 non-null object\n",
      "model                            161830 non-null object\n",
      "capacity_gigabytes               161830 non-null float64\n",
      "failure                          161830 non-null int64\n",
      "drive_age_in_years               161830 non-null float64\n",
      "reallocated_sectors_count        161830 non-null float64\n",
      "reported_uncorrectable_errors    161830 non-null float64\n",
      "command_timeout                  161830 non-null float64\n",
      "current_pending_sector_count     161830 non-null float64\n",
      "uncorrectable_sector_count       161830 non-null float64\n",
      "dtypes: float64(7), int64(1), object(3)\n",
      "memory usage: 14.8+ MB\n"
     ]
    }
   ],
   "source": [
    "df.info()"
   ]
  },
  {
   "cell_type": "markdown",
   "metadata": {},
   "source": [
    "> After treating all nulls, the dataframe has 11 columns and 161,830 rows. The data is ready to be further explored. "
   ]
  },
  {
   "cell_type": "markdown",
   "metadata": {},
   "source": [
    "#### How many different models? Which are top 5?"
   ]
  },
  {
   "cell_type": "code",
   "execution_count": 16,
   "metadata": {},
   "outputs": [
    {
     "data": {
      "text/plain": [
       "97"
      ]
     },
     "execution_count": 16,
     "metadata": {},
     "output_type": "execute_result"
    }
   ],
   "source": [
    "df.model.nunique()"
   ]
  },
  {
   "cell_type": "code",
   "execution_count": 17,
   "metadata": {},
   "outputs": [
    {
     "data": {
      "text/plain": [
       "ST12000NM0007           38271\n",
       "ST4000DM000             36156\n",
       "HGST HMS5C4040BLE640    16314\n",
       "ST8000NM0055            14810\n",
       "HGST HUH721212ALN604    10875\n",
       "Name: model, dtype: int64"
      ]
     },
     "execution_count": 17,
     "metadata": {},
     "output_type": "execute_result"
    }
   ],
   "source": [
    "df['model'].value_counts().head()"
   ]
  },
  {
   "cell_type": "markdown",
   "metadata": {},
   "source": [
    "#### How many different manufacturers?"
   ]
  },
  {
   "cell_type": "code",
   "execution_count": 18,
   "metadata": {},
   "outputs": [
    {
     "data": {
      "text/plain": [
       "array(['Hitachi', 'Seagate', 'Western Digital', 'Toshiba', 'Unknown',\n",
       "       'Samsung'], dtype=object)"
      ]
     },
     "execution_count": 18,
     "metadata": {},
     "output_type": "execute_result"
    }
   ],
   "source": [
    "df.manufacturer.unique()"
   ]
  },
  {
   "cell_type": "code",
   "execution_count": 19,
   "metadata": {},
   "outputs": [
    {
     "data": {
      "text/plain": [
       "6"
      ]
     },
     "execution_count": 19,
     "metadata": {},
     "output_type": "execute_result"
    }
   ],
   "source": [
    "df.manufacturer.nunique()"
   ]
  },
  {
   "cell_type": "markdown",
   "metadata": {},
   "source": [
    "#### How many different capacity gigabytes sizes?"
   ]
  },
  {
   "cell_type": "code",
   "execution_count": 20,
   "metadata": {},
   "outputs": [
    {
     "data": {
      "text/plain": [
       "array([ 4001.,  3001.,  8002.,   500.,  6001.,  2000.,  1000.,    80.,\n",
       "       12000., 10001., 14001.,  1500.,   160.,   320.,   250.,  5001.])"
      ]
     },
     "execution_count": 20,
     "metadata": {},
     "output_type": "execute_result"
    }
   ],
   "source": [
    "df.capacity_gigabytes.unique()"
   ]
  },
  {
   "cell_type": "code",
   "execution_count": 21,
   "metadata": {},
   "outputs": [
    {
     "data": {
      "text/plain": [
       "16"
      ]
     },
     "execution_count": 21,
     "metadata": {},
     "output_type": "execute_result"
    }
   ],
   "source": [
    "df.capacity_gigabytes.nunique()"
   ]
  },
  {
   "cell_type": "markdown",
   "metadata": {},
   "source": [
    "#### How many hard drives are there for each manufacturer? Model?"
   ]
  },
  {
   "cell_type": "code",
   "execution_count": 22,
   "metadata": {},
   "outputs": [],
   "source": [
    "# create new df to group unique models with their manufacturer\n",
    "unique_manufacturers = df[['model', 'manufacturer']]"
   ]
  },
  {
   "cell_type": "code",
   "execution_count": 23,
   "metadata": {},
   "outputs": [
    {
     "data": {
      "text/html": [
       "<div>\n",
       "<style scoped>\n",
       "    .dataframe tbody tr th:only-of-type {\n",
       "        vertical-align: middle;\n",
       "    }\n",
       "\n",
       "    .dataframe tbody tr th {\n",
       "        vertical-align: top;\n",
       "    }\n",
       "\n",
       "    .dataframe thead th {\n",
       "        text-align: right;\n",
       "    }\n",
       "</style>\n",
       "<table border=\"1\" class=\"dataframe\">\n",
       "  <thead>\n",
       "    <tr style=\"text-align: right;\">\n",
       "      <th></th>\n",
       "      <th>model</th>\n",
       "    </tr>\n",
       "    <tr>\n",
       "      <th>manufacturer</th>\n",
       "      <th></th>\n",
       "    </tr>\n",
       "  </thead>\n",
       "  <tbody>\n",
       "    <tr>\n",
       "      <th>Hitachi</th>\n",
       "      <td>51417</td>\n",
       "    </tr>\n",
       "    <tr>\n",
       "      <th>Samsung</th>\n",
       "      <td>1</td>\n",
       "    </tr>\n",
       "    <tr>\n",
       "      <th>Seagate</th>\n",
       "      <td>105012</td>\n",
       "    </tr>\n",
       "    <tr>\n",
       "      <th>Toshiba</th>\n",
       "      <td>2573</td>\n",
       "    </tr>\n",
       "    <tr>\n",
       "      <th>Unknown</th>\n",
       "      <td>1</td>\n",
       "    </tr>\n",
       "    <tr>\n",
       "      <th>Western Digital</th>\n",
       "      <td>2826</td>\n",
       "    </tr>\n",
       "  </tbody>\n",
       "</table>\n",
       "</div>"
      ],
      "text/plain": [
       "                  model\n",
       "manufacturer           \n",
       "Hitachi           51417\n",
       "Samsung               1\n",
       "Seagate          105012\n",
       "Toshiba            2573\n",
       "Unknown               1\n",
       "Western Digital    2826"
      ]
     },
     "execution_count": 23,
     "metadata": {},
     "output_type": "execute_result"
    }
   ],
   "source": [
    "unique_manufacturers.groupby('manufacturer').count()"
   ]
  },
  {
   "cell_type": "markdown",
   "metadata": {},
   "source": [
    "The `explore.remove_manufacturer` function reads in the dataframe and removes the two manufacturers with low value count."
   ]
  },
  {
   "cell_type": "code",
   "execution_count": 24,
   "metadata": {},
   "outputs": [],
   "source": [
    "df = explore.remove_manufacturers(df)"
   ]
  },
  {
   "cell_type": "markdown",
   "metadata": {},
   "source": [
    "#### Are model numbers unique to specs?"
   ]
  },
  {
   "cell_type": "code",
   "execution_count": 25,
   "metadata": {},
   "outputs": [],
   "source": [
    "# create new df to group models with their capacity gigabytes\n",
    "model_gigabytes = df[['model', 'capacity_gigabytes']]"
   ]
  },
  {
   "cell_type": "code",
   "execution_count": 26,
   "metadata": {},
   "outputs": [
    {
     "data": {
      "text/plain": [
       "95"
      ]
     },
     "execution_count": 26,
     "metadata": {},
     "output_type": "execute_result"
    }
   ],
   "source": [
    "# count unique models\n",
    "model_gigabytes.model.nunique()"
   ]
  },
  {
   "cell_type": "code",
   "execution_count": 82,
   "metadata": {},
   "outputs": [],
   "source": [
    "# group unique model and unique gigabytes combinations\n",
    "unique_model_gigabytes = len(model_gigabytes.groupby(['model', 'capacity_gigabytes']).count())"
   ]
  },
  {
   "cell_type": "code",
   "execution_count": 83,
   "metadata": {},
   "outputs": [
    {
     "data": {
      "text/plain": [
       "True"
      ]
     },
     "execution_count": 83,
     "metadata": {},
     "output_type": "execute_result"
    }
   ],
   "source": [
    "# compare the length of unique model and gigabytes combinations to the count of unique models, must equal a match.\n",
    "unique_model_gigabytes == model_gigabytes.model.nunique()"
   ]
  },
  {
   "cell_type": "markdown",
   "metadata": {},
   "source": [
    "#### Can the same model number have different gigabytes? "
   ]
  },
  {
   "cell_type": "markdown",
   "metadata": {},
   "source": [
    "> The same model number does not have any occurances in the df of having different gigabytes assignments."
   ]
  },
  {
   "cell_type": "markdown",
   "metadata": {},
   "source": [
    "#### How do the lifespans of hard drives that have failed compared to hard drives that have not failed?"
   ]
  },
  {
   "cell_type": "code",
   "execution_count": 29,
   "metadata": {},
   "outputs": [],
   "source": [
    "# create new dfs with hard drives that have failed, and hard drives that have not failed \n",
    "df_fails = df [df.failure == 1]\n",
    "df_lives = df [df.failure == 0]"
   ]
  },
  {
   "cell_type": "code",
   "execution_count": 144,
   "metadata": {},
   "outputs": [
    {
     "data": {
      "image/png": "[encoded data removed]",
      "text/plain": [
       "<Figure size 720x432 with 1 Axes>"
      ]
     },
     "metadata": {},
     "output_type": "display_data"
    }
   ],
   "source": [
    "plt.figure(figsize=(10,6))\n",
    "plt.hist([df_fails.drive_age_in_years, df_lives.drive_age_in_years], stacked=True, bins=20,\n",
    "         edgecolor='slategrey', color=['salmon', 'mistyrose'])\n",
    "plt.legend([\"drives that have failed\",\"drives that haven't failed\"])\n",
    "plt.title(\"Distribution of the life of a hard drive\")\n",
    "plt.xlabel(\"lifespan in years\")\n",
    "plt.yticks([])\n",
    "plt.show()"
   ]
  },
  {
   "cell_type": "markdown",
   "metadata": {},
   "source": [
    "#### How do non-zero SMART stat values compare to among fail and non-fail"
   ]
  },
  {
   "cell_type": "code",
   "execution_count": 31,
   "metadata": {},
   "outputs": [],
   "source": [
    "# misty"
   ]
  },
  {
   "cell_type": "markdown",
   "metadata": {},
   "source": [
    "#### Does the average age of drive vary by manufacturer? model number?"
   ]
  },
  {
   "cell_type": "code",
   "execution_count": 135,
   "metadata": {},
   "outputs": [
    {
     "data": {
      "text/html": [
       "<div>\n",
       "<style scoped>\n",
       "    .dataframe tbody tr th:only-of-type {\n",
       "        vertical-align: middle;\n",
       "    }\n",
       "\n",
       "    .dataframe tbody tr th {\n",
       "        vertical-align: top;\n",
       "    }\n",
       "\n",
       "    .dataframe thead th {\n",
       "        text-align: right;\n",
       "    }\n",
       "</style>\n",
       "<table border=\"1\" class=\"dataframe\">\n",
       "  <thead>\n",
       "    <tr style=\"text-align: right;\">\n",
       "      <th></th>\n",
       "      <th>drive_age_in_years</th>\n",
       "    </tr>\n",
       "    <tr>\n",
       "      <th>manufacturer</th>\n",
       "      <th></th>\n",
       "    </tr>\n",
       "  </thead>\n",
       "  <tbody>\n",
       "    <tr>\n",
       "      <th>Hitachi</th>\n",
       "      <td>3.923674</td>\n",
       "    </tr>\n",
       "    <tr>\n",
       "      <th>Seagate</th>\n",
       "      <td>3.065102</td>\n",
       "    </tr>\n",
       "    <tr>\n",
       "      <th>Toshiba</th>\n",
       "      <td>2.605253</td>\n",
       "    </tr>\n",
       "    <tr>\n",
       "      <th>Western Digital</th>\n",
       "      <td>3.997586</td>\n",
       "    </tr>\n",
       "  </tbody>\n",
       "</table>\n",
       "</div>"
      ],
      "text/plain": [
       "                 drive_age_in_years\n",
       "manufacturer                       \n",
       "Hitachi                    3.923674\n",
       "Seagate                    3.065102\n",
       "Toshiba                    2.605253\n",
       "Western Digital            3.997586"
      ]
     },
     "execution_count": 135,
     "metadata": {},
     "output_type": "execute_result"
    }
   ],
   "source": [
    "# Average drive age by manufacturer\n",
    "manufacturer_avg_age = df[['manufacturer', 'drive_age_in_years']]\n",
    "man = manufacturer_avg_age.groupby('manufacturer',sort=True).mean()\n",
    "man"
   ]
  },
  {
   "cell_type": "code",
   "execution_count": 147,
   "metadata": {},
   "outputs": [
    {
     "data": {
      "text/plain": [
       "Text(0.5, 1.0, 'Manufacturers by Average Drive Age')"
      ]
     },
     "execution_count": 147,
     "metadata": {},
     "output_type": "execute_result"
    },
    {
     "data": {
      "image/png": "[encoded data removed]",
      "text/plain": [
       "<Figure size 864x864 with 1 Axes>"
      ]
     },
     "metadata": {},
     "output_type": "display_data"
    }
   ],
   "source": [
    "# Plot of Manufacturers by Average Drive Age\n",
    "ax1 = plt.scatter(x= man.index ,y=man.drive_age_in_years, s=200)\n",
    "plt.xlabel('Manufacturers')\n",
    "plt.ylabel('Average Drive Age (Years)')\n",
    "plt.title('Manufacturers by Average Drive Age')"
   ]
  },
  {
   "cell_type": "code",
   "execution_count": 137,
   "metadata": {},
   "outputs": [
    {
     "data": {
      "text/html": [
       "<div>\n",
       "<style scoped>\n",
       "    .dataframe tbody tr th:only-of-type {\n",
       "        vertical-align: middle;\n",
       "    }\n",
       "\n",
       "    .dataframe tbody tr th {\n",
       "        vertical-align: top;\n",
       "    }\n",
       "\n",
       "    .dataframe thead th {\n",
       "        text-align: right;\n",
       "    }\n",
       "</style>\n",
       "<table border=\"1\" class=\"dataframe\">\n",
       "  <thead>\n",
       "    <tr style=\"text-align: right;\">\n",
       "      <th></th>\n",
       "      <th>drive_age_in_years</th>\n",
       "    </tr>\n",
       "  </thead>\n",
       "  <tbody>\n",
       "    <tr>\n",
       "      <th>count</th>\n",
       "      <td>90.000000</td>\n",
       "    </tr>\n",
       "    <tr>\n",
       "      <th>mean</th>\n",
       "      <td>3.698541</td>\n",
       "    </tr>\n",
       "    <tr>\n",
       "      <th>std</th>\n",
       "      <td>1.903913</td>\n",
       "    </tr>\n",
       "    <tr>\n",
       "      <th>min</th>\n",
       "      <td>0.000000</td>\n",
       "    </tr>\n",
       "    <tr>\n",
       "      <th>25%</th>\n",
       "      <td>2.600000</td>\n",
       "    </tr>\n",
       "    <tr>\n",
       "      <th>50%</th>\n",
       "      <td>3.798751</td>\n",
       "    </tr>\n",
       "    <tr>\n",
       "      <th>75%</th>\n",
       "      <td>4.775000</td>\n",
       "    </tr>\n",
       "    <tr>\n",
       "      <th>max</th>\n",
       "      <td>10.300000</td>\n",
       "    </tr>\n",
       "  </tbody>\n",
       "</table>\n",
       "</div>"
      ],
      "text/plain": [
       "       drive_age_in_years\n",
       "count           90.000000\n",
       "mean             3.698541\n",
       "std              1.903913\n",
       "min              0.000000\n",
       "25%              2.600000\n",
       "50%              3.798751\n",
       "75%              4.775000\n",
       "max             10.300000"
      ]
     },
     "execution_count": 137,
     "metadata": {},
     "output_type": "execute_result"
    }
   ],
   "source": [
    "# Average drive age by model\n",
    "model_avg_age = df[['model', 'drive_age_in_years']]\n",
    "model_avg_age.groupby('model',sort=True).mean().describe()"
   ]
  },
  {
   "cell_type": "code",
   "execution_count": 138,
   "metadata": {},
   "outputs": [
    {
     "data": {
      "text/plain": [
       "Text(0.5, 1.0, 'Models by Average Drive Age')"
      ]
     },
     "execution_count": 138,
     "metadata": {},
     "output_type": "execute_result"
    },
    {
     "data": {
      "image/png": "[encoded data removed]",
      "text/plain": [
       "<Figure size 864x864 with 1 Axes>"
      ]
     },
     "metadata": {},
     "output_type": "display_data"
    }
   ],
   "source": [
    "# Plot of Models by Average Drive Age\n",
    "mod = model_avg_age.groupby('model',sort=True).mean()\n",
    "ax2 = plt.scatter(x= mod.index ,y=mod.drive_age_in_years)\n",
    "ax2.axes.get_xaxis().set_ticks([])\n",
    "plt.xlabel('Individual Model')\n",
    "plt.ylabel('Average Drive Age (Years)')\n",
    "plt.title('Models by Average Drive Age')"
   ]
  },
  {
   "cell_type": "markdown",
   "metadata": {},
   "source": [
    "#### Do failure rates vary by model number?"
   ]
  },
  {
   "cell_type": "code",
   "execution_count": 142,
   "metadata": {},
   "outputs": [
    {
     "data": {
      "text/html": [
       "<div>\n",
       "<style scoped>\n",
       "    .dataframe tbody tr th:only-of-type {\n",
       "        vertical-align: middle;\n",
       "    }\n",
       "\n",
       "    .dataframe tbody tr th {\n",
       "        vertical-align: top;\n",
       "    }\n",
       "\n",
       "    .dataframe thead th {\n",
       "        text-align: right;\n",
       "    }\n",
       "</style>\n",
       "<table border=\"1\" class=\"dataframe\">\n",
       "  <thead>\n",
       "    <tr style=\"text-align: right;\">\n",
       "      <th></th>\n",
       "      <th>failures</th>\n",
       "      <th>total_count</th>\n",
       "      <th>drive_age_in_years</th>\n",
       "      <th>failure_rate_percent</th>\n",
       "    </tr>\n",
       "    <tr>\n",
       "      <th>model</th>\n",
       "      <th></th>\n",
       "      <th></th>\n",
       "      <th></th>\n",
       "      <th></th>\n",
       "    </tr>\n",
       "  </thead>\n",
       "  <tbody>\n",
       "    <tr>\n",
       "      <th>ST4000DM000</th>\n",
       "      <td>2858</td>\n",
       "      <td>35738</td>\n",
       "      <td>3.907723</td>\n",
       "      <td>7.997090</td>\n",
       "    </tr>\n",
       "    <tr>\n",
       "      <th>ST12000NM0007</th>\n",
       "      <td>1104</td>\n",
       "      <td>14881</td>\n",
       "      <td>1.763920</td>\n",
       "      <td>7.418856</td>\n",
       "    </tr>\n",
       "    <tr>\n",
       "      <th>ST8000NM0055</th>\n",
       "      <td>383</td>\n",
       "      <td>14499</td>\n",
       "      <td>2.231747</td>\n",
       "      <td>2.641561</td>\n",
       "    </tr>\n",
       "    <tr>\n",
       "      <th>ST8000DM002</th>\n",
       "      <td>321</td>\n",
       "      <td>10041</td>\n",
       "      <td>3.008097</td>\n",
       "      <td>3.196893</td>\n",
       "    </tr>\n",
       "    <tr>\n",
       "      <th>HGST HMS5C4040BLE640</th>\n",
       "      <td>222</td>\n",
       "      <td>15844</td>\n",
       "      <td>3.189504</td>\n",
       "      <td>1.401161</td>\n",
       "    </tr>\n",
       "    <tr>\n",
       "      <th>TOSHIBA MQ01ABF050</th>\n",
       "      <td>115</td>\n",
       "      <td>545</td>\n",
       "      <td>2.149174</td>\n",
       "      <td>21.100917</td>\n",
       "    </tr>\n",
       "    <tr>\n",
       "      <th>ST500LM012 HN</th>\n",
       "      <td>92</td>\n",
       "      <td>715</td>\n",
       "      <td>3.273287</td>\n",
       "      <td>12.867133</td>\n",
       "    </tr>\n",
       "    <tr>\n",
       "      <th>HGST HMS5C4040ALE640</th>\n",
       "      <td>88</td>\n",
       "      <td>8617</td>\n",
       "      <td>3.698445</td>\n",
       "      <td>1.021237</td>\n",
       "    </tr>\n",
       "    <tr>\n",
       "      <th>ST4000DX000</th>\n",
       "      <td>71</td>\n",
       "      <td>212</td>\n",
       "      <td>3.899057</td>\n",
       "      <td>33.490566</td>\n",
       "    </tr>\n",
       "    <tr>\n",
       "      <th>ST320LT007</th>\n",
       "      <td>63</td>\n",
       "      <td>73</td>\n",
       "      <td>3.382192</td>\n",
       "      <td>86.301370</td>\n",
       "    </tr>\n",
       "    <tr>\n",
       "      <th>ST6000DX000</th>\n",
       "      <td>55</td>\n",
       "      <td>1911</td>\n",
       "      <td>4.079069</td>\n",
       "      <td>2.878074</td>\n",
       "    </tr>\n",
       "    <tr>\n",
       "      <th>Hitachi HDS5C3030ALA630</th>\n",
       "      <td>50</td>\n",
       "      <td>4561</td>\n",
       "      <td>5.046196</td>\n",
       "      <td>1.096251</td>\n",
       "    </tr>\n",
       "    <tr>\n",
       "      <th>Hitachi HDS722020ALA330</th>\n",
       "      <td>48</td>\n",
       "      <td>4503</td>\n",
       "      <td>5.447746</td>\n",
       "      <td>1.065956</td>\n",
       "    </tr>\n",
       "    <tr>\n",
       "      <th>WDC WD30EFRX</th>\n",
       "      <td>47</td>\n",
       "      <td>1083</td>\n",
       "      <td>3.162973</td>\n",
       "      <td>4.339797</td>\n",
       "    </tr>\n",
       "    <tr>\n",
       "      <th>WDC WD60EFRX</th>\n",
       "      <td>44</td>\n",
       "      <td>471</td>\n",
       "      <td>3.971762</td>\n",
       "      <td>9.341826</td>\n",
       "    </tr>\n",
       "    <tr>\n",
       "      <th>ST4000DM001</th>\n",
       "      <td>34</td>\n",
       "      <td>34</td>\n",
       "      <td>0.244118</td>\n",
       "      <td>100.000000</td>\n",
       "    </tr>\n",
       "    <tr>\n",
       "      <th>WDC WD5000LPVX</th>\n",
       "      <td>30</td>\n",
       "      <td>342</td>\n",
       "      <td>4.132456</td>\n",
       "      <td>8.771930</td>\n",
       "    </tr>\n",
       "    <tr>\n",
       "      <th>ST500LM030</th>\n",
       "      <td>28</td>\n",
       "      <td>28</td>\n",
       "      <td>0.439286</td>\n",
       "      <td>100.000000</td>\n",
       "    </tr>\n",
       "    <tr>\n",
       "      <th>Hitachi HDS723030ALA640</th>\n",
       "      <td>26</td>\n",
       "      <td>1000</td>\n",
       "      <td>5.384900</td>\n",
       "      <td>2.600000</td>\n",
       "    </tr>\n",
       "    <tr>\n",
       "      <th>HGST HUH721212ALN604</th>\n",
       "      <td>25</td>\n",
       "      <td>25</td>\n",
       "      <td>0.244000</td>\n",
       "      <td>100.000000</td>\n",
       "    </tr>\n",
       "    <tr>\n",
       "      <th>Hitachi HDS5C4040ALE630</th>\n",
       "      <td>21</td>\n",
       "      <td>2639</td>\n",
       "      <td>4.831982</td>\n",
       "      <td>0.795756</td>\n",
       "    </tr>\n",
       "    <tr>\n",
       "      <th>TOSHIBA MQ01ABF050M</th>\n",
       "      <td>19</td>\n",
       "      <td>192</td>\n",
       "      <td>2.060937</td>\n",
       "      <td>9.895833</td>\n",
       "    </tr>\n",
       "    <tr>\n",
       "      <th>ST10000NM0086</th>\n",
       "      <td>14</td>\n",
       "      <td>1204</td>\n",
       "      <td>1.990947</td>\n",
       "      <td>1.162791</td>\n",
       "    </tr>\n",
       "    <tr>\n",
       "      <th>WDC WD800AAJS</th>\n",
       "      <td>14</td>\n",
       "      <td>14</td>\n",
       "      <td>4.078571</td>\n",
       "      <td>100.000000</td>\n",
       "    </tr>\n",
       "    <tr>\n",
       "      <th>HGST HUH728080ALE600</th>\n",
       "      <td>13</td>\n",
       "      <td>1046</td>\n",
       "      <td>1.981549</td>\n",
       "      <td>1.242830</td>\n",
       "    </tr>\n",
       "    <tr>\n",
       "      <th>TOSHIBA MG07ACA14TA</th>\n",
       "      <td>11</td>\n",
       "      <td>11</td>\n",
       "      <td>0.200000</td>\n",
       "      <td>100.000000</td>\n",
       "    </tr>\n",
       "    <tr>\n",
       "      <th>WDC WD1600AAJS</th>\n",
       "      <td>8</td>\n",
       "      <td>100</td>\n",
       "      <td>5.147000</td>\n",
       "      <td>8.000000</td>\n",
       "    </tr>\n",
       "    <tr>\n",
       "      <th>ST3160318AS</th>\n",
       "      <td>7</td>\n",
       "      <td>47</td>\n",
       "      <td>5.878723</td>\n",
       "      <td>14.893617</td>\n",
       "    </tr>\n",
       "    <tr>\n",
       "      <th>WDC WD10EADS</th>\n",
       "      <td>7</td>\n",
       "      <td>295</td>\n",
       "      <td>6.154576</td>\n",
       "      <td>2.372881</td>\n",
       "    </tr>\n",
       "    <tr>\n",
       "      <th>WDC WD20EFRX</th>\n",
       "      <td>6</td>\n",
       "      <td>29</td>\n",
       "      <td>1.755172</td>\n",
       "      <td>20.689655</td>\n",
       "    </tr>\n",
       "    <tr>\n",
       "      <th>...</th>\n",
       "      <td>...</td>\n",
       "      <td>...</td>\n",
       "      <td>...</td>\n",
       "      <td>...</td>\n",
       "    </tr>\n",
       "    <tr>\n",
       "      <th>TOSHIBA MD04ABA500V</th>\n",
       "      <td>1</td>\n",
       "      <td>46</td>\n",
       "      <td>4.008696</td>\n",
       "      <td>2.173913</td>\n",
       "    </tr>\n",
       "    <tr>\n",
       "      <th>ST3500320AS</th>\n",
       "      <td>1</td>\n",
       "      <td>1</td>\n",
       "      <td>4.900000</td>\n",
       "      <td>100.000000</td>\n",
       "    </tr>\n",
       "    <tr>\n",
       "      <th>TOSHIBA MD04ABA400V</th>\n",
       "      <td>1</td>\n",
       "      <td>147</td>\n",
       "      <td>4.258503</td>\n",
       "      <td>0.680272</td>\n",
       "    </tr>\n",
       "    <tr>\n",
       "      <th>WDC WD800LB</th>\n",
       "      <td>1</td>\n",
       "      <td>1</td>\n",
       "      <td>10.300000</td>\n",
       "      <td>100.000000</td>\n",
       "    </tr>\n",
       "    <tr>\n",
       "      <th>WDC WD1001FALS</th>\n",
       "      <td>0</td>\n",
       "      <td>1</td>\n",
       "      <td>1.700000</td>\n",
       "      <td>0.000000</td>\n",
       "    </tr>\n",
       "    <tr>\n",
       "      <th>WDC WD1000FYPS</th>\n",
       "      <td>0</td>\n",
       "      <td>1</td>\n",
       "      <td>3.600000</td>\n",
       "      <td>0.000000</td>\n",
       "    </tr>\n",
       "    <tr>\n",
       "      <th>Hitachi HDS5C3030BLE630</th>\n",
       "      <td>0</td>\n",
       "      <td>1</td>\n",
       "      <td>4.100000</td>\n",
       "      <td>0.000000</td>\n",
       "    </tr>\n",
       "    <tr>\n",
       "      <th>Hitachi HDS723020BLA642</th>\n",
       "      <td>0</td>\n",
       "      <td>8</td>\n",
       "      <td>3.612500</td>\n",
       "      <td>0.000000</td>\n",
       "    </tr>\n",
       "    <tr>\n",
       "      <th>Hitachi HDS723030BLE640</th>\n",
       "      <td>0</td>\n",
       "      <td>9</td>\n",
       "      <td>4.011111</td>\n",
       "      <td>0.000000</td>\n",
       "    </tr>\n",
       "    <tr>\n",
       "      <th>Hitachi HDS724040ALE640</th>\n",
       "      <td>0</td>\n",
       "      <td>3</td>\n",
       "      <td>3.466667</td>\n",
       "      <td>0.000000</td>\n",
       "    </tr>\n",
       "    <tr>\n",
       "      <th>Hitachi HDT725025VLA380</th>\n",
       "      <td>0</td>\n",
       "      <td>1</td>\n",
       "      <td>7.800000</td>\n",
       "      <td>0.000000</td>\n",
       "    </tr>\n",
       "    <tr>\n",
       "      <th>ST1000LM024 HN</th>\n",
       "      <td>0</td>\n",
       "      <td>1</td>\n",
       "      <td>2.800000</td>\n",
       "      <td>0.000000</td>\n",
       "    </tr>\n",
       "    <tr>\n",
       "      <th>WDC WD5003ABYX</th>\n",
       "      <td>0</td>\n",
       "      <td>2</td>\n",
       "      <td>2.700000</td>\n",
       "      <td>0.000000</td>\n",
       "    </tr>\n",
       "    <tr>\n",
       "      <th>ST2000VN000</th>\n",
       "      <td>0</td>\n",
       "      <td>1</td>\n",
       "      <td>2.600000</td>\n",
       "      <td>0.000000</td>\n",
       "    </tr>\n",
       "    <tr>\n",
       "      <th>ST31500341AS</th>\n",
       "      <td>0</td>\n",
       "      <td>1</td>\n",
       "      <td>6.300000</td>\n",
       "      <td>0.000000</td>\n",
       "    </tr>\n",
       "    <tr>\n",
       "      <th>ST33000651AS</th>\n",
       "      <td>0</td>\n",
       "      <td>1</td>\n",
       "      <td>5.400000</td>\n",
       "      <td>0.000000</td>\n",
       "    </tr>\n",
       "    <tr>\n",
       "      <th>WDC WD15EARS</th>\n",
       "      <td>0</td>\n",
       "      <td>1</td>\n",
       "      <td>5.100000</td>\n",
       "      <td>0.000000</td>\n",
       "    </tr>\n",
       "    <tr>\n",
       "      <th>ST6000DM001</th>\n",
       "      <td>0</td>\n",
       "      <td>10</td>\n",
       "      <td>2.300000</td>\n",
       "      <td>0.000000</td>\n",
       "    </tr>\n",
       "    <tr>\n",
       "      <th>WDC WD3200LPVX</th>\n",
       "      <td>0</td>\n",
       "      <td>1</td>\n",
       "      <td>4.300000</td>\n",
       "      <td>0.000000</td>\n",
       "    </tr>\n",
       "    <tr>\n",
       "      <th>HGST HDS724040ALE640</th>\n",
       "      <td>0</td>\n",
       "      <td>40</td>\n",
       "      <td>4.015000</td>\n",
       "      <td>0.000000</td>\n",
       "    </tr>\n",
       "    <tr>\n",
       "      <th>WDC WD10EARX</th>\n",
       "      <td>0</td>\n",
       "      <td>2</td>\n",
       "      <td>2.950000</td>\n",
       "      <td>0.000000</td>\n",
       "    </tr>\n",
       "    <tr>\n",
       "      <th>WDC WD3200AAKS</th>\n",
       "      <td>0</td>\n",
       "      <td>1</td>\n",
       "      <td>6.800000</td>\n",
       "      <td>0.000000</td>\n",
       "    </tr>\n",
       "    <tr>\n",
       "      <th>WDC WD3200AAJS</th>\n",
       "      <td>0</td>\n",
       "      <td>3</td>\n",
       "      <td>4.166667</td>\n",
       "      <td>0.000000</td>\n",
       "    </tr>\n",
       "    <tr>\n",
       "      <th>WDC WD10EALS</th>\n",
       "      <td>0</td>\n",
       "      <td>1</td>\n",
       "      <td>3.500000</td>\n",
       "      <td>0.000000</td>\n",
       "    </tr>\n",
       "    <tr>\n",
       "      <th>WDC WD10EADX</th>\n",
       "      <td>0</td>\n",
       "      <td>14</td>\n",
       "      <td>2.764286</td>\n",
       "      <td>0.000000</td>\n",
       "    </tr>\n",
       "    <tr>\n",
       "      <th>WDC WD2500BPVT</th>\n",
       "      <td>0</td>\n",
       "      <td>8</td>\n",
       "      <td>4.612500</td>\n",
       "      <td>0.000000</td>\n",
       "    </tr>\n",
       "    <tr>\n",
       "      <th>WDC WD2500BEVT</th>\n",
       "      <td>0</td>\n",
       "      <td>1</td>\n",
       "      <td>3.400000</td>\n",
       "      <td>0.000000</td>\n",
       "    </tr>\n",
       "    <tr>\n",
       "      <th>WDC WD2500AAJS</th>\n",
       "      <td>0</td>\n",
       "      <td>3</td>\n",
       "      <td>4.700000</td>\n",
       "      <td>0.000000</td>\n",
       "    </tr>\n",
       "    <tr>\n",
       "      <th>WDC WD2500AAJB</th>\n",
       "      <td>0</td>\n",
       "      <td>1</td>\n",
       "      <td>3.600000</td>\n",
       "      <td>0.000000</td>\n",
       "    </tr>\n",
       "    <tr>\n",
       "      <th>WDC WD10EARS</th>\n",
       "      <td>0</td>\n",
       "      <td>3</td>\n",
       "      <td>4.433333</td>\n",
       "      <td>0.000000</td>\n",
       "    </tr>\n",
       "  </tbody>\n",
       "</table>\n",
       "<p>90 rows × 4 columns</p>\n",
       "</div>"
      ],
      "text/plain": [
       "                         failures  total_count  drive_age_in_years  \\\n",
       "model                                                                \n",
       "ST4000DM000                  2858        35738            3.907723   \n",
       "ST12000NM0007                1104        14881            1.763920   \n",
       "ST8000NM0055                  383        14499            2.231747   \n",
       "ST8000DM002                   321        10041            3.008097   \n",
       "HGST HMS5C4040BLE640          222        15844            3.189504   \n",
       "TOSHIBA MQ01ABF050            115          545            2.149174   \n",
       "ST500LM012 HN                  92          715            3.273287   \n",
       "HGST HMS5C4040ALE640           88         8617            3.698445   \n",
       "ST4000DX000                    71          212            3.899057   \n",
       "ST320LT007                     63           73            3.382192   \n",
       "ST6000DX000                    55         1911            4.079069   \n",
       "Hitachi HDS5C3030ALA630        50         4561            5.046196   \n",
       "Hitachi HDS722020ALA330        48         4503            5.447746   \n",
       "WDC WD30EFRX                   47         1083            3.162973   \n",
       "WDC WD60EFRX                   44          471            3.971762   \n",
       "ST4000DM001                    34           34            0.244118   \n",
       "WDC WD5000LPVX                 30          342            4.132456   \n",
       "ST500LM030                     28           28            0.439286   \n",
       "Hitachi HDS723030ALA640        26         1000            5.384900   \n",
       "HGST HUH721212ALN604           25           25            0.244000   \n",
       "Hitachi HDS5C4040ALE630        21         2639            4.831982   \n",
       "TOSHIBA MQ01ABF050M            19          192            2.060937   \n",
       "ST10000NM0086                  14         1204            1.990947   \n",
       "WDC WD800AAJS                  14           14            4.078571   \n",
       "HGST HUH728080ALE600           13         1046            1.981549   \n",
       "TOSHIBA MG07ACA14TA            11           11            0.200000   \n",
       "WDC WD1600AAJS                  8          100            5.147000   \n",
       "ST3160318AS                     7           47            5.878723   \n",
       "WDC WD10EADS                    7          295            6.154576   \n",
       "WDC WD20EFRX                    6           29            1.755172   \n",
       "...                           ...          ...                 ...   \n",
       "TOSHIBA MD04ABA500V             1           46            4.008696   \n",
       "ST3500320AS                     1            1            4.900000   \n",
       "TOSHIBA MD04ABA400V             1          147            4.258503   \n",
       "WDC WD800LB                     1            1           10.300000   \n",
       "WDC WD1001FALS                  0            1            1.700000   \n",
       "WDC WD1000FYPS                  0            1            3.600000   \n",
       "Hitachi HDS5C3030BLE630         0            1            4.100000   \n",
       "Hitachi HDS723020BLA642         0            8            3.612500   \n",
       "Hitachi HDS723030BLE640         0            9            4.011111   \n",
       "Hitachi HDS724040ALE640         0            3            3.466667   \n",
       "Hitachi HDT725025VLA380         0            1            7.800000   \n",
       "ST1000LM024 HN                  0            1            2.800000   \n",
       "WDC WD5003ABYX                  0            2            2.700000   \n",
       "ST2000VN000                     0            1            2.600000   \n",
       "ST31500341AS                    0            1            6.300000   \n",
       "ST33000651AS                    0            1            5.400000   \n",
       "WDC WD15EARS                    0            1            5.100000   \n",
       "ST6000DM001                     0           10            2.300000   \n",
       "WDC WD3200LPVX                  0            1            4.300000   \n",
       "HGST HDS724040ALE640            0           40            4.015000   \n",
       "WDC WD10EARX                    0            2            2.950000   \n",
       "WDC WD3200AAKS                  0            1            6.800000   \n",
       "WDC WD3200AAJS                  0            3            4.166667   \n",
       "WDC WD10EALS                    0            1            3.500000   \n",
       "WDC WD10EADX                    0           14            2.764286   \n",
       "WDC WD2500BPVT                  0            8            4.612500   \n",
       "WDC WD2500BEVT                  0            1            3.400000   \n",
       "WDC WD2500AAJS                  0            3            4.700000   \n",
       "WDC WD2500AAJB                  0            1            3.600000   \n",
       "WDC WD10EARS                    0            3            4.433333   \n",
       "\n",
       "                         failure_rate_percent  \n",
       "model                                          \n",
       "ST4000DM000                          7.997090  \n",
       "ST12000NM0007                        7.418856  \n",
       "ST8000NM0055                         2.641561  \n",
       "ST8000DM002                          3.196893  \n",
       "HGST HMS5C4040BLE640                 1.401161  \n",
       "TOSHIBA MQ01ABF050                  21.100917  \n",
       "ST500LM012 HN                       12.867133  \n",
       "HGST HMS5C4040ALE640                 1.021237  \n",
       "ST4000DX000                         33.490566  \n",
       "ST320LT007                          86.301370  \n",
       "ST6000DX000                          2.878074  \n",
       "Hitachi HDS5C3030ALA630              1.096251  \n",
       "Hitachi HDS722020ALA330              1.065956  \n",
       "WDC WD30EFRX                         4.339797  \n",
       "WDC WD60EFRX                         9.341826  \n",
       "ST4000DM001                        100.000000  \n",
       "WDC WD5000LPVX                       8.771930  \n",
       "ST500LM030                         100.000000  \n",
       "Hitachi HDS723030ALA640              2.600000  \n",
       "HGST HUH721212ALN604               100.000000  \n",
       "Hitachi HDS5C4040ALE630              0.795756  \n",
       "TOSHIBA MQ01ABF050M                  9.895833  \n",
       "ST10000NM0086                        1.162791  \n",
       "WDC WD800AAJS                      100.000000  \n",
       "HGST HUH728080ALE600                 1.242830  \n",
       "TOSHIBA MG07ACA14TA                100.000000  \n",
       "WDC WD1600AAJS                       8.000000  \n",
       "ST3160318AS                         14.893617  \n",
       "WDC WD10EADS                         2.372881  \n",
       "WDC WD20EFRX                        20.689655  \n",
       "...                                       ...  \n",
       "TOSHIBA MD04ABA500V                  2.173913  \n",
       "ST3500320AS                        100.000000  \n",
       "TOSHIBA MD04ABA400V                  0.680272  \n",
       "WDC WD800LB                        100.000000  \n",
       "WDC WD1001FALS                       0.000000  \n",
       "WDC WD1000FYPS                       0.000000  \n",
       "Hitachi HDS5C3030BLE630              0.000000  \n",
       "Hitachi HDS723020BLA642              0.000000  \n",
       "Hitachi HDS723030BLE640              0.000000  \n",
       "Hitachi HDS724040ALE640              0.000000  \n",
       "Hitachi HDT725025VLA380              0.000000  \n",
       "ST1000LM024 HN                       0.000000  \n",
       "WDC WD5003ABYX                       0.000000  \n",
       "ST2000VN000                          0.000000  \n",
       "ST31500341AS                         0.000000  \n",
       "ST33000651AS                         0.000000  \n",
       "WDC WD15EARS                         0.000000  \n",
       "ST6000DM001                          0.000000  \n",
       "WDC WD3200LPVX                       0.000000  \n",
       "HGST HDS724040ALE640                 0.000000  \n",
       "WDC WD10EARX                         0.000000  \n",
       "WDC WD3200AAKS                       0.000000  \n",
       "WDC WD3200AAJS                       0.000000  \n",
       "WDC WD10EALS                         0.000000  \n",
       "WDC WD10EADX                         0.000000  \n",
       "WDC WD2500BPVT                       0.000000  \n",
       "WDC WD2500BEVT                       0.000000  \n",
       "WDC WD2500AAJS                       0.000000  \n",
       "WDC WD2500AAJB                       0.000000  \n",
       "WDC WD10EARS                         0.000000  \n",
       "\n",
       "[90 rows x 4 columns]"
      ]
     },
     "execution_count": 142,
     "metadata": {},
     "output_type": "execute_result"
    }
   ],
   "source": [
    "agg_model = df.groupby(['model']).agg({'failure' : 'sum', 'model' : 'count', 'drive_age_in_years':'mean'})\n",
    "agg_model.rename(columns={'failure':'failures', 'model':'total_count'}, inplace=True)\n",
    "agg_model['failure_rate_percent'] = agg_model['failures'] / agg_model['total_count'] * 100\n",
    "agg_model.sort_values(by=['failures'], ascending = False)"
   ]
  },
  {
   "cell_type": "markdown",
   "metadata": {},
   "source": [
    "#### Determine early failure cutoff "
   ]
  },
  {
   "cell_type": "markdown",
   "metadata": {},
   "source": [
    "We decided to use the first quartile of the data as our cut off for early failures. 2 years."
   ]
  },
  {
   "cell_type": "code",
   "execution_count": 34,
   "metadata": {},
   "outputs": [
    {
     "data": {
      "text/html": [
       "<div>\n",
       "<style scoped>\n",
       "    .dataframe tbody tr th:only-of-type {\n",
       "        vertical-align: middle;\n",
       "    }\n",
       "\n",
       "    .dataframe tbody tr th {\n",
       "        vertical-align: top;\n",
       "    }\n",
       "\n",
       "    .dataframe thead th {\n",
       "        text-align: right;\n",
       "    }\n",
       "</style>\n",
       "<table border=\"1\" class=\"dataframe\">\n",
       "  <thead>\n",
       "    <tr style=\"text-align: right;\">\n",
       "      <th></th>\n",
       "      <th>drive_age_in_years</th>\n",
       "    </tr>\n",
       "  </thead>\n",
       "  <tbody>\n",
       "    <tr>\n",
       "      <th>count</th>\n",
       "      <td>161828.000000</td>\n",
       "    </tr>\n",
       "    <tr>\n",
       "      <th>mean</th>\n",
       "      <td>2.722680</td>\n",
       "    </tr>\n",
       "    <tr>\n",
       "      <th>std</th>\n",
       "      <td>1.524778</td>\n",
       "    </tr>\n",
       "    <tr>\n",
       "      <th>min</th>\n",
       "      <td>0.000000</td>\n",
       "    </tr>\n",
       "    <tr>\n",
       "      <th>25%</th>\n",
       "      <td>1.600000</td>\n",
       "    </tr>\n",
       "    <tr>\n",
       "      <th>50%</th>\n",
       "      <td>2.600000</td>\n",
       "    </tr>\n",
       "    <tr>\n",
       "      <th>75%</th>\n",
       "      <td>4.000000</td>\n",
       "    </tr>\n",
       "    <tr>\n",
       "      <th>max</th>\n",
       "      <td>10.300000</td>\n",
       "    </tr>\n",
       "  </tbody>\n",
       "</table>\n",
       "</div>"
      ],
      "text/plain": [
       "       drive_age_in_years\n",
       "count       161828.000000\n",
       "mean             2.722680\n",
       "std              1.524778\n",
       "min              0.000000\n",
       "25%              1.600000\n",
       "50%              2.600000\n",
       "75%              4.000000\n",
       "max             10.300000"
      ]
     },
     "execution_count": 34,
     "metadata": {},
     "output_type": "execute_result"
    }
   ],
   "source": [
    "df[['drive_age_in_years']].describe()"
   ]
  },
  {
   "cell_type": "markdown",
   "metadata": {},
   "source": [
    "The `explore.early_failure` function creates a column in the dataframe that identifies drives that are early failures.\n",
    "\n",
    "The `old_or_fail` function drops rows containing drives that have not failed and are not older than the cut off."
   ]
  },
  {
   "cell_type": "code",
   "execution_count": 35,
   "metadata": {},
   "outputs": [
    {
     "name": "stderr",
     "output_type": "stream",
     "text": [
      "/Users/davidtenorio/codeup-data-science/hard-drive-project/explore.py:8: SettingWithCopyWarning: \n",
      "A value is trying to be set on a copy of a slice from a DataFrame\n",
      "\n",
      "See the caveats in the documentation: http://pandas.pydata.org/pandas-docs/stable/indexing.html#indexing-view-versus-copy\n",
      "  df['early_failure'][df.drive_age_in_years<=cut_off] = 1\n",
      "/Users/davidtenorio/codeup-data-science/hard-drive-project/explore.py:9: SettingWithCopyWarning: \n",
      "A value is trying to be set on a copy of a slice from a DataFrame\n",
      "\n",
      "See the caveats in the documentation: http://pandas.pydata.org/pandas-docs/stable/indexing.html#indexing-view-versus-copy\n",
      "  df['early_failure'][df.drive_age_in_years>cut_off] = 0\n"
     ]
    }
   ],
   "source": [
    "df = explore.early_failure(df,1.6)\n",
    "df = prepare.old_or_fail(df,1.6)"
   ]
  },
  {
   "cell_type": "code",
   "execution_count": 36,
   "metadata": {},
   "outputs": [
    {
     "data": {
      "text/html": [
       "<div>\n",
       "<style scoped>\n",
       "    .dataframe tbody tr th:only-of-type {\n",
       "        vertical-align: middle;\n",
       "    }\n",
       "\n",
       "    .dataframe tbody tr th {\n",
       "        vertical-align: top;\n",
       "    }\n",
       "\n",
       "    .dataframe thead th {\n",
       "        text-align: right;\n",
       "    }\n",
       "</style>\n",
       "<table border=\"1\" class=\"dataframe\">\n",
       "  <thead>\n",
       "    <tr style=\"text-align: right;\">\n",
       "      <th></th>\n",
       "      <th>serial_number</th>\n",
       "      <th>manufacturer</th>\n",
       "      <th>model</th>\n",
       "      <th>capacity_gigabytes</th>\n",
       "      <th>failure</th>\n",
       "      <th>drive_age_in_years</th>\n",
       "      <th>reallocated_sectors_count</th>\n",
       "      <th>reported_uncorrectable_errors</th>\n",
       "      <th>command_timeout</th>\n",
       "      <th>current_pending_sector_count</th>\n",
       "      <th>uncorrectable_sector_count</th>\n",
       "      <th>early_failure</th>\n",
       "    </tr>\n",
       "  </thead>\n",
       "  <tbody>\n",
       "    <tr>\n",
       "      <th>0</th>\n",
       "      <td>PL1311LAG1SJAA</td>\n",
       "      <td>Hitachi</td>\n",
       "      <td>Hitachi HDS5C4040ALE630</td>\n",
       "      <td>4001.0</td>\n",
       "      <td>0</td>\n",
       "      <td>5.0</td>\n",
       "      <td>0.0</td>\n",
       "      <td>0.0</td>\n",
       "      <td>0.0</td>\n",
       "      <td>0.0</td>\n",
       "      <td>0.0</td>\n",
       "      <td>0</td>\n",
       "    </tr>\n",
       "    <tr>\n",
       "      <th>1</th>\n",
       "      <td>Z305KB36</td>\n",
       "      <td>Seagate</td>\n",
       "      <td>ST4000DM000</td>\n",
       "      <td>4001.0</td>\n",
       "      <td>0</td>\n",
       "      <td>3.5</td>\n",
       "      <td>0.0</td>\n",
       "      <td>0.0</td>\n",
       "      <td>0.0</td>\n",
       "      <td>0.0</td>\n",
       "      <td>0.0</td>\n",
       "      <td>0</td>\n",
       "    </tr>\n",
       "    <tr>\n",
       "      <th>2</th>\n",
       "      <td>MJ0351YNG9MZXA</td>\n",
       "      <td>Hitachi</td>\n",
       "      <td>Hitachi HDS5C3030ALA630</td>\n",
       "      <td>3001.0</td>\n",
       "      <td>0</td>\n",
       "      <td>4.8</td>\n",
       "      <td>0.0</td>\n",
       "      <td>0.0</td>\n",
       "      <td>0.0</td>\n",
       "      <td>0.0</td>\n",
       "      <td>0.0</td>\n",
       "      <td>0</td>\n",
       "    </tr>\n",
       "    <tr>\n",
       "      <th>3</th>\n",
       "      <td>ZA11NHSN</td>\n",
       "      <td>Seagate</td>\n",
       "      <td>ST8000DM002</td>\n",
       "      <td>8002.0</td>\n",
       "      <td>0</td>\n",
       "      <td>3.0</td>\n",
       "      <td>0.0</td>\n",
       "      <td>0.0</td>\n",
       "      <td>0.0</td>\n",
       "      <td>0.0</td>\n",
       "      <td>0.0</td>\n",
       "      <td>0</td>\n",
       "    </tr>\n",
       "    <tr>\n",
       "      <th>4</th>\n",
       "      <td>MJ1311YNG2ZSEA</td>\n",
       "      <td>Hitachi</td>\n",
       "      <td>Hitachi HDS5C3030ALA630</td>\n",
       "      <td>3001.0</td>\n",
       "      <td>0</td>\n",
       "      <td>5.5</td>\n",
       "      <td>0.0</td>\n",
       "      <td>0.0</td>\n",
       "      <td>0.0</td>\n",
       "      <td>0.0</td>\n",
       "      <td>0.0</td>\n",
       "      <td>0</td>\n",
       "    </tr>\n",
       "  </tbody>\n",
       "</table>\n",
       "</div>"
      ],
      "text/plain": [
       "    serial_number manufacturer                    model  capacity_gigabytes  \\\n",
       "0  PL1311LAG1SJAA      Hitachi  Hitachi HDS5C4040ALE630              4001.0   \n",
       "1        Z305KB36      Seagate              ST4000DM000              4001.0   \n",
       "2  MJ0351YNG9MZXA      Hitachi  Hitachi HDS5C3030ALA630              3001.0   \n",
       "3        ZA11NHSN      Seagate              ST8000DM002              8002.0   \n",
       "4  MJ1311YNG2ZSEA      Hitachi  Hitachi HDS5C3030ALA630              3001.0   \n",
       "\n",
       "   failure  drive_age_in_years  reallocated_sectors_count  \\\n",
       "0        0                 5.0                        0.0   \n",
       "1        0                 3.5                        0.0   \n",
       "2        0                 4.8                        0.0   \n",
       "3        0                 3.0                        0.0   \n",
       "4        0                 5.5                        0.0   \n",
       "\n",
       "   reported_uncorrectable_errors  command_timeout  \\\n",
       "0                            0.0              0.0   \n",
       "1                            0.0              0.0   \n",
       "2                            0.0              0.0   \n",
       "3                            0.0              0.0   \n",
       "4                            0.0              0.0   \n",
       "\n",
       "   current_pending_sector_count  uncorrectable_sector_count  early_failure  \n",
       "0                           0.0                         0.0              0  \n",
       "1                           0.0                         0.0              0  \n",
       "2                           0.0                         0.0              0  \n",
       "3                           0.0                         0.0              0  \n",
       "4                           0.0                         0.0              0  "
      ]
     },
     "execution_count": 36,
     "metadata": {},
     "output_type": "execute_result"
    }
   ],
   "source": [
    "df.head()"
   ]
  },
  {
   "cell_type": "markdown",
   "metadata": {},
   "source": [
    "#### Which SMART attributes correlate most strongly with early failure?"
   ]
  },
  {
   "cell_type": "markdown",
   "metadata": {},
   "source": [
    "The five smart test features we are presenting count the occurrence of different types of errors that can occur in hard drives. For each type a count of above zero indicates that a hard drive should be replaced quickly due to a risk of failure. Because these errors occur far more frequently in early failures than in non-early failures, all of these SMART seem to be a good indicator for early failures. "
   ]
  },
  {
   "cell_type": "code",
   "execution_count": 37,
   "metadata": {},
   "outputs": [
    {
     "data": {
      "text/plain": [
       "<matplotlib.axes._subplots.AxesSubplot at 0x1208b5b00>"
      ]
     },
     "execution_count": 37,
     "metadata": {},
     "output_type": "execute_result"
    },
    {
     "data": {
      "image/png": "[encoded data removed]",
      "text/plain": [
       "<Figure size 432x288 with 1 Axes>"
      ]
     },
     "metadata": {
      "needs_background": "light"
     },
     "output_type": "display_data"
    }
   ],
   "source": [
    "sns.barplot(df.early_failure,df.reallocated_sectors_count)"
   ]
  },
  {
   "cell_type": "code",
   "execution_count": 38,
   "metadata": {},
   "outputs": [
    {
     "data": {
      "text/plain": [
       "<matplotlib.axes._subplots.AxesSubplot at 0x11fcd84a8>"
      ]
     },
     "execution_count": 38,
     "metadata": {},
     "output_type": "execute_result"
    },
    {
     "data": {
      "image/png": "[encoded data removed]",
      "text/plain": [
       "<Figure size 432x288 with 1 Axes>"
      ]
     },
     "metadata": {
      "needs_background": "light"
     },
     "output_type": "display_data"
    }
   ],
   "source": [
    "sns.barplot(df.early_failure,df.reported_uncorrectable_errors)"
   ]
  },
  {
   "cell_type": "code",
   "execution_count": 39,
   "metadata": {},
   "outputs": [
    {
     "data": {
      "text/plain": [
       "<matplotlib.axes._subplots.AxesSubplot at 0x11f839ef0>"
      ]
     },
     "execution_count": 39,
     "metadata": {},
     "output_type": "execute_result"
    },
    {
     "data": {
      "image/png": "[encoded data removed]",
      "text/plain": [
       "<Figure size 432x288 with 1 Axes>"
      ]
     },
     "metadata": {
      "needs_background": "light"
     },
     "output_type": "display_data"
    }
   ],
   "source": [
    "sns.barplot(df.early_failure,df.command_timeout)"
   ]
  },
  {
   "cell_type": "code",
   "execution_count": 40,
   "metadata": {},
   "outputs": [
    {
     "data": {
      "text/plain": [
       "<matplotlib.axes._subplots.AxesSubplot at 0x1206f2320>"
      ]
     },
     "execution_count": 40,
     "metadata": {},
     "output_type": "execute_result"
    },
    {
     "data": {
      "image/png": "[encoded data removed]",
      "text/plain": [
       "<Figure size 432x288 with 1 Axes>"
      ]
     },
     "metadata": {
      "needs_background": "light"
     },
     "output_type": "display_data"
    }
   ],
   "source": [
    "sns.barplot(df.early_failure,df.current_pending_sector_count)"
   ]
  },
  {
   "cell_type": "code",
   "execution_count": 41,
   "metadata": {},
   "outputs": [
    {
     "data": {
      "text/plain": [
       "<matplotlib.axes._subplots.AxesSubplot at 0x11fa3a668>"
      ]
     },
     "execution_count": 41,
     "metadata": {},
     "output_type": "execute_result"
    },
    {
     "data": {
      "image/png": "[encoded data removed]",
      "text/plain": [
       "<Figure size 432x288 with 1 Axes>"
      ]
     },
     "metadata": {
      "needs_background": "light"
     },
     "output_type": "display_data"
    }
   ],
   "source": [
    "sns.barplot(df.early_failure,df.uncorrectable_sector_count)"
   ]
  },
  {
   "cell_type": "markdown",
   "metadata": {},
   "source": [
    "#### Which features or combination of features correlate with early failure?"
   ]
  },
  {
   "cell_type": "markdown",
   "metadata": {},
   "source": [
    "Of the four manufacturers we have data on, Toshiba produces significantly more early failures"
   ]
  },
  {
   "cell_type": "code",
   "execution_count": 42,
   "metadata": {},
   "outputs": [
    {
     "data": {
      "text/plain": [
       "<matplotlib.axes._subplots.AxesSubplot at 0x11f89b8d0>"
      ]
     },
     "execution_count": 42,
     "metadata": {},
     "output_type": "execute_result"
    },
    {
     "data": {
      "image/png": "[encoded data removed]",
      "text/plain": [
       "<Figure size 432x288 with 1 Axes>"
      ]
     },
     "metadata": {
      "needs_background": "light"
     },
     "output_type": "display_data"
    }
   ],
   "source": [
    "sns.barplot(df.manufacturer,df.early_failure)"
   ]
  },
  {
   "cell_type": "markdown",
   "metadata": {},
   "source": [
    "Failure rate dramatically increases in drives that have a 14,000 gigabyte capacity."
   ]
  },
  {
   "cell_type": "code",
   "execution_count": 43,
   "metadata": {},
   "outputs": [
    {
     "data": {
      "text/plain": [
       "<matplotlib.axes._subplots.AxesSubplot at 0x120cce470>"
      ]
     },
     "execution_count": 43,
     "metadata": {},
     "output_type": "execute_result"
    },
    {
     "data": {
      "image/png": "[encoded data removed]",
      "text/plain": [
       "<Figure size 864x864 with 1 Axes>"
      ]
     },
     "metadata": {},
     "output_type": "display_data"
    }
   ],
   "source": [
    "sns.set(rc={'figure.figsize':(12,12)})\n",
    "sns.barplot(df.capacity_gigabytes,df.early_failure)"
   ]
  },
  {
   "cell_type": "code",
   "execution_count": null,
   "metadata": {},
   "outputs": [],
   "source": []
  }
 ],
 "metadata": {
  "kernelspec": {
   "display_name": "Python 3",
   "language": "python",
   "name": "python3"
  },
  "language_info": {
   "codemirror_mode": {
    "name": "ipython",
    "version": 3
   },
   "file_extension": ".py",
   "mimetype": "text/x-python",
   "name": "python",
   "nbconvert_exporter": "python",
   "pygments_lexer": "ipython3",
   "version": "3.7.3"
  },
  "toc": {
   "base_numbering": 1,
   "nav_menu": {},
   "number_sections": false,
   "sideBar": true,
   "skip_h1_title": true,
   "title_cell": "Table of Contents",
   "title_sidebar": "Contents",
   "toc_cell": false,
   "toc_position": {},
   "toc_section_display": true,
   "toc_window_display": false
  }
 },
 "nbformat": 4,
 "nbformat_minor": 2
}
